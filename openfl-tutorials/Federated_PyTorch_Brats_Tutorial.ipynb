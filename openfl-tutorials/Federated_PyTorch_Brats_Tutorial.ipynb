{
 "cells": [
  {
   "cell_type": "markdown",
   "id": "figured-aspect",
   "metadata": {},
   "source": [
    "# Federated PyTorch 3dUNET Tutorial "
   ]
  },
  {
   "cell_type": "code",
   "execution_count": 1,
   "id": "loaded-puppy",
   "metadata": {
    "scrolled": true
   },
   "outputs": [
    {
     "name": "stdout",
     "output_type": "stream",
     "text": [
      "Requirement already satisfied: torch in /home/radionov/.envs/dl_env/lib/python3.6/site-packages (1.7.1)\r\n",
      "Requirement already satisfied: typing-extensions in /home/radionov/.envs/dl_env/lib/python3.6/site-packages (from torch) (3.7.4.3)\r\n",
      "Requirement already satisfied: numpy in /home/radionov/.envs/dl_env/lib/python3.6/site-packages (from torch) (1.19.5)\r\n",
      "Requirement already satisfied: dataclasses in /home/radionov/.envs/dl_env/lib/python3.6/site-packages (from torch) (0.7)\r\n"
     ]
    }
   ],
   "source": [
    "# Install dependencies if not already installed\n",
    "!pip install torch"
   ]
  },
  {
   "cell_type": "code",
   "execution_count": 2,
   "id": "iraqi-parameter",
   "metadata": {},
   "outputs": [
    {
     "name": "stdout",
     "output_type": "stream",
     "text": [
      "Creating Workspace Directories\n",
      "Creating Workspace Templates\n",
      "Successfully installed packages from /home/radionov/.local/workspace/requirements.txt.\n",
      "\n",
      "New workspace directory structure:\n",
      "workspace\n",
      "├── hyper-kvasir-segmented-images.zip\n",
      "├── .workspace\n",
      "├── data\n",
      "│   ├── segmented-images\n",
      "│   │   ├── images\n",
      "│   │   ├── bounding-boxes.json\n",
      "│   │   ├── license.txt\n",
      "│   │   └── masks\n",
      "│   ├── MICCAI_BraTS2020_TrainingData\n",
      "│   │   ├── BraTS20_Training_210\n",
      "│   │   ├── BraTS20_Training_023\n",
      "│   │   ├── BraTS20_Training_101\n",
      "│   │   ├── BraTS20_Training_227\n",
      "│   │   ├── BraTS20_Training_097\n",
      "│   │   ├── BraTS20_Training_046\n",
      "│   │   ├── BraTS20_Training_038\n",
      "│   │   ├── BraTS20_Training_296\n",
      "│   │   ├── BraTS20_Training_302\n",
      "│   │   ├── BraTS20_Training_211\n",
      "│   │   ├── BraTS20_Training_040\n",
      "│   │   ├── BraTS20_Training_099\n",
      "│   │   ├── BraTS20_Training_140\n",
      "│   │   ├── BraTS20_Training_272\n",
      "│   │   ├── BraTS20_Training_027\n",
      "│   │   ├── BraTS20_Training_098\n",
      "│   │   ├── BraTS20_Training_356\n",
      "│   │   ├── BraTS20_Training_112\n",
      "│   │   ├── BraTS20_Training_163\n",
      "│   │   ├── BraTS20_Training_312\n",
      "│   │   ├── BraTS20_Training_334\n",
      "│   │   ├── BraTS20_Training_186\n",
      "│   │   ├── BraTS20_Training_282\n",
      "│   │   ├── BraTS20_Training_003\n",
      "│   │   ├── BraTS20_Training_346\n",
      "│   │   ├── BraTS20_Training_135\n",
      "│   │   ├── BraTS20_Training_072\n",
      "│   │   ├── BraTS20_Training_260\n",
      "│   │   ├── BraTS20_Training_329\n",
      "│   │   ├── BraTS20_Training_057\n",
      "│   │   ├── BraTS20_Training_183\n",
      "│   │   ├── BraTS20_Training_107\n",
      "│   │   ├── BraTS20_Training_293\n",
      "│   │   ├── BraTS20_Training_321\n",
      "│   │   ├── BraTS20_Training_285\n",
      "│   │   ├── BraTS20_Training_288\n",
      "│   │   ├── BraTS20_Training_362\n",
      "│   │   ├── BraTS20_Training_155\n",
      "│   │   ├── BraTS20_Training_175\n",
      "│   │   ├── BraTS20_Training_087\n",
      "│   │   ├── BraTS20_Training_367\n",
      "│   │   ├── BraTS20_Training_021\n",
      "│   │   ├── BraTS20_Training_197\n",
      "│   │   ├── BraTS20_Training_171\n",
      "│   │   ├── BraTS20_Training_361\n",
      "│   │   ├── BraTS20_Training_090\n",
      "│   │   ├── BraTS20_Training_005\n",
      "│   │   ├── BraTS20_Training_191\n",
      "│   │   ├── BraTS20_Training_025\n",
      "│   │   ├── BraTS20_Training_036\n",
      "│   │   ├── BraTS20_Training_209\n",
      "│   │   ├── BraTS20_Training_096\n",
      "│   │   ├── BraTS20_Training_051\n",
      "│   │   ├── BraTS20_Training_196\n",
      "│   │   ├── BraTS20_Training_111\n",
      "│   │   ├── BraTS20_Training_286\n",
      "│   │   ├── BraTS20_Training_050\n",
      "│   │   ├── BraTS20_Training_303\n",
      "│   │   ├── BraTS20_Training_161\n",
      "│   │   ├── BraTS20_Training_193\n",
      "│   │   ├── BraTS20_Training_315\n",
      "│   │   ├── BraTS20_Training_004\n",
      "│   │   ├── BraTS20_Training_167\n",
      "│   │   ├── BraTS20_Training_216\n",
      "│   │   ├── BraTS20_Training_224\n",
      "│   │   ├── BraTS20_Training_248\n",
      "│   │   ├── BraTS20_Training_053\n",
      "│   │   ├── BraTS20_Training_077\n",
      "│   │   ├── BraTS20_Training_247\n",
      "│   │   ├── BraTS20_Training_298\n",
      "│   │   ├── BraTS20_Training_143\n",
      "│   │   ├── BraTS20_Training_323\n",
      "│   │   ├── BraTS20_Training_084\n",
      "│   │   ├── BraTS20_Training_137\n",
      "│   │   ├── BraTS20_Training_145\n",
      "│   │   ├── BraTS20_Training_314\n",
      "│   │   ├── BraTS20_Training_287\n",
      "│   │   ├── BraTS20_Training_308\n",
      "│   │   ├── BraTS20_Training_113\n",
      "│   │   ├── BraTS20_Training_170\n",
      "│   │   ├── BraTS20_Training_100\n",
      "│   │   ├── BraTS20_Training_271\n",
      "│   │   ├── BraTS20_Training_221\n",
      "│   │   ├── BraTS20_Training_307\n",
      "│   │   ├── BraTS20_Training_249\n",
      "│   │   ├── BraTS20_Training_019\n",
      "│   │   ├── BraTS20_Training_309\n",
      "│   │   ├── BraTS20_Training_316\n",
      "│   │   ├── BraTS20_Training_231\n",
      "│   │   ├── BraTS20_Training_061\n",
      "│   │   ├── BraTS20_Training_332\n",
      "│   │   ├── BraTS20_Training_176\n",
      "│   │   ├── BraTS20_Training_301\n",
      "│   │   ├── BraTS20_Training_008\n",
      "│   │   ├── BraTS20_Training_223\n",
      "│   │   ├── BraTS20_Training_181\n",
      "│   │   ├── BraTS20_Training_206\n",
      "│   │   ├── BraTS20_Training_317\n",
      "│   │   ├── BraTS20_Training_311\n",
      "│   │   ├── BraTS20_Training_150\n",
      "│   │   ├── BraTS20_Training_131\n",
      "│   │   ├── BraTS20_Training_141\n",
      "│   │   ├── BraTS20_Training_152\n",
      "│   │   ├── BraTS20_Training_255\n",
      "│   │   ├── BraTS20_Training_014\n",
      "│   │   ├── BraTS20_Training_192\n",
      "│   │   ├── BraTS20_Training_300\n",
      "│   │   ├── BraTS20_Training_354\n",
      "│   │   ├── BraTS20_Training_355\n",
      "│   │   ├── BraTS20_Training_173\n",
      "│   │   ├── BraTS20_Training_164\n",
      "│   │   ├── BraTS20_Training_269\n",
      "│   │   ├── BraTS20_Training_190\n",
      "│   │   ├── BraTS20_Training_198\n",
      "│   │   ├── BraTS20_Training_094\n",
      "│   │   ├── BraTS20_Training_189\n",
      "│   │   ├── BraTS20_Training_149\n",
      "│   │   ├── BraTS20_Training_066\n",
      "│   │   ├── BraTS20_Training_124\n",
      "│   │   ├── BraTS20_Training_184\n",
      "│   │   ├── BraTS20_Training_292\n",
      "│   │   ├── BraTS20_Training_134\n",
      "│   │   ├── BraTS20_Training_054\n",
      "│   │   ├── BraTS20_Training_350\n",
      "│   │   ├── BraTS20_Training_056\n",
      "│   │   ├── BraTS20_Training_358\n",
      "│   │   ├── BraTS20_Training_031\n",
      "│   │   ├── BraTS20_Training_076\n",
      "│   │   ├── BraTS20_Training_119\n",
      "│   │   ├── BraTS20_Training_068\n",
      "│   │   ├── BraTS20_Training_352\n",
      "│   │   ├── BraTS20_Training_229\n",
      "│   │   ├── BraTS20_Training_237\n",
      "│   │   ├── BraTS20_Training_078\n",
      "│   │   ├── BraTS20_Training_291\n",
      "│   │   ├── BraTS20_Training_049\n",
      "│   │   ├── BraTS20_Training_219\n",
      "│   │   ├── BraTS20_Training_151\n",
      "│   │   ├── BraTS20_Training_159\n",
      "│   │   ├── BraTS20_Training_007\n",
      "│   │   ├── BraTS20_Training_039\n",
      "│   │   ├── BraTS20_Training_074\n",
      "│   │   ├── BraTS20_Training_071\n",
      "│   │   ├── BraTS20_Training_148\n",
      "│   │   ├── BraTS20_Training_069\n",
      "│   │   ├── BraTS20_Training_232\n",
      "│   │   ├── BraTS20_Training_195\n",
      "│   │   ├── BraTS20_Training_178\n",
      "│   │   ├── BraTS20_Training_299\n",
      "│   │   ├── BraTS20_Training_337\n",
      "│   │   ├── BraTS20_Training_083\n",
      "│   │   ├── BraTS20_Training_283\n",
      "│   │   ├── BraTS20_Training_212\n",
      "│   │   ├── BraTS20_Training_045\n",
      "│   │   ├── BraTS20_Training_158\n",
      "│   │   ├── BraTS20_Training_339\n",
      "│   │   ├── BraTS20_Training_125\n",
      "│   │   ├── BraTS20_Training_073\n",
      "│   │   ├── survival_info.csv\n",
      "│   │   ├── BraTS20_Training_360\n",
      "│   │   ├── BraTS20_Training_121\n",
      "│   │   ├── BraTS20_Training_270\n",
      "│   │   ├── BraTS20_Training_290\n",
      "│   │   ├── BraTS20_Training_338\n",
      "│   │   ├── BraTS20_Training_114\n",
      "│   │   ├── BraTS20_Training_199\n",
      "│   │   ├── BraTS20_Training_241\n",
      "│   │   ├── BraTS20_Training_185\n",
      "│   │   ├── BraTS20_Training_020\n",
      "│   │   ├── BraTS20_Training_132\n",
      "│   │   ├── BraTS20_Training_136\n",
      "│   │   ├── BraTS20_Training_035\n",
      "│   │   ├── BraTS20_Training_234\n",
      "│   │   ├── BraTS20_Training_006\n",
      "│   │   ├── BraTS20_Training_289\n",
      "│   │   ├── BraTS20_Training_277\n",
      "│   │   ├── BraTS20_Training_026\n",
      "│   │   ├── BraTS20_Training_168\n",
      "│   │   ├── BraTS20_Training_138\n",
      "│   │   ├── BraTS20_Training_327\n",
      "│   │   ├── BraTS20_Training_328\n",
      "│   │   ├── BraTS20_Training_215\n",
      "│   │   ├── BraTS20_Training_281\n",
      "│   │   ├── BraTS20_Training_363\n",
      "│   │   ├── BraTS20_Training_165\n",
      "│   │   ├── BraTS20_Training_273\n",
      "│   │   ├── BraTS20_Training_081\n",
      "│   │   ├── BraTS20_Training_230\n",
      "│   │   ├── BraTS20_Training_065\n",
      "│   │   ├── BraTS20_Training_280\n",
      "│   │   ├── BraTS20_Training_120\n",
      "│   │   ├── BraTS20_Training_154\n",
      "│   │   ├── BraTS20_Training_243\n",
      "│   │   ├── BraTS20_Training_105\n",
      "│   │   ├── BraTS20_Training_349\n",
      "│   │   ├── BraTS20_Training_156\n",
      "│   │   ├── BraTS20_Training_085\n",
      "│   │   ├── BraTS20_Training_147\n",
      "│   │   ├── BraTS20_Training_110\n",
      "│   │   ├── BraTS20_Training_059\n",
      "│   │   ├── BraTS20_Training_080\n",
      "│   │   ├── BraTS20_Training_024\n",
      "│   │   ├── BraTS20_Training_245\n",
      "│   │   ├── BraTS20_Training_139\n",
      "│   │   ├── BraTS20_Training_265\n",
      "│   │   ├── BraTS20_Training_102\n",
      "│   │   ├── BraTS20_Training_267\n",
      "│   │   ├── BraTS20_Training_306\n",
      "│   │   ├── BraTS20_Training_240\n",
      "│   │   ├── BraTS20_Training_157\n",
      "│   │   ├── BraTS20_Training_116\n",
      "│   │   ├── BraTS20_Training_347\n",
      "│   │   ├── BraTS20_Training_126\n",
      "│   │   ├── BraTS20_Training_028\n",
      "│   │   ├── BraTS20_Training_342\n",
      "│   │   ├── BraTS20_Training_274\n",
      "│   │   ├── BraTS20_Training_244\n",
      "│   │   ├── BraTS20_Training_262\n",
      "│   │   ├── BraTS20_Training_343\n",
      "│   │   ├── BraTS20_Training_086\n",
      "│   │   ├── BraTS20_Training_169\n",
      "│   │   ├── BraTS20_Training_294\n",
      "│   │   ├── BraTS20_Training_109\n",
      "│   │   ├── BraTS20_Training_011\n",
      "│   │   ├── BraTS20_Training_235\n",
      "│   │   ├── BraTS20_Training_254\n",
      "│   │   ├── BraTS20_Training_106\n",
      "│   │   ├── BraTS20_Training_064\n",
      "│   │   ├── BraTS20_Training_180\n",
      "│   │   ├── BraTS20_Training_261\n",
      "│   │   ├── BraTS20_Training_207\n",
      "│   │   ├── BraTS20_Training_055\n",
      "│   │   ├── BraTS20_Training_368\n",
      "│   │   ├── BraTS20_Training_047\n",
      "│   │   ├── BraTS20_Training_070\n",
      "│   │   ├── BraTS20_Training_369\n"
     ]
    },
    {
     "name": "stdout",
     "output_type": "stream",
     "text": [
      "│   │   ├── BraTS20_Training_133\n",
      "│   │   ├── BraTS20_Training_062\n",
      "│   │   ├── BraTS20_Training_201\n",
      "│   │   ├── BraTS20_Training_228\n",
      "│   │   ├── BraTS20_Training_295\n",
      "│   │   ├── BraTS20_Training_214\n",
      "│   │   ├── BraTS20_Training_122\n",
      "│   │   ├── BraTS20_Training_030\n",
      "│   │   ├── BraTS20_Training_320\n",
      "│   │   ├── BraTS20_Training_222\n",
      "│   │   ├── BraTS20_Training_304\n",
      "│   │   ├── BraTS20_Training_103\n",
      "│   │   ├── BraTS20_Training_032\n",
      "│   │   ├── BraTS20_Training_330\n",
      "│   │   ├── BraTS20_Training_060\n",
      "│   │   ├── BraTS20_Training_276\n",
      "│   │   ├── BraTS20_Training_364\n",
      "│   │   ├── BraTS20_Training_029\n",
      "│   │   ├── BraTS20_Training_034\n",
      "│   │   ├── BraTS20_Training_166\n",
      "│   │   ├── BraTS20_Training_205\n",
      "│   │   ├── BraTS20_Training_093\n",
      "│   │   ├── BraTS20_Training_041\n",
      "│   │   ├── BraTS20_Training_002\n",
      "│   │   ├── BraTS20_Training_188\n",
      "│   │   ├── BraTS20_Training_213\n",
      "│   │   ├── BraTS20_Training_322\n",
      "│   │   ├── BraTS20_Training_033\n",
      "│   │   ├── BraTS20_Training_335\n",
      "│   │   ├── name_mapping.csv\n",
      "│   │   ├── BraTS20_Training_310\n",
      "│   │   ├── BraTS20_Training_278\n",
      "│   │   ├── BraTS20_Training_182\n",
      "│   │   ├── BraTS20_Training_016\n",
      "│   │   ├── BraTS20_Training_225\n",
      "│   │   ├── BraTS20_Training_297\n",
      "│   │   ├── BraTS20_Training_318\n",
      "│   │   ├── BraTS20_Training_044\n",
      "│   │   ├── BraTS20_Training_226\n",
      "│   │   ├── BraTS20_Training_263\n",
      "│   │   ├── BraTS20_Training_187\n",
      "│   │   ├── BraTS20_Training_117\n",
      "│   │   ├── BraTS20_Training_123\n",
      "│   │   ├── BraTS20_Training_043\n",
      "│   │   ├── BraTS20_Training_345\n",
      "│   │   ├── BraTS20_Training_233\n",
      "│   │   ├── BraTS20_Training_010\n",
      "│   │   ├── BraTS20_Training_067\n",
      "│   │   ├── BraTS20_Training_052\n",
      "│   │   ├── BraTS20_Training_257\n",
      "│   │   ├── BraTS20_Training_128\n",
      "│   │   ├── BraTS20_Training_220\n",
      "│   │   ├── BraTS20_Training_089\n",
      "│   │   ├── BraTS20_Training_001\n",
      "│   │   ├── BraTS20_Training_058\n",
      "│   │   ├── BraTS20_Training_325\n",
      "│   │   ├── BraTS20_Training_200\n",
      "│   │   ├── BraTS20_Training_129\n",
      "│   │   ├── BraTS20_Training_095\n",
      "│   │   ├── BraTS20_Training_015\n",
      "│   │   ├── BraTS20_Training_340\n",
      "│   │   ├── BraTS20_Training_305\n",
      "│   │   ├── BraTS20_Training_238\n",
      "│   │   ├── BraTS20_Training_258\n",
      "│   │   ├── BraTS20_Training_251\n",
      "│   │   ├── BraTS20_Training_079\n",
      "│   │   ├── BraTS20_Training_017\n",
      "│   │   ├── BraTS20_Training_341\n",
      "│   │   ├── BraTS20_Training_326\n",
      "│   │   ├── BraTS20_Training_365\n",
      "│   │   ├── BraTS20_Training_063\n",
      "│   │   ├── BraTS20_Training_012\n",
      "│   │   ├── BraTS20_Training_284\n",
      "│   │   ├── BraTS20_Training_172\n",
      "│   │   ├── BraTS20_Training_357\n",
      "│   │   ├── BraTS20_Training_088\n",
      "│   │   ├── BraTS20_Training_268\n",
      "│   │   ├── BraTS20_Training_333\n",
      "│   │   ├── BraTS20_Training_246\n",
      "│   │   ├── BraTS20_Training_250\n",
      "│   │   ├── BraTS20_Training_259\n",
      "│   │   ├── BraTS20_Training_179\n",
      "│   │   ├── BraTS20_Training_208\n",
      "│   │   ├── BraTS20_Training_242\n",
      "│   │   ├── BraTS20_Training_252\n",
      "│   │   ├── BraTS20_Training_075\n",
      "│   │   ├── BraTS20_Training_217\n",
      "│   │   ├── BraTS20_Training_239\n",
      "│   │   ├── BraTS20_Training_162\n",
      "│   │   ├── BraTS20_Training_204\n",
      "│   │   ├── BraTS20_Training_218\n",
      "│   │   ├── BraTS20_Training_336\n",
      "│   │   ├── BraTS20_Training_194\n",
      "│   │   ├── BraTS20_Training_048\n",
      "│   │   ├── BraTS20_Training_177\n",
      "│   │   ├── BraTS20_Training_253\n",
      "│   │   ├── BraTS20_Training_127\n",
      "│   │   ├── BraTS20_Training_091\n",
      "│   │   ├── BraTS20_Training_264\n",
      "│   │   ├── BraTS20_Training_108\n",
      "│   │   ├── BraTS20_Training_202\n",
      "│   │   ├── BraTS20_Training_082\n",
      "│   │   ├── BraTS20_Training_275\n",
      "│   │   ├── BraTS20_Training_266\n",
      "│   │   ├── BraTS20_Training_344\n",
      "│   │   ├── BraTS20_Training_331\n",
      "│   │   ├── BraTS20_Training_348\n",
      "│   │   ├── BraTS20_Training_366\n",
      "│   │   ├── BraTS20_Training_353\n",
      "│   │   ├── BraTS20_Training_146\n",
      "│   │   ├── BraTS20_Training_279\n",
      "│   │   ├── BraTS20_Training_037\n",
      "│   │   ├── BraTS20_Training_142\n",
      "│   │   ├── BraTS20_Training_009\n",
      "│   │   ├── BraTS20_Training_256\n",
      "│   │   ├── BraTS20_Training_359\n",
      "│   │   ├── BraTS20_Training_319\n",
      "│   │   ├── BraTS20_Training_042\n",
      "│   │   ├── BraTS20_Training_236\n",
      "│   │   ├── BraTS20_Training_160\n",
      "│   │   ├── BraTS20_Training_118\n",
      "│   │   ├── BraTS20_Training_092\n",
      "│   │   ├── BraTS20_Training_313\n",
      "│   │   ├── BraTS20_Training_203\n",
      "│   │   ├── BraTS20_Training_144\n",
      "│   │   ├── BraTS20_Training_174\n",
      "│   │   ├── BraTS20_Training_104\n",
      "│   │   ├── BraTS20_Training_013\n",
      "│   │   ├── BraTS20_Training_018\n",
      "│   │   ├── BraTS20_Training_022\n",
      "│   │   ├── BraTS20_Training_351\n",
      "│   │   ├── BraTS20_Training_153\n",
      "│   │   ├── BraTS20_Training_130\n",
      "│   │   ├── BraTS20_Training_115\n",
      "│   │   └── BraTS20_Training_324\n",
      "│   └── MNIST\n",
      "│       ├── raw\n",
      "│       └── processed\n",
      "├── cert\n",
      "│   ├── col_one.csr\n",
      "│   ├── server\n",
      "│   │   ├── agg_nnlicv674.crt\n",
      "│   │   ├── agg_nnlicv674.key\n",
      "│   │   ├── agg_none.csr\n",
      "│   │   ├── agg_nnlicv674.csr\n",
      "│   │   ├── agg_none.key\n",
      "│   │   └── agg_none.crt\n",
      "│   ├── col_two.csr\n",
      "│   ├── ca\n",
      "│   │   ├── root-ca.crt\n",
      "│   │   ├── signing-ca\n",
      "│   │   ├── signing-ca.crt\n",
      "│   │   ├── root-ca\n",
      "│   │   └── signing-ca.csr\n",
      "│   ├── cert_chain.crt\n",
      "│   └── client\n",
      "│       ├── col_two.crt\n",
      "│       ├── col_one.key\n",
      "│       ├── col_two.key\n",
      "│       └── col_one.crt\n",
      "├── data.tar.gz\n",
      "├── final_pytorch_model\n",
      "├── plan\n",
      "│   ├── data.yaml\n",
      "│   ├── plan.yaml\n",
      "│   ├── defaults\n",
      "│   │   ├── assigner.yaml\n",
      "│   │   ├── aggregator.yaml\n",
      "│   │   ├── tasks_tensorflow.yaml\n",
      "│   │   ├── data_loader.yaml\n",
      "│   │   ├── task_runner.yaml\n",
      "│   │   ├── tasks_keras.yaml\n",
      "│   │   ├── tasks_torch.yaml\n",
      "│   │   ├── defaults\n",
      "│   │   ├── tasks_fast_estimator.yaml\n",
      "│   │   ├── collaborator.yaml\n",
      "│   │   └── network.yaml\n",
      "│   └── cols.yaml\n",
      "├── save\n",
      "│   ├── torch_cnn_mnist_init.pbuf\n",
      "│   ├── torch_unet_kvasir_init.pbuf\n",
      "│   ├── torch_3dunet_brats_best.pbuf\n",
      "│   ├── torch_3dunet_brats_last.pbuf\n",
      "│   ├── torch_unet_kvasir_best.pbuf\n",
      "│   ├── torch_3dunet_brats_init.pbuf\n",
      "│   ├── torch_unet_kvasir_last.pbuf\n",
      "│   ├── torch_cnn_mnist_best.pbuf\n",
      "│   └── torch_cnn_mnist_last.pbuf\n",
      "├── logs\n",
      "├── code\n",
      "│   ├── __init__.py\n",
      "│   ├── hyper-kvasir-segmented-images.zip\n",
      "│   ├── pt_unet_parts.py\n",
      "│   ├── pt_cnn.py\n",
      "│   ├── ptmnist_inmemory.py\n",
      "│   ├── __pycache__\n",
      "│   │   └── __init__.cpython-36.pyc\n",
      "│   ├── fed_unet_runner.py\n",
      "│   ├── data_loader.py\n",
      "│   ├── mnist_utils.py\n",
      "│   ├── fed_3dunet_runner.py\n",
      "│   └── pt_unet.py\n",
      "├── agg_to_col_two_signed_cert.zip\n",
      "├── agg_to_col_one_signed_cert.zip\n",
      "├── requirements.txt\n",
      "├── hyper-kvasir-segmented-images.zip.1\n",
      "└── kvasir.zip\n",
      "\n",
      "389 directories, 63 files\n",
      "Setting Up Certificate Authority...\n",
      "\n",
      "1.  Create Root CA\n",
      "1.1 Create Directories\n",
      "1.2 Create Database\n",
      "1.3 Create CA Request and Certificate\n",
      "2.  Create Signing Certificate\n",
      "2.1 Create Directories\n",
      "2.2 Create Database\n",
      "2.3 Create Signing Certificate CSR\n",
      "2.4 Sign Signing Certificate CSR\n",
      "3   Create Certificate Chain\n",
      "\n",
      "Done.\n",
      "Creating AGGREGATOR certificate key pair with following settings: CN=\u001b[31mnnlicv674\u001b[0m, SAN=\u001b[31mDNS:nnlicv674\u001b[0m\n",
      "  Writing AGGREGATOR certificate key pair to: \u001b[32mcert/server\u001b[0m\n",
      "The CSR Hash for file \u001b[32mserver/agg_nnlicv674.csr\u001b[0m = \u001b[31m4978221889deb3df719290526119bd2ba7cf3cca28933acbdc9da1bd071c7721819fcac60f6e207bc92f09f543be9a95\u001b[0m\n",
      " Signing AGGREGATOR certificate\n",
      "Creating COLLABORATOR certificate key pair with following settings: CN=\u001b[31mone\u001b[0m, SAN=\u001b[31mDNS:one\u001b[0m\n",
      "  Moving COLLABORATOR certificate to: \u001b[32mcert/col_one\u001b[0m\n",
      "The CSR Hash for file \u001b[32mcol_one.csr\u001b[0m = \u001b[31m24a737d73d3beed2440eed75c7f78f5ed3f1653ee3ac7281a117a404aea6bcb261bcfd92dc5da1e94f2368f6477b6f00\u001b[0m\n",
      " Signing COLLABORATOR certificate\n",
      "\n",
      "Registering \u001b[32mone\u001b[0m in \u001b[32mplan/cols.yaml\u001b[0m\n",
      "Creating COLLABORATOR certificate key pair with following settings: CN=\u001b[31mtwo\u001b[0m, SAN=\u001b[31mDNS:two\u001b[0m\n",
      "  Moving COLLABORATOR certificate to: \u001b[32mcert/col_two\u001b[0m\n",
      "The CSR Hash for file \u001b[32mcol_two.csr\u001b[0m = \u001b[31ma088f798af083568f8e504913f376b82216547e7de8456659e9f7f2bdb1d29b5a7d6c2eb007b8540551e4fcc94449aab\u001b[0m\n",
      " Signing COLLABORATOR certificate\n",
      "\n",
      "Registering \u001b[32mtwo\u001b[0m in \u001b[32mplan/cols.yaml\u001b[0m\n"
     ]
    }
   ],
   "source": [
    "import openfl.native as fx\n",
    "\n",
    "# Setup default workspace, logging, etc. Install additional requirements\n",
    "fx.init('torch_3dunet_brats')"
   ]
  },
  {
   "cell_type": "code",
   "execution_count": 3,
   "id": "dirty-filename",
   "metadata": {},
   "outputs": [],
   "source": [
    "import os\n",
    "import json\n",
    "import random\n",
    "from tqdm import tqdm\n",
    "import matplotlib.pyplot as plt\n",
    "import numpy as np\n",
    "import nibabel as nib\n",
    "from skimage.transform import resize\n",
    "import torch\n",
    "import torch.nn as nn\n",
    "from torch.utils.data import DataLoader\n",
    "import torch.nn.functional as F\n",
    "\n",
    "from openfl.federated import FederatedModel, FederatedDataSet\n",
    "from openfl.utilities import TensorKey\n",
    "\n",
    "import warnings\n",
    "warnings.simplefilter(\"ignore\")"
   ]
  },
  {
   "cell_type": "markdown",
   "id": "abroad-school",
   "metadata": {},
   "source": [
    "Path to brats dataset"
   ]
  },
  {
   "cell_type": "code",
   "execution_count": 4,
   "id": "pursuant-bobby",
   "metadata": {},
   "outputs": [],
   "source": [
    "BRATS_PATH = './data/MICCAI_BraTS2020_TrainingData/'"
   ]
  },
  {
   "cell_type": "markdown",
   "id": "broken-excuse",
   "metadata": {},
   "source": [
    "Lets define dataset, which will get data_list brain tumor images for one collaborator (train or validation)."
   ]
  },
  {
   "cell_type": "code",
   "execution_count": 14,
   "id": "boolean-intensity",
   "metadata": {},
   "outputs": [],
   "source": [
    "class BraTSDataset():\n",
    "    \"\"\"\n",
    "    This dataset contains brain tumor 3d images for one collaborator train or val.\n",
    "    Args:\n",
    "        data_list: list of image paths\n",
    "    \"\"\"\n",
    "\n",
    "    def __init__(self, data_list):\n",
    "        self.data_list = data_list\n",
    "\n",
    "    def __len__(self):\n",
    "        return len(self.data_list)\n",
    "\n",
    "    def __getitem__(self, index):\n",
    "        images = []\n",
    "        for i in range(1, 5):\n",
    "            img = nib.load(self.data_list[index]['image{}'.format(i)])\n",
    "            img = np.asanyarray(img.dataobj)\n",
    "            img = self.resize(img, (160, 160, 128))\n",
    "            img = self.normalize(img)\n",
    "            images.append(img)\n",
    "        img = np.stack(images)\n",
    "        img = img.astype(np.float32)\n",
    "\n",
    "        mask = nib.load(self.data_list[index]['label'])\n",
    "        mask = np.asanyarray(mask.dataobj)\n",
    "        mask = self.resize(mask, (160, 160, 128)).astype(np.uint8)\n",
    "        mask = self.classify(mask)\n",
    "        return (img, mask)\n",
    "\n",
    "    def normalize(self, data):\n",
    "        data_min = np.min(data)\n",
    "        return (data - data_min) / (np.max(data) - data_min)\n",
    "\n",
    "    def resize(self, data, sizes):\n",
    "        data = resize(data, sizes, mode='edge',\n",
    "                      anti_aliasing=False,\n",
    "                      anti_aliasing_sigma=None,\n",
    "                      preserve_range=True,\n",
    "                      order=0)\n",
    "        return data\n",
    "\n",
    "    def classify(self, inputs):\n",
    "        result = []\n",
    "        # merge label 2 and label 3 to construct TC\n",
    "        result.append(np.logical_or(inputs == 2, inputs == 3))\n",
    "        # merge labels 1, 2 and 3 to construct WT\n",
    "        result.append(\n",
    "            np.logical_or(\n",
    "                np.logical_or(inputs == 2, inputs == 3), inputs == 1\n",
    "            )\n",
    "        )\n",
    "        # label 2 is ET\n",
    "        result.append(inputs == 2)\n",
    "        return np.stack(result, axis=0).astype(np.float32)"
   ]
  },
  {
   "cell_type": "markdown",
   "id": "innocent-firmware",
   "metadata": {},
   "source": [
    "Wrapper, to define generate_*_list interfaces. Further it will be replaced by another function to pass test data list"
   ]
  },
  {
   "cell_type": "code",
   "execution_count": 15,
   "id": "urban-passion",
   "metadata": {},
   "outputs": [],
   "source": [
    "class FederatedDataSetWrapper(FederatedDataSet):\n",
    "    def __init__(self, *args, **kwargs):\n",
    "\n",
    "        self.train_list = self.generate_train_list(*args, **kwargs)\n",
    "        self.val_list = self.generate_val_list(*args, **kwargs)\n",
    "        super().__init__([], [], [], [], 1, **kwargs)\n",
    "\n",
    "    def generate_train_list(self, *args, **kwargs):\n",
    "        raise NotImplementedError\n",
    "\n",
    "    def generate_val_list(self, *args, **kwargs):\n",
    "        raise NotImplementedError"
   ]
  },
  {
   "cell_type": "markdown",
   "id": "indirect-excitement",
   "metadata": {},
   "source": [
    "Here we redefine `FederatedDataSet` methods, if we don't want to use default batch generator from `FederatedDataSet`.<br> Also we should override `generate_train_list` and `generate_val_list` methods.<br> We should use `self.train_list` and `self.val_list` form `FederatedDataSetWrapper` as data paths, because such pipeline will be use with test data. This fields will be initialized after calling `FederatedDataSetWrapper` constructor."
   ]
  },
  {
   "cell_type": "code",
   "execution_count": 16,
   "id": "collectible-banner",
   "metadata": {},
   "outputs": [],
   "source": [
    "class BraTSFederatedDataset(FederatedDataSetWrapper):\n",
    "    def __init__(self, collaborator_count=1, collaborator_num=0, batch_size=1, data_list=[], **kwargs):\n",
    "        \"\"\"Instantiate the federated data object\n",
    "        Args:\n",
    "            collaborator_count: total number of collaborators\n",
    "            collaborator_num: number of current collaborator\n",
    "            batch_size:  the batch size of the data loader\n",
    "            data_list: general list of all image paths, in current implementation \n",
    "                it should be created once so that each colaborator gets its own data\n",
    "            **kwargs: additional arguments, passed to super init\n",
    "        \"\"\"\n",
    "        self.data_list = data_list\n",
    "        # Call super().__init__ to call generate_*_list methods,\n",
    "        # so self.train_list and val_list fields will be initialized\n",
    "        # You should use this fields as data paths, because such pipeline will be use with test data.\n",
    "        super().__init__(collaborator_count, collaborator_num, num_classes=2, **kwargs)\n",
    "\n",
    "        self.batch_size = batch_size\n",
    "\n",
    "        self.training_set = BraTSDataset(self.train_list)\n",
    "        self.valid_set = BraTSDataset(self.val_list)\n",
    "\n",
    "        self.train_loader = self.get_train_loader()\n",
    "        self.val_loader = self.get_valid_loader()\n",
    "\n",
    "    def generate_name_list(self, collaborator_count, collaborator_num, is_validation):\n",
    "        if self.data_list == []:\n",
    "            data_dir = BRATS_PATH\n",
    "            self.data_list = [\n",
    "                {\n",
    "                    'image1': data_dir + 'BraTS20_Training_'+str(i)[1:]+'/BraTS20_Training_'+str(i)[1:]+'_flair.nii.gz',\n",
    "                    'image2': data_dir + 'BraTS20_Training_'+str(i)[1:]+'/BraTS20_Training_'+str(i)[1:]+'_t1ce.nii.gz',\n",
    "                    'image3': data_dir + 'BraTS20_Training_'+str(i)[1:]+'/BraTS20_Training_'+str(i)[1:]+'_t1.nii.gz',\n",
    "                    'image4': data_dir + 'BraTS20_Training_'+str(i)[1:]+'/BraTS20_Training_'+str(i)[1:]+'_t2.nii.gz',\n",
    "                    'label': data_dir + 'BraTS20_Training_'+str(i)[1:]+'/BraTS20_Training_'+str(i)[1:]+'_seg.nii.gz'\n",
    "                } for i in range(1001, 1370)]\n",
    "            random.shuffle(self.data_list)\n",
    "\n",
    "        # split all data for current collaborator\n",
    "        data = self.data_list[collaborator_num:: collaborator_count]\n",
    "        assert(len(data) > 7)\n",
    "        validation_size = len(data) // 7\n",
    "        if is_validation:\n",
    "            data = data[-validation_size:]\n",
    "        else:\n",
    "            data = data[: -validation_size]\n",
    "        return data\n",
    "\n",
    "    # Override--------------------------------------------------------------------------\n",
    "    def generate_train_list(self, collaborator_count, collaborator_num, *args, **kwargs):\n",
    "        return self.generate_name_list(collaborator_count, collaborator_num, False)\n",
    "\n",
    "    def generate_val_list(self, collaborator_count, collaborator_num, *args, **kwargs):\n",
    "        return self.generate_name_list(collaborator_count, collaborator_num, True)\n",
    "    # -----------------------------------------------------------------------------------\n",
    "\n",
    "    def get_valid_loader(self, num_batches=None):\n",
    "        return DataLoader(self.valid_set, num_workers=2, batch_size=self.batch_size)\n",
    "\n",
    "    def get_train_loader(self, num_batches=None):\n",
    "        return DataLoader(\n",
    "            self.training_set, num_workers=2, batch_size=self.batch_size, shuffle=True\n",
    "        )\n",
    "\n",
    "    def get_train_data_size(self):\n",
    "        return len(self.training_set)\n",
    "\n",
    "    def get_valid_data_size(self):\n",
    "        return len(self.valid_set)\n",
    "\n",
    "    def get_feature_shape(self):\n",
    "        return self.valid_set[0][0].shape\n",
    "\n",
    "    def split(self, collaborator_count, shuffle=True, equally=True):\n",
    "        return [\n",
    "            BraTSFederatedDataset(collaborator_count,\n",
    "                                  collaborator_num, self.batch_size, self.data_list)\n",
    "            for collaborator_num in range(collaborator_count)\n",
    "        ]"
   ]
  },
  {
   "cell_type": "markdown",
   "id": "sublime-seeker",
   "metadata": {},
   "source": [
    "Our Unet model. Define `validate` method, to use special metric (default metric - accuracy). "
   ]
  },
  {
   "cell_type": "code",
   "execution_count": 17,
   "id": "lucky-bracelet",
   "metadata": {},
   "outputs": [],
   "source": [
    "def soft_dice_loss(output, target):\n",
    "    num = target.size(0)\n",
    "    m1 = output.view(num, -1)\n",
    "    m2 = target.view(num, -1)\n",
    "    intersection = m1 * m2\n",
    "    score = 2.0 * (intersection.sum(1) + 1) / (m1.sum(1) + m2.sum(1) + 1)\n",
    "    score = 1 - score.sum() / num\n",
    "    return score\n",
    "\n",
    "\n",
    "def soft_dice_coef(output, target):\n",
    "    num = target.size(0)\n",
    "    m1 = output.view(num, -1)\n",
    "    m2 = target.view(num, -1)\n",
    "    intersection = m1 * m2\n",
    "    score = 2.0 * (intersection.sum(1) + 1) / (m1.sum(1) + m2.sum(1) + 1)\n",
    "    return score.sum()\n",
    "\n",
    "\n",
    "class DoubleConv(nn.Module):\n",
    "    \"\"\"(Conv3D -> BN -> ReLU) * 2\"\"\"\n",
    "\n",
    "    def __init__(self, in_channels, out_channels):\n",
    "        super().__init__()\n",
    "        self.double_conv = nn.Sequential(\n",
    "            nn.Conv3d(in_channels, out_channels,\n",
    "                      kernel_size=3, stride=1, padding=1),\n",
    "            nn.BatchNorm3d(out_channels),\n",
    "            nn.ReLU(inplace=True),\n",
    "\n",
    "            nn.Conv3d(out_channels, out_channels,\n",
    "                      kernel_size=3, stride=1, padding=1),\n",
    "            nn.BatchNorm3d(out_channels),\n",
    "            nn.ReLU(inplace=True)\n",
    "        )\n",
    "\n",
    "    def forward(self, x):\n",
    "        return self.double_conv(x)\n",
    "\n",
    "\n",
    "class Down(nn.Module):\n",
    "\n",
    "    def __init__(self, in_channels, out_channels):\n",
    "        super().__init__()\n",
    "        self.encoder = nn.Sequential(\n",
    "            nn.MaxPool3d(2, 2),\n",
    "            DoubleConv(in_channels, out_channels)\n",
    "        )\n",
    "\n",
    "    def forward(self, x):\n",
    "        return self.encoder(x)\n",
    "\n",
    "\n",
    "class Up(nn.Module):\n",
    "\n",
    "    def __init__(self, in_channels, out_channels, trilinear=True):\n",
    "        super().__init__()\n",
    "\n",
    "        if trilinear:\n",
    "            self.up = nn.Upsample(\n",
    "                scale_factor=2, mode='trilinear', align_corners=True)\n",
    "        else:\n",
    "            self.up = nn.ConvTranspose3d(\n",
    "                in_channels // 2, in_channels // 2, kernel_size=2, stride=2)\n",
    "\n",
    "        self.conv = DoubleConv(in_channels, out_channels)\n",
    "\n",
    "    def forward(self, x1, x2):\n",
    "        x1 = self.up(x1)\n",
    "\n",
    "        diffZ = x2.size()[2] - x1.size()[2]\n",
    "        diffY = x2.size()[3] - x1.size()[3]\n",
    "        diffX = x2.size()[4] - x1.size()[4]\n",
    "        x1 = F.pad(x1, [diffX // 2, diffX - diffX // 2, diffY //\n",
    "                        2, diffY - diffY // 2, diffZ // 2, diffZ - diffZ // 2])\n",
    "\n",
    "        x = torch.cat([x2, x1], dim=1)\n",
    "        return self.conv(x)\n",
    "\n",
    "\n",
    "class Out(nn.Module):\n",
    "    def __init__(self, in_channels, out_channels):\n",
    "        super().__init__()\n",
    "        self.conv = nn.Conv3d(in_channels, out_channels, kernel_size=1)\n",
    "\n",
    "    def forward(self, x):\n",
    "        return self.conv(x)\n",
    "\n",
    "\n",
    "class UNet3d(nn.Module):\n",
    "    def __init__(self, in_channels=4, n_classes=3, n_channels=10):\n",
    "        super().__init__()\n",
    "        self.in_channels = in_channels\n",
    "        self.n_classes = n_classes\n",
    "        self.n_channels = n_channels\n",
    "\n",
    "        self.conv = DoubleConv(in_channels, n_channels)\n",
    "        self.enc1 = Down(n_channels, 2 * n_channels)\n",
    "        self.enc2 = Down(2 * n_channels, 4 * n_channels)\n",
    "        self.enc3 = Down(4 * n_channels, 8 * n_channels)\n",
    "        self.enc4 = Down(8 * n_channels, 8 * n_channels)\n",
    "\n",
    "        self.dec1 = Up(16 * n_channels, 4 * n_channels)\n",
    "        self.dec2 = Up(8 * n_channels, 2 * n_channels)\n",
    "        self.dec3 = Up(4 * n_channels, n_channels)\n",
    "        self.dec4 = Up(2 * n_channels, n_channels)\n",
    "        self.out = Out(n_channels, n_classes)\n",
    "\n",
    "    def forward(self, x):\n",
    "        x1 = self.conv(x)\n",
    "        x2 = self.enc1(x1)\n",
    "        x3 = self.enc2(x2)\n",
    "        x4 = self.enc3(x3)\n",
    "        x5 = self.enc4(x4)\n",
    "\n",
    "        mask = self.dec1(x5, x4)\n",
    "        mask = self.dec2(mask, x3)\n",
    "        mask = self.dec3(mask, x2)\n",
    "        mask = self.dec4(mask, x1)\n",
    "        mask = self.out(mask)\n",
    "        mask = torch.sigmoid(mask)\n",
    "\n",
    "        return mask\n",
    "\n",
    "    def validate(\n",
    "        self, col_name, round_num, input_tensor_dict, use_tqdm=False, **kwargs\n",
    "    ):\n",
    "        \"\"\" Validate. Redifine function from PyTorchTaskRunner, to use our validation\"\"\"\n",
    "        self.rebuild_model(round_num, input_tensor_dict, validation=True)\n",
    "        loader = self.data_loader.get_valid_loader()\n",
    "        if use_tqdm:\n",
    "            loader = tqdm.tqdm(loader, desc=\"validate\")\n",
    "    # -------------Usual validation code---------------------------------------------------------------------------\n",
    "        self.eval()\n",
    "        self.to(self.device)\n",
    "        metric = 0.0\n",
    "        sample_num = 0\n",
    "\n",
    "        with torch.no_grad():\n",
    "            for val_inputs, val_labels in loader:\n",
    "                val_inputs = val_inputs.to(self.device)\n",
    "                val_labels = val_labels.to(self.device)\n",
    "                val_outputs = self(val_inputs)\n",
    "                val_outputs = (val_outputs >= 0.5).float()\n",
    "                value = soft_dice_coef(val_outputs, val_labels)\n",
    "                sample_num += val_labels.shape[0]\n",
    "                metric += value.cpu().numpy()\n",
    "\n",
    "            metric = metric / sample_num\n",
    "    # --------------------------------------------------------------------------\n",
    "\n",
    "        origin = col_name\n",
    "        suffix = \"validate\"\n",
    "        if kwargs[\"apply\"] == \"local\":\n",
    "            suffix += \"_local\"\n",
    "        else:\n",
    "            suffix += \"_agg\"\n",
    "        tags = (\"metric\", suffix)\n",
    "        output_tensor_dict = {\n",
    "            TensorKey(\"dice_coef\", origin, round_num, True, tags): np.array(\n",
    "                metric\n",
    "            )\n",
    "        }\n",
    "        return output_tensor_dict, {}\n",
    "\n",
    "\n",
    "def optimizer(x): return torch.optim.Adam(\n",
    "    x, 5e-4)"
   ]
  },
  {
   "cell_type": "markdown",
   "id": "congressional-contemporary",
   "metadata": {
    "scrolled": false
   },
   "source": [
    "Create BraTSFederatedDataset, federated datasets for each collaborator will be created in `split()` method of this object"
   ]
  },
  {
   "cell_type": "code",
   "execution_count": 18,
   "id": "welsh-nickname",
   "metadata": {},
   "outputs": [],
   "source": [
    "fl_data = BraTSFederatedDataset(batch_size=3)"
   ]
  },
  {
   "cell_type": "markdown",
   "id": "light-saturn",
   "metadata": {},
   "source": [
    "The `FederatedModel` object is a wrapper around your Keras, Tensorflow or PyTorch model that makes it compatible with OpenFL. It provides built-in federated training function which will be used while training. Using its `setup` function, collaborator models and datasets can be automatically obtained for the experiment."
   ]
  },
  {
   "cell_type": "code",
   "execution_count": 19,
   "id": "specific-railway",
   "metadata": {},
   "outputs": [
    {
     "data": {
      "text/html": [
       "<pre style=\"white-space:pre;overflow-x:auto;line-height:normal;font-family:Menlo,'DejaVu Sans Mono',consolas,'Courier New',monospace\"><span style=\"color: #7fbfbf\">[13:51:30] </span><span style=\"color: #800000\">WARNING</span>  tried to remove tensor: __opt_state_needed not present in the tensor dict                                                        <a href=\"file:///home/radionov/.envs/dl_env/lib/python3.6/site-packages/openfl/utilities/utils.py\"><span style=\"color: #7f7f7f\">utils.py</span></a><span style=\"color: #7f7f7f\">:86</span>\n",
       "</pre>\n"
      ],
      "text/plain": [
       "<rich.jupyter.JupyterRenderable at 0x7f432c5e3160>"
      ]
     },
     "metadata": {},
     "output_type": "display_data"
    }
   ],
   "source": [
    "fl_model = FederatedModel(build_model=UNet3d, optimizer=optimizer,\n",
    "                          loss_fn=soft_dice_loss, data_loader=fl_data)"
   ]
  },
  {
   "cell_type": "code",
   "execution_count": 20,
   "id": "acquired-killer",
   "metadata": {},
   "outputs": [
    {
     "data": {
      "text/html": [
       "<pre style=\"white-space:pre;overflow-x:auto;line-height:normal;font-family:Menlo,'DejaVu Sans Mono',consolas,'Courier New',monospace\"><span style=\"color: #7fbfbf\">[13:51:36] </span><span style=\"color: #800000\">WARNING</span>  tried to remove tensor: __opt_state_needed not present in the tensor dict                                                        <a href=\"file:///home/radionov/.envs/dl_env/lib/python3.6/site-packages/openfl/utilities/utils.py\"><span style=\"color: #7f7f7f\">utils.py</span></a><span style=\"color: #7f7f7f\">:86</span>\n",
       "</pre>\n"
      ],
      "text/plain": [
       "<rich.jupyter.JupyterRenderable at 0x7f41b0c904a8>"
      ]
     },
     "metadata": {},
     "output_type": "display_data"
    },
    {
     "data": {
      "text/html": [
       "<pre style=\"white-space:pre;overflow-x:auto;line-height:normal;font-family:Menlo,'DejaVu Sans Mono',consolas,'Courier New',monospace\"><span style=\"color: #7fbfbf\">[13:51:40] </span><span style=\"color: #800000\">WARNING</span>  tried to remove tensor: __opt_state_needed not present in the tensor dict                                                        <a href=\"file:///home/radionov/.envs/dl_env/lib/python3.6/site-packages/openfl/utilities/utils.py\"><span style=\"color: #7f7f7f\">utils.py</span></a><span style=\"color: #7f7f7f\">:86</span>\n",
       "</pre>\n"
      ],
      "text/plain": [
       "<rich.jupyter.JupyterRenderable at 0x7f41b0be7a20>"
      ]
     },
     "metadata": {},
     "output_type": "display_data"
    }
   ],
   "source": [
    "collaborator_models = fl_model.setup(num_collaborators=2)\n",
    "collaborators = {'one': collaborator_models[0], 'two': collaborator_models[1]}"
   ]
  },
  {
   "cell_type": "markdown",
   "id": "exceptional-samuel",
   "metadata": {},
   "source": [
    "We can see the current FL plan values by running the `fx.get_plan()` function"
   ]
  },
  {
   "cell_type": "code",
   "execution_count": 21,
   "id": "infinite-toner",
   "metadata": {
    "scrolled": false
   },
   "outputs": [
    {
     "name": "stdout",
     "output_type": "stream",
     "text": [
      "{\n",
      "    \"aggregator.settings.best_state_path\": \"save/torch_3dunet_brats_best.pbuf\",\n",
      "    \"aggregator.settings.db_store_rounds\": 1,\n",
      "    \"aggregator.settings.init_state_path\": \"save/torch_3dunet_brats_init.pbuf\",\n",
      "    \"aggregator.settings.last_state_path\": \"save/torch_3dunet_brats_last.pbuf\",\n",
      "    \"aggregator.settings.rounds_to_train\": 40,\n",
      "    \"aggregator.template\": \"openfl.component.Aggregator\",\n",
      "    \"assigner.settings.task_groups\": [\n",
      "        {\n",
      "            \"name\": \"train_and_validate\",\n",
      "            \"percentage\": 1.0,\n",
      "            \"tasks\": [\n",
      "                \"aggregated_model_validation\",\n",
      "                \"train\",\n",
      "                \"locally_tuned_model_validation\"\n",
      "            ]\n",
      "        }\n",
      "    ],\n",
      "    \"assigner.template\": \"openfl.component.RandomGroupedAssigner\",\n",
      "    \"collaborator.settings.db_store_rounds\": 1,\n",
      "    \"collaborator.settings.delta_updates\": false,\n",
      "    \"collaborator.settings.opt_treatment\": \"RESET\",\n",
      "    \"collaborator.template\": \"openfl.component.Collaborator\",\n",
      "    \"data_loader.settings.batch_size\": 4,\n",
      "    \"data_loader.settings.collaborator_count\": 2,\n",
      "    \"data_loader.settings.data_group_name\": \"brats\",\n",
      "    \"data_loader.template\": \"code.data_loader.PyTorchBraTSDataLoader\",\n",
      "    \"network.settings.agg_addr\": \"nnlicv674\",\n",
      "    \"network.settings.agg_port\": 58885,\n",
      "    \"network.settings.cert_folder\": \"cert\",\n",
      "    \"network.settings.client_reconnect_interval\": 5,\n",
      "    \"network.settings.disable_client_auth\": false,\n",
      "    \"network.settings.disable_tls\": false,\n",
      "    \"network.settings.hash_salt\": \"auto\",\n",
      "    \"network.template\": \"openfl.federation.Network\",\n",
      "    \"task_runner.settings.n_channels\": 3,\n",
      "    \"task_runner.settings.n_classes\": 1,\n",
      "    \"task_runner.template\": \"code.fed_3dunet_runner.PyTorchFederated3dUnet\",\n",
      "    \"tasks.aggregated_model_validation.aggregation_type\": [\n",
      "        \"weighted_average\"\n",
      "    ],\n",
      "    \"tasks.aggregated_model_validation.function\": \"validate\",\n",
      "    \"tasks.aggregated_model_validation.kwargs\": {\n",
      "        \"apply\": \"global\",\n",
      "        \"metrics\": [\n",
      "            \"dice_coef\"\n",
      "        ]\n",
      "    },\n",
      "    \"tasks.locally_tuned_model_validation.aggregation_type\": [\n",
      "        \"weighted_average\"\n",
      "    ],\n",
      "    \"tasks.locally_tuned_model_validation.function\": \"validate\",\n",
      "    \"tasks.locally_tuned_model_validation.kwargs\": {\n",
      "        \"apply\": \"local\",\n",
      "        \"metrics\": [\n",
      "            \"dice_coef\"\n",
      "        ]\n",
      "    },\n",
      "    \"tasks.settings\": {},\n",
      "    \"tasks.train.aggregation_type\": [\n",
      "        \"weighted_average\"\n",
      "    ],\n",
      "    \"tasks.train.function\": \"train_batches\",\n",
      "    \"tasks.train.kwargs\": {\n",
      "        \"metrics\": [\n",
      "            \"loss\"\n",
      "        ]\n",
      "    }\n",
      "}\n"
     ]
    }
   ],
   "source": [
    "# Get the current values of the FL plan. Each of these can be overridden\n",
    "print(json.dumps(fx.get_plan(), indent=4, sort_keys=True))"
   ]
  },
  {
   "cell_type": "markdown",
   "id": "fleet-brooklyn",
   "metadata": {},
   "source": [
    "You can see common plan with all options. Lets concentrated on options directly related with federation. "
   ]
  },
  {
   "cell_type": "markdown",
   "id": "missing-sleep",
   "metadata": {},
   "source": [
    "`aggregator.settings.db_store_rounds` - rounds to store model weights.\n",
    "\n",
    "`aggregator.settings.rounds_to_train` - number of training rounds.\n",
    "\n",
    "`collaborator.settings.delta_updates` - Sent only model delta (or full model if false)\n",
    "\n",
    "`collaborator.settings.opt_treatment` - The optimizer state treatment:\n",
    "    \"\"\"\n",
    "    RESET tells each collaborator to reset the optimizer state at the beginning\n",
    "    of each round.\n",
    "    CONTINUE_LOCAL tells each collaborator to continue with the local optimizer\n",
    "    state from the previous round.\n",
    "    CONTINUE_GLOBAL tells each collaborator to continue with the federally\n",
    "    averaged optimizer state from the previous round.\n",
    "    \"\"\"\n",
    "    \n",
    "`tasks.aggregated_model_validation.aggregation_type` - aggregation function for current task. It maybe name of np function. Default - \"weighted_average\", which related to np.average with weights"
   ]
  },
  {
   "cell_type": "markdown",
   "id": "greatest-preparation",
   "metadata": {},
   "source": [
    "We can override this option by definnig overriding config and pass it to run_expirement function:"
   ]
  },
  {
   "cell_type": "code",
   "execution_count": 24,
   "id": "clinical-exposure",
   "metadata": {},
   "outputs": [],
   "source": [
    "# To override  aggregator.settings.db_store_rounds\n",
    "# number of rounds\n",
    "override_config = {\n",
    "        'aggregator.settings.db_store_rounds': 1,\n",
    "        'aggregator.settings.rounds_to_train': 40,\n",
    "        'collaborator.settings.delta_updates': False,\n",
    "        'collaborator.settings.opt_treatment': \"RESET\",\n",
    "        'tasks.aggregated_model_validation.aggregation_type': [\"weighted_average\"]\n",
    "}"
   ]
  },
  {
   "cell_type": "code",
   "execution_count": null,
   "id": "fabulous-hundred",
   "metadata": {
    "scrolled": true
   },
   "outputs": [
    {
     "data": {
      "text/html": [
       "<pre style=\"white-space:pre;overflow-x:auto;line-height:normal;font-family:Menlo,'DejaVu Sans Mono',consolas,'Courier New',monospace\"><span style=\"color: #7fbfbf\">[14:06:36] </span><span style=\"color: #000080\">INFO</span>     Updating aggregator.settings.db_store_rounds to <span style=\"color: #000080; font-weight: bold\">1</span><span style=\"color: #808000\">...</span>                                                                           <a href=\"file:///home/radionov/.envs/dl_env/lib/python3.6/site-packages/openfl/native/native.py\"><span style=\"color: #7f7f7f\">native.py</span></a><span style=\"color: #7f7f7f\">:106</span>\n",
       "</pre>\n"
      ],
      "text/plain": [
       "<rich.jupyter.JupyterRenderable at 0x7f4208f5d198>"
      ]
     },
     "metadata": {},
     "output_type": "display_data"
    },
    {
     "data": {
      "text/html": [
       "<pre style=\"white-space:pre;overflow-x:auto;line-height:normal;font-family:Menlo,'DejaVu Sans Mono',consolas,'Courier New',monospace\"><span style=\"color: #7fbfbf\">           </span><span style=\"color: #000080\">INFO</span>     Updating aggregator.settings.rounds_to_train to <span style=\"color: #000080; font-weight: bold\">40</span><span style=\"color: #808000\">...</span>                                                                          <a href=\"file:///home/radionov/.envs/dl_env/lib/python3.6/site-packages/openfl/native/native.py\"><span style=\"color: #7f7f7f\">native.py</span></a><span style=\"color: #7f7f7f\">:106</span>\n",
       "</pre>\n"
      ],
      "text/plain": [
       "<rich.jupyter.JupyterRenderable at 0x7f4208f2bb00>"
      ]
     },
     "metadata": {},
     "output_type": "display_data"
    },
    {
     "data": {
      "text/html": [
       "<pre style=\"white-space:pre;overflow-x:auto;line-height:normal;font-family:Menlo,'DejaVu Sans Mono',consolas,'Courier New',monospace\"><span style=\"color: #7fbfbf\">           </span><span style=\"color: #000080\">INFO</span>     Updating collaborator.settings.delta_updates to <span style=\"color: #ff0000; font-style: italic\">False</span><span style=\"color: #808000\">...</span>                                                                       <a href=\"file:///home/radionov/.envs/dl_env/lib/python3.6/site-packages/openfl/native/native.py\"><span style=\"color: #7f7f7f\">native.py</span></a><span style=\"color: #7f7f7f\">:106</span>\n",
       "</pre>\n"
      ],
      "text/plain": [
       "<rich.jupyter.JupyterRenderable at 0x7f4208f5d198>"
      ]
     },
     "metadata": {},
     "output_type": "display_data"
    },
    {
     "data": {
      "text/html": [
       "<pre style=\"white-space:pre;overflow-x:auto;line-height:normal;font-family:Menlo,'DejaVu Sans Mono',consolas,'Courier New',monospace\"><span style=\"color: #7fbfbf\">           </span><span style=\"color: #000080\">INFO</span>     Updating collaborator.settings.opt_treatment to RESET<span style=\"color: #808000\">...</span>                                                                       <a href=\"file:///home/radionov/.envs/dl_env/lib/python3.6/site-packages/openfl/native/native.py\"><span style=\"color: #7f7f7f\">native.py</span></a><span style=\"color: #7f7f7f\">:106</span>\n",
       "</pre>\n"
      ],
      "text/plain": [
       "<rich.jupyter.JupyterRenderable at 0x7f421100db70>"
      ]
     },
     "metadata": {},
     "output_type": "display_data"
    },
    {
     "data": {
      "text/html": [
       "<pre style=\"white-space:pre;overflow-x:auto;line-height:normal;font-family:Menlo,'DejaVu Sans Mono',consolas,'Courier New',monospace\"><span style=\"color: #7fbfbf\">           </span><span style=\"color: #000080\">INFO</span>     Updating tasks.aggregated_model_validation.aggregation_type to <span style=\"font-weight: bold\">[</span><span style=\"color: #008000\">'weighted_average'</span><span style=\"font-weight: bold\">]</span><span style=\"color: #808000\">...</span>                                         <a href=\"file:///home/radionov/.envs/dl_env/lib/python3.6/site-packages/openfl/native/native.py\"><span style=\"color: #7f7f7f\">native.py</span></a><span style=\"color: #7f7f7f\">:106</span>\n",
       "</pre>\n"
      ],
      "text/plain": [
       "<rich.jupyter.JupyterRenderable at 0x7f4208f2bb00>"
      ]
     },
     "metadata": {},
     "output_type": "display_data"
    },
    {
     "data": {
      "text/html": [
       "<pre style=\"white-space:pre;overflow-x:auto;line-height:normal;font-family:Menlo,'DejaVu Sans Mono',consolas,'Courier New',monospace\"><span style=\"color: #7fbfbf\">           </span><span style=\"color: #000080\">INFO</span>     Loading DEFAULTS for section <span style=\"color: #800000\">aggregator</span> from file <span style=\"color: #800000\">plan/defaults/aggregator.yaml</span>.                                                  <a href=\"file:///home/radionov/.envs/dl_env/lib/python3.6/site-packages/openfl/federated/plan/plan.py\"><span style=\"color: #7f7f7f\">plan.py</span></a><span style=\"color: #7f7f7f\">:95</span>\n",
       "</pre>\n"
      ],
      "text/plain": [
       "<rich.jupyter.JupyterRenderable at 0x7f41a3f5dc88>"
      ]
     },
     "metadata": {},
     "output_type": "display_data"
    },
    {
     "data": {
      "text/html": [
       "<pre style=\"white-space:pre;overflow-x:auto;line-height:normal;font-family:Menlo,'DejaVu Sans Mono',consolas,'Courier New',monospace\"><span style=\"color: #7fbfbf\">           </span><span style=\"color: #000080\">INFO</span>     Loading DEFAULTS for section <span style=\"color: #800000\">assigner</span> from file <span style=\"color: #800000\">plan/defaults/assigner.yaml</span>.                                                      <a href=\"file:///home/radionov/.envs/dl_env/lib/python3.6/site-packages/openfl/federated/plan/plan.py\"><span style=\"color: #7f7f7f\">plan.py</span></a><span style=\"color: #7f7f7f\">:95</span>\n",
       "</pre>\n"
      ],
      "text/plain": [
       "<rich.jupyter.JupyterRenderable at 0x7f4208f4e518>"
      ]
     },
     "metadata": {},
     "output_type": "display_data"
    },
    {
     "data": {
      "text/html": [
       "<pre style=\"white-space:pre;overflow-x:auto;line-height:normal;font-family:Menlo,'DejaVu Sans Mono',consolas,'Courier New',monospace\"><span style=\"color: #7fbfbf\">           </span><span style=\"color: #000080\">INFO</span>     Loading DEFAULTS for section <span style=\"color: #800000\">collaborator</span> from file <span style=\"color: #800000\">plan/defaults/collaborator.yaml</span>.                                              <a href=\"file:///home/radionov/.envs/dl_env/lib/python3.6/site-packages/openfl/federated/plan/plan.py\"><span style=\"color: #7f7f7f\">plan.py</span></a><span style=\"color: #7f7f7f\">:95</span>\n",
       "</pre>\n"
      ],
      "text/plain": [
       "<rich.jupyter.JupyterRenderable at 0x7f4208f4e400>"
      ]
     },
     "metadata": {},
     "output_type": "display_data"
    },
    {
     "data": {
      "text/html": [
       "<pre style=\"white-space:pre;overflow-x:auto;line-height:normal;font-family:Menlo,'DejaVu Sans Mono',consolas,'Courier New',monospace\"><span style=\"color: #7fbfbf\">           </span><span style=\"color: #000080\">INFO</span>     Loading DEFAULTS for section <span style=\"color: #800000\">data_loader</span> from file <span style=\"color: #800000\">plan/defaults/data_loader.yaml</span>.                                                <a href=\"file:///home/radionov/.envs/dl_env/lib/python3.6/site-packages/openfl/federated/plan/plan.py\"><span style=\"color: #7f7f7f\">plan.py</span></a><span style=\"color: #7f7f7f\">:95</span>\n",
       "</pre>\n"
      ],
      "text/plain": [
       "<rich.jupyter.JupyterRenderable at 0x7f4208f4e6a0>"
      ]
     },
     "metadata": {},
     "output_type": "display_data"
    },
    {
     "data": {
      "text/html": [
       "<pre style=\"white-space:pre;overflow-x:auto;line-height:normal;font-family:Menlo,'DejaVu Sans Mono',consolas,'Courier New',monospace\"><span style=\"color: #7fbfbf\">           </span><span style=\"color: #000080\">INFO</span>     Loading DEFAULTS for section <span style=\"color: #800000\">network</span> from file <span style=\"color: #800000\">plan/defaults/network.yaml</span>.                                                        <a href=\"file:///home/radionov/.envs/dl_env/lib/python3.6/site-packages/openfl/federated/plan/plan.py\"><span style=\"color: #7f7f7f\">plan.py</span></a><span style=\"color: #7f7f7f\">:95</span>\n",
       "</pre>\n"
      ],
      "text/plain": [
       "<rich.jupyter.JupyterRenderable at 0x7f4208f5b9e8>"
      ]
     },
     "metadata": {},
     "output_type": "display_data"
    },
    {
     "data": {
      "text/html": [
       "<pre style=\"white-space:pre;overflow-x:auto;line-height:normal;font-family:Menlo,'DejaVu Sans Mono',consolas,'Courier New',monospace\"><span style=\"color: #7fbfbf\">           </span><span style=\"color: #000080\">INFO</span>     Loading DEFAULTS for section <span style=\"color: #800000\">task_runner</span> from file <span style=\"color: #800000\">plan/defaults/task_runner.yaml</span>.                                                <a href=\"file:///home/radionov/.envs/dl_env/lib/python3.6/site-packages/openfl/federated/plan/plan.py\"><span style=\"color: #7f7f7f\">plan.py</span></a><span style=\"color: #7f7f7f\">:95</span>\n",
       "</pre>\n"
      ],
      "text/plain": [
       "<rich.jupyter.JupyterRenderable at 0x7f41a3f5d898>"
      ]
     },
     "metadata": {},
     "output_type": "display_data"
    },
    {
     "data": {
      "text/html": [
       "<pre style=\"white-space:pre;overflow-x:auto;line-height:normal;font-family:Menlo,'DejaVu Sans Mono',consolas,'Courier New',monospace\"><span style=\"color: #7fbfbf\">           </span><span style=\"color: #000080\">INFO</span>     Loading DEFAULTS for section <span style=\"color: #800000\">tasks</span> from file <span style=\"color: #800000\">plan/defaults/tasks_torch.yaml</span>.                                                      <a href=\"file:///home/radionov/.envs/dl_env/lib/python3.6/site-packages/openfl/federated/plan/plan.py\"><span style=\"color: #7f7f7f\">plan.py</span></a><span style=\"color: #7f7f7f\">:95</span>\n",
       "</pre>\n"
      ],
      "text/plain": [
       "<rich.jupyter.JupyterRenderable at 0x7f41a3f5d898>"
      ]
     },
     "metadata": {},
     "output_type": "display_data"
    },
    {
     "data": {
      "text/html": [
       "<pre style=\"white-space:pre;overflow-x:auto;line-height:normal;font-family:Menlo,'DejaVu Sans Mono',consolas,'Courier New',monospace\"><span style=\"color: #7fbfbf\">           </span><span style=\"color: #000080\">INFO</span>     FL-Plan hash is <span style=\"color: #000080\">bcc9ff534095619b6a9cca14421021eb7bc7105747ed34f05049df79d5b1cece8a329191d05273855eda8d16009a4de7</span>                 <a href=\"file:///home/radionov/.envs/dl_env/lib/python3.6/site-packages/openfl/federated/plan/plan.py\"><span style=\"color: #7f7f7f\">plan.py</span></a><span style=\"color: #7f7f7f\">:203</span>\n",
       "</pre>\n"
      ],
      "text/plain": [
       "<rich.jupyter.JupyterRenderable at 0x7f41a3f5dc88>"
      ]
     },
     "metadata": {},
     "output_type": "display_data"
    },
    {
     "data": {
      "text/html": [
       "<pre style=\"white-space:pre;overflow-x:auto;line-height:normal;font-family:Menlo,'DejaVu Sans Mono',consolas,'Courier New',monospace\"><span style=\"color: #7fbfbf\">           </span><span style=\"color: #000080\">INFO</span>     Parsing Federated Learning Plan : <span style=\"color: #008000\">SUCCESS</span> : <span style=\"color: #000080\">plan/plan.yaml</span>.                                                                      <a href=\"file:///home/radionov/.envs/dl_env/lib/python3.6/site-packages/openfl/federated/plan/plan.py\"><span style=\"color: #7f7f7f\">plan.py</span></a><span style=\"color: #7f7f7f\">:131</span>\n",
       "</pre>\n"
      ],
      "text/plain": [
       "<rich.jupyter.JupyterRenderable at 0x7f41a3f5d0b8>"
      ]
     },
     "metadata": {},
     "output_type": "display_data"
    },
    {
     "data": {
      "text/html": [
       "<pre style=\"white-space:pre;overflow-x:auto;line-height:normal;font-family:Menlo,'DejaVu Sans Mono',consolas,'Courier New',monospace\"><span style=\"color: #7fbfbf\">           </span><span style=\"color: #000080\">INFO</span>     aggregator:                                                                                                                      <a href=\"file:///home/radionov/.envs/dl_env/lib/python3.6/site-packages/openfl/federated/plan/plan.py\"><span style=\"color: #7f7f7f\">plan.py</span></a><span style=\"color: #7f7f7f\">:132</span>\n",
       "                      defaults: plan/defaults/aggregator.yaml                                                                                                   \n",
       "                      settings:                                                                                                                                 \n",
       "                        best_state_path: save/torch_3dunet_brats_best.pbuf                                                                                      \n",
       "                        db_store_rounds: <span style=\"color: #000080; font-weight: bold\">1</span>                                                                                                                      \n",
       "                        init_state_path: save/torch_3dunet_brats_init.pbuf                                                                                      \n",
       "                        last_state_path: save/torch_3dunet_brats_last.pbuf                                                                                      \n",
       "                        rounds_to_train: <span style=\"color: #000080; font-weight: bold\">40</span>                                                                                                                     \n",
       "                      template: openfl.component.Aggregator                                                                                                     \n",
       "                    assigner:                                                                                                                                   \n",
       "                      defaults: plan/defaults/assigner.yaml                                                                                                     \n",
       "                      settings:                                                                                                                                 \n",
       "                        task_groups:                                                                                                                            \n",
       "                        - name: train_and_validate                                                                                                              \n",
       "                          percentage: <span style=\"color: #000080; font-weight: bold\">1.0</span>                                                                                                                       \n",
       "                          tasks:                                                                                                                                \n",
       "                          - aggregated_model_validation                                                                                                         \n",
       "                          - train                                                                                                                               \n",
       "                          - locally_tuned_model_validation                                                                                                      \n",
       "                      template: openfl.component.RandomGroupedAssigner                                                                                          \n",
       "                    collaborator:                                                                                                                               \n",
       "                      defaults: plan/defaults/collaborator.yaml                                                                                                 \n",
       "                      settings:                                                                                                                                 \n",
       "                        db_store_rounds: <span style=\"color: #000080; font-weight: bold\">1</span>                                                                                                                      \n",
       "                        delta_updates: false                                                                                                                    \n",
       "                        opt_treatment: RESET                                                                                                                    \n",
       "                      template: openfl.component.Collaborator                                                                                                   \n",
       "                    data_loader:                                                                                                                                \n",
       "                      defaults: plan/defaults/data_loader.yaml                                                                                                  \n",
       "                      settings:                                                                                                                                 \n",
       "                        batch_size: <span style=\"color: #000080; font-weight: bold\">4</span>                                                                                                                           \n",
       "                        collaborator_count: <span style=\"color: #000080; font-weight: bold\">2</span>                                                                                                                   \n",
       "                        data_group_name: brats                                                                                                                  \n",
       "                      template: code.data_loader.PyTorchBraTSDataLoader                                                                                         \n",
       "                    network:                                                                                                                                    \n",
       "                      defaults: plan/defaults/network.yaml                                                                                                      \n",
       "                      settings:                                                                                                                                 \n",
       "                        agg_addr: nnlicv674                                                                                                                     \n",
       "                        agg_port: <span style=\"color: #000080; font-weight: bold\">58885</span>                                                                                                                         \n",
       "                        cert_folder: cert                                                                                                                       \n",
       "                        client_reconnect_interval: <span style=\"color: #000080; font-weight: bold\">5</span>                                                                                                            \n",
       "                        disable_client_auth: false                                                                                                              \n",
       "                        disable_tls: false                                                                                                                      \n",
       "                        hash_salt: auto                                                                                                                         \n",
       "                      template: openfl.federation.Network                                                                                                       \n",
       "                    task_runner:                                                                                                                                \n",
       "                      defaults: plan/defaults/task_runner.yaml                                                                                                  \n",
       "                      settings:                                                                                                                                 \n",
       "                        n_channels: <span style=\"color: #000080; font-weight: bold\">3</span>                                                                                                                           \n",
       "                        n_classes: <span style=\"color: #000080; font-weight: bold\">1</span>                                                                                                                            \n",
       "                      template: code.fed_3dunet_runner.PyTorchFederated3dUnet                                                                                   \n",
       "                    tasks:                                                                                                                                      \n",
       "                      aggregated_model_validation:                                                                                                              \n",
       "                        aggregation_type:                                                                                                                       \n",
       "                        - weighted_average                                                                                                                      \n",
       "                        function: validate                                                                                                                      \n",
       "                        kwargs:                                                                                                                                 \n",
       "                          apply: global                                                                                                                         \n",
       "                          metrics:                                                                                                                              \n",
       "                          - dice_coef                                                                                                                           \n",
       "                      defaults: plan/defaults/tasks_torch.yaml                                                                                                  \n",
       "                      locally_tuned_model_validation:                                                                                                           \n",
       "                        aggregation_type:                                                                                                                       \n",
       "                        - weighted_average                                                                                                                      \n",
       "                        function: validate                                                                                                                      \n",
       "                        kwargs:                                                                                                                                 \n",
       "                          apply: local                                                                                                                          \n",
       "                          metrics:                                                                                                                              \n",
       "                          - dice_coef                                                                                                                           \n",
       "                      settings: <span style=\"font-weight: bold\">{}</span>                                                                                                                              \n",
       "                      train:                                                                                                                                    \n",
       "                        aggregation_type:                                                                                                                       \n",
       "                        - weighted_average                                                                                                                      \n",
       "                        function: train_batches                                                                                                                 \n",
       "                        kwargs:                                                                                                                                 \n",
       "                          metrics:                                                                                                                              \n",
       "                          - loss                                                                                                                                \n",
       "                                                                                                                                                                \n",
       "</pre>\n"
      ],
      "text/plain": [
       "<rich.jupyter.JupyterRenderable at 0x7f41a3f5dc88>"
      ]
     },
     "metadata": {},
     "output_type": "display_data"
    },
    {
     "data": {
      "text/html": [
       "<pre style=\"white-space:pre;overflow-x:auto;line-height:normal;font-family:Menlo,'DejaVu Sans Mono',consolas,'Courier New',monospace\"><span style=\"color: #7fbfbf\">           </span><span style=\"color: #000080\">INFO</span>     Building <span style=\"color: #800000\">🡆</span> Object <span style=\"color: #800000\">NoCompressionPipeline</span> from <span style=\"color: #800000\">openfl.pipelines</span> Module.                                                            <a href=\"file:///home/radionov/.envs/dl_env/lib/python3.6/site-packages/openfl/federated/plan/plan.py\"><span style=\"color: #7f7f7f\">plan.py</span></a><span style=\"color: #7f7f7f\">:164</span>\n",
       "</pre>\n"
      ],
      "text/plain": [
       "<rich.jupyter.JupyterRenderable at 0x7f4208f5bcf8>"
      ]
     },
     "metadata": {},
     "output_type": "display_data"
    },
    {
     "data": {
      "text/html": [
       "<pre style=\"white-space:pre;overflow-x:auto;line-height:normal;font-family:Menlo,'DejaVu Sans Mono',consolas,'Courier New',monospace\"><span style=\"color: #7fbfbf\">           </span><span style=\"color: #000080\">INFO</span>     Settings <span style=\"color: #800000\">🡆</span> <span style=\"font-weight: bold\">{}</span>                                                                                                                    <a href=\"file:///home/radionov/.envs/dl_env/lib/python3.6/site-packages/openfl/federated/plan/plan.py\"><span style=\"color: #7f7f7f\">plan.py</span></a><span style=\"color: #7f7f7f\">:166</span>\n",
       "</pre>\n"
      ],
      "text/plain": [
       "<rich.jupyter.JupyterRenderable at 0x7f41a3f5d5c0>"
      ]
     },
     "metadata": {},
     "output_type": "display_data"
    },
    {
     "data": {
      "text/html": [
       "<pre style=\"white-space:pre;overflow-x:auto;line-height:normal;font-family:Menlo,'DejaVu Sans Mono',consolas,'Courier New',monospace\"><span style=\"color: #7fbfbf\">           </span><span style=\"color: #000080\">INFO</span>     Override <span style=\"color: #800000\">🡆</span> <span style=\"font-weight: bold\">{}</span>                                                                                                                    <a href=\"file:///home/radionov/.envs/dl_env/lib/python3.6/site-packages/openfl/federated/plan/plan.py\"><span style=\"color: #7f7f7f\">plan.py</span></a><span style=\"color: #7f7f7f\">:168</span>\n",
       "</pre>\n"
      ],
      "text/plain": [
       "<rich.jupyter.JupyterRenderable at 0x7f41a3f5d1d0>"
      ]
     },
     "metadata": {},
     "output_type": "display_data"
    },
    {
     "data": {
      "text/html": [
       "<pre style=\"white-space:pre;overflow-x:auto;line-height:normal;font-family:Menlo,'DejaVu Sans Mono',consolas,'Courier New',monospace\"><span style=\"color: #7fbfbf\">           </span><span style=\"color: #000080\">INFO</span>     Creating Initial Weights File    🠆 save/torch_3dunet_brats_init.pbuf                                                           <a href=\"file:///home/radionov/.envs/dl_env/lib/python3.6/site-packages/openfl/native/native.py\"><span style=\"color: #7f7f7f\">native.py</span></a><span style=\"color: #7f7f7f\">:272</span>\n",
       "</pre>\n"
      ],
      "text/plain": [
       "<rich.jupyter.JupyterRenderable at 0x7f41a3f5d2e8>"
      ]
     },
     "metadata": {},
     "output_type": "display_data"
    },
    {
     "data": {
      "text/html": [
       "<pre style=\"white-space:pre;overflow-x:auto;line-height:normal;font-family:Menlo,'DejaVu Sans Mono',consolas,'Courier New',monospace\"><span style=\"color: #7fbfbf\">           </span><span style=\"color: #000080\">INFO</span>     Starting Experiment<span style=\"color: #808000\">...</span>                                                                                                         <a href=\"file:///home/radionov/.envs/dl_env/lib/python3.6/site-packages/openfl/native/native.py\"><span style=\"color: #7f7f7f\">native.py</span></a><span style=\"color: #7f7f7f\">:276</span>\n",
       "</pre>\n"
      ],
      "text/plain": [
       "<rich.jupyter.JupyterRenderable at 0x7f41a3f5d0b8>"
      ]
     },
     "metadata": {},
     "output_type": "display_data"
    },
    {
     "data": {
      "text/html": [
       "<pre style=\"white-space:pre;overflow-x:auto;line-height:normal;font-family:Menlo,'DejaVu Sans Mono',consolas,'Courier New',monospace\"><span style=\"color: #7fbfbf\">           </span><span style=\"color: #000080\">INFO</span>     Building <span style=\"color: #800000\">🡆</span> Object <span style=\"color: #800000\">RandomGroupedAssigner</span> from <span style=\"color: #800000\">openfl.component</span> Module.                                                            <a href=\"file:///home/radionov/.envs/dl_env/lib/python3.6/site-packages/openfl/federated/plan/plan.py\"><span style=\"color: #7f7f7f\">plan.py</span></a><span style=\"color: #7f7f7f\">:164</span>\n",
       "</pre>\n"
      ],
      "text/plain": [
       "<rich.jupyter.JupyterRenderable at 0x7f41a3f5dbe0>"
      ]
     },
     "metadata": {},
     "output_type": "display_data"
    },
    {
     "data": {
      "text/html": [
       "<pre style=\"white-space:pre;overflow-x:auto;line-height:normal;font-family:Menlo,'DejaVu Sans Mono',consolas,'Courier New',monospace\"><span style=\"color: #7fbfbf\">           </span><span style=\"color: #000080\">INFO</span>     Settings <span style=\"color: #800000\">🡆</span> <span style=\"font-weight: bold\">{</span><span style=\"color: #008000\">'task_groups'</span>: <span style=\"font-weight: bold\">[{</span><span style=\"color: #008000\">'name'</span>: <span style=\"color: #008000\">'train_and_validate'</span>, <span style=\"color: #008000\">'percentage'</span>: <span style=\"color: #000080; font-weight: bold\">1.0</span>, <span style=\"color: #008000\">'tasks'</span>: <span style=\"font-weight: bold\">[</span><span style=\"color: #008000\">'aggregated_model_validation'</span>, <span style=\"color: #008000\">'train'</span>,  <a href=\"file:///home/radionov/.envs/dl_env/lib/python3.6/site-packages/openfl/federated/plan/plan.py\"><span style=\"color: #7f7f7f\">plan.py</span></a><span style=\"color: #7f7f7f\">:166</span>\n",
       "                    <span style=\"color: #008000\">'locally_tuned_model_validation'</span><span style=\"font-weight: bold\">]}]</span>, <span style=\"color: #008000\">'authorized_cols'</span>: <span style=\"font-weight: bold\">[</span><span style=\"color: #008000\">'one'</span>, <span style=\"color: #008000\">'two'</span><span style=\"font-weight: bold\">]</span>, <span style=\"color: #008000\">'rounds_to_train'</span>: <span style=\"color: #000080; font-weight: bold\">40</span>, <span style=\"color: #008000\">'tasks'</span>:                                     \n",
       "                    <span style=\"font-weight: bold\">{</span><span style=\"color: #008000\">'aggregated_model_validation'</span>: <span style=\"font-weight: bold\">{</span><span style=\"color: #008000\">'aggregation_type'</span>: <span style=\"font-weight: bold\">[</span><span style=\"color: #008000\">'weighted_average'</span><span style=\"font-weight: bold\">]</span>, <span style=\"color: #008000\">'function'</span>: <span style=\"color: #008000\">'validate'</span>, <span style=\"color: #008000\">'kwargs'</span>: <span style=\"font-weight: bold\">{</span><span style=\"color: #008000\">'apply'</span>: <span style=\"color: #008000\">'global'</span>,            \n",
       "                    <span style=\"color: #008000\">'metrics'</span>: <span style=\"font-weight: bold\">[</span><span style=\"color: #008000\">'dice_coef'</span><span style=\"font-weight: bold\">]}}</span>, <span style=\"color: #008000\">'locally_tuned_model_validation'</span>: <span style=\"font-weight: bold\">{</span><span style=\"color: #008000\">'aggregation_type'</span>: <span style=\"font-weight: bold\">[</span><span style=\"color: #008000\">'weighted_average'</span><span style=\"font-weight: bold\">]</span>, <span style=\"color: #008000\">'function'</span>: <span style=\"color: #008000\">'validate'</span>,            \n",
       "                    <span style=\"color: #008000\">'kwargs'</span>: <span style=\"font-weight: bold\">{</span><span style=\"color: #008000\">'apply'</span>: <span style=\"color: #008000\">'local'</span>, <span style=\"color: #008000\">'metrics'</span>: <span style=\"font-weight: bold\">[</span><span style=\"color: #008000\">'dice_coef'</span><span style=\"font-weight: bold\">]}}</span>, <span style=\"color: #008000\">'train'</span>: <span style=\"font-weight: bold\">{</span><span style=\"color: #008000\">'aggregation_type'</span>: <span style=\"font-weight: bold\">[</span><span style=\"color: #008000\">'weighted_average'</span><span style=\"font-weight: bold\">]</span>, <span style=\"color: #008000\">'function'</span>:                    \n",
       "                    <span style=\"color: #008000\">'train_batches'</span>, <span style=\"color: #008000\">'kwargs'</span>: <span style=\"font-weight: bold\">{</span><span style=\"color: #008000\">'metrics'</span>: <span style=\"font-weight: bold\">[</span><span style=\"color: #008000\">'loss'</span><span style=\"font-weight: bold\">]}}</span>, <span style=\"color: #008000\">'defaults'</span>: <span style=\"color: #008000\">'plan/defaults/tasks_torch.yaml'</span>, <span style=\"color: #008000\">'settings'</span>: <span style=\"font-weight: bold\">{}}}</span>                           \n",
       "</pre>\n"
      ],
      "text/plain": [
       "<rich.jupyter.JupyterRenderable at 0x7f4208f5b6a0>"
      ]
     },
     "metadata": {},
     "output_type": "display_data"
    },
    {
     "data": {
      "text/html": [
       "<pre style=\"white-space:pre;overflow-x:auto;line-height:normal;font-family:Menlo,'DejaVu Sans Mono',consolas,'Courier New',monospace\"><span style=\"color: #7fbfbf\">           </span><span style=\"color: #000080\">INFO</span>     Override <span style=\"color: #800000\">🡆</span> <span style=\"font-weight: bold\">{</span><span style=\"color: #008000\">'defaults'</span>: <span style=\"color: #008000\">'plan/defaults/assigner.yaml'</span><span style=\"font-weight: bold\">}</span>                                                                           <a href=\"file:///home/radionov/.envs/dl_env/lib/python3.6/site-packages/openfl/federated/plan/plan.py\"><span style=\"color: #7f7f7f\">plan.py</span></a><span style=\"color: #7f7f7f\">:168</span>\n",
       "</pre>\n"
      ],
      "text/plain": [
       "<rich.jupyter.JupyterRenderable at 0x7f41a3f5d898>"
      ]
     },
     "metadata": {},
     "output_type": "display_data"
    },
    {
     "data": {
      "text/html": [
       "<pre style=\"white-space:pre;overflow-x:auto;line-height:normal;font-family:Menlo,'DejaVu Sans Mono',consolas,'Courier New',monospace\"><span style=\"color: #7fbfbf\">           </span><span style=\"color: #000080\">INFO</span>     Building <span style=\"color: #800000\">🡆</span> Object <span style=\"color: #800000\">Aggregator</span> from <span style=\"color: #800000\">openfl.component</span> Module.                                                                       <a href=\"file:///home/radionov/.envs/dl_env/lib/python3.6/site-packages/openfl/federated/plan/plan.py\"><span style=\"color: #7f7f7f\">plan.py</span></a><span style=\"color: #7f7f7f\">:164</span>\n",
       "</pre>\n"
      ],
      "text/plain": [
       "<rich.jupyter.JupyterRenderable at 0x7f4208f5beb8>"
      ]
     },
     "metadata": {},
     "output_type": "display_data"
    },
    {
     "data": {
      "text/html": [
       "<pre style=\"white-space:pre;overflow-x:auto;line-height:normal;font-family:Menlo,'DejaVu Sans Mono',consolas,'Courier New',monospace\"><span style=\"color: #7fbfbf\">           </span><span style=\"color: #000080\">INFO</span>     Settings <span style=\"color: #800000\">🡆</span> <span style=\"font-weight: bold\">{</span><span style=\"color: #008000\">'db_store_rounds'</span>: <span style=\"color: #000080; font-weight: bold\">1</span>, <span style=\"color: #008000\">'best_state_path'</span>: <span style=\"color: #008000\">'save/torch_3dunet_brats_best.pbuf'</span>, <span style=\"color: #008000\">'init_state_path'</span>:                     <a href=\"file:///home/radionov/.envs/dl_env/lib/python3.6/site-packages/openfl/federated/plan/plan.py\"><span style=\"color: #7f7f7f\">plan.py</span></a><span style=\"color: #7f7f7f\">:166</span>\n",
       "                    <span style=\"color: #008000\">'save/torch_3dunet_brats_init.pbuf'</span>, <span style=\"color: #008000\">'last_state_path'</span>: <span style=\"color: #008000\">'save/torch_3dunet_brats_last.pbuf'</span>, <span style=\"color: #008000\">'rounds_to_train'</span>: <span style=\"color: #000080; font-weight: bold\">40</span>,                         \n",
       "                    <span style=\"color: #008000\">'aggregator_uuid'</span>: <span style=\"color: #008000\">'aggregator_plan.yaml_bcc9ff53'</span>, <span style=\"color: #008000\">'federation_uuid'</span>: <span style=\"color: #008000\">'plan.yaml_bcc9ff53'</span>, <span style=\"color: #008000\">'authorized_cols'</span>: <span style=\"font-weight: bold\">[</span><span style=\"color: #008000\">'one'</span>, <span style=\"color: #008000\">'two'</span><span style=\"font-weight: bold\">]</span>,             \n",
       "                    <span style=\"color: #008000\">'assigner'</span>: <span style=\"font-weight: bold\">&lt;</span><span style=\"color: #ff00ff; font-weight: bold\">openfl.component.assigner.random_grouped_assigner.RandomGroupedAssigner</span><span style=\"color: #000000\"> object at </span><span style=\"color: #000080; font-weight: bold\">0x7f432c60bc50</span><span style=\"font-weight: bold\">&gt;}</span>                             \n",
       "</pre>\n"
      ],
      "text/plain": [
       "<rich.jupyter.JupyterRenderable at 0x7f41a3f5dc88>"
      ]
     },
     "metadata": {},
     "output_type": "display_data"
    },
    {
     "data": {
      "text/html": [
       "<pre style=\"white-space:pre;overflow-x:auto;line-height:normal;font-family:Menlo,'DejaVu Sans Mono',consolas,'Courier New',monospace\"><span style=\"color: #7fbfbf\">           </span><span style=\"color: #000080\">INFO</span>     Override <span style=\"color: #800000\">🡆</span> <span style=\"font-weight: bold\">{</span><span style=\"color: #008000\">'defaults'</span>: <span style=\"color: #008000\">'plan/defaults/aggregator.yaml'</span><span style=\"font-weight: bold\">}</span>                                                                         <a href=\"file:///home/radionov/.envs/dl_env/lib/python3.6/site-packages/openfl/federated/plan/plan.py\"><span style=\"color: #7f7f7f\">plan.py</span></a><span style=\"color: #7f7f7f\">:168</span>\n",
       "</pre>\n"
      ],
      "text/plain": [
       "<rich.jupyter.JupyterRenderable at 0x7f434822bc18>"
      ]
     },
     "metadata": {},
     "output_type": "display_data"
    },
    {
     "data": {
      "text/html": [
       "<pre style=\"white-space:pre;overflow-x:auto;line-height:normal;font-family:Menlo,'DejaVu Sans Mono',consolas,'Courier New',monospace\"><span style=\"color: #7fbfbf\">           </span><span style=\"color: #000080\">INFO</span>     Building <span style=\"color: #800000\">🡆</span> Object <span style=\"color: #800000\">Collaborator</span> from <span style=\"color: #800000\">openfl.component</span> Module.                                                                     <a href=\"file:///home/radionov/.envs/dl_env/lib/python3.6/site-packages/openfl/federated/plan/plan.py\"><span style=\"color: #7f7f7f\">plan.py</span></a><span style=\"color: #7f7f7f\">:164</span>\n",
       "</pre>\n"
      ],
      "text/plain": [
       "<rich.jupyter.JupyterRenderable at 0x7f4208f42668>"
      ]
     },
     "metadata": {},
     "output_type": "display_data"
    },
    {
     "data": {
      "text/html": [
       "<pre style=\"white-space:pre;overflow-x:auto;line-height:normal;font-family:Menlo,'DejaVu Sans Mono',consolas,'Courier New',monospace\"><span style=\"color: #7fbfbf\">           </span><span style=\"color: #000080\">INFO</span>     Settings <span style=\"color: #800000\">🡆</span> <span style=\"font-weight: bold\">{</span><span style=\"color: #008000\">'opt_treatment'</span>: <span style=\"color: #008000\">'RESET'</span>, <span style=\"color: #008000\">'delta_updates'</span>: <span style=\"color: #ff0000; font-style: italic\">False</span>, <span style=\"color: #008000\">'db_store_rounds'</span>: <span style=\"color: #000080; font-weight: bold\">1</span>, <span style=\"color: #008000\">'collaborator_name'</span>: <span style=\"color: #008000\">'one'</span>,                  <a href=\"file:///home/radionov/.envs/dl_env/lib/python3.6/site-packages/openfl/federated/plan/plan.py\"><span style=\"color: #7f7f7f\">plan.py</span></a><span style=\"color: #7f7f7f\">:166</span>\n",
       "                    <span style=\"color: #008000\">'aggregator_uuid'</span>: <span style=\"color: #008000\">'aggregator_plan.yaml_bcc9ff53'</span>, <span style=\"color: #008000\">'federation_uuid'</span>: <span style=\"color: #008000\">'plan.yaml_bcc9ff53'</span>, <span style=\"color: #008000\">'task_runner'</span>:                                 \n",
       "                    <span style=\"font-weight: bold\">&lt;</span><span style=\"color: #ff00ff; font-weight: bold\">openfl.federated.task.fl_model.FederatedModel</span><span style=\"color: #000000\"> object at </span><span style=\"color: #000080; font-weight: bold\">0x7f41b2415630</span><span style=\"font-weight: bold\">&gt;</span>, <span style=\"color: #008000\">'tensor_pipe'</span>:                                                    \n",
       "                    <span style=\"font-weight: bold\">&lt;</span><span style=\"color: #ff00ff; font-weight: bold\">openfl.pipelines.no_compression_pipeline.NoCompressionPipeline</span><span style=\"color: #000000\"> object at </span><span style=\"color: #000080; font-weight: bold\">0x7f432590aa20</span><span style=\"font-weight: bold\">&gt;</span>, <span style=\"color: #008000\">'task_config'</span>:                                   \n",
       "                    <span style=\"font-weight: bold\">{</span><span style=\"color: #008000\">'aggregated_model_validation'</span>: <span style=\"font-weight: bold\">{</span><span style=\"color: #008000\">'aggregation_type'</span>: <span style=\"font-weight: bold\">[</span><span style=\"color: #008000\">'weighted_average'</span><span style=\"font-weight: bold\">]</span>, <span style=\"color: #008000\">'function'</span>: <span style=\"color: #008000\">'validate'</span>, <span style=\"color: #008000\">'kwargs'</span>: <span style=\"font-weight: bold\">{</span><span style=\"color: #008000\">'apply'</span>: <span style=\"color: #008000\">'global'</span>,            \n",
       "                    <span style=\"color: #008000\">'metrics'</span>: <span style=\"font-weight: bold\">[</span><span style=\"color: #008000\">'dice_coef'</span><span style=\"font-weight: bold\">]}}</span>, <span style=\"color: #008000\">'locally_tuned_model_validation'</span>: <span style=\"font-weight: bold\">{</span><span style=\"color: #008000\">'aggregation_type'</span>: <span style=\"font-weight: bold\">[</span><span style=\"color: #008000\">'weighted_average'</span><span style=\"font-weight: bold\">]</span>, <span style=\"color: #008000\">'function'</span>: <span style=\"color: #008000\">'validate'</span>,            \n",
       "                    <span style=\"color: #008000\">'kwargs'</span>: <span style=\"font-weight: bold\">{</span><span style=\"color: #008000\">'apply'</span>: <span style=\"color: #008000\">'local'</span>, <span style=\"color: #008000\">'metrics'</span>: <span style=\"font-weight: bold\">[</span><span style=\"color: #008000\">'dice_coef'</span><span style=\"font-weight: bold\">]}}</span>, <span style=\"color: #008000\">'train'</span>: <span style=\"font-weight: bold\">{</span><span style=\"color: #008000\">'aggregation_type'</span>: <span style=\"font-weight: bold\">[</span><span style=\"color: #008000\">'weighted_average'</span><span style=\"font-weight: bold\">]</span>, <span style=\"color: #008000\">'function'</span>:                    \n",
       "                    <span style=\"color: #008000\">'train_batches'</span>, <span style=\"color: #008000\">'kwargs'</span>: <span style=\"font-weight: bold\">{</span><span style=\"color: #008000\">'metrics'</span>: <span style=\"font-weight: bold\">[</span><span style=\"color: #008000\">'loss'</span><span style=\"font-weight: bold\">]}}</span>, <span style=\"color: #008000\">'defaults'</span>: <span style=\"color: #008000\">'plan/defaults/tasks_torch.yaml'</span>, <span style=\"color: #008000\">'settings'</span>: <span style=\"font-weight: bold\">{}}</span>, <span style=\"color: #008000\">'client'</span>:                 \n",
       "                    <span style=\"font-weight: bold\">&lt;</span><span style=\"color: #ff00ff; font-weight: bold\">openfl.component.aggregator.aggregator.Aggregator</span><span style=\"color: #000000\"> object at </span><span style=\"color: #000080; font-weight: bold\">0x7f4208f2bb00</span><span style=\"font-weight: bold\">&gt;}</span>                                                               \n",
       "</pre>\n"
      ],
      "text/plain": [
       "<rich.jupyter.JupyterRenderable at 0x7f4208f42fd0>"
      ]
     },
     "metadata": {},
     "output_type": "display_data"
    },
    {
     "data": {
      "text/html": [
       "<pre style=\"white-space:pre;overflow-x:auto;line-height:normal;font-family:Menlo,'DejaVu Sans Mono',consolas,'Courier New',monospace\"><span style=\"color: #7fbfbf\">           </span><span style=\"color: #000080\">INFO</span>     Override <span style=\"color: #800000\">🡆</span> <span style=\"font-weight: bold\">{</span><span style=\"color: #008000\">'defaults'</span>: <span style=\"color: #008000\">'plan/defaults/collaborator.yaml'</span><span style=\"font-weight: bold\">}</span>                                                                       <a href=\"file:///home/radionov/.envs/dl_env/lib/python3.6/site-packages/openfl/federated/plan/plan.py\"><span style=\"color: #7f7f7f\">plan.py</span></a><span style=\"color: #7f7f7f\">:168</span>\n",
       "</pre>\n"
      ],
      "text/plain": [
       "<rich.jupyter.JupyterRenderable at 0x7f4208f4e0f0>"
      ]
     },
     "metadata": {},
     "output_type": "display_data"
    },
    {
     "data": {
      "text/html": [
       "<pre style=\"white-space:pre;overflow-x:auto;line-height:normal;font-family:Menlo,'DejaVu Sans Mono',consolas,'Courier New',monospace\"><span style=\"color: #7fbfbf\">           </span><span style=\"color: #000080\">INFO</span>     Building <span style=\"color: #800000\">🡆</span> Object <span style=\"color: #800000\">Collaborator</span> from <span style=\"color: #800000\">openfl.component</span> Module.                                                                     <a href=\"file:///home/radionov/.envs/dl_env/lib/python3.6/site-packages/openfl/federated/plan/plan.py\"><span style=\"color: #7f7f7f\">plan.py</span></a><span style=\"color: #7f7f7f\">:164</span>\n",
       "</pre>\n"
      ],
      "text/plain": [
       "<rich.jupyter.JupyterRenderable at 0x7f4208f5bac8>"
      ]
     },
     "metadata": {},
     "output_type": "display_data"
    },
    {
     "data": {
      "text/html": [
       "<pre style=\"white-space:pre;overflow-x:auto;line-height:normal;font-family:Menlo,'DejaVu Sans Mono',consolas,'Courier New',monospace\"><span style=\"color: #7fbfbf\">           </span><span style=\"color: #000080\">INFO</span>     Settings <span style=\"color: #800000\">🡆</span> <span style=\"font-weight: bold\">{</span><span style=\"color: #008000\">'opt_treatment'</span>: <span style=\"color: #008000\">'RESET'</span>, <span style=\"color: #008000\">'delta_updates'</span>: <span style=\"color: #ff0000; font-style: italic\">False</span>, <span style=\"color: #008000\">'db_store_rounds'</span>: <span style=\"color: #000080; font-weight: bold\">1</span>, <span style=\"color: #008000\">'collaborator_name'</span>: <span style=\"color: #008000\">'two'</span>,                  <a href=\"file:///home/radionov/.envs/dl_env/lib/python3.6/site-packages/openfl/federated/plan/plan.py\"><span style=\"color: #7f7f7f\">plan.py</span></a><span style=\"color: #7f7f7f\">:166</span>\n",
       "                    <span style=\"color: #008000\">'aggregator_uuid'</span>: <span style=\"color: #008000\">'aggregator_plan.yaml_bcc9ff53'</span>, <span style=\"color: #008000\">'federation_uuid'</span>: <span style=\"color: #008000\">'plan.yaml_bcc9ff53'</span>, <span style=\"color: #008000\">'task_runner'</span>:                                 \n",
       "                    <span style=\"font-weight: bold\">&lt;</span><span style=\"color: #ff00ff; font-weight: bold\">openfl.federated.task.fl_model.FederatedModel</span><span style=\"color: #000000\"> object at </span><span style=\"color: #000080; font-weight: bold\">0x7f41b0c90978</span><span style=\"font-weight: bold\">&gt;</span>, <span style=\"color: #008000\">'tensor_pipe'</span>:                                                    \n",
       "                    <span style=\"font-weight: bold\">&lt;</span><span style=\"color: #ff00ff; font-weight: bold\">openfl.pipelines.no_compression_pipeline.NoCompressionPipeline</span><span style=\"color: #000000\"> object at </span><span style=\"color: #000080; font-weight: bold\">0x7f432590aa20</span><span style=\"font-weight: bold\">&gt;</span>, <span style=\"color: #008000\">'task_config'</span>:                                   \n",
       "                    <span style=\"font-weight: bold\">{</span><span style=\"color: #008000\">'aggregated_model_validation'</span>: <span style=\"font-weight: bold\">{</span><span style=\"color: #008000\">'aggregation_type'</span>: <span style=\"font-weight: bold\">[</span><span style=\"color: #008000\">'weighted_average'</span><span style=\"font-weight: bold\">]</span>, <span style=\"color: #008000\">'function'</span>: <span style=\"color: #008000\">'validate'</span>, <span style=\"color: #008000\">'kwargs'</span>: <span style=\"font-weight: bold\">{</span><span style=\"color: #008000\">'apply'</span>: <span style=\"color: #008000\">'global'</span>,            \n",
       "                    <span style=\"color: #008000\">'metrics'</span>: <span style=\"font-weight: bold\">[</span><span style=\"color: #008000\">'dice_coef'</span><span style=\"font-weight: bold\">]}}</span>, <span style=\"color: #008000\">'locally_tuned_model_validation'</span>: <span style=\"font-weight: bold\">{</span><span style=\"color: #008000\">'aggregation_type'</span>: <span style=\"font-weight: bold\">[</span><span style=\"color: #008000\">'weighted_average'</span><span style=\"font-weight: bold\">]</span>, <span style=\"color: #008000\">'function'</span>: <span style=\"color: #008000\">'validate'</span>,            \n",
       "                    <span style=\"color: #008000\">'kwargs'</span>: <span style=\"font-weight: bold\">{</span><span style=\"color: #008000\">'apply'</span>: <span style=\"color: #008000\">'local'</span>, <span style=\"color: #008000\">'metrics'</span>: <span style=\"font-weight: bold\">[</span><span style=\"color: #008000\">'dice_coef'</span><span style=\"font-weight: bold\">]}}</span>, <span style=\"color: #008000\">'train'</span>: <span style=\"font-weight: bold\">{</span><span style=\"color: #008000\">'aggregation_type'</span>: <span style=\"font-weight: bold\">[</span><span style=\"color: #008000\">'weighted_average'</span><span style=\"font-weight: bold\">]</span>, <span style=\"color: #008000\">'function'</span>:                    \n",
       "                    <span style=\"color: #008000\">'train_batches'</span>, <span style=\"color: #008000\">'kwargs'</span>: <span style=\"font-weight: bold\">{</span><span style=\"color: #008000\">'metrics'</span>: <span style=\"font-weight: bold\">[</span><span style=\"color: #008000\">'loss'</span><span style=\"font-weight: bold\">]}}</span>, <span style=\"color: #008000\">'defaults'</span>: <span style=\"color: #008000\">'plan/defaults/tasks_torch.yaml'</span>, <span style=\"color: #008000\">'settings'</span>: <span style=\"font-weight: bold\">{}}</span>, <span style=\"color: #008000\">'client'</span>:                 \n",
       "                    <span style=\"font-weight: bold\">&lt;</span><span style=\"color: #ff00ff; font-weight: bold\">openfl.component.aggregator.aggregator.Aggregator</span><span style=\"color: #000000\"> object at </span><span style=\"color: #000080; font-weight: bold\">0x7f4208f2bb00</span><span style=\"font-weight: bold\">&gt;</span>, <span style=\"color: #008000\">'defaults'</span>: <span style=\"color: #008000\">'plan/defaults/collaborator.yaml'</span><span style=\"font-weight: bold\">}</span>                \n",
       "</pre>\n"
      ],
      "text/plain": [
       "<rich.jupyter.JupyterRenderable at 0x7f4208f5bf60>"
      ]
     },
     "metadata": {},
     "output_type": "display_data"
    },
    {
     "data": {
      "text/html": [
       "<pre style=\"white-space:pre;overflow-x:auto;line-height:normal;font-family:Menlo,'DejaVu Sans Mono',consolas,'Courier New',monospace\"><span style=\"color: #7fbfbf\">           </span><span style=\"color: #000080\">INFO</span>     Override <span style=\"color: #800000\">🡆</span> <span style=\"font-weight: bold\">{</span><span style=\"color: #008000\">'defaults'</span>: <span style=\"color: #008000\">'plan/defaults/collaborator.yaml'</span><span style=\"font-weight: bold\">}</span>                                                                       <a href=\"file:///home/radionov/.envs/dl_env/lib/python3.6/site-packages/openfl/federated/plan/plan.py\"><span style=\"color: #7f7f7f\">plan.py</span></a><span style=\"color: #7f7f7f\">:168</span>\n",
       "</pre>\n"
      ],
      "text/plain": [
       "<rich.jupyter.JupyterRenderable at 0x7f4208f5ba20>"
      ]
     },
     "metadata": {},
     "output_type": "display_data"
    },
    {
     "data": {
      "text/html": [
       "<pre style=\"white-space:pre;overflow-x:auto;line-height:normal;font-family:Menlo,'DejaVu Sans Mono',consolas,'Courier New',monospace\"><span style=\"color: #7fbfbf\">           </span><span style=\"color: #000080\">INFO</span>     Waiting for tasks<span style=\"color: #808000\">...</span>                                                                                                     <a href=\"file:///home/radionov/.envs/dl_env/lib/python3.6/site-packages/openfl/component/collaborator/collaborator.py\"><span style=\"color: #7f7f7f\">collaborator.py</span></a><span style=\"color: #7f7f7f\">:156</span>\n",
       "</pre>\n"
      ],
      "text/plain": [
       "<rich.jupyter.JupyterRenderable at 0x7f4208f5b908>"
      ]
     },
     "metadata": {},
     "output_type": "display_data"
    },
    {
     "data": {
      "text/html": [
       "<pre style=\"white-space:pre;overflow-x:auto;line-height:normal;font-family:Menlo,'DejaVu Sans Mono',consolas,'Courier New',monospace\"><span style=\"color: #7fbfbf\">           </span><span style=\"color: #000080\">INFO</span>     Sending tasks to collaborator one for round <span style=\"color: #000080; font-weight: bold\">0</span>                                                                              <a href=\"file:///home/radionov/.envs/dl_env/lib/python3.6/site-packages/openfl/component/aggregator/aggregator.py\"><span style=\"color: #7f7f7f\">aggregator.py</span></a><span style=\"color: #7f7f7f\">:277</span>\n",
       "</pre>\n"
      ],
      "text/plain": [
       "<rich.jupyter.JupyterRenderable at 0x7f4208f5ba20>"
      ]
     },
     "metadata": {},
     "output_type": "display_data"
    },
    {
     "data": {
      "text/html": [
       "<pre style=\"white-space:pre;overflow-x:auto;line-height:normal;font-family:Menlo,'DejaVu Sans Mono',consolas,'Courier New',monospace\"><span style=\"color: #7fbfbf\">           </span><span style=\"color: #000080\">INFO</span>     Received the following tasks: <span style=\"font-weight: bold\">[</span><span style=\"color: #008000\">'aggregated_model_validation'</span>, <span style=\"color: #008000\">'train'</span>, <span style=\"color: #008000\">'locally_tuned_model_validation'</span><span style=\"font-weight: bold\">]</span>                 <a href=\"file:///home/radionov/.envs/dl_env/lib/python3.6/site-packages/openfl/component/collaborator/collaborator.py\"><span style=\"color: #7f7f7f\">collaborator.py</span></a><span style=\"color: #7f7f7f\">:145</span>\n",
       "</pre>\n"
      ],
      "text/plain": [
       "<rich.jupyter.JupyterRenderable at 0x7f4208f5bba8>"
      ]
     },
     "metadata": {},
     "output_type": "display_data"
    },
    {
     "data": {
      "text/html": [
       "<pre style=\"white-space:pre;overflow-x:auto;line-height:normal;font-family:Menlo,'DejaVu Sans Mono',consolas,'Courier New',monospace\"><span style=\"color: #7fbfbf\">[14:07:02] </span><span style=\"color: #000080\">INFO</span>     Sending metric for task aggregated_model_validation, round number <span style=\"color: #000080; font-weight: bold\">0</span>: dice_coef  <span style=\"color: #000080; font-weight: bold\">0.03710060337415108</span>                      <a href=\"file:///home/radionov/.envs/dl_env/lib/python3.6/site-packages/openfl/component/collaborator/collaborator.py\"><span style=\"color: #7f7f7f\">collaborator.py</span></a><span style=\"color: #7f7f7f\">:366</span>\n",
       "</pre>\n"
      ],
      "text/plain": [
       "<rich.jupyter.JupyterRenderable at 0x7f4208f22198>"
      ]
     },
     "metadata": {},
     "output_type": "display_data"
    },
    {
     "data": {
      "text/html": [
       "<pre style=\"white-space:pre;overflow-x:auto;line-height:normal;font-family:Menlo,'DejaVu Sans Mono',consolas,'Courier New',monospace\"><span style=\"color: #7fbfbf\">           </span><span style=\"color: #000080\">INFO</span>     Collaborator one is sending task results for aggregated_model_validation, round <span style=\"color: #000080; font-weight: bold\">0</span>                                          <a href=\"file:///home/radionov/.envs/dl_env/lib/python3.6/site-packages/openfl/component/aggregator/aggregator.py\"><span style=\"color: #7f7f7f\">aggregator.py</span></a><span style=\"color: #7f7f7f\">:430</span>\n",
       "</pre>\n"
      ],
      "text/plain": [
       "<rich.jupyter.JupyterRenderable at 0x7f4208f22518>"
      ]
     },
     "metadata": {},
     "output_type": "display_data"
    }
   ],
   "source": [
    "# Run experiment, return trained FederatedModel\n",
    "final_fl_model = fx.run_experiment(\n",
    "    collaborators, override_config=override_config)"
   ]
  },
  {
   "cell_type": "markdown",
   "id": "upper-michael",
   "metadata": {},
   "source": [
    "Lets validate final model on common validation dataset."
   ]
  },
  {
   "cell_type": "code",
   "execution_count": 14,
   "id": "demanding-champagne",
   "metadata": {
    "scrolled": false
   },
   "outputs": [
    {
     "name": "stderr",
     "output_type": "stream",
     "text": [
      "100%|██████████| 9/9 [00:24<00:00,  2.73s/it]\n",
      "100%|██████████| 9/9 [00:24<00:00,  2.75s/it]\n"
     ]
    }
   ],
   "source": [
    "model = final_fl_model.model\n",
    "model.eval()\n",
    "device = final_fl_model.runner.device\n",
    "model.to(device)\n",
    "metric = 0.0\n",
    "sample_num = 0\n",
    "with torch.no_grad():\n",
    "    for collaborator in collaborator_models:\n",
    "        loader = collaborator.runner.data_loader.get_valid_loader()\n",
    "        for val_inputs, val_labels in tqdm(loader):\n",
    "            val_inputs = val_inputs.to(device)\n",
    "            val_labels = val_labels.to(device)\n",
    "            val_outputs = model(val_inputs)\n",
    "            val_outputs = (val_outputs >= 0.5).float()\n",
    "            value = soft_dice_coef(val_outputs, val_labels)\n",
    "            sample_num += val_labels.shape[0]\n",
    "            metric += value.cpu().numpy()\n",
    "\n",
    "metric = metric / sample_num"
   ]
  },
  {
   "cell_type": "code",
   "execution_count": 15,
   "id": "located-turning",
   "metadata": {},
   "outputs": [
    {
     "data": {
      "text/plain": [
       "0.6985069100673382"
      ]
     },
     "execution_count": 15,
     "metadata": {},
     "output_type": "execute_result"
    }
   ],
   "source": [
    "# Metric for final model on whole validation dataset\n",
    "metric"
   ]
  },
  {
   "cell_type": "markdown",
   "id": "aging-recognition",
   "metadata": {},
   "source": [
    "Inference final model on test data. We should replace `generate_*_list` methods to pass test data to user datasets"
   ]
  },
  {
   "cell_type": "code",
   "execution_count": 28,
   "id": "broad-gateway",
   "metadata": {
    "collapsed": true
   },
   "outputs": [
    {
     "data": {
      "text/html": [
       "<pre style=\"white-space:pre;overflow-x:auto;line-height:normal;font-family:Menlo,'DejaVu Sans Mono',consolas,'Courier New',monospace\"><span style=\"color: #7fbfbf\">[11:27:37] </span><span style=\"color: #800000\">WARNING</span>  tried to remove tensor: __opt_state_needed not present in the tensor dict                                                        <a href=\"file:///home/radionov/.envs/dl_env/lib/python3.6/site-packages/openfl/utilities/utils.py\"><span style=\"color: #7f7f7f\">utils.py</span></a><span style=\"color: #7f7f7f\">:86</span>\n",
       "</pre>\n"
      ],
      "text/plain": [
       "<rich.jupyter.JupyterRenderable at 0x7f0bb0bb76d8>"
      ]
     },
     "metadata": {},
     "output_type": "display_data"
    },
    {
     "data": {
      "text/html": [
       "<pre style=\"white-space:pre;overflow-x:auto;line-height:normal;font-family:Menlo,'DejaVu Sans Mono',consolas,'Courier New',monospace\"><span style=\"color: #7fbfbf\">[11:27:41] </span><span style=\"color: #800000\">WARNING</span>  tried to remove tensor: __opt_state_needed not present in the tensor dict                                                        <a href=\"file:///home/radionov/.envs/dl_env/lib/python3.6/site-packages/openfl/utilities/utils.py\"><span style=\"color: #7f7f7f\">utils.py</span></a><span style=\"color: #7f7f7f\">:86</span>\n",
       "</pre>\n"
      ],
      "text/plain": [
       "<rich.jupyter.JupyterRenderable at 0x7f0bb11d7630>"
      ]
     },
     "metadata": {},
     "output_type": "display_data"
    },
    {
     "data": {
      "text/html": [
       "<pre style=\"white-space:pre;overflow-x:auto;line-height:normal;font-family:Menlo,'DejaVu Sans Mono',consolas,'Courier New',monospace\"><span style=\"color: #7fbfbf\">[11:27:44] </span><span style=\"color: #800000\">WARNING</span>  tried to remove tensor: __opt_state_needed not present in the tensor dict                                                        <a href=\"file:///home/radionov/.envs/dl_env/lib/python3.6/site-packages/openfl/utilities/utils.py\"><span style=\"color: #7f7f7f\">utils.py</span></a><span style=\"color: #7f7f7f\">:86</span>\n",
       "</pre>\n"
      ],
      "text/plain": [
       "<rich.jupyter.JupyterRenderable at 0x7f0bb13b9c50>"
      ]
     },
     "metadata": {},
     "output_type": "display_data"
    }
   ],
   "source": [
    "# Checking\n",
    "\n",
    "def generate_name_list(collaborator_count, collaborator_num, is_validation):\n",
    "    data_dir = './data/MICCAI_BraTS2020_TrainingData/'\n",
    "    data = [\n",
    "        {\n",
    "            'image1': data_dir + 'BraTS20_Training_'+str(i)[1:]+'/BraTS20_Training_'+str(i)[1:]+'_flair.nii.gz',\n",
    "            'image2': data_dir + 'BraTS20_Training_'+str(i)[1:]+'/BraTS20_Training_'+str(i)[1:]+'_t1ce.nii.gz',\n",
    "            'image3': data_dir + 'BraTS20_Training_'+str(i)[1:]+'/BraTS20_Training_'+str(i)[1:]+'_t1.nii.gz',\n",
    "            'image4': data_dir + 'BraTS20_Training_'+str(i)[1:]+'/BraTS20_Training_'+str(i)[1:]+'_t2.nii.gz',\n",
    "            'label': data_dir + 'BraTS20_Training_'+str(i)[1:]+'/BraTS20_Training_'+str(i)[1:]+'_seg.nii.gz'\n",
    "        } for i in range(1001, 1370)]\n",
    "    data = data[collaborator_num:: collaborator_count]\n",
    "    assert(len(data) > 8)\n",
    "    validation_size = len(data) // 8\n",
    "    if is_validation:\n",
    "        data = data[-validation_size:]\n",
    "    else:\n",
    "        data = data[: -validation_size]\n",
    "    return data\n",
    "\n",
    "\n",
    "def OUR_generate_train_list(self,  *args, **kwargs):\n",
    "    return generate_name_list(2, 1, False)\n",
    "\n",
    "# Take in attention, we create only 4 object in valid dataset\n",
    "\n",
    "\n",
    "def OUR_generate_val_list(self,  *args, **kwargs):\n",
    "    return generate_name_list(2, 1, True)[:4]  # create only 4 images\n",
    "\n",
    "\n",
    "# Replace functions:\n",
    "BraTSFederatedDataset.generate_train_list = OUR_generate_train_list\n",
    "BraTSFederatedDataset.generate_val_list = OUR_generate_val_list\n",
    "\n",
    "# Usual training process:\n",
    "fl_data2 = BraTSFederatedDataset(batch_size=6)\n",
    "fl_model2 = FederatedModel(build_model=UNet3d, optimizer=optimizer,\n",
    "                           loss_fn=loss_function, data_loader=fl_data2)\n",
    "collaborator_models2 = fl_model2.setup(num_collaborators=2)\n",
    "collaborators2 = {\n",
    "    'one': collaborator_models2[0], 'two': collaborator_models2[1]}"
   ]
  },
  {
   "cell_type": "code",
   "execution_count": 29,
   "id": "aware-reviewer",
   "metadata": {},
   "outputs": [
    {
     "name": "stderr",
     "output_type": "stream",
     "text": [
      "100%|██████████| 1/1 [00:06<00:00,  6.98s/it]\n",
      "  0%|          | 0/1 [00:00<?, ?it/s]"
     ]
    },
    {
     "name": "stdout",
     "output_type": "stream",
     "text": [
      "torch.Size([4, 4, 160, 160, 128])\n"
     ]
    },
    {
     "name": "stderr",
     "output_type": "stream",
     "text": [
      "100%|██████████| 1/1 [00:07<00:00,  7.06s/it]"
     ]
    },
    {
     "name": "stdout",
     "output_type": "stream",
     "text": [
      "torch.Size([4, 4, 160, 160, 128])\n"
     ]
    },
    {
     "name": "stderr",
     "output_type": "stream",
     "text": [
      "\n"
     ]
    }
   ],
   "source": [
    "# Just show how new collaborators work:\n",
    "for collaborator in collaborator_models2:\n",
    "    loader = collaborator.runner.data_loader.get_valid_loader()\n",
    "    for val_inputs, val_labels in tqdm(loader):\n",
    "        print(val_inputs.shape)"
   ]
  },
  {
   "cell_type": "code",
   "execution_count": null,
   "id": "ecological-halifax",
   "metadata": {},
   "outputs": [],
   "source": [
    "# We get 4 - size batch, so this is our new data"
   ]
  }
 ],
 "metadata": {
  "kernelspec": {
   "display_name": "Python 3",
   "language": "python",
   "name": "python3"
  },
  "language_info": {
   "codemirror_mode": {
    "name": "ipython",
    "version": 3
   },
   "file_extension": ".py",
   "mimetype": "text/x-python",
   "name": "python",
   "nbconvert_exporter": "python",
   "pygments_lexer": "ipython3",
   "version": "3.6.9"
  },
  "varInspector": {
   "cols": {
    "lenName": 16,
    "lenType": 16,
    "lenVar": 40
   },
   "kernels_config": {
    "python": {
     "delete_cmd_postfix": "",
     "delete_cmd_prefix": "del ",
     "library": "var_list.py",
     "varRefreshCmd": "print(var_dic_list())"
    },
    "r": {
     "delete_cmd_postfix": ") ",
     "delete_cmd_prefix": "rm(",
     "library": "var_list.r",
     "varRefreshCmd": "cat(var_dic_list()) "
    }
   },
   "types_to_exclude": [
    "module",
    "function",
    "builtin_function_or_method",
    "instance",
    "_Feature"
   ],
   "window_display": false
  }
 },
 "nbformat": 4,
 "nbformat_minor": 5
}
