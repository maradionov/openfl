{
 "cells": [
  {
   "cell_type": "code",
   "execution_count": 1,
   "id": "controlled-interaction",
   "metadata": {},
   "outputs": [],
   "source": [
    "!python -c \"import monai\" || pip install -q \"monai-weekly[nibabel, tqdm]\"\n",
    "!python -c \"import matplotlib\" || pip install -q matplotlib\n",
    "%matplotlib inline"
   ]
  },
  {
   "cell_type": "code",
   "execution_count": 2,
   "id": "iraqi-parameter",
   "metadata": {},
   "outputs": [
    {
     "name": "stdout",
     "output_type": "stream",
     "text": [
      "Creating Workspace Directories\n",
      "Creating Workspace Templates\n"
     ]
    },
    {
     "name": "stderr",
     "output_type": "stream",
     "text": [
      "/home/maksim/.virtualenvs/brain_tumor/lib/python3.6/site-packages/torch/cuda/__init__.py:52: UserWarning: CUDA initialization: Found no NVIDIA driver on your system. Please check that you have an NVIDIA GPU and installed a driver from http://www.nvidia.com/Download/index.aspx (Triggered internally at  /pytorch/c10/cuda/CUDAFunctions.cpp:100.)\n",
      "  return torch._C._cuda_getDeviceCount() > 0\n"
     ]
    },
    {
     "name": "stdout",
     "output_type": "stream",
     "text": [
      "Successfully installed packages from /home/maksim/.local/workspace/requirements.txt.\n",
      "\n",
      "New workspace directory structure:\n",
      "workspace\n",
      "├── agg_to_col_one_signed_cert.zip\n",
      "├── code\n",
      "│   ├── data_loader.py\n",
      "│   ├── fed_unet_runner.py\n",
      "│   ├── pt_unet_parts.py\n",
      "│   └── __init__.py\n",
      "├── plan\n",
      "│   ├── data.yaml\n",
      "│   ├── plan.yaml\n",
      "│   ├── cols.yaml\n",
      "│   └── defaults\n",
      "│       ├── aggregator.yaml\n",
      "│       ├── network.yaml\n",
      "│       ├── assigner.yaml\n",
      "│       ├── collaborator.yaml\n",
      "│       ├── tasks_torch.yaml\n",
      "│       ├── tasks_tensorflow.yaml\n",
      "│       ├── tasks_keras.yaml\n",
      "│       ├── tasks_fast_estimator.yaml\n",
      "│       ├── data_loader.yaml\n",
      "│       ├── task_runner.yaml\n",
      "│       └── defaults\n",
      "├── logs\n",
      "├── save\n",
      "│   ├── torch_unet_kvasir_init.pbuf\n",
      "│   ├── torch_unet_kvasir_last.pbuf\n",
      "│   └── torch_unet_kvasir_best.pbuf\n",
      "├── .workspace\n",
      "├── cert\n",
      "│   ├── ca\n",
      "│   │   ├── signing-ca\n",
      "│   │   ├── signing-ca.csr\n",
      "│   │   ├── root-ca\n",
      "│   │   ├── signing-ca.crt\n",
      "│   │   └── root-ca.crt\n",
      "│   ├── server\n",
      "│   │   ├── agg_none.csr\n",
      "│   │   ├── agg_none.key\n",
      "│   │   └── agg_none.crt\n",
      "│   ├── client\n",
      "│   │   ├── col_one.crt\n",
      "│   │   ├── col_two.crt\n",
      "│   │   ├── col_two.key\n",
      "│   │   └── col_one.key\n",
      "│   ├── cert_chain.crt\n",
      "│   ├── col_one.csr\n",
      "│   └── col_two.csr\n",
      "├── agg_to_col_two_signed_cert.zip\n",
      "├── requirements.txt\n",
      "├── data\n",
      "│   ├── Task01_BrainTumour.tar.part\n",
      "│   └── Task01_BrainTumour\n",
      "│       ├── labelsTr\n",
      "│       ├── ._imagesTr\n",
      "│       ├── ._imagesTs\n",
      "│       ├── imagesTr\n",
      "│       ├── imagesTs\n",
      "│       ├── dataset.json\n",
      "│       └── ._labelsTr\n",
      "└── kvasir.zip\n",
      "\n",
      "16 directories, 44 files\n",
      "Setting Up Certificate Authority...\n",
      "\n",
      "1.  Create Root CA\n",
      "1.1 Create Directories\n",
      "1.2 Create Database\n",
      "1.3 Create CA Request and Certificate\n",
      "2.  Create Signing Certificate\n",
      "2.1 Create Directories\n",
      "2.2 Create Database\n",
      "2.3 Create Signing Certificate CSR\n",
      "2.4 Sign Signing Certificate CSR\n",
      "3   Create Certificate Chain\n",
      "\n",
      "Done.\n",
      "Creating AGGREGATOR certificate key pair with following settings: CN=\u001b[31mnone\u001b[0m, SAN=\u001b[31mDNS:none\u001b[0m\n",
      "  Writing AGGREGATOR certificate key pair to: \u001b[32mcert/server\u001b[0m\n",
      "The CSR Hash for file \u001b[32mserver/agg_none.csr\u001b[0m = \u001b[31m080e8a5cf50fd3cb5dcc17e5c8247b0c99a302156fa8007cdad01acee0879026251a36db6615fccc6e4c0756dca8fc4e\u001b[0m\n",
      " Signing AGGREGATOR certificate\n",
      "Creating COLLABORATOR certificate key pair with following settings: CN=\u001b[31mone\u001b[0m, SAN=\u001b[31mDNS:one\u001b[0m\n",
      "  Moving COLLABORATOR certificate to: \u001b[32mcert/col_one\u001b[0m\n",
      "The CSR Hash for file \u001b[32mcol_one.csr\u001b[0m = \u001b[31m3a48e091c8610e1f069236c5792a363d00532feb206a347279bcf5ad5126ecab6bd9db19126fd4a1b24e83e1f4142d2e\u001b[0m\n",
      " Signing COLLABORATOR certificate\n",
      "\n",
      "Registering \u001b[32mone\u001b[0m in \u001b[32mplan/cols.yaml\u001b[0m\n",
      "Creating COLLABORATOR certificate key pair with following settings: CN=\u001b[31mtwo\u001b[0m, SAN=\u001b[31mDNS:two\u001b[0m\n",
      "  Moving COLLABORATOR certificate to: \u001b[32mcert/col_two\u001b[0m\n",
      "The CSR Hash for file \u001b[32mcol_two.csr\u001b[0m = \u001b[31me89f57c9cde066c320bf11ca0c73c03bd5e44c38ef5dd46746be61817a2926ffa754a924e21d80d02a9d862fe9201a4e\u001b[0m\n",
      " Signing COLLABORATOR certificate\n",
      "\n",
      "Registering \u001b[32mtwo\u001b[0m in \u001b[32mplan/cols.yaml\u001b[0m\n"
     ]
    }
   ],
   "source": [
    "import openfl.native as fx\n",
    "\n",
    "# Setup default workspace, logging, etc. Install additional requirements\n",
    "fx.init('torch_unet_kvasir')"
   ]
  },
  {
   "cell_type": "code",
   "execution_count": 3,
   "id": "further-report",
   "metadata": {},
   "outputs": [
    {
     "name": "stdout",
     "output_type": "stream",
     "text": [
      "/home/maksim/.local/workspace\r\n"
     ]
    }
   ],
   "source": [
    "!pwd"
   ]
  },
  {
   "cell_type": "code",
   "execution_count": 4,
   "id": "dirty-filename",
   "metadata": {},
   "outputs": [],
   "source": [
    "# Copyright 2020 MONAI Consortium\n",
    "# Licensed under the Apache License, Version 2.0 (the \"License\");\n",
    "# you may not use this file except in compliance with the License.\n",
    "# You may obtain a copy of the License at\n",
    "#     http://www.apache.org/licenses/LICENSE-2.0\n",
    "# Unless required by applicable law or agreed to in writing, software\n",
    "# distributed under the License is distributed on an \"AS IS\" BASIS,\n",
    "# WITHOUT WARRANTIES OR CONDITIONS OF ANY KIND, either express or implied.\n",
    "# See the License for the specific language governing permissions and\n",
    "# limitations under the License.\n",
    "\n",
    "import os\n",
    "import shutil\n",
    "import tempfile\n",
    "import sys\n",
    "import json\n",
    "\n",
    "import matplotlib.pyplot as plt\n",
    "import numpy as np\n",
    "from monai.apps import DecathlonDataset\n",
    "from monai.config import print_config\n",
    "from monai.data import DataLoader\n",
    "from monai.data import CacheDataset\n",
    "from monai.data import Dataset \n",
    "from monai.data import (load_decathlon_datalist, load_decathlon_properties)\n",
    "from monai.transforms import Randomizable\n",
    "from monai.losses import DiceLoss\n",
    "from monai.metrics import DiceMetric\n",
    "from monai.networks.nets import UNet\n",
    "from monai.transforms import (\n",
    "    Activations,\n",
    "    AsChannelFirstd,\n",
    "    AsDiscrete,\n",
    "    CenterSpatialCropd,\n",
    "    Compose,\n",
    "    LoadImaged,\n",
    "    MapTransform,\n",
    "    NormalizeIntensityd,\n",
    "    Orientationd,\n",
    "    RandFlipd,\n",
    "    RandScaleIntensityd,\n",
    "    RandShiftIntensityd,\n",
    "    RandSpatialCropd,\n",
    "    Spacingd,\n",
    "    ToTensord,\n",
    ")\n",
    "from monai.utils import set_determinism\n",
    "\n",
    "import torch\n",
    "from typing import TYPE_CHECKING, Any, Callable, List, Optional, Sequence, Union, Dict\n",
    "from openfl.federated import FederatedModel, FederatedDataSet\n",
    "from openfl.utilities import TensorKey\n",
    "\n",
    "# print_config()set"
   ]
  },
  {
   "cell_type": "code",
   "execution_count": 5,
   "id": "pursuant-bobby",
   "metadata": {},
   "outputs": [],
   "source": [
    "class ConvertToMultiChannelBasedOnBratsClassesd(MapTransform):\n",
    "    \"\"\"\n",
    "    Convert labels to multi channels based on brats classes:\n",
    "    label 1 is the peritumoral edema\n",
    "    label 2 is the GD-enhancing tumor\n",
    "    label 3 is the necrotic and non-enhancing tumor core\n",
    "    The possible classes are TC (Tumor core), WT (Whole tumor)\n",
    "    and ET (Enhancing tumor).\n",
    "\n",
    "    \"\"\"\n",
    "\n",
    "    def __call__(self, data):\n",
    "        d = dict(data)\n",
    "        for key in self.keys:\n",
    "            result = []\n",
    "            # merge label 2 and label 3 to construct TC\n",
    "            result.append(np.logical_or(d[key] == 2, d[key] == 3))\n",
    "            # merge labels 1, 2 and 3 to construct WT\n",
    "            result.append(\n",
    "                np.logical_or(\n",
    "                    np.logical_or(d[key] == 2, d[key] == 3), d[key] == 1\n",
    "                )\n",
    "            )\n",
    "            # label 2 is ET\n",
    "            result.append(d[key] == 2)\n",
    "            d[key] = np.stack(result, axis=0).astype(np.float32)\n",
    "        return d"
   ]
  },
  {
   "cell_type": "code",
   "execution_count": 6,
   "id": "detailed-wilderness",
   "metadata": {},
   "outputs": [],
   "source": [
    "train_transform = Compose(\n",
    "    [\n",
    "        # load 4 Nifti images and stack them together\n",
    "        LoadImaged(keys=[\"image\", \"label\"]),\n",
    "        AsChannelFirstd(keys=\"image\"),\n",
    "        ConvertToMultiChannelBasedOnBratsClassesd(keys=\"label\"),\n",
    "        Spacingd(\n",
    "            keys=[\"image\", \"label\"],\n",
    "            pixdim=(1.5, 1.5, 2.0),\n",
    "            mode=(\"bilinear\", \"nearest\"),\n",
    "        ),\n",
    "        Orientationd(keys=[\"image\", \"label\"], axcodes=\"RAS\"),\n",
    "        RandSpatialCropd(\n",
    "            keys=[\"image\", \"label\"], roi_size=[128, 128, 64], random_size=False\n",
    "        ),\n",
    "        RandFlipd(keys=[\"image\", \"label\"], prob=0.5, spatial_axis=0),\n",
    "        NormalizeIntensityd(keys=\"image\", nonzero=True, channel_wise=True),\n",
    "        RandScaleIntensityd(keys=\"image\", factors=0.1, prob=0.5),\n",
    "        RandShiftIntensityd(keys=\"image\", offsets=0.1, prob=0.5),\n",
    "        ToTensord(keys=[\"image\", \"label\"]),\n",
    "    ]\n",
    ")\n",
    "val_transform = Compose(\n",
    "    [\n",
    "        LoadImaged(keys=[\"image\", \"label\"]),\n",
    "        AsChannelFirstd(keys=\"image\"),\n",
    "        ConvertToMultiChannelBasedOnBratsClassesd(keys=\"label\"),\n",
    "        Spacingd(\n",
    "            keys=[\"image\", \"label\"],\n",
    "            pixdim=(1.5, 1.5, 2.0),\n",
    "            mode=(\"bilinear\", \"nearest\"),\n",
    "        ),\n",
    "        Orientationd(keys=[\"image\", \"label\"], axcodes=\"RAS\"),\n",
    "        CenterSpatialCropd(keys=[\"image\", \"label\"], roi_size=[128, 128, 64]),\n",
    "        NormalizeIntensityd(keys=\"image\", nonzero=True, channel_wise=True),\n",
    "        ToTensord(keys=[\"image\", \"label\"]),\n",
    "    ]\n",
    ")"
   ]
  },
  {
   "cell_type": "code",
   "execution_count": 7,
   "id": "boolean-intensity",
   "metadata": {},
   "outputs": [],
   "source": [
    "class BrainFederatedDataset(Randomizable, CacheDataset):\n",
    "    \"\"\"\n",
    "    The Dataset to automatically download the data of Medical Segmentation Decathlon challenge\n",
    "    (http://medicaldecathlon.com/) and generate items for training, validation or test.\n",
    "    It will also load these properties from the JSON config file of dataset. user can call `get_properties()`\n",
    "    to get specified properties or all the properties loaded.\n",
    "    \"\"\"\n",
    "\n",
    "    def __init__(self, collaborator_count, collaborator_num, is_validation, transform):\n",
    "        self.is_validation = is_validation\n",
    "        dataset_dir = './data/Task01_BrainTumour/' #os.path.join(root_dir, task)\n",
    "\n",
    "        self.indices: np.ndarray = np.array([])\n",
    "        if is_validation:\n",
    "            transform = val_transform\n",
    "        else:\n",
    "            transform = train_transform \n",
    "        data = self._generate_data_list(dataset_dir)\n",
    "        data= data[collaborator_num:: collaborator_count]\n",
    "        print(len(data), 'len')\n",
    "        self.is_validation = is_validation\n",
    "        assert(len(data) > 8)\n",
    "        validation_size = len(data) // 8\n",
    "        if is_validation:\n",
    "            data= data[-validation_size:]\n",
    "        else:\n",
    "            data= data[: -validation_size]\n",
    "        property_keys = [\n",
    "            \"name\",\n",
    "            \"description\",\n",
    "            \"reference\",\n",
    "            \"licence\",\n",
    "            \"tensorImageSize\",\n",
    "            \"modality\",\n",
    "            \"labels\",\n",
    "            \"numTraining\",\n",
    "            \"numTest\",\n",
    "        ]\n",
    "        self._properties = load_decathlon_properties(os.path.join(dataset_dir, \"dataset.json\"), property_keys)\n",
    "        super().__init__(data, transform, cache_num=1, num_workers=4)\n",
    "\n",
    "    def get_indices(self) -> np.ndarray:\n",
    "        \"\"\"\n",
    "        Get the indices of datalist used in this dataset.\n",
    "\n",
    "        \"\"\"\n",
    "        return self.indices\n",
    "\n",
    "    def randomize(self, data: List[int]) -> None:\n",
    "        self.R.shuffle(data)\n",
    "\n",
    "    def _generate_data_list(self, dataset_dir: str) -> List[Dict]:\n",
    "        datalist = load_decathlon_datalist(os.path.join(dataset_dir, \"dataset.json\"), True, \"training\")\n",
    "        return datalist\n",
    "    \n",
    "    def __getitem__(self, index):\n",
    "        tmp = super().__getitem__(index)\n",
    "        return (tmp['image'], tmp['label'])\n"
   ]
  },
  {
   "cell_type": "code",
   "execution_count": null,
   "id": "stone-visiting",
   "metadata": {},
   "outputs": [],
   "source": []
  },
  {
   "cell_type": "code",
   "execution_count": 8,
   "id": "collectible-banner",
   "metadata": {},
   "outputs": [],
   "source": [
    "class KvasirFederatedDataset(FederatedDataSet):\n",
    "    def __init__(self, collaborator_count=1, collaborator_num=0, batch_size=1, is_split=False, **kwargs):\n",
    "        \"\"\"Instantiate the data object\n",
    "        Args:\n",
    "            collaborator_count: total number of collaborators\n",
    "            collaborator_num: number of current collaborator\n",
    "            batch_size:  the batch size of the data loader\n",
    "            **kwargs: additional arguments, passed to super init\n",
    "        \"\"\"\n",
    "        super().__init__([], [], [], [], batch_size, num_classes=2, **kwargs)\n",
    "\n",
    "        self.collaborator_num = int(collaborator_num)\n",
    "\n",
    "        self.batch_size = batch_size\n",
    "\n",
    "        self.training_set = BrainFederatedDataset(\n",
    "            collaborator_count, collaborator_num, is_validation=False, transform=None\n",
    "        )\n",
    "        self.valid_set = BrainFederatedDataset(\n",
    "            collaborator_count, collaborator_num, is_validation=True, transform=None\n",
    "        )\n",
    "\n",
    "        self.train_loader = self.get_train_loader()\n",
    "        self.val_loader = self.get_valid_loader()\n",
    "\n",
    "    def get_valid_loader(self, num_batches=None):\n",
    "        return DataLoader(self.valid_set, num_workers=2, batch_size=self.batch_size)\n",
    "\n",
    "    def get_train_loader(self, num_batches=None):\n",
    "        return DataLoader(\n",
    "            self.training_set, num_workers=2, batch_size=self.batch_size, shuffle=True\n",
    "        )\n",
    "\n",
    "    def get_train_data_size(self):\n",
    "        return len(self.training_set)\n",
    "\n",
    "    def get_valid_data_size(self):\n",
    "        return len(self.valid_set)\n",
    "\n",
    "    def get_feature_shape(self):\n",
    "        #print('shape',self.valid_set[2]['image'].shape)\n",
    "        return self.valid_set[0][0].shape\n",
    "\n",
    "    def split(self, collaborator_count, shuffle=True, equally=True):\n",
    "        return [\n",
    "            KvasirFederatedDataset(collaborator_count,\n",
    "                           collaborator_num, self.batch_size)\n",
    "            for collaborator_num in range(collaborator_count)\n",
    "        ]"
   ]
  },
  {
   "cell_type": "code",
   "execution_count": null,
   "id": "governing-childhood",
   "metadata": {},
   "outputs": [],
   "source": []
  },
  {
   "cell_type": "code",
   "execution_count": null,
   "id": "julian-ensemble",
   "metadata": {},
   "outputs": [],
   "source": []
  },
  {
   "cell_type": "code",
   "execution_count": 10,
   "id": "bound-ownership",
   "metadata": {},
   "outputs": [
    {
     "name": "stderr",
     "output_type": "stream",
     "text": [
      "\r",
      "  0%|          | 0/1 [00:00<?, ?it/s]"
     ]
    },
    {
     "name": "stdout",
     "output_type": "stream",
     "text": [
      "484 len\n"
     ]
    },
    {
     "name": "stderr",
     "output_type": "stream",
     "text": [
      "100%|██████████| 1/1 [00:01<00:00,  1.08s/it]\n",
      "  0%|          | 0/1 [00:00<?, ?it/s]"
     ]
    },
    {
     "name": "stdout",
     "output_type": "stream",
     "text": [
      "484 len\n"
     ]
    },
    {
     "name": "stderr",
     "output_type": "stream",
     "text": [
      "100%|██████████| 1/1 [00:01<00:00,  1.07s/it]\n"
     ]
    }
   ],
   "source": [
    "fl_data = KvasirFederatedDataset(batch_size=6)"
   ]
  },
  {
   "cell_type": "code",
   "execution_count": 11,
   "id": "institutional-uganda",
   "metadata": {},
   "outputs": [
    {
     "name": "stdout",
     "output_type": "stream",
     "text": [
      "<class '__main__.UnetWrapper'>\n"
     ]
    },
    {
     "data": {
      "text/html": [
       "<pre style=\"white-space:pre;overflow-x:auto;line-height:normal;font-family:Menlo,'DejaVu Sans Mono',consolas,'Courier New',monospace\"><span style=\"color: #7fbfbf\">[15:50:16] </span><span style=\"color: #800000\">WARNING</span>  tried to remove tensor: __opt_state_needed not present in the tensor dict                                                        <a href=\"file:///home/maksim/.virtualenvs/brain_tumor/lib/python3.6/site-packages/openfl/utilities/utils.py\"><span style=\"color: #7f7f7f\">utils.py</span></a><span style=\"color: #7f7f7f\">:86</span>\n",
       "</pre>\n"
      ],
      "text/plain": [
       "<rich.jupyter.JupyterRenderable at 0x7fb6485ffa90>"
      ]
     },
     "metadata": {},
     "output_type": "display_data"
    }
   ],
   "source": [
    "class UnetWrapper(UNet):\n",
    "    def __init__(self):\n",
    "        super().__init__(\n",
    "            dimensions=3,\n",
    "            in_channels=4,\n",
    "            out_channels=3,\n",
    "            channels=(16, 32, 64, 128, 256),\n",
    "            strides=(2, 2, 2, 2),\n",
    "            num_res_units=2,)\n",
    "        \n",
    "    def validate(\n",
    "        self, col_name, round_num, input_tensor_dict, use_tqdm=False, **kwargs\n",
    "    ):\n",
    "        \"\"\" Validate. Redifine function from PyTorchTaskRunner, to use our validation\"\"\"\n",
    "        self.rebuild_model(round_num, input_tensor_dict, validation=True)\n",
    "        dice_metric = DiceMetric(include_background=True, reduction=\"mean\")\n",
    "        self.eval()\n",
    "        self.to(self.device)\n",
    "        val_score = 0\n",
    "        total_samples = 0\n",
    "\n",
    "        loader = self.data_loader.get_valid_loader()\n",
    "        if use_tqdm:\n",
    "            loader = tqdm.tqdm(loader, desc=\"validate\")\n",
    "#-------------User code---------------------------------------------------------------------------\n",
    "        dice_metric = DiceMetric(include_background=True, reduction=\"mean\")\n",
    "        post_trans = Compose(\n",
    "            [Activations(sigmoid=True), AsDiscrete(threshold_values=True)]\n",
    "        )\n",
    "        metric_sum = metric_sum_tc = metric_sum_wt = metric_sum_et = 0.0\n",
    "        metric_count = (\n",
    "            metric_count_tc\n",
    "        ) = metric_count_wt = metric_count_et = 0\n",
    "        \n",
    "        with torch.no_grad():\n",
    "            for val_inputs,val_labels in loader:\n",
    "                \n",
    "                val_outputs = self(val_inputs)\n",
    "                val_outputs = post_trans(val_outputs)\n",
    "                # compute overall mean dice\n",
    "                value, not_nans = dice_metric(y_pred=val_outputs, y=val_labels)\n",
    "                not_nans = not_nans.item()\n",
    "                metric_count += not_nans\n",
    "                metric_sum += value.item() * not_nans\n",
    "\n",
    "            metric = metric_sum / metric_count\n",
    "#--------------------------------------------------------------------------                \n",
    "                \n",
    "                \n",
    "\n",
    "        origin = col_name\n",
    "        suffix = \"validate\"\n",
    "        if kwargs[\"apply\"] == \"local\":\n",
    "            suffix += \"_local\"\n",
    "        else:\n",
    "            suffix += \"_agg\"\n",
    "        tags = (\"metric\", suffix)\n",
    "        output_tensor_dict = {\n",
    "            TensorKey(\"dice_coef\", origin, round_num, True, tags): np.array(\n",
    "                metric\n",
    "            )\n",
    "        }\n",
    "        return output_tensor_dict, {}\n",
    "    \n",
    "#Wrapper, because our train_batches set (output, target) args, but DiceLoss  recieve (input, target)\n",
    "class DiceLossHeir(DiceLoss):\n",
    "    __name__ = 'DiceLoss'\n",
    "    def forward(self,output, target):\n",
    "        return super().forward(input=output, target=target)\n",
    "    \n",
    "loss_function = DiceLossHeir(to_onehot_y=False, sigmoid=True, squared_pred=True)\n",
    "\n",
    "def optimizer(x): return torch.optim.Adam(\n",
    "    x, 1e-4, weight_decay=1e-5, amsgrad=True\n",
    ")\n",
    "\n"
   ]
  },
  {
   "cell_type": "code",
   "execution_count": null,
   "id": "welsh-nickname",
   "metadata": {},
   "outputs": [],
   "source": [
    "\n",
    "fl_model = FederatedModel(build_model=UnetWrapper, optimizer=optimizer,\n",
    "                          loss_fn=loss_function, data_loader=fl_data)"
   ]
  },
  {
   "cell_type": "code",
   "execution_count": 12,
   "id": "acquired-killer",
   "metadata": {},
   "outputs": [
    {
     "name": "stderr",
     "output_type": "stream",
     "text": [
      "\r",
      "  0%|          | 0/1 [00:00<?, ?it/s]"
     ]
    },
    {
     "name": "stdout",
     "output_type": "stream",
     "text": [
      "242 len\n"
     ]
    },
    {
     "name": "stderr",
     "output_type": "stream",
     "text": [
      "100%|██████████| 1/1 [00:01<00:00,  1.05s/it]\n",
      "  0%|          | 0/1 [00:00<?, ?it/s]"
     ]
    },
    {
     "name": "stdout",
     "output_type": "stream",
     "text": [
      "242 len\n"
     ]
    },
    {
     "name": "stderr",
     "output_type": "stream",
     "text": [
      "100%|██████████| 1/1 [00:01<00:00,  1.10s/it]\n",
      "  0%|          | 0/1 [00:00<?, ?it/s]"
     ]
    },
    {
     "name": "stdout",
     "output_type": "stream",
     "text": [
      "242 len\n"
     ]
    },
    {
     "name": "stderr",
     "output_type": "stream",
     "text": [
      "100%|██████████| 1/1 [00:01<00:00,  1.11s/it]\n",
      "  0%|          | 0/1 [00:00<?, ?it/s]"
     ]
    },
    {
     "name": "stdout",
     "output_type": "stream",
     "text": [
      "242 len\n"
     ]
    },
    {
     "name": "stderr",
     "output_type": "stream",
     "text": [
      "100%|██████████| 1/1 [00:01<00:00,  1.11s/it]"
     ]
    },
    {
     "name": "stdout",
     "output_type": "stream",
     "text": [
      "<class '__main__.UnetWrapper'>\n"
     ]
    },
    {
     "name": "stderr",
     "output_type": "stream",
     "text": [
      "\n"
     ]
    },
    {
     "data": {
      "text/html": [
       "<pre style=\"white-space:pre;overflow-x:auto;line-height:normal;font-family:Menlo,'DejaVu Sans Mono',consolas,'Courier New',monospace\"><span style=\"color: #7fbfbf\">[15:50:21] </span><span style=\"color: #800000\">WARNING</span>  tried to remove tensor: __opt_state_needed not present in the tensor dict                                                        <a href=\"file:///home/maksim/.virtualenvs/brain_tumor/lib/python3.6/site-packages/openfl/utilities/utils.py\"><span style=\"color: #7f7f7f\">utils.py</span></a><span style=\"color: #7f7f7f\">:86</span>\n",
       "</pre>\n"
      ],
      "text/plain": [
       "<rich.jupyter.JupyterRenderable at 0x7fb63b7387f0>"
      ]
     },
     "metadata": {},
     "output_type": "display_data"
    },
    {
     "name": "stdout",
     "output_type": "stream",
     "text": [
      "<class '__main__.UnetWrapper'>\n"
     ]
    },
    {
     "data": {
      "text/html": [
       "<pre style=\"white-space:pre;overflow-x:auto;line-height:normal;font-family:Menlo,'DejaVu Sans Mono',consolas,'Courier New',monospace\"><span style=\"color: #7fbfbf\">           </span><span style=\"color: #800000\">WARNING</span>  tried to remove tensor: __opt_state_needed not present in the tensor dict                                                        <a href=\"file:///home/maksim/.virtualenvs/brain_tumor/lib/python3.6/site-packages/openfl/utilities/utils.py\"><span style=\"color: #7f7f7f\">utils.py</span></a><span style=\"color: #7f7f7f\">:86</span>\n",
       "</pre>\n"
      ],
      "text/plain": [
       "<rich.jupyter.JupyterRenderable at 0x7fb63b5e84e0>"
      ]
     },
     "metadata": {},
     "output_type": "display_data"
    }
   ],
   "source": [
    "collaborator_models = fl_model.setup(num_collaborators=2)\n",
    "collaborators = {'one': collaborator_models[0], 'two': collaborator_models[1]}"
   ]
  },
  {
   "cell_type": "code",
   "execution_count": 13,
   "id": "infinite-toner",
   "metadata": {},
   "outputs": [],
   "source": [
    "# Get the current values of the FL plan. Each of these can be overridden\n",
    "#print(json.dumps(fx.get_plan(), indent=4, sort_keys=True))"
   ]
  },
  {
   "cell_type": "code",
   "execution_count": 14,
   "id": "fabulous-hundred",
   "metadata": {
    "scrolled": false
   },
   "outputs": [
    {
     "data": {
      "text/html": [
       "<pre style=\"white-space:pre;overflow-x:auto;line-height:normal;font-family:Menlo,'DejaVu Sans Mono',consolas,'Courier New',monospace\"><span style=\"color: #7fbfbf\">           </span><span style=\"color: #000080\">INFO</span>     Updating aggregator.settings.rounds_to_train to <span style=\"color: #000080; font-weight: bold\">30</span><span style=\"color: #808000\">...</span>                                                                          <a href=\"file:///home/maksim/.virtualenvs/brain_tumor/lib/python3.6/site-packages/openfl/native/native.py\"><span style=\"color: #7f7f7f\">native.py</span></a><span style=\"color: #7f7f7f\">:106</span>\n",
       "</pre>\n"
      ],
      "text/plain": [
       "<rich.jupyter.JupyterRenderable at 0x7fb63b5fae48>"
      ]
     },
     "metadata": {},
     "output_type": "display_data"
    },
    {
     "data": {
      "text/html": [
       "<pre style=\"white-space:pre;overflow-x:auto;line-height:normal;font-family:Menlo,'DejaVu Sans Mono',consolas,'Courier New',monospace\"><span style=\"color: #7fbfbf\">           </span><span style=\"color: #000080\">INFO</span>     Loading DEFAULTS for section <span style=\"color: #800000\">aggregator</span> from file <span style=\"color: #800000\">plan/defaults/aggregator.yaml</span>.                                                  <a href=\"file:///home/maksim/.virtualenvs/brain_tumor/lib/python3.6/site-packages/openfl/federated/plan/plan.py\"><span style=\"color: #7f7f7f\">plan.py</span></a><span style=\"color: #7f7f7f\">:95</span>\n",
       "</pre>\n"
      ],
      "text/plain": [
       "<rich.jupyter.JupyterRenderable at 0x7fb63b5fa9e8>"
      ]
     },
     "metadata": {},
     "output_type": "display_data"
    },
    {
     "data": {
      "text/html": [
       "<pre style=\"white-space:pre;overflow-x:auto;line-height:normal;font-family:Menlo,'DejaVu Sans Mono',consolas,'Courier New',monospace\"><span style=\"color: #7fbfbf\">           </span><span style=\"color: #000080\">INFO</span>     Loading DEFAULTS for section <span style=\"color: #800000\">assigner</span> from file <span style=\"color: #800000\">plan/defaults/assigner.yaml</span>.                                                      <a href=\"file:///home/maksim/.virtualenvs/brain_tumor/lib/python3.6/site-packages/openfl/federated/plan/plan.py\"><span style=\"color: #7f7f7f\">plan.py</span></a><span style=\"color: #7f7f7f\">:95</span>\n",
       "</pre>\n"
      ],
      "text/plain": [
       "<rich.jupyter.JupyterRenderable at 0x7fb63b5fa6a0>"
      ]
     },
     "metadata": {},
     "output_type": "display_data"
    },
    {
     "data": {
      "text/html": [
       "<pre style=\"white-space:pre;overflow-x:auto;line-height:normal;font-family:Menlo,'DejaVu Sans Mono',consolas,'Courier New',monospace\"><span style=\"color: #7fbfbf\">           </span><span style=\"color: #000080\">INFO</span>     Loading DEFAULTS for section <span style=\"color: #800000\">collaborator</span> from file <span style=\"color: #800000\">plan/defaults/collaborator.yaml</span>.                                              <a href=\"file:///home/maksim/.virtualenvs/brain_tumor/lib/python3.6/site-packages/openfl/federated/plan/plan.py\"><span style=\"color: #7f7f7f\">plan.py</span></a><span style=\"color: #7f7f7f\">:95</span>\n",
       "</pre>\n"
      ],
      "text/plain": [
       "<rich.jupyter.JupyterRenderable at 0x7fb63b5fa710>"
      ]
     },
     "metadata": {},
     "output_type": "display_data"
    },
    {
     "data": {
      "text/html": [
       "<pre style=\"white-space:pre;overflow-x:auto;line-height:normal;font-family:Menlo,'DejaVu Sans Mono',consolas,'Courier New',monospace\"><span style=\"color: #7fbfbf\">           </span><span style=\"color: #000080\">INFO</span>     Loading DEFAULTS for section <span style=\"color: #800000\">data_loader</span> from file <span style=\"color: #800000\">plan/defaults/data_loader.yaml</span>.                                                <a href=\"file:///home/maksim/.virtualenvs/brain_tumor/lib/python3.6/site-packages/openfl/federated/plan/plan.py\"><span style=\"color: #7f7f7f\">plan.py</span></a><span style=\"color: #7f7f7f\">:95</span>\n",
       "</pre>\n"
      ],
      "text/plain": [
       "<rich.jupyter.JupyterRenderable at 0x7fb63b5fab38>"
      ]
     },
     "metadata": {},
     "output_type": "display_data"
    },
    {
     "data": {
      "text/html": [
       "<pre style=\"white-space:pre;overflow-x:auto;line-height:normal;font-family:Menlo,'DejaVu Sans Mono',consolas,'Courier New',monospace\"><span style=\"color: #7fbfbf\">           </span><span style=\"color: #000080\">INFO</span>     Loading DEFAULTS for section <span style=\"color: #800000\">network</span> from file <span style=\"color: #800000\">plan/defaults/network.yaml</span>.                                                        <a href=\"file:///home/maksim/.virtualenvs/brain_tumor/lib/python3.6/site-packages/openfl/federated/plan/plan.py\"><span style=\"color: #7f7f7f\">plan.py</span></a><span style=\"color: #7f7f7f\">:95</span>\n",
       "</pre>\n"
      ],
      "text/plain": [
       "<rich.jupyter.JupyterRenderable at 0x7fb63b5faba8>"
      ]
     },
     "metadata": {},
     "output_type": "display_data"
    },
    {
     "data": {
      "text/html": [
       "<pre style=\"white-space:pre;overflow-x:auto;line-height:normal;font-family:Menlo,'DejaVu Sans Mono',consolas,'Courier New',monospace\"><span style=\"color: #7fbfbf\">           </span><span style=\"color: #000080\">INFO</span>     Loading DEFAULTS for section <span style=\"color: #800000\">task_runner</span> from file <span style=\"color: #800000\">plan/defaults/task_runner.yaml</span>.                                                <a href=\"file:///home/maksim/.virtualenvs/brain_tumor/lib/python3.6/site-packages/openfl/federated/plan/plan.py\"><span style=\"color: #7f7f7f\">plan.py</span></a><span style=\"color: #7f7f7f\">:95</span>\n",
       "</pre>\n"
      ],
      "text/plain": [
       "<rich.jupyter.JupyterRenderable at 0x7fb63b5fa5f8>"
      ]
     },
     "metadata": {},
     "output_type": "display_data"
    },
    {
     "data": {
      "text/html": [
       "<pre style=\"white-space:pre;overflow-x:auto;line-height:normal;font-family:Menlo,'DejaVu Sans Mono',consolas,'Courier New',monospace\"><span style=\"color: #7fbfbf\">           </span><span style=\"color: #000080\">INFO</span>     Loading DEFAULTS for section <span style=\"color: #800000\">tasks</span> from file <span style=\"color: #800000\">plan/defaults/tasks_torch.yaml</span>.                                                      <a href=\"file:///home/maksim/.virtualenvs/brain_tumor/lib/python3.6/site-packages/openfl/federated/plan/plan.py\"><span style=\"color: #7f7f7f\">plan.py</span></a><span style=\"color: #7f7f7f\">:95</span>\n",
       "</pre>\n"
      ],
      "text/plain": [
       "<rich.jupyter.JupyterRenderable at 0x7fb63b5fad68>"
      ]
     },
     "metadata": {},
     "output_type": "display_data"
    },
    {
     "data": {
      "text/html": [
       "<pre style=\"white-space:pre;overflow-x:auto;line-height:normal;font-family:Menlo,'DejaVu Sans Mono',consolas,'Courier New',monospace\"><span style=\"color: #7fbfbf\">           </span><span style=\"color: #000080\">INFO</span>     FL-Plan hash is <span style=\"color: #000080\">eac032bd07524a4efaadf595a54366fbcec0b32cb96d4f39e2507490dd867d65c078ba9f335db298d8f3a51f857880a6</span>                 <a href=\"file:///home/maksim/.virtualenvs/brain_tumor/lib/python3.6/site-packages/openfl/federated/plan/plan.py\"><span style=\"color: #7f7f7f\">plan.py</span></a><span style=\"color: #7f7f7f\">:203</span>\n",
       "</pre>\n"
      ],
      "text/plain": [
       "<rich.jupyter.JupyterRenderable at 0x7fb63b5fb4a8>"
      ]
     },
     "metadata": {},
     "output_type": "display_data"
    },
    {
     "data": {
      "text/html": [
       "<pre style=\"white-space:pre;overflow-x:auto;line-height:normal;font-family:Menlo,'DejaVu Sans Mono',consolas,'Courier New',monospace\"><span style=\"color: #7fbfbf\">           </span><span style=\"color: #000080\">INFO</span>     Parsing Federated Learning Plan : <span style=\"color: #008000\">SUCCESS</span> : <span style=\"color: #000080\">plan/plan.yaml</span>.                                                                      <a href=\"file:///home/maksim/.virtualenvs/brain_tumor/lib/python3.6/site-packages/openfl/federated/plan/plan.py\"><span style=\"color: #7f7f7f\">plan.py</span></a><span style=\"color: #7f7f7f\">:131</span>\n",
       "</pre>\n"
      ],
      "text/plain": [
       "<rich.jupyter.JupyterRenderable at 0x7fb63b5fbc50>"
      ]
     },
     "metadata": {},
     "output_type": "display_data"
    },
    {
     "data": {
      "text/html": [
       "<pre style=\"white-space:pre;overflow-x:auto;line-height:normal;font-family:Menlo,'DejaVu Sans Mono',consolas,'Courier New',monospace\"><span style=\"color: #7fbfbf\">           </span><span style=\"color: #000080\">INFO</span>     aggregator:                                                                                                                      <a href=\"file:///home/maksim/.virtualenvs/brain_tumor/lib/python3.6/site-packages/openfl/federated/plan/plan.py\"><span style=\"color: #7f7f7f\">plan.py</span></a><span style=\"color: #7f7f7f\">:132</span>\n",
       "                      defaults: plan/defaults/aggregator.yaml                                                                                                   \n",
       "                      settings:                                                                                                                                 \n",
       "                        best_state_path: save/torch_unet_kvasir_best.pbuf                                                                                       \n",
       "                        db_store_rounds: <span style=\"color: #000080; font-weight: bold\">1</span>                                                                                                                      \n",
       "                        init_state_path: save/torch_unet_kvasir_init.pbuf                                                                                       \n",
       "                        last_state_path: save/torch_unet_kvasir_last.pbuf                                                                                       \n",
       "                        rounds_to_train: <span style=\"color: #000080; font-weight: bold\">30</span>                                                                                                                     \n",
       "                      template: openfl.component.Aggregator                                                                                                     \n",
       "                    assigner:                                                                                                                                   \n",
       "                      defaults: plan/defaults/assigner.yaml                                                                                                     \n",
       "                      settings:                                                                                                                                 \n",
       "                        task_groups:                                                                                                                            \n",
       "                        - name: train_and_validate                                                                                                              \n",
       "                          percentage: <span style=\"color: #000080; font-weight: bold\">1.0</span>                                                                                                                       \n",
       "                          tasks:                                                                                                                                \n",
       "                          - aggregated_model_validation                                                                                                         \n",
       "                          - train                                                                                                                               \n",
       "                          - locally_tuned_model_validation                                                                                                      \n",
       "                      template: openfl.component.RandomGroupedAssigner                                                                                          \n",
       "                    collaborator:                                                                                                                               \n",
       "                      defaults: plan/defaults/collaborator.yaml                                                                                                 \n",
       "                      settings:                                                                                                                                 \n",
       "                        db_store_rounds: <span style=\"color: #000080; font-weight: bold\">1</span>                                                                                                                      \n",
       "                        delta_updates: false                                                                                                                    \n",
       "                        epochs_per_round: <span style=\"color: #000080; font-weight: bold\">1.0</span>                                                                                                                   \n",
       "                        opt_treatment: RESET                                                                                                                    \n",
       "                        polling_interval: <span style=\"color: #000080; font-weight: bold\">4</span>                                                                                                                     \n",
       "                      template: openfl.component.Collaborator                                                                                                   \n",
       "                    data_loader:                                                                                                                                \n",
       "                      defaults: plan/defaults/data_loader.yaml                                                                                                  \n",
       "                      settings:                                                                                                                                 \n",
       "                        batch_size: <span style=\"color: #000080; font-weight: bold\">4</span>                                                                                                                           \n",
       "                        collaborator_count: <span style=\"color: #000080; font-weight: bold\">2</span>                                                                                                                   \n",
       "                        data_group_name: kvasir                                                                                                                 \n",
       "                      template: code.data_loader.PyTorchKvasirDataLoader                                                                                        \n",
       "                    network:                                                                                                                                    \n",
       "                      defaults: plan/defaults/network.yaml                                                                                                      \n",
       "                      settings:                                                                                                                                 \n",
       "                        agg_addr: maksim-ThinkPad-T490                                                                                                          \n",
       "                        agg_port: <span style=\"color: #000080; font-weight: bold\">55388</span>                                                                                                                         \n",
       "                        cert_folder: cert                                                                                                                       \n",
       "                        client_reconnect_interval: <span style=\"color: #000080; font-weight: bold\">5</span>                                                                                                            \n",
       "                        disable_client_auth: false                                                                                                              \n",
       "                        disable_tls: false                                                                                                                      \n",
       "                        hash_salt: auto                                                                                                                         \n",
       "                      template: openfl.federation.Network                                                                                                       \n",
       "                    task_runner:                                                                                                                                \n",
       "                      defaults: plan/defaults/task_runner.yaml                                                                                                  \n",
       "                      settings:                                                                                                                                 \n",
       "                        n_channels: <span style=\"color: #000080; font-weight: bold\">3</span>                                                                                                                           \n",
       "                        n_classes: <span style=\"color: #000080; font-weight: bold\">1</span>                                                                                                                            \n",
       "                      template: code.fed_unet_runner.PyTorchFederatedUnet                                                                                       \n",
       "                    tasks:                                                                                                                                      \n",
       "                      aggregated_model_validation:                                                                                                              \n",
       "                        function: validate                                                                                                                      \n",
       "                        kwargs:                                                                                                                                 \n",
       "                          apply: global                                                                                                                         \n",
       "                          metrics:                                                                                                                              \n",
       "                          - dice_coef                                                                                                                           \n",
       "                      defaults: plan/defaults/tasks_torch.yaml                                                                                                  \n",
       "                      locally_tuned_model_validation:                                                                                                           \n",
       "                        function: validate                                                                                                                      \n",
       "                        kwargs:                                                                                                                                 \n",
       "                          apply: local                                                                                                                          \n",
       "                          metrics:                                                                                                                              \n",
       "                          - dice_coef                                                                                                                           \n",
       "                      settings: <span style=\"font-weight: bold\">{}</span>                                                                                                                              \n",
       "                      train:                                                                                                                                    \n",
       "                        function: train_batches                                                                                                                 \n",
       "                        kwargs:                                                                                                                                 \n",
       "                          metrics:                                                                                                                              \n",
       "                          - loss                                                                                                                                \n",
       "                                                                                                                                                                \n",
       "</pre>\n"
      ],
      "text/plain": [
       "<rich.jupyter.JupyterRenderable at 0x7fb63b58bfd0>"
      ]
     },
     "metadata": {},
     "output_type": "display_data"
    },
    {
     "data": {
      "text/html": [
       "<pre style=\"white-space:pre;overflow-x:auto;line-height:normal;font-family:Menlo,'DejaVu Sans Mono',consolas,'Courier New',monospace\"><span style=\"color: #7fbfbf\">           </span><span style=\"color: #000080\">INFO</span>     Building <span style=\"color: #800000\">🡆</span> Object <span style=\"color: #800000\">NoCompressionPipeline</span> from <span style=\"color: #800000\">openfl.pipelines</span> Module.                                                            <a href=\"file:///home/maksim/.virtualenvs/brain_tumor/lib/python3.6/site-packages/openfl/federated/plan/plan.py\"><span style=\"color: #7f7f7f\">plan.py</span></a><span style=\"color: #7f7f7f\">:164</span>\n",
       "</pre>\n"
      ],
      "text/plain": [
       "<rich.jupyter.JupyterRenderable at 0x7fb63b58b748>"
      ]
     },
     "metadata": {},
     "output_type": "display_data"
    },
    {
     "data": {
      "text/html": [
       "<pre style=\"white-space:pre;overflow-x:auto;line-height:normal;font-family:Menlo,'DejaVu Sans Mono',consolas,'Courier New',monospace\"><span style=\"color: #7fbfbf\">           </span><span style=\"color: #000080\">INFO</span>     Settings <span style=\"color: #800000\">🡆</span> <span style=\"font-weight: bold\">{}</span>                                                                                                                    <a href=\"file:///home/maksim/.virtualenvs/brain_tumor/lib/python3.6/site-packages/openfl/federated/plan/plan.py\"><span style=\"color: #7f7f7f\">plan.py</span></a><span style=\"color: #7f7f7f\">:166</span>\n",
       "</pre>\n"
      ],
      "text/plain": [
       "<rich.jupyter.JupyterRenderable at 0x7fb63b58bbe0>"
      ]
     },
     "metadata": {},
     "output_type": "display_data"
    },
    {
     "data": {
      "text/html": [
       "<pre style=\"white-space:pre;overflow-x:auto;line-height:normal;font-family:Menlo,'DejaVu Sans Mono',consolas,'Courier New',monospace\"><span style=\"color: #7fbfbf\">           </span><span style=\"color: #000080\">INFO</span>     Override <span style=\"color: #800000\">🡆</span> <span style=\"font-weight: bold\">{}</span>                                                                                                                    <a href=\"file:///home/maksim/.virtualenvs/brain_tumor/lib/python3.6/site-packages/openfl/federated/plan/plan.py\"><span style=\"color: #7f7f7f\">plan.py</span></a><span style=\"color: #7f7f7f\">:168</span>\n",
       "</pre>\n"
      ],
      "text/plain": [
       "<rich.jupyter.JupyterRenderable at 0x7fb63b58b080>"
      ]
     },
     "metadata": {},
     "output_type": "display_data"
    },
    {
     "data": {
      "text/html": [
       "<pre style=\"white-space:pre;overflow-x:auto;line-height:normal;font-family:Menlo,'DejaVu Sans Mono',consolas,'Courier New',monospace\"><span style=\"color: #7fbfbf\">           </span><span style=\"color: #000080\">INFO</span>     Creating Initial Weights File    🠆 save/torch_unet_kvasir_init.pbuf                                                            <a href=\"file:///home/maksim/.virtualenvs/brain_tumor/lib/python3.6/site-packages/openfl/native/native.py\"><span style=\"color: #7f7f7f\">native.py</span></a><span style=\"color: #7f7f7f\">:273</span>\n",
       "</pre>\n"
      ],
      "text/plain": [
       "<rich.jupyter.JupyterRenderable at 0x7fb538010ef0>"
      ]
     },
     "metadata": {},
     "output_type": "display_data"
    },
    {
     "data": {
      "text/html": [
       "<pre style=\"white-space:pre;overflow-x:auto;line-height:normal;font-family:Menlo,'DejaVu Sans Mono',consolas,'Courier New',monospace\"><span style=\"color: #7fbfbf\">           </span><span style=\"color: #000080\">INFO</span>     Starting Experiment<span style=\"color: #808000\">...</span>                                                                                                         <a href=\"file:///home/maksim/.virtualenvs/brain_tumor/lib/python3.6/site-packages/openfl/native/native.py\"><span style=\"color: #7f7f7f\">native.py</span></a><span style=\"color: #7f7f7f\">:277</span>\n",
       "</pre>\n"
      ],
      "text/plain": [
       "<rich.jupyter.JupyterRenderable at 0x7fb538010e48>"
      ]
     },
     "metadata": {},
     "output_type": "display_data"
    },
    {
     "data": {
      "text/html": [
       "<pre style=\"white-space:pre;overflow-x:auto;line-height:normal;font-family:Menlo,'DejaVu Sans Mono',consolas,'Courier New',monospace\"><span style=\"color: #7fbfbf\">           </span><span style=\"color: #000080\">INFO</span>     Building <span style=\"color: #800000\">🡆</span> Object <span style=\"color: #800000\">RandomGroupedAssigner</span> from <span style=\"color: #800000\">openfl.component</span> Module.                                                            <a href=\"file:///home/maksim/.virtualenvs/brain_tumor/lib/python3.6/site-packages/openfl/federated/plan/plan.py\"><span style=\"color: #7f7f7f\">plan.py</span></a><span style=\"color: #7f7f7f\">:164</span>\n",
       "</pre>\n"
      ],
      "text/plain": [
       "<rich.jupyter.JupyterRenderable at 0x7fb538010ef0>"
      ]
     },
     "metadata": {},
     "output_type": "display_data"
    },
    {
     "data": {
      "text/html": [
       "<pre style=\"white-space:pre;overflow-x:auto;line-height:normal;font-family:Menlo,'DejaVu Sans Mono',consolas,'Courier New',monospace\"><span style=\"color: #7fbfbf\">           </span><span style=\"color: #000080\">INFO</span>     Settings <span style=\"color: #800000\">🡆</span> <span style=\"font-weight: bold\">{</span><span style=\"color: #008000\">'task_groups'</span>: <span style=\"font-weight: bold\">[{</span><span style=\"color: #008000\">'name'</span>: <span style=\"color: #008000\">'train_and_validate'</span>, <span style=\"color: #008000\">'percentage'</span>: <span style=\"color: #000080; font-weight: bold\">1.0</span>, <span style=\"color: #008000\">'tasks'</span>: <span style=\"font-weight: bold\">[</span><span style=\"color: #008000\">'aggregated_model_validation'</span>, <span style=\"color: #008000\">'train'</span>,  <a href=\"file:///home/maksim/.virtualenvs/brain_tumor/lib/python3.6/site-packages/openfl/federated/plan/plan.py\"><span style=\"color: #7f7f7f\">plan.py</span></a><span style=\"color: #7f7f7f\">:166</span>\n",
       "                    <span style=\"color: #008000\">'locally_tuned_model_validation'</span><span style=\"font-weight: bold\">]}]</span>, <span style=\"color: #008000\">'authorized_cols'</span>: <span style=\"font-weight: bold\">[</span><span style=\"color: #008000\">'one'</span>, <span style=\"color: #008000\">'two'</span><span style=\"font-weight: bold\">]</span>, <span style=\"color: #008000\">'rounds_to_train'</span>: <span style=\"color: #000080; font-weight: bold\">30</span>, <span style=\"color: #008000\">'tasks'</span>:                                     \n",
       "                    <span style=\"font-weight: bold\">{</span><span style=\"color: #008000\">'aggregated_model_validation'</span>: <span style=\"font-weight: bold\">{</span><span style=\"color: #008000\">'function'</span>: <span style=\"color: #008000\">'validate'</span>, <span style=\"color: #008000\">'kwargs'</span>: <span style=\"font-weight: bold\">{</span><span style=\"color: #008000\">'apply'</span>: <span style=\"color: #008000\">'global'</span>, <span style=\"color: #008000\">'metrics'</span>: <span style=\"font-weight: bold\">[</span><span style=\"color: #008000\">'dice_coef'</span><span style=\"font-weight: bold\">]}}</span>,                          \n",
       "                    <span style=\"color: #008000\">'locally_tuned_model_validation'</span>: <span style=\"font-weight: bold\">{</span><span style=\"color: #008000\">'function'</span>: <span style=\"color: #008000\">'validate'</span>, <span style=\"color: #008000\">'kwargs'</span>: <span style=\"font-weight: bold\">{</span><span style=\"color: #008000\">'apply'</span>: <span style=\"color: #008000\">'local'</span>, <span style=\"color: #008000\">'metrics'</span>: <span style=\"font-weight: bold\">[</span><span style=\"color: #008000\">'dice_coef'</span><span style=\"font-weight: bold\">]}}</span>, <span style=\"color: #008000\">'train'</span>:                \n",
       "                    <span style=\"font-weight: bold\">{</span><span style=\"color: #008000\">'function'</span>: <span style=\"color: #008000\">'train_batches'</span>, <span style=\"color: #008000\">'kwargs'</span>: <span style=\"font-weight: bold\">{</span><span style=\"color: #008000\">'metrics'</span>: <span style=\"font-weight: bold\">[</span><span style=\"color: #008000\">'loss'</span><span style=\"font-weight: bold\">]}}</span>, <span style=\"color: #008000\">'defaults'</span>: <span style=\"color: #008000\">'plan/defaults/tasks_torch.yaml'</span>, <span style=\"color: #008000\">'settings'</span>: <span style=\"font-weight: bold\">{}}}</span>              \n",
       "</pre>\n"
      ],
      "text/plain": [
       "<rich.jupyter.JupyterRenderable at 0x7fb538010e80>"
      ]
     },
     "metadata": {},
     "output_type": "display_data"
    },
    {
     "data": {
      "text/html": [
       "<pre style=\"white-space:pre;overflow-x:auto;line-height:normal;font-family:Menlo,'DejaVu Sans Mono',consolas,'Courier New',monospace\"><span style=\"color: #7fbfbf\">           </span><span style=\"color: #000080\">INFO</span>     Override <span style=\"color: #800000\">🡆</span> <span style=\"font-weight: bold\">{</span><span style=\"color: #008000\">'defaults'</span>: <span style=\"color: #008000\">'plan/defaults/assigner.yaml'</span><span style=\"font-weight: bold\">}</span>                                                                           <a href=\"file:///home/maksim/.virtualenvs/brain_tumor/lib/python3.6/site-packages/openfl/federated/plan/plan.py\"><span style=\"color: #7f7f7f\">plan.py</span></a><span style=\"color: #7f7f7f\">:168</span>\n",
       "</pre>\n"
      ],
      "text/plain": [
       "<rich.jupyter.JupyterRenderable at 0x7fb538010fd0>"
      ]
     },
     "metadata": {},
     "output_type": "display_data"
    },
    {
     "data": {
      "text/html": [
       "<pre style=\"white-space:pre;overflow-x:auto;line-height:normal;font-family:Menlo,'DejaVu Sans Mono',consolas,'Courier New',monospace\"><span style=\"color: #7fbfbf\">           </span><span style=\"color: #000080\">INFO</span>     Building <span style=\"color: #800000\">🡆</span> Object <span style=\"color: #800000\">Aggregator</span> from <span style=\"color: #800000\">openfl.component</span> Module.                                                                       <a href=\"file:///home/maksim/.virtualenvs/brain_tumor/lib/python3.6/site-packages/openfl/federated/plan/plan.py\"><span style=\"color: #7f7f7f\">plan.py</span></a><span style=\"color: #7f7f7f\">:164</span>\n",
       "</pre>\n"
      ],
      "text/plain": [
       "<rich.jupyter.JupyterRenderable at 0x7fb538010da0>"
      ]
     },
     "metadata": {},
     "output_type": "display_data"
    },
    {
     "data": {
      "text/html": [
       "<pre style=\"white-space:pre;overflow-x:auto;line-height:normal;font-family:Menlo,'DejaVu Sans Mono',consolas,'Courier New',monospace\"><span style=\"color: #7fbfbf\">           </span><span style=\"color: #000080\">INFO</span>     Settings <span style=\"color: #800000\">🡆</span> <span style=\"font-weight: bold\">{</span><span style=\"color: #008000\">'db_store_rounds'</span>: <span style=\"color: #000080; font-weight: bold\">1</span>, <span style=\"color: #008000\">'best_state_path'</span>: <span style=\"color: #008000\">'save/torch_unet_kvasir_best.pbuf'</span>, <span style=\"color: #008000\">'init_state_path'</span>:                      <a href=\"file:///home/maksim/.virtualenvs/brain_tumor/lib/python3.6/site-packages/openfl/federated/plan/plan.py\"><span style=\"color: #7f7f7f\">plan.py</span></a><span style=\"color: #7f7f7f\">:166</span>\n",
       "                    <span style=\"color: #008000\">'save/torch_unet_kvasir_init.pbuf'</span>, <span style=\"color: #008000\">'last_state_path'</span>: <span style=\"color: #008000\">'save/torch_unet_kvasir_last.pbuf'</span>, <span style=\"color: #008000\">'rounds_to_train'</span>: <span style=\"color: #000080; font-weight: bold\">30</span>,                           \n",
       "                    <span style=\"color: #008000\">'aggregator_uuid'</span>: <span style=\"color: #008000\">'aggregator_plan.yaml_eac032bd'</span>, <span style=\"color: #008000\">'federation_uuid'</span>: <span style=\"color: #008000\">'plan.yaml_eac032bd'</span>, <span style=\"color: #008000\">'authorized_cols'</span>: <span style=\"font-weight: bold\">[</span><span style=\"color: #008000\">'one'</span>, <span style=\"color: #008000\">'two'</span><span style=\"font-weight: bold\">]</span>,             \n",
       "                    <span style=\"color: #008000\">'assigner'</span>: <span style=\"font-weight: bold\">&lt;</span><span style=\"color: #ff00ff; font-weight: bold\">openfl.component.assigner.random_grouped_assigner.RandomGroupedAssigner</span><span style=\"color: #000000\"> object at </span><span style=\"color: #000080; font-weight: bold\">0x7fb63b58beb8</span><span style=\"font-weight: bold\">&gt;}</span>                             \n",
       "</pre>\n"
      ],
      "text/plain": [
       "<rich.jupyter.JupyterRenderable at 0x7fb538010f98>"
      ]
     },
     "metadata": {},
     "output_type": "display_data"
    },
    {
     "data": {
      "text/html": [
       "<pre style=\"white-space:pre;overflow-x:auto;line-height:normal;font-family:Menlo,'DejaVu Sans Mono',consolas,'Courier New',monospace\"><span style=\"color: #7fbfbf\">           </span><span style=\"color: #000080\">INFO</span>     Override <span style=\"color: #800000\">🡆</span> <span style=\"font-weight: bold\">{</span><span style=\"color: #008000\">'defaults'</span>: <span style=\"color: #008000\">'plan/defaults/aggregator.yaml'</span><span style=\"font-weight: bold\">}</span>                                                                         <a href=\"file:///home/maksim/.virtualenvs/brain_tumor/lib/python3.6/site-packages/openfl/federated/plan/plan.py\"><span style=\"color: #7f7f7f\">plan.py</span></a><span style=\"color: #7f7f7f\">:168</span>\n",
       "</pre>\n"
      ],
      "text/plain": [
       "<rich.jupyter.JupyterRenderable at 0x7fb538010ef0>"
      ]
     },
     "metadata": {},
     "output_type": "display_data"
    },
    {
     "data": {
      "text/html": [
       "<pre style=\"white-space:pre;overflow-x:auto;line-height:normal;font-family:Menlo,'DejaVu Sans Mono',consolas,'Courier New',monospace\"><span style=\"color: #7fbfbf\">           </span><span style=\"color: #000080\">INFO</span>     Building <span style=\"color: #800000\">🡆</span> Object <span style=\"color: #800000\">Collaborator</span> from <span style=\"color: #800000\">openfl.component</span> Module.                                                                     <a href=\"file:///home/maksim/.virtualenvs/brain_tumor/lib/python3.6/site-packages/openfl/federated/plan/plan.py\"><span style=\"color: #7f7f7f\">plan.py</span></a><span style=\"color: #7f7f7f\">:164</span>\n",
       "</pre>\n"
      ],
      "text/plain": [
       "<rich.jupyter.JupyterRenderable at 0x7fb525c0b940>"
      ]
     },
     "metadata": {},
     "output_type": "display_data"
    },
    {
     "data": {
      "text/html": [
       "<pre style=\"white-space:pre;overflow-x:auto;line-height:normal;font-family:Menlo,'DejaVu Sans Mono',consolas,'Courier New',monospace\"><span style=\"color: #7fbfbf\">           </span><span style=\"color: #000080\">INFO</span>     Settings <span style=\"color: #800000\">🡆</span> <span style=\"font-weight: bold\">{</span><span style=\"color: #008000\">'opt_treatment'</span>: <span style=\"color: #008000\">'RESET'</span>, <span style=\"color: #008000\">'delta_updates'</span>: <span style=\"color: #ff0000; font-style: italic\">False</span>, <span style=\"color: #008000\">'db_store_rounds'</span>: <span style=\"color: #000080; font-weight: bold\">1</span>, <span style=\"color: #008000\">'epochs_per_round'</span>: <span style=\"color: #000080; font-weight: bold\">1.0</span>, <span style=\"color: #008000\">'polling_interval'</span>: <a href=\"file:///home/maksim/.virtualenvs/brain_tumor/lib/python3.6/site-packages/openfl/federated/plan/plan.py\"><span style=\"color: #7f7f7f\">plan.py</span></a><span style=\"color: #7f7f7f\">:166</span>\n",
       "                    <span style=\"color: #000080; font-weight: bold\">4</span>, <span style=\"color: #008000\">'collaborator_name'</span>: <span style=\"color: #008000\">'one'</span>, <span style=\"color: #008000\">'aggregator_uuid'</span>: <span style=\"color: #008000\">'aggregator_plan.yaml_eac032bd'</span>, <span style=\"color: #008000\">'federation_uuid'</span>: <span style=\"color: #008000\">'plan.yaml_eac032bd'</span>,                 \n",
       "                    <span style=\"color: #008000\">'task_runner'</span>: <span style=\"font-weight: bold\">&lt;</span><span style=\"color: #ff00ff; font-weight: bold\">openfl.federated.task.fl_model.FederatedModel</span><span style=\"color: #000000\"> object at </span><span style=\"color: #000080; font-weight: bold\">0x7fb63b7386d8</span><span style=\"font-weight: bold\">&gt;</span>, <span style=\"color: #008000\">'tensor_pipe'</span>:                                     \n",
       "                    <span style=\"font-weight: bold\">&lt;</span><span style=\"color: #ff00ff; font-weight: bold\">openfl.pipelines.no_compression_pipeline.NoCompressionPipeline</span><span style=\"color: #000000\"> object at </span><span style=\"color: #000080; font-weight: bold\">0x7fb63b58bf98</span><span style=\"font-weight: bold\">&gt;</span>, <span style=\"color: #008000\">'task_config'</span>:                                   \n",
       "                    <span style=\"font-weight: bold\">{</span><span style=\"color: #008000\">'aggregated_model_validation'</span>: <span style=\"font-weight: bold\">{</span><span style=\"color: #008000\">'function'</span>: <span style=\"color: #008000\">'validate'</span>, <span style=\"color: #008000\">'kwargs'</span>: <span style=\"font-weight: bold\">{</span><span style=\"color: #008000\">'apply'</span>: <span style=\"color: #008000\">'global'</span>, <span style=\"color: #008000\">'metrics'</span>: <span style=\"font-weight: bold\">[</span><span style=\"color: #008000\">'dice_coef'</span><span style=\"font-weight: bold\">]}}</span>,                          \n",
       "                    <span style=\"color: #008000\">'locally_tuned_model_validation'</span>: <span style=\"font-weight: bold\">{</span><span style=\"color: #008000\">'function'</span>: <span style=\"color: #008000\">'validate'</span>, <span style=\"color: #008000\">'kwargs'</span>: <span style=\"font-weight: bold\">{</span><span style=\"color: #008000\">'apply'</span>: <span style=\"color: #008000\">'local'</span>, <span style=\"color: #008000\">'metrics'</span>: <span style=\"font-weight: bold\">[</span><span style=\"color: #008000\">'dice_coef'</span><span style=\"font-weight: bold\">]}}</span>, <span style=\"color: #008000\">'train'</span>:                \n",
       "                    <span style=\"font-weight: bold\">{</span><span style=\"color: #008000\">'function'</span>: <span style=\"color: #008000\">'train_batches'</span>, <span style=\"color: #008000\">'kwargs'</span>: <span style=\"font-weight: bold\">{</span><span style=\"color: #008000\">'metrics'</span>: <span style=\"font-weight: bold\">[</span><span style=\"color: #008000\">'loss'</span><span style=\"font-weight: bold\">]}}</span>, <span style=\"color: #008000\">'defaults'</span>: <span style=\"color: #008000\">'plan/defaults/tasks_torch.yaml'</span>, <span style=\"color: #008000\">'settings'</span>: <span style=\"font-weight: bold\">{}}</span>,              \n",
       "                    <span style=\"color: #008000\">'client'</span>: <span style=\"font-weight: bold\">&lt;</span><span style=\"color: #ff00ff; font-weight: bold\">openfl.component.aggregator.aggregator.Aggregator</span><span style=\"color: #000000\"> object at </span><span style=\"color: #000080; font-weight: bold\">0x7fb63b58b630</span><span style=\"font-weight: bold\">&gt;}</span>                                                     \n",
       "</pre>\n"
      ],
      "text/plain": [
       "<rich.jupyter.JupyterRenderable at 0x7fb525c0b9b0>"
      ]
     },
     "metadata": {},
     "output_type": "display_data"
    },
    {
     "data": {
      "text/html": [
       "<pre style=\"white-space:pre;overflow-x:auto;line-height:normal;font-family:Menlo,'DejaVu Sans Mono',consolas,'Courier New',monospace\"><span style=\"color: #7fbfbf\">           </span><span style=\"color: #000080\">INFO</span>     Override <span style=\"color: #800000\">🡆</span> <span style=\"font-weight: bold\">{</span><span style=\"color: #008000\">'defaults'</span>: <span style=\"color: #008000\">'plan/defaults/collaborator.yaml'</span><span style=\"font-weight: bold\">}</span>                                                                       <a href=\"file:///home/maksim/.virtualenvs/brain_tumor/lib/python3.6/site-packages/openfl/federated/plan/plan.py\"><span style=\"color: #7f7f7f\">plan.py</span></a><span style=\"color: #7f7f7f\">:168</span>\n",
       "</pre>\n"
      ],
      "text/plain": [
       "<rich.jupyter.JupyterRenderable at 0x7fb525c0b438>"
      ]
     },
     "metadata": {},
     "output_type": "display_data"
    },
    {
     "data": {
      "text/html": [
       "<pre style=\"white-space:pre;overflow-x:auto;line-height:normal;font-family:Menlo,'DejaVu Sans Mono',consolas,'Courier New',monospace\"><span style=\"color: #7fbfbf\">[15:50:22] </span><span style=\"color: #000080\">INFO</span>     Building <span style=\"color: #800000\">🡆</span> Object <span style=\"color: #800000\">Collaborator</span> from <span style=\"color: #800000\">openfl.component</span> Module.                                                                     <a href=\"file:///home/maksim/.virtualenvs/brain_tumor/lib/python3.6/site-packages/openfl/federated/plan/plan.py\"><span style=\"color: #7f7f7f\">plan.py</span></a><span style=\"color: #7f7f7f\">:164</span>\n",
       "</pre>\n"
      ],
      "text/plain": [
       "<rich.jupyter.JupyterRenderable at 0x7fb525c0b128>"
      ]
     },
     "metadata": {},
     "output_type": "display_data"
    },
    {
     "data": {
      "text/html": [
       "<pre style=\"white-space:pre;overflow-x:auto;line-height:normal;font-family:Menlo,'DejaVu Sans Mono',consolas,'Courier New',monospace\"><span style=\"color: #7fbfbf\">           </span><span style=\"color: #000080\">INFO</span>     Settings <span style=\"color: #800000\">🡆</span> <span style=\"font-weight: bold\">{</span><span style=\"color: #008000\">'opt_treatment'</span>: <span style=\"color: #008000\">'RESET'</span>, <span style=\"color: #008000\">'delta_updates'</span>: <span style=\"color: #ff0000; font-style: italic\">False</span>, <span style=\"color: #008000\">'db_store_rounds'</span>: <span style=\"color: #000080; font-weight: bold\">1</span>, <span style=\"color: #008000\">'epochs_per_round'</span>: <span style=\"color: #000080; font-weight: bold\">1.0</span>, <span style=\"color: #008000\">'polling_interval'</span>: <a href=\"file:///home/maksim/.virtualenvs/brain_tumor/lib/python3.6/site-packages/openfl/federated/plan/plan.py\"><span style=\"color: #7f7f7f\">plan.py</span></a><span style=\"color: #7f7f7f\">:166</span>\n",
       "                    <span style=\"color: #000080; font-weight: bold\">4</span>, <span style=\"color: #008000\">'collaborator_name'</span>: <span style=\"color: #008000\">'two'</span>, <span style=\"color: #008000\">'aggregator_uuid'</span>: <span style=\"color: #008000\">'aggregator_plan.yaml_eac032bd'</span>, <span style=\"color: #008000\">'federation_uuid'</span>: <span style=\"color: #008000\">'plan.yaml_eac032bd'</span>,                 \n",
       "                    <span style=\"color: #008000\">'task_runner'</span>: <span style=\"font-weight: bold\">&lt;</span><span style=\"color: #ff00ff; font-weight: bold\">openfl.federated.task.fl_model.FederatedModel</span><span style=\"color: #000000\"> object at </span><span style=\"color: #000080; font-weight: bold\">0x7fb63b7386d8</span><span style=\"font-weight: bold\">&gt;</span>, <span style=\"color: #008000\">'tensor_pipe'</span>:                                     \n",
       "                    <span style=\"font-weight: bold\">&lt;</span><span style=\"color: #ff00ff; font-weight: bold\">openfl.pipelines.no_compression_pipeline.NoCompressionPipeline</span><span style=\"color: #000000\"> object at </span><span style=\"color: #000080; font-weight: bold\">0x7fb63b58bf98</span><span style=\"font-weight: bold\">&gt;</span>, <span style=\"color: #008000\">'task_config'</span>:                                   \n",
       "                    <span style=\"font-weight: bold\">{</span><span style=\"color: #008000\">'aggregated_model_validation'</span>: <span style=\"font-weight: bold\">{</span><span style=\"color: #008000\">'function'</span>: <span style=\"color: #008000\">'validate'</span>, <span style=\"color: #008000\">'kwargs'</span>: <span style=\"font-weight: bold\">{</span><span style=\"color: #008000\">'apply'</span>: <span style=\"color: #008000\">'global'</span>, <span style=\"color: #008000\">'metrics'</span>: <span style=\"font-weight: bold\">[</span><span style=\"color: #008000\">'dice_coef'</span><span style=\"font-weight: bold\">]}}</span>,                          \n",
       "                    <span style=\"color: #008000\">'locally_tuned_model_validation'</span>: <span style=\"font-weight: bold\">{</span><span style=\"color: #008000\">'function'</span>: <span style=\"color: #008000\">'validate'</span>, <span style=\"color: #008000\">'kwargs'</span>: <span style=\"font-weight: bold\">{</span><span style=\"color: #008000\">'apply'</span>: <span style=\"color: #008000\">'local'</span>, <span style=\"color: #008000\">'metrics'</span>: <span style=\"font-weight: bold\">[</span><span style=\"color: #008000\">'dice_coef'</span><span style=\"font-weight: bold\">]}}</span>, <span style=\"color: #008000\">'train'</span>:                \n",
       "                    <span style=\"font-weight: bold\">{</span><span style=\"color: #008000\">'function'</span>: <span style=\"color: #008000\">'train_batches'</span>, <span style=\"color: #008000\">'kwargs'</span>: <span style=\"font-weight: bold\">{</span><span style=\"color: #008000\">'metrics'</span>: <span style=\"font-weight: bold\">[</span><span style=\"color: #008000\">'loss'</span><span style=\"font-weight: bold\">]}}</span>, <span style=\"color: #008000\">'defaults'</span>: <span style=\"color: #008000\">'plan/defaults/tasks_torch.yaml'</span>, <span style=\"color: #008000\">'settings'</span>: <span style=\"font-weight: bold\">{}}</span>,              \n",
       "                    <span style=\"color: #008000\">'client'</span>: <span style=\"font-weight: bold\">&lt;</span><span style=\"color: #ff00ff; font-weight: bold\">openfl.component.aggregator.aggregator.Aggregator</span><span style=\"color: #000000\"> object at </span><span style=\"color: #000080; font-weight: bold\">0x7fb63b58b630</span><span style=\"font-weight: bold\">&gt;</span>, <span style=\"color: #008000\">'defaults'</span>:                                         \n",
       "                    <span style=\"color: #008000\">'plan/defaults/collaborator.yaml'</span><span style=\"font-weight: bold\">}</span>                                                                                                          \n",
       "</pre>\n"
      ],
      "text/plain": [
       "<rich.jupyter.JupyterRenderable at 0x7fb525c0bcf8>"
      ]
     },
     "metadata": {},
     "output_type": "display_data"
    },
    {
     "data": {
      "text/html": [
       "<pre style=\"white-space:pre;overflow-x:auto;line-height:normal;font-family:Menlo,'DejaVu Sans Mono',consolas,'Courier New',monospace\"><span style=\"color: #7fbfbf\">           </span><span style=\"color: #000080\">INFO</span>     Override <span style=\"color: #800000\">🡆</span> <span style=\"font-weight: bold\">{</span><span style=\"color: #008000\">'defaults'</span>: <span style=\"color: #008000\">'plan/defaults/collaborator.yaml'</span><span style=\"font-weight: bold\">}</span>                                                                       <a href=\"file:///home/maksim/.virtualenvs/brain_tumor/lib/python3.6/site-packages/openfl/federated/plan/plan.py\"><span style=\"color: #7f7f7f\">plan.py</span></a><span style=\"color: #7f7f7f\">:168</span>\n",
       "</pre>\n"
      ],
      "text/plain": [
       "<rich.jupyter.JupyterRenderable at 0x7fb525c25c18>"
      ]
     },
     "metadata": {},
     "output_type": "display_data"
    },
    {
     "data": {
      "text/html": [
       "<pre style=\"white-space:pre;overflow-x:auto;line-height:normal;font-family:Menlo,'DejaVu Sans Mono',consolas,'Courier New',monospace\"><span style=\"color: #7fbfbf\">           </span><span style=\"color: #000080\">INFO</span>     Waiting for tasks<span style=\"color: #808000\">...</span>                                                                                                     <a href=\"file:///home/maksim/.virtualenvs/brain_tumor/lib/python3.6/site-packages/openfl/component/collaborator/collaborator.py\"><span style=\"color: #7f7f7f\">collaborator.py</span></a><span style=\"color: #7f7f7f\">:156</span>\n",
       "</pre>\n"
      ],
      "text/plain": [
       "<rich.jupyter.JupyterRenderable at 0x7fb525c252e8>"
      ]
     },
     "metadata": {},
     "output_type": "display_data"
    },
    {
     "data": {
      "text/html": [
       "<pre style=\"white-space:pre;overflow-x:auto;line-height:normal;font-family:Menlo,'DejaVu Sans Mono',consolas,'Courier New',monospace\"><span style=\"color: #7fbfbf\">           </span><span style=\"color: #000080\">INFO</span>     Sending tasks to collaborator one for round <span style=\"color: #000080; font-weight: bold\">0</span>                                                                              <a href=\"file:///home/maksim/.virtualenvs/brain_tumor/lib/python3.6/site-packages/openfl/component/aggregator/aggregator.py\"><span style=\"color: #7f7f7f\">aggregator.py</span></a><span style=\"color: #7f7f7f\">:277</span>\n",
       "</pre>\n"
      ],
      "text/plain": [
       "<rich.jupyter.JupyterRenderable at 0x7fb538010e48>"
      ]
     },
     "metadata": {},
     "output_type": "display_data"
    },
    {
     "data": {
      "text/html": [
       "<pre style=\"white-space:pre;overflow-x:auto;line-height:normal;font-family:Menlo,'DejaVu Sans Mono',consolas,'Courier New',monospace\"><span style=\"color: #7fbfbf\">           </span><span style=\"color: #000080\">INFO</span>     Received the following tasks: <span style=\"font-weight: bold\">[</span><span style=\"color: #008000\">'aggregated_model_validation'</span>, <span style=\"color: #008000\">'train'</span>, <span style=\"color: #008000\">'locally_tuned_model_validation'</span><span style=\"font-weight: bold\">]</span>                 <a href=\"file:///home/maksim/.virtualenvs/brain_tumor/lib/python3.6/site-packages/openfl/component/collaborator/collaborator.py\"><span style=\"color: #7f7f7f\">collaborator.py</span></a><span style=\"color: #7f7f7f\">:145</span>\n",
       "</pre>\n"
      ],
      "text/plain": [
       "<rich.jupyter.JupyterRenderable at 0x7fb538010da0>"
      ]
     },
     "metadata": {},
     "output_type": "display_data"
    },
    {
     "name": "stderr",
     "output_type": "stream",
     "text": [
      "/home/maksim/.virtualenvs/brain_tumor/lib/python3.6/site-packages/openfl/federated/task/runner_pt.py:287: UserWarning: The given NumPy array is not writeable, and PyTorch does not support non-writeable tensors. This means you can write to the underlying (supposedly non-writeable) NumPy array using the tensor. You may want to copy the array to protect its data or make it writeable before converting it to a tensor. This type of warning will be suppressed for the rest of this program. (Triggered internally at  /pytorch/torch/csrc/utils/tensor_numpy.cpp:141.)\n",
      "  new_state[k] = pt.from_numpy(tensor_dict.pop(k)).to(device)\n"
     ]
    },
    {
     "data": {
      "text/html": [
       "<pre style=\"white-space:pre;overflow-x:auto;line-height:normal;font-family:Menlo,'DejaVu Sans Mono',consolas,'Courier New',monospace\"><span style=\"color: #7fbfbf\">[15:50:46] </span><span style=\"color: #000080\">INFO</span>     Sending metric for task aggregated_model_validation, round number <span style=\"color: #000080; font-weight: bold\">0</span>: dice_coef  <span style=\"color: #000080; font-weight: bold\">0.020007622241973878</span>                     <a href=\"file:///home/maksim/.virtualenvs/brain_tumor/lib/python3.6/site-packages/openfl/component/collaborator/collaborator.py\"><span style=\"color: #7f7f7f\">collaborator.py</span></a><span style=\"color: #7f7f7f\">:366</span>\n",
       "</pre>\n"
      ],
      "text/plain": [
       "<rich.jupyter.JupyterRenderable at 0x7fb525c57ef0>"
      ]
     },
     "metadata": {},
     "output_type": "display_data"
    },
    {
     "data": {
      "text/html": [
       "<pre style=\"white-space:pre;overflow-x:auto;line-height:normal;font-family:Menlo,'DejaVu Sans Mono',consolas,'Courier New',monospace\"><span style=\"color: #7fbfbf\">           </span><span style=\"color: #000080\">INFO</span>     Collaborator one is sending task results for aggregated_model_validation, round <span style=\"color: #000080; font-weight: bold\">0</span>                                          <a href=\"file:///home/maksim/.virtualenvs/brain_tumor/lib/python3.6/site-packages/openfl/component/aggregator/aggregator.py\"><span style=\"color: #7f7f7f\">aggregator.py</span></a><span style=\"color: #7f7f7f\">:430</span>\n",
       "</pre>\n"
      ],
      "text/plain": [
       "<rich.jupyter.JupyterRenderable at 0x7fb525c57f28>"
      ]
     },
     "metadata": {},
     "output_type": "display_data"
    },
    {
     "name": "stdout",
     "output_type": "stream",
     "text": [
      "torch.Size([6, 4, 128, 128, 64]) torch.Size([6, 3, 128, 128, 64])\n"
     ]
    },
    {
     "name": "stderr",
     "output_type": "stream",
     "text": [
      "/home/maksim/.virtualenvs/brain_tumor/lib/python3.6/site-packages/openfl/federated/task/runner_pt.py:153: UserWarning: To copy construct from a tensor, it is recommended to use sourceTensor.clone().detach() or sourceTensor.clone().detach().requires_grad_(True), rather than torch.tensor(sourceTensor).\n",
      "  data, target = pt.tensor(data).to(self.device), pt.tensor(\n",
      "/home/maksim/.virtualenvs/brain_tumor/lib/python3.6/site-packages/openfl/federated/task/runner_pt.py:154: UserWarning: To copy construct from a tensor, it is recommended to use sourceTensor.clone().detach() or sourceTensor.clone().detach().requires_grad_(True), rather than torch.tensor(sourceTensor).\n",
      "  target).to(self.device, dtype=pt.float32)\n"
     ]
    },
    {
     "name": "stdout",
     "output_type": "stream",
     "text": [
      "after loss tensor(0.9679, grad_fn=<MeanBackward0>)\n",
      "torch.Size([6, 4, 128, 128, 64]) torch.Size([6, 3, 128, 128, 64])\n",
      "after loss tensor(0.9738, grad_fn=<MeanBackward0>)\n",
      "torch.Size([6, 4, 128, 128, 64]) torch.Size([6, 3, 128, 128, 64])\n",
      "after loss tensor(0.9539, grad_fn=<MeanBackward0>)\n",
      "torch.Size([6, 4, 128, 128, 64]) torch.Size([6, 3, 128, 128, 64])\n",
      "after loss tensor(0.9737, grad_fn=<MeanBackward0>)\n",
      "torch.Size([6, 4, 128, 128, 64]) torch.Size([6, 3, 128, 128, 64])\n",
      "after loss tensor(0.9372, grad_fn=<MeanBackward0>)\n",
      "torch.Size([6, 4, 128, 128, 64]) torch.Size([6, 3, 128, 128, 64])\n",
      "after loss tensor(0.9513, grad_fn=<MeanBackward0>)\n",
      "torch.Size([6, 4, 128, 128, 64]) torch.Size([6, 3, 128, 128, 64])\n",
      "after loss tensor(0.9563, grad_fn=<MeanBackward0>)\n",
      "torch.Size([6, 4, 128, 128, 64]) torch.Size([6, 3, 128, 128, 64])\n",
      "after loss tensor(0.9706, grad_fn=<MeanBackward0>)\n",
      "torch.Size([6, 4, 128, 128, 64]) torch.Size([6, 3, 128, 128, 64])\n",
      "after loss tensor(0.9455, grad_fn=<MeanBackward0>)\n",
      "torch.Size([6, 4, 128, 128, 64]) torch.Size([6, 3, 128, 128, 64])\n",
      "after loss tensor(0.9435, grad_fn=<MeanBackward0>)\n",
      "torch.Size([6, 4, 128, 128, 64]) torch.Size([6, 3, 128, 128, 64])\n",
      "after loss tensor(0.9409, grad_fn=<MeanBackward0>)\n",
      "torch.Size([6, 4, 128, 128, 64]) torch.Size([6, 3, 128, 128, 64])\n",
      "after loss tensor(0.9311, grad_fn=<MeanBackward0>)\n",
      "torch.Size([6, 4, 128, 128, 64]) torch.Size([6, 3, 128, 128, 64])\n",
      "after loss tensor(0.9548, grad_fn=<MeanBackward0>)\n",
      "torch.Size([6, 4, 128, 128, 64]) torch.Size([6, 3, 128, 128, 64])\n",
      "after loss tensor(0.9404, grad_fn=<MeanBackward0>)\n",
      "torch.Size([6, 4, 128, 128, 64]) torch.Size([6, 3, 128, 128, 64])\n",
      "after loss tensor(0.9354, grad_fn=<MeanBackward0>)\n",
      "torch.Size([6, 4, 128, 128, 64]) torch.Size([6, 3, 128, 128, 64])\n",
      "after loss tensor(0.9210, grad_fn=<MeanBackward0>)\n",
      "torch.Size([6, 4, 128, 128, 64]) torch.Size([6, 3, 128, 128, 64])\n",
      "after loss tensor(0.9429, grad_fn=<MeanBackward0>)\n",
      "torch.Size([6, 4, 128, 128, 64]) torch.Size([6, 3, 128, 128, 64])\n",
      "after loss tensor(0.9327, grad_fn=<MeanBackward0>)\n",
      "torch.Size([6, 4, 128, 128, 64]) torch.Size([6, 3, 128, 128, 64])\n",
      "after loss tensor(0.9414, grad_fn=<MeanBackward0>)\n",
      "torch.Size([6, 4, 128, 128, 64]) torch.Size([6, 3, 128, 128, 64])\n",
      "after loss tensor(0.9097, grad_fn=<MeanBackward0>)\n",
      "torch.Size([6, 4, 128, 128, 64]) torch.Size([6, 3, 128, 128, 64])\n",
      "after loss tensor(0.9147, grad_fn=<MeanBackward0>)\n",
      "torch.Size([6, 4, 128, 128, 64]) torch.Size([6, 3, 128, 128, 64])\n",
      "after loss tensor(0.9464, grad_fn=<MeanBackward0>)\n",
      "torch.Size([6, 4, 128, 128, 64]) torch.Size([6, 3, 128, 128, 64])\n",
      "after loss tensor(0.9373, grad_fn=<MeanBackward0>)\n",
      "torch.Size([6, 4, 128, 128, 64]) torch.Size([6, 3, 128, 128, 64])\n",
      "after loss tensor(0.9624, grad_fn=<MeanBackward0>)\n",
      "torch.Size([6, 4, 128, 128, 64]) torch.Size([6, 3, 128, 128, 64])\n",
      "after loss tensor(0.9517, grad_fn=<MeanBackward0>)\n",
      "torch.Size([6, 4, 128, 128, 64]) torch.Size([6, 3, 128, 128, 64])\n",
      "after loss tensor(0.9454, grad_fn=<MeanBackward0>)\n",
      "torch.Size([6, 4, 128, 128, 64]) torch.Size([6, 3, 128, 128, 64])\n",
      "after loss tensor(0.9371, grad_fn=<MeanBackward0>)\n",
      "torch.Size([6, 4, 128, 128, 64]) torch.Size([6, 3, 128, 128, 64])\n",
      "after loss tensor(0.9362, grad_fn=<MeanBackward0>)\n",
      "torch.Size([6, 4, 128, 128, 64]) torch.Size([6, 3, 128, 128, 64])\n",
      "after loss tensor(0.9048, grad_fn=<MeanBackward0>)\n",
      "torch.Size([6, 4, 128, 128, 64]) torch.Size([6, 3, 128, 128, 64])\n",
      "after loss tensor(0.9399, grad_fn=<MeanBackward0>)\n",
      "torch.Size([6, 4, 128, 128, 64]) torch.Size([6, 3, 128, 128, 64])\n",
      "after loss tensor(0.9478, grad_fn=<MeanBackward0>)\n",
      "torch.Size([6, 4, 128, 128, 64]) torch.Size([6, 3, 128, 128, 64])\n",
      "after loss tensor(0.9456, grad_fn=<MeanBackward0>)\n",
      "torch.Size([6, 4, 128, 128, 64]) torch.Size([6, 3, 128, 128, 64])\n",
      "after loss tensor(0.9374, grad_fn=<MeanBackward0>)\n",
      "torch.Size([6, 4, 128, 128, 64]) torch.Size([6, 3, 128, 128, 64])\n",
      "after loss tensor(0.9380, grad_fn=<MeanBackward0>)\n",
      "torch.Size([6, 4, 128, 128, 64]) torch.Size([6, 3, 128, 128, 64])\n",
      "after loss tensor(0.9164, grad_fn=<MeanBackward0>)\n",
      "torch.Size([2, 4, 128, 128, 64]) torch.Size([2, 3, 128, 128, 64])\n",
      "after loss tensor(0.9335, grad_fn=<MeanBackward0>)\n"
     ]
    },
    {
     "data": {
      "text/html": [
       "<pre style=\"white-space:pre;overflow-x:auto;line-height:normal;font-family:Menlo,'DejaVu Sans Mono',consolas,'Courier New',monospace\"><span style=\"color: #7fbfbf\">[15:56:07] </span><span style=\"color: #000080\">INFO</span>     Sending metric for task train, round number <span style=\"color: #000080; font-weight: bold\">0</span>: DiceLoss <span style=\"color: #000080; font-weight: bold\">0.9421812891960144</span>                                               <a href=\"file:///home/maksim/.virtualenvs/brain_tumor/lib/python3.6/site-packages/openfl/component/collaborator/collaborator.py\"><span style=\"color: #7f7f7f\">collaborator.py</span></a><span style=\"color: #7f7f7f\">:366</span>\n",
       "</pre>\n"
      ],
      "text/plain": [
       "<rich.jupyter.JupyterRenderable at 0x7fb525c1efd0>"
      ]
     },
     "metadata": {},
     "output_type": "display_data"
    },
    {
     "data": {
      "text/html": [
       "<pre style=\"white-space:pre;overflow-x:auto;line-height:normal;font-family:Menlo,'DejaVu Sans Mono',consolas,'Courier New',monospace\"><span style=\"color: #7fbfbf\">           </span><span style=\"color: #000080\">INFO</span>     Collaborator one is sending task results for train, round <span style=\"color: #000080; font-weight: bold\">0</span>                                                                <a href=\"file:///home/maksim/.virtualenvs/brain_tumor/lib/python3.6/site-packages/openfl/component/aggregator/aggregator.py\"><span style=\"color: #7f7f7f\">aggregator.py</span></a><span style=\"color: #7f7f7f\">:430</span>\n",
       "</pre>\n"
      ],
      "text/plain": [
       "<rich.jupyter.JupyterRenderable at 0x7fb525c1e320>"
      ]
     },
     "metadata": {},
     "output_type": "display_data"
    },
    {
     "data": {
      "text/html": [
       "<pre style=\"white-space:pre;overflow-x:auto;line-height:normal;font-family:Menlo,'DejaVu Sans Mono',consolas,'Courier New',monospace\"><span style=\"color: #7fbfbf\">[15:56:33] </span><span style=\"color: #000080\">INFO</span>     Sending metric for task locally_tuned_model_validation, round number <span style=\"color: #000080; font-weight: bold\">0</span>: dice_coef       <span style=\"color: #000080; font-weight: bold\">0.054141951352357866</span>             <a href=\"file:///home/maksim/.virtualenvs/brain_tumor/lib/python3.6/site-packages/openfl/component/collaborator/collaborator.py\"><span style=\"color: #7f7f7f\">collaborator.py</span></a><span style=\"color: #7f7f7f\">:366</span>\n",
       "</pre>\n"
      ],
      "text/plain": [
       "<rich.jupyter.JupyterRenderable at 0x7fb525c1e358>"
      ]
     },
     "metadata": {},
     "output_type": "display_data"
    },
    {
     "data": {
      "text/html": [
       "<pre style=\"white-space:pre;overflow-x:auto;line-height:normal;font-family:Menlo,'DejaVu Sans Mono',consolas,'Courier New',monospace\"><span style=\"color: #7fbfbf\">           </span><span style=\"color: #000080\">INFO</span>     Collaborator one is sending task results for locally_tuned_model_validation, round <span style=\"color: #000080; font-weight: bold\">0</span>                                       <a href=\"file:///home/maksim/.virtualenvs/brain_tumor/lib/python3.6/site-packages/openfl/component/aggregator/aggregator.py\"><span style=\"color: #7f7f7f\">aggregator.py</span></a><span style=\"color: #7f7f7f\">:430</span>\n",
       "</pre>\n"
      ],
      "text/plain": [
       "<rich.jupyter.JupyterRenderable at 0x7fb525c1e358>"
      ]
     },
     "metadata": {},
     "output_type": "display_data"
    },
    {
     "data": {
      "text/html": [
       "<pre style=\"white-space:pre;overflow-x:auto;line-height:normal;font-family:Menlo,'DejaVu Sans Mono',consolas,'Courier New',monospace\"><span style=\"color: #7fbfbf\">           </span><span style=\"color: #000080\">INFO</span>     All tasks completed on one for round <span style=\"color: #000080; font-weight: bold\">0</span><span style=\"color: #808000\">...</span>                                                                                <a href=\"file:///home/maksim/.virtualenvs/brain_tumor/lib/python3.6/site-packages/openfl/component/collaborator/collaborator.py\"><span style=\"color: #7f7f7f\">collaborator.py</span></a><span style=\"color: #7f7f7f\">:150</span>\n",
       "</pre>\n"
      ],
      "text/plain": [
       "<rich.jupyter.JupyterRenderable at 0x7fb525c1e240>"
      ]
     },
     "metadata": {},
     "output_type": "display_data"
    },
    {
     "data": {
      "text/html": [
       "<pre style=\"white-space:pre;overflow-x:auto;line-height:normal;font-family:Menlo,'DejaVu Sans Mono',consolas,'Courier New',monospace\"><span style=\"color: #7fbfbf\">           </span><span style=\"color: #000080\">INFO</span>     Waiting for tasks<span style=\"color: #808000\">...</span>                                                                                                     <a href=\"file:///home/maksim/.virtualenvs/brain_tumor/lib/python3.6/site-packages/openfl/component/collaborator/collaborator.py\"><span style=\"color: #7f7f7f\">collaborator.py</span></a><span style=\"color: #7f7f7f\">:156</span>\n",
       "</pre>\n"
      ],
      "text/plain": [
       "<rich.jupyter.JupyterRenderable at 0x7fb525c1e240>"
      ]
     },
     "metadata": {},
     "output_type": "display_data"
    },
    {
     "data": {
      "text/html": [
       "<pre style=\"white-space:pre;overflow-x:auto;line-height:normal;font-family:Menlo,'DejaVu Sans Mono',consolas,'Courier New',monospace\"><span style=\"color: #7fbfbf\">           </span><span style=\"color: #000080\">INFO</span>     Sending tasks to collaborator two for round <span style=\"color: #000080; font-weight: bold\">0</span>                                                                              <a href=\"file:///home/maksim/.virtualenvs/brain_tumor/lib/python3.6/site-packages/openfl/component/aggregator/aggregator.py\"><span style=\"color: #7f7f7f\">aggregator.py</span></a><span style=\"color: #7f7f7f\">:277</span>\n",
       "</pre>\n"
      ],
      "text/plain": [
       "<rich.jupyter.JupyterRenderable at 0x7fb525c1e240>"
      ]
     },
     "metadata": {},
     "output_type": "display_data"
    },
    {
     "data": {
      "text/html": [
       "<pre style=\"white-space:pre;overflow-x:auto;line-height:normal;font-family:Menlo,'DejaVu Sans Mono',consolas,'Courier New',monospace\"><span style=\"color: #7fbfbf\">           </span><span style=\"color: #000080\">INFO</span>     Received the following tasks: <span style=\"font-weight: bold\">[</span><span style=\"color: #008000\">'aggregated_model_validation'</span>, <span style=\"color: #008000\">'train'</span>, <span style=\"color: #008000\">'locally_tuned_model_validation'</span><span style=\"font-weight: bold\">]</span>                 <a href=\"file:///home/maksim/.virtualenvs/brain_tumor/lib/python3.6/site-packages/openfl/component/collaborator/collaborator.py\"><span style=\"color: #7f7f7f\">collaborator.py</span></a><span style=\"color: #7f7f7f\">:145</span>\n",
       "</pre>\n"
      ],
      "text/plain": [
       "<rich.jupyter.JupyterRenderable at 0x7fb525c1e240>"
      ]
     },
     "metadata": {},
     "output_type": "display_data"
    },
    {
     "data": {
      "text/html": [
       "<pre style=\"white-space:pre;overflow-x:auto;line-height:normal;font-family:Menlo,'DejaVu Sans Mono',consolas,'Courier New',monospace\"><span style=\"color: #7fbfbf\">[15:56:59] </span><span style=\"color: #000080\">INFO</span>     Sending metric for task aggregated_model_validation, round number <span style=\"color: #000080; font-weight: bold\">0</span>: dice_coef  <span style=\"color: #000080; font-weight: bold\">0.020007622241973878</span>                     <a href=\"file:///home/maksim/.virtualenvs/brain_tumor/lib/python3.6/site-packages/openfl/component/collaborator/collaborator.py\"><span style=\"color: #7f7f7f\">collaborator.py</span></a><span style=\"color: #7f7f7f\">:366</span>\n",
       "</pre>\n"
      ],
      "text/plain": [
       "<rich.jupyter.JupyterRenderable at 0x7fb558b7db70>"
      ]
     },
     "metadata": {},
     "output_type": "display_data"
    },
    {
     "data": {
      "text/html": [
       "<pre style=\"white-space:pre;overflow-x:auto;line-height:normal;font-family:Menlo,'DejaVu Sans Mono',consolas,'Courier New',monospace\"><span style=\"color: #7fbfbf\">           </span><span style=\"color: #000080\">INFO</span>     Collaborator two is sending task results for aggregated_model_validation, round <span style=\"color: #000080; font-weight: bold\">0</span>                                          <a href=\"file:///home/maksim/.virtualenvs/brain_tumor/lib/python3.6/site-packages/openfl/component/aggregator/aggregator.py\"><span style=\"color: #7f7f7f\">aggregator.py</span></a><span style=\"color: #7f7f7f\">:430</span>\n",
       "</pre>\n"
      ],
      "text/plain": [
       "<rich.jupyter.JupyterRenderable at 0x7fb558b7d438>"
      ]
     },
     "metadata": {},
     "output_type": "display_data"
    },
    {
     "name": "stdout",
     "output_type": "stream",
     "text": [
      "torch.Size([6, 4, 128, 128, 64]) torch.Size([6, 3, 128, 128, 64])\n",
      "after loss tensor(0.9472, grad_fn=<MeanBackward0>)\n",
      "torch.Size([6, 4, 128, 128, 64]) torch.Size([6, 3, 128, 128, 64])\n",
      "after loss tensor(0.9764, grad_fn=<MeanBackward0>)\n",
      "torch.Size([6, 4, 128, 128, 64]) torch.Size([6, 3, 128, 128, 64])\n",
      "after loss tensor(0.9705, grad_fn=<MeanBackward0>)\n",
      "torch.Size([6, 4, 128, 128, 64]) torch.Size([6, 3, 128, 128, 64])\n",
      "after loss tensor(0.9602, grad_fn=<MeanBackward0>)\n",
      "torch.Size([6, 4, 128, 128, 64]) torch.Size([6, 3, 128, 128, 64])\n",
      "after loss tensor(0.9552, grad_fn=<MeanBackward0>)\n",
      "torch.Size([6, 4, 128, 128, 64]) torch.Size([6, 3, 128, 128, 64])\n",
      "after loss tensor(0.9452, grad_fn=<MeanBackward0>)\n",
      "torch.Size([6, 4, 128, 128, 64]) torch.Size([6, 3, 128, 128, 64])\n",
      "after loss tensor(0.9393, grad_fn=<MeanBackward0>)\n",
      "torch.Size([6, 4, 128, 128, 64]) torch.Size([6, 3, 128, 128, 64])\n",
      "after loss tensor(0.9443, grad_fn=<MeanBackward0>)\n",
      "torch.Size([6, 4, 128, 128, 64]) torch.Size([6, 3, 128, 128, 64])\n",
      "after loss tensor(0.9566, grad_fn=<MeanBackward0>)\n",
      "torch.Size([6, 4, 128, 128, 64]) torch.Size([6, 3, 128, 128, 64])\n",
      "after loss tensor(0.9349, grad_fn=<MeanBackward0>)\n",
      "torch.Size([6, 4, 128, 128, 64]) torch.Size([6, 3, 128, 128, 64])\n",
      "after loss tensor(0.9695, grad_fn=<MeanBackward0>)\n",
      "torch.Size([6, 4, 128, 128, 64]) torch.Size([6, 3, 128, 128, 64])\n",
      "after loss tensor(0.9399, grad_fn=<MeanBackward0>)\n",
      "torch.Size([6, 4, 128, 128, 64]) torch.Size([6, 3, 128, 128, 64])\n",
      "after loss tensor(0.9396, grad_fn=<MeanBackward0>)\n",
      "torch.Size([6, 4, 128, 128, 64]) torch.Size([6, 3, 128, 128, 64])\n",
      "after loss tensor(0.9488, grad_fn=<MeanBackward0>)\n",
      "torch.Size([6, 4, 128, 128, 64]) torch.Size([6, 3, 128, 128, 64])\n",
      "after loss tensor(0.9494, grad_fn=<MeanBackward0>)\n",
      "torch.Size([6, 4, 128, 128, 64]) torch.Size([6, 3, 128, 128, 64])\n",
      "after loss tensor(0.9541, grad_fn=<MeanBackward0>)\n",
      "torch.Size([6, 4, 128, 128, 64]) torch.Size([6, 3, 128, 128, 64])\n",
      "after loss tensor(0.9418, grad_fn=<MeanBackward0>)\n",
      "torch.Size([6, 4, 128, 128, 64]) torch.Size([6, 3, 128, 128, 64])\n",
      "after loss tensor(0.9661, grad_fn=<MeanBackward0>)\n",
      "torch.Size([6, 4, 128, 128, 64]) torch.Size([6, 3, 128, 128, 64])\n",
      "after loss tensor(0.9284, grad_fn=<MeanBackward0>)\n",
      "torch.Size([6, 4, 128, 128, 64]) torch.Size([6, 3, 128, 128, 64])\n",
      "after loss tensor(0.9310, grad_fn=<MeanBackward0>)\n",
      "torch.Size([6, 4, 128, 128, 64]) torch.Size([6, 3, 128, 128, 64])\n",
      "after loss tensor(0.9365, grad_fn=<MeanBackward0>)\n",
      "torch.Size([6, 4, 128, 128, 64]) torch.Size([6, 3, 128, 128, 64])\n",
      "after loss tensor(0.9420, grad_fn=<MeanBackward0>)\n",
      "torch.Size([6, 4, 128, 128, 64]) torch.Size([6, 3, 128, 128, 64])\n",
      "after loss tensor(0.9562, grad_fn=<MeanBackward0>)\n",
      "torch.Size([6, 4, 128, 128, 64]) torch.Size([6, 3, 128, 128, 64])\n",
      "after loss tensor(0.9441, grad_fn=<MeanBackward0>)\n",
      "torch.Size([6, 4, 128, 128, 64]) torch.Size([6, 3, 128, 128, 64])\n",
      "after loss tensor(0.9330, grad_fn=<MeanBackward0>)\n",
      "torch.Size([6, 4, 128, 128, 64]) torch.Size([6, 3, 128, 128, 64])\n",
      "after loss tensor(0.9670, grad_fn=<MeanBackward0>)\n",
      "torch.Size([6, 4, 128, 128, 64]) torch.Size([6, 3, 128, 128, 64])\n",
      "after loss tensor(0.9389, grad_fn=<MeanBackward0>)\n",
      "torch.Size([6, 4, 128, 128, 64]) torch.Size([6, 3, 128, 128, 64])\n",
      "after loss tensor(0.9041, grad_fn=<MeanBackward0>)\n",
      "torch.Size([6, 4, 128, 128, 64]) torch.Size([6, 3, 128, 128, 64])\n",
      "after loss tensor(0.9157, grad_fn=<MeanBackward0>)\n",
      "torch.Size([6, 4, 128, 128, 64]) torch.Size([6, 3, 128, 128, 64])\n",
      "after loss tensor(0.9326, grad_fn=<MeanBackward0>)\n",
      "torch.Size([6, 4, 128, 128, 64]) torch.Size([6, 3, 128, 128, 64])\n",
      "after loss tensor(0.9395, grad_fn=<MeanBackward0>)\n",
      "torch.Size([6, 4, 128, 128, 64]) torch.Size([6, 3, 128, 128, 64])\n",
      "after loss tensor(0.9064, grad_fn=<MeanBackward0>)\n",
      "torch.Size([6, 4, 128, 128, 64]) torch.Size([6, 3, 128, 128, 64])\n",
      "after loss tensor(0.9489, grad_fn=<MeanBackward0>)\n",
      "torch.Size([6, 4, 128, 128, 64]) torch.Size([6, 3, 128, 128, 64])\n",
      "after loss tensor(0.9308, grad_fn=<MeanBackward0>)\n",
      "torch.Size([6, 4, 128, 128, 64]) torch.Size([6, 3, 128, 128, 64])\n",
      "after loss tensor(0.9364, grad_fn=<MeanBackward0>)\n",
      "torch.Size([2, 4, 128, 128, 64]) torch.Size([2, 3, 128, 128, 64])\n",
      "after loss tensor(0.9470, grad_fn=<MeanBackward0>)\n"
     ]
    },
    {
     "data": {
      "text/html": [
       "<pre style=\"white-space:pre;overflow-x:auto;line-height:normal;font-family:Menlo,'DejaVu Sans Mono',consolas,'Courier New',monospace\"><span style=\"color: #7fbfbf\">[16:01:22] </span><span style=\"color: #000080\">INFO</span>     Sending metric for task train, round number <span style=\"color: #000080; font-weight: bold\">0</span>: DiceLoss <span style=\"color: #000080; font-weight: bold\">0.9438163042068481</span>                                               <a href=\"file:///home/maksim/.virtualenvs/brain_tumor/lib/python3.6/site-packages/openfl/component/collaborator/collaborator.py\"><span style=\"color: #7f7f7f\">collaborator.py</span></a><span style=\"color: #7f7f7f\">:366</span>\n",
       "</pre>\n"
      ],
      "text/plain": [
       "<rich.jupyter.JupyterRenderable at 0x7fb525bc87b8>"
      ]
     },
     "metadata": {},
     "output_type": "display_data"
    },
    {
     "data": {
      "text/html": [
       "<pre style=\"white-space:pre;overflow-x:auto;line-height:normal;font-family:Menlo,'DejaVu Sans Mono',consolas,'Courier New',monospace\"><span style=\"color: #7fbfbf\">           </span><span style=\"color: #000080\">INFO</span>     Collaborator two is sending task results for train, round <span style=\"color: #000080; font-weight: bold\">0</span>                                                                <a href=\"file:///home/maksim/.virtualenvs/brain_tumor/lib/python3.6/site-packages/openfl/component/aggregator/aggregator.py\"><span style=\"color: #7f7f7f\">aggregator.py</span></a><span style=\"color: #7f7f7f\">:430</span>\n",
       "</pre>\n"
      ],
      "text/plain": [
       "<rich.jupyter.JupyterRenderable at 0x7fb525bd6a90>"
      ]
     },
     "metadata": {},
     "output_type": "display_data"
    },
    {
     "data": {
      "text/html": [
       "<pre style=\"white-space:pre;overflow-x:auto;line-height:normal;font-family:Menlo,'DejaVu Sans Mono',consolas,'Courier New',monospace\"><span style=\"color: #7fbfbf\">[16:01:48] </span><span style=\"color: #000080\">INFO</span>     Sending metric for task locally_tuned_model_validation, round number <span style=\"color: #000080; font-weight: bold\">0</span>: dice_coef       <span style=\"color: #000080; font-weight: bold\">0.05503706708550453</span>              <a href=\"file:///home/maksim/.virtualenvs/brain_tumor/lib/python3.6/site-packages/openfl/component/collaborator/collaborator.py\"><span style=\"color: #7f7f7f\">collaborator.py</span></a><span style=\"color: #7f7f7f\">:366</span>\n",
       "</pre>\n"
      ],
      "text/plain": [
       "<rich.jupyter.JupyterRenderable at 0x7fb525bc87b8>"
      ]
     },
     "metadata": {},
     "output_type": "display_data"
    },
    {
     "data": {
      "text/html": [
       "<pre style=\"white-space:pre;overflow-x:auto;line-height:normal;font-family:Menlo,'DejaVu Sans Mono',consolas,'Courier New',monospace\"><span style=\"color: #7fbfbf\">           </span><span style=\"color: #000080\">INFO</span>     Collaborator two is sending task results for locally_tuned_model_validation, round <span style=\"color: #000080; font-weight: bold\">0</span>                                       <a href=\"file:///home/maksim/.virtualenvs/brain_tumor/lib/python3.6/site-packages/openfl/component/aggregator/aggregator.py\"><span style=\"color: #7f7f7f\">aggregator.py</span></a><span style=\"color: #7f7f7f\">:430</span>\n",
       "</pre>\n"
      ],
      "text/plain": [
       "<rich.jupyter.JupyterRenderable at 0x7fb525bc87b8>"
      ]
     },
     "metadata": {},
     "output_type": "display_data"
    },
    {
     "data": {
      "text/html": [
       "<pre style=\"white-space:pre;overflow-x:auto;line-height:normal;font-family:Menlo,'DejaVu Sans Mono',consolas,'Courier New',monospace\"><span style=\"color: #7fbfbf\">           </span><span style=\"color: #000080\">INFO</span>     train task metrics<span style=\"color: #808000\">...</span>                                                                                                      <a href=\"file:///home/maksim/.virtualenvs/brain_tumor/lib/python3.6/site-packages/openfl/component/aggregator/aggregator.py\"><span style=\"color: #7f7f7f\">aggregator.py</span></a><span style=\"color: #7f7f7f\">:694</span>\n",
       "</pre>\n"
      ],
      "text/plain": [
       "<rich.jupyter.JupyterRenderable at 0x7fb558be1358>"
      ]
     },
     "metadata": {},
     "output_type": "display_data"
    },
    {
     "data": {
      "text/html": [
       "<pre style=\"white-space:pre;overflow-x:auto;line-height:normal;font-family:Menlo,'DejaVu Sans Mono',consolas,'Courier New',monospace\"><span style=\"color: #7fbfbf\">           </span><span style=\"color: #000080\">INFO</span>     DiceLoss:       <span style=\"color: #000080; font-weight: bold\">0.9430</span>                                                                                                     <a href=\"file:///home/maksim/.virtualenvs/brain_tumor/lib/python3.6/site-packages/openfl/component/aggregator/aggregator.py\"><span style=\"color: #7f7f7f\">aggregator.py</span></a><span style=\"color: #7f7f7f\">:742</span>\n",
       "</pre>\n"
      ],
      "text/plain": [
       "<rich.jupyter.JupyterRenderable at 0x7fb558be14a8>"
      ]
     },
     "metadata": {},
     "output_type": "display_data"
    },
    {
     "data": {
      "text/html": [
       "<pre style=\"white-space:pre;overflow-x:auto;line-height:normal;font-family:Menlo,'DejaVu Sans Mono',consolas,'Courier New',monospace\"><span style=\"color: #7fbfbf\">[16:01:51] </span><span style=\"color: #000080\">INFO</span>     locally_tuned_model_validation task metrics<span style=\"color: #808000\">...</span>                                                                             <a href=\"file:///home/maksim/.virtualenvs/brain_tumor/lib/python3.6/site-packages/openfl/component/aggregator/aggregator.py\"><span style=\"color: #7f7f7f\">aggregator.py</span></a><span style=\"color: #7f7f7f\">:694</span>\n",
       "</pre>\n"
      ],
      "text/plain": [
       "<rich.jupyter.JupyterRenderable at 0x7fb558b6eba8>"
      ]
     },
     "metadata": {},
     "output_type": "display_data"
    },
    {
     "data": {
      "text/html": [
       "<pre style=\"white-space:pre;overflow-x:auto;line-height:normal;font-family:Menlo,'DejaVu Sans Mono',consolas,'Courier New',monospace\"><span style=\"color: #7fbfbf\">           </span><span style=\"color: #000080\">INFO</span>     dice_coef:      <span style=\"color: #000080; font-weight: bold\">0.0546</span>                                                                                                     <a href=\"file:///home/maksim/.virtualenvs/brain_tumor/lib/python3.6/site-packages/openfl/component/aggregator/aggregator.py\"><span style=\"color: #7f7f7f\">aggregator.py</span></a><span style=\"color: #7f7f7f\">:742</span>\n",
       "</pre>\n"
      ],
      "text/plain": [
       "<rich.jupyter.JupyterRenderable at 0x7fb558b6eba8>"
      ]
     },
     "metadata": {},
     "output_type": "display_data"
    },
    {
     "data": {
      "text/html": [
       "<pre style=\"white-space:pre;overflow-x:auto;line-height:normal;font-family:Menlo,'DejaVu Sans Mono',consolas,'Courier New',monospace\"><span style=\"color: #7fbfbf\">           </span><span style=\"color: #000080\">INFO</span>     aggregated_model_validation task metrics<span style=\"color: #808000\">...</span>                                                                                <a href=\"file:///home/maksim/.virtualenvs/brain_tumor/lib/python3.6/site-packages/openfl/component/aggregator/aggregator.py\"><span style=\"color: #7f7f7f\">aggregator.py</span></a><span style=\"color: #7f7f7f\">:694</span>\n",
       "</pre>\n"
      ],
      "text/plain": [
       "<rich.jupyter.JupyterRenderable at 0x7fb558bb5320>"
      ]
     },
     "metadata": {},
     "output_type": "display_data"
    },
    {
     "data": {
      "text/html": [
       "<pre style=\"white-space:pre;overflow-x:auto;line-height:normal;font-family:Menlo,'DejaVu Sans Mono',consolas,'Courier New',monospace\"><span style=\"color: #7fbfbf\">           </span><span style=\"color: #000080\">INFO</span>     dice_coef:      <span style=\"color: #000080; font-weight: bold\">0.0200</span>                                                                                                     <a href=\"file:///home/maksim/.virtualenvs/brain_tumor/lib/python3.6/site-packages/openfl/component/aggregator/aggregator.py\"><span style=\"color: #7f7f7f\">aggregator.py</span></a><span style=\"color: #7f7f7f\">:742</span>\n",
       "</pre>\n"
      ],
      "text/plain": [
       "<rich.jupyter.JupyterRenderable at 0x7fb558bb5320>"
      ]
     },
     "metadata": {},
     "output_type": "display_data"
    },
    {
     "data": {
      "text/html": [
       "<pre style=\"white-space:pre;overflow-x:auto;line-height:normal;font-family:Menlo,'DejaVu Sans Mono',consolas,'Courier New',monospace\"><span style=\"color: #7fbfbf\">           </span><span style=\"color: #000080\">INFO</span>     Saved the best model with score <span style=\"color: #000080; font-weight: bold\">0.020008</span>                                                                                   <a href=\"file:///home/maksim/.virtualenvs/brain_tumor/lib/python3.6/site-packages/openfl/component/aggregator/aggregator.py\"><span style=\"color: #7f7f7f\">aggregator.py</span></a><span style=\"color: #7f7f7f\">:754</span>\n",
       "</pre>\n"
      ],
      "text/plain": [
       "<rich.jupyter.JupyterRenderable at 0x7fb558c82208>"
      ]
     },
     "metadata": {},
     "output_type": "display_data"
    },
    {
     "data": {
      "text/html": [
       "<pre style=\"white-space:pre;overflow-x:auto;line-height:normal;font-family:Menlo,'DejaVu Sans Mono',consolas,'Courier New',monospace\"><span style=\"color: #7fbfbf\">[16:01:52] </span><span style=\"color: #000080\">INFO</span>     Saving round <span style=\"color: #000080; font-weight: bold\">1</span> model<span style=\"color: #808000\">...</span>                                                                                                    <a href=\"file:///home/maksim/.virtualenvs/brain_tumor/lib/python3.6/site-packages/openfl/component/aggregator/aggregator.py\"><span style=\"color: #7f7f7f\">aggregator.py</span></a><span style=\"color: #7f7f7f\">:788</span>\n",
       "</pre>\n"
      ],
      "text/plain": [
       "<rich.jupyter.JupyterRenderable at 0x7fb607103518>"
      ]
     },
     "metadata": {},
     "output_type": "display_data"
    },
    {
     "data": {
      "text/html": [
       "<pre style=\"white-space:pre;overflow-x:auto;line-height:normal;font-family:Menlo,'DejaVu Sans Mono',consolas,'Courier New',monospace\"><span style=\"color: #7fbfbf\">           </span><span style=\"color: #000080\">INFO</span>     Starting round <span style=\"color: #000080; font-weight: bold\">1</span><span style=\"color: #808000\">...</span>                                                                                                        <a href=\"file:///home/maksim/.virtualenvs/brain_tumor/lib/python3.6/site-packages/openfl/component/aggregator/aggregator.py\"><span style=\"color: #7f7f7f\">aggregator.py</span></a><span style=\"color: #7f7f7f\">:796</span>\n",
       "</pre>\n"
      ],
      "text/plain": [
       "<rich.jupyter.JupyterRenderable at 0x7fb558be1f98>"
      ]
     },
     "metadata": {},
     "output_type": "display_data"
    },
    {
     "data": {
      "text/html": [
       "<pre style=\"white-space:pre;overflow-x:auto;line-height:normal;font-family:Menlo,'DejaVu Sans Mono',consolas,'Courier New',monospace\"><span style=\"color: #7fbfbf\">           </span><span style=\"color: #000080\">INFO</span>     All tasks completed on two for round <span style=\"color: #000080; font-weight: bold\">0</span><span style=\"color: #808000\">...</span>                                                                                <a href=\"file:///home/maksim/.virtualenvs/brain_tumor/lib/python3.6/site-packages/openfl/component/collaborator/collaborator.py\"><span style=\"color: #7f7f7f\">collaborator.py</span></a><span style=\"color: #7f7f7f\">:150</span>\n",
       "</pre>\n"
      ],
      "text/plain": [
       "<rich.jupyter.JupyterRenderable at 0x7fb558be1f98>"
      ]
     },
     "metadata": {},
     "output_type": "display_data"
    },
    {
     "data": {
      "text/html": [
       "<pre style=\"white-space:pre;overflow-x:auto;line-height:normal;font-family:Menlo,'DejaVu Sans Mono',consolas,'Courier New',monospace\"><span style=\"color: #7fbfbf\">           </span><span style=\"color: #000080\">INFO</span>     Waiting for tasks<span style=\"color: #808000\">...</span>                                                                                                     <a href=\"file:///home/maksim/.virtualenvs/brain_tumor/lib/python3.6/site-packages/openfl/component/collaborator/collaborator.py\"><span style=\"color: #7f7f7f\">collaborator.py</span></a><span style=\"color: #7f7f7f\">:156</span>\n",
       "</pre>\n"
      ],
      "text/plain": [
       "<rich.jupyter.JupyterRenderable at 0x7fb558be1f98>"
      ]
     },
     "metadata": {},
     "output_type": "display_data"
    },
    {
     "data": {
      "text/html": [
       "<pre style=\"white-space:pre;overflow-x:auto;line-height:normal;font-family:Menlo,'DejaVu Sans Mono',consolas,'Courier New',monospace\"><span style=\"color: #7fbfbf\">           </span><span style=\"color: #000080\">INFO</span>     Sending tasks to collaborator one for round <span style=\"color: #000080; font-weight: bold\">1</span>                                                                              <a href=\"file:///home/maksim/.virtualenvs/brain_tumor/lib/python3.6/site-packages/openfl/component/aggregator/aggregator.py\"><span style=\"color: #7f7f7f\">aggregator.py</span></a><span style=\"color: #7f7f7f\">:277</span>\n",
       "</pre>\n"
      ],
      "text/plain": [
       "<rich.jupyter.JupyterRenderable at 0x7fb558c66320>"
      ]
     },
     "metadata": {},
     "output_type": "display_data"
    },
    {
     "data": {
      "text/html": [
       "<pre style=\"white-space:pre;overflow-x:auto;line-height:normal;font-family:Menlo,'DejaVu Sans Mono',consolas,'Courier New',monospace\"><span style=\"color: #7fbfbf\">           </span><span style=\"color: #000080\">INFO</span>     Received the following tasks: <span style=\"font-weight: bold\">[</span><span style=\"color: #008000\">'aggregated_model_validation'</span>, <span style=\"color: #008000\">'train'</span>, <span style=\"color: #008000\">'locally_tuned_model_validation'</span><span style=\"font-weight: bold\">]</span>                 <a href=\"file:///home/maksim/.virtualenvs/brain_tumor/lib/python3.6/site-packages/openfl/component/collaborator/collaborator.py\"><span style=\"color: #7f7f7f\">collaborator.py</span></a><span style=\"color: #7f7f7f\">:145</span>\n",
       "</pre>\n"
      ],
      "text/plain": [
       "<rich.jupyter.JupyterRenderable at 0x7fb558be1f98>"
      ]
     },
     "metadata": {},
     "output_type": "display_data"
    },
    {
     "data": {
      "text/html": [
       "<pre style=\"white-space:pre;overflow-x:auto;line-height:normal;font-family:Menlo,'DejaVu Sans Mono',consolas,'Courier New',monospace\"><span style=\"color: #7fbfbf\">[16:02:19] </span><span style=\"color: #000080\">INFO</span>     Sending metric for task aggregated_model_validation, round number <span style=\"color: #000080; font-weight: bold\">1</span>: dice_coef  <span style=\"color: #000080; font-weight: bold\">0.0545490987598896</span>                       <a href=\"file:///home/maksim/.virtualenvs/brain_tumor/lib/python3.6/site-packages/openfl/component/collaborator/collaborator.py\"><span style=\"color: #7f7f7f\">collaborator.py</span></a><span style=\"color: #7f7f7f\">:366</span>\n",
       "</pre>\n"
      ],
      "text/plain": [
       "<rich.jupyter.JupyterRenderable at 0x7fb525c509b0>"
      ]
     },
     "metadata": {},
     "output_type": "display_data"
    },
    {
     "data": {
      "text/html": [
       "<pre style=\"white-space:pre;overflow-x:auto;line-height:normal;font-family:Menlo,'DejaVu Sans Mono',consolas,'Courier New',monospace\"><span style=\"color: #7fbfbf\">           </span><span style=\"color: #000080\">INFO</span>     Collaborator one is sending task results for aggregated_model_validation, round <span style=\"color: #000080; font-weight: bold\">1</span>                                          <a href=\"file:///home/maksim/.virtualenvs/brain_tumor/lib/python3.6/site-packages/openfl/component/aggregator/aggregator.py\"><span style=\"color: #7f7f7f\">aggregator.py</span></a><span style=\"color: #7f7f7f\">:430</span>\n",
       "</pre>\n"
      ],
      "text/plain": [
       "<rich.jupyter.JupyterRenderable at 0x7fb525c50ef0>"
      ]
     },
     "metadata": {},
     "output_type": "display_data"
    },
    {
     "name": "stdout",
     "output_type": "stream",
     "text": [
      "torch.Size([6, 4, 128, 128, 64]) torch.Size([6, 3, 128, 128, 64])\n",
      "after loss tensor(0.9014, grad_fn=<MeanBackward0>)\n",
      "torch.Size([6, 4, 128, 128, 64]) torch.Size([6, 3, 128, 128, 64])\n",
      "after loss tensor(0.9315, grad_fn=<MeanBackward0>)\n",
      "torch.Size([6, 4, 128, 128, 64]) torch.Size([6, 3, 128, 128, 64])\n",
      "after loss tensor(0.9117, grad_fn=<MeanBackward0>)\n",
      "torch.Size([6, 4, 128, 128, 64]) torch.Size([6, 3, 128, 128, 64])\n",
      "after loss tensor(0.9503, grad_fn=<MeanBackward0>)\n",
      "torch.Size([6, 4, 128, 128, 64]) torch.Size([6, 3, 128, 128, 64])\n",
      "after loss tensor(0.9287, grad_fn=<MeanBackward0>)\n",
      "torch.Size([6, 4, 128, 128, 64]) torch.Size([6, 3, 128, 128, 64])\n",
      "after loss tensor(0.9252, grad_fn=<MeanBackward0>)\n",
      "torch.Size([6, 4, 128, 128, 64]) torch.Size([6, 3, 128, 128, 64])\n",
      "after loss tensor(0.9314, grad_fn=<MeanBackward0>)\n",
      "torch.Size([6, 4, 128, 128, 64]) torch.Size([6, 3, 128, 128, 64])\n",
      "after loss tensor(0.9626, grad_fn=<MeanBackward0>)\n",
      "torch.Size([6, 4, 128, 128, 64]) torch.Size([6, 3, 128, 128, 64])\n",
      "after loss tensor(0.9496, grad_fn=<MeanBackward0>)\n",
      "torch.Size([6, 4, 128, 128, 64]) torch.Size([6, 3, 128, 128, 64])\n",
      "after loss tensor(0.9478, grad_fn=<MeanBackward0>)\n",
      "torch.Size([6, 4, 128, 128, 64]) torch.Size([6, 3, 128, 128, 64])\n",
      "after loss tensor(0.9050, grad_fn=<MeanBackward0>)\n",
      "torch.Size([6, 4, 128, 128, 64]) torch.Size([6, 3, 128, 128, 64])\n",
      "after loss tensor(0.9291, grad_fn=<MeanBackward0>)\n",
      "torch.Size([6, 4, 128, 128, 64]) torch.Size([6, 3, 128, 128, 64])\n",
      "after loss tensor(0.9271, grad_fn=<MeanBackward0>)\n",
      "torch.Size([6, 4, 128, 128, 64]) torch.Size([6, 3, 128, 128, 64])\n",
      "after loss tensor(0.9316, grad_fn=<MeanBackward0>)\n",
      "torch.Size([6, 4, 128, 128, 64]) torch.Size([6, 3, 128, 128, 64])\n",
      "after loss tensor(0.9205, grad_fn=<MeanBackward0>)\n",
      "torch.Size([6, 4, 128, 128, 64]) torch.Size([6, 3, 128, 128, 64])\n",
      "after loss tensor(0.9014, grad_fn=<MeanBackward0>)\n",
      "torch.Size([6, 4, 128, 128, 64]) torch.Size([6, 3, 128, 128, 64])\n",
      "after loss tensor(0.9458, grad_fn=<MeanBackward0>)\n",
      "torch.Size([6, 4, 128, 128, 64]) torch.Size([6, 3, 128, 128, 64])\n",
      "after loss tensor(0.9027, grad_fn=<MeanBackward0>)\n",
      "torch.Size([6, 4, 128, 128, 64]) torch.Size([6, 3, 128, 128, 64])\n",
      "after loss tensor(0.9505, grad_fn=<MeanBackward0>)\n",
      "torch.Size([6, 4, 128, 128, 64]) torch.Size([6, 3, 128, 128, 64])\n",
      "after loss tensor(0.8895, grad_fn=<MeanBackward0>)\n",
      "torch.Size([6, 4, 128, 128, 64]) torch.Size([6, 3, 128, 128, 64])\n",
      "after loss tensor(0.9332, grad_fn=<MeanBackward0>)\n",
      "torch.Size([6, 4, 128, 128, 64]) torch.Size([6, 3, 128, 128, 64])\n",
      "after loss tensor(0.9636, grad_fn=<MeanBackward0>)\n",
      "torch.Size([6, 4, 128, 128, 64]) torch.Size([6, 3, 128, 128, 64])\n",
      "after loss tensor(0.9307, grad_fn=<MeanBackward0>)\n",
      "torch.Size([6, 4, 128, 128, 64]) torch.Size([6, 3, 128, 128, 64])\n",
      "after loss tensor(0.9218, grad_fn=<MeanBackward0>)\n",
      "torch.Size([6, 4, 128, 128, 64]) torch.Size([6, 3, 128, 128, 64])\n",
      "after loss tensor(0.9227, grad_fn=<MeanBackward0>)\n",
      "torch.Size([6, 4, 128, 128, 64]) torch.Size([6, 3, 128, 128, 64])\n",
      "after loss tensor(0.9192, grad_fn=<MeanBackward0>)\n",
      "torch.Size([6, 4, 128, 128, 64]) torch.Size([6, 3, 128, 128, 64])\n",
      "after loss tensor(0.9125, grad_fn=<MeanBackward0>)\n",
      "torch.Size([6, 4, 128, 128, 64]) torch.Size([6, 3, 128, 128, 64])\n",
      "after loss tensor(0.9089, grad_fn=<MeanBackward0>)\n",
      "torch.Size([6, 4, 128, 128, 64]) torch.Size([6, 3, 128, 128, 64])\n",
      "after loss tensor(0.9360, grad_fn=<MeanBackward0>)\n",
      "torch.Size([6, 4, 128, 128, 64]) torch.Size([6, 3, 128, 128, 64])\n",
      "after loss tensor(0.9317, grad_fn=<MeanBackward0>)\n",
      "torch.Size([6, 4, 128, 128, 64]) torch.Size([6, 3, 128, 128, 64])\n",
      "after loss tensor(0.9188, grad_fn=<MeanBackward0>)\n",
      "torch.Size([6, 4, 128, 128, 64]) torch.Size([6, 3, 128, 128, 64])\n",
      "after loss tensor(0.9298, grad_fn=<MeanBackward0>)\n",
      "torch.Size([6, 4, 128, 128, 64]) torch.Size([6, 3, 128, 128, 64])\n",
      "after loss tensor(0.9481, grad_fn=<MeanBackward0>)\n",
      "torch.Size([6, 4, 128, 128, 64]) torch.Size([6, 3, 128, 128, 64])\n",
      "after loss tensor(0.9466, grad_fn=<MeanBackward0>)\n",
      "torch.Size([6, 4, 128, 128, 64]) torch.Size([6, 3, 128, 128, 64])\n",
      "after loss tensor(0.9071, grad_fn=<MeanBackward0>)\n",
      "torch.Size([2, 4, 128, 128, 64]) torch.Size([2, 3, 128, 128, 64])\n",
      "after loss tensor(0.8969, grad_fn=<MeanBackward0>)\n"
     ]
    },
    {
     "data": {
      "text/html": [
       "<pre style=\"white-space:pre;overflow-x:auto;line-height:normal;font-family:Menlo,'DejaVu Sans Mono',consolas,'Courier New',monospace\"><span style=\"color: #7fbfbf\">[16:06:39] </span><span style=\"color: #000080\">INFO</span>     Sending metric for task train, round number <span style=\"color: #000080; font-weight: bold\">1</span>: DiceLoss <span style=\"color: #000080; font-weight: bold\">0.9269692301750183</span>                                               <a href=\"file:///home/maksim/.virtualenvs/brain_tumor/lib/python3.6/site-packages/openfl/component/collaborator/collaborator.py\"><span style=\"color: #7f7f7f\">collaborator.py</span></a><span style=\"color: #7f7f7f\">:366</span>\n",
       "</pre>\n"
      ],
      "text/plain": [
       "<rich.jupyter.JupyterRenderable at 0x7fb558b7f400>"
      ]
     },
     "metadata": {},
     "output_type": "display_data"
    },
    {
     "data": {
      "text/html": [
       "<pre style=\"white-space:pre;overflow-x:auto;line-height:normal;font-family:Menlo,'DejaVu Sans Mono',consolas,'Courier New',monospace\"><span style=\"color: #7fbfbf\">           </span><span style=\"color: #000080\">INFO</span>     Collaborator one is sending task results for train, round <span style=\"color: #000080; font-weight: bold\">1</span>                                                                <a href=\"file:///home/maksim/.virtualenvs/brain_tumor/lib/python3.6/site-packages/openfl/component/aggregator/aggregator.py\"><span style=\"color: #7f7f7f\">aggregator.py</span></a><span style=\"color: #7f7f7f\">:430</span>\n",
       "</pre>\n"
      ],
      "text/plain": [
       "<rich.jupyter.JupyterRenderable at 0x7fb558b7f940>"
      ]
     },
     "metadata": {},
     "output_type": "display_data"
    },
    {
     "data": {
      "text/html": [
       "<pre style=\"white-space:pre;overflow-x:auto;line-height:normal;font-family:Menlo,'DejaVu Sans Mono',consolas,'Courier New',monospace\"><span style=\"color: #7fbfbf\">[16:07:07] </span><span style=\"color: #000080\">INFO</span>     Sending metric for task locally_tuned_model_validation, round number <span style=\"color: #000080; font-weight: bold\">1</span>: dice_coef       <span style=\"color: #000080; font-weight: bold\">0.09029461070895195</span>              <a href=\"file:///home/maksim/.virtualenvs/brain_tumor/lib/python3.6/site-packages/openfl/component/collaborator/collaborator.py\"><span style=\"color: #7f7f7f\">collaborator.py</span></a><span style=\"color: #7f7f7f\">:366</span>\n",
       "</pre>\n"
      ],
      "text/plain": [
       "<rich.jupyter.JupyterRenderable at 0x7fb668d7f4a8>"
      ]
     },
     "metadata": {},
     "output_type": "display_data"
    },
    {
     "data": {
      "text/html": [
       "<pre style=\"white-space:pre;overflow-x:auto;line-height:normal;font-family:Menlo,'DejaVu Sans Mono',consolas,'Courier New',monospace\"><span style=\"color: #7fbfbf\">           </span><span style=\"color: #000080\">INFO</span>     Collaborator one is sending task results for locally_tuned_model_validation, round <span style=\"color: #000080; font-weight: bold\">1</span>                                       <a href=\"file:///home/maksim/.virtualenvs/brain_tumor/lib/python3.6/site-packages/openfl/component/aggregator/aggregator.py\"><span style=\"color: #7f7f7f\">aggregator.py</span></a><span style=\"color: #7f7f7f\">:430</span>\n",
       "</pre>\n"
      ],
      "text/plain": [
       "<rich.jupyter.JupyterRenderable at 0x7fb558c9c2e8>"
      ]
     },
     "metadata": {},
     "output_type": "display_data"
    },
    {
     "data": {
      "text/html": [
       "<pre style=\"white-space:pre;overflow-x:auto;line-height:normal;font-family:Menlo,'DejaVu Sans Mono',consolas,'Courier New',monospace\"><span style=\"color: #7fbfbf\">           </span><span style=\"color: #000080\">INFO</span>     All tasks completed on one for round <span style=\"color: #000080; font-weight: bold\">1</span><span style=\"color: #808000\">...</span>                                                                                <a href=\"file:///home/maksim/.virtualenvs/brain_tumor/lib/python3.6/site-packages/openfl/component/collaborator/collaborator.py\"><span style=\"color: #7f7f7f\">collaborator.py</span></a><span style=\"color: #7f7f7f\">:150</span>\n",
       "</pre>\n"
      ],
      "text/plain": [
       "<rich.jupyter.JupyterRenderable at 0x7fb668d7f4a8>"
      ]
     },
     "metadata": {},
     "output_type": "display_data"
    },
    {
     "data": {
      "text/html": [
       "<pre style=\"white-space:pre;overflow-x:auto;line-height:normal;font-family:Menlo,'DejaVu Sans Mono',consolas,'Courier New',monospace\"><span style=\"color: #7fbfbf\">           </span><span style=\"color: #000080\">INFO</span>     Waiting for tasks<span style=\"color: #808000\">...</span>                                                                                                     <a href=\"file:///home/maksim/.virtualenvs/brain_tumor/lib/python3.6/site-packages/openfl/component/collaborator/collaborator.py\"><span style=\"color: #7f7f7f\">collaborator.py</span></a><span style=\"color: #7f7f7f\">:156</span>\n",
       "</pre>\n"
      ],
      "text/plain": [
       "<rich.jupyter.JupyterRenderable at 0x7fb558c9c080>"
      ]
     },
     "metadata": {},
     "output_type": "display_data"
    },
    {
     "data": {
      "text/html": [
       "<pre style=\"white-space:pre;overflow-x:auto;line-height:normal;font-family:Menlo,'DejaVu Sans Mono',consolas,'Courier New',monospace\"><span style=\"color: #7fbfbf\">           </span><span style=\"color: #000080\">INFO</span>     Sending tasks to collaborator two for round <span style=\"color: #000080; font-weight: bold\">1</span>                                                                              <a href=\"file:///home/maksim/.virtualenvs/brain_tumor/lib/python3.6/site-packages/openfl/component/aggregator/aggregator.py\"><span style=\"color: #7f7f7f\">aggregator.py</span></a><span style=\"color: #7f7f7f\">:277</span>\n",
       "</pre>\n"
      ],
      "text/plain": [
       "<rich.jupyter.JupyterRenderable at 0x7fb558c9c080>"
      ]
     },
     "metadata": {},
     "output_type": "display_data"
    },
    {
     "data": {
      "text/html": [
       "<pre style=\"white-space:pre;overflow-x:auto;line-height:normal;font-family:Menlo,'DejaVu Sans Mono',consolas,'Courier New',monospace\"><span style=\"color: #7fbfbf\">           </span><span style=\"color: #000080\">INFO</span>     Received the following tasks: <span style=\"font-weight: bold\">[</span><span style=\"color: #008000\">'aggregated_model_validation'</span>, <span style=\"color: #008000\">'train'</span>, <span style=\"color: #008000\">'locally_tuned_model_validation'</span><span style=\"font-weight: bold\">]</span>                 <a href=\"file:///home/maksim/.virtualenvs/brain_tumor/lib/python3.6/site-packages/openfl/component/collaborator/collaborator.py\"><span style=\"color: #7f7f7f\">collaborator.py</span></a><span style=\"color: #7f7f7f\">:145</span>\n",
       "</pre>\n"
      ],
      "text/plain": [
       "<rich.jupyter.JupyterRenderable at 0x7fb558c9c080>"
      ]
     },
     "metadata": {},
     "output_type": "display_data"
    },
    {
     "data": {
      "text/html": [
       "<pre style=\"white-space:pre;overflow-x:auto;line-height:normal;font-family:Menlo,'DejaVu Sans Mono',consolas,'Courier New',monospace\"><span style=\"color: #7fbfbf\">[16:07:35] </span><span style=\"color: #000080\">INFO</span>     Sending metric for task aggregated_model_validation, round number <span style=\"color: #000080; font-weight: bold\">1</span>: dice_coef  <span style=\"color: #000080; font-weight: bold\">0.0545490987598896</span>                       <a href=\"file:///home/maksim/.virtualenvs/brain_tumor/lib/python3.6/site-packages/openfl/component/collaborator/collaborator.py\"><span style=\"color: #7f7f7f\">collaborator.py</span></a><span style=\"color: #7f7f7f\">:366</span>\n",
       "</pre>\n"
      ],
      "text/plain": [
       "<rich.jupyter.JupyterRenderable at 0x7fb525bdc898>"
      ]
     },
     "metadata": {},
     "output_type": "display_data"
    },
    {
     "data": {
      "text/html": [
       "<pre style=\"white-space:pre;overflow-x:auto;line-height:normal;font-family:Menlo,'DejaVu Sans Mono',consolas,'Courier New',monospace\"><span style=\"color: #7fbfbf\">           </span><span style=\"color: #000080\">INFO</span>     Collaborator two is sending task results for aggregated_model_validation, round <span style=\"color: #000080; font-weight: bold\">1</span>                                          <a href=\"file:///home/maksim/.virtualenvs/brain_tumor/lib/python3.6/site-packages/openfl/component/aggregator/aggregator.py\"><span style=\"color: #7f7f7f\">aggregator.py</span></a><span style=\"color: #7f7f7f\">:430</span>\n",
       "</pre>\n"
      ],
      "text/plain": [
       "<rich.jupyter.JupyterRenderable at 0x7fb525bdc278>"
      ]
     },
     "metadata": {},
     "output_type": "display_data"
    },
    {
     "name": "stdout",
     "output_type": "stream",
     "text": [
      "torch.Size([6, 4, 128, 128, 64]) torch.Size([6, 3, 128, 128, 64])\n",
      "after loss tensor(0.9541, grad_fn=<MeanBackward0>)\n",
      "torch.Size([6, 4, 128, 128, 64]) torch.Size([6, 3, 128, 128, 64])\n",
      "after loss tensor(0.9239, grad_fn=<MeanBackward0>)\n",
      "torch.Size([6, 4, 128, 128, 64]) torch.Size([6, 3, 128, 128, 64])\n",
      "after loss tensor(0.8987, grad_fn=<MeanBackward0>)\n",
      "torch.Size([6, 4, 128, 128, 64]) torch.Size([6, 3, 128, 128, 64])\n",
      "after loss tensor(0.9393, grad_fn=<MeanBackward0>)\n",
      "torch.Size([6, 4, 128, 128, 64]) torch.Size([6, 3, 128, 128, 64])\n",
      "after loss tensor(0.9345, grad_fn=<MeanBackward0>)\n",
      "torch.Size([6, 4, 128, 128, 64]) torch.Size([6, 3, 128, 128, 64])\n",
      "after loss tensor(0.9319, grad_fn=<MeanBackward0>)\n",
      "torch.Size([6, 4, 128, 128, 64]) torch.Size([6, 3, 128, 128, 64])\n",
      "after loss tensor(0.9443, grad_fn=<MeanBackward0>)\n",
      "torch.Size([6, 4, 128, 128, 64]) torch.Size([6, 3, 128, 128, 64])\n",
      "after loss tensor(0.9426, grad_fn=<MeanBackward0>)\n",
      "torch.Size([6, 4, 128, 128, 64]) torch.Size([6, 3, 128, 128, 64])\n",
      "after loss tensor(0.9421, grad_fn=<MeanBackward0>)\n",
      "torch.Size([6, 4, 128, 128, 64]) torch.Size([6, 3, 128, 128, 64])\n",
      "after loss tensor(0.8976, grad_fn=<MeanBackward0>)\n",
      "torch.Size([6, 4, 128, 128, 64]) torch.Size([6, 3, 128, 128, 64])\n",
      "after loss tensor(0.9380, grad_fn=<MeanBackward0>)\n",
      "torch.Size([6, 4, 128, 128, 64]) torch.Size([6, 3, 128, 128, 64])\n",
      "after loss tensor(0.8991, grad_fn=<MeanBackward0>)\n",
      "torch.Size([6, 4, 128, 128, 64]) torch.Size([6, 3, 128, 128, 64])\n",
      "after loss tensor(0.9270, grad_fn=<MeanBackward0>)\n",
      "torch.Size([6, 4, 128, 128, 64]) torch.Size([6, 3, 128, 128, 64])\n",
      "after loss tensor(0.9323, grad_fn=<MeanBackward0>)\n",
      "torch.Size([6, 4, 128, 128, 64]) torch.Size([6, 3, 128, 128, 64])\n",
      "after loss tensor(0.8867, grad_fn=<MeanBackward0>)\n",
      "torch.Size([6, 4, 128, 128, 64]) torch.Size([6, 3, 128, 128, 64])\n",
      "after loss tensor(0.9316, grad_fn=<MeanBackward0>)\n",
      "torch.Size([6, 4, 128, 128, 64]) torch.Size([6, 3, 128, 128, 64])\n",
      "after loss tensor(0.9213, grad_fn=<MeanBackward0>)\n",
      "torch.Size([6, 4, 128, 128, 64]) torch.Size([6, 3, 128, 128, 64])\n",
      "after loss tensor(0.9185, grad_fn=<MeanBackward0>)\n",
      "torch.Size([6, 4, 128, 128, 64]) torch.Size([6, 3, 128, 128, 64])\n",
      "after loss tensor(0.9370, grad_fn=<MeanBackward0>)\n",
      "torch.Size([6, 4, 128, 128, 64]) torch.Size([6, 3, 128, 128, 64])\n",
      "after loss tensor(0.9449, grad_fn=<MeanBackward0>)\n",
      "torch.Size([6, 4, 128, 128, 64]) torch.Size([6, 3, 128, 128, 64])\n",
      "after loss tensor(0.9298, grad_fn=<MeanBackward0>)\n",
      "torch.Size([6, 4, 128, 128, 64]) torch.Size([6, 3, 128, 128, 64])\n",
      "after loss tensor(0.9574, grad_fn=<MeanBackward0>)\n",
      "torch.Size([6, 4, 128, 128, 64]) torch.Size([6, 3, 128, 128, 64])\n",
      "after loss tensor(0.9313, grad_fn=<MeanBackward0>)\n",
      "torch.Size([6, 4, 128, 128, 64]) torch.Size([6, 3, 128, 128, 64])\n",
      "after loss tensor(0.8967, grad_fn=<MeanBackward0>)\n",
      "torch.Size([6, 4, 128, 128, 64]) torch.Size([6, 3, 128, 128, 64])\n",
      "after loss tensor(0.9668, grad_fn=<MeanBackward0>)\n",
      "torch.Size([6, 4, 128, 128, 64]) torch.Size([6, 3, 128, 128, 64])\n",
      "after loss tensor(0.9166, grad_fn=<MeanBackward0>)\n",
      "torch.Size([6, 4, 128, 128, 64]) torch.Size([6, 3, 128, 128, 64])\n",
      "after loss tensor(0.9319, grad_fn=<MeanBackward0>)\n",
      "torch.Size([6, 4, 128, 128, 64]) torch.Size([6, 3, 128, 128, 64])\n",
      "after loss tensor(0.9030, grad_fn=<MeanBackward0>)\n",
      "torch.Size([6, 4, 128, 128, 64]) torch.Size([6, 3, 128, 128, 64])\n",
      "after loss tensor(0.9345, grad_fn=<MeanBackward0>)\n",
      "torch.Size([6, 4, 128, 128, 64]) torch.Size([6, 3, 128, 128, 64])\n",
      "after loss tensor(0.9358, grad_fn=<MeanBackward0>)\n",
      "torch.Size([6, 4, 128, 128, 64]) torch.Size([6, 3, 128, 128, 64])\n",
      "after loss tensor(0.9222, grad_fn=<MeanBackward0>)\n",
      "torch.Size([6, 4, 128, 128, 64]) torch.Size([6, 3, 128, 128, 64])\n",
      "after loss tensor(0.9171, grad_fn=<MeanBackward0>)\n",
      "torch.Size([6, 4, 128, 128, 64]) torch.Size([6, 3, 128, 128, 64])\n",
      "after loss tensor(0.9227, grad_fn=<MeanBackward0>)\n",
      "torch.Size([6, 4, 128, 128, 64]) torch.Size([6, 3, 128, 128, 64])\n",
      "after loss tensor(0.9235, grad_fn=<MeanBackward0>)\n",
      "torch.Size([6, 4, 128, 128, 64]) torch.Size([6, 3, 128, 128, 64])\n",
      "after loss tensor(0.9358, grad_fn=<MeanBackward0>)\n",
      "torch.Size([2, 4, 128, 128, 64]) torch.Size([2, 3, 128, 128, 64])\n",
      "after loss tensor(0.9471, grad_fn=<MeanBackward0>)\n"
     ]
    },
    {
     "data": {
      "text/html": [
       "<pre style=\"white-space:pre;overflow-x:auto;line-height:normal;font-family:Menlo,'DejaVu Sans Mono',consolas,'Courier New',monospace\"><span style=\"color: #7fbfbf\">[16:11:58] </span><span style=\"color: #000080\">INFO</span>     Sending metric for task train, round number <span style=\"color: #000080; font-weight: bold\">1</span>: DiceLoss <span style=\"color: #000080; font-weight: bold\">0.9282609224319458</span>                                               <a href=\"file:///home/maksim/.virtualenvs/brain_tumor/lib/python3.6/site-packages/openfl/component/collaborator/collaborator.py\"><span style=\"color: #7f7f7f\">collaborator.py</span></a><span style=\"color: #7f7f7f\">:366</span>\n",
       "</pre>\n"
      ],
      "text/plain": [
       "<rich.jupyter.JupyterRenderable at 0x7fb558cd7f98>"
      ]
     },
     "metadata": {},
     "output_type": "display_data"
    },
    {
     "data": {
      "text/html": [
       "<pre style=\"white-space:pre;overflow-x:auto;line-height:normal;font-family:Menlo,'DejaVu Sans Mono',consolas,'Courier New',monospace\"><span style=\"color: #7fbfbf\">           </span><span style=\"color: #000080\">INFO</span>     Collaborator two is sending task results for train, round <span style=\"color: #000080; font-weight: bold\">1</span>                                                                <a href=\"file:///home/maksim/.virtualenvs/brain_tumor/lib/python3.6/site-packages/openfl/component/aggregator/aggregator.py\"><span style=\"color: #7f7f7f\">aggregator.py</span></a><span style=\"color: #7f7f7f\">:430</span>\n",
       "</pre>\n"
      ],
      "text/plain": [
       "<rich.jupyter.JupyterRenderable at 0x7fb558b7f630>"
      ]
     },
     "metadata": {},
     "output_type": "display_data"
    },
    {
     "data": {
      "text/html": [
       "<pre style=\"white-space:pre;overflow-x:auto;line-height:normal;font-family:Menlo,'DejaVu Sans Mono',consolas,'Courier New',monospace\"><span style=\"color: #7fbfbf\">[16:12:26] </span><span style=\"color: #000080\">INFO</span>     Sending metric for task locally_tuned_model_validation, round number <span style=\"color: #000080; font-weight: bold\">1</span>: dice_coef       <span style=\"color: #000080; font-weight: bold\">0.08765570521354675</span>              <a href=\"file:///home/maksim/.virtualenvs/brain_tumor/lib/python3.6/site-packages/openfl/component/collaborator/collaborator.py\"><span style=\"color: #7f7f7f\">collaborator.py</span></a><span style=\"color: #7f7f7f\">:366</span>\n",
       "</pre>\n"
      ],
      "text/plain": [
       "<rich.jupyter.JupyterRenderable at 0x7fb558b7eb38>"
      ]
     },
     "metadata": {},
     "output_type": "display_data"
    },
    {
     "data": {
      "text/html": [
       "<pre style=\"white-space:pre;overflow-x:auto;line-height:normal;font-family:Menlo,'DejaVu Sans Mono',consolas,'Courier New',monospace\"><span style=\"color: #7fbfbf\">           </span><span style=\"color: #000080\">INFO</span>     Collaborator two is sending task results for locally_tuned_model_validation, round <span style=\"color: #000080; font-weight: bold\">1</span>                                       <a href=\"file:///home/maksim/.virtualenvs/brain_tumor/lib/python3.6/site-packages/openfl/component/aggregator/aggregator.py\"><span style=\"color: #7f7f7f\">aggregator.py</span></a><span style=\"color: #7f7f7f\">:430</span>\n",
       "</pre>\n"
      ],
      "text/plain": [
       "<rich.jupyter.JupyterRenderable at 0x7fb558bec160>"
      ]
     },
     "metadata": {},
     "output_type": "display_data"
    },
    {
     "data": {
      "text/html": [
       "<pre style=\"white-space:pre;overflow-x:auto;line-height:normal;font-family:Menlo,'DejaVu Sans Mono',consolas,'Courier New',monospace\"><span style=\"color: #7fbfbf\">           </span><span style=\"color: #000080\">INFO</span>     train task metrics<span style=\"color: #808000\">...</span>                                                                                                      <a href=\"file:///home/maksim/.virtualenvs/brain_tumor/lib/python3.6/site-packages/openfl/component/aggregator/aggregator.py\"><span style=\"color: #7f7f7f\">aggregator.py</span></a><span style=\"color: #7f7f7f\">:694</span>\n",
       "</pre>\n"
      ],
      "text/plain": [
       "<rich.jupyter.JupyterRenderable at 0x7fb525bd6b00>"
      ]
     },
     "metadata": {},
     "output_type": "display_data"
    },
    {
     "data": {
      "text/html": [
       "<pre style=\"white-space:pre;overflow-x:auto;line-height:normal;font-family:Menlo,'DejaVu Sans Mono',consolas,'Courier New',monospace\"><span style=\"color: #7fbfbf\">           </span><span style=\"color: #000080\">INFO</span>     DiceLoss:       <span style=\"color: #000080; font-weight: bold\">0.9276</span>                                                                                                     <a href=\"file:///home/maksim/.virtualenvs/brain_tumor/lib/python3.6/site-packages/openfl/component/aggregator/aggregator.py\"><span style=\"color: #7f7f7f\">aggregator.py</span></a><span style=\"color: #7f7f7f\">:742</span>\n",
       "</pre>\n"
      ],
      "text/plain": [
       "<rich.jupyter.JupyterRenderable at 0x7fb558bec080>"
      ]
     },
     "metadata": {},
     "output_type": "display_data"
    },
    {
     "data": {
      "text/html": [
       "<pre style=\"white-space:pre;overflow-x:auto;line-height:normal;font-family:Menlo,'DejaVu Sans Mono',consolas,'Courier New',monospace\"><span style=\"color: #7fbfbf\">[16:12:30] </span><span style=\"color: #000080\">INFO</span>     locally_tuned_model_validation task metrics<span style=\"color: #808000\">...</span>                                                                             <a href=\"file:///home/maksim/.virtualenvs/brain_tumor/lib/python3.6/site-packages/openfl/component/aggregator/aggregator.py\"><span style=\"color: #7f7f7f\">aggregator.py</span></a><span style=\"color: #7f7f7f\">:694</span>\n",
       "</pre>\n"
      ],
      "text/plain": [
       "<rich.jupyter.JupyterRenderable at 0x7fb525bb2c50>"
      ]
     },
     "metadata": {},
     "output_type": "display_data"
    },
    {
     "data": {
      "text/html": [
       "<pre style=\"white-space:pre;overflow-x:auto;line-height:normal;font-family:Menlo,'DejaVu Sans Mono',consolas,'Courier New',monospace\"><span style=\"color: #7fbfbf\">           </span><span style=\"color: #000080\">INFO</span>     dice_coef:      <span style=\"color: #000080; font-weight: bold\">0.0890</span>                                                                                                     <a href=\"file:///home/maksim/.virtualenvs/brain_tumor/lib/python3.6/site-packages/openfl/component/aggregator/aggregator.py\"><span style=\"color: #7f7f7f\">aggregator.py</span></a><span style=\"color: #7f7f7f\">:742</span>\n",
       "</pre>\n"
      ],
      "text/plain": [
       "<rich.jupyter.JupyterRenderable at 0x7fb525bb2c50>"
      ]
     },
     "metadata": {},
     "output_type": "display_data"
    },
    {
     "data": {
      "text/html": [
       "<pre style=\"white-space:pre;overflow-x:auto;line-height:normal;font-family:Menlo,'DejaVu Sans Mono',consolas,'Courier New',monospace\"><span style=\"color: #7fbfbf\">[16:12:31] </span><span style=\"color: #000080\">INFO</span>     aggregated_model_validation task metrics<span style=\"color: #808000\">...</span>                                                                                <a href=\"file:///home/maksim/.virtualenvs/brain_tumor/lib/python3.6/site-packages/openfl/component/aggregator/aggregator.py\"><span style=\"color: #7f7f7f\">aggregator.py</span></a><span style=\"color: #7f7f7f\">:694</span>\n",
       "</pre>\n"
      ],
      "text/plain": [
       "<rich.jupyter.JupyterRenderable at 0x7fb558bec3c8>"
      ]
     },
     "metadata": {},
     "output_type": "display_data"
    },
    {
     "data": {
      "text/html": [
       "<pre style=\"white-space:pre;overflow-x:auto;line-height:normal;font-family:Menlo,'DejaVu Sans Mono',consolas,'Courier New',monospace\"><span style=\"color: #7fbfbf\">           </span><span style=\"color: #000080\">INFO</span>     dice_coef:      <span style=\"color: #000080; font-weight: bold\">0.0545</span>                                                                                                     <a href=\"file:///home/maksim/.virtualenvs/brain_tumor/lib/python3.6/site-packages/openfl/component/aggregator/aggregator.py\"><span style=\"color: #7f7f7f\">aggregator.py</span></a><span style=\"color: #7f7f7f\">:742</span>\n",
       "</pre>\n"
      ],
      "text/plain": [
       "<rich.jupyter.JupyterRenderable at 0x7fb558b7f6d8>"
      ]
     },
     "metadata": {},
     "output_type": "display_data"
    },
    {
     "data": {
      "text/html": [
       "<pre style=\"white-space:pre;overflow-x:auto;line-height:normal;font-family:Menlo,'DejaVu Sans Mono',consolas,'Courier New',monospace\"><span style=\"color: #7fbfbf\">           </span><span style=\"color: #000080\">INFO</span>     Saved the best model with score <span style=\"color: #000080; font-weight: bold\">0.054549</span>                                                                                   <a href=\"file:///home/maksim/.virtualenvs/brain_tumor/lib/python3.6/site-packages/openfl/component/aggregator/aggregator.py\"><span style=\"color: #7f7f7f\">aggregator.py</span></a><span style=\"color: #7f7f7f\">:754</span>\n",
       "</pre>\n"
      ],
      "text/plain": [
       "<rich.jupyter.JupyterRenderable at 0x7fb558b7eb38>"
      ]
     },
     "metadata": {},
     "output_type": "display_data"
    },
    {
     "data": {
      "text/html": [
       "<pre style=\"white-space:pre;overflow-x:auto;line-height:normal;font-family:Menlo,'DejaVu Sans Mono',consolas,'Courier New',monospace\"><span style=\"color: #7fbfbf\">           </span><span style=\"color: #000080\">INFO</span>     Saving round <span style=\"color: #000080; font-weight: bold\">2</span> model<span style=\"color: #808000\">...</span>                                                                                                    <a href=\"file:///home/maksim/.virtualenvs/brain_tumor/lib/python3.6/site-packages/openfl/component/aggregator/aggregator.py\"><span style=\"color: #7f7f7f\">aggregator.py</span></a><span style=\"color: #7f7f7f\">:788</span>\n",
       "</pre>\n"
      ],
      "text/plain": [
       "<rich.jupyter.JupyterRenderable at 0x7fb558b7eb38>"
      ]
     },
     "metadata": {},
     "output_type": "display_data"
    },
    {
     "data": {
      "text/html": [
       "<pre style=\"white-space:pre;overflow-x:auto;line-height:normal;font-family:Menlo,'DejaVu Sans Mono',consolas,'Courier New',monospace\"><span style=\"color: #7fbfbf\">           </span><span style=\"color: #000080\">INFO</span>     Starting round <span style=\"color: #000080; font-weight: bold\">2</span><span style=\"color: #808000\">...</span>                                                                                                        <a href=\"file:///home/maksim/.virtualenvs/brain_tumor/lib/python3.6/site-packages/openfl/component/aggregator/aggregator.py\"><span style=\"color: #7f7f7f\">aggregator.py</span></a><span style=\"color: #7f7f7f\">:796</span>\n",
       "</pre>\n"
      ],
      "text/plain": [
       "<rich.jupyter.JupyterRenderable at 0x7fb525bd6b00>"
      ]
     },
     "metadata": {},
     "output_type": "display_data"
    },
    {
     "data": {
      "text/html": [
       "<pre style=\"white-space:pre;overflow-x:auto;line-height:normal;font-family:Menlo,'DejaVu Sans Mono',consolas,'Courier New',monospace\"><span style=\"color: #7fbfbf\">           </span><span style=\"color: #000080\">INFO</span>     All tasks completed on two for round <span style=\"color: #000080; font-weight: bold\">1</span><span style=\"color: #808000\">...</span>                                                                                <a href=\"file:///home/maksim/.virtualenvs/brain_tumor/lib/python3.6/site-packages/openfl/component/collaborator/collaborator.py\"><span style=\"color: #7f7f7f\">collaborator.py</span></a><span style=\"color: #7f7f7f\">:150</span>\n",
       "</pre>\n"
      ],
      "text/plain": [
       "<rich.jupyter.JupyterRenderable at 0x7fb525bb2b38>"
      ]
     },
     "metadata": {},
     "output_type": "display_data"
    },
    {
     "data": {
      "text/html": [
       "<pre style=\"white-space:pre;overflow-x:auto;line-height:normal;font-family:Menlo,'DejaVu Sans Mono',consolas,'Courier New',monospace\"><span style=\"color: #7fbfbf\">           </span><span style=\"color: #000080\">INFO</span>     Waiting for tasks<span style=\"color: #808000\">...</span>                                                                                                     <a href=\"file:///home/maksim/.virtualenvs/brain_tumor/lib/python3.6/site-packages/openfl/component/collaborator/collaborator.py\"><span style=\"color: #7f7f7f\">collaborator.py</span></a><span style=\"color: #7f7f7f\">:156</span>\n",
       "</pre>\n"
      ],
      "text/plain": [
       "<rich.jupyter.JupyterRenderable at 0x7fb558b7eb38>"
      ]
     },
     "metadata": {},
     "output_type": "display_data"
    },
    {
     "data": {
      "text/html": [
       "<pre style=\"white-space:pre;overflow-x:auto;line-height:normal;font-family:Menlo,'DejaVu Sans Mono',consolas,'Courier New',monospace\"><span style=\"color: #7fbfbf\">           </span><span style=\"color: #000080\">INFO</span>     Sending tasks to collaborator one for round <span style=\"color: #000080; font-weight: bold\">2</span>                                                                              <a href=\"file:///home/maksim/.virtualenvs/brain_tumor/lib/python3.6/site-packages/openfl/component/aggregator/aggregator.py\"><span style=\"color: #7f7f7f\">aggregator.py</span></a><span style=\"color: #7f7f7f\">:277</span>\n",
       "</pre>\n"
      ],
      "text/plain": [
       "<rich.jupyter.JupyterRenderable at 0x7fb558b6e860>"
      ]
     },
     "metadata": {},
     "output_type": "display_data"
    },
    {
     "data": {
      "text/html": [
       "<pre style=\"white-space:pre;overflow-x:auto;line-height:normal;font-family:Menlo,'DejaVu Sans Mono',consolas,'Courier New',monospace\"><span style=\"color: #7fbfbf\">           </span><span style=\"color: #000080\">INFO</span>     Received the following tasks: <span style=\"font-weight: bold\">[</span><span style=\"color: #008000\">'aggregated_model_validation'</span>, <span style=\"color: #008000\">'train'</span>, <span style=\"color: #008000\">'locally_tuned_model_validation'</span><span style=\"font-weight: bold\">]</span>                 <a href=\"file:///home/maksim/.virtualenvs/brain_tumor/lib/python3.6/site-packages/openfl/component/collaborator/collaborator.py\"><span style=\"color: #7f7f7f\">collaborator.py</span></a><span style=\"color: #7f7f7f\">:145</span>\n",
       "</pre>\n"
      ],
      "text/plain": [
       "<rich.jupyter.JupyterRenderable at 0x7fb558c053c8>"
      ]
     },
     "metadata": {},
     "output_type": "display_data"
    },
    {
     "data": {
      "text/html": [
       "<pre style=\"white-space:pre;overflow-x:auto;line-height:normal;font-family:Menlo,'DejaVu Sans Mono',consolas,'Courier New',monospace\"><span style=\"color: #7fbfbf\">[16:13:00] </span><span style=\"color: #000080\">INFO</span>     Sending metric for task aggregated_model_validation, round number <span style=\"color: #000080; font-weight: bold\">2</span>: dice_coef  <span style=\"color: #000080; font-weight: bold\">0.08919075056910515</span>                      <a href=\"file:///home/maksim/.virtualenvs/brain_tumor/lib/python3.6/site-packages/openfl/component/collaborator/collaborator.py\"><span style=\"color: #7f7f7f\">collaborator.py</span></a><span style=\"color: #7f7f7f\">:366</span>\n",
       "</pre>\n"
      ],
      "text/plain": [
       "<rich.jupyter.JupyterRenderable at 0x7fb558b6e710>"
      ]
     },
     "metadata": {},
     "output_type": "display_data"
    },
    {
     "data": {
      "text/html": [
       "<pre style=\"white-space:pre;overflow-x:auto;line-height:normal;font-family:Menlo,'DejaVu Sans Mono',consolas,'Courier New',monospace\"><span style=\"color: #7fbfbf\">           </span><span style=\"color: #000080\">INFO</span>     Collaborator one is sending task results for aggregated_model_validation, round <span style=\"color: #000080; font-weight: bold\">2</span>                                          <a href=\"file:///home/maksim/.virtualenvs/brain_tumor/lib/python3.6/site-packages/openfl/component/aggregator/aggregator.py\"><span style=\"color: #7f7f7f\">aggregator.py</span></a><span style=\"color: #7f7f7f\">:430</span>\n",
       "</pre>\n"
      ],
      "text/plain": [
       "<rich.jupyter.JupyterRenderable at 0x7fb558c21198>"
      ]
     },
     "metadata": {},
     "output_type": "display_data"
    },
    {
     "name": "stdout",
     "output_type": "stream",
     "text": [
      "torch.Size([6, 4, 128, 128, 64]) torch.Size([6, 3, 128, 128, 64])\n",
      "after loss tensor(0.9518, grad_fn=<MeanBackward0>)\n",
      "torch.Size([6, 4, 128, 128, 64]) torch.Size([6, 3, 128, 128, 64])\n",
      "after loss tensor(0.9234, grad_fn=<MeanBackward0>)\n",
      "torch.Size([6, 4, 128, 128, 64]) torch.Size([6, 3, 128, 128, 64])\n",
      "after loss tensor(0.9146, grad_fn=<MeanBackward0>)\n",
      "torch.Size([6, 4, 128, 128, 64]) torch.Size([6, 3, 128, 128, 64])\n",
      "after loss tensor(0.9293, grad_fn=<MeanBackward0>)\n",
      "torch.Size([6, 4, 128, 128, 64]) torch.Size([6, 3, 128, 128, 64])\n",
      "after loss tensor(0.9389, grad_fn=<MeanBackward0>)\n",
      "torch.Size([6, 4, 128, 128, 64]) torch.Size([6, 3, 128, 128, 64])\n",
      "after loss tensor(0.9502, grad_fn=<MeanBackward0>)\n",
      "torch.Size([6, 4, 128, 128, 64]) torch.Size([6, 3, 128, 128, 64])\n",
      "after loss tensor(0.8968, grad_fn=<MeanBackward0>)\n",
      "torch.Size([6, 4, 128, 128, 64]) torch.Size([6, 3, 128, 128, 64])\n",
      "after loss tensor(0.9458, grad_fn=<MeanBackward0>)\n",
      "torch.Size([6, 4, 128, 128, 64]) torch.Size([6, 3, 128, 128, 64])\n",
      "after loss tensor(0.8913, grad_fn=<MeanBackward0>)\n",
      "torch.Size([6, 4, 128, 128, 64]) torch.Size([6, 3, 128, 128, 64])\n",
      "after loss tensor(0.9347, grad_fn=<MeanBackward0>)\n",
      "torch.Size([6, 4, 128, 128, 64]) torch.Size([6, 3, 128, 128, 64])\n",
      "after loss tensor(0.9251, grad_fn=<MeanBackward0>)\n",
      "torch.Size([6, 4, 128, 128, 64]) torch.Size([6, 3, 128, 128, 64])\n",
      "after loss tensor(0.9278, grad_fn=<MeanBackward0>)\n",
      "torch.Size([6, 4, 128, 128, 64]) torch.Size([6, 3, 128, 128, 64])\n",
      "after loss tensor(0.9174, grad_fn=<MeanBackward0>)\n",
      "torch.Size([6, 4, 128, 128, 64]) torch.Size([6, 3, 128, 128, 64])\n",
      "after loss tensor(0.8980, grad_fn=<MeanBackward0>)\n",
      "torch.Size([6, 4, 128, 128, 64]) torch.Size([6, 3, 128, 128, 64])\n",
      "after loss tensor(0.9159, grad_fn=<MeanBackward0>)\n",
      "torch.Size([6, 4, 128, 128, 64]) torch.Size([6, 3, 128, 128, 64])\n",
      "after loss tensor(0.8646, grad_fn=<MeanBackward0>)\n",
      "torch.Size([6, 4, 128, 128, 64]) torch.Size([6, 3, 128, 128, 64])\n",
      "after loss tensor(0.9472, grad_fn=<MeanBackward0>)\n",
      "torch.Size([6, 4, 128, 128, 64]) torch.Size([6, 3, 128, 128, 64])\n",
      "after loss tensor(0.9381, grad_fn=<MeanBackward0>)\n",
      "torch.Size([6, 4, 128, 128, 64]) torch.Size([6, 3, 128, 128, 64])\n",
      "after loss tensor(0.9334, grad_fn=<MeanBackward0>)\n",
      "torch.Size([6, 4, 128, 128, 64]) torch.Size([6, 3, 128, 128, 64])\n",
      "after loss tensor(0.9275, grad_fn=<MeanBackward0>)\n",
      "torch.Size([6, 4, 128, 128, 64]) torch.Size([6, 3, 128, 128, 64])\n",
      "after loss tensor(0.9048, grad_fn=<MeanBackward0>)\n",
      "torch.Size([6, 4, 128, 128, 64]) torch.Size([6, 3, 128, 128, 64])\n",
      "after loss tensor(0.8997, grad_fn=<MeanBackward0>)\n",
      "torch.Size([6, 4, 128, 128, 64]) torch.Size([6, 3, 128, 128, 64])\n",
      "after loss tensor(0.9490, grad_fn=<MeanBackward0>)\n",
      "torch.Size([6, 4, 128, 128, 64]) torch.Size([6, 3, 128, 128, 64])\n",
      "after loss tensor(0.9106, grad_fn=<MeanBackward0>)\n",
      "torch.Size([6, 4, 128, 128, 64]) torch.Size([6, 3, 128, 128, 64])\n",
      "after loss tensor(0.9294, grad_fn=<MeanBackward0>)\n",
      "torch.Size([6, 4, 128, 128, 64]) torch.Size([6, 3, 128, 128, 64])\n",
      "after loss tensor(0.9281, grad_fn=<MeanBackward0>)\n",
      "torch.Size([6, 4, 128, 128, 64]) torch.Size([6, 3, 128, 128, 64])\n",
      "after loss tensor(0.9315, grad_fn=<MeanBackward0>)\n",
      "torch.Size([6, 4, 128, 128, 64]) torch.Size([6, 3, 128, 128, 64])\n",
      "after loss tensor(0.9421, grad_fn=<MeanBackward0>)\n",
      "torch.Size([6, 4, 128, 128, 64]) torch.Size([6, 3, 128, 128, 64])\n",
      "after loss tensor(0.9197, grad_fn=<MeanBackward0>)\n",
      "torch.Size([6, 4, 128, 128, 64]) torch.Size([6, 3, 128, 128, 64])\n",
      "after loss tensor(0.9448, grad_fn=<MeanBackward0>)\n",
      "torch.Size([6, 4, 128, 128, 64]) torch.Size([6, 3, 128, 128, 64])\n",
      "after loss tensor(0.9073, grad_fn=<MeanBackward0>)\n",
      "torch.Size([6, 4, 128, 128, 64]) torch.Size([6, 3, 128, 128, 64])\n",
      "after loss tensor(0.9244, grad_fn=<MeanBackward0>)\n",
      "torch.Size([6, 4, 128, 128, 64]) torch.Size([6, 3, 128, 128, 64])\n",
      "after loss tensor(0.9265, grad_fn=<MeanBackward0>)\n",
      "torch.Size([6, 4, 128, 128, 64]) torch.Size([6, 3, 128, 128, 64])\n",
      "after loss tensor(0.9179, grad_fn=<MeanBackward0>)\n",
      "torch.Size([6, 4, 128, 128, 64]) torch.Size([6, 3, 128, 128, 64])\n",
      "after loss tensor(0.9429, grad_fn=<MeanBackward0>)\n",
      "torch.Size([2, 4, 128, 128, 64]) torch.Size([2, 3, 128, 128, 64])\n",
      "after loss tensor(0.8917, grad_fn=<MeanBackward0>)\n"
     ]
    },
    {
     "data": {
      "text/html": [
       "<pre style=\"white-space:pre;overflow-x:auto;line-height:normal;font-family:Menlo,'DejaVu Sans Mono',consolas,'Courier New',monospace\"><span style=\"color: #7fbfbf\">[16:17:20] </span><span style=\"color: #000080\">INFO</span>     Sending metric for task train, round number <span style=\"color: #000080; font-weight: bold\">2</span>: DiceLoss <span style=\"color: #000080; font-weight: bold\">0.9233937859535217</span>                                               <a href=\"file:///home/maksim/.virtualenvs/brain_tumor/lib/python3.6/site-packages/openfl/component/collaborator/collaborator.py\"><span style=\"color: #7f7f7f\">collaborator.py</span></a><span style=\"color: #7f7f7f\">:366</span>\n",
       "</pre>\n"
      ],
      "text/plain": [
       "<rich.jupyter.JupyterRenderable at 0x7fb558c21198>"
      ]
     },
     "metadata": {},
     "output_type": "display_data"
    },
    {
     "data": {
      "text/html": [
       "<pre style=\"white-space:pre;overflow-x:auto;line-height:normal;font-family:Menlo,'DejaVu Sans Mono',consolas,'Courier New',monospace\"><span style=\"color: #7fbfbf\">           </span><span style=\"color: #000080\">INFO</span>     Collaborator one is sending task results for train, round <span style=\"color: #000080; font-weight: bold\">2</span>                                                                <a href=\"file:///home/maksim/.virtualenvs/brain_tumor/lib/python3.6/site-packages/openfl/component/aggregator/aggregator.py\"><span style=\"color: #7f7f7f\">aggregator.py</span></a><span style=\"color: #7f7f7f\">:430</span>\n",
       "</pre>\n"
      ],
      "text/plain": [
       "<rich.jupyter.JupyterRenderable at 0x7fb558b6e710>"
      ]
     },
     "metadata": {},
     "output_type": "display_data"
    },
    {
     "data": {
      "text/html": [
       "<pre style=\"white-space:pre;overflow-x:auto;line-height:normal;font-family:Menlo,'DejaVu Sans Mono',consolas,'Courier New',monospace\"><span style=\"color: #7fbfbf\">[16:17:47] </span><span style=\"color: #000080\">INFO</span>     Sending metric for task locally_tuned_model_validation, round number <span style=\"color: #000080; font-weight: bold\">2</span>: dice_coef       <span style=\"color: #000080; font-weight: bold\">0.11545646786689759</span>              <a href=\"file:///home/maksim/.virtualenvs/brain_tumor/lib/python3.6/site-packages/openfl/component/collaborator/collaborator.py\"><span style=\"color: #7f7f7f\">collaborator.py</span></a><span style=\"color: #7f7f7f\">:366</span>\n",
       "</pre>\n"
      ],
      "text/plain": [
       "<rich.jupyter.JupyterRenderable at 0x7fb558c21f98>"
      ]
     },
     "metadata": {},
     "output_type": "display_data"
    },
    {
     "data": {
      "text/html": [
       "<pre style=\"white-space:pre;overflow-x:auto;line-height:normal;font-family:Menlo,'DejaVu Sans Mono',consolas,'Courier New',monospace\"><span style=\"color: #7fbfbf\">           </span><span style=\"color: #000080\">INFO</span>     Collaborator one is sending task results for locally_tuned_model_validation, round <span style=\"color: #000080; font-weight: bold\">2</span>                                       <a href=\"file:///home/maksim/.virtualenvs/brain_tumor/lib/python3.6/site-packages/openfl/component/aggregator/aggregator.py\"><span style=\"color: #7f7f7f\">aggregator.py</span></a><span style=\"color: #7f7f7f\">:430</span>\n",
       "</pre>\n"
      ],
      "text/plain": [
       "<rich.jupyter.JupyterRenderable at 0x7fb558c21f98>"
      ]
     },
     "metadata": {},
     "output_type": "display_data"
    },
    {
     "data": {
      "text/html": [
       "<pre style=\"white-space:pre;overflow-x:auto;line-height:normal;font-family:Menlo,'DejaVu Sans Mono',consolas,'Courier New',monospace\"><span style=\"color: #7fbfbf\">           </span><span style=\"color: #000080\">INFO</span>     All tasks completed on one for round <span style=\"color: #000080; font-weight: bold\">2</span><span style=\"color: #808000\">...</span>                                                                                <a href=\"file:///home/maksim/.virtualenvs/brain_tumor/lib/python3.6/site-packages/openfl/component/collaborator/collaborator.py\"><span style=\"color: #7f7f7f\">collaborator.py</span></a><span style=\"color: #7f7f7f\">:150</span>\n",
       "</pre>\n"
      ],
      "text/plain": [
       "<rich.jupyter.JupyterRenderable at 0x7fb558c21438>"
      ]
     },
     "metadata": {},
     "output_type": "display_data"
    },
    {
     "data": {
      "text/html": [
       "<pre style=\"white-space:pre;overflow-x:auto;line-height:normal;font-family:Menlo,'DejaVu Sans Mono',consolas,'Courier New',monospace\"><span style=\"color: #7fbfbf\">           </span><span style=\"color: #000080\">INFO</span>     Waiting for tasks<span style=\"color: #808000\">...</span>                                                                                                     <a href=\"file:///home/maksim/.virtualenvs/brain_tumor/lib/python3.6/site-packages/openfl/component/collaborator/collaborator.py\"><span style=\"color: #7f7f7f\">collaborator.py</span></a><span style=\"color: #7f7f7f\">:156</span>\n",
       "</pre>\n"
      ],
      "text/plain": [
       "<rich.jupyter.JupyterRenderable at 0x7fb558c66940>"
      ]
     },
     "metadata": {},
     "output_type": "display_data"
    },
    {
     "data": {
      "text/html": [
       "<pre style=\"white-space:pre;overflow-x:auto;line-height:normal;font-family:Menlo,'DejaVu Sans Mono',consolas,'Courier New',monospace\"><span style=\"color: #7fbfbf\">           </span><span style=\"color: #000080\">INFO</span>     Sending tasks to collaborator two for round <span style=\"color: #000080; font-weight: bold\">2</span>                                                                              <a href=\"file:///home/maksim/.virtualenvs/brain_tumor/lib/python3.6/site-packages/openfl/component/aggregator/aggregator.py\"><span style=\"color: #7f7f7f\">aggregator.py</span></a><span style=\"color: #7f7f7f\">:277</span>\n",
       "</pre>\n"
      ],
      "text/plain": [
       "<rich.jupyter.JupyterRenderable at 0x7fb558c66940>"
      ]
     },
     "metadata": {},
     "output_type": "display_data"
    },
    {
     "data": {
      "text/html": [
       "<pre style=\"white-space:pre;overflow-x:auto;line-height:normal;font-family:Menlo,'DejaVu Sans Mono',consolas,'Courier New',monospace\"><span style=\"color: #7fbfbf\">           </span><span style=\"color: #000080\">INFO</span>     Received the following tasks: <span style=\"font-weight: bold\">[</span><span style=\"color: #008000\">'aggregated_model_validation'</span>, <span style=\"color: #008000\">'train'</span>, <span style=\"color: #008000\">'locally_tuned_model_validation'</span><span style=\"font-weight: bold\">]</span>                 <a href=\"file:///home/maksim/.virtualenvs/brain_tumor/lib/python3.6/site-packages/openfl/component/collaborator/collaborator.py\"><span style=\"color: #7f7f7f\">collaborator.py</span></a><span style=\"color: #7f7f7f\">:145</span>\n",
       "</pre>\n"
      ],
      "text/plain": [
       "<rich.jupyter.JupyterRenderable at 0x7fb558c66940>"
      ]
     },
     "metadata": {},
     "output_type": "display_data"
    },
    {
     "data": {
      "text/html": [
       "<pre style=\"white-space:pre;overflow-x:auto;line-height:normal;font-family:Menlo,'DejaVu Sans Mono',consolas,'Courier New',monospace\"><span style=\"color: #7fbfbf\">[16:18:14] </span><span style=\"color: #000080\">INFO</span>     Sending metric for task aggregated_model_validation, round number <span style=\"color: #000080; font-weight: bold\">2</span>: dice_coef  <span style=\"color: #000080; font-weight: bold\">0.08919075056910515</span>                      <a href=\"file:///home/maksim/.virtualenvs/brain_tumor/lib/python3.6/site-packages/openfl/component/collaborator/collaborator.py\"><span style=\"color: #7f7f7f\">collaborator.py</span></a><span style=\"color: #7f7f7f\">:366</span>\n",
       "</pre>\n"
      ],
      "text/plain": [
       "<rich.jupyter.JupyterRenderable at 0x7fb525c213c8>"
      ]
     },
     "metadata": {},
     "output_type": "display_data"
    },
    {
     "data": {
      "text/html": [
       "<pre style=\"white-space:pre;overflow-x:auto;line-height:normal;font-family:Menlo,'DejaVu Sans Mono',consolas,'Courier New',monospace\"><span style=\"color: #7fbfbf\">           </span><span style=\"color: #000080\">INFO</span>     Collaborator two is sending task results for aggregated_model_validation, round <span style=\"color: #000080; font-weight: bold\">2</span>                                          <a href=\"file:///home/maksim/.virtualenvs/brain_tumor/lib/python3.6/site-packages/openfl/component/aggregator/aggregator.py\"><span style=\"color: #7f7f7f\">aggregator.py</span></a><span style=\"color: #7f7f7f\">:430</span>\n",
       "</pre>\n"
      ],
      "text/plain": [
       "<rich.jupyter.JupyterRenderable at 0x7fb525c21198>"
      ]
     },
     "metadata": {},
     "output_type": "display_data"
    },
    {
     "name": "stdout",
     "output_type": "stream",
     "text": [
      "torch.Size([6, 4, 128, 128, 64]) torch.Size([6, 3, 128, 128, 64])\n",
      "after loss tensor(0.9147, grad_fn=<MeanBackward0>)\n",
      "torch.Size([6, 4, 128, 128, 64]) torch.Size([6, 3, 128, 128, 64])\n",
      "after loss tensor(0.9265, grad_fn=<MeanBackward0>)\n",
      "torch.Size([6, 4, 128, 128, 64]) torch.Size([6, 3, 128, 128, 64])\n",
      "after loss tensor(0.9224, grad_fn=<MeanBackward0>)\n",
      "torch.Size([6, 4, 128, 128, 64]) torch.Size([6, 3, 128, 128, 64])\n",
      "after loss tensor(0.9477, grad_fn=<MeanBackward0>)\n",
      "torch.Size([6, 4, 128, 128, 64]) torch.Size([6, 3, 128, 128, 64])\n",
      "after loss tensor(0.9353, grad_fn=<MeanBackward0>)\n",
      "torch.Size([6, 4, 128, 128, 64]) torch.Size([6, 3, 128, 128, 64])\n",
      "after loss tensor(0.9032, grad_fn=<MeanBackward0>)\n",
      "torch.Size([6, 4, 128, 128, 64]) torch.Size([6, 3, 128, 128, 64])\n",
      "after loss tensor(0.9169, grad_fn=<MeanBackward0>)\n",
      "torch.Size([6, 4, 128, 128, 64]) torch.Size([6, 3, 128, 128, 64])\n",
      "after loss tensor(0.9437, grad_fn=<MeanBackward0>)\n",
      "torch.Size([6, 4, 128, 128, 64]) torch.Size([6, 3, 128, 128, 64])\n",
      "after loss tensor(0.9318, grad_fn=<MeanBackward0>)\n",
      "torch.Size([6, 4, 128, 128, 64]) torch.Size([6, 3, 128, 128, 64])\n",
      "after loss tensor(0.9288, grad_fn=<MeanBackward0>)\n",
      "torch.Size([6, 4, 128, 128, 64]) torch.Size([6, 3, 128, 128, 64])\n",
      "after loss tensor(0.9100, grad_fn=<MeanBackward0>)\n",
      "torch.Size([6, 4, 128, 128, 64]) torch.Size([6, 3, 128, 128, 64])\n",
      "after loss tensor(0.9158, grad_fn=<MeanBackward0>)\n",
      "torch.Size([6, 4, 128, 128, 64]) torch.Size([6, 3, 128, 128, 64])\n",
      "after loss tensor(0.9276, grad_fn=<MeanBackward0>)\n",
      "torch.Size([6, 4, 128, 128, 64]) torch.Size([6, 3, 128, 128, 64])\n",
      "after loss tensor(0.9378, grad_fn=<MeanBackward0>)\n",
      "torch.Size([6, 4, 128, 128, 64]) torch.Size([6, 3, 128, 128, 64])\n",
      "after loss tensor(0.9503, grad_fn=<MeanBackward0>)\n",
      "torch.Size([6, 4, 128, 128, 64]) torch.Size([6, 3, 128, 128, 64])\n",
      "after loss tensor(0.9309, grad_fn=<MeanBackward0>)\n",
      "torch.Size([6, 4, 128, 128, 64]) torch.Size([6, 3, 128, 128, 64])\n",
      "after loss tensor(0.9424, grad_fn=<MeanBackward0>)\n",
      "torch.Size([6, 4, 128, 128, 64]) torch.Size([6, 3, 128, 128, 64])\n",
      "after loss tensor(0.9166, grad_fn=<MeanBackward0>)\n",
      "torch.Size([6, 4, 128, 128, 64]) torch.Size([6, 3, 128, 128, 64])\n",
      "after loss tensor(0.9173, grad_fn=<MeanBackward0>)\n",
      "torch.Size([6, 4, 128, 128, 64]) torch.Size([6, 3, 128, 128, 64])\n",
      "after loss tensor(0.9216, grad_fn=<MeanBackward0>)\n",
      "torch.Size([6, 4, 128, 128, 64]) torch.Size([6, 3, 128, 128, 64])\n",
      "after loss tensor(0.8724, grad_fn=<MeanBackward0>)\n",
      "torch.Size([6, 4, 128, 128, 64]) torch.Size([6, 3, 128, 128, 64])\n",
      "after loss tensor(0.9213, grad_fn=<MeanBackward0>)\n",
      "torch.Size([6, 4, 128, 128, 64]) torch.Size([6, 3, 128, 128, 64])\n",
      "after loss tensor(0.9414, grad_fn=<MeanBackward0>)\n",
      "torch.Size([6, 4, 128, 128, 64]) torch.Size([6, 3, 128, 128, 64])\n",
      "after loss tensor(0.9165, grad_fn=<MeanBackward0>)\n",
      "torch.Size([6, 4, 128, 128, 64]) torch.Size([6, 3, 128, 128, 64])\n",
      "after loss tensor(0.9101, grad_fn=<MeanBackward0>)\n",
      "torch.Size([6, 4, 128, 128, 64]) torch.Size([6, 3, 128, 128, 64])\n",
      "after loss tensor(0.9239, grad_fn=<MeanBackward0>)\n",
      "torch.Size([6, 4, 128, 128, 64]) torch.Size([6, 3, 128, 128, 64])\n",
      "after loss tensor(0.9007, grad_fn=<MeanBackward0>)\n",
      "torch.Size([6, 4, 128, 128, 64]) torch.Size([6, 3, 128, 128, 64])\n",
      "after loss tensor(0.9002, grad_fn=<MeanBackward0>)\n",
      "torch.Size([6, 4, 128, 128, 64]) torch.Size([6, 3, 128, 128, 64])\n",
      "after loss tensor(0.9135, grad_fn=<MeanBackward0>)\n",
      "torch.Size([6, 4, 128, 128, 64]) torch.Size([6, 3, 128, 128, 64])\n",
      "after loss tensor(0.9181, grad_fn=<MeanBackward0>)\n",
      "torch.Size([6, 4, 128, 128, 64]) torch.Size([6, 3, 128, 128, 64])\n",
      "after loss tensor(0.9247, grad_fn=<MeanBackward0>)\n",
      "torch.Size([6, 4, 128, 128, 64]) torch.Size([6, 3, 128, 128, 64])\n",
      "after loss tensor(0.9407, grad_fn=<MeanBackward0>)\n",
      "torch.Size([6, 4, 128, 128, 64]) torch.Size([6, 3, 128, 128, 64])\n",
      "after loss tensor(0.9332, grad_fn=<MeanBackward0>)\n",
      "torch.Size([6, 4, 128, 128, 64]) torch.Size([6, 3, 128, 128, 64])\n",
      "after loss tensor(0.9385, grad_fn=<MeanBackward0>)\n",
      "torch.Size([6, 4, 128, 128, 64]) torch.Size([6, 3, 128, 128, 64])\n",
      "after loss tensor(0.9427, grad_fn=<MeanBackward0>)\n",
      "torch.Size([2, 4, 128, 128, 64]) torch.Size([2, 3, 128, 128, 64])\n",
      "after loss tensor(0.9217, grad_fn=<MeanBackward0>)\n"
     ]
    },
    {
     "data": {
      "text/html": [
       "<pre style=\"white-space:pre;overflow-x:auto;line-height:normal;font-family:Menlo,'DejaVu Sans Mono',consolas,'Courier New',monospace\"><span style=\"color: #7fbfbf\">[16:22:49] </span><span style=\"color: #000080\">INFO</span>     Sending metric for task train, round number <span style=\"color: #000080; font-weight: bold\">2</span>: DiceLoss <span style=\"color: #000080; font-weight: bold\">0.9239127039909363</span>                                               <a href=\"file:///home/maksim/.virtualenvs/brain_tumor/lib/python3.6/site-packages/openfl/component/collaborator/collaborator.py\"><span style=\"color: #7f7f7f\">collaborator.py</span></a><span style=\"color: #7f7f7f\">:366</span>\n",
       "</pre>\n"
      ],
      "text/plain": [
       "<rich.jupyter.JupyterRenderable at 0x7fb525c21550>"
      ]
     },
     "metadata": {},
     "output_type": "display_data"
    },
    {
     "data": {
      "text/html": [
       "<pre style=\"white-space:pre;overflow-x:auto;line-height:normal;font-family:Menlo,'DejaVu Sans Mono',consolas,'Courier New',monospace\"><span style=\"color: #7fbfbf\">           </span><span style=\"color: #000080\">INFO</span>     Collaborator two is sending task results for train, round <span style=\"color: #000080; font-weight: bold\">2</span>                                                                <a href=\"file:///home/maksim/.virtualenvs/brain_tumor/lib/python3.6/site-packages/openfl/component/aggregator/aggregator.py\"><span style=\"color: #7f7f7f\">aggregator.py</span></a><span style=\"color: #7f7f7f\">:430</span>\n",
       "</pre>\n"
      ],
      "text/plain": [
       "<rich.jupyter.JupyterRenderable at 0x7fb525c219b0>"
      ]
     },
     "metadata": {},
     "output_type": "display_data"
    },
    {
     "data": {
      "text/html": [
       "<pre style=\"white-space:pre;overflow-x:auto;line-height:normal;font-family:Menlo,'DejaVu Sans Mono',consolas,'Courier New',monospace\"><span style=\"color: #7fbfbf\">[16:23:25] </span><span style=\"color: #000080\">INFO</span>     Sending metric for task locally_tuned_model_validation, round number <span style=\"color: #000080; font-weight: bold\">2</span>: dice_coef       <span style=\"color: #000080; font-weight: bold\">0.11388764381408692</span>              <a href=\"file:///home/maksim/.virtualenvs/brain_tumor/lib/python3.6/site-packages/openfl/component/collaborator/collaborator.py\"><span style=\"color: #7f7f7f\">collaborator.py</span></a><span style=\"color: #7f7f7f\">:366</span>\n",
       "</pre>\n"
      ],
      "text/plain": [
       "<rich.jupyter.JupyterRenderable at 0x7fb525bb8e48>"
      ]
     },
     "metadata": {},
     "output_type": "display_data"
    },
    {
     "data": {
      "text/html": [
       "<pre style=\"white-space:pre;overflow-x:auto;line-height:normal;font-family:Menlo,'DejaVu Sans Mono',consolas,'Courier New',monospace\"><span style=\"color: #7fbfbf\">           </span><span style=\"color: #000080\">INFO</span>     Collaborator two is sending task results for locally_tuned_model_validation, round <span style=\"color: #000080; font-weight: bold\">2</span>                                       <a href=\"file:///home/maksim/.virtualenvs/brain_tumor/lib/python3.6/site-packages/openfl/component/aggregator/aggregator.py\"><span style=\"color: #7f7f7f\">aggregator.py</span></a><span style=\"color: #7f7f7f\">:430</span>\n",
       "</pre>\n"
      ],
      "text/plain": [
       "<rich.jupyter.JupyterRenderable at 0x7fb558be40b8>"
      ]
     },
     "metadata": {},
     "output_type": "display_data"
    },
    {
     "data": {
      "text/html": [
       "<pre style=\"white-space:pre;overflow-x:auto;line-height:normal;font-family:Menlo,'DejaVu Sans Mono',consolas,'Courier New',monospace\"><span style=\"color: #7fbfbf\">           </span><span style=\"color: #000080\">INFO</span>     train task metrics<span style=\"color: #808000\">...</span>                                                                                                      <a href=\"file:///home/maksim/.virtualenvs/brain_tumor/lib/python3.6/site-packages/openfl/component/aggregator/aggregator.py\"><span style=\"color: #7f7f7f\">aggregator.py</span></a><span style=\"color: #7f7f7f\">:694</span>\n",
       "</pre>\n"
      ],
      "text/plain": [
       "<rich.jupyter.JupyterRenderable at 0x7fb558c5df60>"
      ]
     },
     "metadata": {},
     "output_type": "display_data"
    },
    {
     "data": {
      "text/html": [
       "<pre style=\"white-space:pre;overflow-x:auto;line-height:normal;font-family:Menlo,'DejaVu Sans Mono',consolas,'Courier New',monospace\"><span style=\"color: #7fbfbf\">           </span><span style=\"color: #000080\">INFO</span>     DiceLoss:       <span style=\"color: #000080; font-weight: bold\">0.9237</span>                                                                                                     <a href=\"file:///home/maksim/.virtualenvs/brain_tumor/lib/python3.6/site-packages/openfl/component/aggregator/aggregator.py\"><span style=\"color: #7f7f7f\">aggregator.py</span></a><span style=\"color: #7f7f7f\">:742</span>\n",
       "</pre>\n"
      ],
      "text/plain": [
       "<rich.jupyter.JupyterRenderable at 0x7fb525bc8828>"
      ]
     },
     "metadata": {},
     "output_type": "display_data"
    },
    {
     "data": {
      "text/html": [
       "<pre style=\"white-space:pre;overflow-x:auto;line-height:normal;font-family:Menlo,'DejaVu Sans Mono',consolas,'Courier New',monospace\"><span style=\"color: #7fbfbf\">[16:23:31] </span><span style=\"color: #000080\">INFO</span>     locally_tuned_model_validation task metrics<span style=\"color: #808000\">...</span>                                                                             <a href=\"file:///home/maksim/.virtualenvs/brain_tumor/lib/python3.6/site-packages/openfl/component/aggregator/aggregator.py\"><span style=\"color: #7f7f7f\">aggregator.py</span></a><span style=\"color: #7f7f7f\">:694</span>\n",
       "</pre>\n"
      ],
      "text/plain": [
       "<rich.jupyter.JupyterRenderable at 0x7fb525bc8908>"
      ]
     },
     "metadata": {},
     "output_type": "display_data"
    },
    {
     "data": {
      "text/html": [
       "<pre style=\"white-space:pre;overflow-x:auto;line-height:normal;font-family:Menlo,'DejaVu Sans Mono',consolas,'Courier New',monospace\"><span style=\"color: #7fbfbf\">           </span><span style=\"color: #000080\">INFO</span>     dice_coef:      <span style=\"color: #000080; font-weight: bold\">0.1147</span>                                                                                                     <a href=\"file:///home/maksim/.virtualenvs/brain_tumor/lib/python3.6/site-packages/openfl/component/aggregator/aggregator.py\"><span style=\"color: #7f7f7f\">aggregator.py</span></a><span style=\"color: #7f7f7f\">:742</span>\n",
       "</pre>\n"
      ],
      "text/plain": [
       "<rich.jupyter.JupyterRenderable at 0x7fb558ba1860>"
      ]
     },
     "metadata": {},
     "output_type": "display_data"
    },
    {
     "data": {
      "text/html": [
       "<pre style=\"white-space:pre;overflow-x:auto;line-height:normal;font-family:Menlo,'DejaVu Sans Mono',consolas,'Courier New',monospace\"><span style=\"color: #7fbfbf\">           </span><span style=\"color: #000080\">INFO</span>     aggregated_model_validation task metrics<span style=\"color: #808000\">...</span>                                                                                <a href=\"file:///home/maksim/.virtualenvs/brain_tumor/lib/python3.6/site-packages/openfl/component/aggregator/aggregator.py\"><span style=\"color: #7f7f7f\">aggregator.py</span></a><span style=\"color: #7f7f7f\">:694</span>\n",
       "</pre>\n"
      ],
      "text/plain": [
       "<rich.jupyter.JupyterRenderable at 0x7fb525c210b8>"
      ]
     },
     "metadata": {},
     "output_type": "display_data"
    },
    {
     "data": {
      "text/html": [
       "<pre style=\"white-space:pre;overflow-x:auto;line-height:normal;font-family:Menlo,'DejaVu Sans Mono',consolas,'Courier New',monospace\"><span style=\"color: #7fbfbf\">           </span><span style=\"color: #000080\">INFO</span>     dice_coef:      <span style=\"color: #000080; font-weight: bold\">0.0892</span>                                                                                                     <a href=\"file:///home/maksim/.virtualenvs/brain_tumor/lib/python3.6/site-packages/openfl/component/aggregator/aggregator.py\"><span style=\"color: #7f7f7f\">aggregator.py</span></a><span style=\"color: #7f7f7f\">:742</span>\n",
       "</pre>\n"
      ],
      "text/plain": [
       "<rich.jupyter.JupyterRenderable at 0x7fb525c21860>"
      ]
     },
     "metadata": {},
     "output_type": "display_data"
    },
    {
     "data": {
      "text/html": [
       "<pre style=\"white-space:pre;overflow-x:auto;line-height:normal;font-family:Menlo,'DejaVu Sans Mono',consolas,'Courier New',monospace\"><span style=\"color: #7fbfbf\">           </span><span style=\"color: #000080\">INFO</span>     Saved the best model with score <span style=\"color: #000080; font-weight: bold\">0.089191</span>                                                                                   <a href=\"file:///home/maksim/.virtualenvs/brain_tumor/lib/python3.6/site-packages/openfl/component/aggregator/aggregator.py\"><span style=\"color: #7f7f7f\">aggregator.py</span></a><span style=\"color: #7f7f7f\">:754</span>\n",
       "</pre>\n"
      ],
      "text/plain": [
       "<rich.jupyter.JupyterRenderable at 0x7fb558c5d198>"
      ]
     },
     "metadata": {},
     "output_type": "display_data"
    },
    {
     "data": {
      "text/html": [
       "<pre style=\"white-space:pre;overflow-x:auto;line-height:normal;font-family:Menlo,'DejaVu Sans Mono',consolas,'Courier New',monospace\"><span style=\"color: #7fbfbf\">[16:23:32] </span><span style=\"color: #000080\">INFO</span>     Saving round <span style=\"color: #000080; font-weight: bold\">3</span> model<span style=\"color: #808000\">...</span>                                                                                                    <a href=\"file:///home/maksim/.virtualenvs/brain_tumor/lib/python3.6/site-packages/openfl/component/aggregator/aggregator.py\"><span style=\"color: #7f7f7f\">aggregator.py</span></a><span style=\"color: #7f7f7f\">:788</span>\n",
       "</pre>\n"
      ],
      "text/plain": [
       "<rich.jupyter.JupyterRenderable at 0x7fb525bb2cf8>"
      ]
     },
     "metadata": {},
     "output_type": "display_data"
    },
    {
     "data": {
      "text/html": [
       "<pre style=\"white-space:pre;overflow-x:auto;line-height:normal;font-family:Menlo,'DejaVu Sans Mono',consolas,'Courier New',monospace\"><span style=\"color: #7fbfbf\">           </span><span style=\"color: #000080\">INFO</span>     Starting round <span style=\"color: #000080; font-weight: bold\">3</span><span style=\"color: #808000\">...</span>                                                                                                        <a href=\"file:///home/maksim/.virtualenvs/brain_tumor/lib/python3.6/site-packages/openfl/component/aggregator/aggregator.py\"><span style=\"color: #7f7f7f\">aggregator.py</span></a><span style=\"color: #7f7f7f\">:796</span>\n",
       "</pre>\n"
      ],
      "text/plain": [
       "<rich.jupyter.JupyterRenderable at 0x7fb558c5d080>"
      ]
     },
     "metadata": {},
     "output_type": "display_data"
    },
    {
     "data": {
      "text/html": [
       "<pre style=\"white-space:pre;overflow-x:auto;line-height:normal;font-family:Menlo,'DejaVu Sans Mono',consolas,'Courier New',monospace\"><span style=\"color: #7fbfbf\">           </span><span style=\"color: #000080\">INFO</span>     All tasks completed on two for round <span style=\"color: #000080; font-weight: bold\">2</span><span style=\"color: #808000\">...</span>                                                                                <a href=\"file:///home/maksim/.virtualenvs/brain_tumor/lib/python3.6/site-packages/openfl/component/collaborator/collaborator.py\"><span style=\"color: #7f7f7f\">collaborator.py</span></a><span style=\"color: #7f7f7f\">:150</span>\n",
       "</pre>\n"
      ],
      "text/plain": [
       "<rich.jupyter.JupyterRenderable at 0x7fb525c21860>"
      ]
     },
     "metadata": {},
     "output_type": "display_data"
    },
    {
     "data": {
      "text/html": [
       "<pre style=\"white-space:pre;overflow-x:auto;line-height:normal;font-family:Menlo,'DejaVu Sans Mono',consolas,'Courier New',monospace\"><span style=\"color: #7fbfbf\">           </span><span style=\"color: #000080\">INFO</span>     Waiting for tasks<span style=\"color: #808000\">...</span>                                                                                                     <a href=\"file:///home/maksim/.virtualenvs/brain_tumor/lib/python3.6/site-packages/openfl/component/collaborator/collaborator.py\"><span style=\"color: #7f7f7f\">collaborator.py</span></a><span style=\"color: #7f7f7f\">:156</span>\n",
       "</pre>\n"
      ],
      "text/plain": [
       "<rich.jupyter.JupyterRenderable at 0x7fb558ba1278>"
      ]
     },
     "metadata": {},
     "output_type": "display_data"
    },
    {
     "data": {
      "text/html": [
       "<pre style=\"white-space:pre;overflow-x:auto;line-height:normal;font-family:Menlo,'DejaVu Sans Mono',consolas,'Courier New',monospace\"><span style=\"color: #7fbfbf\">           </span><span style=\"color: #000080\">INFO</span>     Sending tasks to collaborator one for round <span style=\"color: #000080; font-weight: bold\">3</span>                                                                              <a href=\"file:///home/maksim/.virtualenvs/brain_tumor/lib/python3.6/site-packages/openfl/component/aggregator/aggregator.py\"><span style=\"color: #7f7f7f\">aggregator.py</span></a><span style=\"color: #7f7f7f\">:277</span>\n",
       "</pre>\n"
      ],
      "text/plain": [
       "<rich.jupyter.JupyterRenderable at 0x7fb558c5d080>"
      ]
     },
     "metadata": {},
     "output_type": "display_data"
    },
    {
     "data": {
      "text/html": [
       "<pre style=\"white-space:pre;overflow-x:auto;line-height:normal;font-family:Menlo,'DejaVu Sans Mono',consolas,'Courier New',monospace\"><span style=\"color: #7fbfbf\">           </span><span style=\"color: #000080\">INFO</span>     Received the following tasks: <span style=\"font-weight: bold\">[</span><span style=\"color: #008000\">'aggregated_model_validation'</span>, <span style=\"color: #008000\">'train'</span>, <span style=\"color: #008000\">'locally_tuned_model_validation'</span><span style=\"font-weight: bold\">]</span>                 <a href=\"file:///home/maksim/.virtualenvs/brain_tumor/lib/python3.6/site-packages/openfl/component/collaborator/collaborator.py\"><span style=\"color: #7f7f7f\">collaborator.py</span></a><span style=\"color: #7f7f7f\">:145</span>\n",
       "</pre>\n"
      ],
      "text/plain": [
       "<rich.jupyter.JupyterRenderable at 0x7fb525c21860>"
      ]
     },
     "metadata": {},
     "output_type": "display_data"
    },
    {
     "data": {
      "text/html": [
       "<pre style=\"white-space:pre;overflow-x:auto;line-height:normal;font-family:Menlo,'DejaVu Sans Mono',consolas,'Courier New',monospace\"><span style=\"color: #7fbfbf\">[16:24:08] </span><span style=\"color: #000080\">INFO</span>     Sending metric for task aggregated_model_validation, round number <span style=\"color: #000080; font-weight: bold\">3</span>: dice_coef  <span style=\"color: #000080; font-weight: bold\">0.11548704206943512</span>                      <a href=\"file:///home/maksim/.virtualenvs/brain_tumor/lib/python3.6/site-packages/openfl/component/collaborator/collaborator.py\"><span style=\"color: #7f7f7f\">collaborator.py</span></a><span style=\"color: #7f7f7f\">:366</span>\n",
       "</pre>\n"
      ],
      "text/plain": [
       "<rich.jupyter.JupyterRenderable at 0x7fb525bb7438>"
      ]
     },
     "metadata": {},
     "output_type": "display_data"
    },
    {
     "data": {
      "text/html": [
       "<pre style=\"white-space:pre;overflow-x:auto;line-height:normal;font-family:Menlo,'DejaVu Sans Mono',consolas,'Courier New',monospace\"><span style=\"color: #7fbfbf\">           </span><span style=\"color: #000080\">INFO</span>     Collaborator one is sending task results for aggregated_model_validation, round <span style=\"color: #000080; font-weight: bold\">3</span>                                          <a href=\"file:///home/maksim/.virtualenvs/brain_tumor/lib/python3.6/site-packages/openfl/component/aggregator/aggregator.py\"><span style=\"color: #7f7f7f\">aggregator.py</span></a><span style=\"color: #7f7f7f\">:430</span>\n",
       "</pre>\n"
      ],
      "text/plain": [
       "<rich.jupyter.JupyterRenderable at 0x7fb525bb7f60>"
      ]
     },
     "metadata": {},
     "output_type": "display_data"
    },
    {
     "name": "stdout",
     "output_type": "stream",
     "text": [
      "torch.Size([6, 4, 128, 128, 64]) torch.Size([6, 3, 128, 128, 64])\n",
      "after loss tensor(0.9728, grad_fn=<MeanBackward0>)\n",
      "torch.Size([6, 4, 128, 128, 64]) torch.Size([6, 3, 128, 128, 64])\n",
      "after loss tensor(0.9449, grad_fn=<MeanBackward0>)\n",
      "torch.Size([6, 4, 128, 128, 64]) torch.Size([6, 3, 128, 128, 64])\n",
      "after loss tensor(0.9087, grad_fn=<MeanBackward0>)\n",
      "torch.Size([6, 4, 128, 128, 64]) torch.Size([6, 3, 128, 128, 64])\n",
      "after loss tensor(0.9005, grad_fn=<MeanBackward0>)\n",
      "torch.Size([6, 4, 128, 128, 64]) torch.Size([6, 3, 128, 128, 64])\n",
      "after loss tensor(0.9011, grad_fn=<MeanBackward0>)\n",
      "torch.Size([6, 4, 128, 128, 64]) torch.Size([6, 3, 128, 128, 64])\n",
      "after loss tensor(0.9004, grad_fn=<MeanBackward0>)\n",
      "torch.Size([6, 4, 128, 128, 64]) torch.Size([6, 3, 128, 128, 64])\n",
      "after loss tensor(0.9235, grad_fn=<MeanBackward0>)\n",
      "torch.Size([6, 4, 128, 128, 64]) torch.Size([6, 3, 128, 128, 64])\n",
      "after loss tensor(0.9190, grad_fn=<MeanBackward0>)\n",
      "torch.Size([6, 4, 128, 128, 64]) torch.Size([6, 3, 128, 128, 64])\n",
      "after loss tensor(0.9127, grad_fn=<MeanBackward0>)\n",
      "torch.Size([6, 4, 128, 128, 64]) torch.Size([6, 3, 128, 128, 64])\n",
      "after loss tensor(0.9393, grad_fn=<MeanBackward0>)\n",
      "torch.Size([6, 4, 128, 128, 64]) torch.Size([6, 3, 128, 128, 64])\n",
      "after loss tensor(0.9296, grad_fn=<MeanBackward0>)\n",
      "torch.Size([6, 4, 128, 128, 64]) torch.Size([6, 3, 128, 128, 64])\n",
      "after loss tensor(0.9229, grad_fn=<MeanBackward0>)\n",
      "torch.Size([6, 4, 128, 128, 64]) torch.Size([6, 3, 128, 128, 64])\n",
      "after loss tensor(0.9341, grad_fn=<MeanBackward0>)\n",
      "torch.Size([6, 4, 128, 128, 64]) torch.Size([6, 3, 128, 128, 64])\n",
      "after loss tensor(0.9452, grad_fn=<MeanBackward0>)\n",
      "torch.Size([6, 4, 128, 128, 64]) torch.Size([6, 3, 128, 128, 64])\n",
      "after loss tensor(0.9200, grad_fn=<MeanBackward0>)\n",
      "torch.Size([6, 4, 128, 128, 64]) torch.Size([6, 3, 128, 128, 64])\n",
      "after loss tensor(0.9117, grad_fn=<MeanBackward0>)\n",
      "torch.Size([6, 4, 128, 128, 64]) torch.Size([6, 3, 128, 128, 64])\n",
      "after loss tensor(0.9006, grad_fn=<MeanBackward0>)\n",
      "torch.Size([6, 4, 128, 128, 64]) torch.Size([6, 3, 128, 128, 64])\n",
      "after loss tensor(0.8928, grad_fn=<MeanBackward0>)\n",
      "torch.Size([6, 4, 128, 128, 64]) torch.Size([6, 3, 128, 128, 64])\n",
      "after loss tensor(0.9155, grad_fn=<MeanBackward0>)\n",
      "torch.Size([6, 4, 128, 128, 64]) torch.Size([6, 3, 128, 128, 64])\n",
      "after loss tensor(0.8940, grad_fn=<MeanBackward0>)\n",
      "torch.Size([6, 4, 128, 128, 64]) torch.Size([6, 3, 128, 128, 64])\n",
      "after loss tensor(0.9225, grad_fn=<MeanBackward0>)\n",
      "torch.Size([6, 4, 128, 128, 64]) torch.Size([6, 3, 128, 128, 64])\n",
      "after loss tensor(0.9470, grad_fn=<MeanBackward0>)\n",
      "torch.Size([6, 4, 128, 128, 64]) torch.Size([6, 3, 128, 128, 64])\n",
      "after loss tensor(0.9405, grad_fn=<MeanBackward0>)\n",
      "torch.Size([6, 4, 128, 128, 64]) torch.Size([6, 3, 128, 128, 64])\n",
      "after loss tensor(0.9008, grad_fn=<MeanBackward0>)\n",
      "torch.Size([6, 4, 128, 128, 64]) torch.Size([6, 3, 128, 128, 64])\n",
      "after loss tensor(0.8981, grad_fn=<MeanBackward0>)\n",
      "torch.Size([6, 4, 128, 128, 64]) torch.Size([6, 3, 128, 128, 64])\n",
      "after loss tensor(0.9190, grad_fn=<MeanBackward0>)\n",
      "torch.Size([6, 4, 128, 128, 64]) torch.Size([6, 3, 128, 128, 64])\n",
      "after loss tensor(0.9219, grad_fn=<MeanBackward0>)\n",
      "torch.Size([6, 4, 128, 128, 64]) torch.Size([6, 3, 128, 128, 64])\n",
      "after loss tensor(0.9047, grad_fn=<MeanBackward0>)\n",
      "torch.Size([6, 4, 128, 128, 64]) torch.Size([6, 3, 128, 128, 64])\n",
      "after loss tensor(0.9183, grad_fn=<MeanBackward0>)\n",
      "torch.Size([6, 4, 128, 128, 64]) torch.Size([6, 3, 128, 128, 64])\n",
      "after loss tensor(0.9258, grad_fn=<MeanBackward0>)\n",
      "torch.Size([6, 4, 128, 128, 64]) torch.Size([6, 3, 128, 128, 64])\n",
      "after loss tensor(0.9353, grad_fn=<MeanBackward0>)\n",
      "torch.Size([6, 4, 128, 128, 64]) torch.Size([6, 3, 128, 128, 64])\n",
      "after loss tensor(0.9167, grad_fn=<MeanBackward0>)\n",
      "torch.Size([6, 4, 128, 128, 64]) torch.Size([6, 3, 128, 128, 64])\n",
      "after loss tensor(0.9298, grad_fn=<MeanBackward0>)\n",
      "torch.Size([6, 4, 128, 128, 64]) torch.Size([6, 3, 128, 128, 64])\n",
      "after loss tensor(0.9114, grad_fn=<MeanBackward0>)\n",
      "torch.Size([6, 4, 128, 128, 64]) torch.Size([6, 3, 128, 128, 64])\n",
      "after loss tensor(0.9194, grad_fn=<MeanBackward0>)\n",
      "torch.Size([2, 4, 128, 128, 64]) torch.Size([2, 3, 128, 128, 64])\n",
      "after loss tensor(0.9784, grad_fn=<MeanBackward0>)\n"
     ]
    },
    {
     "data": {
      "text/html": [
       "<pre style=\"white-space:pre;overflow-x:auto;line-height:normal;font-family:Menlo,'DejaVu Sans Mono',consolas,'Courier New',monospace\"><span style=\"color: #7fbfbf\">[16:28:36] </span><span style=\"color: #000080\">INFO</span>     Sending metric for task train, round number <span style=\"color: #000080; font-weight: bold\">3</span>: DiceLoss <span style=\"color: #000080; font-weight: bold\">0.9216380715370178</span>                                               <a href=\"file:///home/maksim/.virtualenvs/brain_tumor/lib/python3.6/site-packages/openfl/component/collaborator/collaborator.py\"><span style=\"color: #7f7f7f\">collaborator.py</span></a><span style=\"color: #7f7f7f\">:366</span>\n",
       "</pre>\n"
      ],
      "text/plain": [
       "<rich.jupyter.JupyterRenderable at 0x7fb525bb8d68>"
      ]
     },
     "metadata": {},
     "output_type": "display_data"
    },
    {
     "data": {
      "text/html": [
       "<pre style=\"white-space:pre;overflow-x:auto;line-height:normal;font-family:Menlo,'DejaVu Sans Mono',consolas,'Courier New',monospace\"><span style=\"color: #7fbfbf\">           </span><span style=\"color: #000080\">INFO</span>     Collaborator one is sending task results for train, round <span style=\"color: #000080; font-weight: bold\">3</span>                                                                <a href=\"file:///home/maksim/.virtualenvs/brain_tumor/lib/python3.6/site-packages/openfl/component/aggregator/aggregator.py\"><span style=\"color: #7f7f7f\">aggregator.py</span></a><span style=\"color: #7f7f7f\">:430</span>\n",
       "</pre>\n"
      ],
      "text/plain": [
       "<rich.jupyter.JupyterRenderable at 0x7fb558b7f358>"
      ]
     },
     "metadata": {},
     "output_type": "display_data"
    },
    {
     "data": {
      "text/html": [
       "<pre style=\"white-space:pre;overflow-x:auto;line-height:normal;font-family:Menlo,'DejaVu Sans Mono',consolas,'Courier New',monospace\"><span style=\"color: #7fbfbf\">[16:29:03] </span><span style=\"color: #000080\">INFO</span>     Sending metric for task locally_tuned_model_validation, round number <span style=\"color: #000080; font-weight: bold\">3</span>: dice_coef       <span style=\"color: #000080; font-weight: bold\">0.13703170120716096</span>              <a href=\"file:///home/maksim/.virtualenvs/brain_tumor/lib/python3.6/site-packages/openfl/component/collaborator/collaborator.py\"><span style=\"color: #7f7f7f\">collaborator.py</span></a><span style=\"color: #7f7f7f\">:366</span>\n",
       "</pre>\n"
      ],
      "text/plain": [
       "<rich.jupyter.JupyterRenderable at 0x7fb558c97160>"
      ]
     },
     "metadata": {},
     "output_type": "display_data"
    },
    {
     "data": {
      "text/html": [
       "<pre style=\"white-space:pre;overflow-x:auto;line-height:normal;font-family:Menlo,'DejaVu Sans Mono',consolas,'Courier New',monospace\"><span style=\"color: #7fbfbf\">           </span><span style=\"color: #000080\">INFO</span>     Collaborator one is sending task results for locally_tuned_model_validation, round <span style=\"color: #000080; font-weight: bold\">3</span>                                       <a href=\"file:///home/maksim/.virtualenvs/brain_tumor/lib/python3.6/site-packages/openfl/component/aggregator/aggregator.py\"><span style=\"color: #7f7f7f\">aggregator.py</span></a><span style=\"color: #7f7f7f\">:430</span>\n",
       "</pre>\n"
      ],
      "text/plain": [
       "<rich.jupyter.JupyterRenderable at 0x7fb558be44a8>"
      ]
     },
     "metadata": {},
     "output_type": "display_data"
    },
    {
     "data": {
      "text/html": [
       "<pre style=\"white-space:pre;overflow-x:auto;line-height:normal;font-family:Menlo,'DejaVu Sans Mono',consolas,'Courier New',monospace\"><span style=\"color: #7fbfbf\">           </span><span style=\"color: #000080\">INFO</span>     All tasks completed on one for round <span style=\"color: #000080; font-weight: bold\">3</span><span style=\"color: #808000\">...</span>                                                                                <a href=\"file:///home/maksim/.virtualenvs/brain_tumor/lib/python3.6/site-packages/openfl/component/collaborator/collaborator.py\"><span style=\"color: #7f7f7f\">collaborator.py</span></a><span style=\"color: #7f7f7f\">:150</span>\n",
       "</pre>\n"
      ],
      "text/plain": [
       "<rich.jupyter.JupyterRenderable at 0x7fb558c97160>"
      ]
     },
     "metadata": {},
     "output_type": "display_data"
    },
    {
     "data": {
      "text/html": [
       "<pre style=\"white-space:pre;overflow-x:auto;line-height:normal;font-family:Menlo,'DejaVu Sans Mono',consolas,'Courier New',monospace\"><span style=\"color: #7fbfbf\">           </span><span style=\"color: #000080\">INFO</span>     Waiting for tasks<span style=\"color: #808000\">...</span>                                                                                                     <a href=\"file:///home/maksim/.virtualenvs/brain_tumor/lib/python3.6/site-packages/openfl/component/collaborator/collaborator.py\"><span style=\"color: #7f7f7f\">collaborator.py</span></a><span style=\"color: #7f7f7f\">:156</span>\n",
       "</pre>\n"
      ],
      "text/plain": [
       "<rich.jupyter.JupyterRenderable at 0x7fb558be4160>"
      ]
     },
     "metadata": {},
     "output_type": "display_data"
    },
    {
     "data": {
      "text/html": [
       "<pre style=\"white-space:pre;overflow-x:auto;line-height:normal;font-family:Menlo,'DejaVu Sans Mono',consolas,'Courier New',monospace\"><span style=\"color: #7fbfbf\">           </span><span style=\"color: #000080\">INFO</span>     Sending tasks to collaborator two for round <span style=\"color: #000080; font-weight: bold\">3</span>                                                                              <a href=\"file:///home/maksim/.virtualenvs/brain_tumor/lib/python3.6/site-packages/openfl/component/aggregator/aggregator.py\"><span style=\"color: #7f7f7f\">aggregator.py</span></a><span style=\"color: #7f7f7f\">:277</span>\n",
       "</pre>\n"
      ],
      "text/plain": [
       "<rich.jupyter.JupyterRenderable at 0x7fb558c97080>"
      ]
     },
     "metadata": {},
     "output_type": "display_data"
    },
    {
     "data": {
      "text/html": [
       "<pre style=\"white-space:pre;overflow-x:auto;line-height:normal;font-family:Menlo,'DejaVu Sans Mono',consolas,'Courier New',monospace\"><span style=\"color: #7fbfbf\">           </span><span style=\"color: #000080\">INFO</span>     Received the following tasks: <span style=\"font-weight: bold\">[</span><span style=\"color: #008000\">'aggregated_model_validation'</span>, <span style=\"color: #008000\">'train'</span>, <span style=\"color: #008000\">'locally_tuned_model_validation'</span><span style=\"font-weight: bold\">]</span>                 <a href=\"file:///home/maksim/.virtualenvs/brain_tumor/lib/python3.6/site-packages/openfl/component/collaborator/collaborator.py\"><span style=\"color: #7f7f7f\">collaborator.py</span></a><span style=\"color: #7f7f7f\">:145</span>\n",
       "</pre>\n"
      ],
      "text/plain": [
       "<rich.jupyter.JupyterRenderable at 0x7fb558be44a8>"
      ]
     },
     "metadata": {},
     "output_type": "display_data"
    },
    {
     "data": {
      "text/html": [
       "<pre style=\"white-space:pre;overflow-x:auto;line-height:normal;font-family:Menlo,'DejaVu Sans Mono',consolas,'Courier New',monospace\"><span style=\"color: #7fbfbf\">[16:29:30] </span><span style=\"color: #000080\">INFO</span>     Sending metric for task aggregated_model_validation, round number <span style=\"color: #000080; font-weight: bold\">3</span>: dice_coef  <span style=\"color: #000080; font-weight: bold\">0.11548704206943512</span>                      <a href=\"file:///home/maksim/.virtualenvs/brain_tumor/lib/python3.6/site-packages/openfl/component/collaborator/collaborator.py\"><span style=\"color: #7f7f7f\">collaborator.py</span></a><span style=\"color: #7f7f7f\">:366</span>\n",
       "</pre>\n"
      ],
      "text/plain": [
       "<rich.jupyter.JupyterRenderable at 0x7fb558c4d320>"
      ]
     },
     "metadata": {},
     "output_type": "display_data"
    },
    {
     "data": {
      "text/html": [
       "<pre style=\"white-space:pre;overflow-x:auto;line-height:normal;font-family:Menlo,'DejaVu Sans Mono',consolas,'Courier New',monospace\"><span style=\"color: #7fbfbf\">           </span><span style=\"color: #000080\">INFO</span>     Collaborator two is sending task results for aggregated_model_validation, round <span style=\"color: #000080; font-weight: bold\">3</span>                                          <a href=\"file:///home/maksim/.virtualenvs/brain_tumor/lib/python3.6/site-packages/openfl/component/aggregator/aggregator.py\"><span style=\"color: #7f7f7f\">aggregator.py</span></a><span style=\"color: #7f7f7f\">:430</span>\n",
       "</pre>\n"
      ],
      "text/plain": [
       "<rich.jupyter.JupyterRenderable at 0x7fb558c4d278>"
      ]
     },
     "metadata": {},
     "output_type": "display_data"
    },
    {
     "name": "stdout",
     "output_type": "stream",
     "text": [
      "torch.Size([6, 4, 128, 128, 64]) torch.Size([6, 3, 128, 128, 64])\n",
      "after loss tensor(0.9594, grad_fn=<MeanBackward0>)\n",
      "torch.Size([6, 4, 128, 128, 64]) torch.Size([6, 3, 128, 128, 64])\n",
      "after loss tensor(0.9531, grad_fn=<MeanBackward0>)\n",
      "torch.Size([6, 4, 128, 128, 64]) torch.Size([6, 3, 128, 128, 64])\n",
      "after loss tensor(0.9369, grad_fn=<MeanBackward0>)\n",
      "torch.Size([6, 4, 128, 128, 64]) torch.Size([6, 3, 128, 128, 64])\n",
      "after loss tensor(0.8785, grad_fn=<MeanBackward0>)\n",
      "torch.Size([6, 4, 128, 128, 64]) torch.Size([6, 3, 128, 128, 64])\n",
      "after loss tensor(0.9146, grad_fn=<MeanBackward0>)\n",
      "torch.Size([6, 4, 128, 128, 64]) torch.Size([6, 3, 128, 128, 64])\n",
      "after loss tensor(0.9262, grad_fn=<MeanBackward0>)\n",
      "torch.Size([6, 4, 128, 128, 64]) torch.Size([6, 3, 128, 128, 64])\n",
      "after loss tensor(0.8992, grad_fn=<MeanBackward0>)\n",
      "torch.Size([6, 4, 128, 128, 64]) torch.Size([6, 3, 128, 128, 64])\n",
      "after loss tensor(0.9166, grad_fn=<MeanBackward0>)\n",
      "torch.Size([6, 4, 128, 128, 64]) torch.Size([6, 3, 128, 128, 64])\n",
      "after loss tensor(0.9184, grad_fn=<MeanBackward0>)\n",
      "torch.Size([6, 4, 128, 128, 64]) torch.Size([6, 3, 128, 128, 64])\n",
      "after loss tensor(0.9128, grad_fn=<MeanBackward0>)\n",
      "torch.Size([6, 4, 128, 128, 64]) torch.Size([6, 3, 128, 128, 64])\n",
      "after loss tensor(0.8706, grad_fn=<MeanBackward0>)\n",
      "torch.Size([6, 4, 128, 128, 64]) torch.Size([6, 3, 128, 128, 64])\n",
      "after loss tensor(0.9038, grad_fn=<MeanBackward0>)\n",
      "torch.Size([6, 4, 128, 128, 64]) torch.Size([6, 3, 128, 128, 64])\n",
      "after loss tensor(0.9186, grad_fn=<MeanBackward0>)\n",
      "torch.Size([6, 4, 128, 128, 64]) torch.Size([6, 3, 128, 128, 64])\n",
      "after loss tensor(0.9305, grad_fn=<MeanBackward0>)\n",
      "torch.Size([6, 4, 128, 128, 64]) torch.Size([6, 3, 128, 128, 64])\n",
      "after loss tensor(0.9347, grad_fn=<MeanBackward0>)\n",
      "torch.Size([6, 4, 128, 128, 64]) torch.Size([6, 3, 128, 128, 64])\n",
      "after loss tensor(0.9360, grad_fn=<MeanBackward0>)\n",
      "torch.Size([6, 4, 128, 128, 64]) torch.Size([6, 3, 128, 128, 64])\n",
      "after loss tensor(0.9296, grad_fn=<MeanBackward0>)\n",
      "torch.Size([6, 4, 128, 128, 64]) torch.Size([6, 3, 128, 128, 64])\n",
      "after loss tensor(0.9243, grad_fn=<MeanBackward0>)\n",
      "torch.Size([6, 4, 128, 128, 64]) torch.Size([6, 3, 128, 128, 64])\n",
      "after loss tensor(0.9076, grad_fn=<MeanBackward0>)\n",
      "torch.Size([6, 4, 128, 128, 64]) torch.Size([6, 3, 128, 128, 64])\n",
      "after loss tensor(0.9335, grad_fn=<MeanBackward0>)\n",
      "torch.Size([6, 4, 128, 128, 64]) torch.Size([6, 3, 128, 128, 64])\n",
      "after loss tensor(0.8963, grad_fn=<MeanBackward0>)\n",
      "torch.Size([6, 4, 128, 128, 64]) torch.Size([6, 3, 128, 128, 64])\n",
      "after loss tensor(0.9245, grad_fn=<MeanBackward0>)\n",
      "torch.Size([6, 4, 128, 128, 64]) torch.Size([6, 3, 128, 128, 64])\n",
      "after loss tensor(0.9061, grad_fn=<MeanBackward0>)\n",
      "torch.Size([6, 4, 128, 128, 64]) torch.Size([6, 3, 128, 128, 64])\n",
      "after loss tensor(0.9320, grad_fn=<MeanBackward0>)\n",
      "torch.Size([6, 4, 128, 128, 64]) torch.Size([6, 3, 128, 128, 64])\n",
      "after loss tensor(0.9541, grad_fn=<MeanBackward0>)\n",
      "torch.Size([6, 4, 128, 128, 64]) torch.Size([6, 3, 128, 128, 64])\n",
      "after loss tensor(0.9199, grad_fn=<MeanBackward0>)\n",
      "torch.Size([6, 4, 128, 128, 64]) torch.Size([6, 3, 128, 128, 64])\n",
      "after loss tensor(0.9057, grad_fn=<MeanBackward0>)\n",
      "torch.Size([6, 4, 128, 128, 64]) torch.Size([6, 3, 128, 128, 64])\n",
      "after loss tensor(0.9237, grad_fn=<MeanBackward0>)\n",
      "torch.Size([6, 4, 128, 128, 64]) torch.Size([6, 3, 128, 128, 64])\n",
      "after loss tensor(0.9075, grad_fn=<MeanBackward0>)\n",
      "torch.Size([6, 4, 128, 128, 64]) torch.Size([6, 3, 128, 128, 64])\n",
      "after loss tensor(0.9177, grad_fn=<MeanBackward0>)\n",
      "torch.Size([6, 4, 128, 128, 64]) torch.Size([6, 3, 128, 128, 64])\n",
      "after loss tensor(0.9194, grad_fn=<MeanBackward0>)\n",
      "torch.Size([6, 4, 128, 128, 64]) torch.Size([6, 3, 128, 128, 64])\n",
      "after loss tensor(0.9087, grad_fn=<MeanBackward0>)\n",
      "torch.Size([6, 4, 128, 128, 64]) torch.Size([6, 3, 128, 128, 64])\n",
      "after loss tensor(0.9442, grad_fn=<MeanBackward0>)\n",
      "torch.Size([6, 4, 128, 128, 64]) torch.Size([6, 3, 128, 128, 64])\n",
      "after loss tensor(0.9246, grad_fn=<MeanBackward0>)\n",
      "torch.Size([6, 4, 128, 128, 64]) torch.Size([6, 3, 128, 128, 64])\n",
      "after loss tensor(0.9169, grad_fn=<MeanBackward0>)\n",
      "torch.Size([2, 4, 128, 128, 64]) torch.Size([2, 3, 128, 128, 64])\n",
      "after loss tensor(0.9437, grad_fn=<MeanBackward0>)\n"
     ]
    },
    {
     "data": {
      "text/html": [
       "<pre style=\"white-space:pre;overflow-x:auto;line-height:normal;font-family:Menlo,'DejaVu Sans Mono',consolas,'Courier New',monospace\"><span style=\"color: #7fbfbf\">[16:34:08] </span><span style=\"color: #000080\">INFO</span>     Sending metric for task train, round number <span style=\"color: #000080; font-weight: bold\">3</span>: DiceLoss <span style=\"color: #000080; font-weight: bold\">0.9208199977874756</span>                                               <a href=\"file:///home/maksim/.virtualenvs/brain_tumor/lib/python3.6/site-packages/openfl/component/collaborator/collaborator.py\"><span style=\"color: #7f7f7f\">collaborator.py</span></a><span style=\"color: #7f7f7f\">:366</span>\n",
       "</pre>\n"
      ],
      "text/plain": [
       "<rich.jupyter.JupyterRenderable at 0x7fb558c4de48>"
      ]
     },
     "metadata": {},
     "output_type": "display_data"
    },
    {
     "data": {
      "text/html": [
       "<pre style=\"white-space:pre;overflow-x:auto;line-height:normal;font-family:Menlo,'DejaVu Sans Mono',consolas,'Courier New',monospace\"><span style=\"color: #7fbfbf\">           </span><span style=\"color: #000080\">INFO</span>     Collaborator two is sending task results for train, round <span style=\"color: #000080; font-weight: bold\">3</span>                                                                <a href=\"file:///home/maksim/.virtualenvs/brain_tumor/lib/python3.6/site-packages/openfl/component/aggregator/aggregator.py\"><span style=\"color: #7f7f7f\">aggregator.py</span></a><span style=\"color: #7f7f7f\">:430</span>\n",
       "</pre>\n"
      ],
      "text/plain": [
       "<rich.jupyter.JupyterRenderable at 0x7fb558c4def0>"
      ]
     },
     "metadata": {},
     "output_type": "display_data"
    },
    {
     "data": {
      "text/html": [
       "<pre style=\"white-space:pre;overflow-x:auto;line-height:normal;font-family:Menlo,'DejaVu Sans Mono',consolas,'Courier New',monospace\"><span style=\"color: #7fbfbf\">[16:34:43] </span><span style=\"color: #000080\">INFO</span>     Sending metric for task locally_tuned_model_validation, round number <span style=\"color: #000080; font-weight: bold\">3</span>: dice_coef       <span style=\"color: #000080; font-weight: bold\">0.1346936419606209</span>               <a href=\"file:///home/maksim/.virtualenvs/brain_tumor/lib/python3.6/site-packages/openfl/component/collaborator/collaborator.py\"><span style=\"color: #7f7f7f\">collaborator.py</span></a><span style=\"color: #7f7f7f\">:366</span>\n",
       "</pre>\n"
      ],
      "text/plain": [
       "<rich.jupyter.JupyterRenderable at 0x7fb5589cda58>"
      ]
     },
     "metadata": {},
     "output_type": "display_data"
    },
    {
     "data": {
      "text/html": [
       "<pre style=\"white-space:pre;overflow-x:auto;line-height:normal;font-family:Menlo,'DejaVu Sans Mono',consolas,'Courier New',monospace\"><span style=\"color: #7fbfbf\">           </span><span style=\"color: #000080\">INFO</span>     Collaborator two is sending task results for locally_tuned_model_validation, round <span style=\"color: #000080; font-weight: bold\">3</span>                                       <a href=\"file:///home/maksim/.virtualenvs/brain_tumor/lib/python3.6/site-packages/openfl/component/aggregator/aggregator.py\"><span style=\"color: #7f7f7f\">aggregator.py</span></a><span style=\"color: #7f7f7f\">:430</span>\n",
       "</pre>\n"
      ],
      "text/plain": [
       "<rich.jupyter.JupyterRenderable at 0x7fb5589cd9e8>"
      ]
     },
     "metadata": {},
     "output_type": "display_data"
    },
    {
     "data": {
      "text/html": [
       "<pre style=\"white-space:pre;overflow-x:auto;line-height:normal;font-family:Menlo,'DejaVu Sans Mono',consolas,'Courier New',monospace\"><span style=\"color: #7fbfbf\">           </span><span style=\"color: #000080\">INFO</span>     train task metrics<span style=\"color: #808000\">...</span>                                                                                                      <a href=\"file:///home/maksim/.virtualenvs/brain_tumor/lib/python3.6/site-packages/openfl/component/aggregator/aggregator.py\"><span style=\"color: #7f7f7f\">aggregator.py</span></a><span style=\"color: #7f7f7f\">:694</span>\n",
       "</pre>\n"
      ],
      "text/plain": [
       "<rich.jupyter.JupyterRenderable at 0x7fb5589cd160>"
      ]
     },
     "metadata": {},
     "output_type": "display_data"
    },
    {
     "data": {
      "text/html": [
       "<pre style=\"white-space:pre;overflow-x:auto;line-height:normal;font-family:Menlo,'DejaVu Sans Mono',consolas,'Courier New',monospace\"><span style=\"color: #7fbfbf\">           </span><span style=\"color: #000080\">INFO</span>     DiceLoss:       <span style=\"color: #000080; font-weight: bold\">0.9212</span>                                                                                                     <a href=\"file:///home/maksim/.virtualenvs/brain_tumor/lib/python3.6/site-packages/openfl/component/aggregator/aggregator.py\"><span style=\"color: #7f7f7f\">aggregator.py</span></a><span style=\"color: #7f7f7f\">:742</span>\n",
       "</pre>\n"
      ],
      "text/plain": [
       "<rich.jupyter.JupyterRenderable at 0x7fb5589cdd68>"
      ]
     },
     "metadata": {},
     "output_type": "display_data"
    },
    {
     "data": {
      "text/html": [
       "<pre style=\"white-space:pre;overflow-x:auto;line-height:normal;font-family:Menlo,'DejaVu Sans Mono',consolas,'Courier New',monospace\"><span style=\"color: #7fbfbf\">[16:34:50] </span><span style=\"color: #000080\">INFO</span>     locally_tuned_model_validation task metrics<span style=\"color: #808000\">...</span>                                                                             <a href=\"file:///home/maksim/.virtualenvs/brain_tumor/lib/python3.6/site-packages/openfl/component/aggregator/aggregator.py\"><span style=\"color: #7f7f7f\">aggregator.py</span></a><span style=\"color: #7f7f7f\">:694</span>\n",
       "</pre>\n"
      ],
      "text/plain": [
       "<rich.jupyter.JupyterRenderable at 0x7fb558bee6d8>"
      ]
     },
     "metadata": {},
     "output_type": "display_data"
    },
    {
     "data": {
      "text/html": [
       "<pre style=\"white-space:pre;overflow-x:auto;line-height:normal;font-family:Menlo,'DejaVu Sans Mono',consolas,'Courier New',monospace\"><span style=\"color: #7fbfbf\">           </span><span style=\"color: #000080\">INFO</span>     dice_coef:      <span style=\"color: #000080; font-weight: bold\">0.1359</span>                                                                                                     <a href=\"file:///home/maksim/.virtualenvs/brain_tumor/lib/python3.6/site-packages/openfl/component/aggregator/aggregator.py\"><span style=\"color: #7f7f7f\">aggregator.py</span></a><span style=\"color: #7f7f7f\">:742</span>\n",
       "</pre>\n"
      ],
      "text/plain": [
       "<rich.jupyter.JupyterRenderable at 0x7fb558abb278>"
      ]
     },
     "metadata": {},
     "output_type": "display_data"
    },
    {
     "data": {
      "text/html": [
       "<pre style=\"white-space:pre;overflow-x:auto;line-height:normal;font-family:Menlo,'DejaVu Sans Mono',consolas,'Courier New',monospace\"><span style=\"color: #7fbfbf\">           </span><span style=\"color: #000080\">INFO</span>     aggregated_model_validation task metrics<span style=\"color: #808000\">...</span>                                                                                <a href=\"file:///home/maksim/.virtualenvs/brain_tumor/lib/python3.6/site-packages/openfl/component/aggregator/aggregator.py\"><span style=\"color: #7f7f7f\">aggregator.py</span></a><span style=\"color: #7f7f7f\">:694</span>\n",
       "</pre>\n"
      ],
      "text/plain": [
       "<rich.jupyter.JupyterRenderable at 0x7fb5589cd9e8>"
      ]
     },
     "metadata": {},
     "output_type": "display_data"
    },
    {
     "data": {
      "text/html": [
       "<pre style=\"white-space:pre;overflow-x:auto;line-height:normal;font-family:Menlo,'DejaVu Sans Mono',consolas,'Courier New',monospace\"><span style=\"color: #7fbfbf\">           </span><span style=\"color: #000080\">INFO</span>     dice_coef:      <span style=\"color: #000080; font-weight: bold\">0.1155</span>                                                                                                     <a href=\"file:///home/maksim/.virtualenvs/brain_tumor/lib/python3.6/site-packages/openfl/component/aggregator/aggregator.py\"><span style=\"color: #7f7f7f\">aggregator.py</span></a><span style=\"color: #7f7f7f\">:742</span>\n",
       "</pre>\n"
      ],
      "text/plain": [
       "<rich.jupyter.JupyterRenderable at 0x7fb558abb390>"
      ]
     },
     "metadata": {},
     "output_type": "display_data"
    },
    {
     "data": {
      "text/html": [
       "<pre style=\"white-space:pre;overflow-x:auto;line-height:normal;font-family:Menlo,'DejaVu Sans Mono',consolas,'Courier New',monospace\"><span style=\"color: #7fbfbf\">           </span><span style=\"color: #000080\">INFO</span>     Saved the best model with score <span style=\"color: #000080; font-weight: bold\">0.115487</span>                                                                                   <a href=\"file:///home/maksim/.virtualenvs/brain_tumor/lib/python3.6/site-packages/openfl/component/aggregator/aggregator.py\"><span style=\"color: #7f7f7f\">aggregator.py</span></a><span style=\"color: #7f7f7f\">:754</span>\n",
       "</pre>\n"
      ],
      "text/plain": [
       "<rich.jupyter.JupyterRenderable at 0x7fb558be06a0>"
      ]
     },
     "metadata": {},
     "output_type": "display_data"
    },
    {
     "data": {
      "text/html": [
       "<pre style=\"white-space:pre;overflow-x:auto;line-height:normal;font-family:Menlo,'DejaVu Sans Mono',consolas,'Courier New',monospace\"><span style=\"color: #7fbfbf\">           </span><span style=\"color: #000080\">INFO</span>     Saving round <span style=\"color: #000080; font-weight: bold\">4</span> model<span style=\"color: #808000\">...</span>                                                                                                    <a href=\"file:///home/maksim/.virtualenvs/brain_tumor/lib/python3.6/site-packages/openfl/component/aggregator/aggregator.py\"><span style=\"color: #7f7f7f\">aggregator.py</span></a><span style=\"color: #7f7f7f\">:788</span>\n",
       "</pre>\n"
      ],
      "text/plain": [
       "<rich.jupyter.JupyterRenderable at 0x7fb558be40f0>"
      ]
     },
     "metadata": {},
     "output_type": "display_data"
    },
    {
     "data": {
      "text/html": [
       "<pre style=\"white-space:pre;overflow-x:auto;line-height:normal;font-family:Menlo,'DejaVu Sans Mono',consolas,'Courier New',monospace\"><span style=\"color: #7fbfbf\">[16:34:51] </span><span style=\"color: #000080\">INFO</span>     Starting round <span style=\"color: #000080; font-weight: bold\">4</span><span style=\"color: #808000\">...</span>                                                                                                        <a href=\"file:///home/maksim/.virtualenvs/brain_tumor/lib/python3.6/site-packages/openfl/component/aggregator/aggregator.py\"><span style=\"color: #7f7f7f\">aggregator.py</span></a><span style=\"color: #7f7f7f\">:796</span>\n",
       "</pre>\n"
      ],
      "text/plain": [
       "<rich.jupyter.JupyterRenderable at 0x7fb558abb390>"
      ]
     },
     "metadata": {},
     "output_type": "display_data"
    },
    {
     "data": {
      "text/html": [
       "<pre style=\"white-space:pre;overflow-x:auto;line-height:normal;font-family:Menlo,'DejaVu Sans Mono',consolas,'Courier New',monospace\"><span style=\"color: #7fbfbf\">           </span><span style=\"color: #000080\">INFO</span>     All tasks completed on two for round <span style=\"color: #000080; font-weight: bold\">3</span><span style=\"color: #808000\">...</span>                                                                                <a href=\"file:///home/maksim/.virtualenvs/brain_tumor/lib/python3.6/site-packages/openfl/component/collaborator/collaborator.py\"><span style=\"color: #7f7f7f\">collaborator.py</span></a><span style=\"color: #7f7f7f\">:150</span>\n",
       "</pre>\n"
      ],
      "text/plain": [
       "<rich.jupyter.JupyterRenderable at 0x7fb558bee6d8>"
      ]
     },
     "metadata": {},
     "output_type": "display_data"
    },
    {
     "data": {
      "text/html": [
       "<pre style=\"white-space:pre;overflow-x:auto;line-height:normal;font-family:Menlo,'DejaVu Sans Mono',consolas,'Courier New',monospace\"><span style=\"color: #7fbfbf\">           </span><span style=\"color: #000080\">INFO</span>     Waiting for tasks<span style=\"color: #808000\">...</span>                                                                                                     <a href=\"file:///home/maksim/.virtualenvs/brain_tumor/lib/python3.6/site-packages/openfl/component/collaborator/collaborator.py\"><span style=\"color: #7f7f7f\">collaborator.py</span></a><span style=\"color: #7f7f7f\">:156</span>\n",
       "</pre>\n"
      ],
      "text/plain": [
       "<rich.jupyter.JupyterRenderable at 0x7fb558abb278>"
      ]
     },
     "metadata": {},
     "output_type": "display_data"
    },
    {
     "data": {
      "text/html": [
       "<pre style=\"white-space:pre;overflow-x:auto;line-height:normal;font-family:Menlo,'DejaVu Sans Mono',consolas,'Courier New',monospace\"><span style=\"color: #7fbfbf\">           </span><span style=\"color: #000080\">INFO</span>     Sending tasks to collaborator one for round <span style=\"color: #000080; font-weight: bold\">4</span>                                                                              <a href=\"file:///home/maksim/.virtualenvs/brain_tumor/lib/python3.6/site-packages/openfl/component/aggregator/aggregator.py\"><span style=\"color: #7f7f7f\">aggregator.py</span></a><span style=\"color: #7f7f7f\">:277</span>\n",
       "</pre>\n"
      ],
      "text/plain": [
       "<rich.jupyter.JupyterRenderable at 0x7fb558bee128>"
      ]
     },
     "metadata": {},
     "output_type": "display_data"
    },
    {
     "data": {
      "text/html": [
       "<pre style=\"white-space:pre;overflow-x:auto;line-height:normal;font-family:Menlo,'DejaVu Sans Mono',consolas,'Courier New',monospace\"><span style=\"color: #7fbfbf\">           </span><span style=\"color: #000080\">INFO</span>     Received the following tasks: <span style=\"font-weight: bold\">[</span><span style=\"color: #008000\">'aggregated_model_validation'</span>, <span style=\"color: #008000\">'train'</span>, <span style=\"color: #008000\">'locally_tuned_model_validation'</span><span style=\"font-weight: bold\">]</span>                 <a href=\"file:///home/maksim/.virtualenvs/brain_tumor/lib/python3.6/site-packages/openfl/component/collaborator/collaborator.py\"><span style=\"color: #7f7f7f\">collaborator.py</span></a><span style=\"color: #7f7f7f\">:145</span>\n",
       "</pre>\n"
      ],
      "text/plain": [
       "<rich.jupyter.JupyterRenderable at 0x7fb558be06a0>"
      ]
     },
     "metadata": {},
     "output_type": "display_data"
    },
    {
     "data": {
      "text/html": [
       "<pre style=\"white-space:pre;overflow-x:auto;line-height:normal;font-family:Menlo,'DejaVu Sans Mono',consolas,'Courier New',monospace\"><span style=\"color: #7fbfbf\">[16:35:26] </span><span style=\"color: #000080\">INFO</span>     Sending metric for task aggregated_model_validation, round number <span style=\"color: #000080; font-weight: bold\">4</span>: dice_coef  <span style=\"color: #000080; font-weight: bold\">0.13655940145254136</span>                      <a href=\"file:///home/maksim/.virtualenvs/brain_tumor/lib/python3.6/site-packages/openfl/component/collaborator/collaborator.py\"><span style=\"color: #7f7f7f\">collaborator.py</span></a><span style=\"color: #7f7f7f\">:366</span>\n",
       "</pre>\n"
      ],
      "text/plain": [
       "<rich.jupyter.JupyterRenderable at 0x7fb558c030b8>"
      ]
     },
     "metadata": {},
     "output_type": "display_data"
    },
    {
     "data": {
      "text/html": [
       "<pre style=\"white-space:pre;overflow-x:auto;line-height:normal;font-family:Menlo,'DejaVu Sans Mono',consolas,'Courier New',monospace\"><span style=\"color: #7fbfbf\">           </span><span style=\"color: #000080\">INFO</span>     Collaborator one is sending task results for aggregated_model_validation, round <span style=\"color: #000080; font-weight: bold\">4</span>                                          <a href=\"file:///home/maksim/.virtualenvs/brain_tumor/lib/python3.6/site-packages/openfl/component/aggregator/aggregator.py\"><span style=\"color: #7f7f7f\">aggregator.py</span></a><span style=\"color: #7f7f7f\">:430</span>\n",
       "</pre>\n"
      ],
      "text/plain": [
       "<rich.jupyter.JupyterRenderable at 0x7fb558c032b0>"
      ]
     },
     "metadata": {},
     "output_type": "display_data"
    },
    {
     "name": "stdout",
     "output_type": "stream",
     "text": [
      "torch.Size([6, 4, 128, 128, 64]) torch.Size([6, 3, 128, 128, 64])\n",
      "after loss tensor(0.9305, grad_fn=<MeanBackward0>)\n",
      "torch.Size([6, 4, 128, 128, 64]) torch.Size([6, 3, 128, 128, 64])\n",
      "after loss tensor(0.9311, grad_fn=<MeanBackward0>)\n",
      "torch.Size([6, 4, 128, 128, 64]) torch.Size([6, 3, 128, 128, 64])\n",
      "after loss tensor(0.9217, grad_fn=<MeanBackward0>)\n",
      "torch.Size([6, 4, 128, 128, 64]) torch.Size([6, 3, 128, 128, 64])\n",
      "after loss tensor(0.9428, grad_fn=<MeanBackward0>)\n",
      "torch.Size([6, 4, 128, 128, 64]) torch.Size([6, 3, 128, 128, 64])\n",
      "after loss tensor(0.8814, grad_fn=<MeanBackward0>)\n",
      "torch.Size([6, 4, 128, 128, 64]) torch.Size([6, 3, 128, 128, 64])\n",
      "after loss tensor(0.9417, grad_fn=<MeanBackward0>)\n",
      "torch.Size([6, 4, 128, 128, 64]) torch.Size([6, 3, 128, 128, 64])\n",
      "after loss tensor(0.9045, grad_fn=<MeanBackward0>)\n",
      "torch.Size([6, 4, 128, 128, 64]) torch.Size([6, 3, 128, 128, 64])\n",
      "after loss tensor(0.9260, grad_fn=<MeanBackward0>)\n",
      "torch.Size([6, 4, 128, 128, 64]) torch.Size([6, 3, 128, 128, 64])\n",
      "after loss tensor(0.9234, grad_fn=<MeanBackward0>)\n",
      "torch.Size([6, 4, 128, 128, 64]) torch.Size([6, 3, 128, 128, 64])\n",
      "after loss tensor(0.9399, grad_fn=<MeanBackward0>)\n",
      "torch.Size([6, 4, 128, 128, 64]) torch.Size([6, 3, 128, 128, 64])\n",
      "after loss tensor(0.9225, grad_fn=<MeanBackward0>)\n",
      "torch.Size([6, 4, 128, 128, 64]) torch.Size([6, 3, 128, 128, 64])\n",
      "after loss tensor(0.9107, grad_fn=<MeanBackward0>)\n",
      "torch.Size([6, 4, 128, 128, 64]) torch.Size([6, 3, 128, 128, 64])\n",
      "after loss tensor(0.8933, grad_fn=<MeanBackward0>)\n",
      "torch.Size([6, 4, 128, 128, 64]) torch.Size([6, 3, 128, 128, 64])\n",
      "after loss tensor(0.9071, grad_fn=<MeanBackward0>)\n",
      "torch.Size([6, 4, 128, 128, 64]) torch.Size([6, 3, 128, 128, 64])\n",
      "after loss tensor(0.8935, grad_fn=<MeanBackward0>)\n",
      "torch.Size([6, 4, 128, 128, 64]) torch.Size([6, 3, 128, 128, 64])\n",
      "after loss tensor(0.9151, grad_fn=<MeanBackward0>)\n",
      "torch.Size([6, 4, 128, 128, 64]) torch.Size([6, 3, 128, 128, 64])\n",
      "after loss tensor(0.9345, grad_fn=<MeanBackward0>)\n",
      "torch.Size([6, 4, 128, 128, 64]) torch.Size([6, 3, 128, 128, 64])\n",
      "after loss tensor(0.9195, grad_fn=<MeanBackward0>)\n",
      "torch.Size([6, 4, 128, 128, 64]) torch.Size([6, 3, 128, 128, 64])\n",
      "after loss tensor(0.9108, grad_fn=<MeanBackward0>)\n",
      "torch.Size([6, 4, 128, 128, 64]) torch.Size([6, 3, 128, 128, 64])\n",
      "after loss tensor(0.9129, grad_fn=<MeanBackward0>)\n",
      "torch.Size([6, 4, 128, 128, 64]) torch.Size([6, 3, 128, 128, 64])\n",
      "after loss tensor(0.8851, grad_fn=<MeanBackward0>)\n",
      "torch.Size([6, 4, 128, 128, 64]) torch.Size([6, 3, 128, 128, 64])\n",
      "after loss tensor(0.9312, grad_fn=<MeanBackward0>)\n",
      "torch.Size([6, 4, 128, 128, 64]) torch.Size([6, 3, 128, 128, 64])\n",
      "after loss tensor(0.9217, grad_fn=<MeanBackward0>)\n",
      "torch.Size([6, 4, 128, 128, 64]) torch.Size([6, 3, 128, 128, 64])\n",
      "after loss tensor(0.9175, grad_fn=<MeanBackward0>)\n",
      "torch.Size([6, 4, 128, 128, 64]) torch.Size([6, 3, 128, 128, 64])\n",
      "after loss tensor(0.9037, grad_fn=<MeanBackward0>)\n",
      "torch.Size([6, 4, 128, 128, 64]) torch.Size([6, 3, 128, 128, 64])\n",
      "after loss tensor(0.9008, grad_fn=<MeanBackward0>)\n",
      "torch.Size([6, 4, 128, 128, 64]) torch.Size([6, 3, 128, 128, 64])\n",
      "after loss tensor(0.9393, grad_fn=<MeanBackward0>)\n",
      "torch.Size([6, 4, 128, 128, 64]) torch.Size([6, 3, 128, 128, 64])\n",
      "after loss tensor(0.8979, grad_fn=<MeanBackward0>)\n",
      "torch.Size([6, 4, 128, 128, 64]) torch.Size([6, 3, 128, 128, 64])\n",
      "after loss tensor(0.9099, grad_fn=<MeanBackward0>)\n",
      "torch.Size([6, 4, 128, 128, 64]) torch.Size([6, 3, 128, 128, 64])\n",
      "after loss tensor(0.8753, grad_fn=<MeanBackward0>)\n",
      "torch.Size([6, 4, 128, 128, 64]) torch.Size([6, 3, 128, 128, 64])\n",
      "after loss tensor(0.9244, grad_fn=<MeanBackward0>)\n",
      "torch.Size([6, 4, 128, 128, 64]) torch.Size([6, 3, 128, 128, 64])\n",
      "after loss tensor(0.9090, grad_fn=<MeanBackward0>)\n",
      "torch.Size([6, 4, 128, 128, 64]) torch.Size([6, 3, 128, 128, 64])\n",
      "after loss tensor(0.8947, grad_fn=<MeanBackward0>)\n",
      "torch.Size([6, 4, 128, 128, 64]) torch.Size([6, 3, 128, 128, 64])\n",
      "after loss tensor(0.8669, grad_fn=<MeanBackward0>)\n",
      "torch.Size([6, 4, 128, 128, 64]) torch.Size([6, 3, 128, 128, 64])\n",
      "after loss tensor(0.9559, grad_fn=<MeanBackward0>)\n",
      "torch.Size([2, 4, 128, 128, 64]) torch.Size([2, 3, 128, 128, 64])\n",
      "after loss tensor(0.9012, grad_fn=<MeanBackward0>)\n"
     ]
    },
    {
     "data": {
      "text/html": [
       "<pre style=\"white-space:pre;overflow-x:auto;line-height:normal;font-family:Menlo,'DejaVu Sans Mono',consolas,'Courier New',monospace\"><span style=\"color: #7fbfbf\">[16:40:20] </span><span style=\"color: #000080\">INFO</span>     Sending metric for task train, round number <span style=\"color: #000080; font-weight: bold\">4</span>: DiceLoss <span style=\"color: #000080; font-weight: bold\">0.9138123393058777</span>                                               <a href=\"file:///home/maksim/.virtualenvs/brain_tumor/lib/python3.6/site-packages/openfl/component/collaborator/collaborator.py\"><span style=\"color: #7f7f7f\">collaborator.py</span></a><span style=\"color: #7f7f7f\">:366</span>\n",
       "</pre>\n"
      ],
      "text/plain": [
       "<rich.jupyter.JupyterRenderable at 0x7fb525bb2da0>"
      ]
     },
     "metadata": {},
     "output_type": "display_data"
    },
    {
     "data": {
      "text/html": [
       "<pre style=\"white-space:pre;overflow-x:auto;line-height:normal;font-family:Menlo,'DejaVu Sans Mono',consolas,'Courier New',monospace\"><span style=\"color: #7fbfbf\">           </span><span style=\"color: #000080\">INFO</span>     Collaborator one is sending task results for train, round <span style=\"color: #000080; font-weight: bold\">4</span>                                                                <a href=\"file:///home/maksim/.virtualenvs/brain_tumor/lib/python3.6/site-packages/openfl/component/aggregator/aggregator.py\"><span style=\"color: #7f7f7f\">aggregator.py</span></a><span style=\"color: #7f7f7f\">:430</span>\n",
       "</pre>\n"
      ],
      "text/plain": [
       "<rich.jupyter.JupyterRenderable at 0x7fb558be40f0>"
      ]
     },
     "metadata": {},
     "output_type": "display_data"
    },
    {
     "data": {
      "text/html": [
       "<pre style=\"white-space:pre;overflow-x:auto;line-height:normal;font-family:Menlo,'DejaVu Sans Mono',consolas,'Courier New',monospace\"><span style=\"color: #7fbfbf\">[16:40:50] </span><span style=\"color: #000080\">INFO</span>     Sending metric for task locally_tuned_model_validation, round number <span style=\"color: #000080; font-weight: bold\">4</span>: dice_coef       <span style=\"color: #000080; font-weight: bold\">0.15802554339170455</span>              <a href=\"file:///home/maksim/.virtualenvs/brain_tumor/lib/python3.6/site-packages/openfl/component/collaborator/collaborator.py\"><span style=\"color: #7f7f7f\">collaborator.py</span></a><span style=\"color: #7f7f7f\">:366</span>\n",
       "</pre>\n"
      ],
      "text/plain": [
       "<rich.jupyter.JupyterRenderable at 0x7fb558c7e828>"
      ]
     },
     "metadata": {},
     "output_type": "display_data"
    },
    {
     "data": {
      "text/html": [
       "<pre style=\"white-space:pre;overflow-x:auto;line-height:normal;font-family:Menlo,'DejaVu Sans Mono',consolas,'Courier New',monospace\"><span style=\"color: #7fbfbf\">           </span><span style=\"color: #000080\">INFO</span>     Collaborator one is sending task results for locally_tuned_model_validation, round <span style=\"color: #000080; font-weight: bold\">4</span>                                       <a href=\"file:///home/maksim/.virtualenvs/brain_tumor/lib/python3.6/site-packages/openfl/component/aggregator/aggregator.py\"><span style=\"color: #7f7f7f\">aggregator.py</span></a><span style=\"color: #7f7f7f\">:430</span>\n",
       "</pre>\n"
      ],
      "text/plain": [
       "<rich.jupyter.JupyterRenderable at 0x7fb5589cf358>"
      ]
     },
     "metadata": {},
     "output_type": "display_data"
    },
    {
     "data": {
      "text/html": [
       "<pre style=\"white-space:pre;overflow-x:auto;line-height:normal;font-family:Menlo,'DejaVu Sans Mono',consolas,'Courier New',monospace\"><span style=\"color: #7fbfbf\">           </span><span style=\"color: #000080\">INFO</span>     All tasks completed on one for round <span style=\"color: #000080; font-weight: bold\">4</span><span style=\"color: #808000\">...</span>                                                                                <a href=\"file:///home/maksim/.virtualenvs/brain_tumor/lib/python3.6/site-packages/openfl/component/collaborator/collaborator.py\"><span style=\"color: #7f7f7f\">collaborator.py</span></a><span style=\"color: #7f7f7f\">:150</span>\n",
       "</pre>\n"
      ],
      "text/plain": [
       "<rich.jupyter.JupyterRenderable at 0x7fb558abb390>"
      ]
     },
     "metadata": {},
     "output_type": "display_data"
    },
    {
     "data": {
      "text/html": [
       "<pre style=\"white-space:pre;overflow-x:auto;line-height:normal;font-family:Menlo,'DejaVu Sans Mono',consolas,'Courier New',monospace\"><span style=\"color: #7fbfbf\">           </span><span style=\"color: #000080\">INFO</span>     Waiting for tasks<span style=\"color: #808000\">...</span>                                                                                                     <a href=\"file:///home/maksim/.virtualenvs/brain_tumor/lib/python3.6/site-packages/openfl/component/collaborator/collaborator.py\"><span style=\"color: #7f7f7f\">collaborator.py</span></a><span style=\"color: #7f7f7f\">:156</span>\n",
       "</pre>\n"
      ],
      "text/plain": [
       "<rich.jupyter.JupyterRenderable at 0x7fb525bb8390>"
      ]
     },
     "metadata": {},
     "output_type": "display_data"
    },
    {
     "data": {
      "text/html": [
       "<pre style=\"white-space:pre;overflow-x:auto;line-height:normal;font-family:Menlo,'DejaVu Sans Mono',consolas,'Courier New',monospace\"><span style=\"color: #7fbfbf\">           </span><span style=\"color: #000080\">INFO</span>     Sending tasks to collaborator two for round <span style=\"color: #000080; font-weight: bold\">4</span>                                                                              <a href=\"file:///home/maksim/.virtualenvs/brain_tumor/lib/python3.6/site-packages/openfl/component/aggregator/aggregator.py\"><span style=\"color: #7f7f7f\">aggregator.py</span></a><span style=\"color: #7f7f7f\">:277</span>\n",
       "</pre>\n"
      ],
      "text/plain": [
       "<rich.jupyter.JupyterRenderable at 0x7fb558ba1b00>"
      ]
     },
     "metadata": {},
     "output_type": "display_data"
    },
    {
     "data": {
      "text/html": [
       "<pre style=\"white-space:pre;overflow-x:auto;line-height:normal;font-family:Menlo,'DejaVu Sans Mono',consolas,'Courier New',monospace\"><span style=\"color: #7fbfbf\">           </span><span style=\"color: #000080\">INFO</span>     Received the following tasks: <span style=\"font-weight: bold\">[</span><span style=\"color: #008000\">'aggregated_model_validation'</span>, <span style=\"color: #008000\">'train'</span>, <span style=\"color: #008000\">'locally_tuned_model_validation'</span><span style=\"font-weight: bold\">]</span>                 <a href=\"file:///home/maksim/.virtualenvs/brain_tumor/lib/python3.6/site-packages/openfl/component/collaborator/collaborator.py\"><span style=\"color: #7f7f7f\">collaborator.py</span></a><span style=\"color: #7f7f7f\">:145</span>\n",
       "</pre>\n"
      ],
      "text/plain": [
       "<rich.jupyter.JupyterRenderable at 0x7fb525bb8390>"
      ]
     },
     "metadata": {},
     "output_type": "display_data"
    },
    {
     "ename": "KeyboardInterrupt",
     "evalue": "",
     "output_type": "error",
     "traceback": [
      "\u001b[0;31m---------------------------------------------------------------------------\u001b[0m",
      "\u001b[0;31mKeyboardInterrupt\u001b[0m                         Traceback (most recent call last)",
      "\u001b[0;32m<ipython-input-14-92562d71b5a6>\u001b[0m in \u001b[0;36m<module>\u001b[0;34m\u001b[0m\n\u001b[1;32m      1\u001b[0m \u001b[0;31m# Run experiment, return trained FederatedModel\u001b[0m\u001b[0;34m\u001b[0m\u001b[0;34m\u001b[0m\u001b[0;34m\u001b[0m\u001b[0m\n\u001b[1;32m      2\u001b[0m final_fl_model = fx.run_experiment(\n\u001b[0;32m----> 3\u001b[0;31m     collaborators, override_config={'aggregator.settings.rounds_to_train': 30})\n\u001b[0m",
      "\u001b[0;32m~/.virtualenvs/brain_tumor/lib/python3.6/site-packages/openfl/native/native.py\u001b[0m in \u001b[0;36mrun_experiment\u001b[0;34m(collaborator_dict, override_config)\u001b[0m\n\u001b[1;32m    299\u001b[0m                 \u001b[0mmodel\u001b[0m\u001b[0;34m.\u001b[0m\u001b[0mrebuild_model\u001b[0m\u001b[0;34m(\u001b[0m\u001b[0mround_num\u001b[0m\u001b[0;34m,\u001b[0m \u001b[0mmodel_states\u001b[0m\u001b[0;34m[\u001b[0m\u001b[0mcol\u001b[0m\u001b[0;34m]\u001b[0m\u001b[0;34m)\u001b[0m\u001b[0;34m\u001b[0m\u001b[0;34m\u001b[0m\u001b[0m\n\u001b[1;32m    300\u001b[0m \u001b[0;34m\u001b[0m\u001b[0m\n\u001b[0;32m--> 301\u001b[0;31m             \u001b[0mcollaborator\u001b[0m\u001b[0;34m.\u001b[0m\u001b[0mrun_simulation\u001b[0m\u001b[0;34m(\u001b[0m\u001b[0;34m)\u001b[0m\u001b[0;34m\u001b[0m\u001b[0;34m\u001b[0m\u001b[0m\n\u001b[0m\u001b[1;32m    302\u001b[0m \u001b[0;34m\u001b[0m\u001b[0m\n\u001b[1;32m    303\u001b[0m             \u001b[0mmodel_states\u001b[0m\u001b[0;34m[\u001b[0m\u001b[0mcol\u001b[0m\u001b[0;34m]\u001b[0m \u001b[0;34m=\u001b[0m \u001b[0mmodel\u001b[0m\u001b[0;34m.\u001b[0m\u001b[0mget_tensor_dict\u001b[0m\u001b[0;34m(\u001b[0m\u001b[0mwith_opt_vars\u001b[0m\u001b[0;34m=\u001b[0m\u001b[0;32mTrue\u001b[0m\u001b[0;34m)\u001b[0m\u001b[0;34m\u001b[0m\u001b[0;34m\u001b[0m\u001b[0m\n",
      "\u001b[0;32m~/.virtualenvs/brain_tumor/lib/python3.6/site-packages/openfl/component/collaborator/collaborator.py\u001b[0m in \u001b[0;36mrun_simulation\u001b[0;34m(self)\u001b[0m\n\u001b[1;32m    145\u001b[0m                     'Received the following tasks: {}'.format(tasks))\n\u001b[1;32m    146\u001b[0m                 \u001b[0;32mfor\u001b[0m \u001b[0mtask\u001b[0m \u001b[0;32min\u001b[0m \u001b[0mtasks\u001b[0m\u001b[0;34m:\u001b[0m\u001b[0;34m\u001b[0m\u001b[0;34m\u001b[0m\u001b[0m\n\u001b[0;32m--> 147\u001b[0;31m                     \u001b[0mself\u001b[0m\u001b[0;34m.\u001b[0m\u001b[0mdo_task\u001b[0m\u001b[0;34m(\u001b[0m\u001b[0mtask\u001b[0m\u001b[0;34m,\u001b[0m \u001b[0mround_number\u001b[0m\u001b[0;34m)\u001b[0m\u001b[0;34m\u001b[0m\u001b[0;34m\u001b[0m\u001b[0m\n\u001b[0m\u001b[1;32m    148\u001b[0m                 self.logger.info(\n\u001b[1;32m    149\u001b[0m                     'All tasks completed on {} for round {}...'.format(\n",
      "\u001b[0;32m~/.virtualenvs/brain_tumor/lib/python3.6/site-packages/openfl/component/collaborator/collaborator.py\u001b[0m in \u001b[0;36mdo_task\u001b[0;34m(self, task, round_number)\u001b[0m\n\u001b[1;32m    200\u001b[0m             \u001b[0mround_num\u001b[0m\u001b[0;34m=\u001b[0m\u001b[0mround_number\u001b[0m\u001b[0;34m,\u001b[0m\u001b[0;34m\u001b[0m\u001b[0;34m\u001b[0m\u001b[0m\n\u001b[1;32m    201\u001b[0m             \u001b[0minput_tensor_dict\u001b[0m\u001b[0;34m=\u001b[0m\u001b[0minput_tensor_dict\u001b[0m\u001b[0;34m,\u001b[0m\u001b[0;34m\u001b[0m\u001b[0;34m\u001b[0m\u001b[0m\n\u001b[0;32m--> 202\u001b[0;31m             **kwargs)\n\u001b[0m\u001b[1;32m    203\u001b[0m \u001b[0;34m\u001b[0m\u001b[0m\n\u001b[1;32m    204\u001b[0m         \u001b[0;31m# Save global and local output_tensor_dicts to TensorDB\u001b[0m\u001b[0;34m\u001b[0m\u001b[0;34m\u001b[0m\u001b[0;34m\u001b[0m\u001b[0m\n",
      "\u001b[0;32m~/.virtualenvs/brain_tumor/lib/python3.6/site-packages/openfl/federated/task/fl_model.py\u001b[0m in \u001b[0;36m<lambda>\u001b[0;34m(*args, **kwargs)\u001b[0m\n\u001b[1;32m     63\u001b[0m         \u001b[0;32mif\u001b[0m \u001b[0mhasattr\u001b[0m\u001b[0;34m(\u001b[0m\u001b[0mself\u001b[0m\u001b[0;34m.\u001b[0m\u001b[0mmodel\u001b[0m\u001b[0;34m,\u001b[0m \u001b[0;34m'validate'\u001b[0m\u001b[0;34m)\u001b[0m\u001b[0;34m:\u001b[0m\u001b[0;34m\u001b[0m\u001b[0;34m\u001b[0m\u001b[0m\n\u001b[1;32m     64\u001b[0m             self.runner.validate = lambda *args, **kwargs: build_model.validate(\n\u001b[0;32m---> 65\u001b[0;31m                 self.runner, *args, **kwargs)\n\u001b[0m\u001b[1;32m     66\u001b[0m         \u001b[0mself\u001b[0m\u001b[0;34m.\u001b[0m\u001b[0mrunner\u001b[0m\u001b[0;34m.\u001b[0m\u001b[0mmodel\u001b[0m \u001b[0;34m=\u001b[0m \u001b[0mself\u001b[0m\u001b[0;34m.\u001b[0m\u001b[0mmodel\u001b[0m\u001b[0;34m\u001b[0m\u001b[0;34m\u001b[0m\u001b[0m\n\u001b[1;32m     67\u001b[0m         \u001b[0mself\u001b[0m\u001b[0;34m.\u001b[0m\u001b[0mrunner\u001b[0m\u001b[0;34m.\u001b[0m\u001b[0moptimizer\u001b[0m \u001b[0;34m=\u001b[0m \u001b[0mself\u001b[0m\u001b[0;34m.\u001b[0m\u001b[0moptimizer\u001b[0m\u001b[0;34m\u001b[0m\u001b[0;34m\u001b[0m\u001b[0m\n",
      "\u001b[0;32m<ipython-input-11-e50b9871477a>\u001b[0m in \u001b[0;36mvalidate\u001b[0;34m(self, col_name, round_num, input_tensor_dict, use_tqdm, **kwargs)\u001b[0m\n\u001b[1;32m     55\u001b[0m \u001b[0;34m\u001b[0m\u001b[0m\n\u001b[1;32m     56\u001b[0m \u001b[0;34m\u001b[0m\u001b[0m\n\u001b[0;32m---> 57\u001b[0;31m                 \u001b[0mval_outputs\u001b[0m \u001b[0;34m=\u001b[0m \u001b[0mself\u001b[0m\u001b[0;34m(\u001b[0m\u001b[0mval_inputs\u001b[0m\u001b[0;34m)\u001b[0m\u001b[0;34m\u001b[0m\u001b[0;34m\u001b[0m\u001b[0m\n\u001b[0m\u001b[1;32m     58\u001b[0m                 \u001b[0mval_outputs\u001b[0m \u001b[0;34m=\u001b[0m \u001b[0mpost_trans\u001b[0m\u001b[0;34m(\u001b[0m\u001b[0mval_outputs\u001b[0m\u001b[0;34m)\u001b[0m\u001b[0;34m\u001b[0m\u001b[0;34m\u001b[0m\u001b[0m\n\u001b[1;32m     59\u001b[0m                 \u001b[0;31m# compute overall mean dice\u001b[0m\u001b[0;34m\u001b[0m\u001b[0;34m\u001b[0m\u001b[0;34m\u001b[0m\u001b[0m\n",
      "\u001b[0;32m~/.virtualenvs/brain_tumor/lib/python3.6/site-packages/torch/nn/modules/module.py\u001b[0m in \u001b[0;36m_call_impl\u001b[0;34m(self, *input, **kwargs)\u001b[0m\n\u001b[1;32m    725\u001b[0m             \u001b[0mresult\u001b[0m \u001b[0;34m=\u001b[0m \u001b[0mself\u001b[0m\u001b[0;34m.\u001b[0m\u001b[0m_slow_forward\u001b[0m\u001b[0;34m(\u001b[0m\u001b[0;34m*\u001b[0m\u001b[0minput\u001b[0m\u001b[0;34m,\u001b[0m \u001b[0;34m**\u001b[0m\u001b[0mkwargs\u001b[0m\u001b[0;34m)\u001b[0m\u001b[0;34m\u001b[0m\u001b[0;34m\u001b[0m\u001b[0m\n\u001b[1;32m    726\u001b[0m         \u001b[0;32melse\u001b[0m\u001b[0;34m:\u001b[0m\u001b[0;34m\u001b[0m\u001b[0;34m\u001b[0m\u001b[0m\n\u001b[0;32m--> 727\u001b[0;31m             \u001b[0mresult\u001b[0m \u001b[0;34m=\u001b[0m \u001b[0mself\u001b[0m\u001b[0;34m.\u001b[0m\u001b[0mforward\u001b[0m\u001b[0;34m(\u001b[0m\u001b[0;34m*\u001b[0m\u001b[0minput\u001b[0m\u001b[0;34m,\u001b[0m \u001b[0;34m**\u001b[0m\u001b[0mkwargs\u001b[0m\u001b[0;34m)\u001b[0m\u001b[0;34m\u001b[0m\u001b[0;34m\u001b[0m\u001b[0m\n\u001b[0m\u001b[1;32m    728\u001b[0m         for hook in itertools.chain(\n\u001b[1;32m    729\u001b[0m                 \u001b[0m_global_forward_hooks\u001b[0m\u001b[0;34m.\u001b[0m\u001b[0mvalues\u001b[0m\u001b[0;34m(\u001b[0m\u001b[0;34m)\u001b[0m\u001b[0;34m,\u001b[0m\u001b[0;34m\u001b[0m\u001b[0;34m\u001b[0m\u001b[0m\n",
      "\u001b[0;32m~/.virtualenvs/brain_tumor/lib/python3.6/site-packages/monai/networks/nets/unet.py\u001b[0m in \u001b[0;36mforward\u001b[0;34m(self, x)\u001b[0m\n\u001b[1;32m    186\u001b[0m \u001b[0;34m\u001b[0m\u001b[0m\n\u001b[1;32m    187\u001b[0m     \u001b[0;32mdef\u001b[0m \u001b[0mforward\u001b[0m\u001b[0;34m(\u001b[0m\u001b[0mself\u001b[0m\u001b[0;34m,\u001b[0m \u001b[0mx\u001b[0m\u001b[0;34m:\u001b[0m \u001b[0mtorch\u001b[0m\u001b[0;34m.\u001b[0m\u001b[0mTensor\u001b[0m\u001b[0;34m)\u001b[0m \u001b[0;34m->\u001b[0m \u001b[0mtorch\u001b[0m\u001b[0;34m.\u001b[0m\u001b[0mTensor\u001b[0m\u001b[0;34m:\u001b[0m\u001b[0;34m\u001b[0m\u001b[0;34m\u001b[0m\u001b[0m\n\u001b[0;32m--> 188\u001b[0;31m         \u001b[0mx\u001b[0m \u001b[0;34m=\u001b[0m \u001b[0mself\u001b[0m\u001b[0;34m.\u001b[0m\u001b[0mmodel\u001b[0m\u001b[0;34m(\u001b[0m\u001b[0mx\u001b[0m\u001b[0;34m)\u001b[0m\u001b[0;34m\u001b[0m\u001b[0;34m\u001b[0m\u001b[0m\n\u001b[0m\u001b[1;32m    189\u001b[0m         \u001b[0;32mreturn\u001b[0m \u001b[0mx\u001b[0m\u001b[0;34m\u001b[0m\u001b[0;34m\u001b[0m\u001b[0m\n\u001b[1;32m    190\u001b[0m \u001b[0;34m\u001b[0m\u001b[0m\n",
      "\u001b[0;32m~/.virtualenvs/brain_tumor/lib/python3.6/site-packages/torch/nn/modules/module.py\u001b[0m in \u001b[0;36m_call_impl\u001b[0;34m(self, *input, **kwargs)\u001b[0m\n\u001b[1;32m    725\u001b[0m             \u001b[0mresult\u001b[0m \u001b[0;34m=\u001b[0m \u001b[0mself\u001b[0m\u001b[0;34m.\u001b[0m\u001b[0m_slow_forward\u001b[0m\u001b[0;34m(\u001b[0m\u001b[0;34m*\u001b[0m\u001b[0minput\u001b[0m\u001b[0;34m,\u001b[0m \u001b[0;34m**\u001b[0m\u001b[0mkwargs\u001b[0m\u001b[0;34m)\u001b[0m\u001b[0;34m\u001b[0m\u001b[0;34m\u001b[0m\u001b[0m\n\u001b[1;32m    726\u001b[0m         \u001b[0;32melse\u001b[0m\u001b[0;34m:\u001b[0m\u001b[0;34m\u001b[0m\u001b[0;34m\u001b[0m\u001b[0m\n\u001b[0;32m--> 727\u001b[0;31m             \u001b[0mresult\u001b[0m \u001b[0;34m=\u001b[0m \u001b[0mself\u001b[0m\u001b[0;34m.\u001b[0m\u001b[0mforward\u001b[0m\u001b[0;34m(\u001b[0m\u001b[0;34m*\u001b[0m\u001b[0minput\u001b[0m\u001b[0;34m,\u001b[0m \u001b[0;34m**\u001b[0m\u001b[0mkwargs\u001b[0m\u001b[0;34m)\u001b[0m\u001b[0;34m\u001b[0m\u001b[0;34m\u001b[0m\u001b[0m\n\u001b[0m\u001b[1;32m    728\u001b[0m         for hook in itertools.chain(\n\u001b[1;32m    729\u001b[0m                 \u001b[0m_global_forward_hooks\u001b[0m\u001b[0;34m.\u001b[0m\u001b[0mvalues\u001b[0m\u001b[0;34m(\u001b[0m\u001b[0;34m)\u001b[0m\u001b[0;34m,\u001b[0m\u001b[0;34m\u001b[0m\u001b[0;34m\u001b[0m\u001b[0m\n",
      "\u001b[0;32m~/.virtualenvs/brain_tumor/lib/python3.6/site-packages/torch/nn/modules/container.py\u001b[0m in \u001b[0;36mforward\u001b[0;34m(self, input)\u001b[0m\n\u001b[1;32m    115\u001b[0m     \u001b[0;32mdef\u001b[0m \u001b[0mforward\u001b[0m\u001b[0;34m(\u001b[0m\u001b[0mself\u001b[0m\u001b[0;34m,\u001b[0m \u001b[0minput\u001b[0m\u001b[0;34m)\u001b[0m\u001b[0;34m:\u001b[0m\u001b[0;34m\u001b[0m\u001b[0;34m\u001b[0m\u001b[0m\n\u001b[1;32m    116\u001b[0m         \u001b[0;32mfor\u001b[0m \u001b[0mmodule\u001b[0m \u001b[0;32min\u001b[0m \u001b[0mself\u001b[0m\u001b[0;34m:\u001b[0m\u001b[0;34m\u001b[0m\u001b[0;34m\u001b[0m\u001b[0m\n\u001b[0;32m--> 117\u001b[0;31m             \u001b[0minput\u001b[0m \u001b[0;34m=\u001b[0m \u001b[0mmodule\u001b[0m\u001b[0;34m(\u001b[0m\u001b[0minput\u001b[0m\u001b[0;34m)\u001b[0m\u001b[0;34m\u001b[0m\u001b[0;34m\u001b[0m\u001b[0m\n\u001b[0m\u001b[1;32m    118\u001b[0m         \u001b[0;32mreturn\u001b[0m \u001b[0minput\u001b[0m\u001b[0;34m\u001b[0m\u001b[0;34m\u001b[0m\u001b[0m\n\u001b[1;32m    119\u001b[0m \u001b[0;34m\u001b[0m\u001b[0m\n",
      "\u001b[0;32m~/.virtualenvs/brain_tumor/lib/python3.6/site-packages/torch/nn/modules/module.py\u001b[0m in \u001b[0;36m_call_impl\u001b[0;34m(self, *input, **kwargs)\u001b[0m\n\u001b[1;32m    725\u001b[0m             \u001b[0mresult\u001b[0m \u001b[0;34m=\u001b[0m \u001b[0mself\u001b[0m\u001b[0;34m.\u001b[0m\u001b[0m_slow_forward\u001b[0m\u001b[0;34m(\u001b[0m\u001b[0;34m*\u001b[0m\u001b[0minput\u001b[0m\u001b[0;34m,\u001b[0m \u001b[0;34m**\u001b[0m\u001b[0mkwargs\u001b[0m\u001b[0;34m)\u001b[0m\u001b[0;34m\u001b[0m\u001b[0;34m\u001b[0m\u001b[0m\n\u001b[1;32m    726\u001b[0m         \u001b[0;32melse\u001b[0m\u001b[0;34m:\u001b[0m\u001b[0;34m\u001b[0m\u001b[0;34m\u001b[0m\u001b[0m\n\u001b[0;32m--> 727\u001b[0;31m             \u001b[0mresult\u001b[0m \u001b[0;34m=\u001b[0m \u001b[0mself\u001b[0m\u001b[0;34m.\u001b[0m\u001b[0mforward\u001b[0m\u001b[0;34m(\u001b[0m\u001b[0;34m*\u001b[0m\u001b[0minput\u001b[0m\u001b[0;34m,\u001b[0m \u001b[0;34m**\u001b[0m\u001b[0mkwargs\u001b[0m\u001b[0;34m)\u001b[0m\u001b[0;34m\u001b[0m\u001b[0;34m\u001b[0m\u001b[0m\n\u001b[0m\u001b[1;32m    728\u001b[0m         for hook in itertools.chain(\n\u001b[1;32m    729\u001b[0m                 \u001b[0m_global_forward_hooks\u001b[0m\u001b[0;34m.\u001b[0m\u001b[0mvalues\u001b[0m\u001b[0;34m(\u001b[0m\u001b[0;34m)\u001b[0m\u001b[0;34m,\u001b[0m\u001b[0;34m\u001b[0m\u001b[0;34m\u001b[0m\u001b[0m\n",
      "\u001b[0;32m~/.virtualenvs/brain_tumor/lib/python3.6/site-packages/monai/networks/layers/simplelayers.py\u001b[0m in \u001b[0;36mforward\u001b[0;34m(self, x)\u001b[0m\n\u001b[1;32m    122\u001b[0m \u001b[0;34m\u001b[0m\u001b[0m\n\u001b[1;32m    123\u001b[0m     \u001b[0;32mdef\u001b[0m \u001b[0mforward\u001b[0m\u001b[0;34m(\u001b[0m\u001b[0mself\u001b[0m\u001b[0;34m,\u001b[0m \u001b[0mx\u001b[0m\u001b[0;34m:\u001b[0m \u001b[0mtorch\u001b[0m\u001b[0;34m.\u001b[0m\u001b[0mTensor\u001b[0m\u001b[0;34m)\u001b[0m \u001b[0;34m->\u001b[0m \u001b[0mtorch\u001b[0m\u001b[0;34m.\u001b[0m\u001b[0mTensor\u001b[0m\u001b[0;34m:\u001b[0m\u001b[0;34m\u001b[0m\u001b[0;34m\u001b[0m\u001b[0m\n\u001b[0;32m--> 124\u001b[0;31m         \u001b[0my\u001b[0m \u001b[0;34m=\u001b[0m \u001b[0mself\u001b[0m\u001b[0;34m.\u001b[0m\u001b[0msubmodule\u001b[0m\u001b[0;34m(\u001b[0m\u001b[0mx\u001b[0m\u001b[0;34m)\u001b[0m\u001b[0;34m\u001b[0m\u001b[0;34m\u001b[0m\u001b[0m\n\u001b[0m\u001b[1;32m    125\u001b[0m \u001b[0;34m\u001b[0m\u001b[0m\n\u001b[1;32m    126\u001b[0m         \u001b[0;32mif\u001b[0m \u001b[0mself\u001b[0m\u001b[0;34m.\u001b[0m\u001b[0mmode\u001b[0m \u001b[0;34m==\u001b[0m \u001b[0;34m\"cat\"\u001b[0m\u001b[0;34m:\u001b[0m\u001b[0;34m\u001b[0m\u001b[0;34m\u001b[0m\u001b[0m\n",
      "\u001b[0;32m~/.virtualenvs/brain_tumor/lib/python3.6/site-packages/torch/nn/modules/module.py\u001b[0m in \u001b[0;36m_call_impl\u001b[0;34m(self, *input, **kwargs)\u001b[0m\n\u001b[1;32m    725\u001b[0m             \u001b[0mresult\u001b[0m \u001b[0;34m=\u001b[0m \u001b[0mself\u001b[0m\u001b[0;34m.\u001b[0m\u001b[0m_slow_forward\u001b[0m\u001b[0;34m(\u001b[0m\u001b[0;34m*\u001b[0m\u001b[0minput\u001b[0m\u001b[0;34m,\u001b[0m \u001b[0;34m**\u001b[0m\u001b[0mkwargs\u001b[0m\u001b[0;34m)\u001b[0m\u001b[0;34m\u001b[0m\u001b[0;34m\u001b[0m\u001b[0m\n\u001b[1;32m    726\u001b[0m         \u001b[0;32melse\u001b[0m\u001b[0;34m:\u001b[0m\u001b[0;34m\u001b[0m\u001b[0;34m\u001b[0m\u001b[0m\n\u001b[0;32m--> 727\u001b[0;31m             \u001b[0mresult\u001b[0m \u001b[0;34m=\u001b[0m \u001b[0mself\u001b[0m\u001b[0;34m.\u001b[0m\u001b[0mforward\u001b[0m\u001b[0;34m(\u001b[0m\u001b[0;34m*\u001b[0m\u001b[0minput\u001b[0m\u001b[0;34m,\u001b[0m \u001b[0;34m**\u001b[0m\u001b[0mkwargs\u001b[0m\u001b[0;34m)\u001b[0m\u001b[0;34m\u001b[0m\u001b[0;34m\u001b[0m\u001b[0m\n\u001b[0m\u001b[1;32m    728\u001b[0m         for hook in itertools.chain(\n\u001b[1;32m    729\u001b[0m                 \u001b[0m_global_forward_hooks\u001b[0m\u001b[0;34m.\u001b[0m\u001b[0mvalues\u001b[0m\u001b[0;34m(\u001b[0m\u001b[0;34m)\u001b[0m\u001b[0;34m,\u001b[0m\u001b[0;34m\u001b[0m\u001b[0;34m\u001b[0m\u001b[0m\n",
      "\u001b[0;32m~/.virtualenvs/brain_tumor/lib/python3.6/site-packages/torch/nn/modules/container.py\u001b[0m in \u001b[0;36mforward\u001b[0;34m(self, input)\u001b[0m\n\u001b[1;32m    115\u001b[0m     \u001b[0;32mdef\u001b[0m \u001b[0mforward\u001b[0m\u001b[0;34m(\u001b[0m\u001b[0mself\u001b[0m\u001b[0;34m,\u001b[0m \u001b[0minput\u001b[0m\u001b[0;34m)\u001b[0m\u001b[0;34m:\u001b[0m\u001b[0;34m\u001b[0m\u001b[0;34m\u001b[0m\u001b[0m\n\u001b[1;32m    116\u001b[0m         \u001b[0;32mfor\u001b[0m \u001b[0mmodule\u001b[0m \u001b[0;32min\u001b[0m \u001b[0mself\u001b[0m\u001b[0;34m:\u001b[0m\u001b[0;34m\u001b[0m\u001b[0;34m\u001b[0m\u001b[0m\n\u001b[0;32m--> 117\u001b[0;31m             \u001b[0minput\u001b[0m \u001b[0;34m=\u001b[0m \u001b[0mmodule\u001b[0m\u001b[0;34m(\u001b[0m\u001b[0minput\u001b[0m\u001b[0;34m)\u001b[0m\u001b[0;34m\u001b[0m\u001b[0;34m\u001b[0m\u001b[0m\n\u001b[0m\u001b[1;32m    118\u001b[0m         \u001b[0;32mreturn\u001b[0m \u001b[0minput\u001b[0m\u001b[0;34m\u001b[0m\u001b[0;34m\u001b[0m\u001b[0m\n\u001b[1;32m    119\u001b[0m \u001b[0;34m\u001b[0m\u001b[0m\n",
      "\u001b[0;32m~/.virtualenvs/brain_tumor/lib/python3.6/site-packages/torch/nn/modules/module.py\u001b[0m in \u001b[0;36m_call_impl\u001b[0;34m(self, *input, **kwargs)\u001b[0m\n\u001b[1;32m    725\u001b[0m             \u001b[0mresult\u001b[0m \u001b[0;34m=\u001b[0m \u001b[0mself\u001b[0m\u001b[0;34m.\u001b[0m\u001b[0m_slow_forward\u001b[0m\u001b[0;34m(\u001b[0m\u001b[0;34m*\u001b[0m\u001b[0minput\u001b[0m\u001b[0;34m,\u001b[0m \u001b[0;34m**\u001b[0m\u001b[0mkwargs\u001b[0m\u001b[0;34m)\u001b[0m\u001b[0;34m\u001b[0m\u001b[0;34m\u001b[0m\u001b[0m\n\u001b[1;32m    726\u001b[0m         \u001b[0;32melse\u001b[0m\u001b[0;34m:\u001b[0m\u001b[0;34m\u001b[0m\u001b[0;34m\u001b[0m\u001b[0m\n\u001b[0;32m--> 727\u001b[0;31m             \u001b[0mresult\u001b[0m \u001b[0;34m=\u001b[0m \u001b[0mself\u001b[0m\u001b[0;34m.\u001b[0m\u001b[0mforward\u001b[0m\u001b[0;34m(\u001b[0m\u001b[0;34m*\u001b[0m\u001b[0minput\u001b[0m\u001b[0;34m,\u001b[0m \u001b[0;34m**\u001b[0m\u001b[0mkwargs\u001b[0m\u001b[0;34m)\u001b[0m\u001b[0;34m\u001b[0m\u001b[0;34m\u001b[0m\u001b[0m\n\u001b[0m\u001b[1;32m    728\u001b[0m         for hook in itertools.chain(\n\u001b[1;32m    729\u001b[0m                 \u001b[0m_global_forward_hooks\u001b[0m\u001b[0;34m.\u001b[0m\u001b[0mvalues\u001b[0m\u001b[0;34m(\u001b[0m\u001b[0;34m)\u001b[0m\u001b[0;34m,\u001b[0m\u001b[0;34m\u001b[0m\u001b[0;34m\u001b[0m\u001b[0m\n",
      "\u001b[0;32m~/.virtualenvs/brain_tumor/lib/python3.6/site-packages/monai/networks/layers/simplelayers.py\u001b[0m in \u001b[0;36mforward\u001b[0;34m(self, x)\u001b[0m\n\u001b[1;32m    122\u001b[0m \u001b[0;34m\u001b[0m\u001b[0m\n\u001b[1;32m    123\u001b[0m     \u001b[0;32mdef\u001b[0m \u001b[0mforward\u001b[0m\u001b[0;34m(\u001b[0m\u001b[0mself\u001b[0m\u001b[0;34m,\u001b[0m \u001b[0mx\u001b[0m\u001b[0;34m:\u001b[0m \u001b[0mtorch\u001b[0m\u001b[0;34m.\u001b[0m\u001b[0mTensor\u001b[0m\u001b[0;34m)\u001b[0m \u001b[0;34m->\u001b[0m \u001b[0mtorch\u001b[0m\u001b[0;34m.\u001b[0m\u001b[0mTensor\u001b[0m\u001b[0;34m:\u001b[0m\u001b[0;34m\u001b[0m\u001b[0;34m\u001b[0m\u001b[0m\n\u001b[0;32m--> 124\u001b[0;31m         \u001b[0my\u001b[0m \u001b[0;34m=\u001b[0m \u001b[0mself\u001b[0m\u001b[0;34m.\u001b[0m\u001b[0msubmodule\u001b[0m\u001b[0;34m(\u001b[0m\u001b[0mx\u001b[0m\u001b[0;34m)\u001b[0m\u001b[0;34m\u001b[0m\u001b[0;34m\u001b[0m\u001b[0m\n\u001b[0m\u001b[1;32m    125\u001b[0m \u001b[0;34m\u001b[0m\u001b[0m\n\u001b[1;32m    126\u001b[0m         \u001b[0;32mif\u001b[0m \u001b[0mself\u001b[0m\u001b[0;34m.\u001b[0m\u001b[0mmode\u001b[0m \u001b[0;34m==\u001b[0m \u001b[0;34m\"cat\"\u001b[0m\u001b[0;34m:\u001b[0m\u001b[0;34m\u001b[0m\u001b[0;34m\u001b[0m\u001b[0m\n",
      "\u001b[0;32m~/.virtualenvs/brain_tumor/lib/python3.6/site-packages/torch/nn/modules/module.py\u001b[0m in \u001b[0;36m_call_impl\u001b[0;34m(self, *input, **kwargs)\u001b[0m\n\u001b[1;32m    725\u001b[0m             \u001b[0mresult\u001b[0m \u001b[0;34m=\u001b[0m \u001b[0mself\u001b[0m\u001b[0;34m.\u001b[0m\u001b[0m_slow_forward\u001b[0m\u001b[0;34m(\u001b[0m\u001b[0;34m*\u001b[0m\u001b[0minput\u001b[0m\u001b[0;34m,\u001b[0m \u001b[0;34m**\u001b[0m\u001b[0mkwargs\u001b[0m\u001b[0;34m)\u001b[0m\u001b[0;34m\u001b[0m\u001b[0;34m\u001b[0m\u001b[0m\n\u001b[1;32m    726\u001b[0m         \u001b[0;32melse\u001b[0m\u001b[0;34m:\u001b[0m\u001b[0;34m\u001b[0m\u001b[0;34m\u001b[0m\u001b[0m\n\u001b[0;32m--> 727\u001b[0;31m             \u001b[0mresult\u001b[0m \u001b[0;34m=\u001b[0m \u001b[0mself\u001b[0m\u001b[0;34m.\u001b[0m\u001b[0mforward\u001b[0m\u001b[0;34m(\u001b[0m\u001b[0;34m*\u001b[0m\u001b[0minput\u001b[0m\u001b[0;34m,\u001b[0m \u001b[0;34m**\u001b[0m\u001b[0mkwargs\u001b[0m\u001b[0;34m)\u001b[0m\u001b[0;34m\u001b[0m\u001b[0;34m\u001b[0m\u001b[0m\n\u001b[0m\u001b[1;32m    728\u001b[0m         for hook in itertools.chain(\n\u001b[1;32m    729\u001b[0m                 \u001b[0m_global_forward_hooks\u001b[0m\u001b[0;34m.\u001b[0m\u001b[0mvalues\u001b[0m\u001b[0;34m(\u001b[0m\u001b[0;34m)\u001b[0m\u001b[0;34m,\u001b[0m\u001b[0;34m\u001b[0m\u001b[0;34m\u001b[0m\u001b[0m\n",
      "\u001b[0;32m~/.virtualenvs/brain_tumor/lib/python3.6/site-packages/torch/nn/modules/container.py\u001b[0m in \u001b[0;36mforward\u001b[0;34m(self, input)\u001b[0m\n\u001b[1;32m    115\u001b[0m     \u001b[0;32mdef\u001b[0m \u001b[0mforward\u001b[0m\u001b[0;34m(\u001b[0m\u001b[0mself\u001b[0m\u001b[0;34m,\u001b[0m \u001b[0minput\u001b[0m\u001b[0;34m)\u001b[0m\u001b[0;34m:\u001b[0m\u001b[0;34m\u001b[0m\u001b[0;34m\u001b[0m\u001b[0m\n\u001b[1;32m    116\u001b[0m         \u001b[0;32mfor\u001b[0m \u001b[0mmodule\u001b[0m \u001b[0;32min\u001b[0m \u001b[0mself\u001b[0m\u001b[0;34m:\u001b[0m\u001b[0;34m\u001b[0m\u001b[0;34m\u001b[0m\u001b[0m\n\u001b[0;32m--> 117\u001b[0;31m             \u001b[0minput\u001b[0m \u001b[0;34m=\u001b[0m \u001b[0mmodule\u001b[0m\u001b[0;34m(\u001b[0m\u001b[0minput\u001b[0m\u001b[0;34m)\u001b[0m\u001b[0;34m\u001b[0m\u001b[0;34m\u001b[0m\u001b[0m\n\u001b[0m\u001b[1;32m    118\u001b[0m         \u001b[0;32mreturn\u001b[0m \u001b[0minput\u001b[0m\u001b[0;34m\u001b[0m\u001b[0;34m\u001b[0m\u001b[0m\n\u001b[1;32m    119\u001b[0m \u001b[0;34m\u001b[0m\u001b[0m\n",
      "\u001b[0;32m~/.virtualenvs/brain_tumor/lib/python3.6/site-packages/torch/nn/modules/module.py\u001b[0m in \u001b[0;36m_call_impl\u001b[0;34m(self, *input, **kwargs)\u001b[0m\n\u001b[1;32m    725\u001b[0m             \u001b[0mresult\u001b[0m \u001b[0;34m=\u001b[0m \u001b[0mself\u001b[0m\u001b[0;34m.\u001b[0m\u001b[0m_slow_forward\u001b[0m\u001b[0;34m(\u001b[0m\u001b[0;34m*\u001b[0m\u001b[0minput\u001b[0m\u001b[0;34m,\u001b[0m \u001b[0;34m**\u001b[0m\u001b[0mkwargs\u001b[0m\u001b[0;34m)\u001b[0m\u001b[0;34m\u001b[0m\u001b[0;34m\u001b[0m\u001b[0m\n\u001b[1;32m    726\u001b[0m         \u001b[0;32melse\u001b[0m\u001b[0;34m:\u001b[0m\u001b[0;34m\u001b[0m\u001b[0;34m\u001b[0m\u001b[0m\n\u001b[0;32m--> 727\u001b[0;31m             \u001b[0mresult\u001b[0m \u001b[0;34m=\u001b[0m \u001b[0mself\u001b[0m\u001b[0;34m.\u001b[0m\u001b[0mforward\u001b[0m\u001b[0;34m(\u001b[0m\u001b[0;34m*\u001b[0m\u001b[0minput\u001b[0m\u001b[0;34m,\u001b[0m \u001b[0;34m**\u001b[0m\u001b[0mkwargs\u001b[0m\u001b[0;34m)\u001b[0m\u001b[0;34m\u001b[0m\u001b[0;34m\u001b[0m\u001b[0m\n\u001b[0m\u001b[1;32m    728\u001b[0m         for hook in itertools.chain(\n\u001b[1;32m    729\u001b[0m                 \u001b[0m_global_forward_hooks\u001b[0m\u001b[0;34m.\u001b[0m\u001b[0mvalues\u001b[0m\u001b[0;34m(\u001b[0m\u001b[0;34m)\u001b[0m\u001b[0;34m,\u001b[0m\u001b[0;34m\u001b[0m\u001b[0;34m\u001b[0m\u001b[0m\n",
      "\u001b[0;32m~/.virtualenvs/brain_tumor/lib/python3.6/site-packages/torch/nn/modules/container.py\u001b[0m in \u001b[0;36mforward\u001b[0;34m(self, input)\u001b[0m\n\u001b[1;32m    115\u001b[0m     \u001b[0;32mdef\u001b[0m \u001b[0mforward\u001b[0m\u001b[0;34m(\u001b[0m\u001b[0mself\u001b[0m\u001b[0;34m,\u001b[0m \u001b[0minput\u001b[0m\u001b[0;34m)\u001b[0m\u001b[0;34m:\u001b[0m\u001b[0;34m\u001b[0m\u001b[0;34m\u001b[0m\u001b[0m\n\u001b[1;32m    116\u001b[0m         \u001b[0;32mfor\u001b[0m \u001b[0mmodule\u001b[0m \u001b[0;32min\u001b[0m \u001b[0mself\u001b[0m\u001b[0;34m:\u001b[0m\u001b[0;34m\u001b[0m\u001b[0;34m\u001b[0m\u001b[0m\n\u001b[0;32m--> 117\u001b[0;31m             \u001b[0minput\u001b[0m \u001b[0;34m=\u001b[0m \u001b[0mmodule\u001b[0m\u001b[0;34m(\u001b[0m\u001b[0minput\u001b[0m\u001b[0;34m)\u001b[0m\u001b[0;34m\u001b[0m\u001b[0;34m\u001b[0m\u001b[0m\n\u001b[0m\u001b[1;32m    118\u001b[0m         \u001b[0;32mreturn\u001b[0m \u001b[0minput\u001b[0m\u001b[0;34m\u001b[0m\u001b[0;34m\u001b[0m\u001b[0m\n\u001b[1;32m    119\u001b[0m \u001b[0;34m\u001b[0m\u001b[0m\n",
      "\u001b[0;32m~/.virtualenvs/brain_tumor/lib/python3.6/site-packages/torch/nn/modules/module.py\u001b[0m in \u001b[0;36m_call_impl\u001b[0;34m(self, *input, **kwargs)\u001b[0m\n\u001b[1;32m    725\u001b[0m             \u001b[0mresult\u001b[0m \u001b[0;34m=\u001b[0m \u001b[0mself\u001b[0m\u001b[0;34m.\u001b[0m\u001b[0m_slow_forward\u001b[0m\u001b[0;34m(\u001b[0m\u001b[0;34m*\u001b[0m\u001b[0minput\u001b[0m\u001b[0;34m,\u001b[0m \u001b[0;34m**\u001b[0m\u001b[0mkwargs\u001b[0m\u001b[0;34m)\u001b[0m\u001b[0;34m\u001b[0m\u001b[0;34m\u001b[0m\u001b[0m\n\u001b[1;32m    726\u001b[0m         \u001b[0;32melse\u001b[0m\u001b[0;34m:\u001b[0m\u001b[0;34m\u001b[0m\u001b[0;34m\u001b[0m\u001b[0m\n\u001b[0;32m--> 727\u001b[0;31m             \u001b[0mresult\u001b[0m \u001b[0;34m=\u001b[0m \u001b[0mself\u001b[0m\u001b[0;34m.\u001b[0m\u001b[0mforward\u001b[0m\u001b[0;34m(\u001b[0m\u001b[0;34m*\u001b[0m\u001b[0minput\u001b[0m\u001b[0;34m,\u001b[0m \u001b[0;34m**\u001b[0m\u001b[0mkwargs\u001b[0m\u001b[0;34m)\u001b[0m\u001b[0;34m\u001b[0m\u001b[0;34m\u001b[0m\u001b[0m\n\u001b[0m\u001b[1;32m    728\u001b[0m         for hook in itertools.chain(\n\u001b[1;32m    729\u001b[0m                 \u001b[0m_global_forward_hooks\u001b[0m\u001b[0;34m.\u001b[0m\u001b[0mvalues\u001b[0m\u001b[0;34m(\u001b[0m\u001b[0;34m)\u001b[0m\u001b[0;34m,\u001b[0m\u001b[0;34m\u001b[0m\u001b[0;34m\u001b[0m\u001b[0m\n",
      "\u001b[0;32m~/.virtualenvs/brain_tumor/lib/python3.6/site-packages/monai/networks/blocks/convolutions.py\u001b[0m in \u001b[0;36mforward\u001b[0;34m(self, x)\u001b[0m\n\u001b[1;32m    243\u001b[0m     \u001b[0;32mdef\u001b[0m \u001b[0mforward\u001b[0m\u001b[0;34m(\u001b[0m\u001b[0mself\u001b[0m\u001b[0;34m,\u001b[0m \u001b[0mx\u001b[0m\u001b[0;34m:\u001b[0m \u001b[0mtorch\u001b[0m\u001b[0;34m.\u001b[0m\u001b[0mTensor\u001b[0m\u001b[0;34m)\u001b[0m \u001b[0;34m->\u001b[0m \u001b[0mtorch\u001b[0m\u001b[0;34m.\u001b[0m\u001b[0mTensor\u001b[0m\u001b[0;34m:\u001b[0m\u001b[0;34m\u001b[0m\u001b[0;34m\u001b[0m\u001b[0m\n\u001b[1;32m    244\u001b[0m         \u001b[0mres\u001b[0m\u001b[0;34m:\u001b[0m \u001b[0mtorch\u001b[0m\u001b[0;34m.\u001b[0m\u001b[0mTensor\u001b[0m \u001b[0;34m=\u001b[0m \u001b[0mself\u001b[0m\u001b[0;34m.\u001b[0m\u001b[0mresidual\u001b[0m\u001b[0;34m(\u001b[0m\u001b[0mx\u001b[0m\u001b[0;34m)\u001b[0m  \u001b[0;31m# create the additive residual from x\u001b[0m\u001b[0;34m\u001b[0m\u001b[0;34m\u001b[0m\u001b[0m\n\u001b[0;32m--> 245\u001b[0;31m         \u001b[0mcx\u001b[0m\u001b[0;34m:\u001b[0m \u001b[0mtorch\u001b[0m\u001b[0;34m.\u001b[0m\u001b[0mTensor\u001b[0m \u001b[0;34m=\u001b[0m \u001b[0mself\u001b[0m\u001b[0;34m.\u001b[0m\u001b[0mconv\u001b[0m\u001b[0;34m(\u001b[0m\u001b[0mx\u001b[0m\u001b[0;34m)\u001b[0m  \u001b[0;31m# apply x to sequence of operations\u001b[0m\u001b[0;34m\u001b[0m\u001b[0;34m\u001b[0m\u001b[0m\n\u001b[0m\u001b[1;32m    246\u001b[0m         \u001b[0;32mreturn\u001b[0m \u001b[0mcx\u001b[0m \u001b[0;34m+\u001b[0m \u001b[0mres\u001b[0m  \u001b[0;31m# add the residual to the output\u001b[0m\u001b[0;34m\u001b[0m\u001b[0;34m\u001b[0m\u001b[0m\n",
      "\u001b[0;32m~/.virtualenvs/brain_tumor/lib/python3.6/site-packages/torch/nn/modules/module.py\u001b[0m in \u001b[0;36m_call_impl\u001b[0;34m(self, *input, **kwargs)\u001b[0m\n\u001b[1;32m    725\u001b[0m             \u001b[0mresult\u001b[0m \u001b[0;34m=\u001b[0m \u001b[0mself\u001b[0m\u001b[0;34m.\u001b[0m\u001b[0m_slow_forward\u001b[0m\u001b[0;34m(\u001b[0m\u001b[0;34m*\u001b[0m\u001b[0minput\u001b[0m\u001b[0;34m,\u001b[0m \u001b[0;34m**\u001b[0m\u001b[0mkwargs\u001b[0m\u001b[0;34m)\u001b[0m\u001b[0;34m\u001b[0m\u001b[0;34m\u001b[0m\u001b[0m\n\u001b[1;32m    726\u001b[0m         \u001b[0;32melse\u001b[0m\u001b[0;34m:\u001b[0m\u001b[0;34m\u001b[0m\u001b[0;34m\u001b[0m\u001b[0m\n\u001b[0;32m--> 727\u001b[0;31m             \u001b[0mresult\u001b[0m \u001b[0;34m=\u001b[0m \u001b[0mself\u001b[0m\u001b[0;34m.\u001b[0m\u001b[0mforward\u001b[0m\u001b[0;34m(\u001b[0m\u001b[0;34m*\u001b[0m\u001b[0minput\u001b[0m\u001b[0;34m,\u001b[0m \u001b[0;34m**\u001b[0m\u001b[0mkwargs\u001b[0m\u001b[0;34m)\u001b[0m\u001b[0;34m\u001b[0m\u001b[0;34m\u001b[0m\u001b[0m\n\u001b[0m\u001b[1;32m    728\u001b[0m         for hook in itertools.chain(\n\u001b[1;32m    729\u001b[0m                 \u001b[0m_global_forward_hooks\u001b[0m\u001b[0;34m.\u001b[0m\u001b[0mvalues\u001b[0m\u001b[0;34m(\u001b[0m\u001b[0;34m)\u001b[0m\u001b[0;34m,\u001b[0m\u001b[0;34m\u001b[0m\u001b[0;34m\u001b[0m\u001b[0m\n",
      "\u001b[0;32m~/.virtualenvs/brain_tumor/lib/python3.6/site-packages/torch/nn/modules/container.py\u001b[0m in \u001b[0;36mforward\u001b[0;34m(self, input)\u001b[0m\n\u001b[1;32m    115\u001b[0m     \u001b[0;32mdef\u001b[0m \u001b[0mforward\u001b[0m\u001b[0;34m(\u001b[0m\u001b[0mself\u001b[0m\u001b[0;34m,\u001b[0m \u001b[0minput\u001b[0m\u001b[0;34m)\u001b[0m\u001b[0;34m:\u001b[0m\u001b[0;34m\u001b[0m\u001b[0;34m\u001b[0m\u001b[0m\n\u001b[1;32m    116\u001b[0m         \u001b[0;32mfor\u001b[0m \u001b[0mmodule\u001b[0m \u001b[0;32min\u001b[0m \u001b[0mself\u001b[0m\u001b[0;34m:\u001b[0m\u001b[0;34m\u001b[0m\u001b[0;34m\u001b[0m\u001b[0m\n\u001b[0;32m--> 117\u001b[0;31m             \u001b[0minput\u001b[0m \u001b[0;34m=\u001b[0m \u001b[0mmodule\u001b[0m\u001b[0;34m(\u001b[0m\u001b[0minput\u001b[0m\u001b[0;34m)\u001b[0m\u001b[0;34m\u001b[0m\u001b[0;34m\u001b[0m\u001b[0m\n\u001b[0m\u001b[1;32m    118\u001b[0m         \u001b[0;32mreturn\u001b[0m \u001b[0minput\u001b[0m\u001b[0;34m\u001b[0m\u001b[0;34m\u001b[0m\u001b[0m\n\u001b[1;32m    119\u001b[0m \u001b[0;34m\u001b[0m\u001b[0m\n",
      "\u001b[0;32m~/.virtualenvs/brain_tumor/lib/python3.6/site-packages/torch/nn/modules/module.py\u001b[0m in \u001b[0;36m_call_impl\u001b[0;34m(self, *input, **kwargs)\u001b[0m\n\u001b[1;32m    725\u001b[0m             \u001b[0mresult\u001b[0m \u001b[0;34m=\u001b[0m \u001b[0mself\u001b[0m\u001b[0;34m.\u001b[0m\u001b[0m_slow_forward\u001b[0m\u001b[0;34m(\u001b[0m\u001b[0;34m*\u001b[0m\u001b[0minput\u001b[0m\u001b[0;34m,\u001b[0m \u001b[0;34m**\u001b[0m\u001b[0mkwargs\u001b[0m\u001b[0;34m)\u001b[0m\u001b[0;34m\u001b[0m\u001b[0;34m\u001b[0m\u001b[0m\n\u001b[1;32m    726\u001b[0m         \u001b[0;32melse\u001b[0m\u001b[0;34m:\u001b[0m\u001b[0;34m\u001b[0m\u001b[0;34m\u001b[0m\u001b[0m\n\u001b[0;32m--> 727\u001b[0;31m             \u001b[0mresult\u001b[0m \u001b[0;34m=\u001b[0m \u001b[0mself\u001b[0m\u001b[0;34m.\u001b[0m\u001b[0mforward\u001b[0m\u001b[0;34m(\u001b[0m\u001b[0;34m*\u001b[0m\u001b[0minput\u001b[0m\u001b[0;34m,\u001b[0m \u001b[0;34m**\u001b[0m\u001b[0mkwargs\u001b[0m\u001b[0;34m)\u001b[0m\u001b[0;34m\u001b[0m\u001b[0;34m\u001b[0m\u001b[0m\n\u001b[0m\u001b[1;32m    728\u001b[0m         for hook in itertools.chain(\n\u001b[1;32m    729\u001b[0m                 \u001b[0m_global_forward_hooks\u001b[0m\u001b[0;34m.\u001b[0m\u001b[0mvalues\u001b[0m\u001b[0;34m(\u001b[0m\u001b[0;34m)\u001b[0m\u001b[0;34m,\u001b[0m\u001b[0;34m\u001b[0m\u001b[0;34m\u001b[0m\u001b[0m\n",
      "\u001b[0;32m~/.virtualenvs/brain_tumor/lib/python3.6/site-packages/torch/nn/modules/container.py\u001b[0m in \u001b[0;36mforward\u001b[0;34m(self, input)\u001b[0m\n\u001b[1;32m    115\u001b[0m     \u001b[0;32mdef\u001b[0m \u001b[0mforward\u001b[0m\u001b[0;34m(\u001b[0m\u001b[0mself\u001b[0m\u001b[0;34m,\u001b[0m \u001b[0minput\u001b[0m\u001b[0;34m)\u001b[0m\u001b[0;34m:\u001b[0m\u001b[0;34m\u001b[0m\u001b[0;34m\u001b[0m\u001b[0m\n\u001b[1;32m    116\u001b[0m         \u001b[0;32mfor\u001b[0m \u001b[0mmodule\u001b[0m \u001b[0;32min\u001b[0m \u001b[0mself\u001b[0m\u001b[0;34m:\u001b[0m\u001b[0;34m\u001b[0m\u001b[0;34m\u001b[0m\u001b[0m\n\u001b[0;32m--> 117\u001b[0;31m             \u001b[0minput\u001b[0m \u001b[0;34m=\u001b[0m \u001b[0mmodule\u001b[0m\u001b[0;34m(\u001b[0m\u001b[0minput\u001b[0m\u001b[0;34m)\u001b[0m\u001b[0;34m\u001b[0m\u001b[0;34m\u001b[0m\u001b[0m\n\u001b[0m\u001b[1;32m    118\u001b[0m         \u001b[0;32mreturn\u001b[0m \u001b[0minput\u001b[0m\u001b[0;34m\u001b[0m\u001b[0;34m\u001b[0m\u001b[0m\n\u001b[1;32m    119\u001b[0m \u001b[0;34m\u001b[0m\u001b[0m\n",
      "\u001b[0;32m~/.virtualenvs/brain_tumor/lib/python3.6/site-packages/torch/nn/modules/module.py\u001b[0m in \u001b[0;36m_call_impl\u001b[0;34m(self, *input, **kwargs)\u001b[0m\n\u001b[1;32m    725\u001b[0m             \u001b[0mresult\u001b[0m \u001b[0;34m=\u001b[0m \u001b[0mself\u001b[0m\u001b[0;34m.\u001b[0m\u001b[0m_slow_forward\u001b[0m\u001b[0;34m(\u001b[0m\u001b[0;34m*\u001b[0m\u001b[0minput\u001b[0m\u001b[0;34m,\u001b[0m \u001b[0;34m**\u001b[0m\u001b[0mkwargs\u001b[0m\u001b[0;34m)\u001b[0m\u001b[0;34m\u001b[0m\u001b[0;34m\u001b[0m\u001b[0m\n\u001b[1;32m    726\u001b[0m         \u001b[0;32melse\u001b[0m\u001b[0;34m:\u001b[0m\u001b[0;34m\u001b[0m\u001b[0;34m\u001b[0m\u001b[0m\n\u001b[0;32m--> 727\u001b[0;31m             \u001b[0mresult\u001b[0m \u001b[0;34m=\u001b[0m \u001b[0mself\u001b[0m\u001b[0;34m.\u001b[0m\u001b[0mforward\u001b[0m\u001b[0;34m(\u001b[0m\u001b[0;34m*\u001b[0m\u001b[0minput\u001b[0m\u001b[0;34m,\u001b[0m \u001b[0;34m**\u001b[0m\u001b[0mkwargs\u001b[0m\u001b[0;34m)\u001b[0m\u001b[0;34m\u001b[0m\u001b[0;34m\u001b[0m\u001b[0m\n\u001b[0m\u001b[1;32m    728\u001b[0m         for hook in itertools.chain(\n\u001b[1;32m    729\u001b[0m                 \u001b[0m_global_forward_hooks\u001b[0m\u001b[0;34m.\u001b[0m\u001b[0mvalues\u001b[0m\u001b[0;34m(\u001b[0m\u001b[0;34m)\u001b[0m\u001b[0;34m,\u001b[0m\u001b[0;34m\u001b[0m\u001b[0;34m\u001b[0m\u001b[0m\n",
      "\u001b[0;32m~/.virtualenvs/brain_tumor/lib/python3.6/site-packages/torch/nn/modules/conv.py\u001b[0m in \u001b[0;36mforward\u001b[0;34m(self, input)\u001b[0m\n\u001b[1;32m    571\u001b[0m                             self.dilation, self.groups)\n\u001b[1;32m    572\u001b[0m         return F.conv3d(input, self.weight, self.bias, self.stride,\n\u001b[0;32m--> 573\u001b[0;31m                         self.padding, self.dilation, self.groups)\n\u001b[0m\u001b[1;32m    574\u001b[0m \u001b[0;34m\u001b[0m\u001b[0m\n\u001b[1;32m    575\u001b[0m \u001b[0;34m\u001b[0m\u001b[0m\n",
      "\u001b[0;31mKeyboardInterrupt\u001b[0m: "
     ]
    }
   ],
   "source": [
    "# Run experiment, return trained FederatedModel\n",
    "final_fl_model = fx.run_experiment(\n",
    "    collaborators, override_config={'aggregator.settings.rounds_to_train': 30})"
   ]
  },
  {
   "cell_type": "code",
   "execution_count": null,
   "id": "daily-contract",
   "metadata": {},
   "outputs": [],
   "source": []
  },
  {
   "cell_type": "code",
   "execution_count": null,
   "id": "internal-argentina",
   "metadata": {},
   "outputs": [],
   "source": []
  },
  {
   "cell_type": "code",
   "execution_count": null,
   "id": "false-literature",
   "metadata": {},
   "outputs": [],
   "source": []
  },
  {
   "cell_type": "code",
   "execution_count": null,
   "id": "forced-parallel",
   "metadata": {},
   "outputs": [],
   "source": []
  },
  {
   "cell_type": "code",
   "execution_count": null,
   "id": "lightweight-speed",
   "metadata": {},
   "outputs": [],
   "source": []
  },
  {
   "cell_type": "code",
   "execution_count": null,
   "id": "demographic-campus",
   "metadata": {},
   "outputs": [],
   "source": []
  },
  {
   "cell_type": "code",
   "execution_count": null,
   "id": "worst-hospital",
   "metadata": {},
   "outputs": [],
   "source": []
  },
  {
   "cell_type": "code",
   "execution_count": null,
   "id": "comic-pottery",
   "metadata": {},
   "outputs": [],
   "source": []
  },
  {
   "cell_type": "code",
   "execution_count": null,
   "id": "above-characterization",
   "metadata": {},
   "outputs": [],
   "source": []
  },
  {
   "cell_type": "code",
   "execution_count": null,
   "id": "hispanic-ethiopia",
   "metadata": {},
   "outputs": [],
   "source": []
  },
  {
   "cell_type": "code",
   "execution_count": null,
   "id": "checked-budget",
   "metadata": {},
   "outputs": [],
   "source": []
  },
  {
   "cell_type": "code",
   "execution_count": null,
   "id": "brilliant-reggae",
   "metadata": {},
   "outputs": [],
   "source": [
    "# standard PyTorch program style: create UNet, DiceLoss and Adam optimizer\n"
   ]
  },
  {
   "cell_type": "code",
   "execution_count": null,
   "id": "considerable-biotechnology",
   "metadata": {
    "scrolled": true
   },
   "outputs": [],
   "source": []
  },
  {
   "cell_type": "code",
   "execution_count": null,
   "id": "adjacent-henry",
   "metadata": {},
   "outputs": [],
   "source": []
  },
  {
   "cell_type": "code",
   "execution_count": null,
   "id": "integrated-number",
   "metadata": {},
   "outputs": [],
   "source": []
  },
  {
   "cell_type": "code",
   "execution_count": null,
   "id": "electoral-terrorist",
   "metadata": {},
   "outputs": [],
   "source": []
  }
 ],
 "metadata": {
  "kernelspec": {
   "display_name": "Python 3",
   "language": "python",
   "name": "python3"
  },
  "language_info": {
   "codemirror_mode": {
    "name": "ipython",
    "version": 3
   },
   "file_extension": ".py",
   "mimetype": "text/x-python",
   "name": "python",
   "nbconvert_exporter": "python",
   "pygments_lexer": "ipython3",
   "version": "3.6.9"
  }
 },
 "nbformat": 4,
 "nbformat_minor": 5
}
