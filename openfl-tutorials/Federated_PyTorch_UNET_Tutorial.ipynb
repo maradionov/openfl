{
 "cells": [
  {
   "cell_type": "markdown",
   "metadata": {},
   "source": [
    "# Federated PyTorch UNET Tutorial"
   ]
  },
  {
   "cell_type": "code",
   "execution_count": 1,
   "metadata": {},
   "outputs": [
    {
     "name": "stdout",
     "output_type": "stream",
     "text": [
      "Requirement already satisfied: torch in /home/itrushkin/.virtualenvs/openfl_research/lib/python3.8/site-packages (1.8.1)\n",
      "Requirement already satisfied: typing-extensions in /home/itrushkin/.virtualenvs/openfl_research/lib/python3.8/site-packages (from torch) (3.7.4.3)\n",
      "Requirement already satisfied: numpy in /home/itrushkin/.virtualenvs/openfl_research/lib/python3.8/site-packages (from torch) (1.18.5)\n",
      "\u001b[33mWARNING: You are using pip version 21.0.1; however, version 21.1 is available.\n",
      "You should consider upgrading via the '/home/itrushkin/.virtualenvs/openfl_research/bin/python -m pip install --upgrade pip' command.\u001b[0m\n"
     ]
    }
   ],
   "source": [
    "# Install dependencies if not already installed\n",
    "!pip install torch"
   ]
  },
  {
   "cell_type": "markdown",
   "metadata": {},
   "source": [
    "First of all we need to set up our OpenFL workspace. To do this, simply run the `fx.init()` command as follows:"
   ]
  },
  {
   "cell_type": "code",
   "execution_count": null,
   "metadata": {
    "scrolled": true
   },
   "outputs": [],
   "source": [
    "import openfl.native as fx\n",
    "\n",
    "# Setup default workspace, logging, etc. Install additional requirements\n",
    "fx.init('torch_unet_kvasir')"
   ]
  },
  {
   "cell_type": "code",
   "execution_count": 3,
   "metadata": {
    "code_folding": []
   },
   "outputs": [],
   "source": [
    "# Import installed modules\n",
    "import PIL\n",
    "import json\n",
    "import torch\n",
    "import torch.nn as nn\n",
    "import torch.nn.functional as F\n",
    "import torch.optim as optim\n",
    "import numpy as np\n",
    "from skimage import io\n",
    "from torchvision import transforms as tsf\n",
    "import matplotlib.pyplot as plt\n",
    "from torch.utils.data import Dataset, DataLoader\n",
    "from hashlib import sha384\n",
    "from os import path\n",
    "from os import listdir\n",
    "\n",
    "from openfl.federated import FederatedModel, FederatedDataSet\n",
    "from openfl.utilities import TensorKey"
   ]
  },
  {
   "cell_type": "markdown",
   "metadata": {},
   "source": [
    "Download Kvasir dataset"
   ]
  },
  {
   "cell_type": "code",
   "execution_count": 4,
   "metadata": {},
   "outputs": [
    {
     "name": "stdout",
     "output_type": "stream",
     "text": [
      "--2021-04-29 17:42:32--  https://datasets.simula.no/hyper-kvasir/hyper-kvasir-segmented-images.zip\n",
      "Resolving proxy-dmz.intel.com (proxy-dmz.intel.com)... 10.102.248.16\n",
      "Connecting to proxy-dmz.intel.com (proxy-dmz.intel.com)|10.102.248.16|:912... connected.\n",
      "Proxy request sent, awaiting response... 200 OK\n",
      "Length: 46251583 (44M) [application/zip]\n",
      "Saving to: ‘kvasir.zip’\n",
      "\n",
      "kvasir.zip          100%[===================>]  44,11M   514KB/s    in 98s     \n",
      "\n",
      "2021-04-29 17:44:11 (460 KB/s) - ‘kvasir.zip’ saved [46251583/46251583]\n",
      "\n",
      "Archive:  kvasir.zip\n",
      "   creating: ./data/segmented-images/\n",
      "  inflating: ./data/segmented-images/bounding-boxes.json  \n",
      "   creating: ./data/segmented-images/masks/\n",
      "  inflating: ./data/segmented-images/masks/cju88oh0po9gq0801nge4tgr1.jpg  \n",
      "  inflating: ./data/segmented-images/masks/cju34uhepd3dd0799hs8782ad.jpg  \n",
      "  inflating: ./data/segmented-images/masks/cju8bgdmqrksy0801tozdmraa.jpg  \n",
      "  inflating: ./data/segmented-images/masks/cju5ddda9bkkt0850enzwatb1.jpg  \n",
      "  inflating: ./data/segmented-images/masks/cju0s690hkp960855tjuaqvv0.jpg  \n",
      "  inflating: ./data/segmented-images/masks/cju5nyu31gv8e0871zpk74a2n.jpg  \n",
      "  inflating: ./data/segmented-images/masks/cju358pwtdby20878cg7nm0np.jpg  \n",
      "  inflating: ./data/segmented-images/masks/cju5cu8qkb84x08186jwo8yin.jpg  \n",
      "  inflating: ./data/segmented-images/masks/cju77j66ez52p08019xygi0co.jpg  \n",
      "  inflating: ./data/segmented-images/masks/cju42xpi8lw4w0871ve317a1p.jpg  \n",
      "  inflating: ./data/segmented-images/masks/cju884985nlmx0817vzpax3y4.jpg  \n",
      "  inflating: ./data/segmented-images/masks/cju5fu081d8gc0818l3yylujk.jpg  \n",
      "  inflating: ./data/segmented-images/masks/cju8a2itsq4dv0755ntlovpxe.jpg  \n",
      "  inflating: ./data/segmented-images/masks/cju5bj926aiec07559rshy4wa.jpg  \n",
      "  inflating: ./data/segmented-images/masks/cju1hirfi7ekp0855q0vgm9qq.jpg  \n",
      "  inflating: ./data/segmented-images/masks/cju85bf1algsq0871y9gtlq97.jpg  \n",
      "  inflating: ./data/segmented-images/masks/cju7fd6yt2p740987wkr8exo1.jpg  \n",
      "  inflating: ./data/segmented-images/masks/cju1cqc7n4gpy0855jt246k68.jpg  \n",
      "  inflating: ./data/segmented-images/masks/cju41z76wlgbz0801qdetlvby.jpg  \n",
      "  inflating: ./data/segmented-images/masks/cjyzuio1qgh040763k56deohv.jpg  \n",
      "  inflating: ./data/segmented-images/masks/cju43jcqim2cp08172dvjvyui.jpg  \n",
      "  inflating: ./data/segmented-images/masks/cju8b7aqtr4a00987coba14b7.jpg  \n",
      "  inflating: ./data/segmented-images/masks/cju2zkpdl9h7t0799ix60teqg.jpg  \n",
      "  inflating: ./data/segmented-images/masks/cju5g163vd6mt0817uccuga6u.jpg  \n",
      "  inflating: ./data/segmented-images/masks/cju2z2x3nvd3c099350zgty7w.jpg  \n",
      "  inflating: ./data/segmented-images/masks/cju30u1hbakn808019g15nb8b.jpg  \n",
      "  inflating: ./data/segmented-images/masks/cju2pag1f0s4r0878h52uq83s.jpg  \n",
      "  inflating: ./data/segmented-images/masks/cju5uget8krjy0818kvywd0zu.jpg  \n",
      "  inflating: ./data/segmented-images/masks/cju5yimthmlv80850zhoc90c2.jpg  \n",
      "  inflating: ./data/segmented-images/masks/cju2txjfzv60w098839dcimys.jpg  \n",
      "  inflating: ./data/segmented-images/masks/cju0sxqiclckk08551ycbwhno.jpg  \n",
      "  inflating: ./data/segmented-images/masks/cju1brhsj3rls0855a1vgdlen.jpg  \n",
      "  inflating: ./data/segmented-images/masks/cju8bff9nrfi10850fmfzbf8v.jpg  \n",
      "  inflating: ./data/segmented-images/masks/cju8at3s1qqqx0850hcq8nmnq.jpg  \n",
      "  inflating: ./data/segmented-images/masks/cju1cvkfwqrec0993wbp1jlzm.jpg  \n",
      "  inflating: ./data/segmented-images/masks/cju2zy1e49pqk0878t6ncqn12.jpg  \n",
      "  inflating: ./data/segmented-images/masks/cju3v72v5h1qz0818fggilwtq.jpg  \n",
      "  inflating: ./data/segmented-images/masks/cju8b5p40r2c60987ofa0mu03.jpg  \n",
      "  inflating: ./data/segmented-images/masks/cju1hhj6mxfp90835n3wofrap.jpg  \n",
      "  inflating: ./data/segmented-images/masks/cju6z600qwh4z081700qimgl9.jpg  \n",
      "  inflating: ./data/segmented-images/masks/cju3ul8dogf1z09872y2ecowp.jpg  \n",
      "  inflating: ./data/segmented-images/masks/cju1cu1u2474n0878tt7v4tdr.jpg  \n",
      "  inflating: ./data/segmented-images/masks/cju2t3ibkuecr0835o7si16zv.jpg  \n",
      "  inflating: ./data/segmented-images/masks/cju7b4mtw1n9n080186209f3d.jpg  \n",
      "  inflating: ./data/segmented-images/masks/cju8ayeq7r1fb0818z1junacy.jpg  \n",
      "  inflating: ./data/segmented-images/masks/cju5vcmrqla7i0817x4sp4pqw.jpg  \n",
      "  inflating: ./data/segmented-images/masks/cju83ipu3jwpx0801z5pvguf8.jpg  \n",
      "  inflating: ./data/segmented-images/masks/cju7cp6dw244p0818gncdol4m.jpg  \n",
      "  inflating: ./data/segmented-images/masks/cju2m56cryvqd0801gtn2yp8t.jpg  \n",
      "  inflating: ./data/segmented-images/masks/cju3381d8bz3h07991xtl7ra0.jpg  \n",
      "  inflating: ./data/segmented-images/masks/cju5wqonpm0e60801z88ewmy1.jpg  \n",
      "  inflating: ./data/segmented-images/masks/cju2zr3c3vwb00993jn06bbaz.jpg  \n",
      "  inflating: ./data/segmented-images/masks/cju2zxja9w1eh09933609ho9z.jpg  \n",
      "  inflating: ./data/segmented-images/masks/cju5v8pgplg6k0755rvi2t63h.jpg  \n",
      "  inflating: ./data/segmented-images/masks/cju34fojcctcf0799ebolbvkn.jpg  \n",
      "  inflating: ./data/segmented-images/masks/cju8c5zcbsdfz0801o5t6jag1.jpg  \n",
      "  inflating: ./data/segmented-images/masks/cju5y84q3mdv50817eyp82xf3.jpg  \n",
      "  inflating: ./data/segmented-images/masks/cju88t4fvokxf07558ymyh281.jpg  \n",
      "  inflating: ./data/segmented-images/masks/cju1c8ffau5770835g0g343o8.jpg  \n",
      "  inflating: ./data/segmented-images/masks/cju2hfqnmhisa0993gpleeldd.jpg  \n",
      "  inflating: ./data/segmented-images/masks/cju83h9ysjwe808716nt35oah.jpg  \n",
      "  inflating: ./data/segmented-images/masks/cju1efbr0rqxz09931z0lf4vf.jpg  \n",
      "  inflating: ./data/segmented-images/masks/cju2upu4evw7g08358guwozxv.jpg  \n",
      "  inflating: ./data/segmented-images/masks/cju5wmvsdlx1j0871npgj8j4b.jpg  \n",
      "  inflating: ./data/segmented-images/masks/cju8b3ka8r64u0801fh18hk7l.jpg  \n",
      "  inflating: ./data/segmented-images/masks/cju8a3nhbpwnb0850d37fo2na.jpg  \n",
      "  inflating: ./data/segmented-images/masks/cju2ntxtdzlvu0799xl3j9pan.jpg  \n",
      "  inflating: ./data/segmented-images/masks/cju5vzjoslpj708186z2fusmz.jpg  \n",
      "  inflating: ./data/segmented-images/masks/cju1fuoa4wmc50835qfd11sp9.jpg  \n",
      "  inflating: ./data/segmented-images/masks/cju5vwbr4lhqn0987a1pji0ux.jpg  \n",
      "  inflating: ./data/segmented-images/masks/cju2lyynuymli0855g7fxgbhe.jpg  \n",
      "  inflating: ./data/segmented-images/masks/cju41kd7yl4nm0850gil5qqwh.jpg  \n",
      "  inflating: ./data/segmented-images/masks/cju33jon3ygbj0993pu22a4k6.jpg  \n",
      "  inflating: ./data/segmented-images/masks/cju1gi7jlwyld0835cdf6g6qz.jpg  \n",
      "  inflating: ./data/segmented-images/masks/cju7dqcwi2dz00850gcmr2ert.jpg  \n",
      "  inflating: ./data/segmented-images/masks/cju83kxitjv340987z09m0ezy.jpg  \n",
      "  inflating: ./data/segmented-images/masks/cju2mh8t6p07008350e01tx2a.jpg  \n",
      "  inflating: ./data/segmented-images/masks/cju40taxlkrho0987smigg0x0.jpg  \n",
      "  inflating: ./data/segmented-images/masks/cju31rb7vb6110801p9rhacuw.jpg  \n",
      "  inflating: ./data/segmented-images/masks/cju34zivp3fq80988opxbaqyn.jpg  \n",
      "  inflating: ./data/segmented-images/masks/cju87mrypnb1e0818scv1mxxg.jpg  \n",
      "  inflating: ./data/segmented-images/masks/cju1fjsb4sipq09931lvd8e41.jpg  \n",
      "  inflating: ./data/segmented-images/masks/cju2zrojo9kcd0878ld2epejq.jpg  \n",
      "  inflating: ./data/segmented-images/masks/cju1cbokpuiw70988j4lq1fpi.jpg  \n",
      "  inflating: ./data/segmented-images/masks/cju7b5afm1nfw0801xqm8bf8q.jpg  \n",
      "  inflating: ./data/segmented-images/masks/cju5waeduln160817w0agirve.jpg  \n",
      "  inflating: ./data/segmented-images/masks/cju7do8c72dbo0801vxfzxdc4.jpg  \n",
      "  inflating: ./data/segmented-images/masks/cju15l5ubz9yh0855b3ivdpse.jpg  \n",
      "  inflating: ./data/segmented-images/masks/cju1cdxvz48hw0801i0fjwcnk.jpg  \n",
      "  inflating: ./data/segmented-images/masks/cju2yw4s7z7p20988lmf2gdgd.jpg  \n",
      "  inflating: ./data/segmented-images/masks/cju3v664kh0px0818y4y7wolf.jpg  \n",
      "  inflating: ./data/segmented-images/masks/cju5xneamme2p0801qdf7fdwv.jpg  \n",
      "  inflating: ./data/segmented-images/masks/cju2lcyfgkf5809932fn9gucn.jpg  \n",
      "  inflating: ./data/segmented-images/masks/cju85a8h8llwm07559wxg4t5w.jpg  \n",
      "  inflating: ./data/segmented-images/masks/cju426tomlhll0818fc0i7nvh.jpg  \n",
      "  inflating: ./data/segmented-images/masks/cju0vtox5ain6099360pu62rp.jpg  \n",
      "  inflating: ./data/segmented-images/masks/cju1b75x63ddl0799sdp0i2j3.jpg  \n",
      "  inflating: ./data/segmented-images/masks/cju2phaksnahz0993yxogjcpv.jpg  \n",
      "  inflating: ./data/segmented-images/masks/cju33yemn2qb20988wfjxximx.jpg  \n",
      "  inflating: ./data/segmented-images/masks/cju3128yi0rpu0988o4oo5n8n.jpg  \n",
      "  inflating: ./data/segmented-images/masks/cju7afqon1ip40850ue2308b6.jpg  \n",
      "  inflating: ./data/segmented-images/masks/cju5hl8nee8a40755fm8qjj0o.jpg  \n",
      "  inflating: ./data/segmented-images/masks/cju8abobpqbir08189u01huru.jpg  \n",
      "  inflating: ./data/segmented-images/masks/cju7awzmu1ncs0871hziy65zx.jpg  \n",
      "  inflating: ./data/segmented-images/masks/cju7ejm2l2ncl0801wq6y84nw.jpg  \n",
      "  inflating: ./data/segmented-images/masks/cju8bi8q7rlmn0871abc5ch8k.jpg  \n",
      "  inflating: ./data/segmented-images/masks/cju5xq3tdm9fn0987pbedxdg5.jpg  \n",
      "  inflating: ./data/segmented-images/masks/cju6vvxsev9y30987kespucdg.jpg  \n",
      "  inflating: ./data/segmented-images/masks/cju5fi0yxd3ei0801v7u0yudn.jpg  \n",
      "  inflating: ./data/segmented-images/masks/cju7d7aut2a2p0818z4uxc6cd.jpg  \n",
      "  inflating: ./data/segmented-images/masks/cju8auylgqx0z0871u4o4db7o.jpg  \n",
      "  inflating: ./data/segmented-images/masks/cju1dg44i4z3w0801nyz4p6zf.jpg  \n",
      "  inflating: ./data/segmented-images/masks/cju1dia8hvc6v098827mgffnm.jpg  \n",
      "  inflating: ./data/segmented-images/masks/cju2trtjf4qjd0878a2zle9v9.jpg  \n",
      "  inflating: ./data/segmented-images/masks/cju2t2ivz43i10878zeg8r1br.jpg  \n",
      "  inflating: ./data/segmented-images/masks/cju31t8xd17bk0835rnb893jk.jpg  \n",
      "  inflating: ./data/segmented-images/masks/cju8axq24r4an0755yhv9d4ly.jpg  \n",
      "  inflating: ./data/segmented-images/masks/cju5gucasds9d0801019axylx.jpg  \n",
      "  inflating: ./data/segmented-images/masks/cju6us80mv1b50871ebyq2wxa.jpg  \n",
      "  inflating: ./data/segmented-images/masks/cju2s2527pfyr0993l3h1149a.jpg  \n",
      "  inflating: ./data/segmented-images/masks/cju5klveuff6w0871wbibgh3m.jpg  \n",
      "  inflating: ./data/segmented-images/masks/cju88fpm4o0tl0871w1i6a4ds.jpg  \n",
      "  inflating: ./data/segmented-images/masks/cju1fm3id6gl50801r3fok20c.jpg  \n",
      "  inflating: ./data/segmented-images/masks/cju16d65tzw9d0799ouslsw25.jpg  \n",
      "  inflating: ./data/segmented-images/masks/cju6w733bveoz0817e600tw72.jpg  \n",
      "  inflating: ./data/segmented-images/masks/cju2qs32r1vys07999conmbvx.jpg  \n",
      "  inflating: ./data/segmented-images/masks/cju2zdvjn9h7r08553cp4eed5.jpg  \n",
      "  inflating: ./data/segmented-images/masks/cju2hgsptlfam0835o3b59h1o.jpg  \n",
      "  inflating: ./data/segmented-images/masks/cju5yhgznmkzb0801cji2vi8j.jpg  \n",
      "  inflating: ./data/segmented-images/masks/cju7dvl5m2n4t0755hlnnjjet.jpg  \n",
      "  inflating: ./data/segmented-images/masks/cju6ut4l8va6y0755tyw3vfqq.jpg  \n",
      "  inflating: ./data/segmented-images/masks/cju6ur9l9v9jq0755paud9uka.jpg  \n",
      "  inflating: ./data/segmented-images/masks/cju18ibp219ub08783i6o98g7.jpg  \n",
      "  inflating: ./data/segmented-images/masks/cju2hewssldzx0835ep795xu0.jpg  \n",
      "  inflating: ./data/segmented-images/masks/cju3xvoo2iqlc0817eku2r3wl.jpg  \n",
      "  inflating: ./data/segmented-images/masks/cju2r7h21sj9608354gzks3ae.jpg  \n",
      "  inflating: ./data/segmented-images/masks/cju5k7r0yf98c09878csbxb4d.jpg  \n",
      "  inflating: ./data/segmented-images/masks/cju43h43am1dy08176gwfhmnt.jpg  \n",
      "  inflating: ./data/segmented-images/masks/cju2rnkt22xep0801as160g9t.jpg  \n",
      "  inflating: ./data/segmented-images/masks/cju32l161bi1v07990vm376in.jpg  \n",
      "  inflating: ./data/segmented-images/masks/cju5k3j3uf6de0817hszzfr7n.jpg  \n",
      "  inflating: ./data/segmented-images/masks/cju2hugv9vget0799hhk7ksvg.jpg  \n",
      "  inflating: ./data/segmented-images/masks/cju7aez2x1jtj0871ztezs3oi.jpg  \n",
      "  inflating: ./data/segmented-images/masks/cju1euuc65wm00799m4sjdnnn.jpg  \n",
      "  inflating: ./data/segmented-images/masks/cju330ofbc2l30801th5g3hw6.jpg  \n",
      "  inflating: ./data/segmented-images/masks/cju43lcnum9y10755bjs7z87f.jpg  \n",
      "  inflating: ./data/segmented-images/masks/cju14g8o4xui30878gkgbrvqj.jpg  \n",
      "  inflating: ./data/segmented-images/masks/cju2z45kuzf6d0988nz2c819m.jpg  \n",
      "  inflating: ./data/segmented-images/masks/cju30j1rgadut0801vuyrsnt8.jpg  \n",
      "  inflating: ./data/segmented-images/masks/cju8cgi2kspp308011nxdtjp6.jpg  \n",
      "  inflating: ./data/segmented-images/masks/cju1f79yhsb5w0993txub59ol.jpg  \n",
      "  inflating: ./data/segmented-images/masks/cju33x0f22peh0988g0ln7w5v.jpg  \n",
      "  inflating: ./data/segmented-images/masks/cju85c2d4ln1b0755zz1z3onx.jpg  \n",
      "  inflating: ./data/segmented-images/masks/cju2syxa93yw40799x2iuwabz.jpg  \n",
      "  inflating: ./data/segmented-images/masks/cju3xuj20ivgp0818mij8bjrd.jpg  \n",
      "  inflating: ./data/segmented-images/masks/cju33o12x2jm50988944mxq0v.jpg  \n",
      "  inflating: ./data/segmented-images/masks/cju5thdbrjp1108715xdfx356.jpg  \n",
      "  inflating: ./data/segmented-images/masks/cju17r8il13910799dr2wme2e.jpg  \n",
      "  inflating: ./data/segmented-images/masks/cju3y0pjrj1c30755nxekxccj.jpg  \n",
      "  inflating: ./data/segmented-images/masks/cju7f0ec32txj08184asb8w5f.jpg  \n",
      "  inflating: ./data/segmented-images/masks/cju87zv8lni0o0850hbbecbq6.jpg  \n",
      "  inflating: ./data/segmented-images/masks/cju88trl3ogi208716qvti51b.jpg  \n",
      "  inflating: ./data/segmented-images/masks/cju8bj2ssrmlm0871gc2ug2rs.jpg  \n",
      "  inflating: ./data/segmented-images/masks/cju1egh885m1l0855ci1lt37c.jpg  \n",
      "  inflating: ./data/segmented-images/masks/cju41p90plcsx08018cnzpndc.jpg  \n",
      "  inflating: ./data/segmented-images/masks/cju0tl3uz8blh0993wxvn7ly3.jpg  \n",
      "  inflating: ./data/segmented-images/masks/cju2hx006vidl0799igm81vmh.jpg  \n",
      "  inflating: ./data/segmented-images/masks/cju2spdagu1l50835da1f46fr.jpg  \n",
      "  inflating: ./data/segmented-images/masks/cju34o6dbd2lo0855aqlcy1hs.jpg  \n",
      "  inflating: ./data/segmented-images/masks/cju5ufn3skquf0818dhapnhba.jpg  \n",
      "  inflating: ./data/segmented-images/masks/cju30mm25a53s0799qa5wiqe8.jpg  \n",
      "  inflating: ./data/segmented-images/masks/cju1ddr6p4k5z08780uuuzit2.jpg  \n",
      "  inflating: ./data/segmented-images/masks/cju2zp89k9q1g0855k1x0f1xa.jpg  \n",
      "  inflating: ./data/segmented-images/masks/cju88nroho44508500129f1nh.jpg  \n",
      "  inflating: ./data/segmented-images/masks/cju76o55nymqd0871h31sph9w.jpg  \n",
      "  inflating: ./data/segmented-images/masks/cju160wshltz10993i1gmqxbe.jpg  \n",
      "  inflating: ./data/segmented-images/masks/cju2ouil2mssu0993hvxsed6d.jpg  \n",
      "  inflating: ./data/segmented-images/masks/cju1amqw6p8pw0993d9gc5crl.jpg  \n",
      "  inflating: ./data/segmented-images/masks/cju2rqo702wpx0855fn7d5cxh.jpg  \n",
      "  inflating: ./data/segmented-images/masks/cju843yjskhq30818qre4rwm2.jpg  \n",
      "  inflating: ./data/segmented-images/masks/cju2hjrqcvi2j0801bx1i6gxg.jpg  \n",
      "  inflating: ./data/segmented-images/masks/cju6v5ilsv8hk0850rb5sgh6o.jpg  \n",
      "  inflating: ./data/segmented-images/masks/cju2rmd2rsw9g09888hh1efu0.jpg  \n",
      "  inflating: ./data/segmented-images/masks/cju43kj2pm34f0850l28ahpni.jpg  \n",
      "  inflating: ./data/segmented-images/masks/cju2rxm8rpbaf0993o3qr2oph.jpg  \n",
      "  inflating: ./data/segmented-images/masks/cju5u4pywk81x0817vn9pe14z.jpg  \n",
      "  inflating: ./data/segmented-images/masks/cju88vx2uoocy075531lc63n3.jpg  \n",
      "  inflating: ./data/segmented-images/masks/cju30ov1oah920801mi8thuyg.jpg  \n",
      "  inflating: ./data/segmented-images/masks/cju7ae7bq1f820987toc8si1d.jpg  \n",
      "  inflating: ./data/segmented-images/masks/cju3xiic0ilzp0850lusrb42j.jpg  \n",
      "  inflating: ./data/segmented-images/masks/cju2urqpwvxw70835rvndvtsi.jpg  \n",
      "  inflating: ./data/segmented-images/masks/cju35740hzm0g0993zl5ic246.jpg  \n",
      "  inflating: ./data/segmented-images/masks/cju2rn0hasxri0835nfy3buay.jpg  \n",
      "  inflating: ./data/segmented-images/masks/cju357rxxdaz30878y2esjpjt.jpg  \n",
      "  inflating: ./data/segmented-images/masks/cju7fnfv02tt90801djnix9m8.jpg  \n",
      "  inflating: ./data/segmented-images/masks/cju89z6pqpqfx0817mfv8ixjc.jpg  \n",
      "  inflating: ./data/segmented-images/masks/cju7dz5yy2i7z0801ausi7rna.jpg  \n",
      "  inflating: ./data/segmented-images/masks/cju8ceacrsqkr0755hdz145es.jpg  \n",
      "  inflating: ./data/segmented-images/masks/cju17hw9hr9c5098800fu4u8e.jpg  \n",
      "  inflating: ./data/segmented-images/masks/cju8b542nr81x0871uxnkm9ih.jpg  \n",
      "  inflating: ./data/segmented-images/masks/cju5uhrdwkmsu0817ervv91l8.jpg  \n",
      "  inflating: ./data/segmented-images/masks/cju85dx63lic408017f0l0400.jpg  \n",
      "  inflating: ./data/segmented-images/masks/cju1egx9pvz2n0988eoy8jp23.jpg  \n",
      "  inflating: ./data/segmented-images/masks/cju88v2f9oi8w0871hx9auh01.jpg  \n",
      "  inflating: ./data/segmented-images/masks/cju7ekbo32pft0871fv7kzwb9.jpg  \n",
      "  inflating: ./data/segmented-images/masks/cju5uzmaol56l0817flxh4w9p.jpg  \n",
      "  inflating: ./data/segmented-images/masks/cju6vvb8svhed0801jjcquh5e.jpg  \n",
      "  inflating: ./data/segmented-images/masks/cju8brv16rx7f0818uf5n89pv.jpg  \n",
      "  inflating: ./data/segmented-images/masks/cju2rzpsmtb0f0835jabkbao1.jpg  \n",
      "  inflating: ./data/segmented-images/masks/cju16b6ynq8e40988m8vx0xnj.jpg  \n",
      "  inflating: ./data/segmented-images/masks/cju8914beokbf0850isxpocrk.jpg  \n",
      "  inflating: ./data/segmented-images/masks/cju8chxndsre008015uisl4si.jpg  \n",
      "  inflating: ./data/segmented-images/masks/cju5bwhapakm90987c1v4z46a.jpg  \n",
      "  inflating: ./data/segmented-images/masks/cju7da88w2eod0755wejzynvt.jpg  \n",
      "  inflating: ./data/segmented-images/masks/cju8c6hnxsdvr0801wn0vrsa6.jpg  \n",
      "  inflating: ./data/segmented-images/masks/cju2qu37qobl50993aw7ghcfq.jpg  \n",
      "  inflating: ./data/segmented-images/masks/cju2wxv0hxs2f09884w48v8fi.jpg  \n",
      "  inflating: ./data/segmented-images/masks/cju5ymyd8mmdc0801ry3by1xr.jpg  \n",
      "  inflating: ./data/segmented-images/masks/cju5wrrs0m2af0818vmnajbtw.jpg  \n",
      "  inflating: ./data/segmented-images/masks/cju7ff97z2ow40817u2r83my5.jpg  \n",
      "  inflating: ./data/segmented-images/masks/cju2zpw4q9vzr0801p0lysjdl.jpg  \n",
      "  inflating: ./data/segmented-images/masks/cju77b3wyz4160755qis4ljsb.jpg  \n",
      "  inflating: ./data/segmented-images/masks/cju85citjlnfm0755i4rk5tqj.jpg  \n",
      "  inflating: ./data/segmented-images/masks/cju887ftknop008177nnjt46y.jpg  \n",
      "  inflating: ./data/segmented-images/masks/cju77re6fz5bb0817vp9redjg.jpg  \n",
      "  inflating: ./data/segmented-images/masks/cju33qpdvc9g0087825jhf3s9.jpg  \n",
      "  inflating: ./data/segmented-images/masks/cju8b0jr0r2oi0801jiquetd5.jpg  \n",
      "  inflating: ./data/segmented-images/masks/cju32fhnhbds40799broyoptc.jpg  \n",
      "  inflating: ./data/segmented-images/masks/cju6xmqd9w0250817l5kxfnsk.jpg  \n",
      "  inflating: ./data/segmented-images/masks/cju2wve9v7esz0878mxsdcy04.jpg  \n",
      "  inflating: ./data/segmented-images/masks/cju3xtufwiv9c0818djsc4cqd.jpg  \n",
      "  inflating: ./data/segmented-images/masks/cju8dk7eztzup08182yxko5zh.jpg  \n",
      "  inflating: ./data/segmented-images/masks/cju5hi52odyf90817prvcwg45.jpg  \n",
      "  inflating: ./data/segmented-images/masks/cju7ezs7g2mxm098787atbran.jpg  \n",
      "  inflating: ./data/segmented-images/masks/cju1b0y2e396p08558ois175d.jpg  \n",
      "  inflating: ./data/segmented-images/masks/cju8aeei7q8k308173n9y4klv.jpg  \n",
      "  inflating: ./data/segmented-images/masks/cju1h89h6xbnx08352k2790o9.jpg  \n",
      "  inflating: ./data/segmented-images/masks/cju2xwm1s84l50799i60mq0pu.jpg  \n",
      "  inflating: ./data/segmented-images/masks/cju88cddensj00987788yotmg.jpg  \n",
      "  inflating: ./data/segmented-images/masks/cju3v3ac9gyz30755hfqwyp1i.jpg  \n",
      "  inflating: ./data/segmented-images/masks/cjyzkpsbjdsjq07211dfi4sru.jpg  \n",
      "  inflating: ./data/segmented-images/masks/cju30lncba3ny0878jwnous8n.jpg  \n",
      "  inflating: ./data/segmented-images/masks/cju2lz8vqktne0993fuym6drw.jpg  \n",
      "  inflating: ./data/segmented-images/masks/cju1fmsyf6gxb0801cimx2gle.jpg  \n",
      "  inflating: ./data/segmented-images/masks/cju14pxbaoksp0835qzorx6g6.jpg  \n",
      "  inflating: ./data/segmented-images/masks/cju1djtprvd7b0988thwwrg09.jpg  \n",
      "  inflating: ./data/segmented-images/masks/cju7b2l561oas0871decgslaf.jpg  \n",
      "  inflating: ./data/segmented-images/masks/cju1c4fcu40hl07992b8gj0c8.jpg  \n",
      "  inflating: ./data/segmented-images/masks/cju7eueum2oqn0850rodmx8zo.jpg  \n",
      "  inflating: ./data/segmented-images/masks/cju42py9mlqyd0818u3d1d7ga.jpg  \n",
      "  inflating: ./data/segmented-images/masks/cju84hibuktj80871u519o71q.jpg  \n",
      "  inflating: ./data/segmented-images/masks/cju42tauqlo5p08171l3cuo4b.jpg  \n",
      "  inflating: ./data/segmented-images/masks/cju8bzzy2s66m08016z6mouqt.jpg  \n",
      "  inflating: ./data/segmented-images/masks/cju41lojblbs307555jdci937.jpg  \n",
      "  inflating: ./data/segmented-images/masks/cju85ia1slh220987y7c20sm2.jpg  \n",
      "  inflating: ./data/segmented-images/masks/cju83vvmik9wa08710yeh7cuk.jpg  \n",
      "  inflating: ./data/segmented-images/masks/cju1hp9i2xu8e0988u2dazk7m.jpg  \n",
      "  inflating: ./data/segmented-images/masks/cju5b9oyda4yr0850g9viziyv.jpg  \n",
      "  inflating: ./data/segmented-images/masks/cju2p4ddkmzxj0993p94o62av.jpg  \n",
      "  inflating: ./data/segmented-images/masks/cju8adb60qbiu080188mxpf8d.jpg  \n",
      "  inflating: ./data/segmented-images/masks/cju5es375cnzy0801nkq35ffs.jpg  \n",
      "  inflating: ./data/segmented-images/masks/cju5wphwwlu3m0987hh3ltg88.jpg  \n",
      "  inflating: ./data/segmented-images/masks/cju353d1eda8c07992afde611.jpg  \n",
      "  inflating: ./data/segmented-images/masks/cju34ymm8d6700799uop0cw33.jpg  \n",
      "  inflating: ./data/segmented-images/masks/cju785htizjzo08017tvlhtg4.jpg  \n",
      "  inflating: ./data/segmented-images/masks/cju2qtee81yd708787bsjr75d.jpg  \n",
      "  inflating: ./data/segmented-images/masks/cju34eqjpcpm508788b3lhp97.jpg  \n",
      "  inflating: ./data/segmented-images/masks/cju6z2616wqbk07555bvnuyr1.jpg  \n",
      "  inflating: ./data/segmented-images/masks/cju7aqkue1i2k09879uzcpt8r.jpg  \n",
      "  inflating: ./data/segmented-images/masks/cju2r2obh2bjm08553kng0rh7.jpg  \n",
      "  inflating: ./data/segmented-images/masks/cju17z0qongpa0993de4boim4.jpg  \n",
      "  inflating: ./data/segmented-images/masks/cju774fmayxif0818u2g79usw.jpg  \n",
      "  inflating: ./data/segmented-images/masks/cju1euant5l960878iqj5vvto.jpg  \n",
      "  inflating: ./data/segmented-images/masks/cju2t16vuucaq0835xcpsivn2.jpg  \n",
      "  inflating: ./data/segmented-images/masks/cju1g4nsb6ngy0799l4ezm8ab.jpg  \n",
      "  inflating: ./data/segmented-images/masks/cju2wx0gh7fpz0878wwyd9ep8.jpg  \n",
      "  inflating: ./data/segmented-images/masks/cju5cky5xb0ay0801oxet697t.jpg  \n",
      "  inflating: ./data/segmented-images/masks/cju7ap09p1kz10850ldccjebj.jpg  \n",
      "  inflating: ./data/segmented-images/masks/cju42qet0lsq90871e50xbnuv.jpg  \n",
      "  inflating: ./data/segmented-images/masks/cju32pzh9bpw10855q4vaxfhe.jpg  \n",
      "  inflating: ./data/segmented-images/masks/cju2rga4psq9n09881z519xx0.jpg  \n",
      "  inflating: ./data/segmented-images/masks/cju76lsehyia10987u54vn8rb.jpg  \n",
      "  inflating: ./data/segmented-images/masks/cju7ey10f2rvf0871bwbi9x82.jpg  \n",
      "  inflating: ./data/segmented-images/masks/cju41s6nbleqy0755e2mslg0b.jpg  \n",
      "  inflating: ./data/segmented-images/masks/cju40w3hbkwpn08015rbs3wko.jpg  \n",
      "  inflating: ./data/segmented-images/masks/cju2m71z2ywwv080131bcrsd3.jpg  \n",
      "  inflating: ./data/segmented-images/masks/cju7bd1qu1mx409877xjxibox.jpg  \n",
      "  inflating: ./data/segmented-images/masks/cju7aifyo1p3n07552nxjx51f.jpg  \n",
      "  inflating: ./data/segmented-images/masks/cju35ldepdtlm0801yv79y8vu.jpg  \n",
      "  inflating: ./data/segmented-images/masks/cju2ij9uiic2l09933ljiv6gm.jpg  \n",
      "  inflating: ./data/segmented-images/masks/cju7agj961l2r0818z29iq8yn.jpg  \n",
      "  inflating: ./data/segmented-images/masks/cju6vrs1ov8cr098788h8gs6j.jpg  \n",
      "  inflating: ./data/segmented-images/masks/cju7cue9b232j0801qdzk1ykj.jpg  \n",
      "  inflating: ./data/segmented-images/masks/cju5vbo6jldrt0871jf6f1700.jpg  \n",
      "  inflating: ./data/segmented-images/masks/cju3y9difj6th0801kd1rqm3w.jpg  \n",
      "  inflating: ./data/segmented-images/masks/cju1871y11d6r0799k6cw4yze.jpg  \n",
      "  inflating: ./data/segmented-images/masks/cju2nsmwjlzyl0993jl80chvz.jpg  \n",
      "  inflating: ./data/segmented-images/masks/cju3521y5d5mq0878t3ezsu4p.jpg  \n",
      "  inflating: ./data/segmented-images/masks/cju83rcnzkbsj0755x5anfrcg.jpg  \n",
      "  inflating: ./data/segmented-images/masks/cju8bop5jrsid08716i24fqda.jpg  \n",
      "  inflating: ./data/segmented-images/masks/cju8ando2qqdo0818ck7i1be1.jpg  \n",
      "  inflating: ./data/segmented-images/masks/cju85nr8elly209872w9n5m0s.jpg  \n",
      "  inflating: ./data/segmented-images/masks/cju35oyvd3y850988km12hdz1.jpg  \n",
      "  inflating: ./data/segmented-images/masks/cju8c9akjsdjj0850s67uzlxq.jpg  \n",
      "  inflating: ./data/segmented-images/masks/cju35eg0tdmjt085525sb4bua.jpg  \n",
      "  inflating: ./data/segmented-images/masks/cju5bdwa3aatx0818b79i18zf.jpg  \n",
      "  inflating: ./data/segmented-images/masks/cju5von04litr08718j8po40a.jpg  \n",
      "  inflating: ./data/segmented-images/masks/cju32upim1z7u0988l883nqp6.jpg  \n",
      "  inflating: ./data/segmented-images/masks/cju2zm0axztpe0988r8s9twjr.jpg  \n",
      "  inflating: ./data/segmented-images/masks/cju7epwj82koz098713apjnzo.jpg  \n",
      "  inflating: ./data/segmented-images/masks/cju84ffdzkrjn08183jh1fxmb.jpg  \n",
      "  inflating: ./data/segmented-images/masks/cju2u73dj53oz0878486k8k4b.jpg  \n",
      "  inflating: ./data/segmented-images/masks/cju2nyc5f02m40801ojqbtiea.jpg  \n",
      "  inflating: ./data/segmented-images/masks/cju76l27oyrw907551ri2a7fl.jpg  \n",
      "  inflating: ./data/segmented-images/masks/cju772304yw5t0818vbw8kkjf.jpg  \n",
      "  inflating: ./data/segmented-images/masks/cju6xa0qmvzun0818xjukgncj.jpg  \n",
      "  inflating: ./data/segmented-images/masks/cju7787c5yy3l080159mwqsnj.jpg  \n",
      "  inflating: ./data/segmented-images/masks/cju2y26c588bo07993ksd8eoz.jpg  \n",
      "  inflating: ./data/segmented-images/masks/cju5kre09fhka0850h7b1898j.jpg  \n",
      "  inflating: ./data/segmented-images/masks/cju8cj10qsrau0871o2dr6ai1.jpg  \n",
      "  inflating: ./data/segmented-images/masks/cju2pkwt3r8b90988v2ywq1px.jpg  \n",
      "  inflating: ./data/segmented-images/masks/cju42u5bjlvi10801dc13sskp.jpg  \n",
      "  inflating: ./data/segmented-images/masks/cju7dizi82h2i0755doucgnt3.jpg  \n",
      "  inflating: ./data/segmented-images/masks/cju3x9lttikfb0818a0g104zn.jpg  \n",
      "  inflating: ./data/segmented-images/masks/cju31ugmfb3dz0855xtqshki6.jpg  \n",
      "  inflating: ./data/segmented-images/masks/cju424hy5lckr085073fva1ok.jpg  \n",
      "  inflating: ./data/segmented-images/masks/cju7azuu31mia0801pf9ib5ed.jpg  \n",
      "  inflating: ./data/segmented-images/masks/cju40u30gkuzc0871rq7t666d.jpg  \n",
      "  inflating: ./data/segmented-images/masks/cju8apjewqrk00801k5d71gky.jpg  \n",
      "  inflating: ./data/segmented-images/masks/cju1haab178i70799tk9z8y8x.jpg  \n",
      "  inflating: ./data/segmented-images/masks/cju5wuhm1lwm40987vugqn3vv.jpg  \n",
      "  inflating: ./data/segmented-images/masks/cju7etr3y2p4t0801cdzjj8ab.jpg  \n",
      "  inflating: ./data/segmented-images/masks/cju1dhfok4mhe0878jlgrag0h.jpg  \n",
      "  inflating: ./data/segmented-images/masks/cju2otvvv0l7z0855x7we8cb0.jpg  \n",
      "  inflating: ./data/segmented-images/masks/cju5wj0faly5008187n6530af.jpg  \n",
      "  inflating: ./data/segmented-images/masks/cju7ea4om2l910801bohqjccy.jpg  \n",
      "  inflating: ./data/segmented-images/masks/cju1d50a94qf50855wsowacrc.jpg  \n",
      "  inflating: ./data/segmented-images/masks/cju2oo0wh0bqy0878biujeyhe.jpg  \n",
      "  inflating: ./data/segmented-images/masks/cju18kevfrojc0835bn90f1in.jpg  \n",
      "  inflating: ./data/segmented-images/masks/cju5c7oijaqmq09878qwgqv8n.jpg  \n",
      "  inflating: ./data/segmented-images/masks/cju7bduyq1rjf08719giru9ho.jpg  \n",
      "  inflating: ./data/segmented-images/masks/cju5fw37edaae0801vkwvocn7.jpg  \n",
      "  inflating: ./data/segmented-images/masks/cju83wwn1k55e0850kw6i2d81.jpg  \n",
      "  inflating: ./data/segmented-images/masks/cju0ue769mxii08019zqgdbxn.jpg  \n",
      "  inflating: ./data/segmented-images/masks/cju5hwonqedw10801vsd3w6kk.jpg  \n",
      "  inflating: ./data/segmented-images/masks/cju2uy8ox62jo0801g88hh42z.jpg  \n",
      "  inflating: ./data/segmented-images/masks/cju3tx1qyg0c907552fglumhc.jpg  \n",
      "  inflating: ./data/segmented-images/masks/cju3v11mrgwwb0755u242ygye.jpg  \n",
      "  inflating: ./data/segmented-images/masks/cju2suk42469908015ngmq6f2.jpg  \n",
      "  inflating: ./data/segmented-images/masks/cju7dsrtb2f8i085064kwugfk.jpg  \n",
      "  inflating: ./data/segmented-images/masks/cju8dm2cau2km0818jsv9eeq2.jpg  \n",
      "  inflating: ./data/segmented-images/masks/cju784jpdzeae0987q5ypq883.jpg  \n",
      "  inflating: ./data/segmented-images/masks/cju885ikhnmkn09878s2lqtuh.jpg  \n",
      "  inflating: ./data/segmented-images/masks/cju45ty6zn9oz0850qy4qnck1.jpg  \n",
      "  inflating: ./data/segmented-images/masks/ck2bxlujamu330725szlc2jdu.jpg  \n",
      "  inflating: ./data/segmented-images/masks/cju5yclrymlgj0818k426ud6z.jpg  \n",
      "  inflating: ./data/segmented-images/masks/cju5clr68b48r0755cmuvponm.jpg  \n",
      "  inflating: ./data/segmented-images/masks/cju32srle1xfq083575i3fl75.jpg  \n",
      "  inflating: ./data/segmented-images/masks/cju3ya7goj6at0818v2l5ay7f.jpg  \n",
      "  inflating: ./data/segmented-images/masks/cju1d31sp4d4k0878r3fr02ul.jpg  \n",
      "  inflating: ./data/segmented-images/masks/cju422cm8lfxn0818ojicxejb.jpg  \n",
      "  inflating: ./data/segmented-images/masks/cju783tmkzkqu081803g7q5vk.jpg  \n",
      "  inflating: ./data/segmented-images/masks/cju1h5w4wxajx0835mc954kxy.jpg  \n",
      "  inflating: ./data/segmented-images/masks/cju30k2z40ds308353kdew70n.jpg  \n",
      "  inflating: ./data/segmented-images/masks/cju7et17a2vjk0755e743npl1.jpg  \n",
      "  inflating: ./data/segmented-images/masks/cju85omszllp30850b6rm9mi3.jpg  \n",
      "  inflating: ./data/segmented-images/masks/cju32qr9tbvsj08013pkpjenq.jpg  \n",
      "  inflating: ./data/segmented-images/masks/cju7dp3dw2k4n0755zhe003ad.jpg  \n",
      "  inflating: ./data/segmented-images/masks/cju2ti1du4idn0878giuozonw.jpg  \n",
      "  inflating: ./data/segmented-images/masks/ck2da7fwcjfis07218r1rvm95.jpg  \n",
      "  inflating: ./data/segmented-images/masks/cju2rpa30t07b0835im0erql0.jpg  \n",
      "  inflating: ./data/segmented-images/masks/cju5o1vu9gz8a0818eyy92bns.jpg  \n",
      "  inflating: ./data/segmented-images/masks/cju2xbk0080y80801eghyddi2.jpg  \n",
      "  inflating: ./data/segmented-images/masks/cju3xl264ingx0850rcf0rshj.jpg  \n",
      "  inflating: ./data/segmented-images/masks/cju2z9vlp9j0w0801oag91sy9.jpg  \n",
      "  inflating: ./data/segmented-images/masks/cju77bvg0yv4r0987yh60xmjo.jpg  \n",
      "  inflating: ./data/segmented-images/masks/cju3xwpgviwlx0871rwm15q7v.jpg  \n",
      "  inflating: ./data/segmented-images/masks/cju43o6n7m9nk087191ijwqq9.jpg  \n",
      "  inflating: ./data/segmented-images/masks/cju6v1m1xv07w09870ah3njy1.jpg  \n",
      "  inflating: ./data/segmented-images/masks/cju15ptjtppz40988odsm9azx.jpg  \n",
      "  inflating: ./data/segmented-images/masks/cju6yxyt0wh080871sqpepu47.jpg  \n",
      "  inflating: ./data/segmented-images/masks/cju45lbgznahl08180xz1h7u6.jpg  \n",
      "  inflating: ./data/segmented-images/masks/cju5xopi0md7q0871r1sjc1av.jpg  \n",
      "  inflating: ./data/segmented-images/masks/cju5wtdu4m0im0871mix0yvc0.jpg  \n",
      "  inflating: ./data/segmented-images/masks/cju5f26ebcuai0818xlwh6116.jpg  \n",
      "  inflating: ./data/segmented-images/masks/cju6yywx1whbb0871ksgfgf9f.jpg  \n",
      "  inflating: ./data/segmented-images/masks/cju6vucxvvlda0755j7msqnya.jpg  \n",
      "  inflating: ./data/segmented-images/masks/cju30gxjq0djk0988jytm49rs.jpg  \n",
      "  inflating: ./data/segmented-images/masks/cju303j5r062k098835zxfds5.jpg  \n",
      "  inflating: ./data/segmented-images/masks/cju35c4wzdhow0799h6eq4sgs.jpg  \n",
      "  inflating: ./data/segmented-images/masks/cju5bbtwsa8cl0987wgfsqpao.jpg  \n",
      "  inflating: ./data/segmented-images/masks/cju35atpxdjot0855q46aqrd0.jpg  \n",
      "  inflating: ./data/segmented-images/masks/cju5buy2bal250818ipl6fqwv.jpg  \n",
      "  inflating: ./data/segmented-images/masks/cju3uwz6ogsp10801h2r3bj5l.jpg  \n",
      "  inflating: ./data/segmented-images/masks/cju5wrapcm2290818jsh26ppb.jpg  \n",
      "  inflating: ./data/segmented-images/masks/cju45qbf3n9sa0987oonbkly9.jpg  \n",
      "  inflating: ./data/segmented-images/masks/cju43c92lm5cj0755lorsorfg.jpg  \n",
      "  inflating: ./data/segmented-images/masks/cju2zi4l09f5807991s8do2b2.jpg  \n",
      "  inflating: ./data/segmented-images/masks/cju77vvcwzcm50850lzoykuva.jpg  \n",
      "  inflating: ./data/segmented-images/masks/cju77u1sjz77b0817ft44r3fk.jpg  \n",
      "  inflating: ./data/segmented-images/masks/cju88gx09o2vk0818610zody3.jpg  \n",
      "  inflating: ./data/segmented-images/masks/cju2i03ptvkiu0799xbbd4det.jpg  \n",
      "  inflating: ./data/segmented-images/masks/cju7alcgr1lsr0871riqk84z7.jpg  \n",
      "  inflating: ./data/segmented-images/masks/cju7bb3ss1uoo0755pmhyco7t.jpg  \n",
      "  inflating: ./data/segmented-images/masks/cju5wi6bqlxy90755bu227nvb.jpg  \n",
      "  inflating: ./data/segmented-images/masks/cju7aklv31h4309871m29l4e7.jpg  \n",
      "  inflating: ./data/segmented-images/masks/cju5bf6hxa6m50817rbwettgu.jpg  \n",
      "  inflating: ./data/segmented-images/masks/cju1bhnfitmge0835ynls0l6b.jpg  \n",
      "  inflating: ./data/segmented-images/masks/cju8djdqztu6408506pzhlo18.jpg  \n",
      "  inflating: ./data/segmented-images/masks/cju18849rrsgr0988p90hkygb.jpg  \n",
      "  inflating: ./data/segmented-images/masks/cju8clorgsuwn08714toqb7v6.jpg  \n",
      "  inflating: ./data/segmented-images/masks/cju3ttznuftyf09875t11850w.jpg  \n",
      "  inflating: ./data/segmented-images/masks/cju35mdz73x890835eynq1h9v.jpg  \n",
      "  inflating: ./data/segmented-images/masks/cju5bmhdcafs909878qfzrqzi.jpg  \n",
      "  inflating: ./data/segmented-images/masks/cju8bssulrrcy0987h1vq5060.jpg  \n",
      "  inflating: ./data/segmented-images/masks/cju5huurrecm70801y680y13m.jpg  \n",
      "  inflating: ./data/segmented-images/masks/cju87ox0kncom0801b98hqnd2.jpg  \n",
      "  inflating: ./data/segmented-images/masks/cju30525w04r10835ygp257sb.jpg  \n",
      "  inflating: ./data/segmented-images/masks/cju8chdlqsu620755azjty1tj.jpg  \n",
      "  inflating: ./data/segmented-images/masks/cju30bmab08bi0835mvlr6e0r.jpg  \n",
      "  inflating: ./data/segmented-images/masks/cju5uxjnol2r509871qv2yeia.jpg  \n",
      "  inflating: ./data/segmented-images/masks/cju2saez63gxl08559ucjq3kt.jpg  \n",
      "  inflating: ./data/segmented-images/masks/cju5w7xn0lrkq0801f9k0htgx.jpg  \n",
      "  inflating: ./data/segmented-images/masks/cju7frtqu2xa20818wq8r9fzf.jpg  \n",
      "  inflating: ./data/segmented-images/masks/cju83nwu1jxte0987h1krpfmv.jpg  \n",
      "  inflating: ./data/segmented-images/masks/cju7fbndk2sl608015ravktum.jpg  \n",
      "  inflating: ./data/segmented-images/masks/cju3x7xsaijq80818f0psavav.jpg  \n",
      "  inflating: ./data/segmented-images/masks/cju6x97w4vwua0850x0997r0a.jpg  \n",
      "  inflating: ./data/segmented-images/masks/cju8bpctzrqkr0850zeldv9kt.jpg  \n",
      "  inflating: ./data/segmented-images/masks/cju2yv4imv6cz099314jveiib.jpg  \n",
      "  inflating: ./data/segmented-images/masks/cju42m60jlpcm08186kqppzqv.jpg  \n",
      "  inflating: ./data/segmented-images/masks/cju5jz5fff8c50871hbe6108f.jpg  \n",
      "  inflating: ./data/segmented-images/masks/cju2y8s56ymqr083541ggdsml.jpg  \n",
      "  inflating: ./data/segmented-images/masks/cju773hsyyosz0817pk1e7sjq.jpg  \n",
      "  inflating: ./data/segmented-images/masks/cju35k2fr3vc50988c85qkrwg.jpg  \n",
      "  inflating: ./data/segmented-images/masks/cju40sdwukv3k0755y99ug1k8.jpg  \n",
      "  inflating: ./data/segmented-images/masks/cju2mfjndoz700988b9lc3zeq.jpg  \n",
      "  inflating: ./data/segmented-images/masks/cju7deifq2fzn0755lc8idyh8.jpg  \n",
      "  inflating: ./data/segmented-images/masks/cju7d7tly27h408016fyp5nr7.jpg  \n",
      "  inflating: ./data/segmented-images/masks/cju87kbcen2av0987usezo8kn.jpg  \n",
      "  inflating: ./data/segmented-images/masks/cju1aqqv02qwz0878a5cyhr67.jpg  \n",
      "  inflating: ./data/segmented-images/masks/cju2pjb9v0ywn0878j5g5n69j.jpg  \n",
      "  inflating: ./data/segmented-images/masks/cju1gkndf6yi10801o1qnje19.jpg  \n",
      "  inflating: ./data/segmented-images/masks/cju7apr0c1qqm0755s7msqot4.jpg  \n",
      "  inflating: ./data/segmented-images/masks/cju2qz06823a40878ojcz9ccx.jpg  \n",
      "  inflating: ./data/segmented-images/masks/cju7bc95p1mdm0817yqj5jc6j.jpg  \n",
      "  inflating: ./data/segmented-images/masks/cju1819curo000988pd5xcqme.jpg  \n",
      "  inflating: ./data/segmented-images/masks/cju1fyb1d69et0878muzdak9u.jpg  \n",
      "  inflating: ./data/segmented-images/masks/cju42romflni20817etb9a0fl.jpg  \n",
      "  inflating: ./data/segmented-images/masks/cju13hp5rnbjx0835bf0jowgx.jpg  \n",
      "  inflating: ./data/segmented-images/masks/cju849c23kgnk0817cgv2hw1e.jpg  \n",
      "  inflating: ./data/segmented-images/masks/cju5x15djm7ae0755h8czf6nt.jpg  \n",
      "  inflating: ./data/segmented-images/masks/cju0rx1idathl0835detmsp84.jpg  \n",
      "  inflating: ./data/segmented-images/masks/cju8bqxxurs6i0850mu7mtef9.jpg  \n",
      "  inflating: ./data/segmented-images/masks/cju2tqfgw4oat0799rn0g5b2z.jpg  \n",
      "  inflating: ./data/segmented-images/masks/cju1dnz61vfp40988e78bkjga.jpg  \n",
      "  inflating: ./data/segmented-images/masks/cju33za6l2qy70988jhrlp2ev.jpg  \n",
      "  inflating: ./data/segmented-images/masks/cju42nm68lpyo0818xvvqmupq.jpg  \n",
      "  inflating: ./data/segmented-images/masks/cju8bm24yrrdp081829mbo8ic.jpg  \n",
      "  inflating: ./data/segmented-images/masks/cju6vqarjv7yo0987q4b1btk1.jpg  \n",
      "  inflating: ./data/segmented-images/masks/cju7amjna1ly40871ugiokehb.jpg  \n",
      "  inflating: ./data/segmented-images/masks/cju2pmhtr17a00855cvpelzb0.jpg  \n",
      "  inflating: ./data/segmented-images/masks/cju2zblxw9848087853csbrx1.jpg  \n",
      "  inflating: ./data/segmented-images/masks/cju7fcgbe2z3p07550vaflqdb.jpg  \n",
      "  inflating: ./data/segmented-images/masks/cju7fob3x301u0755x985pmmq.jpg  \n",
      "  inflating: ./data/segmented-images/masks/cju84ih17kp5l09876bkooocl.jpg  \n",
      "  inflating: ./data/segmented-images/masks/cju1hs0za7jha0855vj0mdrjt.jpg  \n",
      "  inflating: ./data/segmented-images/masks/cju5x7iskmad90818frchyfwd.jpg  \n",
      "  inflating: ./data/segmented-images/masks/cju5ccpvqash50850kb4bs22k.jpg  \n",
      "  inflating: ./data/segmented-images/masks/cju5fb86jd1jp0755b1ukbhq5.jpg  \n",
      "  inflating: ./data/segmented-images/masks/cju846ec0kj7z08012o10klrb.jpg  \n",
      "  inflating: ./data/segmented-images/masks/cju33w4sdcivk0855x879zht7.jpg  \n",
      "  inflating: ./data/segmented-images/masks/cju87nkyrnb970801q84m47yt.jpg  \n",
      "  inflating: ./data/segmented-images/masks/cju8cbsyssiqj0871gr4jedjp.jpg  \n",
      "  inflating: ./data/segmented-images/masks/cju77k828z46w0871r0avuoo9.jpg  \n",
      "  inflating: ./data/segmented-images/masks/cju16jgnyzp970878melv7r25.jpg  \n",
      "  inflating: ./data/segmented-images/masks/cju2yyhsp933j0855hp32e012.jpg  \n",
      "  inflating: ./data/segmented-images/masks/cju87z6o6nh73085045bzsx6o.jpg  \n",
      "  inflating: ./data/segmented-images/masks/cju5cjh3xattc0817j2vbulzi.jpg  \n",
      "  inflating: ./data/segmented-images/masks/cju43mkj9m8wb0871qiadahub.jpg  \n",
      "  inflating: ./data/segmented-images/masks/cju8bysfgrzkl081786jwac09.jpg  \n",
      "  inflating: ./data/segmented-images/masks/cju1ftaji6isw0855108yqcse.jpg  \n",
      "  inflating: ./data/segmented-images/masks/cju8cdeazsm8h0801jxifmzur.jpg  \n",
      "  inflating: ./data/segmented-images/masks/cju33belnbyhm0878yxl42233.jpg  \n",
      "  inflating: ./data/segmented-images/masks/cju888fr7nveu0818r9uwtiit.jpg  \n",
      "  inflating: ./data/segmented-images/masks/cju890guyoiti098753yg6cdu.jpg  \n",
      "  inflating: ./data/segmented-images/masks/cju34sh43d8zm08019xbwhc0o.jpg  \n",
      "  inflating: ./data/segmented-images/masks/cju3x2s11ibzi0817kk284k0j.jpg  \n",
      "  inflating: ./data/segmented-images/masks/cju2wzu8wxtgu09880ku9x1pg.jpg  \n",
      "  inflating: ./data/segmented-images/masks/cju77q10sz9ug0801449wu1nu.jpg  \n",
      "  inflating: ./data/segmented-images/masks/cju3280wv1ir009882jze27tc.jpg  \n",
      "  inflating: ./data/segmented-images/masks/cju45jpvfn6c809873pv1i34s.jpg  \n",
      "  inflating: ./data/segmented-images/masks/cju30df2j09dd08351ayx2t6w.jpg  \n",
      "  inflating: ./data/segmented-images/masks/cju17bz250pgd0799u1hqkj5u.jpg  \n",
      "  inflating: ./data/segmented-images/masks/cju2t9tdwuk700835kv0ljmtl.jpg  \n",
      "  inflating: ./data/segmented-images/masks/ck2bxskgxxzfv08386xkqtqdy.jpg  \n",
      "  inflating: ./data/segmented-images/masks/cju7crgxa28550755wbsgqkel.jpg  \n",
      "  inflating: ./data/segmented-images/masks/cju2xa3i4y0160988i679zsqd.jpg  \n",
      "  inflating: ./data/segmented-images/masks/cju45n0oxn5vu08500yfrt9jn.jpg  \n",
      "  inflating: ./data/segmented-images/masks/cju3yb47cj1xq0817zfotbni4.jpg  \n",
      "  inflating: ./data/segmented-images/masks/cju88z8bson4h0871nnd7fdxo.jpg  \n",
      "  inflating: ./data/segmented-images/masks/cju5chrxxawka0871qcj171yz.jpg  \n",
      "  inflating: ./data/segmented-images/masks/cju1dq3x1vgx109889c7wyirg.jpg  \n",
      "  inflating: ./data/segmented-images/masks/cju40r6jrksyk0871wg98zgho.jpg  \n",
      "  inflating: ./data/segmented-images/masks/cju7bmi1v1pnj0987pa52jjok.jpg  \n",
      "  inflating: ./data/segmented-images/masks/cju2zwg05a0oy0801yr73ig7g.jpg  \n",
      "  inflating: ./data/segmented-images/masks/cju3umoh1geet0817cmpef5am.jpg  \n",
      "  inflating: ./data/segmented-images/masks/cju1alwgo30z60855fm3y23sm.jpg  \n",
      "  inflating: ./data/segmented-images/masks/cju2tpfa5uyx408359datxqqj.jpg  \n",
      "  inflating: ./data/segmented-images/masks/cju83syhdk6gs0801rf1rekdl.jpg  \n",
      "  inflating: ./data/segmented-images/masks/cju2htabevq9108015qjei0x7.jpg  \n",
      "  inflating: ./data/segmented-images/masks/cju8bafgqrf4x0818twisk3ea.jpg  \n",
      "  inflating: ./data/segmented-images/masks/cju7b9vcs1luz0987ta60j1dy.jpg  \n",
      "  inflating: ./data/segmented-images/masks/cju2hlm19vjjf0801o69qnber.jpg  \n",
      "  inflating: ./data/segmented-images/masks/cju8ca4geseia0850i2ru11hw.jpg  \n",
      "  inflating: ./data/segmented-images/masks/cju5y7buemcw80987p0r30g9f.jpg  \n",
      "  inflating: ./data/segmented-images/masks/cjyzjzssvd8pq0838f4nolj5l.jpg  \n",
      "  inflating: ./data/segmented-images/masks/cju2oq5570avm079959o20op1.jpg  \n",
      "  inflating: ./data/segmented-images/masks/cju3xhpvvimda0987ygrpzni2.jpg  \n",
      "  inflating: ./data/segmented-images/masks/cju324q101fhe08350wae9cif.jpg  \n",
      "  inflating: ./data/segmented-images/masks/cju8cwy02t9eq08185qn12c02.jpg  \n",
      "  inflating: ./data/segmented-images/masks/cju1ewnoh5z030855vpex9uzt.jpg  \n",
      "  inflating: ./data/segmented-images/masks/cju32csyfblyh080170aa3x5p.jpg  \n",
      "  inflating: ./data/segmented-images/masks/cju5vutu7ll8w0871dfp92n9p.jpg  \n",
      "  inflating: ./data/segmented-images/masks/cju18gzrq18zw0878wbf4ftw6.jpg  \n",
      "  inflating: ./data/segmented-images/masks/cju7cufm7298k0755j09uf3of.jpg  \n",
      "  inflating: ./data/segmented-images/masks/cju2hqt33lmra0988fr5ijv8j.jpg  \n",
      "  inflating: ./data/segmented-images/masks/cju3u1c8tfyqx08503iedc3mx.jpg  \n",
      "  inflating: ./data/segmented-images/masks/cju1f8w0t65en0799m9oacq0q.jpg  \n",
      "  inflating: ./data/segmented-images/masks/cju34m7h536wq0988xz7gx79v.jpg  \n",
      "  inflating: ./data/segmented-images/masks/cju6v6g6kvdw007552x6mb0po.jpg  \n",
      "  inflating: ./data/segmented-images/masks/cju418rckl3ur08012psrx1r1.jpg  \n",
      "  inflating: ./data/segmented-images/masks/cju5ktjwofed70817eg58ef7u.jpg  \n",
      "  inflating: ./data/segmented-images/masks/cju1c6yfz42md08550zgoz3pw.jpg  \n",
      "  inflating: ./data/segmented-images/masks/cju2qfie4rvz508357kad9z5o.jpg  \n",
      "  inflating: ./data/segmented-images/masks/cju5yjq1pmlgc0801z0t24bly.jpg  \n",
      "  inflating: ./data/segmented-images/masks/cju2xjz2ju8pe0993ysv9wg17.jpg  \n",
      "  inflating: ./data/segmented-images/masks/cju5ukkg6kv7u08011x2b6zl5.jpg  \n",
      "  inflating: ./data/segmented-images/masks/cju5xkwzxmf0z0818gk4xabdm.jpg  \n",
      "  inflating: ./data/segmented-images/masks/cju8azmhcr66e0755t61atz72.jpg  \n",
      "  inflating: ./data/segmented-images/masks/cju83u9ftk3ni0987qnhlcinv.jpg  \n",
      "  inflating: ./data/segmented-images/masks/cju3y79ofj3va0871uqfb1mzo.jpg  \n",
      "  inflating: ./data/segmented-images/masks/cju7d4jk723eu0817bqz2n39m.jpg  \n",
      "  inflating: ./data/segmented-images/masks/cju2i6acqvo6l0799u20fift8.jpg  \n",
      "  inflating: ./data/segmented-images/masks/cju7cq6su27qv075574dir0r3.jpg  \n",
      "  inflating: ./data/segmented-images/masks/cju2nfnvxzdkd0878399axlco.jpg  \n",
      "  inflating: ./data/segmented-images/masks/cju306x7w05nb0835cunv799x.jpg  \n",
      "  inflating: ./data/segmented-images/masks/cju5x28nzm7t907558ocq4bt7.jpg  \n",
      "  inflating: ./data/segmented-images/masks/cju7ahtkb1jr90801jck4kbds.jpg  \n",
      "  inflating: ./data/segmented-images/masks/cju83k8fyjsxr0817d6nxs6r4.jpg  \n",
      "  inflating: ./data/segmented-images/masks/cju17x0j4nfc10993y31pvlgs.jpg  \n",
      "  inflating: ./data/segmented-images/masks/cju3x5u2tiihx0818914gzxy1.jpg  \n",
      "  inflating: ./data/segmented-images/masks/cju5f0dezct4q08183ydw11dx.jpg  \n",
      "  inflating: ./data/segmented-images/masks/cju7b3f5h1sm40755i572jden.jpg  \n",
      "  inflating: ./data/segmented-images/masks/cju7ddtz729960801uazp1knc.jpg  \n",
      "  inflating: ./data/segmented-images/masks/cju87xn2snfmv0987sc3d9xnq.jpg  \n",
      "  inflating: ./data/segmented-images/masks/cju13cgqmnhwn0988yrainhcp.jpg  \n",
      "  inflating: ./data/segmented-images/masks/cju2hdr06v2bq0799mbm3bks1.jpg  \n",
      "  inflating: ./data/segmented-images/masks/cju15mhjczc8z0801kit5c6di.jpg  \n",
      "  inflating: ./data/segmented-images/masks/cju88k75inzyb0850ccv5x3vk.jpg  \n",
      "  inflating: ./data/segmented-images/masks/cju8c5223s8j80850b4kealt4.jpg  \n",
      "  inflating: ./data/segmented-images/masks/cju5ft6mcd5q40987rhjgbrr6.jpg  \n",
      "  inflating: ./data/segmented-images/masks/ck2bxknhjvs1x0794iogrq49k.jpg  \n",
      "  inflating: ./data/segmented-images/masks/cju5tgbzhjllu08174ca41eus.jpg  \n",
      "  inflating: ./data/segmented-images/masks/cju5vxuc5loxw0818u8xgf45p.jpg  \n",
      "  inflating: ./data/segmented-images/masks/cju1ats0y372e08011yazcsxm.jpg  \n",
      "  inflating: ./data/segmented-images/masks/cju2ycp1u8g2r0799jslnp7cz.jpg  \n",
      "  inflating: ./data/segmented-images/masks/cju5cetivauok0987ok3e5bre.jpg  \n",
      "  inflating: ./data/segmented-images/masks/cju886ryxnsl50801r93jai7q.jpg  \n",
      "  inflating: ./data/segmented-images/masks/cju2qozsk20cq0855ugrg3cri.jpg  \n",
      "  inflating: ./data/segmented-images/masks/cju2tvrvm53ws0801a0jfjdxg.jpg  \n",
      "  inflating: ./data/segmented-images/masks/cju7f4sc62xqj075597xpmuoy.jpg  \n",
      "  inflating: ./data/segmented-images/masks/cju6v4szov55u0871qmqz3v8n.jpg  \n",
      "  inflating: ./data/segmented-images/masks/cju857ad0l88m0817qx4cwxnf.jpg  \n",
      "  inflating: ./data/segmented-images/masks/cju5ygh1zmmdi0755uod5e17i.jpg  \n",
      "  inflating: ./data/segmented-images/masks/cju8d4jgatgpj0871q2ophhkm.jpg  \n",
      "  inflating: ./data/segmented-images/masks/cju3u4lxmg59o0755rz42b9en.jpg  \n",
      "  inflating: ./data/segmented-images/masks/cju33231uy4gi0993qc7b1jch.jpg  \n",
      "  inflating: ./data/segmented-images/masks/cju858eswlepn0871pzvdrhj1.jpg  \n",
      "  inflating: ./data/segmented-images/masks/cju8c5mxls96t0850wvkvsity.jpg  \n",
      "  inflating: ./data/segmented-images/masks/cju2r11x7sdgx0988o8ule0wl.jpg  \n",
      "  inflating: ./data/segmented-images/masks/cju6wjm81vgsc0987enk9n3pr.jpg  \n",
      "  inflating: ./data/segmented-images/masks/cju2np2k9zi3v079992ypxqkn.jpg  \n",
      "  inflating: ./data/segmented-images/masks/cju3ua8u0g9rg0801uayhdxhu.jpg  \n",
      "  inflating: ./data/segmented-images/masks/cju2p0eveqtdc0835gpi3p93i.jpg  \n",
      "  inflating: ./data/segmented-images/masks/cju1f15k3w4ct0835cmde6ypo.jpg  \n",
      "  inflating: ./data/segmented-images/masks/cju1f320ewfyu0988ndz6blh5.jpg  \n",
      "  inflating: ./data/segmented-images/masks/ck2bxpfgxu2mk0748gsh7xelu.jpg  \n",
      "  inflating: ./data/segmented-images/masks/cju45t5ddnbio0987qtqzx762.jpg  \n",
      "  inflating: ./data/segmented-images/masks/cju2hos57llxm08359g92p6jj.jpg  \n",
      "  inflating: ./data/segmented-images/masks/cju334jzo261t0835yqudnfs1.jpg  \n",
      "  inflating: ./data/segmented-images/masks/cju32jcdabepz0878d0cznmfe.jpg  \n",
      "  inflating: ./data/segmented-images/masks/cju31y80qbawn0801twwm2l5s.jpg  \n",
      "  inflating: ./data/segmented-images/masks/cju8a56vxpy780850r45yu4wk.jpg  \n",
      "  inflating: ./data/segmented-images/masks/cju8amfdtqi4x09871tygrgqe.jpg  \n",
      "  inflating: ./data/segmented-images/masks/cju1f5x1164xv08555654c24r.jpg  \n",
      "  inflating: ./data/segmented-images/masks/cju84gpefknwm098714oq8q61.jpg  \n",
      "  inflating: ./data/segmented-images/masks/cju1csmlc4ht10799b8ymmghg.jpg  \n",
      "  inflating: ./data/segmented-images/masks/cju85rkbnlo1c08503uxcpax1.jpg  \n",
      "  inflating: ./data/segmented-images/masks/cju787jnjzjuj0871p94nck9g.jpg  \n",
      "  inflating: ./data/segmented-images/masks/cju5wcc90lu020850mjrxppv6.jpg  \n",
      "  inflating: ./data/segmented-images/masks/cju2zo0fwzv580988qlijd2xa.jpg  \n",
      "  inflating: ./data/segmented-images/masks/cju5hyi9yegob0755ho3do8en.jpg  \n",
      "  inflating: ./data/segmented-images/masks/cju3xjqtpikx50817tppy6g84.jpg  \n",
      "  inflating: ./data/segmented-images/masks/cjyzu9th0qt4r0a46pyl4zik0.jpg  \n",
      "  inflating: ./data/segmented-images/masks/cju1erep75us208553i4ofwwe.jpg  \n",
      "  inflating: ./data/segmented-images/masks/cju2rkjfwoxys0993x768l1j2.jpg  \n",
      "  inflating: ./data/segmented-images/masks/cju6ywm40wdbo0987pbftsvtg.jpg  \n",
      "  inflating: ./data/segmented-images/masks/cju45v0pungu40871acnwtmu5.jpg  \n",
      "  inflating: ./data/segmented-images/masks/cju8bh8surexp0987o5pzklk1.jpg  \n",
      "  inflating: ./data/segmented-images/masks/cju1gv7106qd008784gk603mg.jpg  \n",
      "  inflating: ./data/segmented-images/masks/cju5ekty5ckzf07550c9u3ckk.jpg  \n",
      "  inflating: ./data/segmented-images/masks/cju0roawvklrq0799vmjorwfv.jpg  \n",
      "  inflating: ./data/segmented-images/masks/cju7f9umg2olj0987fj5y285w.jpg  \n",
      "  inflating: ./data/segmented-images/masks/cju3518w2d838079939fqztbc.jpg  \n",
      "  inflating: ./data/segmented-images/masks/cju16fpvhzypl0799p9phnlx6.jpg  \n",
      "  inflating: ./data/segmented-images/masks/cju5nxkujgscq0817l9gss626.jpg  \n",
      "  inflating: ./data/segmented-images/masks/cju2yb31a8e8u0878wdashg7o.jpg  \n",
      "  inflating: ./data/segmented-images/masks/cju5k503sfa5f0871lx0rpu5y.jpg  \n",
      "  inflating: ./data/segmented-images/masks/cju5y4hgqmk0i08180rjhbwvp.jpg  \n",
      "  inflating: ./data/segmented-images/masks/cju31w6goazci0799n014ly1q.jpg  \n",
      "  inflating: ./data/segmented-images/masks/cju2tjrog4jy30878pawyazqc.jpg  \n",
      "  inflating: ./data/segmented-images/masks/cju5udcufki0s09874ll1dbr5.jpg  \n",
      "  inflating: ./data/segmented-images/masks/cju2osuru0ki00855txo0n3uu.jpg  \n",
      "  inflating: ./data/segmented-images/masks/cju6x0yqbvxqt0755dhxislgb.jpg  \n",
      "  inflating: ./data/segmented-images/masks/cju2trbpkv0c00988hxla5dzz.jpg  \n",
      "  inflating: ./data/segmented-images/masks/cju8567gdlcbq0801dwwyo2jt.jpg  \n",
      "  inflating: ./data/segmented-images/masks/cju7dtb1e2j0t0818deq51ib3.jpg  \n",
      "  inflating: ./data/segmented-images/masks/cju5f8hxdcxxn08188obby0ea.jpg  \n",
      "  inflating: ./data/segmented-images/masks/cju8b2rmgr52s0801p54eyflx.jpg  \n",
      "  inflating: ./data/segmented-images/masks/cju2qh5le1ock0878oahaql7d.jpg  \n",
      "  inflating: ./data/segmented-images/masks/cju8czvnztbf40871b4m7t78w.jpg  \n",
      "  inflating: ./data/segmented-images/masks/cju7dymur2od30755eg8yv2ht.jpg  \n",
      "  inflating: ./data/segmented-images/masks/cju2hw5gjlr5h0988so2qqres.jpg  \n",
      "  inflating: ./data/segmented-images/masks/cju1c3218411b08014g9f6gig.jpg  \n",
      "  inflating: ./data/segmented-images/masks/cju2uzabhs6er0993x3aaf87p.jpg  \n",
      "  inflating: ./data/segmented-images/masks/cju8arof2qpf20850ifr1bnqj.jpg  \n",
      "  inflating: ./data/segmented-images/masks/cju87r56lnkyp0755hz30leew.jpg  \n",
      "  inflating: ./data/segmented-images/masks/cju5xjn5mm78b09871spyqhhr.jpg  \n",
      "  inflating: ./data/segmented-images/masks/cju7f6cqy2ur20818t1saazbm.jpg  \n",
      "  inflating: ./data/segmented-images/masks/cju2y40d8ulqo0993q0adtgtb.jpg  \n",
      "  inflating: ./data/segmented-images/masks/cju7fpfzq2wyf0818xxd1oziv.jpg  \n",
      "  inflating: ./data/segmented-images/masks/cju302fqq9spc0878rrygyzzz.jpg  \n",
      "  inflating: ./data/segmented-images/masks/cju8828oxnool0801qno9luhr.jpg  \n",
      "  inflating: ./data/segmented-images/masks/cju893jmdompz0817xn3g1w4h.jpg  \n",
      "  inflating: ./data/segmented-images/masks/cju6z9a9kwsl007552s49rx6i.jpg  \n",
      "  inflating: ./data/segmented-images/masks/cju15wdt3zla10801odjiw7sy.jpg  \n",
      "  inflating: ./data/segmented-images/masks/cju14hjh2ob2o0835ouz3r5aa.jpg  \n",
      "  inflating: ./data/segmented-images/masks/cju13fwthn9mq0835gacxgy01.jpg  \n"
     ]
    },
    {
     "name": "stdout",
     "output_type": "stream",
     "text": [
      "  inflating: ./data/segmented-images/masks/cju85qefyln6v0850szeb9byi.jpg  \r\n",
      "  inflating: ./data/segmented-images/masks/cju6vgdmivcvb08018fra5lnv.jpg  \r\n",
      "  inflating: ./data/segmented-images/masks/cju8b8yair65w09878pyqtr96.jpg  \r\n",
      "  inflating: ./data/segmented-images/masks/ck2395w2mb4vu07480otsu6tw.jpg  \r\n",
      "  inflating: ./data/segmented-images/masks/cju2nguelpmlj0835rojdn097.jpg  \r\n",
      "  inflating: ./data/segmented-images/masks/cjyzkmjy8evns070165gf9dmq.jpg  \r\n",
      "  inflating: ./data/segmented-images/masks/cju0s2a9ekvms080138tjjpxr.jpg  \r\n",
      "  inflating: ./data/segmented-images/masks/cju2rlqdnoz9k0993cpjae3x0.jpg  \r\n",
      "  inflating: ./data/segmented-images/masks/cju7es23b2vcp0755gpbm9s7v.jpg  \r\n",
      "  inflating: ./data/segmented-images/masks/cju5tenjojp1j0755ms4949h2.jpg  \r\n",
      "  inflating: ./data/segmented-images/masks/cju7fq7mm2pw508176uk5ugtx.jpg  \r\n",
      "  inflating: ./data/segmented-images/masks/cju83mki1jv5w0817kubxm31r.jpg  \r\n",
      "  inflating: ./data/segmented-images/masks/cju5c5xc7algd0817pb1ej5yo.jpg  \r\n",
      "  inflating: ./data/segmented-images/masks/cju7d3oc82cho0755dajlwldz.jpg  \r\n",
      "  inflating: ./data/segmented-images/masks/cju83yddek68q0850d2x7zfkm.jpg  \r\n",
      "  inflating: ./data/segmented-images/masks/cju5wkonqlrl409877y8zvnub.jpg  \r\n",
      "  inflating: ./data/segmented-images/masks/cju2i8br1vqtd08784u6vmcjk.jpg  \r\n",
      "  inflating: ./data/segmented-images/masks/cju336l68y7if0993wf092166.jpg  \r\n",
      "  inflating: ./data/segmented-images/masks/cju7d1tvt25bu08019dvw3uff.jpg  \r\n",
      "  inflating: ./data/segmented-images/masks/cju7bgnvb1sf808717qa799ir.jpg  \r\n",
      "  inflating: ./data/segmented-images/masks/cju6x4t13vyw60755gtcf9ndu.jpg  \r\n",
      "  inflating: ./data/segmented-images/masks/cju7er4kc2opa0801anuxc0eb.jpg  \r\n",
      "  inflating: ./data/segmented-images/masks/cju77idwfz36d0871tzfzz51i.jpg  \r\n",
      "  inflating: ./data/segmented-images/masks/cju1cfhyg48bb0799cl5pr2jh.jpg  \r\n",
      "  inflating: ./data/segmented-images/masks/cju88aq6vo1ij0755c2ey7z7n.jpg  \r\n",
      "  inflating: ./data/segmented-images/masks/cju7dn24o296i09871qfxb8s2.jpg  \r\n",
      "  inflating: ./data/segmented-images/masks/cju7bfx651qr80801cs7epotb.jpg  \r\n",
      "  inflating: ./data/segmented-images/masks/cju45pm27n80u08174kyow1gj.jpg  \r\n",
      "  inflating: ./data/segmented-images/masks/cju7b1ygu1msd0801hywhy0mc.jpg  \r\n",
      "  inflating: ./data/segmented-images/masks/cju6z7e4bwgdd0987ogkzq9kt.jpg  \r\n",
      "  inflating: ./data/segmented-images/masks/cju8dpa89u6l80818dj6lldh9.jpg  \r\n",
      "  inflating: ./data/segmented-images/masks/cju5hjxaae3i40850h5z2laf5.jpg  \r\n",
      "  inflating: ./data/segmented-images/masks/cju1g20bdwq6u0835e16xugcd.jpg  \r\n",
      "  inflating: ./data/segmented-images/masks/cjyzlw7f9faqr070129au64sq.jpg  \r\n",
      "  inflating: ./data/segmented-images/masks/cju41r6v2lcww0871ps8k8pf5.jpg  \r\n",
      "  inflating: ./data/segmented-images/masks/cju7db7lp2f400755tntd1ohf.jpg  \r\n",
      "  inflating: ./data/segmented-images/masks/cju43b8daly4408170e5ev06g.jpg  \r\n",
      "  inflating: ./data/segmented-images/masks/cju42dwedlmk60871jbgu4ehi.jpg  \r\n",
      "  inflating: ./data/segmented-images/masks/cju41nz76lcxu0755cya2qefx.jpg  \r\n",
      "  inflating: ./data/segmented-images/masks/cju8aj01yqeqm0850lhdz3xdw.jpg  \r\n",
      "  inflating: ./data/segmented-images/masks/cju6z1bzbwfq50817b2alatvr.jpg  \r\n",
      "  inflating: ./data/segmented-images/masks/cju3tvffffx5f0818t5ov22al.jpg  \r\n",
      "  inflating: ./data/segmented-images/masks/cju5ew4h9cqaf0818rrczkmqh.jpg  \r\n",
      "  inflating: ./data/segmented-images/masks/cju6uy20suzbl0987rzuhz7z9.jpg  \r\n",
      "  inflating: ./data/segmented-images/masks/cju43in5fm22c08175rxziqrk.jpg  \r\n",
      "  inflating: ./data/segmented-images/masks/cju5o4pk9h0720755lgp9jq8m.jpg  \r\n",
      "  inflating: ./data/segmented-images/masks/ck2bxqz3evvg20794iiyv5v2m.jpg  \r\n",
      "  inflating: ./data/segmented-images/masks/cju8buos5rz9b08715lfr0f4f.jpg  \r\n",
      "  inflating: ./data/segmented-images/masks/cju2ma647l0nj0993ot4deq2q.jpg  \r\n",
      "  inflating: ./data/segmented-images/masks/cju35a77vdj4n08556jj2lgmc.jpg  \r\n",
      "  inflating: ./data/segmented-images/masks/cju8bk8oirjhw0817hgkua2w8.jpg  \r\n",
      "  inflating: ./data/segmented-images/masks/cju6wt9jvvn500871hjn3t3g0.jpg  \r\n",
      "  inflating: ./data/segmented-images/masks/cju1b3zgj3d8e0801kpolea6c.jpg  \r\n",
      "  inflating: ./data/segmented-images/masks/cju8d2q30tfhs0801n7lx77xl.jpg  \r\n",
      "  inflating: ./data/segmented-images/masks/cju35fxqyzt5p0993vusm54qz.jpg  \r\n",
      "  inflating: ./data/segmented-images/masks/cju7atnm31if40817pqclnjer.jpg  \r\n",
      "  inflating: ./data/segmented-images/masks/cju3v0fl3gwce0755qkjhzmd4.jpg  \r\n",
      "  inflating: ./data/segmented-images/masks/cju300m3s04fg0988uzupuf7z.jpg  \r\n",
      "  inflating: ./data/segmented-images/masks/cjz14qsk2wci60794un9ozwmw.jpg  \r\n",
      "  inflating: ./data/segmented-images/masks/cju2u2b9o4zvp08788qb9nqxj.jpg  \r\n",
      "  inflating: ./data/segmented-images/masks/cju1fj6axwfp30835ukhuzhw9.jpg  \r\n",
      "  inflating: ./data/segmented-images/masks/cju5jx7jzf7c90871c2i9aiov.jpg  \r\n",
      "  inflating: ./data/segmented-images/masks/cju34ouumcznz07996gg1xq7v.jpg  \r\n",
      "  inflating: ./data/segmented-images/masks/cju2t62nq45jl0799odpufwx6.jpg  \r\n",
      "  inflating: ./data/segmented-images/masks/cju7arvfe1ldu0850erdmphgj.jpg  \r\n",
      "  inflating: ./data/segmented-images/masks/cju5hqz50e7o90850e0prlpa0.jpg  \r\n",
      "  inflating: ./data/segmented-images/masks/cju2lejzcy4pc0878c9rlonot.jpg  \r\n",
      "  inflating: ./data/segmented-images/masks/cju85hguellg50818kwu3s8d1.jpg  \r\n",
      "  inflating: ./data/segmented-images/masks/cju5bhv81abur0850ean02atv.jpg  \r\n",
      "  inflating: ./data/segmented-images/masks/cju428k5fldt108177s6g6f45.jpg  \r\n",
      "  inflating: ./data/segmented-images/masks/cju6wll7wvo3y08502pagos8m.jpg  \r\n",
      "  inflating: ./data/segmented-images/masks/cju35i2e63uxr0835h7zgkg9k.jpg  \r\n",
      "  inflating: ./data/segmented-images/masks/cju15jr8jz8sb0855ukmkswkz.jpg  \r\n",
      "  inflating: ./data/segmented-images/masks/cju1cnnziug1l0835yh4ropyg.jpg  \r\n",
      "  inflating: ./data/segmented-images/masks/cju34repocy5208780gswillm.jpg  \r\n",
      "  inflating: ./data/segmented-images/masks/cju2lberzkdzm09938cl40pog.jpg  \r\n",
      "  inflating: ./data/segmented-images/masks/cju2xlcqxy9c60988vjacdznb.jpg  \r\n",
      "  inflating: ./data/segmented-images/masks/cju2sxf3iqbpv09937iksn8ep.jpg  \r\n",
      "  inflating: ./data/segmented-images/masks/cju6vta3kvazg0817qbeppjtm.jpg  \r\n",
      "  inflating: ./data/segmented-images/masks/cju7evxt12m730987rxivne3x.jpg  \r\n",
      "  inflating: ./data/segmented-images/masks/cju2y0z6g87p10878fpk5d3rq.jpg  \r\n",
      "  inflating: ./data/segmented-images/masks/cju7fazv92ywx0755xov2erga.jpg  \r\n",
      "  inflating: ./data/segmented-images/masks/cju45rj7ln8980850a7821fov.jpg  \r\n",
      "  inflating: ./data/segmented-images/masks/cjyzl833ndne80838pzuq6ila.jpg  \r\n",
      "  inflating: ./data/segmented-images/masks/cju2qn2fzs1vy0988l243cvzy.jpg  \r\n",
      "  inflating: ./data/segmented-images/masks/cju30qbm1ad3x0855znuhpz9u.jpg  \r\n",
      "  inflating: ./data/segmented-images/masks/cju2yg5ht8i4p087800js8hp4.jpg  \r\n",
      "  inflating: ./data/segmented-images/masks/cju84aoa3ktwn0755pfl4gfwd.jpg  \r\n",
      "  inflating: ./data/segmented-images/masks/cju7dlk532dsh0871zvr6qz0r.jpg  \r\n",
      "  inflating: ./data/segmented-images/masks/cju8402x1kcy70801t6kz6bdi.jpg  \r\n",
      "  inflating: ./data/segmented-images/masks/cju5enq1tcn1i0755hnkon787.jpg  \r\n",
      "  inflating: ./data/segmented-images/masks/cju33eqwbcch208012jikwdky.jpg  \r\n",
      "  inflating: ./data/segmented-images/masks/cju7ajnbo1gvm098749rdouk0.jpg  \r\n",
      "  inflating: ./data/segmented-images/masks/cju5i39mreass0817au8p22zy.jpg  \r\n",
      "  inflating: ./data/segmented-images/masks/cju1fr4etsmrr09933u4t4aql.jpg  \r\n",
      "  inflating: ./data/segmented-images/masks/cju5fs6j6d8350801vglraq4u.jpg  \r\n",
      "  inflating: ./data/segmented-images/masks/cju6wi3akvn8r0801px8eligc.jpg  \r\n",
      "  inflating: ./data/segmented-images/masks/cju2omjpeqj5a0988pjdlb8l1.jpg  \r\n",
      "  inflating: ./data/segmented-images/masks/cju42wamblrqn098798r2yyok.jpg  \r\n",
      "  inflating: ./data/segmented-images/masks/cju8c3xs7sauj0801ieyzezr5.jpg  \r\n",
      "  inflating: ./data/segmented-images/masks/cju2raxlosl630988jdbfy9b0.jpg  \r\n",
      "  inflating: ./data/segmented-images/masks/cju87li0zn3yb0817kbwgjiz8.jpg  \r\n",
      "  inflating: ./data/segmented-images/masks/cju2z1nxlzaj40835wj81s1iy.jpg  \r\n",
      "  inflating: ./data/segmented-images/masks/cju42g865lorv07552ytz6xxa.jpg  \r\n",
      "  inflating: ./data/segmented-images/masks/cju7f900s2o0k08175gl1giid.jpg  \r\n",
      "  inflating: ./data/segmented-images/masks/cju1ejj7dvqfa0835ra184v5m.jpg  \r\n",
      "  inflating: ./data/segmented-images/masks/cju76erapykj30871x5eaxh4q.jpg  \r\n",
      "  inflating: ./data/segmented-images/masks/cju2i3hzclw3o0988rrgh911i.jpg  \r\n",
      "  inflating: ./data/segmented-images/masks/cju892fesoq2g0801n0e0jyia.jpg  \r\n",
      "  inflating: ./data/segmented-images/masks/cju88evxanv9r08176zkeovec.jpg  \r\n",
      "  inflating: ./data/segmented-images/masks/cju43gfosm63n08714rpih8pe.jpg  \r\n",
      "  inflating: ./data/segmented-images/masks/cju88msmoo3470817m441j4sg.jpg  \r\n",
      "  inflating: ./data/segmented-images/masks/cju7b10ce1mnm08011c5bwyr4.jpg  \r\n",
      "  inflating: ./data/segmented-images/masks/cju1bm8063nmh07996rsjjemq.jpg  \r\n",
      "  inflating: ./data/segmented-images/masks/cju8dic9mtppa0987swn23wbc.jpg  \r\n",
      "  inflating: ./data/segmented-images/masks/cju2xf8e5y2wm08359vcgk09b.jpg  \r\n",
      "  inflating: ./data/segmented-images/masks/cju2yi9tz8vky0801yqip0xyl.jpg  \r\n",
      "  inflating: ./data/segmented-images/masks/cju7fmvpk2q170987v6i3ola8.jpg  \r\n",
      "  inflating: ./data/segmented-images/masks/cju2tzypl4wss0799ow05oxb9.jpg  \r\n",
      "  inflating: ./data/segmented-images/masks/cju7dmlgf2ebw0871ieqas5fh.jpg  \r\n",
      "  inflating: ./data/segmented-images/masks/cju85mpuglq8k0818d2it6hzb.jpg  \r\n",
      "  inflating: ./data/segmented-images/masks/cju7ctvqn25dy08186g442m1r.jpg  \r\n",
      "  inflating: ./data/segmented-images/masks/cjyzurzvohqnr0794es1itzek.jpg  \r\n",
      "  inflating: ./data/segmented-images/masks/cju8b1v3br45u087189kku66u.jpg  \r\n",
      "  inflating: ./data/segmented-images/masks/cju1cj3f0qi5n0993ut8f49rj.jpg  \r\n",
      "  inflating: ./data/segmented-images/masks/cju7adqyj1jcx08712r1ro5gx.jpg  \r\n",
      "  inflating: ./data/segmented-images/masks/cju34c1xfyz920993itxkkfad.jpg  \r\n",
      "  inflating: ./data/segmented-images/masks/cju2top2ruxxy0988p1svx36g.jpg  \r\n",
      "  inflating: ./data/segmented-images/masks/cju5vi4nxlc530817uoqm2m7a.jpg  \r\n",
      "  inflating: ./data/segmented-images/masks/cju7d2q1k27nf08715zshsckt.jpg  \r\n",
      "  inflating: ./data/segmented-images/masks/cju1gghyjwxt80835vx0wgxw0.jpg  \r\n",
      "  inflating: ./data/segmented-images/masks/cju6uzxk0v83p0801rcwnexdu.jpg  \r\n",
      "  inflating: ./data/segmented-images/masks/cju2qxxko229x08786gvxxhur.jpg  \r\n",
      "  inflating: ./data/segmented-images/masks/cju2xyd9vyi7m098831qcucse.jpg  \r\n",
      "  inflating: ./data/segmented-images/masks/cju88itqbny720987hxizbj5y.jpg  \r\n",
      "  inflating: ./data/segmented-images/masks/cju7ev2b12owa08500bpfpwyw.jpg  \r\n",
      "  inflating: ./data/segmented-images/masks/cju8b4ja9r2s808509d45ma86.jpg  \r\n",
      "  inflating: ./data/segmented-images/masks/cju5boicjagt20871b1fotkh4.jpg  \r\n",
      "  inflating: ./data/segmented-images/masks/cju85fc11ljr40818edpb0inh.jpg  \r\n",
      "  inflating: ./data/segmented-images/masks/cju88l66no10s0850rsda7ej1.jpg  \r\n",
      "  inflating: ./data/segmented-images/masks/cju2nbdpmlmcj0993s1cht0dz.jpg  \r\n",
      "  inflating: ./data/segmented-images/masks/cju2nqapmzvk20801f9us40dx.jpg  \r\n",
      "  inflating: ./data/segmented-images/masks/cju6wuojavt740818b5qcv3iw.jpg  \r\n",
      "  inflating: ./data/segmented-images/masks/cju77g99iyxc00817zqi2ppor.jpg  \r\n",
      "  inflating: ./data/segmented-images/masks/cju3wstckialg0871xs0vevsj.jpg  \r\n",
      "  inflating: ./data/segmented-images/masks/cju85plp7lmkw0850rx42jdpf.jpg  \r\n",
      "  inflating: ./data/segmented-images/masks/cju7bf1lp1shi081835vs84lc.jpg  \r\n",
      "  inflating: ./data/segmented-images/masks/cju1ffnjn6ctm08015perkg37.jpg  \r\n",
      "  inflating: ./data/segmented-images/masks/cju7d8m3b2e210755l8fj1yph.jpg  \r\n",
      "  inflating: ./data/segmented-images/masks/cju7dxffn2eam0817qxosfwch.jpg  \r\n",
      "  inflating: ./data/segmented-images/masks/cju5h57xedz5h0755mjpc8694.jpg  \r\n",
      "  inflating: ./data/segmented-images/masks/cju5vgawslbe30987ndeepc1b.jpg  \r\n",
      "  inflating: ./data/segmented-images/masks/cju3v56bwgy8v0871w14pz8fx.jpg  \r\n",
      "  inflating: ./data/segmented-images/masks/cju6x35ervu2808015c7eoqe4.jpg  \r\n",
      "  inflating: ./data/segmented-images/masks/cju2xs6na81t20878pt6nkfip.jpg  \r\n",
      "  inflating: ./data/segmented-images/masks/cju85l4yjlops0801fvmnwptf.jpg  \r\n",
      "  inflating: ./data/segmented-images/masks/cju16ach3m1da0993r1dq3sn2.jpg  \r\n",
      "  inflating: ./data/segmented-images/masks/cju8bbznkrf5g0871jncffynk.jpg  \r\n",
      "  inflating: ./data/segmented-images/masks/cju33mirdc8mj0799k33wzoes.jpg  \r\n",
      "  inflating: ./data/segmented-images/masks/cju2u4pymvc720988wsxrmi84.jpg  \r\n",
      "  inflating: ./data/segmented-images/masks/cju6v3bb2v7xo085090blubyw.jpg  \r\n",
      "  inflating: ./data/segmented-images/masks/cju88q6h6obpd0871ckmiabbo.jpg  \r\n",
      "  inflating: ./data/segmented-images/masks/cju2zdhsczmn50988z64qwg2q.jpg  \r\n",
      "  inflating: ./data/segmented-images/masks/cju30xqmh0ni00835ix3batv1.jpg  \r\n",
      "  inflating: ./data/segmented-images/masks/cju34ds2531520988qjpqt6e3.jpg  \r\n",
      "  inflating: ./data/segmented-images/masks/cju5eyfe9cpk90987laa7tsl3.jpg  \r\n",
      "  inflating: ./data/segmented-images/masks/cju2s16zp317h0799gr67jqc2.jpg  \r\n",
      "  inflating: ./data/segmented-images/masks/cju8bljw9rqk20801kr54akrl.jpg  \r\n",
      "  inflating: ./data/segmented-images/masks/cju32gzs6xo8x0993r8tedbpb.jpg  \r\n",
      "  inflating: ./data/segmented-images/masks/cju8aw9n1qyg10801jkjlmors.jpg  \r\n",
      "  inflating: ./data/segmented-images/masks/cju5x00l6m5j608503k78ptee.jpg  \r\n",
      "  inflating: ./data/segmented-images/masks/cju5bycdkalkb09875f7bfrvx.jpg  \r\n",
      "  inflating: ./data/segmented-images/masks/cju7dubap2g0w0801fgl42mg9.jpg  \r\n",
      "  inflating: ./data/segmented-images/masks/cju6xifswvwbo0987nibtdr50.jpg  \r\n",
      "  inflating: ./data/segmented-images/masks/cju1expq45zst0855rjqwwj4m.jpg  \r\n",
      "  inflating: ./data/segmented-images/masks/cju2yo1j1v0qz09934o0e683p.jpg  \r\n",
      "  inflating: ./data/segmented-images/masks/cju3yht87j83m08507yk1u1fg.jpg  \r\n",
      "  inflating: ./data/segmented-images/masks/cjyzu3reghjya0794w7pwoi50.jpg  \r\n",
      "  inflating: ./data/segmented-images/masks/cju5ht88gedbu0755xrcuddcx.jpg  \r\n",
      "  inflating: ./data/segmented-images/masks/cju7d9seq29zd0871nzl2uu5m.jpg  \r\n",
      "  inflating: ./data/segmented-images/masks/cju183od81ff608017ekzif89.jpg  \r\n",
      "  inflating: ./data/segmented-images/masks/cju0qkwl35piu0993l0dewei2.jpg  \r\n",
      "  inflating: ./data/segmented-images/masks/cju3xga12iixg0817dijbvjxw.jpg  \r\n",
      "  inflating: ./data/segmented-images/masks/cju8alhigqn2h0801zksudldd.jpg  \r\n",
      "  inflating: ./data/segmented-images/masks/cju7ez7r22qbc08015xfoz2wb.jpg  \r\n",
      "  inflating: ./data/segmented-images/masks/cju2qdj95ru8g09886gfi9rsz.jpg  \r\n",
      "  inflating: ./data/segmented-images/masks/cju40jl7skiuo0817p0smlgg8.jpg  \r\n",
      "  inflating: ./data/segmented-images/masks/cju7el6xv2k520817qxx9wdr5.jpg  \r\n",
      "  inflating: ./data/segmented-images/masks/cju7dhpsc2dnn0818025m6857.jpg  \r\n",
      "  inflating: ./data/segmented-images/masks/cju7dda8w2br20818zhsuz8s7.jpg  \r\n",
      "  inflating: ./data/segmented-images/masks/cju77196iyshb0850ycbto50a.jpg  \r\n",
      "  inflating: ./data/segmented-images/masks/cju40m0rjkpw80871z6n6yg1u.jpg  \r\n",
      "  inflating: ./data/segmented-images/masks/cju7csvlb22fr0850lvm45n3x.jpg  \r\n",
      "  inflating: ./data/segmented-images/masks/cju7dwe282dc309876rco45ts.jpg  \r\n",
      "  inflating: ./data/segmented-images/masks/cju7ecl9i2i060987xawjp4l0.jpg  \r\n",
      "  inflating: ./data/segmented-images/masks/cju88rl5eo94l0850kf5wtrm1.jpg  \r\n",
      "  inflating: ./data/segmented-images/masks/cju7cl8zm1xcu0817ado0jpas.jpg  \r\n",
      "  inflating: ./data/segmented-images/masks/cju8b6rp0r5st0850184f79xt.jpg  \r\n",
      "  inflating: ./data/segmented-images/masks/cju2okvco06xc0799kxe5n1qh.jpg  \r\n",
      "  inflating: ./data/segmented-images/masks/cju2iatlki5u309930zmgkv6h.jpg  \r\n",
      "  inflating: ./data/segmented-images/masks/cju7g7ba42z310987bqzbi2bq.jpg  \r\n",
      "  inflating: ./data/segmented-images/masks/cju0t4oil7vzk099370nun5h9.jpg  \r\n",
      "  inflating: ./data/segmented-images/masks/cju87tyddnnad0755bj0wxahe.jpg  \r\n",
      "  inflating: ./data/segmented-images/masks/cju326h4v1gxw08352px40p7r.jpg  \r\n",
      "  inflating: ./data/segmented-images/masks/cju8c1a0ws7o208181c6lbsom.jpg  \r\n",
      "  inflating: ./data/segmented-images/masks/cju5u8gz4kj5b07552e2wpkwp.jpg  \r\n",
      "  inflating: ./data/segmented-images/masks/cju17otoe119u0799nqcbl8n1.jpg  \r\n",
      "  inflating: ./data/segmented-images/masks/cju2uokeg5jm20799xwgsyz89.jpg  \r\n",
      "  inflating: ./data/segmented-images/masks/cju7dglf226g50987ohbthl19.jpg  \r\n",
      "  inflating: ./data/segmented-images/masks/cju1fb9236a110801yvg0fwju.jpg  \r\n",
      "  inflating: ./data/segmented-images/masks/cju2sggy13na70855tbeoqgha.jpg  \r\n",
      "  inflating: ./data/segmented-images/masks/ck2bxw18mmz1k0725litqq2mc.jpg  \r\n",
      "  inflating: ./data/segmented-images/masks/cju2sevf53lkx08558h5bpaig.jpg  \r\n",
      "  inflating: ./data/segmented-images/masks/cju2qvuj1s9ok0835tp2k4ozh.jpg  \r\n",
      "  inflating: ./data/segmented-images/masks/cju30ftgja7170855xl9bkdm0.jpg  \r\n",
      "  inflating: ./data/segmented-images/masks/cju5eq8c8ck690850vix98hv3.jpg  \r\n",
      "  inflating: ./data/segmented-images/masks/cju2ulk385h170799rlklxob0.jpg  \r\n",
      "  inflating: ./data/segmented-images/masks/cju43eigtm6ev0801mv0m96t1.jpg  \r\n",
      "  inflating: ./data/segmented-images/masks/cju175facms5f0993a5tjikvt.jpg  \r\n",
      "  inflating: ./data/segmented-images/masks/cju1d96gsv62d09881b3wecw2.jpg  \r\n",
      "  inflating: ./data/segmented-images/masks/cju3xzvnzj0hd0755xprz39nj.jpg  \r\n",
      "  inflating: ./data/segmented-images/masks/cjyztzaqtrv430848l8xgcerw.jpg  \r\n",
      "  inflating: ./data/segmented-images/masks/cju89y9h0puti0818i5yw29e6.jpg  \r\n",
      "  inflating: ./data/segmented-images/masks/cju2ysg748ru80878sp6j0gm0.jpg  \r\n",
      "  inflating: ./data/segmented-images/masks/cju2rz4k434s70855wwx3ddtx.jpg  \r\n",
      "  inflating: ./data/segmented-images/masks/cju5eftctcdbj08712gdp989f.jpg  \r\n",
      "  inflating: ./data/segmented-images/masks/cju8aqq8uqmoq0987hphto9gg.jpg  \r\n",
      "  inflating: ./data/segmented-images/masks/cju8bn7m2rmm70817hgxpb1uq.jpg  \r\n",
      "  inflating: ./data/segmented-images/masks/cju5ca9hcatkc0801jzwe7tfx.jpg  \r\n",
      "  inflating: ./data/segmented-images/masks/cju17g6ykn1cs0993dww6qdi8.jpg  \r\n",
      "  inflating: ./data/segmented-images/masks/cju15czxqp3lv0835jvhgzurz.jpg  \r\n",
      "  inflating: ./data/segmented-images/masks/cju323ypb1fbb0988gx5rzudb.jpg  \r\n",
      "  inflating: ./data/segmented-images/masks/cju2r6mt2om21099352pny5gw.jpg  \r\n",
      "  inflating: ./data/segmented-images/masks/cju88y1mwoln50871emyfny1g.jpg  \r\n",
      "  inflating: ./data/segmented-images/masks/cju17v6ih0u7808783zcbg1jy.jpg  \r\n",
      "  inflating: ./data/segmented-images/masks/cju1c0qb4tzi308355wtsnp0y.jpg  \r\n",
      "  inflating: ./data/segmented-images/masks/cju5i5oh2efg60987ez6cpf72.jpg  \r\n",
      "  inflating: ./data/segmented-images/masks/cju0u2g7pmnux0801vkk47ivj.jpg  \r\n",
      "  inflating: ./data/segmented-images/masks/cju2z6ez69g4u0801qwt088lw.jpg  \r\n",
      "  inflating: ./data/segmented-images/masks/cju7ehljc2or70871261br8ai.jpg  \r\n",
      "  inflating: ./data/segmented-images/masks/cju8432cmkgq90871cxe4iptl.jpg  \r\n",
      "  inflating: ./data/segmented-images/masks/cju2zgbj9zmrw0835nnlzxj4c.jpg  \r\n",
      "  inflating: ./data/segmented-images/masks/cju7fen322ou10817ziqkob4k.jpg  \r\n",
      "  inflating: ./data/segmented-images/masks/cju34xspwzenf0993cyzajv9n.jpg  \r\n",
      "  inflating: ./data/segmented-images/masks/cju3y54kwj3nr0801biidlb4e.jpg  \r\n",
      "  inflating: ./data/segmented-images/masks/cju32zhbnc1oy0801iyv1ix6p.jpg  \r\n",
      "  inflating: ./data/segmented-images/masks/cju0u82z3cuma0835wlxrnrjv.jpg  \r\n",
      "  inflating: ./data/segmented-images/masks/cju83qd0yjyht0817ktkfl268.jpg  \r\n",
      "  inflating: ./data/segmented-images/masks/cju412uwlkva50850d1ps1ww7.jpg  \r\n",
      "  inflating: ./data/segmented-images/masks/cju8doa16u5gh0818w1ywda3q.jpg  \r\n",
      "  inflating: ./data/segmented-images/masks/cju7dbppn28nx085097654msi.jpg  \r\n",
      "  inflating: ./data/segmented-images/masks/cju5u6wf0kh1t0755bg1ssixv.jpg  \r\n",
      "  inflating: ./data/segmented-images/masks/cju3uhb79gcgr0871orbrbi3x.jpg  \r\n",
      "  inflating: ./data/segmented-images/masks/cju1drnhbrb9409935wi7vkhg.jpg  \r\n",
      "  inflating: ./data/segmented-images/masks/cju6vifjlv55z0987un6y4zdo.jpg  \r\n",
      "  inflating: ./data/segmented-images/masks/cju87vqa0ndwg0850onjdz7ol.jpg  \r\n",
      "  inflating: ./data/segmented-images/masks/cju8418jhkf7d0818ga2v0xq0.jpg  \r\n",
      "  inflating: ./data/segmented-images/masks/cju2srvy5440s0801y1ba9akr.jpg  \r\n",
      "  inflating: ./data/segmented-images/masks/cju87q6yoneim0871dl4phvkd.jpg  \r\n",
      "  inflating: ./data/segmented-images/masks/cju7d5m0p23kn09871rk7pu3v.jpg  \r\n",
      "  inflating: ./data/segmented-images/masks/cju1cyjb5qtie0993njqne9m3.jpg  \r\n",
      "  inflating: ./data/segmented-images/masks/cju84kplnl1y30755ropua1b0.jpg  \r\n",
      "  inflating: ./data/segmented-images/masks/cju8c82iosagu0817l74s4m5g.jpg  \r\n",
      "  inflating: ./data/segmented-images/masks/cju77t0razbvm080106o56289.jpg  \r\n",
      "  inflating: ./data/segmented-images/masks/cjyzufihqquiw0a46jatrbwln.jpg  \r\n",
      "  inflating: ./data/segmented-images/masks/cju0qx73cjw570799j4n5cjze.jpg  \r\n",
      "  inflating: ./data/segmented-images/masks/cju6xlygpw7bs0818n691jsq4.jpg  \r\n",
      "  inflating: ./data/segmented-images/masks/cju171py4qiha0835u8sl59ds.jpg  \r\n",
      "  inflating: ./data/segmented-images/masks/cju8cattbsivm0818p446wgel.jpg  \r\n",
      "  inflating: ./data/segmented-images/masks/cju3u815rg4ek0850vvhtcvcm.jpg  \r\n",
      "  inflating: ./data/segmented-images/masks/cju30nyxe0gfb0835p256yoju.jpg  \r\n",
      "  inflating: ./data/segmented-images/masks/cju34aozyyy830993bn16u32n.jpg  \r\n",
      "  inflating: ./data/segmented-images/masks/cju7d6ux323ze0987xos3srkx.jpg  \r\n",
      "  inflating: ./data/segmented-images/masks/cju7efffp2ivf0817etg3jehl.jpg  \r\n",
      "  inflating: ./data/segmented-images/masks/cju7dff9529h208503w60lbil.jpg  \r\n",
      "  inflating: ./data/segmented-images/masks/cju1hmff8tkp809931jps6fbr.jpg  \r\n",
      "  inflating: ./data/segmented-images/masks/cju3xeexgii1j0817zs68tb4g.jpg  \r\n",
      "  inflating: ./data/segmented-images/masks/cju34i3qvcyog0855qiejxx5w.jpg  \r\n",
      "  inflating: ./data/segmented-images/masks/cju77afzlz3kp07550x5nafzs.jpg  \r\n",
      "  inflating: ./data/segmented-images/masks/cju3y21quj0ir0818kgjagr15.jpg  \r\n",
      "  inflating: ./data/segmented-images/masks/cju2s9g11pnra0993gn4eh793.jpg  \r\n",
      "  inflating: ./data/segmented-images/masks/cju2ro5jqsy680988pi6qsujw.jpg  \r\n",
      "  inflating: ./data/segmented-images/masks/cju8c2rqzs5t80850d0zky5dy.jpg  \r\n",
      "  inflating: ./data/segmented-images/masks/cju5fydrud94708507vo6oy21.jpg  \r\n",
      "  inflating: ./data/segmented-images/masks/cju2wtwj87kys0855kx6mddzw.jpg  \r\n",
      "  inflating: ./data/segmented-images/masks/cju439oazm2fu0871ma0vvrft.jpg  \r\n",
      "  inflating: ./data/segmented-images/masks/cju5knbbqfipk080128cggukq.jpg  \r\n",
      "  inflating: ./data/segmented-images/masks/cju8a84g0q76m0818hwiggkod.jpg  \r\n",
      "  inflating: ./data/segmented-images/masks/cju84dsvaklpx098750hp83x4.jpg  \r\n",
      "  inflating: ./data/segmented-images/masks/cju2sszfq3uye0878sucelzk2.jpg  \r\n",
      "  inflating: ./data/segmented-images/masks/cju2y5zas8m7f0801d34g5owq.jpg  \r\n",
      "  inflating: ./data/segmented-images/masks/cju7emdni2py40871ivhxjtut.jpg  \r\n",
      "  inflating: ./data/segmented-images/masks/cju7flevb2wii08188otgs9p2.jpg  \r\n",
      "  inflating: ./data/segmented-images/masks/cju6wn57mvooj0850rp78hhy7.jpg  \r\n",
      "  inflating: ./data/segmented-images/masks/cju7ebe962hr409872ovibahw.jpg  \r\n",
      "  inflating: ./data/segmented-images/masks/cju30ia8da2bq0799klnehml2.jpg  \r\n",
      "  inflating: ./data/segmented-images/masks/cju847pxykriq0755268ktrk2.jpg  \r\n",
      "  inflating: ./data/segmented-images/masks/cju5yeqiwmkgl0801fzv2douc.jpg  \r\n",
      "  inflating: ./data/segmented-images/masks/cju320gyvbch60801v2amdi2g.jpg  \r\n",
      "  inflating: ./data/segmented-images/masks/cju45ofd9ne1j0801ri8dup7t.jpg  \r\n",
      "  inflating: ./data/segmented-images/masks/cju2nnqrqzp580855z8mhzgd6.jpg  \r\n",
      "  inflating: ./data/segmented-images/masks/cju2igw4gvxds0878808qj398.jpg  \r\n",
      "  inflating: ./data/segmented-images/masks/cju7druhp2gp308715i6km7be.jpg  \r\n",
      "  inflating: ./data/segmented-images/masks/cju310f6val1v0855xo8tc3gu.jpg  \r\n",
      "  inflating: ./data/segmented-images/masks/cju2ricdv2iys0878sv1adh0u.jpg  \r\n",
      "  inflating: ./data/segmented-images/masks/cjyzk8qieoboa0848ogj51wwm.jpg  \r\n",
      "  inflating: ./data/segmented-images/masks/cju30ajhw09sx0988qyahx9s8.jpg  \r\n",
      "  inflating: ./data/segmented-images/masks/cju3tp94kfstl08181awh6z49.jpg  \r\n",
      "  inflating: ./data/segmented-images/masks/cju16whaj0e7n0855q7b6cjkm.jpg  \r\n",
      "  inflating: ./data/segmented-images/masks/cju3tsh4lfsok0987w6x3a0v1.jpg  \r\n",
      "  inflating: ./data/segmented-images/masks/ck2bxiswtxuw80838qkisqjwz.jpg  \r\n",
      "  inflating: ./data/segmented-images/masks/cju8bw697rwg308177tg8huas.jpg  \r\n",
      "  inflating: ./data/segmented-images/masks/cju32a52lb9rc0799xi40qs00.jpg  \r\n",
      "  inflating: ./data/segmented-images/masks/cju2qqn5ys4uo0988ewrt2ip2.jpg  \r\n",
      "  inflating: ./data/segmented-images/masks/cju414lf2l1lt0801rl3hjllj.jpg  \r\n",
      "  inflating: ./data/segmented-images/masks/cju7avvi51iox0817ym55y6tt.jpg  \r\n",
      "  inflating: ./data/segmented-images/masks/cju430pm2lz0y0755jkhcc3d1.jpg  \r\n",
      "  inflating: ./data/segmented-images/masks/cju2zjcvj9qma0801dk71hhi0.jpg  \r\n",
      "  inflating: ./data/segmented-images/masks/cju7eotqi2qea0871y8yc7tqh.jpg  \r\n",
      "  inflating: ./data/segmented-images/masks/cju410dnfl0960755y8lu8d79.jpg  \r\n",
      "  inflating: ./data/segmented-images/masks/cju32phw2bv130801yj7bkouq.jpg  \r\n",
      "  inflating: ./data/segmented-images/masks/cju3ykamdj9u208503pygyuc8.jpg  \r\n",
      "  inflating: ./data/segmented-images/masks/cju3u39fog1bo0871lxjrabks.jpg  \r\n",
      "  inflating: ./data/segmented-images/masks/cju8ashhnquqr0801rwduzt7d.jpg  \r\n",
      "  inflating: ./data/segmented-images/masks/cju2r91dg2k090801bh0xzbxk.jpg  \r\n",
      "  inflating: ./data/segmented-images/masks/cju2xd75m82720801q4s4ik3n.jpg  \r\n",
      "  inflating: ./data/segmented-images/masks/cju2p91qir00k08350ddfif0w.jpg  \r\n",
      "  inflating: ./data/segmented-images/masks/cju40wto5kxwi0755it190f2k.jpg  \r\n",
      "  inflating: ./data/segmented-images/masks/cju3x4blzieu30850x10uuvbm.jpg  \r\n",
      "  inflating: ./data/segmented-images/masks/cju1dfeupuzlw0835gnxip369.jpg  \r\n",
      "  inflating: ./data/segmented-images/masks/cju1hyolc7aqu0878rrkfn1lr.jpg  \r\n",
      "  inflating: ./data/segmented-images/masks/cju2yljr0yzhw0988ecf271ly.jpg  \r\n",
      "  inflating: ./data/segmented-images/masks/cju8a1jtvpt9m081712iwkca7.jpg  \r\n",
      "  inflating: ./data/segmented-images/masks/cju7eea9b2m0z0801ynqv1fqu.jpg  \r\n",
      "  inflating: ./data/segmented-images/masks/cju2nd7l7z98o0799gfjvyfmw.jpg  \r\n",
      "  inflating: ./data/segmented-images/masks/cju2ueb6j5ado0878vf5md13o.jpg  \r\n",
      "  inflating: ./data/segmented-images/masks/cju30ywtc0oar0835bp2en7ec.jpg  \r\n",
      "  inflating: ./data/segmented-images/masks/cju2uwz9f5yf1085506cfamfx.jpg  \r\n",
      "  inflating: ./data/segmented-images/masks/cju5woy82m07m08505dmjg7g1.jpg  \r\n",
      "  inflating: ./data/segmented-images/masks/cju3uz4o6gr9z0850lhxyxvsj.jpg  \r\n",
      "  inflating: ./data/segmented-images/masks/cju0sr5ghl0nd08789uzf1raf.jpg  \r\n",
      "  inflating: ./data/segmented-images/masks/cju7f5ghb2r5s0801chwkxxh9.jpg  \r\n",
      "  inflating: ./data/segmented-images/masks/cju85je7vlht70817c9jcjwi4.jpg  \r\n",
      "  inflating: ./data/segmented-images/masks/cjyzul1qggwwj07216mhiv5sy.jpg  \r\n",
      "  inflating: ./data/segmented-images/masks/cju84jdl9kv0i0871eog9b3i9.jpg  \r\n",
      "  inflating: ./data/segmented-images/masks/cju0qoxqj9q6s0835b43399p4.jpg  \r\n",
      "  inflating: ./data/segmented-images/masks/cju40poe4kt9s0755f9cnm3h5.jpg  \r\n",
      "  inflating: ./data/segmented-images/masks/cju8dn0c3u2v50801k8rvq02f.jpg  \r\n",
      "  inflating: ./data/segmented-images/masks/cju2x7vw87mu30878hye2ca0m.jpg  \r\n",
      "  inflating: ./data/segmented-images/masks/cju8dqkrqu83i0818ev74qpxq.jpg  \r\n",
      "  inflating: ./data/segmented-images/masks/cju2oi8sq0i2y0801mektzvw8.jpg  \r\n",
      "   creating: ./data/segmented-images/images/\r\n",
      "  inflating: ./data/segmented-images/images/cju2htabevq9108015qjei0x7.jpg  \r\n",
      "  inflating: ./data/segmented-images/images/cju2r2obh2bjm08553kng0rh7.jpg  \r\n",
      "  inflating: ./data/segmented-images/images/cju2zdvjn9h7r08553cp4eed5.jpg  \r\n",
      "  inflating: ./data/segmented-images/images/cju6v4szov55u0871qmqz3v8n.jpg  \r\n",
      "  inflating: ./data/segmented-images/images/cju16d65tzw9d0799ouslsw25.jpg  \r\n",
      "  inflating: ./data/segmented-images/images/cju2txjfzv60w098839dcimys.jpg  \r\n",
      "  inflating: ./data/segmented-images/images/cju8bff9nrfi10850fmfzbf8v.jpg  \r\n",
      "  inflating: ./data/segmented-images/images/cju3xvoo2iqlc0817eku2r3wl.jpg  \r\n",
      "  inflating: ./data/segmented-images/images/cju5buy2bal250818ipl6fqwv.jpg  \r\n",
      "  inflating: ./data/segmented-images/images/cju7f0ec32txj08184asb8w5f.jpg  \r\n",
      "  inflating: ./data/segmented-images/images/cju31y80qbawn0801twwm2l5s.jpg  \r\n",
      "  inflating: ./data/segmented-images/images/cju3xiic0ilzp0850lusrb42j.jpg  \r\n",
      "  inflating: ./data/segmented-images/images/cju6v6g6kvdw007552x6mb0po.jpg  \r\n",
      "  inflating: ./data/segmented-images/images/cju5hi52odyf90817prvcwg45.jpg  \r\n",
      "  inflating: ./data/segmented-images/images/cju87li0zn3yb0817kbwgjiz8.jpg  \r\n",
      "  inflating: ./data/segmented-images/images/cju357rxxdaz30878y2esjpjt.jpg  \r\n",
      "  inflating: ./data/segmented-images/images/cju35740hzm0g0993zl5ic246.jpg  \r\n",
      "  inflating: ./data/segmented-images/images/cju7da88w2eod0755wejzynvt.jpg  \r\n",
      "  inflating: ./data/segmented-images/images/cju6z2616wqbk07555bvnuyr1.jpg  \r\n",
      "  inflating: ./data/segmented-images/images/cju35oyvd3y850988km12hdz1.jpg  \r\n",
      "  inflating: ./data/segmented-images/images/cju892fesoq2g0801n0e0jyia.jpg  \r\n",
      "  inflating: ./data/segmented-images/images/cju5x7iskmad90818frchyfwd.jpg  \r\n",
      "  inflating: ./data/segmented-images/images/cju6w733bveoz0817e600tw72.jpg  \r\n",
      "  inflating: ./data/segmented-images/images/cju41z76wlgbz0801qdetlvby.jpg  \r\n",
      "  inflating: ./data/segmented-images/images/cju42py9mlqyd0818u3d1d7ga.jpg  \r\n",
      "  inflating: ./data/segmented-images/images/cju8ceacrsqkr0755hdz145es.jpg  \r\n",
      "  inflating: ./data/segmented-images/images/cju42xpi8lw4w0871ve317a1p.jpg  \r\n",
      "  inflating: ./data/segmented-images/images/cju5wj0faly5008187n6530af.jpg  \r\n",
      "  inflating: ./data/segmented-images/images/cju2saez63gxl08559ucjq3kt.jpg  \r\n",
      "  inflating: ./data/segmented-images/images/cju88fpm4o0tl0871w1i6a4ds.jpg  \r\n",
      "  inflating: ./data/segmented-images/images/cju2rnkt22xep0801as160g9t.jpg  \r\n",
      "  inflating: ./data/segmented-images/images/cju87r56lnkyp0755hz30leew.jpg  \r\n",
      "  inflating: ./data/segmented-images/images/cju1egh885m1l0855ci1lt37c.jpg  \r\n",
      "  inflating: ./data/segmented-images/images/cju34eqjpcpm508788b3lhp97.jpg  \r\n",
      "  inflating: ./data/segmented-images/images/cju2t9tdwuk700835kv0ljmtl.jpg  \r\n",
      "  inflating: ./data/segmented-images/images/cju2qxxko229x08786gvxxhur.jpg  \r\n",
      "  inflating: ./data/segmented-images/images/cju8apjewqrk00801k5d71gky.jpg  \r\n",
      "  inflating: ./data/segmented-images/images/cju6ur9l9v9jq0755paud9uka.jpg  \r\n",
      "  inflating: ./data/segmented-images/images/cju843yjskhq30818qre4rwm2.jpg  \r\n",
      "  inflating: ./data/segmented-images/images/cju8bj2ssrmlm0871gc2ug2rs.jpg  \r\n",
      "  inflating: ./data/segmented-images/images/cju2yyhsp933j0855hp32e012.jpg  \r\n",
      "  inflating: ./data/segmented-images/images/cju2top2ruxxy0988p1svx36g.jpg  \r\n",
      "  inflating: ./data/segmented-images/images/cju88trl3ogi208716qvti51b.jpg  \r\n",
      "  inflating: ./data/segmented-images/images/cju5fw37edaae0801vkwvocn7.jpg  \r\n",
      "  inflating: ./data/segmented-images/images/cju17x0j4nfc10993y31pvlgs.jpg  \r\n",
      "  inflating: ./data/segmented-images/images/cju7bd1qu1mx409877xjxibox.jpg  \r\n",
      "  inflating: ./data/segmented-images/images/cju7agj961l2r0818z29iq8yn.jpg  \r\n",
      "  inflating: ./data/segmented-images/images/cju7cue9b232j0801qdzk1ykj.jpg  \r\n",
      "  inflating: ./data/segmented-images/images/cju1cvkfwqrec0993wbp1jlzm.jpg  \r\n",
      "  inflating: ./data/segmented-images/images/cju7b5afm1nfw0801xqm8bf8q.jpg  \r\n",
      "  inflating: ./data/segmented-images/images/cju2qu37qobl50993aw7ghcfq.jpg  \r\n",
      "  inflating: ./data/segmented-images/images/cju5wphwwlu3m0987hh3ltg88.jpg  \r\n",
      "  inflating: ./data/segmented-images/images/cju2ti1du4idn0878giuozonw.jpg  \r\n",
      "  inflating: ./data/segmented-images/images/cju83kxitjv340987z09m0ezy.jpg  \r\n",
      "  inflating: ./data/segmented-images/images/cju2zp89k9q1g0855k1x0f1xa.jpg  \r\n",
      "  inflating: ./data/segmented-images/images/cju6v5ilsv8hk0850rb5sgh6o.jpg  \r\n",
      "  inflating: ./data/segmented-images/images/cju5xkwzxmf0z0818gk4xabdm.jpg  \r\n",
      "  inflating: ./data/segmented-images/images/cju83u9ftk3ni0987qnhlcinv.jpg  \r\n",
      "  inflating: ./data/segmented-images/images/cju8chxndsre008015uisl4si.jpg  \r\n",
      "  inflating: ./data/segmented-images/images/cju1b75x63ddl0799sdp0i2j3.jpg  \r\n",
      "  inflating: ./data/segmented-images/images/cju8arof2qpf20850ifr1bnqj.jpg  \r\n",
      "  inflating: ./data/segmented-images/images/cju5fb86jd1jp0755b1ukbhq5.jpg  \r\n",
      "  inflating: ./data/segmented-images/images/cju6z600qwh4z081700qimgl9.jpg  \r\n",
      "  inflating: ./data/segmented-images/images/cju2yw4s7z7p20988lmf2gdgd.jpg  \r\n",
      "  inflating: ./data/segmented-images/images/cju45qbf3n9sa0987oonbkly9.jpg  \r\n",
      "  inflating: ./data/segmented-images/images/cju8c9akjsdjj0850s67uzlxq.jpg  \r\n",
      "  inflating: ./data/segmented-images/images/cju45jpvfn6c809873pv1i34s.jpg  \r\n",
      "  inflating: ./data/segmented-images/images/cju2lyynuymli0855g7fxgbhe.jpg  \r\n",
      "  inflating: ./data/segmented-images/images/cju3v3ac9gyz30755hfqwyp1i.jpg  \r\n",
      "  inflating: ./data/segmented-images/images/cju77k828z46w0871r0avuoo9.jpg  \r\n",
      "  inflating: ./data/segmented-images/images/cju2z2x3nvd3c099350zgty7w.jpg  \r\n",
      "  inflating: ./data/segmented-images/images/cju41kd7yl4nm0850gil5qqwh.jpg  \r\n",
      "  inflating: ./data/segmented-images/images/cju7b2l561oas0871decgslaf.jpg  \r\n",
      "  inflating: ./data/segmented-images/images/cju7cl8zm1xcu0817ado0jpas.jpg  \r\n",
      "  inflating: ./data/segmented-images/images/cju45ty6zn9oz0850qy4qnck1.jpg  \r\n",
      "  inflating: ./data/segmented-images/images/cju7ae7bq1f820987toc8si1d.jpg  \r\n",
      "  inflating: ./data/segmented-images/images/cju76l27oyrw907551ri2a7fl.jpg  \r\n",
      "  inflating: ./data/segmented-images/images/cju0vtox5ain6099360pu62rp.jpg  \r\n",
      "  inflating: ./data/segmented-images/images/cju1hp9i2xu8e0988u2dazk7m.jpg  \r\n",
      "  inflating: ./data/segmented-images/images/cju88k75inzyb0850ccv5x3vk.jpg  \r\n",
      "  inflating: ./data/segmented-images/images/cju30bmab08bi0835mvlr6e0r.jpg  \r\n",
      "  inflating: ./data/segmented-images/images/cju85bf1algsq0871y9gtlq97.jpg  \r\n",
      "  inflating: ./data/segmented-images/images/cju2uokeg5jm20799xwgsyz89.jpg  \r\n",
      "  inflating: ./data/segmented-images/images/cju1871y11d6r0799k6cw4yze.jpg  \r\n",
      "  inflating: ./data/segmented-images/images/cju2omjpeqj5a0988pjdlb8l1.jpg  \r\n",
      "  inflating: ./data/segmented-images/images/cju7crgxa28550755wbsgqkel.jpg  \r\n",
      "  inflating: ./data/segmented-images/images/cju6xlygpw7bs0818n691jsq4.jpg  \r\n",
      "  inflating: ./data/segmented-images/images/cju7787c5yy3l080159mwqsnj.jpg  \r\n",
      "  inflating: ./data/segmented-images/images/cju1bhnfitmge0835ynls0l6b.jpg  \r\n",
      "  inflating: ./data/segmented-images/images/cju5c7oijaqmq09878qwgqv8n.jpg  \r\n",
      "  inflating: ./data/segmented-images/images/cju7ezs7g2mxm098787atbran.jpg  \r\n",
      "  inflating: ./data/segmented-images/images/cju2qtee81yd708787bsjr75d.jpg  \r\n",
      "  inflating: ./data/segmented-images/images/cju42g865lorv07552ytz6xxa.jpg  \r\n"
     ]
    },
    {
     "name": "stdout",
     "output_type": "stream",
     "text": [
      "  inflating: ./data/segmented-images/images/cju6us80mv1b50871ebyq2wxa.jpg  \r\n",
      "  inflating: ./data/segmented-images/images/cju87vqa0ndwg0850onjdz7ol.jpg  \r\n",
      "  inflating: ./data/segmented-images/images/cju2sxf3iqbpv09937iksn8ep.jpg  \r\n",
      "  inflating: ./data/segmented-images/images/cju5wtdu4m0im0871mix0yvc0.jpg  \r\n",
      "  inflating: ./data/segmented-images/images/cju8ando2qqdo0818ck7i1be1.jpg  \r\n",
      "  inflating: ./data/segmented-images/images/cju85plp7lmkw0850rx42jdpf.jpg  \r\n",
      "  inflating: ./data/segmented-images/images/cju2u4pymvc720988wsxrmi84.jpg  \r\n",
      "  inflating: ./data/segmented-images/images/cju35k2fr3vc50988c85qkrwg.jpg  \r\n",
      "  inflating: ./data/segmented-images/images/cju2qz06823a40878ojcz9ccx.jpg  \r\n",
      "  inflating: ./data/segmented-images/images/cju324q101fhe08350wae9cif.jpg  \r\n",
      "  inflating: ./data/segmented-images/images/cju42u5bjlvi10801dc13sskp.jpg  \r\n",
      "  inflating: ./data/segmented-images/images/cju7bb3ss1uoo0755pmhyco7t.jpg  \r\n",
      "  inflating: ./data/segmented-images/images/cju2oo0wh0bqy0878biujeyhe.jpg  \r\n",
      "  inflating: ./data/segmented-images/images/cju87z6o6nh73085045bzsx6o.jpg  \r\n",
      "  inflating: ./data/segmented-images/images/cju1haab178i70799tk9z8y8x.jpg  \r\n",
      "  inflating: ./data/segmented-images/images/cju7dda8w2br20818zhsuz8s7.jpg  \r\n",
      "  inflating: ./data/segmented-images/images/cju2trbpkv0c00988hxla5dzz.jpg  \r\n",
      "  inflating: ./data/segmented-images/images/cju1c6yfz42md08550zgoz3pw.jpg  \r\n",
      "  inflating: ./data/segmented-images/images/cju7dsrtb2f8i085064kwugfk.jpg  \r\n",
      "  inflating: ./data/segmented-images/images/cju2t16vuucaq0835xcpsivn2.jpg  \r\n",
      "  inflating: ./data/segmented-images/images/cju3521y5d5mq0878t3ezsu4p.jpg  \r\n",
      "  inflating: ./data/segmented-images/images/cju2hdr06v2bq0799mbm3bks1.jpg  \r\n",
      "  inflating: ./data/segmented-images/images/cju41s6nbleqy0755e2mslg0b.jpg  \r\n",
      "  inflating: ./data/segmented-images/images/cju13hp5rnbjx0835bf0jowgx.jpg  \r\n",
      "  inflating: ./data/segmented-images/images/cju1fm3id6gl50801r3fok20c.jpg  \r\n",
      "  inflating: ./data/segmented-images/images/cju2pmhtr17a00855cvpelzb0.jpg  \r\n",
      "  inflating: ./data/segmented-images/images/cju2u2b9o4zvp08788qb9nqxj.jpg  \r\n",
      "  inflating: ./data/segmented-images/images/cju8a56vxpy780850r45yu4wk.jpg  \r\n",
      "  inflating: ./data/segmented-images/images/cju6vvb8svhed0801jjcquh5e.jpg  \r\n",
      "  inflating: ./data/segmented-images/images/cju2sggy13na70855tbeoqgha.jpg  \r\n",
      "  inflating: ./data/segmented-images/images/ck2bxknhjvs1x0794iogrq49k.jpg  \r\n",
      "  inflating: ./data/segmented-images/images/cju785htizjzo08017tvlhtg4.jpg  \r\n",
      "  inflating: ./data/segmented-images/images/cju5bdwa3aatx0818b79i18zf.jpg  \r\n",
      "  inflating: ./data/segmented-images/images/cju5yjq1pmlgc0801z0t24bly.jpg  \r\n",
      "  inflating: ./data/segmented-images/images/cju16b6ynq8e40988m8vx0xnj.jpg  \r\n",
      "  inflating: ./data/segmented-images/images/cju41nz76lcxu0755cya2qefx.jpg  \r\n",
      "  inflating: ./data/segmented-images/images/cju5xopi0md7q0871r1sjc1av.jpg  \r\n",
      "  inflating: ./data/segmented-images/images/cju8bafgqrf4x0818twisk3ea.jpg  \r\n",
      "  inflating: ./data/segmented-images/images/cju43b8daly4408170e5ev06g.jpg  \r\n",
      "  inflating: ./data/segmented-images/images/cju0rx1idathl0835detmsp84.jpg  \r\n",
      "  inflating: ./data/segmented-images/images/cju2qvuj1s9ok0835tp2k4ozh.jpg  \r\n",
      "  inflating: ./data/segmented-images/images/cju33w4sdcivk0855x879zht7.jpg  \r\n",
      "  inflating: ./data/segmented-images/images/cju2ycp1u8g2r0799jslnp7cz.jpg  \r\n",
      "  inflating: ./data/segmented-images/images/cju2tjrog4jy30878pawyazqc.jpg  \r\n",
      "  inflating: ./data/segmented-images/images/cju5jz5fff8c50871hbe6108f.jpg  \r\n",
      "  inflating: ./data/segmented-images/images/cju6xa0qmvzun0818xjukgncj.jpg  \r\n",
      "  inflating: ./data/segmented-images/images/cju8bysfgrzkl081786jwac09.jpg  \r\n",
      "  inflating: ./data/segmented-images/images/cju5bhv81abur0850ean02atv.jpg  \r\n",
      "  inflating: ./data/segmented-images/images/cju42nm68lpyo0818xvvqmupq.jpg  \r\n",
      "  inflating: ./data/segmented-images/images/cju6wi3akvn8r0801px8eligc.jpg  \r\n",
      "  inflating: ./data/segmented-images/images/cju1fuoa4wmc50835qfd11sp9.jpg  \r\n",
      "  inflating: ./data/segmented-images/images/cju2tzypl4wss0799ow05oxb9.jpg  \r\n",
      "  inflating: ./data/segmented-images/images/cju8djdqztu6408506pzhlo18.jpg  \r\n",
      "  inflating: ./data/segmented-images/images/cju1fr4etsmrr09933u4t4aql.jpg  \r\n",
      "  inflating: ./data/segmented-images/images/cju2pkwt3r8b90988v2ywq1px.jpg  \r\n",
      "  inflating: ./data/segmented-images/images/cju336l68y7if0993wf092166.jpg  \r\n",
      "  inflating: ./data/segmented-images/images/cju5k3j3uf6de0817hszzfr7n.jpg  \r\n",
      "  inflating: ./data/segmented-images/images/cju5ft6mcd5q40987rhjgbrr6.jpg  \r\n",
      "  inflating: ./data/segmented-images/images/cju7db7lp2f400755tntd1ohf.jpg  \r\n",
      "  inflating: ./data/segmented-images/images/cju893jmdompz0817xn3g1w4h.jpg  \r\n",
      "  inflating: ./data/segmented-images/images/cju1cqc7n4gpy0855jt246k68.jpg  \r\n",
      "  inflating: ./data/segmented-images/images/cju5enq1tcn1i0755hnkon787.jpg  \r\n",
      "  inflating: ./data/segmented-images/images/cju8cgi2kspp308011nxdtjp6.jpg  \r\n",
      "  inflating: ./data/segmented-images/images/cju5hl8nee8a40755fm8qjj0o.jpg  \r\n",
      "  inflating: ./data/segmented-images/images/cju8c5mxls96t0850wvkvsity.jpg  \r\n",
      "  inflating: ./data/segmented-images/images/cju3u1c8tfyqx08503iedc3mx.jpg  \r\n",
      "  inflating: ./data/segmented-images/images/cju89z6pqpqfx0817mfv8ixjc.jpg  \r\n",
      "  inflating: ./data/segmented-images/images/cju6xmqd9w0250817l5kxfnsk.jpg  \r\n",
      "  inflating: ./data/segmented-images/images/cju2m71z2ywwv080131bcrsd3.jpg  \r\n",
      "  inflating: ./data/segmented-images/images/cju34sh43d8zm08019xbwhc0o.jpg  \r\n",
      "  inflating: ./data/segmented-images/images/cju2nyc5f02m40801ojqbtiea.jpg  \r\n",
      "  inflating: ./data/segmented-images/images/cju7fd6yt2p740987wkr8exo1.jpg  \r\n",
      "  inflating: ./data/segmented-images/images/cju846ec0kj7z08012o10klrb.jpg  \r\n",
      "  inflating: ./data/segmented-images/images/cju7ey10f2rvf0871bwbi9x82.jpg  \r\n",
      "  inflating: ./data/segmented-images/images/cju2u73dj53oz0878486k8k4b.jpg  \r\n",
      "  inflating: ./data/segmented-images/images/cju7apr0c1qqm0755s7msqot4.jpg  \r\n",
      "  inflating: ./data/segmented-images/images/cju83h9ysjwe808716nt35oah.jpg  \r\n",
      "  inflating: ./data/segmented-images/images/cju3xzvnzj0hd0755xprz39nj.jpg  \r\n",
      "  inflating: ./data/segmented-images/images/cju7fbndk2sl608015ravktum.jpg  \r\n",
      "  inflating: ./data/segmented-images/images/cju85mpuglq8k0818d2it6hzb.jpg  \r\n",
      "  inflating: ./data/segmented-images/images/cju2zblxw9848087853csbrx1.jpg  \r\n",
      "  inflating: ./data/segmented-images/images/cju6v1m1xv07w09870ah3njy1.jpg  \r\n",
      "  inflating: ./data/segmented-images/images/cju8d4jgatgpj0871q2ophhkm.jpg  \r\n",
      "  inflating: ./data/segmented-images/images/cju2zo0fwzv580988qlijd2xa.jpg  \r\n",
      "  inflating: ./data/segmented-images/images/cju2hewssldzx0835ep795xu0.jpg  \r\n",
      "  inflating: ./data/segmented-images/images/cju1b0y2e396p08558ois175d.jpg  \r\n",
      "  inflating: ./data/segmented-images/images/cju1ftaji6isw0855108yqcse.jpg  \r\n",
      "  inflating: ./data/segmented-images/images/cju7aifyo1p3n07552nxjx51f.jpg  \r\n",
      "  inflating: ./data/segmented-images/images/cju418rckl3ur08012psrx1r1.jpg  \r\n",
      "  inflating: ./data/segmented-images/images/cju6vqarjv7yo0987q4b1btk1.jpg  \r\n",
      "  inflating: ./data/segmented-images/images/cju8adb60qbiu080188mxpf8d.jpg  \r\n",
      "  inflating: ./data/segmented-images/images/cju8aj01yqeqm0850lhdz3xdw.jpg  \r\n",
      "  inflating: ./data/segmented-images/images/cju5uxjnol2r509871qv2yeia.jpg  \r\n",
      "  inflating: ./data/segmented-images/images/cju8aeei7q8k308173n9y4klv.jpg  \r\n",
      "  inflating: ./data/segmented-images/images/cju2hlm19vjjf0801o69qnber.jpg  \r\n",
      "  inflating: ./data/segmented-images/images/cju33o12x2jm50988944mxq0v.jpg  \r\n",
      "  inflating: ./data/segmented-images/images/cju5vwbr4lhqn0987a1pji0ux.jpg  \r\n",
      "  inflating: ./data/segmented-images/images/cju88vx2uoocy075531lc63n3.jpg  \r\n",
      "  inflating: ./data/segmented-images/images/cju7et17a2vjk0755e743npl1.jpg  \r\n",
      "  inflating: ./data/segmented-images/images/cju43mkj9m8wb0871qiadahub.jpg  \r\n",
      "  inflating: ./data/segmented-images/images/cju5o1vu9gz8a0818eyy92bns.jpg  \r\n",
      "  inflating: ./data/segmented-images/images/cju77re6fz5bb0817vp9redjg.jpg  \r\n",
      "  inflating: ./data/segmented-images/images/cju160wshltz10993i1gmqxbe.jpg  \r\n",
      "  inflating: ./data/segmented-images/images/cju34ymm8d6700799uop0cw33.jpg  \r\n",
      "  inflating: ./data/segmented-images/images/cju2rkjfwoxys0993x768l1j2.jpg  \r\n",
      "  inflating: ./data/segmented-images/images/cju783tmkzkqu081803g7q5vk.jpg  \r\n",
      "  inflating: ./data/segmented-images/images/cju7amjna1ly40871ugiokehb.jpg  \r\n",
      "  inflating: ./data/segmented-images/images/cju0sxqiclckk08551ycbwhno.jpg  \r\n",
      "  inflating: ./data/segmented-images/images/cju7f4sc62xqj075597xpmuoy.jpg  \r\n",
      "  inflating: ./data/segmented-images/images/cju45rj7ln8980850a7821fov.jpg  \r\n",
      "  inflating: ./data/segmented-images/images/cju1fjsb4sipq09931lvd8e41.jpg  \r\n",
      "  inflating: ./data/segmented-images/images/cju7fcgbe2z3p07550vaflqdb.jpg  \r\n",
      "  inflating: ./data/segmented-images/images/cju2qdj95ru8g09886gfi9rsz.jpg  \r\n",
      "  inflating: ./data/segmented-images/images/cju8buos5rz9b08715lfr0f4f.jpg  \r\n",
      "  inflating: ./data/segmented-images/images/cju2zr3c3vwb00993jn06bbaz.jpg  \r\n",
      "  inflating: ./data/segmented-images/images/cju1euuc65wm00799m4sjdnnn.jpg  \r\n",
      "  inflating: ./data/segmented-images/images/cju8cj10qsrau0871o2dr6ai1.jpg  \r\n",
      "  inflating: ./data/segmented-images/images/cju5klveuff6w0871wbibgh3m.jpg  \r\n",
      "  inflating: ./data/segmented-images/images/cju5x00l6m5j608503k78ptee.jpg  \r\n",
      "  inflating: ./data/segmented-images/images/cju42qet0lsq90871e50xbnuv.jpg  \r\n",
      "  inflating: ./data/segmented-images/images/cju330ofbc2l30801th5g3hw6.jpg  \r\n",
      "  inflating: ./data/segmented-images/images/cju320gyvbch60801v2amdi2g.jpg  \r\n",
      "  inflating: ./data/segmented-images/images/cju5bf6hxa6m50817rbwettgu.jpg  \r\n",
      "  inflating: ./data/segmented-images/images/cju5thdbrjp1108715xdfx356.jpg  \r\n",
      "  inflating: ./data/segmented-images/images/cju1hhj6mxfp90835n3wofrap.jpg  \r\n",
      "  inflating: ./data/segmented-images/images/ck2bxskgxxzfv08386xkqtqdy.jpg  \r\n",
      "  inflating: ./data/segmented-images/images/cju5hwonqedw10801vsd3w6kk.jpg  \r\n",
      "  inflating: ./data/segmented-images/images/cju888fr7nveu0818r9uwtiit.jpg  \r\n",
      "  inflating: ./data/segmented-images/images/cju1c0qb4tzi308355wtsnp0y.jpg  \r\n",
      "  inflating: ./data/segmented-images/images/cju6wll7wvo3y08502pagos8m.jpg  \r\n",
      "  inflating: ./data/segmented-images/images/cju8b2rmgr52s0801p54eyflx.jpg  \r\n",
      "  inflating: ./data/segmented-images/images/cju6xifswvwbo0987nibtdr50.jpg  \r\n",
      "  inflating: ./data/segmented-images/images/cju45v0pungu40871acnwtmu5.jpg  \r\n",
      "  inflating: ./data/segmented-images/images/cju7d2q1k27nf08715zshsckt.jpg  \r\n",
      "  inflating: ./data/segmented-images/images/cju8azmhcr66e0755t61atz72.jpg  \r\n",
      "  inflating: ./data/segmented-images/images/cju8dic9mtppa0987swn23wbc.jpg  \r\n",
      "  inflating: ./data/segmented-images/images/cju424hy5lckr085073fva1ok.jpg  \r\n",
      "  inflating: ./data/segmented-images/images/cju8bi8q7rlmn0871abc5ch8k.jpg  \r\n",
      "  inflating: ./data/segmented-images/images/cju1d50a94qf50855wsowacrc.jpg  \r\n",
      "  inflating: ./data/segmented-images/images/cju1amqw6p8pw0993d9gc5crl.jpg  \r\n",
      "  inflating: ./data/segmented-images/images/cju5huurrecm70801y680y13m.jpg  \r\n",
      "  inflating: ./data/segmented-images/images/cju1brhsj3rls0855a1vgdlen.jpg  \r\n",
      "  inflating: ./data/segmented-images/images/cju85dx63lic408017f0l0400.jpg  \r\n",
      "  inflating: ./data/segmented-images/images/cju88t4fvokxf07558ymyh281.jpg  \r\n",
      "  inflating: ./data/segmented-images/images/cju31w6goazci0799n014ly1q.jpg  \r\n",
      "  inflating: ./data/segmented-images/images/cju8bbznkrf5g0871jncffynk.jpg  \r\n",
      "  inflating: ./data/segmented-images/images/cju85citjlnfm0755i4rk5tqj.jpg  \r\n",
      "  inflating: ./data/segmented-images/images/cju3x5u2tiihx0818914gzxy1.jpg  \r\n",
      "  inflating: ./data/segmented-images/images/cju1djtprvd7b0988thwwrg09.jpg  \r\n",
      "  inflating: ./data/segmented-images/images/cju7fmvpk2q170987v6i3ola8.jpg  \r\n",
      "  inflating: ./data/segmented-images/images/cju7fq7mm2pw508176uk5ugtx.jpg  \r\n",
      "  inflating: ./data/segmented-images/images/cju774fmayxif0818u2g79usw.jpg  \r\n",
      "  inflating: ./data/segmented-images/images/cju2zrojo9kcd0878ld2epejq.jpg  \r\n",
      "  inflating: ./data/segmented-images/images/cju6z1bzbwfq50817b2alatvr.jpg  \r\n",
      "  inflating: ./data/segmented-images/images/cju6ut4l8va6y0755tyw3vfqq.jpg  \r\n",
      "  inflating: ./data/segmented-images/images/cju5yimthmlv80850zhoc90c2.jpg  \r\n",
      "  inflating: ./data/segmented-images/images/cju5g163vd6mt0817uccuga6u.jpg  \r\n",
      "  inflating: ./data/segmented-images/images/cju84ffdzkrjn08183jh1fxmb.jpg  \r\n",
      "  inflating: ./data/segmented-images/images/cju5y7buemcw80987p0r30g9f.jpg  \r\n",
      "  inflating: ./data/segmented-images/images/cju5bmhdcafs909878qfzrqzi.jpg  \r\n",
      "  inflating: ./data/segmented-images/images/cju8a2itsq4dv0755ntlovpxe.jpg  \r\n",
      "  inflating: ./data/segmented-images/images/cju1gghyjwxt80835vx0wgxw0.jpg  \r\n",
      "  inflating: ./data/segmented-images/images/cju30ov1oah920801mi8thuyg.jpg  \r\n",
      "  inflating: ./data/segmented-images/images/cju5v8pgplg6k0755rvi2t63h.jpg  \r\n",
      "  inflating: ./data/segmented-images/images/cju85nr8elly209872w9n5m0s.jpg  \r\n",
      "  inflating: ./data/segmented-images/images/cju2spdagu1l50835da1f46fr.jpg  \r\n",
      "  inflating: ./data/segmented-images/images/cju7dff9529h208503w60lbil.jpg  \r\n",
      "  inflating: ./data/segmented-images/images/cju7bf1lp1shi081835vs84lc.jpg  \r\n",
      "  inflating: ./data/segmented-images/images/cju32upim1z7u0988l883nqp6.jpg  \r\n",
      "  inflating: ./data/segmented-images/images/cju7evxt12m730987rxivne3x.jpg  \r\n",
      "  inflating: ./data/segmented-images/images/cju2mfjndoz700988b9lc3zeq.jpg  \r\n",
      "  inflating: ./data/segmented-images/images/cju88v2f9oi8w0871hx9auh01.jpg  \r\n",
      "  inflating: ./data/segmented-images/images/cju35a77vdj4n08556jj2lgmc.jpg  \r\n",
      "  inflating: ./data/segmented-images/images/cju1cdxvz48hw0801i0fjwcnk.jpg  \r\n",
      "  inflating: ./data/segmented-images/images/cju8bpctzrqkr0850zeldv9kt.jpg  \r\n",
      "  inflating: ./data/segmented-images/images/cju2nbdpmlmcj0993s1cht0dz.jpg  \r\n",
      "  inflating: ./data/segmented-images/images/cju7ahtkb1jr90801jck4kbds.jpg  \r\n",
      "  inflating: ./data/segmented-images/images/cju8b542nr81x0871uxnkm9ih.jpg  \r\n",
      "  inflating: ./data/segmented-images/images/cju7fpfzq2wyf0818xxd1oziv.jpg  \r\n",
      "  inflating: ./data/segmented-images/images/cju5ufn3skquf0818dhapnhba.jpg  \r\n",
      "  inflating: ./data/segmented-images/images/cju45t5ddnbio0987qtqzx762.jpg  \r\n",
      "  inflating: ./data/segmented-images/images/cju42dwedlmk60871jbgu4ehi.jpg  \r\n",
      "  inflating: ./data/segmented-images/images/cju5f0dezct4q08183ydw11dx.jpg  \r\n",
      "  inflating: ./data/segmented-images/images/cju3xl264ingx0850rcf0rshj.jpg  \r\n",
      "  inflating: ./data/segmented-images/images/cju3tvffffx5f0818t5ov22al.jpg  \r\n",
      "  inflating: ./data/segmented-images/images/cju2ij9uiic2l09933ljiv6gm.jpg  \r\n",
      "  inflating: ./data/segmented-images/images/cju0roawvklrq0799vmjorwfv.jpg  \r\n",
      "  inflating: ./data/segmented-images/images/cju33qpdvc9g0087825jhf3s9.jpg  \r\n",
      "  inflating: ./data/segmented-images/images/cju849c23kgnk0817cgv2hw1e.jpg  \r\n",
      "  inflating: ./data/segmented-images/images/cju2rxm8rpbaf0993o3qr2oph.jpg  \r\n",
      "  inflating: ./data/segmented-images/images/cju40u30gkuzc0871rq7t666d.jpg  \r\n",
      "  inflating: ./data/segmented-images/images/cju3v11mrgwwb0755u242ygye.jpg  \r\n",
      "  inflating: ./data/segmented-images/images/cju7d5m0p23kn09871rk7pu3v.jpg  \r\n",
      "  inflating: ./data/segmented-images/images/cju8bssulrrcy0987h1vq5060.jpg  \r\n",
      "  inflating: ./data/segmented-images/images/cju5y84q3mdv50817eyp82xf3.jpg  \r\n",
      "  inflating: ./data/segmented-images/images/cju43in5fm22c08175rxziqrk.jpg  \r\n",
      "  inflating: ./data/segmented-images/images/cju5wrrs0m2af0818vmnajbtw.jpg  \r\n",
      "  inflating: ./data/segmented-images/images/cju5wi6bqlxy90755bu227nvb.jpg  \r\n",
      "  inflating: ./data/segmented-images/images/cju1cu1u2474n0878tt7v4tdr.jpg  \r\n",
      "  inflating: ./data/segmented-images/images/cju8bn7m2rmm70817hgxpb1uq.jpg  \r\n",
      "  inflating: ./data/segmented-images/images/cju1dhfok4mhe0878jlgrag0h.jpg  \r\n",
      "  inflating: ./data/segmented-images/images/cju45n0oxn5vu08500yfrt9jn.jpg  \r\n",
      "  inflating: ./data/segmented-images/images/cju3y0pjrj1c30755nxekxccj.jpg  \r\n",
      "  inflating: ./data/segmented-images/images/cju858eswlepn0871pzvdrhj1.jpg  \r\n",
      "  inflating: ./data/segmented-images/images/cju88evxanv9r08176zkeovec.jpg  \r\n",
      "  inflating: ./data/segmented-images/images/cju5f8hxdcxxn08188obby0ea.jpg  \r\n",
      "  inflating: ./data/segmented-images/images/cju5bbtwsa8cl0987wgfsqpao.jpg  \r\n",
      "  inflating: ./data/segmented-images/images/cju35i2e63uxr0835h7zgkg9k.jpg  \r\n",
      "  inflating: ./data/segmented-images/images/cju2r7h21sj9608354gzks3ae.jpg  \r\n",
      "  inflating: ./data/segmented-images/images/cju2z9vlp9j0w0801oag91sy9.jpg  \r\n",
      "  inflating: ./data/segmented-images/images/cju2okvco06xc0799kxe5n1qh.jpg  \r\n",
      "  inflating: ./data/segmented-images/images/cju7alcgr1lsr0871riqk84z7.jpg  \r\n",
      "  inflating: ./data/segmented-images/images/cju7azuu31mia0801pf9ib5ed.jpg  \r\n",
      "  inflating: ./data/segmented-images/images/cju2nfnvxzdkd0878399axlco.jpg  \r\n",
      "  inflating: ./data/segmented-images/images/cju34fojcctcf0799ebolbvkn.jpg  \r\n",
      "  inflating: ./data/segmented-images/images/cju8bh8surexp0987o5pzklk1.jpg  \r\n",
      "  inflating: ./data/segmented-images/images/cju8418jhkf7d0818ga2v0xq0.jpg  \r\n",
      "  inflating: ./data/segmented-images/images/cju43o6n7m9nk087191ijwqq9.jpg  \r\n",
      "  inflating: ./data/segmented-images/images/cju2trtjf4qjd0878a2zle9v9.jpg  \r\n",
      "  inflating: ./data/segmented-images/images/cju5vbo6jldrt0871jf6f1700.jpg  \r\n",
      "  inflating: ./data/segmented-images/images/cju3xga12iixg0817dijbvjxw.jpg  \r\n",
      "  inflating: ./data/segmented-images/images/cju7dymur2od30755eg8yv2ht.jpg  \r\n",
      "  inflating: ./data/segmented-images/images/cju5ccpvqash50850kb4bs22k.jpg  \r\n",
      "  inflating: ./data/segmented-images/images/cju8c5zcbsdfz0801o5t6jag1.jpg  \r\n",
      "  inflating: ./data/segmented-images/images/cju2y5zas8m7f0801d34g5owq.jpg  \r\n",
      "  inflating: ./data/segmented-images/images/cju2nnqrqzp580855z8mhzgd6.jpg  \r\n",
      "  inflating: ./data/segmented-images/images/cju3u815rg4ek0850vvhtcvcm.jpg  \r\n",
      "  inflating: ./data/segmented-images/images/cju3xhpvvimda0987ygrpzni2.jpg  \r\n",
      "  inflating: ./data/segmented-images/images/cju3y21quj0ir0818kgjagr15.jpg  \r\n",
      "  inflating: ./data/segmented-images/images/cju30u1hbakn808019g15nb8b.jpg  \r\n",
      "  inflating: ./data/segmented-images/images/cju8c6hnxsdvr0801wn0vrsa6.jpg  \r\n",
      "  inflating: ./data/segmented-images/images/cju5fu081d8gc0818l3yylujk.jpg  \r\n",
      "  inflating: ./data/segmented-images/images/cju77g99iyxc00817zqi2ppor.jpg  \r\n",
      "  inflating: ./data/segmented-images/images/cju30lncba3ny0878jwnous8n.jpg  \r\n",
      "  inflating: ./data/segmented-images/images/cju43h43am1dy08176gwfhmnt.jpg  \r\n",
      "  inflating: ./data/segmented-images/images/cju8cattbsivm0818p446wgel.jpg  \r\n",
      "  inflating: ./data/segmented-images/images/cju1csmlc4ht10799b8ymmghg.jpg  \r\n",
      "  inflating: ./data/segmented-images/images/cju35ldepdtlm0801yv79y8vu.jpg  \r\n",
      "  inflating: ./data/segmented-images/images/cju1euant5l960878iqj5vvto.jpg  \r\n",
      "  inflating: ./data/segmented-images/images/cju87q6yoneim0871dl4phvkd.jpg  \r\n",
      "  inflating: ./data/segmented-images/images/cju5vzjoslpj708186z2fusmz.jpg  \r\n",
      "  inflating: ./data/segmented-images/images/cju5wmvsdlx1j0871npgj8j4b.jpg  \r\n",
      "  inflating: ./data/segmented-images/images/cju83mki1jv5w0817kubxm31r.jpg  \r\n",
      "  inflating: ./data/segmented-images/images/cju40taxlkrho0987smigg0x0.jpg  \r\n",
      "  inflating: ./data/segmented-images/images/cju32pzh9bpw10855q4vaxfhe.jpg  \r\n",
      "  inflating: ./data/segmented-images/images/cju3x9lttikfb0818a0g104zn.jpg  \r\n",
      "  inflating: ./data/segmented-images/images/cju773hsyyosz0817pk1e7sjq.jpg  \r\n",
      "  inflating: ./data/segmented-images/images/cju2zwg05a0oy0801yr73ig7g.jpg  \r\n",
      "  inflating: ./data/segmented-images/images/cju2tvrvm53ws0801a0jfjdxg.jpg  \r\n",
      "  inflating: ./data/segmented-images/images/cju3uwz6ogsp10801h2r3bj5l.jpg  \r\n",
      "  inflating: ./data/segmented-images/images/cju2y0z6g87p10878fpk5d3rq.jpg  \r\n",
      "  inflating: ./data/segmented-images/images/cju32jcdabepz0878d0cznmfe.jpg  \r\n",
      "  inflating: ./data/segmented-images/images/cju15mhjczc8z0801kit5c6di.jpg  \r\n",
      "  inflating: ./data/segmented-images/images/cju8432cmkgq90871cxe4iptl.jpg  \r\n",
      "  inflating: ./data/segmented-images/images/cju5w7xn0lrkq0801f9k0htgx.jpg  \r\n",
      "  inflating: ./data/segmented-images/images/cju7d7aut2a2p0818z4uxc6cd.jpg  \r\n",
      "  inflating: ./data/segmented-images/images/cju2i8br1vqtd08784u6vmcjk.jpg  \r\n",
      "  inflating: ./data/segmented-images/images/cju2qh5le1ock0878oahaql7d.jpg  \r\n",
      "  inflating: ./data/segmented-images/images/ck2bxpfgxu2mk0748gsh7xelu.jpg  \r\n",
      "  inflating: ./data/segmented-images/images/cju87kbcen2av0987usezo8kn.jpg  \r\n",
      "  inflating: ./data/segmented-images/images/cju7bmi1v1pnj0987pa52jjok.jpg  \r\n",
      "  inflating: ./data/segmented-images/images/cju5o4pk9h0720755lgp9jq8m.jpg  \r\n",
      "  inflating: ./data/segmented-images/images/cju7f6cqy2ur20818t1saazbm.jpg  \r\n",
      "  inflating: ./data/segmented-images/images/cju1cyjb5qtie0993njqne9m3.jpg  \r\n",
      "  inflating: ./data/segmented-images/images/ck2bxiswtxuw80838qkisqjwz.jpg  \r\n",
      "  inflating: ./data/segmented-images/images/cju7frtqu2xa20818wq8r9fzf.jpg  \r\n",
      "  inflating: ./data/segmented-images/images/cju31ugmfb3dz0855xtqshki6.jpg  \r\n",
      "  inflating: ./data/segmented-images/images/cju2xjz2ju8pe0993ysv9wg17.jpg  \r\n",
      "  inflating: ./data/segmented-images/images/cju784jpdzeae0987q5ypq883.jpg  \r\n"
     ]
    },
    {
     "name": "stdout",
     "output_type": "stream",
     "text": [
      "  inflating: ./data/segmented-images/images/cju8b8yair65w09878pyqtr96.jpg  \r\n",
      "  inflating: ./data/segmented-images/images/cju7cp6dw244p0818gncdol4m.jpg  \r\n",
      "  inflating: ./data/segmented-images/images/cju88aq6vo1ij0755c2ey7z7n.jpg  \r\n",
      "  inflating: ./data/segmented-images/images/cju3v664kh0px0818y4y7wolf.jpg  \r\n",
      "  inflating: ./data/segmented-images/images/cju5x15djm7ae0755h8czf6nt.jpg  \r\n",
      "  inflating: ./data/segmented-images/images/cju88l66no10s0850rsda7ej1.jpg  \r\n",
      "  inflating: ./data/segmented-images/images/cju6ywm40wdbo0987pbftsvtg.jpg  \r\n",
      "  inflating: ./data/segmented-images/images/cju17r8il13910799dr2wme2e.jpg  \r\n",
      "  inflating: ./data/segmented-images/images/cju7cufm7298k0755j09uf3of.jpg  \r\n",
      "  inflating: ./data/segmented-images/images/cju2xf8e5y2wm08359vcgk09b.jpg  \r\n",
      "  inflating: ./data/segmented-images/images/cju7g7ba42z310987bqzbi2bq.jpg  \r\n",
      "  inflating: ./data/segmented-images/images/cju3ul8dogf1z09872y2ecowp.jpg  \r\n",
      "  inflating: ./data/segmented-images/images/cju33eqwbcch208012jikwdky.jpg  \r\n",
      "  inflating: ./data/segmented-images/images/cju2hfqnmhisa0993gpleeldd.jpg  \r\n",
      "  inflating: ./data/segmented-images/images/cju34c1xfyz920993itxkkfad.jpg  \r\n",
      "  inflating: ./data/segmented-images/images/cju43gfosm63n08714rpih8pe.jpg  \r\n",
      "  inflating: ./data/segmented-images/images/cju7dhpsc2dnn0818025m6857.jpg  \r\n",
      "  inflating: ./data/segmented-images/images/cju34ds2531520988qjpqt6e3.jpg  \r\n",
      "  inflating: ./data/segmented-images/images/cju88gx09o2vk0818610zody3.jpg  \r\n",
      "  inflating: ./data/segmented-images/images/cju6uy20suzbl0987rzuhz7z9.jpg  \r\n",
      "  inflating: ./data/segmented-images/images/cju1g20bdwq6u0835e16xugcd.jpg  \r\n",
      "  inflating: ./data/segmented-images/images/cju6x35ervu2808015c7eoqe4.jpg  \r\n",
      "  inflating: ./data/segmented-images/images/cju5eftctcdbj08712gdp989f.jpg  \r\n",
      "  inflating: ./data/segmented-images/images/cju30qbm1ad3x0855znuhpz9u.jpg  \r\n",
      "  inflating: ./data/segmented-images/images/cju7awzmu1ncs0871hziy65zx.jpg  \r\n",
      "  inflating: ./data/segmented-images/images/cju7csvlb22fr0850lvm45n3x.jpg  \r\n",
      "  inflating: ./data/segmented-images/images/cju87xn2snfmv0987sc3d9xnq.jpg  \r\n",
      "  inflating: ./data/segmented-images/images/cju7bgnvb1sf808717qa799ir.jpg  \r\n",
      "  inflating: ./data/segmented-images/images/cju7d7tly27h408016fyp5nr7.jpg  \r\n",
      "  inflating: ./data/segmented-images/images/cju3yb47cj1xq0817zfotbni4.jpg  \r\n",
      "  inflating: ./data/segmented-images/images/cju412uwlkva50850d1ps1ww7.jpg  \r\n",
      "  inflating: ./data/segmented-images/images/cju85rkbnlo1c08503uxcpax1.jpg  \r\n",
      "  inflating: ./data/segmented-images/images/cju88cddensj00987788yotmg.jpg  \r\n",
      "  inflating: ./data/segmented-images/images/cju8b5p40r2c60987ofa0mu03.jpg  \r\n",
      "  inflating: ./data/segmented-images/images/cju13cgqmnhwn0988yrainhcp.jpg  \r\n",
      "  inflating: ./data/segmented-images/images/cju8d2q30tfhs0801n7lx77xl.jpg  \r\n",
      "  inflating: ./data/segmented-images/images/cju2ysg748ru80878sp6j0gm0.jpg  \r\n",
      "  inflating: ./data/segmented-images/images/cju3x7xsaijq80818f0psavav.jpg  \r\n",
      "  inflating: ./data/segmented-images/images/cju85qefyln6v0850szeb9byi.jpg  \r\n",
      "  inflating: ./data/segmented-images/images/cju2zdhsczmn50988z64qwg2q.jpg  \r\n",
      "  inflating: ./data/segmented-images/images/cju7b1ygu1msd0801hywhy0mc.jpg  \r\n",
      "  inflating: ./data/segmented-images/images/cju41lojblbs307555jdci937.jpg  \r\n",
      "  inflating: ./data/segmented-images/images/cju34ouumcznz07996gg1xq7v.jpg  \r\n",
      "  inflating: ./data/segmented-images/images/cju34zivp3fq80988opxbaqyn.jpg  \r\n",
      "  inflating: ./data/segmented-images/images/cju2lberzkdzm09938cl40pog.jpg  \r\n",
      "  inflating: ./data/segmented-images/images/cju6vvxsev9y30987kespucdg.jpg  \r\n",
      "  inflating: ./data/segmented-images/images/cju2raxlosl630988jdbfy9b0.jpg  \r\n",
      "  inflating: ./data/segmented-images/images/cju7atnm31if40817pqclnjer.jpg  \r\n",
      "  inflating: ./data/segmented-images/images/cju5xq3tdm9fn0987pbedxdg5.jpg  \r\n",
      "  inflating: ./data/segmented-images/images/cju183od81ff608017ekzif89.jpg  \r\n",
      "  inflating: ./data/segmented-images/images/cju7aqkue1i2k09879uzcpt8r.jpg  \r\n",
      "  inflating: ./data/segmented-images/images/cju2rn0hasxri0835nfy3buay.jpg  \r\n",
      "  inflating: ./data/segmented-images/images/cju2t3ibkuecr0835o7si16zv.jpg  \r\n",
      "  inflating: ./data/segmented-images/images/cju5x28nzm7t907558ocq4bt7.jpg  \r\n",
      "  inflating: ./data/segmented-images/images/cju787jnjzjuj0871p94nck9g.jpg  \r\n",
      "  inflating: ./data/segmented-images/images/cju2pag1f0s4r0878h52uq83s.jpg  \r\n",
      "  inflating: ./data/segmented-images/images/cju5boicjagt20871b1fotkh4.jpg  \r\n",
      "  inflating: ./data/segmented-images/images/cju3v72v5h1qz0818fggilwtq.jpg  \r\n",
      "  inflating: ./data/segmented-images/images/cju1fj6axwfp30835ukhuzhw9.jpg  \r\n",
      "  inflating: ./data/segmented-images/images/cju2phaksnahz0993yxogjcpv.jpg  \r\n",
      "  inflating: ./data/segmented-images/images/cju87tyddnnad0755bj0wxahe.jpg  \r\n",
      "  inflating: ./data/segmented-images/images/cju77q10sz9ug0801449wu1nu.jpg  \r\n",
      "  inflating: ./data/segmented-images/images/cju35c4wzdhow0799h6eq4sgs.jpg  \r\n",
      "  inflating: ./data/segmented-images/images/cju33yemn2qb20988wfjxximx.jpg  \r\n",
      "  inflating: ./data/segmented-images/images/cju43eigtm6ev0801mv0m96t1.jpg  \r\n",
      "  inflating: ./data/segmented-images/images/cju17z0qongpa0993de4boim4.jpg  \r\n",
      "  inflating: ./data/segmented-images/images/cju7d6ux323ze0987xos3srkx.jpg  \r\n",
      "  inflating: ./data/segmented-images/images/cju32fhnhbds40799broyoptc.jpg  \r\n",
      "  inflating: ./data/segmented-images/images/cju1f320ewfyu0988ndz6blh5.jpg  \r\n",
      "  inflating: ./data/segmented-images/images/cju16jgnyzp970878melv7r25.jpg  \r\n",
      "  inflating: ./data/segmented-images/images/cju77b3wyz4160755qis4ljsb.jpg  \r\n",
      "  inflating: ./data/segmented-images/images/cju5bycdkalkb09875f7bfrvx.jpg  \r\n",
      "  inflating: ./data/segmented-images/images/cju2zpw4q9vzr0801p0lysjdl.jpg  \r\n",
      "  inflating: ./data/segmented-images/images/cju32qr9tbvsj08013pkpjenq.jpg  \r\n",
      "  inflating: ./data/segmented-images/images/cju3uhb79gcgr0871orbrbi3x.jpg  \r\n",
      "  inflating: ./data/segmented-images/images/cju6wt9jvvn500871hjn3t3g0.jpg  \r\n",
      "  inflating: ./data/segmented-images/images/cju2z6ez69g4u0801qwt088lw.jpg  \r\n",
      "  inflating: ./data/segmented-images/images/cju303j5r062k098835zxfds5.jpg  \r\n",
      "  inflating: ./data/segmented-images/images/cju30gxjq0djk0988jytm49rs.jpg  \r\n",
      "  inflating: ./data/segmented-images/images/cju7cq6su27qv075574dir0r3.jpg  \r\n",
      "  inflating: ./data/segmented-images/images/cju3tp94kfstl08181awh6z49.jpg  \r\n",
      "  inflating: ./data/segmented-images/images/cju85l4yjlops0801fvmnwptf.jpg  \r\n",
      "  inflating: ./data/segmented-images/images/cju8cbsyssiqj0871gr4jedjp.jpg  \r\n",
      "  inflating: ./data/segmented-images/images/cju6yywx1whbb0871ksgfgf9f.jpg  \r\n",
      "  inflating: ./data/segmented-images/images/cju1dg44i4z3w0801nyz4p6zf.jpg  \r\n",
      "  inflating: ./data/segmented-images/images/cju31rb7vb6110801p9rhacuw.jpg  \r\n",
      "  inflating: ./data/segmented-images/images/cju2zi4l09f5807991s8do2b2.jpg  \r\n",
      "  inflating: ./data/segmented-images/images/cju1cj3f0qi5n0993ut8f49rj.jpg  \r\n",
      "  inflating: ./data/segmented-images/images/cju8c1a0ws7o208181c6lbsom.jpg  \r\n",
      "  inflating: ./data/segmented-images/images/cju30525w04r10835ygp257sb.jpg  \r\n",
      "  inflating: ./data/segmented-images/images/cju7dlk532dsh0871zvr6qz0r.jpg  \r\n",
      "  inflating: ./data/segmented-images/images/cju5vgawslbe30987ndeepc1b.jpg  \r\n",
      "  inflating: ./data/segmented-images/images/cju6x97w4vwua0850x0997r0a.jpg  \r\n",
      "  inflating: ./data/segmented-images/images/cju35mdz73x890835eynq1h9v.jpg  \r\n",
      "  inflating: ./data/segmented-images/images/cju8bqxxurs6i0850mu7mtef9.jpg  \r\n",
      "  inflating: ./data/segmented-images/images/cju7ea4om2l910801bohqjccy.jpg  \r\n",
      "  inflating: ./data/segmented-images/images/cju8at3s1qqqx0850hcq8nmnq.jpg  \r\n",
      "  inflating: ./data/segmented-images/images/cju6v3bb2v7xo085090blubyw.jpg  \r\n",
      "  inflating: ./data/segmented-images/images/cju885ikhnmkn09878s2lqtuh.jpg  \r\n",
      "  inflating: ./data/segmented-images/images/cju7b10ce1mnm08011c5bwyr4.jpg  \r\n",
      "  inflating: ./data/segmented-images/images/cju88rl5eo94l0850kf5wtrm1.jpg  \r\n",
      "  inflating: ./data/segmented-images/images/cju32srle1xfq083575i3fl75.jpg  \r\n",
      "  inflating: ./data/segmented-images/images/cju34o6dbd2lo0855aqlcy1hs.jpg  \r\n",
      "  inflating: ./data/segmented-images/images/cju1gi7jlwyld0835cdf6g6qz.jpg  \r\n",
      "  inflating: ./data/segmented-images/images/cju3xwpgviwlx0871rwm15q7v.jpg  \r\n",
      "  inflating: ./data/segmented-images/images/cju5knbbqfipk080128cggukq.jpg  \r\n",
      "  inflating: ./data/segmented-images/images/cju8czvnztbf40871b4m7t78w.jpg  \r\n",
      "  inflating: ./data/segmented-images/images/cju5ht88gedbu0755xrcuddcx.jpg  \r\n",
      "  inflating: ./data/segmented-images/images/cju1ffnjn6ctm08015perkg37.jpg  \r\n",
      "  inflating: ./data/segmented-images/images/cju2hgsptlfam0835o3b59h1o.jpg  \r\n",
      "  inflating: ./data/segmented-images/images/cju85c2d4ln1b0755zz1z3onx.jpg  \r\n",
      "  inflating: ./data/segmented-images/images/cju1h89h6xbnx08352k2790o9.jpg  \r\n",
      "  inflating: ./data/segmented-images/images/cju3128yi0rpu0988o4oo5n8n.jpg  \r\n",
      "  inflating: ./data/segmented-images/images/cju426tomlhll0818fc0i7nvh.jpg  \r\n",
      "  inflating: ./data/segmented-images/images/cju3xjqtpikx50817tppy6g84.jpg  \r\n",
      "  inflating: ./data/segmented-images/images/cju8567gdlcbq0801dwwyo2jt.jpg  \r\n",
      "  inflating: ./data/segmented-images/images/cju5von04litr08718j8po40a.jpg  \r\n",
      "  inflating: ./data/segmented-images/images/cju2ma647l0nj0993ot4deq2q.jpg  \r\n",
      "  inflating: ./data/segmented-images/images/cju7arvfe1ldu0850erdmphgj.jpg  \r\n",
      "  inflating: ./data/segmented-images/images/cju2yb31a8e8u0878wdashg7o.jpg  \r\n",
      "  inflating: ./data/segmented-images/images/cju2nsmwjlzyl0993jl80chvz.jpg  \r\n",
      "  inflating: ./data/segmented-images/images/cju88msmoo3470817m441j4sg.jpg  \r\n",
      "  inflating: ./data/segmented-images/images/cju1dq3x1vgx109889c7wyirg.jpg  \r\n",
      "  inflating: ./data/segmented-images/images/cju83qd0yjyht0817ktkfl268.jpg  \r\n",
      "  inflating: ./data/segmented-images/images/cju45ofd9ne1j0801ri8dup7t.jpg  \r\n",
      "  inflating: ./data/segmented-images/images/cju35fxqyzt5p0993vusm54qz.jpg  \r\n",
      "  inflating: ./data/segmented-images/images/cju8b6rp0r5st0850184f79xt.jpg  \r\n",
      "  inflating: ./data/segmented-images/images/cju7d3oc82cho0755dajlwldz.jpg  \r\n",
      "  inflating: ./data/segmented-images/images/cju5cky5xb0ay0801oxet697t.jpg  \r\n",
      "  inflating: ./data/segmented-images/images/cju3y9difj6th0801kd1rqm3w.jpg  \r\n",
      "  inflating: ./data/segmented-images/images/cju6wn57mvooj0850rp78hhy7.jpg  \r\n",
      "  inflating: ./data/segmented-images/images/cju8aw9n1qyg10801jkjlmors.jpg  \r\n",
      "  inflating: ./data/segmented-images/images/cju2hw5gjlr5h0988so2qqres.jpg  \r\n",
      "  inflating: ./data/segmented-images/images/cju428k5fldt108177s6g6f45.jpg  \r\n",
      "  inflating: ./data/segmented-images/images/cju45pm27n80u08174kyow1gj.jpg  \r\n",
      "  inflating: ./data/segmented-images/images/cju5uget8krjy0818kvywd0zu.jpg  \r\n",
      "  inflating: ./data/segmented-images/images/cju2iatlki5u309930zmgkv6h.jpg  \r\n",
      "  inflating: ./data/segmented-images/images/cju2oq5570avm079959o20op1.jpg  \r\n",
      "  inflating: ./data/segmented-images/images/cju171py4qiha0835u8sl59ds.jpg  \r\n",
      "  inflating: ./data/segmented-images/images/cju30nyxe0gfb0835p256yoju.jpg  \r\n",
      "  inflating: ./data/segmented-images/images/cju83rcnzkbsj0755x5anfrcg.jpg  \r\n",
      "  inflating: ./data/segmented-images/images/cju3v0fl3gwce0755qkjhzmd4.jpg  \r\n",
      "  inflating: ./data/segmented-images/images/cju2y8s56ymqr083541ggdsml.jpg  \r\n",
      "  inflating: ./data/segmented-images/images/cju18gzrq18zw0878wbf4ftw6.jpg  \r\n",
      "  inflating: ./data/segmented-images/images/cju8a84g0q76m0818hwiggkod.jpg  \r\n",
      "  inflating: ./data/segmented-images/images/cju8dk7eztzup08182yxko5zh.jpg  \r\n",
      "  inflating: ./data/segmented-images/images/cju2zjcvj9qma0801dk71hhi0.jpg  \r\n",
      "  inflating: ./data/segmented-images/images/cju8b7aqtr4a00987coba14b7.jpg  \r\n",
      "  inflating: ./data/segmented-images/images/cju2hjrqcvi2j0801bx1i6gxg.jpg  \r\n",
      "  inflating: ./data/segmented-images/images/cju17hw9hr9c5098800fu4u8e.jpg  \r\n",
      "  inflating: ./data/segmented-images/images/cju3x2s11ibzi0817kk284k0j.jpg  \r\n",
      "  inflating: ./data/segmented-images/images/cju5vutu7ll8w0871dfp92n9p.jpg  \r\n",
      "  inflating: ./data/segmented-images/images/cju2zxja9w1eh09933609ho9z.jpg  \r\n",
      "  inflating: ./data/segmented-images/images/cju5xneamme2p0801qdf7fdwv.jpg  \r\n",
      "  inflating: ./data/segmented-images/images/cju358pwtdby20878cg7nm0np.jpg  \r\n",
      "  inflating: ./data/segmented-images/images/cju1hs0za7jha0855vj0mdrjt.jpg  \r\n",
      "  inflating: ./data/segmented-images/images/cju2syxa93yw40799x2iuwabz.jpg  \r\n",
      "  inflating: ./data/segmented-images/images/cju5ktjwofed70817eg58ef7u.jpg  \r\n",
      "  inflating: ./data/segmented-images/images/cju3ttznuftyf09875t11850w.jpg  \r\n",
      "  inflating: ./data/segmented-images/images/cju7ctvqn25dy08186g442m1r.jpg  \r\n",
      "  inflating: ./data/segmented-images/images/cju5eyfe9cpk90987laa7tsl3.jpg  \r\n",
      "  inflating: ./data/segmented-images/images/cju310f6val1v0855xo8tc3gu.jpg  \r\n",
      "  inflating: ./data/segmented-images/images/cju306x7w05nb0835cunv799x.jpg  \r\n",
      "  inflating: ./data/segmented-images/images/cju8bop5jrsid08716i24fqda.jpg  \r\n",
      "  inflating: ./data/segmented-images/images/cju5wrapcm2290818jsh26ppb.jpg  \r\n",
      "  inflating: ./data/segmented-images/images/cju7dqcwi2dz00850gcmr2ert.jpg  \r\n",
      "  inflating: ./data/segmented-images/images/cju1g4nsb6ngy0799l4ezm8ab.jpg  \r\n",
      "  inflating: ./data/segmented-images/images/cju7aklv31h4309871m29l4e7.jpg  \r\n",
      "  inflating: ./data/segmented-images/images/cju2i3hzclw3o0988rrgh911i.jpg  \r\n",
      "  inflating: ./data/segmented-images/images/cju7er4kc2opa0801anuxc0eb.jpg  \r\n",
      "  inflating: ./data/segmented-images/images/cju2xlcqxy9c60988vjacdznb.jpg  \r\n",
      "  inflating: ./data/segmented-images/images/cju8bljw9rqk20801kr54akrl.jpg  \r\n",
      "  inflating: ./data/segmented-images/images/cju45lbgznahl08180xz1h7u6.jpg  \r\n",
      "  inflating: ./data/segmented-images/images/cju7b4mtw1n9n080186209f3d.jpg  \r\n",
      "  inflating: ./data/segmented-images/images/cju7f9umg2olj0987fj5y285w.jpg  \r\n",
      "  inflating: ./data/segmented-images/images/cju887ftknop008177nnjt46y.jpg  \r\n",
      "  inflating: ./data/segmented-images/images/cju7b9vcs1luz0987ta60j1dy.jpg  \r\n",
      "  inflating: ./data/segmented-images/images/cju8auylgqx0z0871u4o4db7o.jpg  \r\n",
      "  inflating: ./data/segmented-images/images/cju3ya7goj6at0818v2l5ay7f.jpg  \r\n",
      "  inflating: ./data/segmented-images/images/cju7eueum2oqn0850rodmx8zo.jpg  \r\n",
      "  inflating: ./data/segmented-images/images/cju0u82z3cuma0835wlxrnrjv.jpg  \r\n",
      "  inflating: ./data/segmented-images/images/cju2i03ptvkiu0799xbbd4det.jpg  \r\n",
      "  inflating: ./data/segmented-images/images/cju87mrypnb1e0818scv1mxxg.jpg  \r\n",
      "  inflating: ./data/segmented-images/images/cju7dizi82h2i0755doucgnt3.jpg  \r\n",
      "  inflating: ./data/segmented-images/images/cju5waeduln160817w0agirve.jpg  \r\n",
      "  inflating: ./data/segmented-images/images/cju88nroho44508500129f1nh.jpg  \r\n",
      "  inflating: ./data/segmented-images/images/cju3yht87j83m08507yk1u1fg.jpg  \r\n",
      "  inflating: ./data/segmented-images/images/cju1cfhyg48bb0799cl5pr2jh.jpg  \r\n",
      "  inflating: ./data/segmented-images/images/cju8clorgsuwn08714toqb7v6.jpg  \r\n",
      "  inflating: ./data/segmented-images/images/cju16fpvhzypl0799p9phnlx6.jpg  \r\n",
      "  inflating: ./data/segmented-images/images/cju5wuhm1lwm40987vugqn3vv.jpg  \r\n",
      "  inflating: ./data/segmented-images/images/cju7dz5yy2i7z0801ausi7rna.jpg  \r\n",
      "  inflating: ./data/segmented-images/images/cju2xwm1s84l50799i60mq0pu.jpg  \r\n",
      "  inflating: ./data/segmented-images/images/cju88itqbny720987hxizbj5y.jpg  \r\n",
      "  inflating: ./data/segmented-images/images/cju7ev2b12owa08500bpfpwyw.jpg  \r\n",
      "  inflating: ./data/segmented-images/images/cju84ih17kp5l09876bkooocl.jpg  \r\n",
      "  inflating: ./data/segmented-images/images/cju7afqon1ip40850ue2308b6.jpg  \r\n",
      "  inflating: ./data/segmented-images/images/cju14g8o4xui30878gkgbrvqj.jpg  \r\n",
      "  inflating: ./data/segmented-images/images/cju5cu8qkb84x08186jwo8yin.jpg  \r\n",
      "  inflating: ./data/segmented-images/images/cju5tgbzhjllu08174ca41eus.jpg  \r\n",
      "  inflating: ./data/segmented-images/images/cju1f5x1164xv08555654c24r.jpg  \r\n",
      "  inflating: ./data/segmented-images/images/cju0s690hkp960855tjuaqvv0.jpg  \r\n",
      "  inflating: ./data/segmented-images/images/cju2rzpsmtb0f0835jabkbao1.jpg  \r\n",
      "  inflating: ./data/segmented-images/images/cju7dvl5m2n4t0755hlnnjjet.jpg  \r\n",
      "  inflating: ./data/segmented-images/images/cju7fen322ou10817ziqkob4k.jpg  \r\n",
      "  inflating: ./data/segmented-images/images/cju1cnnziug1l0835yh4ropyg.jpg  \r\n",
      "  inflating: ./data/segmented-images/images/cju88oh0po9gq0801nge4tgr1.jpg  \r\n",
      "  inflating: ./data/segmented-images/images/cju8b3ka8r64u0801fh18hk7l.jpg  \r\n",
      "  inflating: ./data/segmented-images/images/cju18849rrsgr0988p90hkygb.jpg  \r\n",
      "  inflating: ./data/segmented-images/images/cju323ypb1fbb0988gx5rzudb.jpg  \r\n",
      "  inflating: ./data/segmented-images/images/cju6wuojavt740818b5qcv3iw.jpg  \r\n",
      "  inflating: ./data/segmented-images/images/cju0tl3uz8blh0993wxvn7ly3.jpg  \r\n",
      "  inflating: ./data/segmented-images/images/cju2zkpdl9h7t0799ix60teqg.jpg  \r\n",
      "  inflating: ./data/segmented-images/images/cju2urqpwvxw70835rvndvtsi.jpg  \r\n",
      "  inflating: ./data/segmented-images/images/cju5ddda9bkkt0850enzwatb1.jpg  \r\n",
      "  inflating: ./data/segmented-images/images/cju2hx006vidl0799igm81vmh.jpg  \r\n",
      "  inflating: ./data/segmented-images/images/cju5nxkujgscq0817l9gss626.jpg  \r\n",
      "  inflating: ./data/segmented-images/images/cju1dnz61vfp40988e78bkjga.jpg  \r\n",
      "  inflating: ./data/segmented-images/images/cju83syhdk6gs0801rf1rekdl.jpg  \r\n",
      "  inflating: ./data/segmented-images/images/cju42tauqlo5p08171l3cuo4b.jpg  \r\n",
      "  inflating: ./data/segmented-images/images/cju7d1tvt25bu08019dvw3uff.jpg  \r\n",
      "  inflating: ./data/segmented-images/images/cju16whaj0e7n0855q7b6cjkm.jpg  \r\n",
      "  inflating: ./data/segmented-images/images/cju2lcyfgkf5809932fn9gucn.jpg  \r\n",
      "  inflating: ./data/segmented-images/images/cju8c2rqzs5t80850d0zky5dy.jpg  \r\n",
      "  inflating: ./data/segmented-images/images/cju3umoh1geet0817cmpef5am.jpg  \r\n",
      "  inflating: ./data/segmented-images/images/cju34xspwzenf0993cyzajv9n.jpg  \r\n",
      "  inflating: ./data/segmented-images/images/cju2sszfq3uye0878sucelzk2.jpg  \r\n",
      "  inflating: ./data/segmented-images/images/cju84dsvaklpx098750hp83x4.jpg  \r\n",
      "  inflating: ./data/segmented-images/images/cju6wjm81vgsc0987enk9n3pr.jpg  \r\n",
      "  inflating: ./data/segmented-images/images/cju8bk8oirjhw0817hgkua2w8.jpg  \r\n",
      "  inflating: ./data/segmented-images/images/cju8cwy02t9eq08185qn12c02.jpg  \r\n",
      "  inflating: ./data/segmented-images/images/cju2s9g11pnra0993gn4eh793.jpg  \r\n",
      "  inflating: ./data/segmented-images/images/cju2lz8vqktne0993fuym6drw.jpg  \r\n",
      "  inflating: ./data/segmented-images/images/cju8bm24yrrdp081829mbo8ic.jpg  \r\n"
     ]
    },
    {
     "name": "stdout",
     "output_type": "stream",
     "text": [
      "  inflating: ./data/segmented-images/images/cju8abobpqbir08189u01huru.jpg  \r\n",
      "  inflating: ./data/segmented-images/images/cju8axq24r4an0755yhv9d4ly.jpg  \r\n",
      "  inflating: ./data/segmented-images/images/cju32csyfblyh080170aa3x5p.jpg  \r\n",
      "  inflating: ./data/segmented-images/images/cju76erapykj30871x5eaxh4q.jpg  \r\n",
      "  inflating: ./data/segmented-images/images/cju77vvcwzcm50850lzoykuva.jpg  \r\n",
      "  inflating: ./data/segmented-images/images/cju30df2j09dd08351ayx2t6w.jpg  \r\n",
      "  inflating: ./data/segmented-images/images/cju43c92lm5cj0755lorsorfg.jpg  \r\n",
      "  inflating: ./data/segmented-images/images/cju5vxuc5loxw0818u8xgf45p.jpg  \r\n",
      "  inflating: ./data/segmented-images/images/cju0t4oil7vzk099370nun5h9.jpg  \r\n",
      "  inflating: ./data/segmented-images/images/cju886ryxnsl50801r93jai7q.jpg  \r\n",
      "  inflating: ./data/segmented-images/images/cju5eq8c8ck690850vix98hv3.jpg  \r\n",
      "  inflating: ./data/segmented-images/images/cju5cjh3xattc0817j2vbulzi.jpg  \r\n",
      "  inflating: ./data/segmented-images/images/cju1fb9236a110801yvg0fwju.jpg  \r\n",
      "  inflating: ./data/segmented-images/images/cju3tsh4lfsok0987w6x3a0v1.jpg  \r\n",
      "  inflating: ./data/segmented-images/images/cju2ricdv2iys0878sv1adh0u.jpg  \r\n",
      "  inflating: ./data/segmented-images/images/cju5uzmaol56l0817flxh4w9p.jpg  \r\n",
      "  inflating: ./data/segmented-images/images/cju42m60jlpcm08186kqppzqv.jpg  \r\n",
      "  inflating: ./data/segmented-images/images/cju7el6xv2k520817qxx9wdr5.jpg  \r\n",
      "  inflating: ./data/segmented-images/images/cju2np2k9zi3v079992ypxqkn.jpg  \r\n",
      "  inflating: ./data/segmented-images/images/cju2zy1e49pqk0878t6ncqn12.jpg  \r\n",
      "  inflating: ./data/segmented-images/images/cju2rz4k434s70855wwx3ddtx.jpg  \r\n",
      "  inflating: ./data/segmented-images/images/cju15l5ubz9yh0855b3ivdpse.jpg  \r\n",
      "  inflating: ./data/segmented-images/images/cju5es375cnzy0801nkq35ffs.jpg  \r\n",
      "  inflating: ./data/segmented-images/images/cju85hguellg50818kwu3s8d1.jpg  \r\n",
      "  inflating: ./data/segmented-images/images/cju5ew4h9cqaf0818rrczkmqh.jpg  \r\n",
      "  inflating: ./data/segmented-images/images/cju7dmlgf2ebw0871ieqas5fh.jpg  \r\n",
      "  inflating: ./data/segmented-images/images/cju77j66ez52p08019xygi0co.jpg  \r\n",
      "  inflating: ./data/segmented-images/images/cju13fwthn9mq0835gacxgy01.jpg  \r\n",
      "  inflating: ./data/segmented-images/images/cju8amfdtqi4x09871tygrgqe.jpg  \r\n",
      "  inflating: ./data/segmented-images/images/cju1hirfi7ekp0855q0vgm9qq.jpg  \r\n",
      "  inflating: ./data/segmented-images/images/cju2yv4imv6cz099314jveiib.jpg  \r\n",
      "  inflating: ./data/segmented-images/images/cju35eg0tdmjt085525sb4bua.jpg  \r\n",
      "  inflating: ./data/segmented-images/images/cju7adqyj1jcx08712r1ro5gx.jpg  \r\n",
      "  inflating: ./data/segmented-images/images/cju8chdlqsu620755azjty1tj.jpg  \r\n",
      "  inflating: ./data/segmented-images/images/cju2qn2fzs1vy0988l243cvzy.jpg  \r\n",
      "  inflating: ./data/segmented-images/images/cju7ebe962hr409872ovibahw.jpg  \r\n",
      "  inflating: ./data/segmented-images/images/cju5k503sfa5f0871lx0rpu5y.jpg  \r\n",
      "  inflating: ./data/segmented-images/images/cju5f26ebcuai0818xlwh6116.jpg  \r\n",
      "  inflating: ./data/segmented-images/images/cju2tqfgw4oat0799rn0g5b2z.jpg  \r\n",
      "  inflating: ./data/segmented-images/images/cju2nqapmzvk20801f9us40dx.jpg  \r\n",
      "  inflating: ./data/segmented-images/images/cju7etr3y2p4t0801cdzjj8ab.jpg  \r\n",
      "  inflating: ./data/segmented-images/images/cju77bvg0yv4r0987yh60xmjo.jpg  \r\n",
      "  inflating: ./data/segmented-images/images/cju83vvmik9wa08710yeh7cuk.jpg  \r\n",
      "  inflating: ./data/segmented-images/images/cju5y4hgqmk0i08180rjhbwvp.jpg  \r\n",
      "  inflating: ./data/segmented-images/images/cju17bz250pgd0799u1hqkj5u.jpg  \r\n",
      "  inflating: ./data/segmented-images/images/cju5i39mreass0817au8p22zy.jpg  \r\n",
      "  inflating: ./data/segmented-images/images/cju41r6v2lcww0871ps8k8pf5.jpg  \r\n",
      "  inflating: ./data/segmented-images/images/cju5vi4nxlc530817uoqm2m7a.jpg  \r\n",
      "  inflating: ./data/segmented-images/images/cju5u4pywk81x0817vn9pe14z.jpg  \r\n",
      "  inflating: ./data/segmented-images/images/cju3y79ofj3va0871uqfb1mzo.jpg  \r\n",
      "  inflating: ./data/segmented-images/images/cju87nkyrnb970801q84m47yt.jpg  \r\n",
      "  inflating: ./data/segmented-images/images/cju1drnhbrb9409935wi7vkhg.jpg  \r\n",
      "  inflating: ./data/segmented-images/images/cju5b9oyda4yr0850g9viziyv.jpg  \r\n",
      "  inflating: ./data/segmented-images/images/cju7fob3x301u0755x985pmmq.jpg  \r\n",
      "  inflating: ./data/segmented-images/images/cju2i6acqvo6l0799u20fift8.jpg  \r\n",
      "  inflating: ./data/segmented-images/images/cju7epwj82koz098713apjnzo.jpg  \r\n",
      "  inflating: ./data/segmented-images/images/cju2m56cryvqd0801gtn2yp8t.jpg  \r\n",
      "  inflating: ./data/segmented-images/images/cju32zhbnc1oy0801iyv1ix6p.jpg  \r\n",
      "  inflating: ./data/segmented-images/images/cju3381d8bz3h07991xtl7ra0.jpg  \r\n",
      "  inflating: ./data/segmented-images/images/cju15jr8jz8sb0855ukmkswkz.jpg  \r\n",
      "  inflating: ./data/segmented-images/images/cju3ua8u0g9rg0801uayhdxhu.jpg  \r\n",
      "  inflating: ./data/segmented-images/images/cju17otoe119u0799nqcbl8n1.jpg  \r\n",
      "  inflating: ./data/segmented-images/images/cju84aoa3ktwn0755pfl4gfwd.jpg  \r\n",
      "  inflating: ./data/segmented-images/images/cju5wkonqlrl409877y8zvnub.jpg  \r\n",
      "  inflating: ./data/segmented-images/images/cju8bw697rwg308177tg8huas.jpg  \r\n",
      "  inflating: ./data/segmented-images/images/cju77u1sjz77b0817ft44r3fk.jpg  \r\n",
      "  inflating: ./data/segmented-images/images/cju7efffp2ivf0817etg3jehl.jpg  \r\n",
      "  inflating: ./data/segmented-images/images/cju890guyoiti098753yg6cdu.jpg  \r\n",
      "  inflating: ./data/segmented-images/images/cju18ibp219ub08783i6o98g7.jpg  \r\n",
      "  inflating: ./data/segmented-images/images/cju32l161bi1v07990vm376in.jpg  \r\n",
      "  inflating: ./data/segmented-images/images/cju30ftgja7170855xl9bkdm0.jpg  \r\n",
      "  inflating: ./data/segmented-images/images/cju1egx9pvz2n0988eoy8jp23.jpg  \r\n",
      "  inflating: ./data/segmented-images/images/cju5u6wf0kh1t0755bg1ssixv.jpg  \r\n",
      "  inflating: ./data/segmented-images/images/cju2rlqdnoz9k0993cpjae3x0.jpg  \r\n",
      "  inflating: ./data/segmented-images/images/cju1cbokpuiw70988j4lq1fpi.jpg  \r\n",
      "  inflating: ./data/segmented-images/images/cju18kevfrojc0835bn90f1in.jpg  \r\n",
      "  inflating: ./data/segmented-images/images/cju5yhgznmkzb0801cji2vi8j.jpg  \r\n",
      "  inflating: ./data/segmented-images/images/cju3y54kwj3nr0801biidlb4e.jpg  \r\n",
      "  inflating: ./data/segmented-images/images/cju5chrxxawka0871qcj171yz.jpg  \r\n",
      "  inflating: ./data/segmented-images/images/cju76o55nymqd0871h31sph9w.jpg  \r\n",
      "  inflating: ./data/segmented-images/images/cju3518w2d838079939fqztbc.jpg  \r\n",
      "  inflating: ./data/segmented-images/images/cju7deifq2fzn0755lc8idyh8.jpg  \r\n",
      "  inflating: ./data/segmented-images/images/cju15wdt3zla10801odjiw7sy.jpg  \r\n",
      "  inflating: ./data/segmented-images/images/cju5hjxaae3i40850h5z2laf5.jpg  \r\n",
      "  inflating: ./data/segmented-images/images/cju2wx0gh7fpz0878wwyd9ep8.jpg  \r\n",
      "  inflating: ./data/segmented-images/images/cju7es23b2vcp0755gpbm9s7v.jpg  \r\n",
      "  inflating: ./data/segmented-images/images/cju8dm2cau2km0818jsv9eeq2.jpg  \r\n",
      "  inflating: ./data/segmented-images/images/cju2y26c588bo07993ksd8eoz.jpg  \r\n",
      "  inflating: ./data/segmented-images/images/cju2suk42469908015ngmq6f2.jpg  \r\n",
      "  inflating: ./data/segmented-images/images/cju1ddr6p4k5z08780uuuzit2.jpg  \r\n",
      "  inflating: ./data/segmented-images/images/cju5vcmrqla7i0817x4sp4pqw.jpg  \r\n",
      "  inflating: ./data/segmented-images/images/cju1gv7106qd008784gk603mg.jpg  \r\n",
      "  inflating: ./data/segmented-images/images/cju6vucxvvlda0755j7msqnya.jpg  \r\n",
      "  inflating: ./data/segmented-images/images/cju7ekbo32pft0871fv7kzwb9.jpg  \r\n",
      "  inflating: ./data/segmented-images/images/cju30ia8da2bq0799klnehml2.jpg  \r\n",
      "  inflating: ./data/segmented-images/images/cju2ntxtdzlvu0799xl3j9pan.jpg  \r\n",
      "  inflating: ./data/segmented-images/images/cju2otvvv0l7z0855x7we8cb0.jpg  \r\n",
      "  inflating: ./data/segmented-images/images/cju8bgdmqrksy0801tozdmraa.jpg  \r\n",
      "  inflating: ./data/segmented-images/images/cju30ajhw09sx0988qyahx9s8.jpg  \r\n",
      "  inflating: ./data/segmented-images/images/cju8c3xs7sauj0801ieyzezr5.jpg  \r\n",
      "  inflating: ./data/segmented-images/images/cju84hibuktj80871u519o71q.jpg  \r\n",
      "  inflating: ./data/segmented-images/images/cju33231uy4gi0993qc7b1jch.jpg  \r\n",
      "  inflating: ./data/segmented-images/images/ck2bxw18mmz1k0725litqq2mc.jpg  \r\n",
      "  inflating: ./data/segmented-images/images/cju88q6h6obpd0871ckmiabbo.jpg  \r\n",
      "  inflating: ./data/segmented-images/images/cju2wtwj87kys0855kx6mddzw.jpg  \r\n",
      "  inflating: ./data/segmented-images/images/cju7ajnbo1gvm098749rdouk0.jpg  \r\n",
      "  inflating: ./data/segmented-images/images/cju8a3nhbpwnb0850d37fo2na.jpg  \r\n",
      "  inflating: ./data/segmented-images/images/cju6vrs1ov8cr098788h8gs6j.jpg  \r\n",
      "  inflating: ./data/segmented-images/images/cju7ez7r22qbc08015xfoz2wb.jpg  \r\n",
      "  inflating: ./data/segmented-images/images/cju3u4lxmg59o0755rz42b9en.jpg  \r\n",
      "  inflating: ./data/segmented-images/images/cju1fmsyf6gxb0801cimx2gle.jpg  \r\n",
      "  inflating: ./data/segmented-images/images/cju7ap09p1kz10850ldccjebj.jpg  \r\n",
      "  inflating: ./data/segmented-images/images/cju1ejj7dvqfa0835ra184v5m.jpg  \r\n",
      "  inflating: ./data/segmented-images/images/cju2wve9v7esz0878mxsdcy04.jpg  \r\n",
      "  inflating: ./data/segmented-images/images/cju2ulk385h170799rlklxob0.jpg  \r\n",
      "  inflating: ./data/segmented-images/images/cju7avvi51iox0817ym55y6tt.jpg  \r\n",
      "  inflating: ./data/segmented-images/images/cju7d4jk723eu0817bqz2n39m.jpg  \r\n",
      "  inflating: ./data/segmented-images/images/cju8brv16rx7f0818uf5n89pv.jpg  \r\n",
      "  inflating: ./data/segmented-images/images/cju2hqt33lmra0988fr5ijv8j.jpg  \r\n",
      "  inflating: ./data/segmented-images/images/cju2upu4evw7g08358guwozxv.jpg  \r\n",
      "  inflating: ./data/segmented-images/images/cju7b3f5h1sm40755i572jden.jpg  \r\n",
      "  inflating: ./data/segmented-images/images/cju6x0yqbvxqt0755dhxislgb.jpg  \r\n",
      "  inflating: ./data/segmented-images/images/cju0ue769mxii08019zqgdbxn.jpg  \r\n",
      "  inflating: ./data/segmented-images/images/cju5clr68b48r0755cmuvponm.jpg  \r\n",
      "  inflating: ./data/segmented-images/images/cju85omszllp30850b6rm9mi3.jpg  \r\n",
      "  inflating: ./data/segmented-images/images/cju2sevf53lkx08558h5bpaig.jpg  \r\n",
      "  inflating: ./data/segmented-images/images/cju2yg5ht8i4p087800js8hp4.jpg  \r\n",
      "  inflating: ./data/segmented-images/images/cju5gucasds9d0801019axylx.jpg  \r\n",
      "  inflating: ./data/segmented-images/images/cju87ox0kncom0801b98hqnd2.jpg  \r\n",
      "  inflating: ./data/segmented-images/images/cju7ecl9i2i060987xawjp4l0.jpg  \r\n",
      "  inflating: ./data/segmented-images/images/cju5nyu31gv8e0871zpk74a2n.jpg  \r\n",
      "  inflating: ./data/segmented-images/images/cju2qs32r1vys07999conmbvx.jpg  \r\n",
      "  inflating: ./data/segmented-images/images/cju7dp3dw2k4n0755zhe003ad.jpg  \r\n",
      "  inflating: ./data/segmented-images/images/cju2zm0axztpe0988r8s9twjr.jpg  \r\n",
      "  inflating: ./data/segmented-images/images/cju1c4fcu40hl07992b8gj0c8.jpg  \r\n",
      "  inflating: ./data/segmented-images/images/cju33za6l2qy70988jhrlp2ev.jpg  \r\n",
      "  inflating: ./data/segmented-images/images/cju2ouil2mssu0993hvxsed6d.jpg  \r\n",
      "  inflating: ./data/segmented-images/images/cju7bc95p1mdm0817yqj5jc6j.jpg  \r\n",
      "  inflating: ./data/segmented-images/images/cju1f15k3w4ct0835cmde6ypo.jpg  \r\n",
      "  inflating: ./data/segmented-images/images/cju40m0rjkpw80871z6n6yg1u.jpg  \r\n",
      "  inflating: ./data/segmented-images/images/cju6vgdmivcvb08018fra5lnv.jpg  \r\n",
      "  inflating: ./data/segmented-images/images/cju1hmff8tkp809931jps6fbr.jpg  \r\n",
      "  inflating: ./data/segmented-images/images/cju8c5223s8j80850b4kealt4.jpg  \r\n",
      "  inflating: ./data/segmented-images/images/cju439oazm2fu0871ma0vvrft.jpg  \r\n",
      "  inflating: ./data/segmented-images/images/cju1819curo000988pd5xcqme.jpg  \r\n",
      "  inflating: ./data/segmented-images/images/cju5fydrud94708507vo6oy21.jpg  \r\n",
      "  inflating: ./data/segmented-images/images/cju2r11x7sdgx0988o8ule0wl.jpg  \r\n",
      "  inflating: ./data/segmented-images/images/cju5wqonpm0e60801z88ewmy1.jpg  \r\n",
      "  inflating: ./data/segmented-images/images/cju76lsehyia10987u54vn8rb.jpg  \r\n",
      "  inflating: ./data/segmented-images/images/cju85ia1slh220987y7c20sm2.jpg  \r\n",
      "  inflating: ./data/segmented-images/images/cju847pxykriq0755268ktrk2.jpg  \r\n",
      "  inflating: ./data/segmented-images/images/cju33jon3ygbj0993pu22a4k6.jpg  \r\n",
      "  inflating: ./data/segmented-images/images/cju3wstckialg0871xs0vevsj.jpg  \r\n",
      "  inflating: ./data/segmented-images/images/cju5fi0yxd3ei0801v7u0yudn.jpg  \r\n",
      "  inflating: ./data/segmented-images/images/cju2s2527pfyr0993l3h1149a.jpg  \r\n",
      "  inflating: ./data/segmented-images/images/cju2tpfa5uyx408359datxqqj.jpg  \r\n",
      "  inflating: ./data/segmented-images/images/cju2xbk0080y80801eghyddi2.jpg  \r\n",
      "  inflating: ./data/segmented-images/images/cju15czxqp3lv0835jvhgzurz.jpg  \r\n",
      "  inflating: ./data/segmented-images/images/cju30j1rgadut0801vuyrsnt8.jpg  \r\n",
      "  inflating: ./data/segmented-images/images/cju77idwfz36d0871tzfzz51i.jpg  \r\n",
      "  inflating: ./data/segmented-images/images/cju14hjh2ob2o0835ouz3r5aa.jpg  \r\n",
      "  inflating: ./data/segmented-images/images/cju5hyi9yegob0755ho3do8en.jpg  \r\n",
      "  inflating: ./data/segmented-images/images/cju3280wv1ir009882jze27tc.jpg  \r\n",
      "  inflating: ./data/segmented-images/images/cju83k8fyjsxr0817d6nxs6r4.jpg  \r\n",
      "  inflating: ./data/segmented-images/images/cju5hqz50e7o90850e0prlpa0.jpg  \r\n",
      "  inflating: ./data/segmented-images/images/cju6uzxk0v83p0801rcwnexdu.jpg  \r\n",
      "  inflating: ./data/segmented-images/images/cju0s2a9ekvms080138tjjpxr.jpg  \r\n",
      "  inflating: ./data/segmented-images/images/cju42wamblrqn098798r2yyok.jpg  \r\n",
      "  inflating: ./data/segmented-images/images/cju34m7h536wq0988xz7gx79v.jpg  \r\n",
      "  inflating: ./data/segmented-images/images/cju17g6ykn1cs0993dww6qdi8.jpg  \r\n",
      "  inflating: ./data/segmented-images/images/cju2s16zp317h0799gr67jqc2.jpg  \r\n",
      "  inflating: ./data/segmented-images/images/cju2wxv0hxs2f09884w48v8fi.jpg  \r\n",
      "  inflating: ./data/segmented-images/images/cju7dubap2g0w0801fgl42mg9.jpg  \r\n",
      "  inflating: ./data/segmented-images/images/cju7do8c72dbo0801vxfzxdc4.jpg  \r\n",
      "  inflating: ./data/segmented-images/images/cju2t2ivz43i10878zeg8r1br.jpg  \r\n",
      "  inflating: ./data/segmented-images/images/cju5u8gz4kj5b07552e2wpkwp.jpg  \r\n",
      "  inflating: ./data/segmented-images/images/cju302fqq9spc0878rrygyzzz.jpg  \r\n",
      "  inflating: ./data/segmented-images/images/cju30k2z40ds308353kdew70n.jpg  \r\n",
      "  inflating: ./data/segmented-images/images/cju1expq45zst0855rjqwwj4m.jpg  \r\n",
      "  inflating: ./data/segmented-images/images/cju43lcnum9y10755bjs7z87f.jpg  \r\n",
      "  inflating: ./data/segmented-images/images/cju43jcqim2cp08172dvjvyui.jpg  \r\n",
      "  inflating: ./data/segmented-images/images/cju3xtufwiv9c0818djsc4cqd.jpg  \r\n",
      "  inflating: ./data/segmented-images/images/cju2qqn5ys4uo0988ewrt2ip2.jpg  \r\n",
      "  inflating: ./data/segmented-images/images/cju422cm8lfxn0818ojicxejb.jpg  \r\n",
      "  inflating: ./data/segmented-images/images/cju2ro5jqsy680988pi6qsujw.jpg  \r\n",
      "  inflating: ./data/segmented-images/images/cju84gpefknwm098714oq8q61.jpg  \r\n",
      "  inflating: ./data/segmented-images/images/cju1b3zgj3d8e0801kpolea6c.jpg  \r\n",
      "  inflating: ./data/segmented-images/images/cju1erep75us208553i4ofwwe.jpg  \r\n",
      "  inflating: ./data/segmented-images/images/cju77196iyshb0850ycbto50a.jpg  \r\n",
      "  inflating: ./data/segmented-images/images/cju1bm8063nmh07996rsjjemq.jpg  \r\n",
      "  inflating: ./data/segmented-images/images/cju772304yw5t0818vbw8kkjf.jpg  \r\n",
      "  inflating: ./data/segmented-images/images/cju2rqo702wpx0855fn7d5cxh.jpg  \r\n",
      "  inflating: ./data/segmented-images/images/cju3v56bwgy8v0871w14pz8fx.jpg  \r\n",
      "  inflating: ./data/segmented-images/images/cju2xs6na81t20878pt6nkfip.jpg  \r\n",
      "  inflating: ./data/segmented-images/images/cju2osuru0ki00855txo0n3uu.jpg  \r\n",
      "  inflating: ./data/segmented-images/images/cju41p90plcsx08018cnzpndc.jpg  \r\n",
      "  inflating: ./data/segmented-images/images/cju30xqmh0ni00835ix3batv1.jpg  \r\n",
      "  inflating: ./data/segmented-images/images/cju2nguelpmlj0835rojdn097.jpg  \r\n",
      "  inflating: ./data/segmented-images/images/cju2srvy5440s0801y1ba9akr.jpg  \r\n",
      "  inflating: ./data/segmented-images/images/cju7dbppn28nx085097654msi.jpg  \r\n",
      "  inflating: ./data/segmented-images/images/cju5c5xc7algd0817pb1ej5yo.jpg  \r\n",
      "  inflating: ./data/segmented-images/images/cju1efbr0rqxz09931z0lf4vf.jpg  \r\n",
      "  inflating: ./data/segmented-images/images/cju8b4ja9r2s808509d45ma86.jpg  \r\n",
      "  inflating: ./data/segmented-images/images/cju33x0f22peh0988g0ln7w5v.jpg  \r\n",
      "  inflating: ./data/segmented-images/images/cju2z1nxlzaj40835wj81s1iy.jpg  \r\n",
      "  inflating: ./data/segmented-images/images/cju7fnfv02tt90801djnix9m8.jpg  \r\n",
      "  inflating: ./data/segmented-images/images/cju2hugv9vget0799hhk7ksvg.jpg  \r\n",
      "  inflating: ./data/segmented-images/images/cju414lf2l1lt0801rl3hjllj.jpg  \r\n",
      "  inflating: ./data/segmented-images/images/cju8b1v3br45u087189kku66u.jpg  \r\n",
      "  inflating: ./data/segmented-images/images/cju7ff97z2ow40817u2r83my5.jpg  \r\n",
      "  inflating: ./data/segmented-images/images/cju8cdeazsm8h0801jxifmzur.jpg  \r\n",
      "  inflating: ./data/segmented-images/images/cju2yo1j1v0qz09934o0e683p.jpg  \r\n"
     ]
    },
    {
     "name": "stdout",
     "output_type": "stream",
     "text": [
      "  inflating: ./data/segmented-images/images/cju14pxbaoksp0835qzorx6g6.jpg  \r\n",
      "  inflating: ./data/segmented-images/images/cju5bj926aiec07559rshy4wa.jpg  \r\n",
      "  inflating: ./data/segmented-images/images/cju2yi9tz8vky0801yqip0xyl.jpg  \r\n",
      "  inflating: ./data/segmented-images/images/cju7fazv92ywx0755xov2erga.jpg  \r\n",
      "  inflating: ./data/segmented-images/images/cju8aqq8uqmoq0987hphto9gg.jpg  \r\n",
      "  inflating: ./data/segmented-images/images/cju40jl7skiuo0817p0smlgg8.jpg  \r\n",
      "  inflating: ./data/segmented-images/images/cju2igw4gvxds0878808qj398.jpg  \r\n",
      "  inflating: ./data/segmented-images/images/cju5ekty5ckzf07550c9u3ckk.jpg  \r\n",
      "  inflating: ./data/segmented-images/images/cju5wcc90lu020850mjrxppv6.jpg  \r\n",
      "  inflating: ./data/segmented-images/images/cju7druhp2gp308715i6km7be.jpg  \r\n",
      "  inflating: ./data/segmented-images/images/cju8914beokbf0850isxpocrk.jpg  \r\n",
      "  inflating: ./data/segmented-images/images/cju7ehljc2or70871261br8ai.jpg  \r\n",
      "  inflating: ./data/segmented-images/images/cju83yddek68q0850d2x7zfkm.jpg  \r\n",
      "  inflating: ./data/segmented-images/images/cju2uy8ox62jo0801g88hh42z.jpg  \r\n",
      "  inflating: ./data/segmented-images/images/cju5udcufki0s09874ll1dbr5.jpg  \r\n",
      "  inflating: ./data/segmented-images/images/cju83wwn1k55e0850kw6i2d81.jpg  \r\n",
      "  inflating: ./data/segmented-images/images/cju2uzabhs6er0993x3aaf87p.jpg  \r\n",
      "  inflating: ./data/segmented-images/images/cju300m3s04fg0988uzupuf7z.jpg  \r\n",
      "  inflating: ./data/segmented-images/images/cju1f8w0t65en0799m9oacq0q.jpg  \r\n",
      "  inflating: ./data/segmented-images/images/cju1dia8hvc6v098827mgffnm.jpg  \r\n",
      "  inflating: ./data/segmented-images/images/cju8c82iosagu0817l74s4m5g.jpg  \r\n",
      "  inflating: ./data/segmented-images/images/cju2y40d8ulqo0993q0adtgtb.jpg  \r\n",
      "  inflating: ./data/segmented-images/images/cju2pjb9v0ywn0878j5g5n69j.jpg  \r\n",
      "  inflating: ./data/segmented-images/images/cju7dwe282dc309876rco45ts.jpg  \r\n",
      "  inflating: ./data/segmented-images/images/cju2rga4psq9n09881z519xx0.jpg  \r\n",
      "  inflating: ./data/segmented-images/images/cju2wzu8wxtgu09880ku9x1pg.jpg  \r\n",
      "  inflating: ./data/segmented-images/images/cju3tx1qyg0c907552fglumhc.jpg  \r\n",
      "  inflating: ./data/segmented-images/images/cju7d8m3b2e210755l8fj1yph.jpg  \r\n",
      "  inflating: ./data/segmented-images/images/cju34uhepd3dd0799hs8782ad.jpg  \r\n",
      "  inflating: ./data/segmented-images/images/cju7dxffn2eam0817qxosfwch.jpg  \r\n",
      "  inflating: ./data/segmented-images/images/cju8b0jr0r2oi0801jiquetd5.jpg  \r\n",
      "  inflating: ./data/segmented-images/images/cju34aozyyy830993bn16u32n.jpg  \r\n",
      "  inflating: ./data/segmented-images/images/cju5bwhapakm90987c1v4z46a.jpg  \r\n",
      "  inflating: ./data/segmented-images/images/cju40sdwukv3k0755y99ug1k8.jpg  \r\n",
      "  inflating: ./data/segmented-images/images/cju7emdni2py40871ivhxjtut.jpg  \r\n",
      "  inflating: ./data/segmented-images/images/cju1aqqv02qwz0878a5cyhr67.jpg  \r\n",
      "  inflating: ./data/segmented-images/images/cju85a8h8llwm07559wxg4t5w.jpg  \r\n",
      "  inflating: ./data/segmented-images/images/cju334jzo261t0835yqudnfs1.jpg  \r\n",
      "  inflating: ./data/segmented-images/images/cju5cetivauok0987ok3e5bre.jpg  \r\n",
      "  inflating: ./data/segmented-images/images/cju8dpa89u6l80818dj6lldh9.jpg  \r\n",
      "  inflating: ./data/segmented-images/images/cju88y1mwoln50871emyfny1g.jpg  \r\n",
      "  inflating: ./data/segmented-images/images/cju7bduyq1rjf08719giru9ho.jpg  \r\n",
      "  inflating: ./data/segmented-images/images/cju2t62nq45jl0799odpufwx6.jpg  \r\n",
      "  inflating: ./data/segmented-images/images/cju410dnfl0960755y8lu8d79.jpg  \r\n",
      "  inflating: ./data/segmented-images/images/cju8alhigqn2h0801zksudldd.jpg  \r\n",
      "  inflating: ./data/segmented-images/images/cju884985nlmx0817vzpax3y4.jpg  \r\n",
      "  inflating: ./data/segmented-images/images/cju32gzs6xo8x0993r8tedbpb.jpg  \r\n",
      "  inflating: ./data/segmented-images/images/cju6z7e4bwgdd0987ogkzq9kt.jpg  \r\n",
      "  inflating: ./data/segmented-images/images/cju7d9seq29zd0871nzl2uu5m.jpg  \r\n",
      "  inflating: ./data/segmented-images/images/cju2hos57llxm08359g92p6jj.jpg  \r\n",
      "  inflating: ./data/segmented-images/images/cju5uhrdwkmsu0817ervv91l8.jpg  \r\n",
      "  inflating: ./data/segmented-images/images/cju85fc11ljr40818edpb0inh.jpg  \r\n",
      "  inflating: ./data/segmented-images/images/cju5xjn5mm78b09871spyqhhr.jpg  \r\n",
      "  inflating: ./data/segmented-images/images/cju2rpa30t07b0835im0erql0.jpg  \r\n",
      "  inflating: ./data/segmented-images/images/cju7dtb1e2j0t0818deq51ib3.jpg  \r\n",
      "  inflating: ./data/segmented-images/images/cju8bzzy2s66m08016z6mouqt.jpg  \r\n",
      "  inflating: ./data/segmented-images/images/cju7bfx651qr80801cs7epotb.jpg  \r\n",
      "  inflating: ./data/segmented-images/images/cju0u2g7pmnux0801vkk47ivj.jpg  \r\n",
      "  inflating: ./data/segmented-images/images/cju5h57xedz5h0755mjpc8694.jpg  \r\n",
      "  inflating: ./data/segmented-images/images/cju1d31sp4d4k0878r3fr02ul.jpg  \r\n",
      "  inflating: ./data/segmented-images/images/cju87zv8lni0o0850hbbecbq6.jpg  \r\n",
      "  inflating: ./data/segmented-images/images/cju5ukkg6kv7u08011x2b6zl5.jpg  \r\n",
      "  inflating: ./data/segmented-images/images/cju5k7r0yf98c09878csbxb4d.jpg  \r\n",
      "  inflating: ./data/segmented-images/images/cju32phw2bv130801yj7bkouq.jpg  \r\n",
      "  inflating: ./data/segmented-images/images/cju77t0razbvm080106o56289.jpg  \r\n",
      "  inflating: ./data/segmented-images/images/cju83nwu1jxte0987h1krpfmv.jpg  \r\n",
      "  inflating: ./data/segmented-images/images/cju7aez2x1jtj0871ztezs3oi.jpg  \r\n",
      "  inflating: ./data/segmented-images/images/cju88z8bson4h0871nnd7fdxo.jpg  \r\n",
      "  inflating: ./data/segmented-images/images/cju5i5oh2efg60987ez6cpf72.jpg  \r\n",
      "  inflating: ./data/segmented-images/images/cju8doa16u5gh0818w1ywda3q.jpg  \r\n",
      "  inflating: ./data/segmented-images/images/cju5fs6j6d8350801vglraq4u.jpg  \r\n",
      "  inflating: ./data/segmented-images/images/cju40w3hbkwpn08015rbs3wko.jpg  \r\n",
      "  inflating: ./data/segmented-images/images/cju83ipu3jwpx0801z5pvguf8.jpg  \r\n",
      "  inflating: ./data/segmented-images/images/cju2qfie4rvz508357kad9z5o.jpg  \r\n",
      "  inflating: ./data/segmented-images/images/cju1c3218411b08014g9f6gig.jpg  \r\n",
      "  inflating: ./data/segmented-images/images/cju6vifjlv55z0987un6y4zdo.jpg  \r\n",
      "  inflating: ./data/segmented-images/images/cju430pm2lz0y0755jkhcc3d1.jpg  \r\n",
      "  inflating: ./data/segmented-images/images/cju5ymyd8mmdc0801ry3by1xr.jpg  \r\n",
      "  inflating: ./data/segmented-images/images/cju5ygh1zmmdi0755uod5e17i.jpg  \r\n",
      "  inflating: ./data/segmented-images/images/cju89y9h0puti0818i5yw29e6.jpg  \r\n",
      "  inflating: ./data/segmented-images/images/cju5ca9hcatkc0801jzwe7tfx.jpg  \r\n",
      "  inflating: ./data/segmented-images/images/cju7ejm2l2ncl0801wq6y84nw.jpg  \r\n",
      "  inflating: ./data/segmented-images/images/cju34repocy5208780gswillm.jpg  \r\n",
      "  inflating: ./data/segmented-images/images/cju8ayeq7r1fb0818z1junacy.jpg  \r\n",
      "  inflating: ./data/segmented-images/images/cju1alwgo30z60855fm3y23sm.jpg  \r\n",
      "  inflating: ./data/segmented-images/images/cju7eotqi2qea0871y8yc7tqh.jpg  \r\n",
      "  inflating: ./data/segmented-images/images/cju2r6mt2om21099352pny5gw.jpg  \r\n",
      "  inflating: ./data/segmented-images/images/cju857ad0l88m0817qx4cwxnf.jpg  \r\n",
      "  inflating: ./data/segmented-images/images/cju5tenjojp1j0755ms4949h2.jpg  \r\n",
      "  inflating: ./data/segmented-images/images/cju6z9a9kwsl007552s49rx6i.jpg  \r\n",
      "  inflating: ./data/segmented-images/images/cju34i3qvcyog0855qiejxx5w.jpg  \r\n",
      "  inflating: ./data/segmented-images/images/cju2p4ddkmzxj0993p94o62av.jpg  \r\n",
      "  inflating: ./data/segmented-images/images/cju7f900s2o0k08175gl1giid.jpg  \r\n",
      "  inflating: ./data/segmented-images/images/cju5yeqiwmkgl0801fzv2douc.jpg  \r\n",
      "  inflating: ./data/segmented-images/images/cju175facms5f0993a5tjikvt.jpg  \r\n",
      "  inflating: ./data/segmented-images/images/cju30mm25a53s0799qa5wiqe8.jpg  \r\n",
      "  inflating: ./data/segmented-images/images/cju353d1eda8c07992afde611.jpg  \r\n",
      "  inflating: ./data/segmented-images/images/cju2z45kuzf6d0988nz2c819m.jpg  \r\n",
      "  inflating: ./data/segmented-images/images/cju33belnbyhm0878yxl42233.jpg  \r\n",
      "  inflating: ./data/segmented-images/images/cju7ddtz729960801uazp1knc.jpg  \r\n",
      "  inflating: ./data/segmented-images/images/cju3xeexgii1j0817zs68tb4g.jpg  \r\n",
      "  inflating: ./data/segmented-images/images/cju1h5w4wxajx0835mc954kxy.jpg  \r\n",
      "  inflating: ./data/segmented-images/images/cju1gkndf6yi10801o1qnje19.jpg  \r\n",
      "  inflating: ./data/segmented-images/images/cju7dn24o296i09871qfxb8s2.jpg  \r\n",
      "  inflating: ./data/segmented-images/images/cju6x4t13vyw60755gtcf9ndu.jpg  \r\n",
      "  inflating: ./data/segmented-images/images/cju31t8xd17bk0835rnb893jk.jpg  \r\n",
      "  inflating: ./data/segmented-images/images/cju3xuj20ivgp0818mij8bjrd.jpg  \r\n",
      "  inflating: ./data/segmented-images/images/cju33mirdc8mj0799k33wzoes.jpg  \r\n",
      "  inflating: ./data/segmented-images/images/cju42romflni20817etb9a0fl.jpg  \r\n",
      "  inflating: ./data/segmented-images/images/cju5yclrymlgj0818k426ud6z.jpg  \r\n",
      "  inflating: ./data/segmented-images/images/cju1fyb1d69et0878muzdak9u.jpg  \r\n",
      "  inflating: ./data/segmented-images/images/cju8402x1kcy70801t6kz6bdi.jpg  \r\n",
      "  inflating: ./data/segmented-images/images/cju84kplnl1y30755ropua1b0.jpg  \r\n",
      "  inflating: ./data/segmented-images/images/cju326h4v1gxw08352px40p7r.jpg  \r\n",
      "  inflating: ./data/segmented-images/images/cju40r6jrksyk0871wg98zgho.jpg  \r\n",
      "  inflating: ./data/segmented-images/images/cju77afzlz3kp07550x5nafzs.jpg  \r\n",
      "  inflating: ./data/segmented-images/images/cju0qx73cjw570799j4n5cjze.jpg  \r\n",
      "  inflating: ./data/segmented-images/images/cju1ats0y372e08011yazcsxm.jpg  \r\n",
      "  inflating: ./data/segmented-images/images/cju8ca4geseia0850i2ru11hw.jpg  \r\n",
      "  inflating: ./data/segmented-images/images/cju7dglf226g50987ohbthl19.jpg  \r\n",
      "  inflating: ./data/segmented-images/images/cju43kj2pm34f0850l28ahpni.jpg  \r\n",
      "  inflating: ./data/segmented-images/images/cju6yxyt0wh080871sqpepu47.jpg  \r\n",
      "  inflating: ./data/segmented-images/images/cju2p0eveqtdc0835gpi3p93i.jpg  \r\n",
      "  inflating: ./data/segmented-images/images/cju1c8ffau5770835g0g343o8.jpg  \r\n",
      "  inflating: ./data/segmented-images/images/cju2lejzcy4pc0878c9rlonot.jpg  \r\n",
      "  inflating: ./data/segmented-images/images/cju2zgbj9zmrw0835nnlzxj4c.jpg  \r\n",
      "  inflating: ./data/segmented-images/images/cju1d96gsv62d09881b3wecw2.jpg  \r\n",
      "  inflating: ./data/segmented-images/images/cju5kre09fhka0850h7b1898j.jpg  \r\n",
      "  inflating: ./data/segmented-images/images/cju2mh8t6p07008350e01tx2a.jpg  \r\n",
      "  inflating: ./data/segmented-images/images/cju8828oxnool0801qno9luhr.jpg  \r\n",
      "  inflating: ./data/segmented-images/images/cju5jx7jzf7c90871c2i9aiov.jpg  \r\n",
      "  inflating: ./data/segmented-images/images/cju6vta3kvazg0817qbeppjtm.jpg  \r\n",
      "  inflating: ./data/segmented-images/images/cju2xa3i4y0160988i679zsqd.jpg  \r\n",
      "  inflating: ./data/segmented-images/images/cju1f79yhsb5w0993txub59ol.jpg  \r\n",
      "  inflating: ./data/segmented-images/images/cju16ach3m1da0993r1dq3sn2.jpg  \r\n",
      "  inflating: ./data/segmented-images/images/cju7flevb2wii08188otgs9p2.jpg  \r\n",
      "  inflating: ./data/segmented-images/images/cju2rmd2rsw9g09888hh1efu0.jpg  \r\n",
      "  inflating: ./data/segmented-images/images/cju32a52lb9rc0799xi40qs00.jpg  \r\n",
      "  inflating: ./data/segmented-images/images/cju1ewnoh5z030855vpex9uzt.jpg  \r\n",
      "  inflating: ./data/segmented-images/images/cju0qkwl35piu0993l0dewei2.jpg  \r\n",
      "  inflating: ./data/segmented-images/images/cju15ptjtppz40988odsm9azx.jpg  \r\n",
      "  inflating: ./data/segmented-images/images/cju35atpxdjot0855q46aqrd0.jpg  \r\n",
      "  inflating: ./data/segmented-images/images/cju2xyd9vyi7m098831qcucse.jpg  \r\n",
      "  inflating: ./data/segmented-images/images/cju17v6ih0u7808783zcbg1jy.jpg  \r\n",
      "  inflating: ./data/segmented-images/images/cju2qozsk20cq0855ugrg3cri.jpg  \r\n",
      "  inflating: ./data/segmented-images/images/cju3u39fog1bo0871lxjrabks.jpg  \r\n",
      "  inflating: ./data/segmented-images/images/cju8ashhnquqr0801rwduzt7d.jpg  \r\n",
      "  inflating: ./data/segmented-images/images/cju30ywtc0oar0835bp2en7ec.jpg  \r\n",
      "  inflating: ./data/segmented-images/images/cju7f5ghb2r5s0801chwkxxh9.jpg  \r\n",
      "  inflating: ./data/segmented-images/images/cju3ykamdj9u208503pygyuc8.jpg  \r\n",
      "  inflating: ./data/segmented-images/images/cju2p91qir00k08350ddfif0w.jpg  \r\n",
      "  inflating: ./data/segmented-images/images/cju8a1jtvpt9m081712iwkca7.jpg  \r\n",
      "  inflating: ./data/segmented-images/images/cju1hyolc7aqu0878rrkfn1lr.jpg  \r\n",
      "  inflating: ./data/segmented-images/images/cju3uz4o6gr9z0850lhxyxvsj.jpg  \r\n",
      "  inflating: ./data/segmented-images/images/cju5woy82m07m08505dmjg7g1.jpg  \r\n",
      "  inflating: ./data/segmented-images/images/cju2r91dg2k090801bh0xzbxk.jpg  \r\n",
      "  inflating: ./data/segmented-images/images/cju2ueb6j5ado0878vf5md13o.jpg  \r\n",
      "  inflating: ./data/segmented-images/images/cju2uwz9f5yf1085506cfamfx.jpg  \r\n",
      "  inflating: ./data/segmented-images/images/cju1dfeupuzlw0835gnxip369.jpg  \r\n",
      "  inflating: ./data/segmented-images/images/cju0qoxqj9q6s0835b43399p4.jpg  \r\n",
      "  inflating: ./data/segmented-images/images/cju2x7vw87mu30878hye2ca0m.jpg  \r\n",
      "  inflating: ./data/segmented-images/images/cju40poe4kt9s0755f9cnm3h5.jpg  \r\n",
      "  inflating: ./data/segmented-images/images/cju2nd7l7z98o0799gfjvyfmw.jpg  \r\n",
      "  inflating: ./data/segmented-images/images/cju84jdl9kv0i0871eog9b3i9.jpg  \r\n"
     ]
    },
    {
     "name": "stdout",
     "output_type": "stream",
     "text": [
      "  inflating: ./data/segmented-images/images/cju8dn0c3u2v50801k8rvq02f.jpg  \r\n",
      "  inflating: ./data/segmented-images/images/cju3x4blzieu30850x10uuvbm.jpg  \r\n",
      "  inflating: ./data/segmented-images/images/cjyzkmjy8evns070165gf9dmq.jpg  \r\n",
      "  inflating: ./data/segmented-images/images/cju40wto5kxwi0755it190f2k.jpg  \r\n",
      "  inflating: ./data/segmented-images/images/cjyztzaqtrv430848l8xgcerw.jpg  \r\n",
      "  inflating: ./data/segmented-images/images/cjyzurzvohqnr0794es1itzek.jpg  \r\n",
      "  inflating: ./data/segmented-images/images/cju2oi8sq0i2y0801mektzvw8.jpg  \r\n",
      "  inflating: ./data/segmented-images/images/cju7eea9b2m0z0801ynqv1fqu.jpg  \r\n",
      "  inflating: ./data/segmented-images/images/cju8dqkrqu83i0818ev74qpxq.jpg  \r\n",
      "  inflating: ./data/segmented-images/images/cjyzkpsbjdsjq07211dfi4sru.jpg  \r\n",
      "  inflating: ./data/segmented-images/images/cjyzk8qieoboa0848ogj51wwm.jpg  \r\n",
      "  inflating: ./data/segmented-images/images/cjyzu3reghjya0794w7pwoi50.jpg  \r\n",
      "  inflating: ./data/segmented-images/images/cjyzufihqquiw0a46jatrbwln.jpg  \r\n",
      "  inflating: ./data/segmented-images/images/cju85je7vlht70817c9jcjwi4.jpg  \r\n",
      "  inflating: ./data/segmented-images/images/cjz14qsk2wci60794un9ozwmw.jpg  \r\n",
      "  inflating: ./data/segmented-images/images/ck2bxlujamu330725szlc2jdu.jpg  \r\n",
      "  inflating: ./data/segmented-images/images/cju0sr5ghl0nd08789uzf1raf.jpg  \r\n",
      "  inflating: ./data/segmented-images/images/cju2yljr0yzhw0988ecf271ly.jpg  \r\n",
      "  inflating: ./data/segmented-images/images/cju2xd75m82720801q4s4ik3n.jpg  \r\n",
      "  inflating: ./data/segmented-images/images/ck2da7fwcjfis07218r1rvm95.jpg  \r\n",
      "  inflating: ./data/segmented-images/images/ck2395w2mb4vu07480otsu6tw.jpg  \r\n",
      "  inflating: ./data/segmented-images/images/cjyzuio1qgh040763k56deohv.jpg  \r\n",
      "  inflating: ./data/segmented-images/images/cjyzlw7f9faqr070129au64sq.jpg  \r\n",
      "  inflating: ./data/segmented-images/images/cjyzjzssvd8pq0838f4nolj5l.jpg  \r\n",
      "  inflating: ./data/segmented-images/images/cjyzul1qggwwj07216mhiv5sy.jpg  \r\n",
      "  inflating: ./data/segmented-images/images/ck2bxqz3evvg20794iiyv5v2m.jpg  \r\n",
      "  inflating: ./data/segmented-images/images/cjyzl833ndne80838pzuq6ila.jpg  \r\n",
      "  inflating: ./data/segmented-images/images/cjyzu9th0qt4r0a46pyl4zik0.jpg  \r\n",
      "  inflating: ./data/segmented-images/license.txt  \r\n"
     ]
    }
   ],
   "source": [
    "!wget 'https://datasets.simula.no/hyper-kvasir/hyper-kvasir-segmented-images.zip' -O kvasir.zip\n",
    "ZIP_SHA384 = 'e30d18a772c6520476e55b610a4db457237f151e'\\\n",
    "    '19182849d54b49ae24699881c1e18e0961f77642be900450ef8b22e7'\n",
    "assert sha384(open('./kvasir.zip', 'rb').read(\n",
    "    path.getsize('./kvasir.zip'))).hexdigest() == ZIP_SHA384\n",
    "!unzip -n kvasir.zip -d ./data"
   ]
  },
  {
   "cell_type": "markdown",
   "metadata": {},
   "source": [
    "Now we are ready to define our dataset and model to perform federated learning on."
   ]
  },
  {
   "cell_type": "code",
   "execution_count": 5,
   "metadata": {},
   "outputs": [],
   "source": [
    "DATA_PATH = './data/segmented-images/'"
   ]
  },
  {
   "cell_type": "code",
   "execution_count": 6,
   "metadata": {
    "code_folding": [],
    "scrolled": false
   },
   "outputs": [],
   "source": [
    "def read_data(image_path, mask_path):\n",
    "    \"\"\"\n",
    "    Read image and mask from disk.\n",
    "    \"\"\"\n",
    "    img = io.imread(image_path)\n",
    "    assert(img.shape[2] == 3)\n",
    "    mask = io.imread(mask_path)\n",
    "    return (img, mask[:, :, 0].astype(np.uint8))\n",
    "\n",
    "\n",
    "class KvasirDataset(Dataset):\n",
    "    \"\"\"\n",
    "    Kvasir dataset contains 1000 images for all collaborators.\n",
    "    Args:\n",
    "        data_path: path to dataset on disk\n",
    "        collaborator_count: total number of collaborators\n",
    "        collaborator_num: number of current collaborator\n",
    "        is_validation: validation option\n",
    "    \"\"\"\n",
    "\n",
    "    def __init__(self, data_path, collaborator_count, collaborator_num, is_validation):\n",
    "        self.images_path = './data/segmented-images/images/'\n",
    "        self.masks_path = './data/segmented-images/masks/'\n",
    "        self.images_names = [img_name for img_name in sorted(listdir(\n",
    "            self.images_path)) if len(img_name) > 3 and img_name[-3:] == 'jpg']\n",
    "\n",
    "        self.images_names = self.images_names[collaborator_num:: collaborator_count]\n",
    "        self.is_validation = is_validation\n",
    "        assert(len(self.images_names) > 8)\n",
    "        validation_size = len(self.images_names) // 8\n",
    "        if is_validation:\n",
    "            self.images_names = self.images_names[-validation_size:]\n",
    "        else:\n",
    "            self.images_names = self.images_names[: -validation_size]\n",
    "\n",
    "        self.img_trans = tsf.Compose([\n",
    "            tsf.ToPILImage(),\n",
    "            tsf.Resize((332, 332)),\n",
    "            tsf.ToTensor(),\n",
    "            tsf.Normalize(mean=[0.5, 0.5, 0.5], std=[0.5, 0.5, 0.5])])\n",
    "        self.mask_trans = tsf.Compose([\n",
    "            tsf.ToPILImage(),\n",
    "            tsf.Resize((332, 332), interpolation=PIL.Image.NEAREST),\n",
    "            tsf.ToTensor()])\n",
    "\n",
    "    def __getitem__(self, index):\n",
    "        name = self.images_names[index]\n",
    "        img, mask = read_data(self.images_path + name, self.masks_path + name)\n",
    "        img = self.img_trans(img).numpy()\n",
    "        mask = self.mask_trans(mask).numpy()\n",
    "        return img, mask\n",
    "\n",
    "    def __len__(self):\n",
    "        return len(self.images_names)"
   ]
  },
  {
   "cell_type": "markdown",
   "metadata": {},
   "source": [
    "Here we redefine `FederatedDataSet` methods, if we don't want to use default batch generator from `FederatedDataSet`. "
   ]
  },
  {
   "cell_type": "code",
   "execution_count": 7,
   "metadata": {
    "code_folding": []
   },
   "outputs": [],
   "source": [
    "class KvasirFederatedDataset(FederatedDataSet):\n",
    "    def __init__(self, collaborator_count=1, collaborator_num=0, batch_size=1, **kwargs):\n",
    "        \"\"\"Instantiate the data object\n",
    "        Args:\n",
    "            collaborator_count: total number of collaborators\n",
    "            collaborator_num: number of current collaborator\n",
    "            batch_size:  the batch size of the data loader\n",
    "            **kwargs: additional arguments, passed to super init\n",
    "        \"\"\"\n",
    "        super().__init__([], [], [], [], batch_size, num_classes=2, **kwargs)\n",
    "\n",
    "        self.collaborator_num = int(collaborator_num)\n",
    "\n",
    "        self.batch_size = batch_size\n",
    "\n",
    "        self.training_set = KvasirDataset(\n",
    "            DATA_PATH, collaborator_count, collaborator_num, is_validation=False\n",
    "        )\n",
    "        self.valid_set = KvasirDataset(\n",
    "            DATA_PATH, collaborator_count, collaborator_num, is_validation=True\n",
    "        )\n",
    "\n",
    "        self.train_loader = self.get_train_loader()\n",
    "        self.val_loader = self.get_valid_loader()\n",
    "\n",
    "    def get_valid_loader(self, num_batches=None):\n",
    "        return DataLoader(self.valid_set, num_workers=8, batch_size=self.batch_size)\n",
    "\n",
    "    def get_train_loader(self, num_batches=None):\n",
    "        return DataLoader(\n",
    "            self.training_set, num_workers=8, batch_size=self.batch_size, shuffle=True\n",
    "        )\n",
    "\n",
    "    def get_train_data_size(self):\n",
    "        return len(self.training_set)\n",
    "\n",
    "    def get_valid_data_size(self):\n",
    "        return len(self.valid_set)\n",
    "\n",
    "    def get_feature_shape(self):\n",
    "        return self.valid_set[0][0].shape\n",
    "\n",
    "    def split(self, collaborator_count, shuffle=True, equally=True):\n",
    "        return [\n",
    "            KvasirFederatedDataset(collaborator_count,\n",
    "                           collaborator_num, self.batch_size)\n",
    "            for collaborator_num in range(collaborator_count)\n",
    "        ]"
   ]
  },
  {
   "cell_type": "markdown",
   "metadata": {},
   "source": [
    "Our Unet model"
   ]
  },
  {
   "cell_type": "code",
   "execution_count": 8,
   "metadata": {
    "code_folding": []
   },
   "outputs": [],
   "source": [
    "def soft_dice_loss(output, target):\n",
    "    num = target.size(0)\n",
    "    m1 = output.view(num, -1)\n",
    "    m2 = target.view(num, -1)\n",
    "    intersection = m1 * m2\n",
    "    score = 2.0 * (intersection.sum(1) + 1) / (m1.sum(1) + m2.sum(1) + 1)\n",
    "    score = 1 - score.sum() / num\n",
    "    return score\n",
    "\n",
    "\n",
    "def soft_dice_coef(output, target):\n",
    "    num = target.size(0)\n",
    "    m1 = output.view(num, -1)\n",
    "    m2 = target.view(num, -1)\n",
    "    intersection = m1 * m2\n",
    "    score = 2.0 * (intersection.sum(1) + 1) / (m1.sum(1) + m2.sum(1) + 1)\n",
    "    return score.sum()\n",
    "\n",
    "\n",
    "class double_conv(nn.Module):\n",
    "    def __init__(self, in_ch, out_ch):\n",
    "        super(double_conv, self).__init__()\n",
    "        self.in_ch = in_ch\n",
    "        self.out_ch = out_ch\n",
    "        self.conv = nn.Sequential(\n",
    "            nn.Conv2d(in_ch, out_ch, 3, padding=1),\n",
    "            nn.BatchNorm2d(out_ch),\n",
    "            nn.ReLU(inplace=True),\n",
    "            nn.Conv2d(out_ch, out_ch, 3, padding=1),\n",
    "            nn.BatchNorm2d(out_ch),\n",
    "            nn.ReLU(inplace=True),\n",
    "        )\n",
    "\n",
    "    def forward(self, x):\n",
    "        x = self.conv(x)\n",
    "        return x\n",
    "\n",
    "\n",
    "class down(nn.Module):\n",
    "    def __init__(self, in_ch, out_ch):\n",
    "        super(down, self).__init__()\n",
    "        self.mpconv = nn.Sequential(\n",
    "            nn.MaxPool2d(2), double_conv(in_ch, out_ch))\n",
    "\n",
    "    def forward(self, x):\n",
    "        x = self.mpconv(x)\n",
    "        return x\n",
    "\n",
    "\n",
    "class up(nn.Module):\n",
    "    def __init__(self, in_ch, out_ch, bilinear=False):\n",
    "        super(up, self).__init__()\n",
    "        self.in_ch = in_ch\n",
    "        self.out_ch = out_ch\n",
    "        if bilinear:\n",
    "            self.up = nn.Upsample(\n",
    "                scale_factor=2, mode=\"bilinear\", align_corners=True)\n",
    "        else:\n",
    "            self.up = nn.ConvTranspose2d(\n",
    "                in_ch, in_ch // 2, 2, stride=2\n",
    "            )\n",
    "        self.conv = double_conv(in_ch, out_ch)\n",
    "\n",
    "    def forward(self, x1, x2):\n",
    "        x1 = self.up(x1)\n",
    "        diffY = x2.size()[2] - x1.size()[2]\n",
    "        diffX = x2.size()[3] - x1.size()[3]\n",
    "\n",
    "        x1 = F.pad(x1, (diffX // 2, diffX - diffX //\n",
    "                        2, diffY // 2, diffY - diffY // 2))\n",
    "\n",
    "        x = torch.cat([x2, x1], dim=1)\n",
    "        x = self.conv(x)\n",
    "        return x\n",
    "\n",
    "\n",
    "class UNet(nn.Module):\n",
    "    def __init__(self, n_channels=3, n_classes=1):\n",
    "        super().__init__()\n",
    "        self.inc = double_conv(n_channels, 64)\n",
    "        self.down1 = down(64, 128)\n",
    "        self.down2 = down(128, 256)\n",
    "        self.down3 = down(256, 512)\n",
    "        self.down4 = down(512, 1024)\n",
    "        self.up1 = up(1024, 512)\n",
    "        self.up2 = up(512, 256)\n",
    "        self.up3 = up(256, 128)\n",
    "        self.up4 = up(128, 64)\n",
    "        self.outc = nn.Conv2d(64, n_classes, 1)\n",
    "\n",
    "    def forward(self, x):\n",
    "        x1 = self.inc(x)\n",
    "        x2 = self.down1(x1)\n",
    "        x3 = self.down2(x2)\n",
    "        x4 = self.down3(x3)\n",
    "        x5 = self.down4(x4)\n",
    "        x = self.up1(x5, x4)\n",
    "        x = self.up2(x, x3)\n",
    "        x = self.up3(x, x2)\n",
    "        x = self.up4(x, x1)\n",
    "        x = self.outc(x)\n",
    "        x = torch.sigmoid(x)\n",
    "        return x\n",
    "\n",
    "    def validate(\n",
    "        self, col_name, round_num, input_tensor_dict, use_tqdm=False, **kwargs\n",
    "    ):\n",
    "        \"\"\" Validate. Redifine function from PyTorchTaskRunner, to use our validation\"\"\"\n",
    "        self.rebuild_model(round_num, input_tensor_dict, validation=True)\n",
    "        self.eval()\n",
    "        self.to(self.device)\n",
    "        val_score = 0\n",
    "        total_samples = 0\n",
    "\n",
    "        loader = self.data_loader.get_valid_loader()\n",
    "        if use_tqdm:\n",
    "            loader = tqdm.tqdm(loader, desc=\"validate\")\n",
    "\n",
    "        with torch.no_grad():\n",
    "            for data, target in loader:\n",
    "                samples = target.shape[0]\n",
    "                total_samples += samples\n",
    "                data, target = (\n",
    "                    torch.tensor(data).to(self.device),\n",
    "                    torch.tensor(target).to(self.device),\n",
    "                )\n",
    "                output = self(data)\n",
    "                # get the index of the max log-probability\n",
    "                val = soft_dice_coef(output, target)\n",
    "                val_score += val.sum().cpu().numpy()\n",
    "\n",
    "        origin = col_name\n",
    "        suffix = \"validate\"\n",
    "        if kwargs[\"apply\"] == \"local\":\n",
    "            suffix += \"_local\"\n",
    "        else:\n",
    "            suffix += \"_agg\"\n",
    "        tags = (\"metric\", suffix)\n",
    "        output_tensor_dict = {\n",
    "            TensorKey(\"dice_coef\", origin, round_num, True, tags): np.array(\n",
    "                val_score / total_samples\n",
    "            )\n",
    "        }\n",
    "        return output_tensor_dict, {}\n",
    "\n",
    "\n",
    "def optimizer(x): return optim.Adam(x, lr=1e-3)"
   ]
  },
  {
   "cell_type": "markdown",
   "metadata": {},
   "source": [
    "Create `KvasirFederatedDataset`, federated datasets for collaborators will be created in `split()` method of this object"
   ]
  },
  {
   "cell_type": "code",
   "execution_count": 9,
   "metadata": {},
   "outputs": [],
   "source": [
    "fl_data = KvasirFederatedDataset(batch_size=6)"
   ]
  },
  {
   "cell_type": "markdown",
   "metadata": {},
   "source": [
    "The `FederatedModel` object is a wrapper around your Keras, Tensorflow or PyTorch model that makes it compatible with OpenFL. It provides built-in federated training function which will be used while training. Using its `setup` function, collaborator models and datasets can be automatically obtained for the experiment. "
   ]
  },
  {
   "cell_type": "code",
   "execution_count": 10,
   "metadata": {},
   "outputs": [
    {
     "data": {
      "text/html": [
       "<pre style=\"white-space:pre;overflow-x:auto;line-height:normal;font-family:Menlo,'DejaVu Sans Mono',consolas,'Courier New',monospace\"><span style=\"color: #7fbfbf\">[17:44:12] </span><span style=\"color: #800000\">WARNING</span>  tried to remove tensor: __opt_state_needed not present in the tensor dict                                                        <a href=\"file:///home/itrushkin/.virtualenvs/openfl_research/lib/python3.8/site-packages/openfl/utilities/utils.py\"><span style=\"color: #7f7f7f\">utils.py</span></a><span style=\"color: #7f7f7f\">:85</span>\n",
       "</pre>\n"
      ],
      "text/plain": [
       "<rich.jupyter.JupyterRenderable at 0x7f752a79ed90>"
      ]
     },
     "metadata": {},
     "output_type": "display_data"
    }
   ],
   "source": [
    "# Create a federated model using the pytorch class, optimizer function, and loss function\n",
    "fl_model = FederatedModel(build_model=UNet, optimizer=optimizer,\n",
    "                          loss_fn=soft_dice_loss, data_loader=fl_data)"
   ]
  },
  {
   "cell_type": "code",
   "execution_count": 11,
   "metadata": {},
   "outputs": [
    {
     "data": {
      "text/html": [
       "<pre style=\"white-space:pre;overflow-x:auto;line-height:normal;font-family:Menlo,'DejaVu Sans Mono',consolas,'Courier New',monospace\"><span style=\"color: #7fbfbf\">           </span><span style=\"color: #800000\">WARNING</span>  tried to remove tensor: __opt_state_needed not present in the tensor dict                                                        <a href=\"file:///home/itrushkin/.virtualenvs/openfl_research/lib/python3.8/site-packages/openfl/utilities/utils.py\"><span style=\"color: #7f7f7f\">utils.py</span></a><span style=\"color: #7f7f7f\">:85</span>\n",
       "</pre>\n"
      ],
      "text/plain": [
       "<rich.jupyter.JupyterRenderable at 0x7f7529a69820>"
      ]
     },
     "metadata": {},
     "output_type": "display_data"
    },
    {
     "data": {
      "text/html": [
       "<pre style=\"white-space:pre;overflow-x:auto;line-height:normal;font-family:Menlo,'DejaVu Sans Mono',consolas,'Courier New',monospace\"><span style=\"color: #7fbfbf\">[17:44:13] </span><span style=\"color: #800000\">WARNING</span>  tried to remove tensor: __opt_state_needed not present in the tensor dict                                                        <a href=\"file:///home/itrushkin/.virtualenvs/openfl_research/lib/python3.8/site-packages/openfl/utilities/utils.py\"><span style=\"color: #7f7f7f\">utils.py</span></a><span style=\"color: #7f7f7f\">:85</span>\n",
       "</pre>\n"
      ],
      "text/plain": [
       "<rich.jupyter.JupyterRenderable at 0x7f75299b8b20>"
      ]
     },
     "metadata": {},
     "output_type": "display_data"
    }
   ],
   "source": [
    "collaborator_models = fl_model.setup(num_collaborators=2)\n",
    "collaborators = {'one': collaborator_models[0], 'two': collaborator_models[1]}"
   ]
  },
  {
   "cell_type": "markdown",
   "metadata": {},
   "source": [
    "We can see the current FL plan values by running the `fx.get_plan()` function"
   ]
  },
  {
   "cell_type": "code",
   "execution_count": null,
   "metadata": {
    "code_folding": [],
    "scrolled": true
   },
   "outputs": [],
   "source": [
    "# Get the current values of the FL plan. Each of these can be overridden\n",
    "print(fx.get_plan())"
   ]
  },
  {
   "cell_type": "markdown",
   "metadata": {},
   "source": [
    "Now we are ready to run our experiment. If we want to pass in custom FL plan settings, we can easily do that with the `override_config` parameter"
   ]
  },
  {
   "cell_type": "code",
   "execution_count": 13,
   "metadata": {
    "scrolled": false
   },
   "outputs": [
    {
     "data": {
      "text/html": [
       "<pre style=\"white-space:pre;overflow-x:auto;line-height:normal;font-family:Menlo,'DejaVu Sans Mono',consolas,'Courier New',monospace\"><span style=\"color: #7fbfbf\">           </span><span style=\"color: #000080\">INFO</span>     Updating aggregator.settings.rounds_to_train to <span style=\"color: #000080; font-weight: bold\">30</span><span style=\"color: #808000\">...</span>                                                                           <a href=\"file:///home/itrushkin/.virtualenvs/openfl_research/lib/python3.8/site-packages/openfl/native/native.py\"><span style=\"color: #7f7f7f\">native.py</span></a><span style=\"color: #7f7f7f\">:82</span>\n",
       "</pre>\n"
      ],
      "text/plain": [
       "<rich.jupyter.JupyterRenderable at 0x7f75299ec340>"
      ]
     },
     "metadata": {},
     "output_type": "display_data"
    },
    {
     "data": {
      "text/html": [
       "<pre style=\"white-space:pre;overflow-x:auto;line-height:normal;font-family:Menlo,'DejaVu Sans Mono',consolas,'Courier New',monospace\"><span style=\"color: #7fbfbf\">           </span><span style=\"color: #000080\">INFO</span>     Building <span style=\"color: #800000\">🡆</span> Object <span style=\"color: #800000\">NoCompressionPipeline</span> from <span style=\"color: #800000\">openfl.pipelines</span> Module.                                                            <a href=\"file:///home/itrushkin/.virtualenvs/openfl_research/lib/python3.8/site-packages/openfl/federated/plan/plan.py\"><span style=\"color: #7f7f7f\">plan.py</span></a><span style=\"color: #7f7f7f\">:162</span>\n",
       "</pre>\n"
      ],
      "text/plain": [
       "<rich.jupyter.JupyterRenderable at 0x7f75299ec7f0>"
      ]
     },
     "metadata": {},
     "output_type": "display_data"
    },
    {
     "data": {
      "text/html": [
       "<pre style=\"white-space:pre;overflow-x:auto;line-height:normal;font-family:Menlo,'DejaVu Sans Mono',consolas,'Courier New',monospace\"><span style=\"color: #7fbfbf\">           </span><span style=\"color: #000080\">INFO</span>     Settings <span style=\"color: #800000\">🡆</span> <span style=\"font-weight: bold\">{}</span>                                                                                                                    <a href=\"file:///home/itrushkin/.virtualenvs/openfl_research/lib/python3.8/site-packages/openfl/federated/plan/plan.py\"><span style=\"color: #7f7f7f\">plan.py</span></a><span style=\"color: #7f7f7f\">:165</span>\n",
       "</pre>\n"
      ],
      "text/plain": [
       "<rich.jupyter.JupyterRenderable at 0x7f75299eca60>"
      ]
     },
     "metadata": {},
     "output_type": "display_data"
    },
    {
     "data": {
      "text/html": [
       "<pre style=\"white-space:pre;overflow-x:auto;line-height:normal;font-family:Menlo,'DejaVu Sans Mono',consolas,'Courier New',monospace\"><span style=\"color: #7fbfbf\">           </span><span style=\"color: #000080\">INFO</span>     Override <span style=\"color: #800000\">🡆</span> <span style=\"font-weight: bold\">{}</span>                                                                                                                    <a href=\"file:///home/itrushkin/.virtualenvs/openfl_research/lib/python3.8/site-packages/openfl/federated/plan/plan.py\"><span style=\"color: #7f7f7f\">plan.py</span></a><span style=\"color: #7f7f7f\">:167</span>\n",
       "</pre>\n"
      ],
      "text/plain": [
       "<rich.jupyter.JupyterRenderable at 0x7f75299ec5b0>"
      ]
     },
     "metadata": {},
     "output_type": "display_data"
    },
    {
     "data": {
      "text/html": [
       "<pre style=\"white-space:pre;overflow-x:auto;line-height:normal;font-family:Menlo,'DejaVu Sans Mono',consolas,'Courier New',monospace\"><span style=\"color: #7fbfbf\">           </span><span style=\"color: #000080\">INFO</span>     Creating Initial Weights File    🠆 save/torch_unet_kvasir_init.pbuf                                                            <a href=\"file:///home/itrushkin/.virtualenvs/openfl_research/lib/python3.8/site-packages/openfl/native/native.py\"><span style=\"color: #7f7f7f\">native.py</span></a><span style=\"color: #7f7f7f\">:240</span>\n",
       "</pre>\n"
      ],
      "text/plain": [
       "<rich.jupyter.JupyterRenderable at 0x7f7490d61c70>"
      ]
     },
     "metadata": {},
     "output_type": "display_data"
    },
    {
     "data": {
      "text/html": [
       "<pre style=\"white-space:pre;overflow-x:auto;line-height:normal;font-family:Menlo,'DejaVu Sans Mono',consolas,'Courier New',monospace\"><span style=\"color: #7fbfbf\">           </span><span style=\"color: #000080\">INFO</span>     Starting Experiment<span style=\"color: #808000\">...</span>                                                                                                         <a href=\"file:///home/itrushkin/.virtualenvs/openfl_research/lib/python3.8/site-packages/openfl/native/native.py\"><span style=\"color: #7f7f7f\">native.py</span></a><span style=\"color: #7f7f7f\">:244</span>\n",
       "</pre>\n"
      ],
      "text/plain": [
       "<rich.jupyter.JupyterRenderable at 0x7f7490d61ca0>"
      ]
     },
     "metadata": {},
     "output_type": "display_data"
    },
    {
     "data": {
      "text/html": [
       "<pre style=\"white-space:pre;overflow-x:auto;line-height:normal;font-family:Menlo,'DejaVu Sans Mono',consolas,'Courier New',monospace\"><span style=\"color: #7fbfbf\">           </span><span style=\"color: #000080\">INFO</span>     Building <span style=\"color: #800000\">🡆</span> Object <span style=\"color: #800000\">RandomGroupedAssigner</span> from <span style=\"color: #800000\">openfl.component</span> Module.                                                            <a href=\"file:///home/itrushkin/.virtualenvs/openfl_research/lib/python3.8/site-packages/openfl/federated/plan/plan.py\"><span style=\"color: #7f7f7f\">plan.py</span></a><span style=\"color: #7f7f7f\">:162</span>\n",
       "</pre>\n"
      ],
      "text/plain": [
       "<rich.jupyter.JupyterRenderable at 0x7f7490d61d90>"
      ]
     },
     "metadata": {},
     "output_type": "display_data"
    },
    {
     "data": {
      "text/html": [
       "<pre style=\"white-space:pre;overflow-x:auto;line-height:normal;font-family:Menlo,'DejaVu Sans Mono',consolas,'Courier New',monospace\"><span style=\"color: #7fbfbf\">           </span><span style=\"color: #000080\">INFO</span>     Settings <span style=\"color: #800000\">🡆</span> <span style=\"font-weight: bold\">{</span><span style=\"color: #008000\">'task_groups'</span>: <span style=\"font-weight: bold\">[{</span><span style=\"color: #008000\">'name'</span>: <span style=\"color: #008000\">'train_and_validate'</span>, <span style=\"color: #008000\">'percentage'</span>: <span style=\"color: #000080; font-weight: bold\">1.0</span>, <span style=\"color: #008000\">'tasks'</span>: <span style=\"font-weight: bold\">[</span><span style=\"color: #008000\">'aggregated_model_validation'</span>, <span style=\"color: #008000\">'train'</span>,  <a href=\"file:///home/itrushkin/.virtualenvs/openfl_research/lib/python3.8/site-packages/openfl/federated/plan/plan.py\"><span style=\"color: #7f7f7f\">plan.py</span></a><span style=\"color: #7f7f7f\">:165</span>\n",
       "                    <span style=\"color: #008000\">'locally_tuned_model_validation'</span><span style=\"font-weight: bold\">]}]</span>, <span style=\"color: #008000\">'authorized_cols'</span>: <span style=\"font-weight: bold\">[</span><span style=\"color: #008000\">'one'</span>, <span style=\"color: #008000\">'two'</span><span style=\"font-weight: bold\">]</span>, <span style=\"color: #008000\">'rounds_to_train'</span>: <span style=\"color: #000080; font-weight: bold\">40</span>, <span style=\"color: #008000\">'tasks'</span>: <span style=\"font-weight: bold\">{</span><span style=\"color: #008000\">'defaults'</span>:                        \n",
       "                    <span style=\"color: #008000\">'plan/defaults/tasks_torch.yaml'</span>, <span style=\"color: #008000\">'settings'</span>: <span style=\"font-weight: bold\">{}</span>, <span style=\"color: #008000\">'aggregated_model_validation'</span>: <span style=\"font-weight: bold\">{</span><span style=\"color: #008000\">'function'</span>: <span style=\"color: #008000\">'validate'</span>, <span style=\"color: #008000\">'kwargs'</span>: <span style=\"font-weight: bold\">{</span><span style=\"color: #008000\">'apply'</span>:               \n",
       "                    <span style=\"color: #008000\">'global'</span>, <span style=\"color: #008000\">'metrics'</span>: <span style=\"font-weight: bold\">[</span><span style=\"color: #008000\">'dice_coef'</span><span style=\"font-weight: bold\">]}}</span>, <span style=\"color: #008000\">'train'</span>: <span style=\"font-weight: bold\">{</span><span style=\"color: #008000\">'function'</span>: <span style=\"color: #008000\">'train_batches'</span>, <span style=\"color: #008000\">'kwargs'</span>: <span style=\"font-weight: bold\">{</span><span style=\"color: #008000\">'metrics'</span>: <span style=\"font-weight: bold\">[</span><span style=\"color: #008000\">'loss'</span><span style=\"font-weight: bold\">]}}</span>,                              \n",
       "                    <span style=\"color: #008000\">'locally_tuned_model_validation'</span>: <span style=\"font-weight: bold\">{</span><span style=\"color: #008000\">'function'</span>: <span style=\"color: #008000\">'validate'</span>, <span style=\"color: #008000\">'kwargs'</span>: <span style=\"font-weight: bold\">{</span><span style=\"color: #008000\">'apply'</span>: <span style=\"color: #008000\">'local'</span>, <span style=\"color: #008000\">'metrics'</span>: <span style=\"font-weight: bold\">[</span><span style=\"color: #008000\">'dice_coef'</span><span style=\"font-weight: bold\">]}}}}</span>                        \n",
       "</pre>\n"
      ],
      "text/plain": [
       "<rich.jupyter.JupyterRenderable at 0x7f7490d61dc0>"
      ]
     },
     "metadata": {},
     "output_type": "display_data"
    },
    {
     "data": {
      "text/html": [
       "<pre style=\"white-space:pre;overflow-x:auto;line-height:normal;font-family:Menlo,'DejaVu Sans Mono',consolas,'Courier New',monospace\"><span style=\"color: #7fbfbf\">           </span><span style=\"color: #000080\">INFO</span>     Override <span style=\"color: #800000\">🡆</span> <span style=\"font-weight: bold\">{</span><span style=\"color: #008000\">'defaults'</span>: <span style=\"color: #008000\">'plan/defaults/assigner.yaml'</span><span style=\"font-weight: bold\">}</span>                                                                           <a href=\"file:///home/itrushkin/.virtualenvs/openfl_research/lib/python3.8/site-packages/openfl/federated/plan/plan.py\"><span style=\"color: #7f7f7f\">plan.py</span></a><span style=\"color: #7f7f7f\">:167</span>\n",
       "</pre>\n"
      ],
      "text/plain": [
       "<rich.jupyter.JupyterRenderable at 0x7f7490d61af0>"
      ]
     },
     "metadata": {},
     "output_type": "display_data"
    },
    {
     "data": {
      "text/html": [
       "<pre style=\"white-space:pre;overflow-x:auto;line-height:normal;font-family:Menlo,'DejaVu Sans Mono',consolas,'Courier New',monospace\"><span style=\"color: #7fbfbf\">           </span><span style=\"color: #000080\">INFO</span>     Building <span style=\"color: #800000\">🡆</span> Object <span style=\"color: #800000\">Aggregator</span> from <span style=\"color: #800000\">openfl.component</span> Module.                                                                       <a href=\"file:///home/itrushkin/.virtualenvs/openfl_research/lib/python3.8/site-packages/openfl/federated/plan/plan.py\"><span style=\"color: #7f7f7f\">plan.py</span></a><span style=\"color: #7f7f7f\">:162</span>\n",
       "</pre>\n"
      ],
      "text/plain": [
       "<rich.jupyter.JupyterRenderable at 0x7f7490d2ef70>"
      ]
     },
     "metadata": {},
     "output_type": "display_data"
    },
    {
     "data": {
      "text/html": [
       "<pre style=\"white-space:pre;overflow-x:auto;line-height:normal;font-family:Menlo,'DejaVu Sans Mono',consolas,'Courier New',monospace\"><span style=\"color: #7fbfbf\">           </span><span style=\"color: #000080\">INFO</span>     Settings <span style=\"color: #800000\">🡆</span> <span style=\"font-weight: bold\">{</span><span style=\"color: #008000\">'last_state_path'</span>: <span style=\"color: #008000\">'save/torch_unet_kvasir_last.pbuf'</span>, <span style=\"color: #008000\">'db_store_rounds'</span>: <span style=\"color: #000080; font-weight: bold\">1</span>, <span style=\"color: #008000\">'init_state_path'</span>:                      <a href=\"file:///home/itrushkin/.virtualenvs/openfl_research/lib/python3.8/site-packages/openfl/federated/plan/plan.py\"><span style=\"color: #7f7f7f\">plan.py</span></a><span style=\"color: #7f7f7f\">:165</span>\n",
       "                    <span style=\"color: #008000\">'save/torch_unet_kvasir_init.pbuf'</span>, <span style=\"color: #008000\">'rounds_to_train'</span>: <span style=\"color: #000080; font-weight: bold\">30</span>, <span style=\"color: #008000\">'best_state_path'</span>: <span style=\"color: #008000\">'save/torch_unet_kvasir_best.pbuf'</span>,                           \n",
       "                    <span style=\"color: #008000\">'aggregator_uuid'</span>: <span style=\"color: #008000\">'aggregator_plan.yaml_851debec'</span>, <span style=\"color: #008000\">'federation_uuid'</span>: <span style=\"color: #008000\">'plan.yaml_851debec'</span>, <span style=\"color: #008000\">'authorized_cols'</span>: <span style=\"font-weight: bold\">[</span><span style=\"color: #008000\">'one'</span>, <span style=\"color: #008000\">'two'</span><span style=\"font-weight: bold\">]</span>,             \n",
       "                    <span style=\"color: #008000\">'assigner'</span>: <span style=\"font-weight: bold\">&lt;</span><span style=\"color: #ff00ff; font-weight: bold\">openfl.component.assigner.random_grouped_assigner.RandomGroupedAssigner</span><span style=\"color: #000000\"> object at </span><span style=\"color: #000080; font-weight: bold\">0x7f75299ec520</span><span style=\"font-weight: bold\">&gt;}</span>                             \n",
       "</pre>\n"
      ],
      "text/plain": [
       "<rich.jupyter.JupyterRenderable at 0x7f7490d2efa0>"
      ]
     },
     "metadata": {},
     "output_type": "display_data"
    },
    {
     "data": {
      "text/html": [
       "<pre style=\"white-space:pre;overflow-x:auto;line-height:normal;font-family:Menlo,'DejaVu Sans Mono',consolas,'Courier New',monospace\"><span style=\"color: #7fbfbf\">           </span><span style=\"color: #000080\">INFO</span>     Override <span style=\"color: #800000\">🡆</span> <span style=\"font-weight: bold\">{</span><span style=\"color: #008000\">'defaults'</span>: <span style=\"color: #008000\">'plan/defaults/aggregator.yaml'</span><span style=\"font-weight: bold\">}</span>                                                                         <a href=\"file:///home/itrushkin/.virtualenvs/openfl_research/lib/python3.8/site-packages/openfl/federated/plan/plan.py\"><span style=\"color: #7f7f7f\">plan.py</span></a><span style=\"color: #7f7f7f\">:167</span>\n",
       "</pre>\n"
      ],
      "text/plain": [
       "<rich.jupyter.JupyterRenderable at 0x7f7490d2ee80>"
      ]
     },
     "metadata": {},
     "output_type": "display_data"
    },
    {
     "data": {
      "text/html": [
       "<pre style=\"white-space:pre;overflow-x:auto;line-height:normal;font-family:Menlo,'DejaVu Sans Mono',consolas,'Courier New',monospace\"><span style=\"color: #7fbfbf\">           </span><span style=\"color: #000080\">INFO</span>     Building <span style=\"color: #800000\">🡆</span> Object <span style=\"color: #800000\">Collaborator</span> from <span style=\"color: #800000\">openfl.component</span> Module.                                                                     <a href=\"file:///home/itrushkin/.virtualenvs/openfl_research/lib/python3.8/site-packages/openfl/federated/plan/plan.py\"><span style=\"color: #7f7f7f\">plan.py</span></a><span style=\"color: #7f7f7f\">:162</span>\n",
       "</pre>\n"
      ],
      "text/plain": [
       "<rich.jupyter.JupyterRenderable at 0x7f7490c9eac0>"
      ]
     },
     "metadata": {},
     "output_type": "display_data"
    },
    {
     "data": {
      "text/html": [
       "<pre style=\"white-space:pre;overflow-x:auto;line-height:normal;font-family:Menlo,'DejaVu Sans Mono',consolas,'Courier New',monospace\"><span style=\"color: #7fbfbf\">           </span><span style=\"color: #000080\">INFO</span>     Settings <span style=\"color: #800000\">🡆</span> <span style=\"font-weight: bold\">{</span><span style=\"color: #008000\">'db_store_rounds'</span>: <span style=\"color: #000080; font-weight: bold\">1</span>, <span style=\"color: #008000\">'epochs_per_round'</span>: <span style=\"color: #000080; font-weight: bold\">1.0</span>, <span style=\"color: #008000\">'delta_updates'</span>: <span style=\"color: #ff0000; font-style: italic\">False</span>, <span style=\"color: #008000\">'polling_interval'</span>: <span style=\"color: #000080; font-weight: bold\">4</span>, <span style=\"color: #008000\">'opt_treatment'</span>:       <a href=\"file:///home/itrushkin/.virtualenvs/openfl_research/lib/python3.8/site-packages/openfl/federated/plan/plan.py\"><span style=\"color: #7f7f7f\">plan.py</span></a><span style=\"color: #7f7f7f\">:165</span>\n",
       "                    <span style=\"color: #008000\">'RESET'</span>, <span style=\"color: #008000\">'collaborator_name'</span>: <span style=\"color: #008000\">'one'</span>, <span style=\"color: #008000\">'aggregator_uuid'</span>: <span style=\"color: #008000\">'aggregator_plan.yaml_851debec'</span>, <span style=\"color: #008000\">'federation_uuid'</span>:                                 \n",
       "                    <span style=\"color: #008000\">'plan.yaml_851debec'</span>, <span style=\"color: #008000\">'task_runner'</span>: <span style=\"font-weight: bold\">&lt;</span><span style=\"color: #ff00ff; font-weight: bold\">openfl.federated.task.fl_model.FederatedModel</span><span style=\"color: #000000\"> object at </span><span style=\"color: #000080; font-weight: bold\">0x7f7529a742b0</span><span style=\"font-weight: bold\">&gt;</span>, <span style=\"color: #008000\">'tensor_pipe'</span>:               \n",
       "                    <span style=\"font-weight: bold\">&lt;</span><span style=\"color: #ff00ff; font-weight: bold\">openfl.pipelines.no_compression_pipeline.NoCompressionPipeline</span><span style=\"color: #000000\"> object at </span><span style=\"color: #000080; font-weight: bold\">0x7f7529a746a0</span><span style=\"font-weight: bold\">&gt;</span>, <span style=\"color: #008000\">'task_config'</span>: <span style=\"font-weight: bold\">{</span><span style=\"color: #008000\">'defaults'</span>:                      \n",
       "                    <span style=\"color: #008000\">'plan/defaults/tasks_torch.yaml'</span>, <span style=\"color: #008000\">'settings'</span>: <span style=\"font-weight: bold\">{}</span>, <span style=\"color: #008000\">'aggregated_model_validation'</span>: <span style=\"font-weight: bold\">{</span><span style=\"color: #008000\">'function'</span>: <span style=\"color: #008000\">'validate'</span>, <span style=\"color: #008000\">'kwargs'</span>: <span style=\"font-weight: bold\">{</span><span style=\"color: #008000\">'apply'</span>:               \n",
       "                    <span style=\"color: #008000\">'global'</span>, <span style=\"color: #008000\">'metrics'</span>: <span style=\"font-weight: bold\">[</span><span style=\"color: #008000\">'dice_coef'</span><span style=\"font-weight: bold\">]}}</span>, <span style=\"color: #008000\">'train'</span>: <span style=\"font-weight: bold\">{</span><span style=\"color: #008000\">'function'</span>: <span style=\"color: #008000\">'train_batches'</span>, <span style=\"color: #008000\">'kwargs'</span>: <span style=\"font-weight: bold\">{</span><span style=\"color: #008000\">'metrics'</span>: <span style=\"font-weight: bold\">[</span><span style=\"color: #008000\">'loss'</span><span style=\"font-weight: bold\">]}}</span>,                              \n",
       "                    <span style=\"color: #008000\">'locally_tuned_model_validation'</span>: <span style=\"font-weight: bold\">{</span><span style=\"color: #008000\">'function'</span>: <span style=\"color: #008000\">'validate'</span>, <span style=\"color: #008000\">'kwargs'</span>: <span style=\"font-weight: bold\">{</span><span style=\"color: #008000\">'apply'</span>: <span style=\"color: #008000\">'local'</span>, <span style=\"color: #008000\">'metrics'</span>: <span style=\"font-weight: bold\">[</span><span style=\"color: #008000\">'dice_coef'</span><span style=\"font-weight: bold\">]}}}</span>, <span style=\"color: #008000\">'client'</span>:              \n",
       "                    <span style=\"font-weight: bold\">&lt;</span><span style=\"color: #ff00ff; font-weight: bold\">openfl.component.aggregator.aggregator.Aggregator</span><span style=\"color: #000000\"> object at </span><span style=\"color: #000080; font-weight: bold\">0x7f7490d61c40</span><span style=\"font-weight: bold\">&gt;}</span>                                                               \n",
       "</pre>\n"
      ],
      "text/plain": [
       "<rich.jupyter.JupyterRenderable at 0x7f75299ecf10>"
      ]
     },
     "metadata": {},
     "output_type": "display_data"
    },
    {
     "data": {
      "text/html": [
       "<pre style=\"white-space:pre;overflow-x:auto;line-height:normal;font-family:Menlo,'DejaVu Sans Mono',consolas,'Courier New',monospace\"><span style=\"color: #7fbfbf\">           </span><span style=\"color: #000080\">INFO</span>     Override <span style=\"color: #800000\">🡆</span> <span style=\"font-weight: bold\">{</span><span style=\"color: #008000\">'defaults'</span>: <span style=\"color: #008000\">'plan/defaults/collaborator.yaml'</span><span style=\"font-weight: bold\">}</span>                                                                       <a href=\"file:///home/itrushkin/.virtualenvs/openfl_research/lib/python3.8/site-packages/openfl/federated/plan/plan.py\"><span style=\"color: #7f7f7f\">plan.py</span></a><span style=\"color: #7f7f7f\">:167</span>\n",
       "</pre>\n"
      ],
      "text/plain": [
       "<rich.jupyter.JupyterRenderable at 0x7f7490c9eac0>"
      ]
     },
     "metadata": {},
     "output_type": "display_data"
    },
    {
     "data": {
      "text/html": [
       "<pre style=\"white-space:pre;overflow-x:auto;line-height:normal;font-family:Menlo,'DejaVu Sans Mono',consolas,'Courier New',monospace\"><span style=\"color: #7fbfbf\">[17:44:14] </span><span style=\"color: #000080\">INFO</span>     Building <span style=\"color: #800000\">🡆</span> Object <span style=\"color: #800000\">Collaborator</span> from <span style=\"color: #800000\">openfl.component</span> Module.                                                                     <a href=\"file:///home/itrushkin/.virtualenvs/openfl_research/lib/python3.8/site-packages/openfl/federated/plan/plan.py\"><span style=\"color: #7f7f7f\">plan.py</span></a><span style=\"color: #7f7f7f\">:162</span>\n",
       "</pre>\n"
      ],
      "text/plain": [
       "<rich.jupyter.JupyterRenderable at 0x7f7490c9e130>"
      ]
     },
     "metadata": {},
     "output_type": "display_data"
    },
    {
     "data": {
      "text/html": [
       "<pre style=\"white-space:pre;overflow-x:auto;line-height:normal;font-family:Menlo,'DejaVu Sans Mono',consolas,'Courier New',monospace\"><span style=\"color: #7fbfbf\">           </span><span style=\"color: #000080\">INFO</span>     Settings <span style=\"color: #800000\">🡆</span> <span style=\"font-weight: bold\">{</span><span style=\"color: #008000\">'db_store_rounds'</span>: <span style=\"color: #000080; font-weight: bold\">1</span>, <span style=\"color: #008000\">'epochs_per_round'</span>: <span style=\"color: #000080; font-weight: bold\">1.0</span>, <span style=\"color: #008000\">'delta_updates'</span>: <span style=\"color: #ff0000; font-style: italic\">False</span>, <span style=\"color: #008000\">'polling_interval'</span>: <span style=\"color: #000080; font-weight: bold\">4</span>, <span style=\"color: #008000\">'opt_treatment'</span>:       <a href=\"file:///home/itrushkin/.virtualenvs/openfl_research/lib/python3.8/site-packages/openfl/federated/plan/plan.py\"><span style=\"color: #7f7f7f\">plan.py</span></a><span style=\"color: #7f7f7f\">:165</span>\n",
       "                    <span style=\"color: #008000\">'RESET'</span>, <span style=\"color: #008000\">'collaborator_name'</span>: <span style=\"color: #008000\">'two'</span>, <span style=\"color: #008000\">'aggregator_uuid'</span>: <span style=\"color: #008000\">'aggregator_plan.yaml_851debec'</span>, <span style=\"color: #008000\">'federation_uuid'</span>:                                 \n",
       "                    <span style=\"color: #008000\">'plan.yaml_851debec'</span>, <span style=\"color: #008000\">'task_runner'</span>: <span style=\"font-weight: bold\">&lt;</span><span style=\"color: #ff00ff; font-weight: bold\">openfl.federated.task.fl_model.FederatedModel</span><span style=\"color: #000000\"> object at </span><span style=\"color: #000080; font-weight: bold\">0x7f7529a74490</span><span style=\"font-weight: bold\">&gt;</span>, <span style=\"color: #008000\">'tensor_pipe'</span>:               \n",
       "                    <span style=\"font-weight: bold\">&lt;</span><span style=\"color: #ff00ff; font-weight: bold\">openfl.pipelines.no_compression_pipeline.NoCompressionPipeline</span><span style=\"color: #000000\"> object at </span><span style=\"color: #000080; font-weight: bold\">0x7f7529a746a0</span><span style=\"font-weight: bold\">&gt;</span>, <span style=\"color: #008000\">'task_config'</span>: <span style=\"font-weight: bold\">{</span><span style=\"color: #008000\">'defaults'</span>:                      \n",
       "                    <span style=\"color: #008000\">'plan/defaults/tasks_torch.yaml'</span>, <span style=\"color: #008000\">'settings'</span>: <span style=\"font-weight: bold\">{}</span>, <span style=\"color: #008000\">'aggregated_model_validation'</span>: <span style=\"font-weight: bold\">{</span><span style=\"color: #008000\">'function'</span>: <span style=\"color: #008000\">'validate'</span>, <span style=\"color: #008000\">'kwargs'</span>: <span style=\"font-weight: bold\">{</span><span style=\"color: #008000\">'apply'</span>:               \n",
       "                    <span style=\"color: #008000\">'global'</span>, <span style=\"color: #008000\">'metrics'</span>: <span style=\"font-weight: bold\">[</span><span style=\"color: #008000\">'dice_coef'</span><span style=\"font-weight: bold\">]}}</span>, <span style=\"color: #008000\">'train'</span>: <span style=\"font-weight: bold\">{</span><span style=\"color: #008000\">'function'</span>: <span style=\"color: #008000\">'train_batches'</span>, <span style=\"color: #008000\">'kwargs'</span>: <span style=\"font-weight: bold\">{</span><span style=\"color: #008000\">'metrics'</span>: <span style=\"font-weight: bold\">[</span><span style=\"color: #008000\">'loss'</span><span style=\"font-weight: bold\">]}}</span>,                              \n",
       "                    <span style=\"color: #008000\">'locally_tuned_model_validation'</span>: <span style=\"font-weight: bold\">{</span><span style=\"color: #008000\">'function'</span>: <span style=\"color: #008000\">'validate'</span>, <span style=\"color: #008000\">'kwargs'</span>: <span style=\"font-weight: bold\">{</span><span style=\"color: #008000\">'apply'</span>: <span style=\"color: #008000\">'local'</span>, <span style=\"color: #008000\">'metrics'</span>: <span style=\"font-weight: bold\">[</span><span style=\"color: #008000\">'dice_coef'</span><span style=\"font-weight: bold\">]}}}</span>, <span style=\"color: #008000\">'client'</span>:              \n",
       "                    <span style=\"font-weight: bold\">&lt;</span><span style=\"color: #ff00ff; font-weight: bold\">openfl.component.aggregator.aggregator.Aggregator</span><span style=\"color: #000000\"> object at </span><span style=\"color: #000080; font-weight: bold\">0x7f7490d61c40</span><span style=\"font-weight: bold\">&gt;</span>, <span style=\"color: #008000\">'defaults'</span>: <span style=\"color: #008000\">'plan/defaults/collaborator.yaml'</span><span style=\"font-weight: bold\">}</span>                \n",
       "</pre>\n"
      ],
      "text/plain": [
       "<rich.jupyter.JupyterRenderable at 0x7f7490c9edf0>"
      ]
     },
     "metadata": {},
     "output_type": "display_data"
    },
    {
     "data": {
      "text/html": [
       "<pre style=\"white-space:pre;overflow-x:auto;line-height:normal;font-family:Menlo,'DejaVu Sans Mono',consolas,'Courier New',monospace\"><span style=\"color: #7fbfbf\">           </span><span style=\"color: #000080\">INFO</span>     Override <span style=\"color: #800000\">🡆</span> <span style=\"font-weight: bold\">{</span><span style=\"color: #008000\">'defaults'</span>: <span style=\"color: #008000\">'plan/defaults/collaborator.yaml'</span><span style=\"font-weight: bold\">}</span>                                                                       <a href=\"file:///home/itrushkin/.virtualenvs/openfl_research/lib/python3.8/site-packages/openfl/federated/plan/plan.py\"><span style=\"color: #7f7f7f\">plan.py</span></a><span style=\"color: #7f7f7f\">:167</span>\n",
       "</pre>\n"
      ],
      "text/plain": [
       "<rich.jupyter.JupyterRenderable at 0x7f7490c9efd0>"
      ]
     },
     "metadata": {},
     "output_type": "display_data"
    },
    {
     "data": {
      "text/html": [
       "<pre style=\"white-space:pre;overflow-x:auto;line-height:normal;font-family:Menlo,'DejaVu Sans Mono',consolas,'Courier New',monospace\"><span style=\"color: #7fbfbf\">           </span><span style=\"color: #000080\">INFO</span>     Waiting for tasks<span style=\"color: #808000\">...</span>                                                                                                     <a href=\"file:///home/itrushkin/.virtualenvs/openfl_research/lib/python3.8/site-packages/openfl/component/collaborator/collaborator.py\"><span style=\"color: #7f7f7f\">collaborator.py</span></a><span style=\"color: #7f7f7f\">:156</span>\n",
       "</pre>\n"
      ],
      "text/plain": [
       "<rich.jupyter.JupyterRenderable at 0x7f7490c9eee0>"
      ]
     },
     "metadata": {},
     "output_type": "display_data"
    },
    {
     "data": {
      "text/html": [
       "<pre style=\"white-space:pre;overflow-x:auto;line-height:normal;font-family:Menlo,'DejaVu Sans Mono',consolas,'Courier New',monospace\"><span style=\"color: #7fbfbf\">           </span><span style=\"color: #000080\">INFO</span>     Sending tasks to collaborator one for round <span style=\"color: #000080; font-weight: bold\">0</span>                                                                              <a href=\"file:///home/itrushkin/.virtualenvs/openfl_research/lib/python3.8/site-packages/openfl/component/aggregator/aggregator.py\"><span style=\"color: #7f7f7f\">aggregator.py</span></a><span style=\"color: #7f7f7f\">:276</span>\n",
       "</pre>\n"
      ],
      "text/plain": [
       "<rich.jupyter.JupyterRenderable at 0x7f7490c9ebb0>"
      ]
     },
     "metadata": {},
     "output_type": "display_data"
    },
    {
     "data": {
      "text/html": [
       "<pre style=\"white-space:pre;overflow-x:auto;line-height:normal;font-family:Menlo,'DejaVu Sans Mono',consolas,'Courier New',monospace\"><span style=\"color: #7fbfbf\">           </span><span style=\"color: #000080\">INFO</span>     Received the following tasks: <span style=\"font-weight: bold\">[</span><span style=\"color: #008000\">'aggregated_model_validation'</span>, <span style=\"color: #008000\">'train'</span>, <span style=\"color: #008000\">'locally_tuned_model_validation'</span><span style=\"font-weight: bold\">]</span>                 <a href=\"file:///home/itrushkin/.virtualenvs/openfl_research/lib/python3.8/site-packages/openfl/component/collaborator/collaborator.py\"><span style=\"color: #7f7f7f\">collaborator.py</span></a><span style=\"color: #7f7f7f\">:144</span>\n",
       "</pre>\n"
      ],
      "text/plain": [
       "<rich.jupyter.JupyterRenderable at 0x7f7490c9eca0>"
      ]
     },
     "metadata": {},
     "output_type": "display_data"
    },
    {
     "name": "stderr",
     "output_type": "stream",
     "text": [
      "/home/itrushkin/.virtualenvs/openfl_research/lib/python3.8/site-packages/openfl/federated/task/runner_pt.py:287: UserWarning: The given NumPy array is not writeable, and PyTorch does not support non-writeable tensors. This means you can write to the underlying (supposedly non-writeable) NumPy array using the tensor. You may want to copy the array to protect its data or make it writeable before converting it to a tensor. This type of warning will be suppressed for the rest of this program. (Triggered internally at  /pytorch/torch/csrc/utils/tensor_numpy.cpp:143.)\n",
      "  new_state[k] = pt.from_numpy(tensor_dict.pop(k)).to(device)\n",
      "<ipython-input-8-5e98da9ec23c>:124: UserWarning: To copy construct from a tensor, it is recommended to use sourceTensor.clone().detach() or sourceTensor.clone().detach().requires_grad_(True), rather than torch.tensor(sourceTensor).\n",
      "  torch.tensor(data).to(self.device),\n",
      "<ipython-input-8-5e98da9ec23c>:125: UserWarning: To copy construct from a tensor, it is recommended to use sourceTensor.clone().detach() or sourceTensor.clone().detach().requires_grad_(True), rather than torch.tensor(sourceTensor).\n",
      "  torch.tensor(target).to(self.device),\n"
     ]
    },
    {
     "data": {
      "text/html": [
       "<pre style=\"white-space:pre;overflow-x:auto;line-height:normal;font-family:Menlo,'DejaVu Sans Mono',consolas,'Courier New',monospace\"><span style=\"color: #7fbfbf\">[17:44:17] </span><span style=\"color: #000080\">INFO</span>     Sending metric for task aggregated_model_validation, round number <span style=\"color: #000080; font-weight: bold\">0</span>: dice_coef  <span style=\"color: #000080; font-weight: bold\">0.23560654732488817</span>                      <a href=\"file:///home/itrushkin/.virtualenvs/openfl_research/lib/python3.8/site-packages/openfl/component/collaborator/collaborator.py\"><span style=\"color: #7f7f7f\">collaborator.py</span></a><span style=\"color: #7f7f7f\">:365</span>\n",
       "</pre>\n"
      ],
      "text/plain": [
       "<rich.jupyter.JupyterRenderable at 0x7f74200291c0>"
      ]
     },
     "metadata": {},
     "output_type": "display_data"
    },
    {
     "data": {
      "text/html": [
       "<pre style=\"white-space:pre;overflow-x:auto;line-height:normal;font-family:Menlo,'DejaVu Sans Mono',consolas,'Courier New',monospace\"><span style=\"color: #7fbfbf\">           </span><span style=\"color: #000080\">INFO</span>     Collaborator one is sending task results for aggregated_model_validation, round <span style=\"color: #000080; font-weight: bold\">0</span>                                          <a href=\"file:///home/itrushkin/.virtualenvs/openfl_research/lib/python3.8/site-packages/openfl/component/aggregator/aggregator.py\"><span style=\"color: #7f7f7f\">aggregator.py</span></a><span style=\"color: #7f7f7f\">:428</span>\n",
       "</pre>\n"
      ],
      "text/plain": [
       "<rich.jupyter.JupyterRenderable at 0x7f74200296a0>"
      ]
     },
     "metadata": {},
     "output_type": "display_data"
    },
    {
     "name": "stderr",
     "output_type": "stream",
     "text": [
      "/home/itrushkin/.virtualenvs/openfl_research/lib/python3.8/site-packages/openfl/federated/task/runner_pt.py:154: UserWarning: To copy construct from a tensor, it is recommended to use sourceTensor.clone().detach() or sourceTensor.clone().detach().requires_grad_(True), rather than torch.tensor(sourceTensor).\n",
      "  data, target = pt.tensor(data).to(self.device), pt.tensor(\n"
     ]
    },
    {
     "data": {
      "text/html": [
       "<pre style=\"white-space:pre;overflow-x:auto;line-height:normal;font-family:Menlo,'DejaVu Sans Mono',consolas,'Courier New',monospace\"><span style=\"color: #7fbfbf\">[17:44:37] </span><span style=\"color: #000080\">INFO</span>     Sending metric for task train, round number <span style=\"color: #000080; font-weight: bold\">0</span>: soft_dice_loss   <span style=\"color: #000080; font-weight: bold\">0.6395286917686462</span>                                       <a href=\"file:///home/itrushkin/.virtualenvs/openfl_research/lib/python3.8/site-packages/openfl/component/collaborator/collaborator.py\"><span style=\"color: #7f7f7f\">collaborator.py</span></a><span style=\"color: #7f7f7f\">:365</span>\n",
       "</pre>\n"
      ],
      "text/plain": [
       "<rich.jupyter.JupyterRenderable at 0x7f7420032f40>"
      ]
     },
     "metadata": {},
     "output_type": "display_data"
    },
    {
     "data": {
      "text/html": [
       "<pre style=\"white-space:pre;overflow-x:auto;line-height:normal;font-family:Menlo,'DejaVu Sans Mono',consolas,'Courier New',monospace\"><span style=\"color: #7fbfbf\">           </span><span style=\"color: #000080\">INFO</span>     Collaborator one is sending task results for train, round <span style=\"color: #000080; font-weight: bold\">0</span>                                                                <a href=\"file:///home/itrushkin/.virtualenvs/openfl_research/lib/python3.8/site-packages/openfl/component/aggregator/aggregator.py\"><span style=\"color: #7f7f7f\">aggregator.py</span></a><span style=\"color: #7f7f7f\">:428</span>\n",
       "</pre>\n"
      ],
      "text/plain": [
       "<rich.jupyter.JupyterRenderable at 0x7f7420032d30>"
      ]
     },
     "metadata": {},
     "output_type": "display_data"
    },
    {
     "data": {
      "text/html": [
       "<pre style=\"white-space:pre;overflow-x:auto;line-height:normal;font-family:Menlo,'DejaVu Sans Mono',consolas,'Courier New',monospace\"><span style=\"color: #7fbfbf\">[17:44:39] </span><span style=\"color: #000080\">INFO</span>     Sending metric for task locally_tuned_model_validation, round number <span style=\"color: #000080; font-weight: bold\">0</span>: dice_coef       <span style=\"color: #000080; font-weight: bold\">0.43012889739005794</span>              <a href=\"file:///home/itrushkin/.virtualenvs/openfl_research/lib/python3.8/site-packages/openfl/component/collaborator/collaborator.py\"><span style=\"color: #7f7f7f\">collaborator.py</span></a><span style=\"color: #7f7f7f\">:365</span>\n",
       "</pre>\n"
      ],
      "text/plain": [
       "<rich.jupyter.JupyterRenderable at 0x7f7490cba880>"
      ]
     },
     "metadata": {},
     "output_type": "display_data"
    },
    {
     "data": {
      "text/html": [
       "<pre style=\"white-space:pre;overflow-x:auto;line-height:normal;font-family:Menlo,'DejaVu Sans Mono',consolas,'Courier New',monospace\"><span style=\"color: #7fbfbf\">           </span><span style=\"color: #000080\">INFO</span>     Collaborator one is sending task results for locally_tuned_model_validation, round <span style=\"color: #000080; font-weight: bold\">0</span>                                       <a href=\"file:///home/itrushkin/.virtualenvs/openfl_research/lib/python3.8/site-packages/openfl/component/aggregator/aggregator.py\"><span style=\"color: #7f7f7f\">aggregator.py</span></a><span style=\"color: #7f7f7f\">:428</span>\n",
       "</pre>\n"
      ],
      "text/plain": [
       "<rich.jupyter.JupyterRenderable at 0x7f740bf1a7c0>"
      ]
     },
     "metadata": {},
     "output_type": "display_data"
    },
    {
     "data": {
      "text/html": [
       "<pre style=\"white-space:pre;overflow-x:auto;line-height:normal;font-family:Menlo,'DejaVu Sans Mono',consolas,'Courier New',monospace\"><span style=\"color: #7fbfbf\">           </span><span style=\"color: #000080\">INFO</span>     All tasks completed on one for round <span style=\"color: #000080; font-weight: bold\">0</span><span style=\"color: #808000\">...</span>                                                                                <a href=\"file:///home/itrushkin/.virtualenvs/openfl_research/lib/python3.8/site-packages/openfl/component/collaborator/collaborator.py\"><span style=\"color: #7f7f7f\">collaborator.py</span></a><span style=\"color: #7f7f7f\">:148</span>\n",
       "</pre>\n"
      ],
      "text/plain": [
       "<rich.jupyter.JupyterRenderable at 0x7f7490cba760>"
      ]
     },
     "metadata": {},
     "output_type": "display_data"
    },
    {
     "data": {
      "text/html": [
       "<pre style=\"white-space:pre;overflow-x:auto;line-height:normal;font-family:Menlo,'DejaVu Sans Mono',consolas,'Courier New',monospace\"><span style=\"color: #7fbfbf\">           </span><span style=\"color: #000080\">INFO</span>     Waiting for tasks<span style=\"color: #808000\">...</span>                                                                                                     <a href=\"file:///home/itrushkin/.virtualenvs/openfl_research/lib/python3.8/site-packages/openfl/component/collaborator/collaborator.py\"><span style=\"color: #7f7f7f\">collaborator.py</span></a><span style=\"color: #7f7f7f\">:156</span>\n",
       "</pre>\n"
      ],
      "text/plain": [
       "<rich.jupyter.JupyterRenderable at 0x7f740bf1a940>"
      ]
     },
     "metadata": {},
     "output_type": "display_data"
    },
    {
     "data": {
      "text/html": [
       "<pre style=\"white-space:pre;overflow-x:auto;line-height:normal;font-family:Menlo,'DejaVu Sans Mono',consolas,'Courier New',monospace\"><span style=\"color: #7fbfbf\">           </span><span style=\"color: #000080\">INFO</span>     Sending tasks to collaborator two for round <span style=\"color: #000080; font-weight: bold\">0</span>                                                                              <a href=\"file:///home/itrushkin/.virtualenvs/openfl_research/lib/python3.8/site-packages/openfl/component/aggregator/aggregator.py\"><span style=\"color: #7f7f7f\">aggregator.py</span></a><span style=\"color: #7f7f7f\">:276</span>\n",
       "</pre>\n"
      ],
      "text/plain": [
       "<rich.jupyter.JupyterRenderable at 0x7f7420029a90>"
      ]
     },
     "metadata": {},
     "output_type": "display_data"
    },
    {
     "data": {
      "text/html": [
       "<pre style=\"white-space:pre;overflow-x:auto;line-height:normal;font-family:Menlo,'DejaVu Sans Mono',consolas,'Courier New',monospace\"><span style=\"color: #7fbfbf\">           </span><span style=\"color: #000080\">INFO</span>     Received the following tasks: <span style=\"font-weight: bold\">[</span><span style=\"color: #008000\">'aggregated_model_validation'</span>, <span style=\"color: #008000\">'train'</span>, <span style=\"color: #008000\">'locally_tuned_model_validation'</span><span style=\"font-weight: bold\">]</span>                 <a href=\"file:///home/itrushkin/.virtualenvs/openfl_research/lib/python3.8/site-packages/openfl/component/collaborator/collaborator.py\"><span style=\"color: #7f7f7f\">collaborator.py</span></a><span style=\"color: #7f7f7f\">:144</span>\n",
       "</pre>\n"
      ],
      "text/plain": [
       "<rich.jupyter.JupyterRenderable at 0x7f7490cc0a90>"
      ]
     },
     "metadata": {},
     "output_type": "display_data"
    },
    {
     "data": {
      "text/html": [
       "<pre style=\"white-space:pre;overflow-x:auto;line-height:normal;font-family:Menlo,'DejaVu Sans Mono',consolas,'Courier New',monospace\"><span style=\"color: #7fbfbf\">[17:44:42] </span><span style=\"color: #000080\">INFO</span>     Sending metric for task aggregated_model_validation, round number <span style=\"color: #000080; font-weight: bold\">0</span>: dice_coef  <span style=\"color: #000080; font-weight: bold\">0.18667999943417887</span>                      <a href=\"file:///home/itrushkin/.virtualenvs/openfl_research/lib/python3.8/site-packages/openfl/component/collaborator/collaborator.py\"><span style=\"color: #7f7f7f\">collaborator.py</span></a><span style=\"color: #7f7f7f\">:365</span>\n",
       "</pre>\n"
      ],
      "text/plain": [
       "<rich.jupyter.JupyterRenderable at 0x7f73fb224130>"
      ]
     },
     "metadata": {},
     "output_type": "display_data"
    },
    {
     "data": {
      "text/html": [
       "<pre style=\"white-space:pre;overflow-x:auto;line-height:normal;font-family:Menlo,'DejaVu Sans Mono',consolas,'Courier New',monospace\"><span style=\"color: #7fbfbf\">           </span><span style=\"color: #000080\">INFO</span>     Collaborator two is sending task results for aggregated_model_validation, round <span style=\"color: #000080; font-weight: bold\">0</span>                                          <a href=\"file:///home/itrushkin/.virtualenvs/openfl_research/lib/python3.8/site-packages/openfl/component/aggregator/aggregator.py\"><span style=\"color: #7f7f7f\">aggregator.py</span></a><span style=\"color: #7f7f7f\">:428</span>\n",
       "</pre>\n"
      ],
      "text/plain": [
       "<rich.jupyter.JupyterRenderable at 0x7f740be4c490>"
      ]
     },
     "metadata": {},
     "output_type": "display_data"
    },
    {
     "data": {
      "text/html": [
       "<pre style=\"white-space:pre;overflow-x:auto;line-height:normal;font-family:Menlo,'DejaVu Sans Mono',consolas,'Courier New',monospace\"><span style=\"color: #7fbfbf\">[17:45:02] </span><span style=\"color: #000080\">INFO</span>     Sending metric for task train, round number <span style=\"color: #000080; font-weight: bold\">0</span>: soft_dice_loss   <span style=\"color: #000080; font-weight: bold\">0.6324753165245056</span>                                       <a href=\"file:///home/itrushkin/.virtualenvs/openfl_research/lib/python3.8/site-packages/openfl/component/collaborator/collaborator.py\"><span style=\"color: #7f7f7f\">collaborator.py</span></a><span style=\"color: #7f7f7f\">:365</span>\n",
       "</pre>\n"
      ],
      "text/plain": [
       "<rich.jupyter.JupyterRenderable at 0x7f742002ceb0>"
      ]
     },
     "metadata": {},
     "output_type": "display_data"
    },
    {
     "data": {
      "text/html": [
       "<pre style=\"white-space:pre;overflow-x:auto;line-height:normal;font-family:Menlo,'DejaVu Sans Mono',consolas,'Courier New',monospace\"><span style=\"color: #7fbfbf\">           </span><span style=\"color: #000080\">INFO</span>     Collaborator two is sending task results for train, round <span style=\"color: #000080; font-weight: bold\">0</span>                                                                <a href=\"file:///home/itrushkin/.virtualenvs/openfl_research/lib/python3.8/site-packages/openfl/component/aggregator/aggregator.py\"><span style=\"color: #7f7f7f\">aggregator.py</span></a><span style=\"color: #7f7f7f\">:428</span>\n",
       "</pre>\n"
      ],
      "text/plain": [
       "<rich.jupyter.JupyterRenderable at 0x7f742002c970>"
      ]
     },
     "metadata": {},
     "output_type": "display_data"
    },
    {
     "data": {
      "text/html": [
       "<pre style=\"white-space:pre;overflow-x:auto;line-height:normal;font-family:Menlo,'DejaVu Sans Mono',consolas,'Courier New',monospace\"><span style=\"color: #7fbfbf\">[17:45:04] </span><span style=\"color: #000080\">INFO</span>     Sending metric for task locally_tuned_model_validation, round number <span style=\"color: #000080; font-weight: bold\">0</span>: dice_coef       <span style=\"color: #000080; font-weight: bold\">0.3584949864495185</span>               <a href=\"file:///home/itrushkin/.virtualenvs/openfl_research/lib/python3.8/site-packages/openfl/component/collaborator/collaborator.py\"><span style=\"color: #7f7f7f\">collaborator.py</span></a><span style=\"color: #7f7f7f\">:365</span>\n",
       "</pre>\n"
      ],
      "text/plain": [
       "<rich.jupyter.JupyterRenderable at 0x7f742002ca60>"
      ]
     },
     "metadata": {},
     "output_type": "display_data"
    },
    {
     "data": {
      "text/html": [
       "<pre style=\"white-space:pre;overflow-x:auto;line-height:normal;font-family:Menlo,'DejaVu Sans Mono',consolas,'Courier New',monospace\"><span style=\"color: #7fbfbf\">           </span><span style=\"color: #000080\">INFO</span>     Collaborator two is sending task results for locally_tuned_model_validation, round <span style=\"color: #000080; font-weight: bold\">0</span>                                       <a href=\"file:///home/itrushkin/.virtualenvs/openfl_research/lib/python3.8/site-packages/openfl/component/aggregator/aggregator.py\"><span style=\"color: #7f7f7f\">aggregator.py</span></a><span style=\"color: #7f7f7f\">:428</span>\n",
       "</pre>\n"
      ],
      "text/plain": [
       "<rich.jupyter.JupyterRenderable at 0x7f740be83430>"
      ]
     },
     "metadata": {},
     "output_type": "display_data"
    },
    {
     "data": {
      "text/html": [
       "<pre style=\"white-space:pre;overflow-x:auto;line-height:normal;font-family:Menlo,'DejaVu Sans Mono',consolas,'Courier New',monospace\"><span style=\"color: #7fbfbf\">           </span><span style=\"color: #000080\">INFO</span>     train task metrics<span style=\"color: #808000\">...</span>                                                                                                      <a href=\"file:///home/itrushkin/.virtualenvs/openfl_research/lib/python3.8/site-packages/openfl/component/aggregator/aggregator.py\"><span style=\"color: #7f7f7f\">aggregator.py</span></a><span style=\"color: #7f7f7f\">:694</span>\n",
       "</pre>\n"
      ],
      "text/plain": [
       "<rich.jupyter.JupyterRenderable at 0x7f740be83430>"
      ]
     },
     "metadata": {},
     "output_type": "display_data"
    },
    {
     "data": {
      "text/html": [
       "<pre style=\"white-space:pre;overflow-x:auto;line-height:normal;font-family:Menlo,'DejaVu Sans Mono',consolas,'Courier New',monospace\"><span style=\"color: #7fbfbf\">           </span><span style=\"color: #000080\">INFO</span>     soft_dice_loss: <span style=\"color: #000080; font-weight: bold\">0.6360</span>                                                                                                     <a href=\"file:///home/itrushkin/.virtualenvs/openfl_research/lib/python3.8/site-packages/openfl/component/aggregator/aggregator.py\"><span style=\"color: #7f7f7f\">aggregator.py</span></a><span style=\"color: #7f7f7f\">:742</span>\n",
       "</pre>\n"
      ],
      "text/plain": [
       "<rich.jupyter.JupyterRenderable at 0x7f740be83430>"
      ]
     },
     "metadata": {},
     "output_type": "display_data"
    },
    {
     "data": {
      "text/html": [
       "<pre style=\"white-space:pre;overflow-x:auto;line-height:normal;font-family:Menlo,'DejaVu Sans Mono',consolas,'Courier New',monospace\"><span style=\"color: #7fbfbf\">[17:45:09] </span><span style=\"color: #000080\">INFO</span>     locally_tuned_model_validation task metrics<span style=\"color: #808000\">...</span>                                                                             <a href=\"file:///home/itrushkin/.virtualenvs/openfl_research/lib/python3.8/site-packages/openfl/component/aggregator/aggregator.py\"><span style=\"color: #7f7f7f\">aggregator.py</span></a><span style=\"color: #7f7f7f\">:694</span>\n",
       "</pre>\n"
      ],
      "text/plain": [
       "<rich.jupyter.JupyterRenderable at 0x7f740bdacac0>"
      ]
     },
     "metadata": {},
     "output_type": "display_data"
    },
    {
     "data": {
      "text/html": [
       "<pre style=\"white-space:pre;overflow-x:auto;line-height:normal;font-family:Menlo,'DejaVu Sans Mono',consolas,'Courier New',monospace\"><span style=\"color: #7fbfbf\">           </span><span style=\"color: #000080\">INFO</span>     dice_coef:      <span style=\"color: #000080; font-weight: bold\">0.3943</span>                                                                                                     <a href=\"file:///home/itrushkin/.virtualenvs/openfl_research/lib/python3.8/site-packages/openfl/component/aggregator/aggregator.py\"><span style=\"color: #7f7f7f\">aggregator.py</span></a><span style=\"color: #7f7f7f\">:742</span>\n",
       "</pre>\n"
      ],
      "text/plain": [
       "<rich.jupyter.JupyterRenderable at 0x7f740bdacbb0>"
      ]
     },
     "metadata": {},
     "output_type": "display_data"
    },
    {
     "data": {
      "text/html": [
       "<pre style=\"white-space:pre;overflow-x:auto;line-height:normal;font-family:Menlo,'DejaVu Sans Mono',consolas,'Courier New',monospace\"><span style=\"color: #7fbfbf\">           </span><span style=\"color: #000080\">INFO</span>     aggregated_model_validation task metrics<span style=\"color: #808000\">...</span>                                                                                <a href=\"file:///home/itrushkin/.virtualenvs/openfl_research/lib/python3.8/site-packages/openfl/component/aggregator/aggregator.py\"><span style=\"color: #7f7f7f\">aggregator.py</span></a><span style=\"color: #7f7f7f\">:694</span>\n",
       "</pre>\n"
      ],
      "text/plain": [
       "<rich.jupyter.JupyterRenderable at 0x7f740bdacc10>"
      ]
     },
     "metadata": {},
     "output_type": "display_data"
    },
    {
     "data": {
      "text/html": [
       "<pre style=\"white-space:pre;overflow-x:auto;line-height:normal;font-family:Menlo,'DejaVu Sans Mono',consolas,'Courier New',monospace\"><span style=\"color: #7fbfbf\">           </span><span style=\"color: #000080\">INFO</span>     dice_coef:      <span style=\"color: #000080; font-weight: bold\">0.2111</span>                                                                                                     <a href=\"file:///home/itrushkin/.virtualenvs/openfl_research/lib/python3.8/site-packages/openfl/component/aggregator/aggregator.py\"><span style=\"color: #7f7f7f\">aggregator.py</span></a><span style=\"color: #7f7f7f\">:742</span>\n",
       "</pre>\n"
      ],
      "text/plain": [
       "<rich.jupyter.JupyterRenderable at 0x7f740bdac850>"
      ]
     },
     "metadata": {},
     "output_type": "display_data"
    },
    {
     "data": {
      "text/html": [
       "<pre style=\"white-space:pre;overflow-x:auto;line-height:normal;font-family:Menlo,'DejaVu Sans Mono',consolas,'Courier New',monospace\"><span style=\"color: #7fbfbf\">           </span><span style=\"color: #000080\">INFO</span>     Saved the best model with score <span style=\"color: #000080; font-weight: bold\">0.211143</span>                                                                                   <a href=\"file:///home/itrushkin/.virtualenvs/openfl_research/lib/python3.8/site-packages/openfl/component/aggregator/aggregator.py\"><span style=\"color: #7f7f7f\">aggregator.py</span></a><span style=\"color: #7f7f7f\">:749</span>\n",
       "</pre>\n"
      ],
      "text/plain": [
       "<rich.jupyter.JupyterRenderable at 0x7f740bdac6d0>"
      ]
     },
     "metadata": {},
     "output_type": "display_data"
    },
    {
     "data": {
      "text/html": [
       "<pre style=\"white-space:pre;overflow-x:auto;line-height:normal;font-family:Menlo,'DejaVu Sans Mono',consolas,'Courier New',monospace\"><span style=\"color: #7fbfbf\">           </span><span style=\"color: #000080\">INFO</span>     Saving round <span style=\"color: #000080; font-weight: bold\">1</span> model<span style=\"color: #808000\">...</span>                                                                                                    <a href=\"file:///home/itrushkin/.virtualenvs/openfl_research/lib/python3.8/site-packages/openfl/component/aggregator/aggregator.py\"><span style=\"color: #7f7f7f\">aggregator.py</span></a><span style=\"color: #7f7f7f\">:783</span>\n",
       "</pre>\n"
      ],
      "text/plain": [
       "<rich.jupyter.JupyterRenderable at 0x7f740bdacac0>"
      ]
     },
     "metadata": {},
     "output_type": "display_data"
    },
    {
     "data": {
      "text/html": [
       "<pre style=\"white-space:pre;overflow-x:auto;line-height:normal;font-family:Menlo,'DejaVu Sans Mono',consolas,'Courier New',monospace\"><span style=\"color: #7fbfbf\">           </span><span style=\"color: #000080\">INFO</span>     Starting round <span style=\"color: #000080; font-weight: bold\">1</span><span style=\"color: #808000\">...</span>                                                                                                        <a href=\"file:///home/itrushkin/.virtualenvs/openfl_research/lib/python3.8/site-packages/openfl/component/aggregator/aggregator.py\"><span style=\"color: #7f7f7f\">aggregator.py</span></a><span style=\"color: #7f7f7f\">:791</span>\n",
       "</pre>\n"
      ],
      "text/plain": [
       "<rich.jupyter.JupyterRenderable at 0x7f740bdac850>"
      ]
     },
     "metadata": {},
     "output_type": "display_data"
    },
    {
     "data": {
      "text/html": [
       "<pre style=\"white-space:pre;overflow-x:auto;line-height:normal;font-family:Menlo,'DejaVu Sans Mono',consolas,'Courier New',monospace\"><span style=\"color: #7fbfbf\">           </span><span style=\"color: #000080\">INFO</span>     All tasks completed on two for round <span style=\"color: #000080; font-weight: bold\">0</span><span style=\"color: #808000\">...</span>                                                                                <a href=\"file:///home/itrushkin/.virtualenvs/openfl_research/lib/python3.8/site-packages/openfl/component/collaborator/collaborator.py\"><span style=\"color: #7f7f7f\">collaborator.py</span></a><span style=\"color: #7f7f7f\">:148</span>\n",
       "</pre>\n"
      ],
      "text/plain": [
       "<rich.jupyter.JupyterRenderable at 0x7f740be4cd00>"
      ]
     },
     "metadata": {},
     "output_type": "display_data"
    },
    {
     "data": {
      "text/html": [
       "<pre style=\"white-space:pre;overflow-x:auto;line-height:normal;font-family:Menlo,'DejaVu Sans Mono',consolas,'Courier New',monospace\"><span style=\"color: #7fbfbf\">[17:45:10] </span><span style=\"color: #000080\">INFO</span>     Waiting for tasks<span style=\"color: #808000\">...</span>                                                                                                     <a href=\"file:///home/itrushkin/.virtualenvs/openfl_research/lib/python3.8/site-packages/openfl/component/collaborator/collaborator.py\"><span style=\"color: #7f7f7f\">collaborator.py</span></a><span style=\"color: #7f7f7f\">:156</span>\n",
       "</pre>\n"
      ],
      "text/plain": [
       "<rich.jupyter.JupyterRenderable at 0x7f740be5bfa0>"
      ]
     },
     "metadata": {},
     "output_type": "display_data"
    },
    {
     "data": {
      "text/html": [
       "<pre style=\"white-space:pre;overflow-x:auto;line-height:normal;font-family:Menlo,'DejaVu Sans Mono',consolas,'Courier New',monospace\"><span style=\"color: #7fbfbf\">           </span><span style=\"color: #000080\">INFO</span>     Sending tasks to collaborator one for round <span style=\"color: #000080; font-weight: bold\">1</span>                                                                              <a href=\"file:///home/itrushkin/.virtualenvs/openfl_research/lib/python3.8/site-packages/openfl/component/aggregator/aggregator.py\"><span style=\"color: #7f7f7f\">aggregator.py</span></a><span style=\"color: #7f7f7f\">:276</span>\n",
       "</pre>\n"
      ],
      "text/plain": [
       "<rich.jupyter.JupyterRenderable at 0x7f740be87a30>"
      ]
     },
     "metadata": {},
     "output_type": "display_data"
    },
    {
     "data": {
      "text/html": [
       "<pre style=\"white-space:pre;overflow-x:auto;line-height:normal;font-family:Menlo,'DejaVu Sans Mono',consolas,'Courier New',monospace\"><span style=\"color: #7fbfbf\">           </span><span style=\"color: #000080\">INFO</span>     Received the following tasks: <span style=\"font-weight: bold\">[</span><span style=\"color: #008000\">'aggregated_model_validation'</span>, <span style=\"color: #008000\">'train'</span>, <span style=\"color: #008000\">'locally_tuned_model_validation'</span><span style=\"font-weight: bold\">]</span>                 <a href=\"file:///home/itrushkin/.virtualenvs/openfl_research/lib/python3.8/site-packages/openfl/component/collaborator/collaborator.py\"><span style=\"color: #7f7f7f\">collaborator.py</span></a><span style=\"color: #7f7f7f\">:144</span>\n",
       "</pre>\n"
      ],
      "text/plain": [
       "<rich.jupyter.JupyterRenderable at 0x7f740be87b80>"
      ]
     },
     "metadata": {},
     "output_type": "display_data"
    },
    {
     "data": {
      "text/html": [
       "<pre style=\"white-space:pre;overflow-x:auto;line-height:normal;font-family:Menlo,'DejaVu Sans Mono',consolas,'Courier New',monospace\"><span style=\"color: #7fbfbf\">[17:45:12] </span><span style=\"color: #000080\">INFO</span>     Sending metric for task aggregated_model_validation, round number <span style=\"color: #000080; font-weight: bold\">1</span>: dice_coef  <span style=\"color: #000080; font-weight: bold\">0.4241240389885441</span>                       <a href=\"file:///home/itrushkin/.virtualenvs/openfl_research/lib/python3.8/site-packages/openfl/component/collaborator/collaborator.py\"><span style=\"color: #7f7f7f\">collaborator.py</span></a><span style=\"color: #7f7f7f\">:365</span>\n",
       "</pre>\n"
      ],
      "text/plain": [
       "<rich.jupyter.JupyterRenderable at 0x7f742000ea30>"
      ]
     },
     "metadata": {},
     "output_type": "display_data"
    },
    {
     "data": {
      "text/html": [
       "<pre style=\"white-space:pre;overflow-x:auto;line-height:normal;font-family:Menlo,'DejaVu Sans Mono',consolas,'Courier New',monospace\"><span style=\"color: #7fbfbf\">           </span><span style=\"color: #000080\">INFO</span>     Collaborator one is sending task results for aggregated_model_validation, round <span style=\"color: #000080; font-weight: bold\">1</span>                                          <a href=\"file:///home/itrushkin/.virtualenvs/openfl_research/lib/python3.8/site-packages/openfl/component/aggregator/aggregator.py\"><span style=\"color: #7f7f7f\">aggregator.py</span></a><span style=\"color: #7f7f7f\">:428</span>\n",
       "</pre>\n"
      ],
      "text/plain": [
       "<rich.jupyter.JupyterRenderable at 0x7f7420029a60>"
      ]
     },
     "metadata": {},
     "output_type": "display_data"
    },
    {
     "data": {
      "text/html": [
       "<pre style=\"white-space:pre;overflow-x:auto;line-height:normal;font-family:Menlo,'DejaVu Sans Mono',consolas,'Courier New',monospace\"><span style=\"color: #7fbfbf\">[17:45:32] </span><span style=\"color: #000080\">INFO</span>     Sending metric for task train, round number <span style=\"color: #000080; font-weight: bold\">1</span>: soft_dice_loss   <span style=\"color: #000080; font-weight: bold\">0.6150628328323364</span>                                       <a href=\"file:///home/itrushkin/.virtualenvs/openfl_research/lib/python3.8/site-packages/openfl/component/collaborator/collaborator.py\"><span style=\"color: #7f7f7f\">collaborator.py</span></a><span style=\"color: #7f7f7f\">:365</span>\n",
       "</pre>\n"
      ],
      "text/plain": [
       "<rich.jupyter.JupyterRenderable at 0x7f75299eca30>"
      ]
     },
     "metadata": {},
     "output_type": "display_data"
    },
    {
     "data": {
      "text/html": [
       "<pre style=\"white-space:pre;overflow-x:auto;line-height:normal;font-family:Menlo,'DejaVu Sans Mono',consolas,'Courier New',monospace\"><span style=\"color: #7fbfbf\">           </span><span style=\"color: #000080\">INFO</span>     Collaborator one is sending task results for train, round <span style=\"color: #000080; font-weight: bold\">1</span>                                                                <a href=\"file:///home/itrushkin/.virtualenvs/openfl_research/lib/python3.8/site-packages/openfl/component/aggregator/aggregator.py\"><span style=\"color: #7f7f7f\">aggregator.py</span></a><span style=\"color: #7f7f7f\">:428</span>\n",
       "</pre>\n"
      ],
      "text/plain": [
       "<rich.jupyter.JupyterRenderable at 0x7f7490cc0be0>"
      ]
     },
     "metadata": {},
     "output_type": "display_data"
    },
    {
     "data": {
      "text/html": [
       "<pre style=\"white-space:pre;overflow-x:auto;line-height:normal;font-family:Menlo,'DejaVu Sans Mono',consolas,'Courier New',monospace\"><span style=\"color: #7fbfbf\">[17:45:34] </span><span style=\"color: #000080\">INFO</span>     Sending metric for task locally_tuned_model_validation, round number <span style=\"color: #000080; font-weight: bold\">1</span>: dice_coef       <span style=\"color: #000080; font-weight: bold\">0.44148768724933746</span>              <a href=\"file:///home/itrushkin/.virtualenvs/openfl_research/lib/python3.8/site-packages/openfl/component/collaborator/collaborator.py\"><span style=\"color: #7f7f7f\">collaborator.py</span></a><span style=\"color: #7f7f7f\">:365</span>\n",
       "</pre>\n"
      ],
      "text/plain": [
       "<rich.jupyter.JupyterRenderable at 0x7f74200299d0>"
      ]
     },
     "metadata": {},
     "output_type": "display_data"
    },
    {
     "data": {
      "text/html": [
       "<pre style=\"white-space:pre;overflow-x:auto;line-height:normal;font-family:Menlo,'DejaVu Sans Mono',consolas,'Courier New',monospace\"><span style=\"color: #7fbfbf\">           </span><span style=\"color: #000080\">INFO</span>     Collaborator one is sending task results for locally_tuned_model_validation, round <span style=\"color: #000080; font-weight: bold\">1</span>                                       <a href=\"file:///home/itrushkin/.virtualenvs/openfl_research/lib/python3.8/site-packages/openfl/component/aggregator/aggregator.py\"><span style=\"color: #7f7f7f\">aggregator.py</span></a><span style=\"color: #7f7f7f\">:428</span>\n",
       "</pre>\n"
      ],
      "text/plain": [
       "<rich.jupyter.JupyterRenderable at 0x7f74200296d0>"
      ]
     },
     "metadata": {},
     "output_type": "display_data"
    },
    {
     "data": {
      "text/html": [
       "<pre style=\"white-space:pre;overflow-x:auto;line-height:normal;font-family:Menlo,'DejaVu Sans Mono',consolas,'Courier New',monospace\"><span style=\"color: #7fbfbf\">           </span><span style=\"color: #000080\">INFO</span>     All tasks completed on one for round <span style=\"color: #000080; font-weight: bold\">1</span><span style=\"color: #808000\">...</span>                                                                                <a href=\"file:///home/itrushkin/.virtualenvs/openfl_research/lib/python3.8/site-packages/openfl/component/collaborator/collaborator.py\"><span style=\"color: #7f7f7f\">collaborator.py</span></a><span style=\"color: #7f7f7f\">:148</span>\n",
       "</pre>\n"
      ],
      "text/plain": [
       "<rich.jupyter.JupyterRenderable at 0x7f7420029640>"
      ]
     },
     "metadata": {},
     "output_type": "display_data"
    },
    {
     "data": {
      "text/html": [
       "<pre style=\"white-space:pre;overflow-x:auto;line-height:normal;font-family:Menlo,'DejaVu Sans Mono',consolas,'Courier New',monospace\"><span style=\"color: #7fbfbf\">           </span><span style=\"color: #000080\">INFO</span>     Waiting for tasks<span style=\"color: #808000\">...</span>                                                                                                     <a href=\"file:///home/itrushkin/.virtualenvs/openfl_research/lib/python3.8/site-packages/openfl/component/collaborator/collaborator.py\"><span style=\"color: #7f7f7f\">collaborator.py</span></a><span style=\"color: #7f7f7f\">:156</span>\n",
       "</pre>\n"
      ],
      "text/plain": [
       "<rich.jupyter.JupyterRenderable at 0x7f7420029f40>"
      ]
     },
     "metadata": {},
     "output_type": "display_data"
    },
    {
     "data": {
      "text/html": [
       "<pre style=\"white-space:pre;overflow-x:auto;line-height:normal;font-family:Menlo,'DejaVu Sans Mono',consolas,'Courier New',monospace\"><span style=\"color: #7fbfbf\">           </span><span style=\"color: #000080\">INFO</span>     Sending tasks to collaborator two for round <span style=\"color: #000080; font-weight: bold\">1</span>                                                                              <a href=\"file:///home/itrushkin/.virtualenvs/openfl_research/lib/python3.8/site-packages/openfl/component/aggregator/aggregator.py\"><span style=\"color: #7f7f7f\">aggregator.py</span></a><span style=\"color: #7f7f7f\">:276</span>\n",
       "</pre>\n"
      ],
      "text/plain": [
       "<rich.jupyter.JupyterRenderable at 0x7f7420029100>"
      ]
     },
     "metadata": {},
     "output_type": "display_data"
    },
    {
     "data": {
      "text/html": [
       "<pre style=\"white-space:pre;overflow-x:auto;line-height:normal;font-family:Menlo,'DejaVu Sans Mono',consolas,'Courier New',monospace\"><span style=\"color: #7fbfbf\">           </span><span style=\"color: #000080\">INFO</span>     Received the following tasks: <span style=\"font-weight: bold\">[</span><span style=\"color: #008000\">'aggregated_model_validation'</span>, <span style=\"color: #008000\">'train'</span>, <span style=\"color: #008000\">'locally_tuned_model_validation'</span><span style=\"font-weight: bold\">]</span>                 <a href=\"file:///home/itrushkin/.virtualenvs/openfl_research/lib/python3.8/site-packages/openfl/component/collaborator/collaborator.py\"><span style=\"color: #7f7f7f\">collaborator.py</span></a><span style=\"color: #7f7f7f\">:144</span>\n",
       "</pre>\n"
      ],
      "text/plain": [
       "<rich.jupyter.JupyterRenderable at 0x7f7420029190>"
      ]
     },
     "metadata": {},
     "output_type": "display_data"
    },
    {
     "data": {
      "text/html": [
       "<pre style=\"white-space:pre;overflow-x:auto;line-height:normal;font-family:Menlo,'DejaVu Sans Mono',consolas,'Courier New',monospace\"><span style=\"color: #7fbfbf\">[17:45:37] </span><span style=\"color: #000080\">INFO</span>     Sending metric for task aggregated_model_validation, round number <span style=\"color: #000080; font-weight: bold\">1</span>: dice_coef  <span style=\"color: #000080; font-weight: bold\">0.34520076744018063</span>                      <a href=\"file:///home/itrushkin/.virtualenvs/openfl_research/lib/python3.8/site-packages/openfl/component/collaborator/collaborator.py\"><span style=\"color: #7f7f7f\">collaborator.py</span></a><span style=\"color: #7f7f7f\">:365</span>\n",
       "</pre>\n"
      ],
      "text/plain": [
       "<rich.jupyter.JupyterRenderable at 0x7f740be839a0>"
      ]
     },
     "metadata": {},
     "output_type": "display_data"
    },
    {
     "data": {
      "text/html": [
       "<pre style=\"white-space:pre;overflow-x:auto;line-height:normal;font-family:Menlo,'DejaVu Sans Mono',consolas,'Courier New',monospace\"><span style=\"color: #7fbfbf\">           </span><span style=\"color: #000080\">INFO</span>     Collaborator two is sending task results for aggregated_model_validation, round <span style=\"color: #000080; font-weight: bold\">1</span>                                          <a href=\"file:///home/itrushkin/.virtualenvs/openfl_research/lib/python3.8/site-packages/openfl/component/aggregator/aggregator.py\"><span style=\"color: #7f7f7f\">aggregator.py</span></a><span style=\"color: #7f7f7f\">:428</span>\n",
       "</pre>\n"
      ],
      "text/plain": [
       "<rich.jupyter.JupyterRenderable at 0x7f740be4c880>"
      ]
     },
     "metadata": {},
     "output_type": "display_data"
    },
    {
     "data": {
      "text/html": [
       "<pre style=\"white-space:pre;overflow-x:auto;line-height:normal;font-family:Menlo,'DejaVu Sans Mono',consolas,'Courier New',monospace\"><span style=\"color: #7fbfbf\">[17:45:57] </span><span style=\"color: #000080\">INFO</span>     Sending metric for task train, round number <span style=\"color: #000080; font-weight: bold\">1</span>: soft_dice_loss   <span style=\"color: #000080; font-weight: bold\">0.6058140993118286</span>                                       <a href=\"file:///home/itrushkin/.virtualenvs/openfl_research/lib/python3.8/site-packages/openfl/component/collaborator/collaborator.py\"><span style=\"color: #7f7f7f\">collaborator.py</span></a><span style=\"color: #7f7f7f\">:365</span>\n",
       "</pre>\n"
      ],
      "text/plain": [
       "<rich.jupyter.JupyterRenderable at 0x7f740be80b20>"
      ]
     },
     "metadata": {},
     "output_type": "display_data"
    },
    {
     "data": {
      "text/html": [
       "<pre style=\"white-space:pre;overflow-x:auto;line-height:normal;font-family:Menlo,'DejaVu Sans Mono',consolas,'Courier New',monospace\"><span style=\"color: #7fbfbf\">           </span><span style=\"color: #000080\">INFO</span>     Collaborator two is sending task results for train, round <span style=\"color: #000080; font-weight: bold\">1</span>                                                                <a href=\"file:///home/itrushkin/.virtualenvs/openfl_research/lib/python3.8/site-packages/openfl/component/aggregator/aggregator.py\"><span style=\"color: #7f7f7f\">aggregator.py</span></a><span style=\"color: #7f7f7f\">:428</span>\n",
       "</pre>\n"
      ],
      "text/plain": [
       "<rich.jupyter.JupyterRenderable at 0x7f740be80910>"
      ]
     },
     "metadata": {},
     "output_type": "display_data"
    },
    {
     "data": {
      "text/html": [
       "<pre style=\"white-space:pre;overflow-x:auto;line-height:normal;font-family:Menlo,'DejaVu Sans Mono',consolas,'Courier New',monospace\"><span style=\"color: #7fbfbf\">[17:45:59] </span><span style=\"color: #000080\">INFO</span>     Sending metric for task locally_tuned_model_validation, round number <span style=\"color: #000080; font-weight: bold\">1</span>: dice_coef       <span style=\"color: #000080; font-weight: bold\">0.3571049436446159</span>               <a href=\"file:///home/itrushkin/.virtualenvs/openfl_research/lib/python3.8/site-packages/openfl/component/collaborator/collaborator.py\"><span style=\"color: #7f7f7f\">collaborator.py</span></a><span style=\"color: #7f7f7f\">:365</span>\n",
       "</pre>\n"
      ],
      "text/plain": [
       "<rich.jupyter.JupyterRenderable at 0x7f7490cc05e0>"
      ]
     },
     "metadata": {},
     "output_type": "display_data"
    },
    {
     "data": {
      "text/html": [
       "<pre style=\"white-space:pre;overflow-x:auto;line-height:normal;font-family:Menlo,'DejaVu Sans Mono',consolas,'Courier New',monospace\"><span style=\"color: #7fbfbf\">           </span><span style=\"color: #000080\">INFO</span>     Collaborator two is sending task results for locally_tuned_model_validation, round <span style=\"color: #000080; font-weight: bold\">1</span>                                       <a href=\"file:///home/itrushkin/.virtualenvs/openfl_research/lib/python3.8/site-packages/openfl/component/aggregator/aggregator.py\"><span style=\"color: #7f7f7f\">aggregator.py</span></a><span style=\"color: #7f7f7f\">:428</span>\n",
       "</pre>\n"
      ],
      "text/plain": [
       "<rich.jupyter.JupyterRenderable at 0x7f7490cc0550>"
      ]
     },
     "metadata": {},
     "output_type": "display_data"
    },
    {
     "data": {
      "text/html": [
       "<pre style=\"white-space:pre;overflow-x:auto;line-height:normal;font-family:Menlo,'DejaVu Sans Mono',consolas,'Courier New',monospace\"><span style=\"color: #7fbfbf\">           </span><span style=\"color: #000080\">INFO</span>     train task metrics<span style=\"color: #808000\">...</span>                                                                                                      <a href=\"file:///home/itrushkin/.virtualenvs/openfl_research/lib/python3.8/site-packages/openfl/component/aggregator/aggregator.py\"><span style=\"color: #7f7f7f\">aggregator.py</span></a><span style=\"color: #7f7f7f\">:694</span>\n",
       "</pre>\n"
      ],
      "text/plain": [
       "<rich.jupyter.JupyterRenderable at 0x7f740be8e220>"
      ]
     },
     "metadata": {},
     "output_type": "display_data"
    },
    {
     "data": {
      "text/html": [
       "<pre style=\"white-space:pre;overflow-x:auto;line-height:normal;font-family:Menlo,'DejaVu Sans Mono',consolas,'Courier New',monospace\"><span style=\"color: #7fbfbf\">           </span><span style=\"color: #000080\">INFO</span>     soft_dice_loss: <span style=\"color: #000080; font-weight: bold\">0.6104</span>                                                                                                     <a href=\"file:///home/itrushkin/.virtualenvs/openfl_research/lib/python3.8/site-packages/openfl/component/aggregator/aggregator.py\"><span style=\"color: #7f7f7f\">aggregator.py</span></a><span style=\"color: #7f7f7f\">:742</span>\n",
       "</pre>\n"
      ],
      "text/plain": [
       "<rich.jupyter.JupyterRenderable at 0x7f740be8efd0>"
      ]
     },
     "metadata": {},
     "output_type": "display_data"
    },
    {
     "data": {
      "text/html": [
       "<pre style=\"white-space:pre;overflow-x:auto;line-height:normal;font-family:Menlo,'DejaVu Sans Mono',consolas,'Courier New',monospace\"><span style=\"color: #7fbfbf\">[17:46:05] </span><span style=\"color: #000080\">INFO</span>     locally_tuned_model_validation task metrics<span style=\"color: #808000\">...</span>                                                                             <a href=\"file:///home/itrushkin/.virtualenvs/openfl_research/lib/python3.8/site-packages/openfl/component/aggregator/aggregator.py\"><span style=\"color: #7f7f7f\">aggregator.py</span></a><span style=\"color: #7f7f7f\">:694</span>\n",
       "</pre>\n"
      ],
      "text/plain": [
       "<rich.jupyter.JupyterRenderable at 0x7f7490cbae80>"
      ]
     },
     "metadata": {},
     "output_type": "display_data"
    },
    {
     "data": {
      "text/html": [
       "<pre style=\"white-space:pre;overflow-x:auto;line-height:normal;font-family:Menlo,'DejaVu Sans Mono',consolas,'Courier New',monospace\"><span style=\"color: #7fbfbf\">           </span><span style=\"color: #000080\">INFO</span>     dice_coef:      <span style=\"color: #000080; font-weight: bold\">0.3993</span>                                                                                                     <a href=\"file:///home/itrushkin/.virtualenvs/openfl_research/lib/python3.8/site-packages/openfl/component/aggregator/aggregator.py\"><span style=\"color: #7f7f7f\">aggregator.py</span></a><span style=\"color: #7f7f7f\">:742</span>\n",
       "</pre>\n"
      ],
      "text/plain": [
       "<rich.jupyter.JupyterRenderable at 0x7f740be8ea30>"
      ]
     },
     "metadata": {},
     "output_type": "display_data"
    },
    {
     "data": {
      "text/html": [
       "<pre style=\"white-space:pre;overflow-x:auto;line-height:normal;font-family:Menlo,'DejaVu Sans Mono',consolas,'Courier New',monospace\"><span style=\"color: #7fbfbf\">           </span><span style=\"color: #000080\">INFO</span>     aggregated_model_validation task metrics<span style=\"color: #808000\">...</span>                                                                                <a href=\"file:///home/itrushkin/.virtualenvs/openfl_research/lib/python3.8/site-packages/openfl/component/aggregator/aggregator.py\"><span style=\"color: #7f7f7f\">aggregator.py</span></a><span style=\"color: #7f7f7f\">:694</span>\n",
       "</pre>\n"
      ],
      "text/plain": [
       "<rich.jupyter.JupyterRenderable at 0x7f740bf159a0>"
      ]
     },
     "metadata": {},
     "output_type": "display_data"
    },
    {
     "data": {
      "text/html": [
       "<pre style=\"white-space:pre;overflow-x:auto;line-height:normal;font-family:Menlo,'DejaVu Sans Mono',consolas,'Courier New',monospace\"><span style=\"color: #7fbfbf\">           </span><span style=\"color: #000080\">INFO</span>     dice_coef:      <span style=\"color: #000080; font-weight: bold\">0.3847</span>                                                                                                     <a href=\"file:///home/itrushkin/.virtualenvs/openfl_research/lib/python3.8/site-packages/openfl/component/aggregator/aggregator.py\"><span style=\"color: #7f7f7f\">aggregator.py</span></a><span style=\"color: #7f7f7f\">:742</span>\n",
       "</pre>\n"
      ],
      "text/plain": [
       "<rich.jupyter.JupyterRenderable at 0x7f740bf0e6d0>"
      ]
     },
     "metadata": {},
     "output_type": "display_data"
    },
    {
     "data": {
      "text/html": [
       "<pre style=\"white-space:pre;overflow-x:auto;line-height:normal;font-family:Menlo,'DejaVu Sans Mono',consolas,'Courier New',monospace\"><span style=\"color: #7fbfbf\">           </span><span style=\"color: #000080\">INFO</span>     Saved the best model with score <span style=\"color: #000080; font-weight: bold\">0.384662</span>                                                                                   <a href=\"file:///home/itrushkin/.virtualenvs/openfl_research/lib/python3.8/site-packages/openfl/component/aggregator/aggregator.py\"><span style=\"color: #7f7f7f\">aggregator.py</span></a><span style=\"color: #7f7f7f\">:749</span>\n",
       "</pre>\n"
      ],
      "text/plain": [
       "<rich.jupyter.JupyterRenderable at 0x7f740bf15940>"
      ]
     },
     "metadata": {},
     "output_type": "display_data"
    },
    {
     "data": {
      "text/html": [
       "<pre style=\"white-space:pre;overflow-x:auto;line-height:normal;font-family:Menlo,'DejaVu Sans Mono',consolas,'Courier New',monospace\"><span style=\"color: #7fbfbf\">[17:46:06] </span><span style=\"color: #000080\">INFO</span>     Saving round <span style=\"color: #000080; font-weight: bold\">2</span> model<span style=\"color: #808000\">...</span>                                                                                                    <a href=\"file:///home/itrushkin/.virtualenvs/openfl_research/lib/python3.8/site-packages/openfl/component/aggregator/aggregator.py\"><span style=\"color: #7f7f7f\">aggregator.py</span></a><span style=\"color: #7f7f7f\">:783</span>\n",
       "</pre>\n"
      ],
      "text/plain": [
       "<rich.jupyter.JupyterRenderable at 0x7f740bf0e6d0>"
      ]
     },
     "metadata": {},
     "output_type": "display_data"
    },
    {
     "data": {
      "text/html": [
       "<pre style=\"white-space:pre;overflow-x:auto;line-height:normal;font-family:Menlo,'DejaVu Sans Mono',consolas,'Courier New',monospace\"><span style=\"color: #7fbfbf\">           </span><span style=\"color: #000080\">INFO</span>     Starting round <span style=\"color: #000080; font-weight: bold\">2</span><span style=\"color: #808000\">...</span>                                                                                                        <a href=\"file:///home/itrushkin/.virtualenvs/openfl_research/lib/python3.8/site-packages/openfl/component/aggregator/aggregator.py\"><span style=\"color: #7f7f7f\">aggregator.py</span></a><span style=\"color: #7f7f7f\">:791</span>\n",
       "</pre>\n"
      ],
      "text/plain": [
       "<rich.jupyter.JupyterRenderable at 0x7f740bf2d160>"
      ]
     },
     "metadata": {},
     "output_type": "display_data"
    },
    {
     "data": {
      "text/html": [
       "<pre style=\"white-space:pre;overflow-x:auto;line-height:normal;font-family:Menlo,'DejaVu Sans Mono',consolas,'Courier New',monospace\"><span style=\"color: #7fbfbf\">           </span><span style=\"color: #000080\">INFO</span>     All tasks completed on two for round <span style=\"color: #000080; font-weight: bold\">1</span><span style=\"color: #808000\">...</span>                                                                                <a href=\"file:///home/itrushkin/.virtualenvs/openfl_research/lib/python3.8/site-packages/openfl/component/collaborator/collaborator.py\"><span style=\"color: #7f7f7f\">collaborator.py</span></a><span style=\"color: #7f7f7f\">:148</span>\n",
       "</pre>\n"
      ],
      "text/plain": [
       "<rich.jupyter.JupyterRenderable at 0x7f74200327f0>"
      ]
     },
     "metadata": {},
     "output_type": "display_data"
    },
    {
     "data": {
      "text/html": [
       "<pre style=\"white-space:pre;overflow-x:auto;line-height:normal;font-family:Menlo,'DejaVu Sans Mono',consolas,'Courier New',monospace\"><span style=\"color: #7fbfbf\">           </span><span style=\"color: #000080\">INFO</span>     Waiting for tasks<span style=\"color: #808000\">...</span>                                                                                                     <a href=\"file:///home/itrushkin/.virtualenvs/openfl_research/lib/python3.8/site-packages/openfl/component/collaborator/collaborator.py\"><span style=\"color: #7f7f7f\">collaborator.py</span></a><span style=\"color: #7f7f7f\">:156</span>\n",
       "</pre>\n"
      ],
      "text/plain": [
       "<rich.jupyter.JupyterRenderable at 0x7f7420032130>"
      ]
     },
     "metadata": {},
     "output_type": "display_data"
    },
    {
     "data": {
      "text/html": [
       "<pre style=\"white-space:pre;overflow-x:auto;line-height:normal;font-family:Menlo,'DejaVu Sans Mono',consolas,'Courier New',monospace\"><span style=\"color: #7fbfbf\">           </span><span style=\"color: #000080\">INFO</span>     Sending tasks to collaborator one for round <span style=\"color: #000080; font-weight: bold\">2</span>                                                                              <a href=\"file:///home/itrushkin/.virtualenvs/openfl_research/lib/python3.8/site-packages/openfl/component/aggregator/aggregator.py\"><span style=\"color: #7f7f7f\">aggregator.py</span></a><span style=\"color: #7f7f7f\">:276</span>\n",
       "</pre>\n"
      ],
      "text/plain": [
       "<rich.jupyter.JupyterRenderable at 0x7f7490d3feb0>"
      ]
     },
     "metadata": {},
     "output_type": "display_data"
    },
    {
     "data": {
      "text/html": [
       "<pre style=\"white-space:pre;overflow-x:auto;line-height:normal;font-family:Menlo,'DejaVu Sans Mono',consolas,'Courier New',monospace\"><span style=\"color: #7fbfbf\">           </span><span style=\"color: #000080\">INFO</span>     Received the following tasks: <span style=\"font-weight: bold\">[</span><span style=\"color: #008000\">'aggregated_model_validation'</span>, <span style=\"color: #008000\">'train'</span>, <span style=\"color: #008000\">'locally_tuned_model_validation'</span><span style=\"font-weight: bold\">]</span>                 <a href=\"file:///home/itrushkin/.virtualenvs/openfl_research/lib/python3.8/site-packages/openfl/component/collaborator/collaborator.py\"><span style=\"color: #7f7f7f\">collaborator.py</span></a><span style=\"color: #7f7f7f\">:144</span>\n",
       "</pre>\n"
      ],
      "text/plain": [
       "<rich.jupyter.JupyterRenderable at 0x7f7420032130>"
      ]
     },
     "metadata": {},
     "output_type": "display_data"
    },
    {
     "data": {
      "text/html": [
       "<pre style=\"white-space:pre;overflow-x:auto;line-height:normal;font-family:Menlo,'DejaVu Sans Mono',consolas,'Courier New',monospace\"><span style=\"color: #7fbfbf\">[17:46:09] </span><span style=\"color: #000080\">INFO</span>     Sending metric for task aggregated_model_validation, round number <span style=\"color: #000080; font-weight: bold\">2</span>: dice_coef  <span style=\"color: #000080; font-weight: bold\">0.43549662059353245</span>                      <a href=\"file:///home/itrushkin/.virtualenvs/openfl_research/lib/python3.8/site-packages/openfl/component/collaborator/collaborator.py\"><span style=\"color: #7f7f7f\">collaborator.py</span></a><span style=\"color: #7f7f7f\">:365</span>\n",
       "</pre>\n"
      ],
      "text/plain": [
       "<rich.jupyter.JupyterRenderable at 0x7f7490d3fac0>"
      ]
     },
     "metadata": {},
     "output_type": "display_data"
    },
    {
     "data": {
      "text/html": [
       "<pre style=\"white-space:pre;overflow-x:auto;line-height:normal;font-family:Menlo,'DejaVu Sans Mono',consolas,'Courier New',monospace\"><span style=\"color: #7fbfbf\">           </span><span style=\"color: #000080\">INFO</span>     Collaborator one is sending task results for aggregated_model_validation, round <span style=\"color: #000080; font-weight: bold\">2</span>                                          <a href=\"file:///home/itrushkin/.virtualenvs/openfl_research/lib/python3.8/site-packages/openfl/component/aggregator/aggregator.py\"><span style=\"color: #7f7f7f\">aggregator.py</span></a><span style=\"color: #7f7f7f\">:428</span>\n",
       "</pre>\n"
      ],
      "text/plain": [
       "<rich.jupyter.JupyterRenderable at 0x7f740be5be50>"
      ]
     },
     "metadata": {},
     "output_type": "display_data"
    },
    {
     "data": {
      "text/html": [
       "<pre style=\"white-space:pre;overflow-x:auto;line-height:normal;font-family:Menlo,'DejaVu Sans Mono',consolas,'Courier New',monospace\"><span style=\"color: #7fbfbf\">[17:46:29] </span><span style=\"color: #000080\">INFO</span>     Sending metric for task train, round number <span style=\"color: #000080; font-weight: bold\">2</span>: soft_dice_loss   <span style=\"color: #000080; font-weight: bold\">0.5963471531867981</span>                                       <a href=\"file:///home/itrushkin/.virtualenvs/openfl_research/lib/python3.8/site-packages/openfl/component/collaborator/collaborator.py\"><span style=\"color: #7f7f7f\">collaborator.py</span></a><span style=\"color: #7f7f7f\">:365</span>\n",
       "</pre>\n"
      ],
      "text/plain": [
       "<rich.jupyter.JupyterRenderable at 0x7f740bf1aac0>"
      ]
     },
     "metadata": {},
     "output_type": "display_data"
    },
    {
     "data": {
      "text/html": [
       "<pre style=\"white-space:pre;overflow-x:auto;line-height:normal;font-family:Menlo,'DejaVu Sans Mono',consolas,'Courier New',monospace\"><span style=\"color: #7fbfbf\">           </span><span style=\"color: #000080\">INFO</span>     Collaborator one is sending task results for train, round <span style=\"color: #000080; font-weight: bold\">2</span>                                                                <a href=\"file:///home/itrushkin/.virtualenvs/openfl_research/lib/python3.8/site-packages/openfl/component/aggregator/aggregator.py\"><span style=\"color: #7f7f7f\">aggregator.py</span></a><span style=\"color: #7f7f7f\">:428</span>\n",
       "</pre>\n"
      ],
      "text/plain": [
       "<rich.jupyter.JupyterRenderable at 0x7f740bf1a8e0>"
      ]
     },
     "metadata": {},
     "output_type": "display_data"
    },
    {
     "data": {
      "text/html": [
       "<pre style=\"white-space:pre;overflow-x:auto;line-height:normal;font-family:Menlo,'DejaVu Sans Mono',consolas,'Courier New',monospace\"><span style=\"color: #7fbfbf\">[17:46:31] </span><span style=\"color: #000080\">INFO</span>     Sending metric for task locally_tuned_model_validation, round number <span style=\"color: #000080; font-weight: bold\">2</span>: dice_coef       <span style=\"color: #000080; font-weight: bold\">0.4504963544107253</span>               <a href=\"file:///home/itrushkin/.virtualenvs/openfl_research/lib/python3.8/site-packages/openfl/component/collaborator/collaborator.py\"><span style=\"color: #7f7f7f\">collaborator.py</span></a><span style=\"color: #7f7f7f\">:365</span>\n",
       "</pre>\n"
      ],
      "text/plain": [
       "<rich.jupyter.JupyterRenderable at 0x7f740bffce50>"
      ]
     },
     "metadata": {},
     "output_type": "display_data"
    },
    {
     "data": {
      "text/html": [
       "<pre style=\"white-space:pre;overflow-x:auto;line-height:normal;font-family:Menlo,'DejaVu Sans Mono',consolas,'Courier New',monospace\"><span style=\"color: #7fbfbf\">[17:46:32] </span><span style=\"color: #000080\">INFO</span>     Collaborator one is sending task results for locally_tuned_model_validation, round <span style=\"color: #000080; font-weight: bold\">2</span>                                       <a href=\"file:///home/itrushkin/.virtualenvs/openfl_research/lib/python3.8/site-packages/openfl/component/aggregator/aggregator.py\"><span style=\"color: #7f7f7f\">aggregator.py</span></a><span style=\"color: #7f7f7f\">:428</span>\n",
       "</pre>\n"
      ],
      "text/plain": [
       "<rich.jupyter.JupyterRenderable at 0x7f740bffc5e0>"
      ]
     },
     "metadata": {},
     "output_type": "display_data"
    },
    {
     "data": {
      "text/html": [
       "<pre style=\"white-space:pre;overflow-x:auto;line-height:normal;font-family:Menlo,'DejaVu Sans Mono',consolas,'Courier New',monospace\"><span style=\"color: #7fbfbf\">           </span><span style=\"color: #000080\">INFO</span>     All tasks completed on one for round <span style=\"color: #000080; font-weight: bold\">2</span><span style=\"color: #808000\">...</span>                                                                                <a href=\"file:///home/itrushkin/.virtualenvs/openfl_research/lib/python3.8/site-packages/openfl/component/collaborator/collaborator.py\"><span style=\"color: #7f7f7f\">collaborator.py</span></a><span style=\"color: #7f7f7f\">:148</span>\n",
       "</pre>\n"
      ],
      "text/plain": [
       "<rich.jupyter.JupyterRenderable at 0x7f740bffc670>"
      ]
     },
     "metadata": {},
     "output_type": "display_data"
    },
    {
     "data": {
      "text/html": [
       "<pre style=\"white-space:pre;overflow-x:auto;line-height:normal;font-family:Menlo,'DejaVu Sans Mono',consolas,'Courier New',monospace\"><span style=\"color: #7fbfbf\">           </span><span style=\"color: #000080\">INFO</span>     Waiting for tasks<span style=\"color: #808000\">...</span>                                                                                                     <a href=\"file:///home/itrushkin/.virtualenvs/openfl_research/lib/python3.8/site-packages/openfl/component/collaborator/collaborator.py\"><span style=\"color: #7f7f7f\">collaborator.py</span></a><span style=\"color: #7f7f7f\">:156</span>\n",
       "</pre>\n"
      ],
      "text/plain": [
       "<rich.jupyter.JupyterRenderable at 0x7f740bffc6d0>"
      ]
     },
     "metadata": {},
     "output_type": "display_data"
    },
    {
     "data": {
      "text/html": [
       "<pre style=\"white-space:pre;overflow-x:auto;line-height:normal;font-family:Menlo,'DejaVu Sans Mono',consolas,'Courier New',monospace\"><span style=\"color: #7fbfbf\">           </span><span style=\"color: #000080\">INFO</span>     Sending tasks to collaborator two for round <span style=\"color: #000080; font-weight: bold\">2</span>                                                                              <a href=\"file:///home/itrushkin/.virtualenvs/openfl_research/lib/python3.8/site-packages/openfl/component/aggregator/aggregator.py\"><span style=\"color: #7f7f7f\">aggregator.py</span></a><span style=\"color: #7f7f7f\">:276</span>\n",
       "</pre>\n"
      ],
      "text/plain": [
       "<rich.jupyter.JupyterRenderable at 0x7f740bffccd0>"
      ]
     },
     "metadata": {},
     "output_type": "display_data"
    },
    {
     "data": {
      "text/html": [
       "<pre style=\"white-space:pre;overflow-x:auto;line-height:normal;font-family:Menlo,'DejaVu Sans Mono',consolas,'Courier New',monospace\"><span style=\"color: #7fbfbf\">           </span><span style=\"color: #000080\">INFO</span>     Received the following tasks: <span style=\"font-weight: bold\">[</span><span style=\"color: #008000\">'aggregated_model_validation'</span>, <span style=\"color: #008000\">'train'</span>, <span style=\"color: #008000\">'locally_tuned_model_validation'</span><span style=\"font-weight: bold\">]</span>                 <a href=\"file:///home/itrushkin/.virtualenvs/openfl_research/lib/python3.8/site-packages/openfl/component/collaborator/collaborator.py\"><span style=\"color: #7f7f7f\">collaborator.py</span></a><span style=\"color: #7f7f7f\">:144</span>\n",
       "</pre>\n"
      ],
      "text/plain": [
       "<rich.jupyter.JupyterRenderable at 0x7f740bffc940>"
      ]
     },
     "metadata": {},
     "output_type": "display_data"
    },
    {
     "data": {
      "text/html": [
       "<pre style=\"white-space:pre;overflow-x:auto;line-height:normal;font-family:Menlo,'DejaVu Sans Mono',consolas,'Courier New',monospace\"><span style=\"color: #7fbfbf\">[17:46:34] </span><span style=\"color: #000080\">INFO</span>     Sending metric for task aggregated_model_validation, round number <span style=\"color: #000080; font-weight: bold\">2</span>: dice_coef  <span style=\"color: #000080; font-weight: bold\">0.3556097505554076</span>                       <a href=\"file:///home/itrushkin/.virtualenvs/openfl_research/lib/python3.8/site-packages/openfl/component/collaborator/collaborator.py\"><span style=\"color: #7f7f7f\">collaborator.py</span></a><span style=\"color: #7f7f7f\">:365</span>\n",
       "</pre>\n"
      ],
      "text/plain": [
       "<rich.jupyter.JupyterRenderable at 0x7f740bdacc40>"
      ]
     },
     "metadata": {},
     "output_type": "display_data"
    },
    {
     "data": {
      "text/html": [
       "<pre style=\"white-space:pre;overflow-x:auto;line-height:normal;font-family:Menlo,'DejaVu Sans Mono',consolas,'Courier New',monospace\"><span style=\"color: #7fbfbf\">           </span><span style=\"color: #000080\">INFO</span>     Collaborator two is sending task results for aggregated_model_validation, round <span style=\"color: #000080; font-weight: bold\">2</span>                                          <a href=\"file:///home/itrushkin/.virtualenvs/openfl_research/lib/python3.8/site-packages/openfl/component/aggregator/aggregator.py\"><span style=\"color: #7f7f7f\">aggregator.py</span></a><span style=\"color: #7f7f7f\">:428</span>\n",
       "</pre>\n"
      ],
      "text/plain": [
       "<rich.jupyter.JupyterRenderable at 0x7f7490cbaa90>"
      ]
     },
     "metadata": {},
     "output_type": "display_data"
    },
    {
     "data": {
      "text/html": [
       "<pre style=\"white-space:pre;overflow-x:auto;line-height:normal;font-family:Menlo,'DejaVu Sans Mono',consolas,'Courier New',monospace\"><span style=\"color: #7fbfbf\">[17:46:55] </span><span style=\"color: #000080\">INFO</span>     Sending metric for task train, round number <span style=\"color: #000080; font-weight: bold\">2</span>: soft_dice_loss   <span style=\"color: #000080; font-weight: bold\">0.5920241475105286</span>                                       <a href=\"file:///home/itrushkin/.virtualenvs/openfl_research/lib/python3.8/site-packages/openfl/component/collaborator/collaborator.py\"><span style=\"color: #7f7f7f\">collaborator.py</span></a><span style=\"color: #7f7f7f\">:365</span>\n",
       "</pre>\n"
      ],
      "text/plain": [
       "<rich.jupyter.JupyterRenderable at 0x7f740bea9d90>"
      ]
     },
     "metadata": {},
     "output_type": "display_data"
    },
    {
     "data": {
      "text/html": [
       "<pre style=\"white-space:pre;overflow-x:auto;line-height:normal;font-family:Menlo,'DejaVu Sans Mono',consolas,'Courier New',monospace\"><span style=\"color: #7fbfbf\">           </span><span style=\"color: #000080\">INFO</span>     Collaborator two is sending task results for train, round <span style=\"color: #000080; font-weight: bold\">2</span>                                                                <a href=\"file:///home/itrushkin/.virtualenvs/openfl_research/lib/python3.8/site-packages/openfl/component/aggregator/aggregator.py\"><span style=\"color: #7f7f7f\">aggregator.py</span></a><span style=\"color: #7f7f7f\">:428</span>\n",
       "</pre>\n"
      ],
      "text/plain": [
       "<rich.jupyter.JupyterRenderable at 0x7f740bea90d0>"
      ]
     },
     "metadata": {},
     "output_type": "display_data"
    },
    {
     "data": {
      "text/html": [
       "<pre style=\"white-space:pre;overflow-x:auto;line-height:normal;font-family:Menlo,'DejaVu Sans Mono',consolas,'Courier New',monospace\"><span style=\"color: #7fbfbf\">[17:46:57] </span><span style=\"color: #000080\">INFO</span>     Sending metric for task locally_tuned_model_validation, round number <span style=\"color: #000080; font-weight: bold\">2</span>: dice_coef       <span style=\"color: #000080; font-weight: bold\">0.37100199874370327</span>              <a href=\"file:///home/itrushkin/.virtualenvs/openfl_research/lib/python3.8/site-packages/openfl/component/collaborator/collaborator.py\"><span style=\"color: #7f7f7f\">collaborator.py</span></a><span style=\"color: #7f7f7f\">:365</span>\n",
       "</pre>\n"
      ],
      "text/plain": [
       "<rich.jupyter.JupyterRenderable at 0x7f7490d3feb0>"
      ]
     },
     "metadata": {},
     "output_type": "display_data"
    },
    {
     "data": {
      "text/html": [
       "<pre style=\"white-space:pre;overflow-x:auto;line-height:normal;font-family:Menlo,'DejaVu Sans Mono',consolas,'Courier New',monospace\"><span style=\"color: #7fbfbf\">           </span><span style=\"color: #000080\">INFO</span>     Collaborator two is sending task results for locally_tuned_model_validation, round <span style=\"color: #000080; font-weight: bold\">2</span>                                       <a href=\"file:///home/itrushkin/.virtualenvs/openfl_research/lib/python3.8/site-packages/openfl/component/aggregator/aggregator.py\"><span style=\"color: #7f7f7f\">aggregator.py</span></a><span style=\"color: #7f7f7f\">:428</span>\n",
       "</pre>\n"
      ],
      "text/plain": [
       "<rich.jupyter.JupyterRenderable at 0x7f740bf0e910>"
      ]
     },
     "metadata": {},
     "output_type": "display_data"
    },
    {
     "data": {
      "text/html": [
       "<pre style=\"white-space:pre;overflow-x:auto;line-height:normal;font-family:Menlo,'DejaVu Sans Mono',consolas,'Courier New',monospace\"><span style=\"color: #7fbfbf\">           </span><span style=\"color: #000080\">INFO</span>     train task metrics<span style=\"color: #808000\">...</span>                                                                                                      <a href=\"file:///home/itrushkin/.virtualenvs/openfl_research/lib/python3.8/site-packages/openfl/component/aggregator/aggregator.py\"><span style=\"color: #7f7f7f\">aggregator.py</span></a><span style=\"color: #7f7f7f\">:694</span>\n",
       "</pre>\n"
      ],
      "text/plain": [
       "<rich.jupyter.JupyterRenderable at 0x7f740bf0e220>"
      ]
     },
     "metadata": {},
     "output_type": "display_data"
    },
    {
     "data": {
      "text/html": [
       "<pre style=\"white-space:pre;overflow-x:auto;line-height:normal;font-family:Menlo,'DejaVu Sans Mono',consolas,'Courier New',monospace\"><span style=\"color: #7fbfbf\">           </span><span style=\"color: #000080\">INFO</span>     soft_dice_loss: <span style=\"color: #000080; font-weight: bold\">0.5942</span>                                                                                                     <a href=\"file:///home/itrushkin/.virtualenvs/openfl_research/lib/python3.8/site-packages/openfl/component/aggregator/aggregator.py\"><span style=\"color: #7f7f7f\">aggregator.py</span></a><span style=\"color: #7f7f7f\">:742</span>\n",
       "</pre>\n"
      ],
      "text/plain": [
       "<rich.jupyter.JupyterRenderable at 0x7f740bf0e400>"
      ]
     },
     "metadata": {},
     "output_type": "display_data"
    },
    {
     "data": {
      "text/html": [
       "<pre style=\"white-space:pre;overflow-x:auto;line-height:normal;font-family:Menlo,'DejaVu Sans Mono',consolas,'Courier New',monospace\"><span style=\"color: #7fbfbf\">[17:47:03] </span><span style=\"color: #000080\">INFO</span>     locally_tuned_model_validation task metrics<span style=\"color: #808000\">...</span>                                                                             <a href=\"file:///home/itrushkin/.virtualenvs/openfl_research/lib/python3.8/site-packages/openfl/component/aggregator/aggregator.py\"><span style=\"color: #7f7f7f\">aggregator.py</span></a><span style=\"color: #7f7f7f\">:694</span>\n",
       "</pre>\n"
      ],
      "text/plain": [
       "<rich.jupyter.JupyterRenderable at 0x7f742002c5e0>"
      ]
     },
     "metadata": {},
     "output_type": "display_data"
    },
    {
     "data": {
      "text/html": [
       "<pre style=\"white-space:pre;overflow-x:auto;line-height:normal;font-family:Menlo,'DejaVu Sans Mono',consolas,'Courier New',monospace\"><span style=\"color: #7fbfbf\">           </span><span style=\"color: #000080\">INFO</span>     dice_coef:      <span style=\"color: #000080; font-weight: bold\">0.4107</span>                                                                                                     <a href=\"file:///home/itrushkin/.virtualenvs/openfl_research/lib/python3.8/site-packages/openfl/component/aggregator/aggregator.py\"><span style=\"color: #7f7f7f\">aggregator.py</span></a><span style=\"color: #7f7f7f\">:742</span>\n",
       "</pre>\n"
      ],
      "text/plain": [
       "<rich.jupyter.JupyterRenderable at 0x7f7490d3f7c0>"
      ]
     },
     "metadata": {},
     "output_type": "display_data"
    },
    {
     "data": {
      "text/html": [
       "<pre style=\"white-space:pre;overflow-x:auto;line-height:normal;font-family:Menlo,'DejaVu Sans Mono',consolas,'Courier New',monospace\"><span style=\"color: #7fbfbf\">           </span><span style=\"color: #000080\">INFO</span>     aggregated_model_validation task metrics<span style=\"color: #808000\">...</span>                                                                                <a href=\"file:///home/itrushkin/.virtualenvs/openfl_research/lib/python3.8/site-packages/openfl/component/aggregator/aggregator.py\"><span style=\"color: #7f7f7f\">aggregator.py</span></a><span style=\"color: #7f7f7f\">:694</span>\n",
       "</pre>\n"
      ],
      "text/plain": [
       "<rich.jupyter.JupyterRenderable at 0x7f740bd1b9a0>"
      ]
     },
     "metadata": {},
     "output_type": "display_data"
    },
    {
     "data": {
      "text/html": [
       "<pre style=\"white-space:pre;overflow-x:auto;line-height:normal;font-family:Menlo,'DejaVu Sans Mono',consolas,'Courier New',monospace\"><span style=\"color: #7fbfbf\">           </span><span style=\"color: #000080\">INFO</span>     dice_coef:      <span style=\"color: #000080; font-weight: bold\">0.3956</span>                                                                                                     <a href=\"file:///home/itrushkin/.virtualenvs/openfl_research/lib/python3.8/site-packages/openfl/component/aggregator/aggregator.py\"><span style=\"color: #7f7f7f\">aggregator.py</span></a><span style=\"color: #7f7f7f\">:742</span>\n",
       "</pre>\n"
      ],
      "text/plain": [
       "<rich.jupyter.JupyterRenderable at 0x7f740bf15ca0>"
      ]
     },
     "metadata": {},
     "output_type": "display_data"
    },
    {
     "data": {
      "text/html": [
       "<pre style=\"white-space:pre;overflow-x:auto;line-height:normal;font-family:Menlo,'DejaVu Sans Mono',consolas,'Courier New',monospace\"><span style=\"color: #7fbfbf\">           </span><span style=\"color: #000080\">INFO</span>     Saved the best model with score <span style=\"color: #000080; font-weight: bold\">0.395553</span>                                                                                   <a href=\"file:///home/itrushkin/.virtualenvs/openfl_research/lib/python3.8/site-packages/openfl/component/aggregator/aggregator.py\"><span style=\"color: #7f7f7f\">aggregator.py</span></a><span style=\"color: #7f7f7f\">:749</span>\n",
       "</pre>\n"
      ],
      "text/plain": [
       "<rich.jupyter.JupyterRenderable at 0x7f740bd1b820>"
      ]
     },
     "metadata": {},
     "output_type": "display_data"
    },
    {
     "data": {
      "text/html": [
       "<pre style=\"white-space:pre;overflow-x:auto;line-height:normal;font-family:Menlo,'DejaVu Sans Mono',consolas,'Courier New',monospace\"><span style=\"color: #7fbfbf\">[17:47:04] </span><span style=\"color: #000080\">INFO</span>     Saving round <span style=\"color: #000080; font-weight: bold\">3</span> model<span style=\"color: #808000\">...</span>                                                                                                    <a href=\"file:///home/itrushkin/.virtualenvs/openfl_research/lib/python3.8/site-packages/openfl/component/aggregator/aggregator.py\"><span style=\"color: #7f7f7f\">aggregator.py</span></a><span style=\"color: #7f7f7f\">:783</span>\n",
       "</pre>\n"
      ],
      "text/plain": [
       "<rich.jupyter.JupyterRenderable at 0x7f742002cc70>"
      ]
     },
     "metadata": {},
     "output_type": "display_data"
    },
    {
     "data": {
      "text/html": [
       "<pre style=\"white-space:pre;overflow-x:auto;line-height:normal;font-family:Menlo,'DejaVu Sans Mono',consolas,'Courier New',monospace\"><span style=\"color: #7fbfbf\">           </span><span style=\"color: #000080\">INFO</span>     Starting round <span style=\"color: #000080; font-weight: bold\">3</span><span style=\"color: #808000\">...</span>                                                                                                        <a href=\"file:///home/itrushkin/.virtualenvs/openfl_research/lib/python3.8/site-packages/openfl/component/aggregator/aggregator.py\"><span style=\"color: #7f7f7f\">aggregator.py</span></a><span style=\"color: #7f7f7f\">:791</span>\n",
       "</pre>\n"
      ],
      "text/plain": [
       "<rich.jupyter.JupyterRenderable at 0x7f740bfedca0>"
      ]
     },
     "metadata": {},
     "output_type": "display_data"
    },
    {
     "data": {
      "text/html": [
       "<pre style=\"white-space:pre;overflow-x:auto;line-height:normal;font-family:Menlo,'DejaVu Sans Mono',consolas,'Courier New',monospace\"><span style=\"color: #7fbfbf\">           </span><span style=\"color: #000080\">INFO</span>     All tasks completed on two for round <span style=\"color: #000080; font-weight: bold\">2</span><span style=\"color: #808000\">...</span>                                                                                <a href=\"file:///home/itrushkin/.virtualenvs/openfl_research/lib/python3.8/site-packages/openfl/component/collaborator/collaborator.py\"><span style=\"color: #7f7f7f\">collaborator.py</span></a><span style=\"color: #7f7f7f\">:148</span>\n",
       "</pre>\n"
      ],
      "text/plain": [
       "<rich.jupyter.JupyterRenderable at 0x7f740bfd9e50>"
      ]
     },
     "metadata": {},
     "output_type": "display_data"
    },
    {
     "data": {
      "text/html": [
       "<pre style=\"white-space:pre;overflow-x:auto;line-height:normal;font-family:Menlo,'DejaVu Sans Mono',consolas,'Courier New',monospace\"><span style=\"color: #7fbfbf\">           </span><span style=\"color: #000080\">INFO</span>     Waiting for tasks<span style=\"color: #808000\">...</span>                                                                                                     <a href=\"file:///home/itrushkin/.virtualenvs/openfl_research/lib/python3.8/site-packages/openfl/component/collaborator/collaborator.py\"><span style=\"color: #7f7f7f\">collaborator.py</span></a><span style=\"color: #7f7f7f\">:156</span>\n",
       "</pre>\n"
      ],
      "text/plain": [
       "<rich.jupyter.JupyterRenderable at 0x7f740bf94eb0>"
      ]
     },
     "metadata": {},
     "output_type": "display_data"
    },
    {
     "data": {
      "text/html": [
       "<pre style=\"white-space:pre;overflow-x:auto;line-height:normal;font-family:Menlo,'DejaVu Sans Mono',consolas,'Courier New',monospace\"><span style=\"color: #7fbfbf\">           </span><span style=\"color: #000080\">INFO</span>     Sending tasks to collaborator one for round <span style=\"color: #000080; font-weight: bold\">3</span>                                                                              <a href=\"file:///home/itrushkin/.virtualenvs/openfl_research/lib/python3.8/site-packages/openfl/component/aggregator/aggregator.py\"><span style=\"color: #7f7f7f\">aggregator.py</span></a><span style=\"color: #7f7f7f\">:276</span>\n",
       "</pre>\n"
      ],
      "text/plain": [
       "<rich.jupyter.JupyterRenderable at 0x7f740bf94310>"
      ]
     },
     "metadata": {},
     "output_type": "display_data"
    },
    {
     "data": {
      "text/html": [
       "<pre style=\"white-space:pre;overflow-x:auto;line-height:normal;font-family:Menlo,'DejaVu Sans Mono',consolas,'Courier New',monospace\"><span style=\"color: #7fbfbf\">           </span><span style=\"color: #000080\">INFO</span>     Received the following tasks: <span style=\"font-weight: bold\">[</span><span style=\"color: #008000\">'aggregated_model_validation'</span>, <span style=\"color: #008000\">'train'</span>, <span style=\"color: #008000\">'locally_tuned_model_validation'</span><span style=\"font-weight: bold\">]</span>                 <a href=\"file:///home/itrushkin/.virtualenvs/openfl_research/lib/python3.8/site-packages/openfl/component/collaborator/collaborator.py\"><span style=\"color: #7f7f7f\">collaborator.py</span></a><span style=\"color: #7f7f7f\">:144</span>\n",
       "</pre>\n"
      ],
      "text/plain": [
       "<rich.jupyter.JupyterRenderable at 0x7f740bf94520>"
      ]
     },
     "metadata": {},
     "output_type": "display_data"
    },
    {
     "data": {
      "text/html": [
       "<pre style=\"white-space:pre;overflow-x:auto;line-height:normal;font-family:Menlo,'DejaVu Sans Mono',consolas,'Courier New',monospace\"><span style=\"color: #7fbfbf\">[17:47:06] </span><span style=\"color: #000080\">INFO</span>     Sending metric for task aggregated_model_validation, round number <span style=\"color: #000080; font-weight: bold\">3</span>: dice_coef  <span style=\"color: #000080; font-weight: bold\">0.43500437275055914</span>                      <a href=\"file:///home/itrushkin/.virtualenvs/openfl_research/lib/python3.8/site-packages/openfl/component/collaborator/collaborator.py\"><span style=\"color: #7f7f7f\">collaborator.py</span></a><span style=\"color: #7f7f7f\">:365</span>\n",
       "</pre>\n"
      ],
      "text/plain": [
       "<rich.jupyter.JupyterRenderable at 0x7f7490cbaa60>"
      ]
     },
     "metadata": {},
     "output_type": "display_data"
    },
    {
     "data": {
      "text/html": [
       "<pre style=\"white-space:pre;overflow-x:auto;line-height:normal;font-family:Menlo,'DejaVu Sans Mono',consolas,'Courier New',monospace\"><span style=\"color: #7fbfbf\">           </span><span style=\"color: #000080\">INFO</span>     Collaborator one is sending task results for aggregated_model_validation, round <span style=\"color: #000080; font-weight: bold\">3</span>                                          <a href=\"file:///home/itrushkin/.virtualenvs/openfl_research/lib/python3.8/site-packages/openfl/component/aggregator/aggregator.py\"><span style=\"color: #7f7f7f\">aggregator.py</span></a><span style=\"color: #7f7f7f\">:428</span>\n",
       "</pre>\n"
      ],
      "text/plain": [
       "<rich.jupyter.JupyterRenderable at 0x7f740bf2f8e0>"
      ]
     },
     "metadata": {},
     "output_type": "display_data"
    },
    {
     "data": {
      "text/html": [
       "<pre style=\"white-space:pre;overflow-x:auto;line-height:normal;font-family:Menlo,'DejaVu Sans Mono',consolas,'Courier New',monospace\"><span style=\"color: #7fbfbf\">[17:47:27] </span><span style=\"color: #000080\">INFO</span>     Sending metric for task train, round number <span style=\"color: #000080; font-weight: bold\">3</span>: soft_dice_loss   <span style=\"color: #000080; font-weight: bold\">0.5834751725196838</span>                                       <a href=\"file:///home/itrushkin/.virtualenvs/openfl_research/lib/python3.8/site-packages/openfl/component/collaborator/collaborator.py\"><span style=\"color: #7f7f7f\">collaborator.py</span></a><span style=\"color: #7f7f7f\">:365</span>\n",
       "</pre>\n"
      ],
      "text/plain": [
       "<rich.jupyter.JupyterRenderable at 0x7f748dc86a30>"
      ]
     },
     "metadata": {},
     "output_type": "display_data"
    },
    {
     "data": {
      "text/html": [
       "<pre style=\"white-space:pre;overflow-x:auto;line-height:normal;font-family:Menlo,'DejaVu Sans Mono',consolas,'Courier New',monospace\"><span style=\"color: #7fbfbf\">           </span><span style=\"color: #000080\">INFO</span>     Collaborator one is sending task results for train, round <span style=\"color: #000080; font-weight: bold\">3</span>                                                                <a href=\"file:///home/itrushkin/.virtualenvs/openfl_research/lib/python3.8/site-packages/openfl/component/aggregator/aggregator.py\"><span style=\"color: #7f7f7f\">aggregator.py</span></a><span style=\"color: #7f7f7f\">:428</span>\n",
       "</pre>\n"
      ],
      "text/plain": [
       "<rich.jupyter.JupyterRenderable at 0x7f742003f6d0>"
      ]
     },
     "metadata": {},
     "output_type": "display_data"
    },
    {
     "data": {
      "text/html": [
       "<pre style=\"white-space:pre;overflow-x:auto;line-height:normal;font-family:Menlo,'DejaVu Sans Mono',consolas,'Courier New',monospace\"><span style=\"color: #7fbfbf\">[17:47:30] </span><span style=\"color: #000080\">INFO</span>     Sending metric for task locally_tuned_model_validation, round number <span style=\"color: #000080; font-weight: bold\">3</span>: dice_coef       <span style=\"color: #000080; font-weight: bold\">0.45610655507733744</span>              <a href=\"file:///home/itrushkin/.virtualenvs/openfl_research/lib/python3.8/site-packages/openfl/component/collaborator/collaborator.py\"><span style=\"color: #7f7f7f\">collaborator.py</span></a><span style=\"color: #7f7f7f\">:365</span>\n",
       "</pre>\n"
      ],
      "text/plain": [
       "<rich.jupyter.JupyterRenderable at 0x7f740bf146d0>"
      ]
     },
     "metadata": {},
     "output_type": "display_data"
    },
    {
     "data": {
      "text/html": [
       "<pre style=\"white-space:pre;overflow-x:auto;line-height:normal;font-family:Menlo,'DejaVu Sans Mono',consolas,'Courier New',monospace\"><span style=\"color: #7fbfbf\">           </span><span style=\"color: #000080\">INFO</span>     Collaborator one is sending task results for locally_tuned_model_validation, round <span style=\"color: #000080; font-weight: bold\">3</span>                                       <a href=\"file:///home/itrushkin/.virtualenvs/openfl_research/lib/python3.8/site-packages/openfl/component/aggregator/aggregator.py\"><span style=\"color: #7f7f7f\">aggregator.py</span></a><span style=\"color: #7f7f7f\">:428</span>\n",
       "</pre>\n"
      ],
      "text/plain": [
       "<rich.jupyter.JupyterRenderable at 0x7f740bf14580>"
      ]
     },
     "metadata": {},
     "output_type": "display_data"
    },
    {
     "data": {
      "text/html": [
       "<pre style=\"white-space:pre;overflow-x:auto;line-height:normal;font-family:Menlo,'DejaVu Sans Mono',consolas,'Courier New',monospace\"><span style=\"color: #7fbfbf\">           </span><span style=\"color: #000080\">INFO</span>     All tasks completed on one for round <span style=\"color: #000080; font-weight: bold\">3</span><span style=\"color: #808000\">...</span>                                                                                <a href=\"file:///home/itrushkin/.virtualenvs/openfl_research/lib/python3.8/site-packages/openfl/component/collaborator/collaborator.py\"><span style=\"color: #7f7f7f\">collaborator.py</span></a><span style=\"color: #7f7f7f\">:148</span>\n",
       "</pre>\n"
      ],
      "text/plain": [
       "<rich.jupyter.JupyterRenderable at 0x7f740bf14b80>"
      ]
     },
     "metadata": {},
     "output_type": "display_data"
    },
    {
     "data": {
      "text/html": [
       "<pre style=\"white-space:pre;overflow-x:auto;line-height:normal;font-family:Menlo,'DejaVu Sans Mono',consolas,'Courier New',monospace\"><span style=\"color: #7fbfbf\">           </span><span style=\"color: #000080\">INFO</span>     Waiting for tasks<span style=\"color: #808000\">...</span>                                                                                                     <a href=\"file:///home/itrushkin/.virtualenvs/openfl_research/lib/python3.8/site-packages/openfl/component/collaborator/collaborator.py\"><span style=\"color: #7f7f7f\">collaborator.py</span></a><span style=\"color: #7f7f7f\">:156</span>\n",
       "</pre>\n"
      ],
      "text/plain": [
       "<rich.jupyter.JupyterRenderable at 0x7f740bf14940>"
      ]
     },
     "metadata": {},
     "output_type": "display_data"
    },
    {
     "data": {
      "text/html": [
       "<pre style=\"white-space:pre;overflow-x:auto;line-height:normal;font-family:Menlo,'DejaVu Sans Mono',consolas,'Courier New',monospace\"><span style=\"color: #7fbfbf\">           </span><span style=\"color: #000080\">INFO</span>     Sending tasks to collaborator two for round <span style=\"color: #000080; font-weight: bold\">3</span>                                                                              <a href=\"file:///home/itrushkin/.virtualenvs/openfl_research/lib/python3.8/site-packages/openfl/component/aggregator/aggregator.py\"><span style=\"color: #7f7f7f\">aggregator.py</span></a><span style=\"color: #7f7f7f\">:276</span>\n",
       "</pre>\n"
      ],
      "text/plain": [
       "<rich.jupyter.JupyterRenderable at 0x7f740bf14e20>"
      ]
     },
     "metadata": {},
     "output_type": "display_data"
    },
    {
     "data": {
      "text/html": [
       "<pre style=\"white-space:pre;overflow-x:auto;line-height:normal;font-family:Menlo,'DejaVu Sans Mono',consolas,'Courier New',monospace\"><span style=\"color: #7fbfbf\">           </span><span style=\"color: #000080\">INFO</span>     Received the following tasks: <span style=\"font-weight: bold\">[</span><span style=\"color: #008000\">'aggregated_model_validation'</span>, <span style=\"color: #008000\">'train'</span>, <span style=\"color: #008000\">'locally_tuned_model_validation'</span><span style=\"font-weight: bold\">]</span>                 <a href=\"file:///home/itrushkin/.virtualenvs/openfl_research/lib/python3.8/site-packages/openfl/component/collaborator/collaborator.py\"><span style=\"color: #7f7f7f\">collaborator.py</span></a><span style=\"color: #7f7f7f\">:144</span>\n",
       "</pre>\n"
      ],
      "text/plain": [
       "<rich.jupyter.JupyterRenderable at 0x7f740bf14b20>"
      ]
     },
     "metadata": {},
     "output_type": "display_data"
    },
    {
     "data": {
      "text/html": [
       "<pre style=\"white-space:pre;overflow-x:auto;line-height:normal;font-family:Menlo,'DejaVu Sans Mono',consolas,'Courier New',monospace\"><span style=\"color: #7fbfbf\">[17:47:32] </span><span style=\"color: #000080\">INFO</span>     Sending metric for task aggregated_model_validation, round number <span style=\"color: #000080; font-weight: bold\">3</span>: dice_coef  <span style=\"color: #000080; font-weight: bold\">0.3653699919100731</span>                       <a href=\"file:///home/itrushkin/.virtualenvs/openfl_research/lib/python3.8/site-packages/openfl/component/collaborator/collaborator.py\"><span style=\"color: #7f7f7f\">collaborator.py</span></a><span style=\"color: #7f7f7f\">:365</span>\n",
       "</pre>\n"
      ],
      "text/plain": [
       "<rich.jupyter.JupyterRenderable at 0x7f740bf94670>"
      ]
     },
     "metadata": {},
     "output_type": "display_data"
    },
    {
     "data": {
      "text/html": [
       "<pre style=\"white-space:pre;overflow-x:auto;line-height:normal;font-family:Menlo,'DejaVu Sans Mono',consolas,'Courier New',monospace\"><span style=\"color: #7fbfbf\">           </span><span style=\"color: #000080\">INFO</span>     Collaborator two is sending task results for aggregated_model_validation, round <span style=\"color: #000080; font-weight: bold\">3</span>                                          <a href=\"file:///home/itrushkin/.virtualenvs/openfl_research/lib/python3.8/site-packages/openfl/component/aggregator/aggregator.py\"><span style=\"color: #7f7f7f\">aggregator.py</span></a><span style=\"color: #7f7f7f\">:428</span>\n",
       "</pre>\n"
      ],
      "text/plain": [
       "<rich.jupyter.JupyterRenderable at 0x7f740be8edf0>"
      ]
     },
     "metadata": {},
     "output_type": "display_data"
    },
    {
     "data": {
      "text/html": [
       "<pre style=\"white-space:pre;overflow-x:auto;line-height:normal;font-family:Menlo,'DejaVu Sans Mono',consolas,'Courier New',monospace\"><span style=\"color: #7fbfbf\">[17:47:53] </span><span style=\"color: #000080\">INFO</span>     Sending metric for task train, round number <span style=\"color: #000080; font-weight: bold\">3</span>: soft_dice_loss   <span style=\"color: #000080; font-weight: bold\">0.5735182762145996</span>                                       <a href=\"file:///home/itrushkin/.virtualenvs/openfl_research/lib/python3.8/site-packages/openfl/component/collaborator/collaborator.py\"><span style=\"color: #7f7f7f\">collaborator.py</span></a><span style=\"color: #7f7f7f\">:365</span>\n",
       "</pre>\n"
      ],
      "text/plain": [
       "<rich.jupyter.JupyterRenderable at 0x7f740bf76e80>"
      ]
     },
     "metadata": {},
     "output_type": "display_data"
    },
    {
     "data": {
      "text/html": [
       "<pre style=\"white-space:pre;overflow-x:auto;line-height:normal;font-family:Menlo,'DejaVu Sans Mono',consolas,'Courier New',monospace\"><span style=\"color: #7fbfbf\">           </span><span style=\"color: #000080\">INFO</span>     Collaborator two is sending task results for train, round <span style=\"color: #000080; font-weight: bold\">3</span>                                                                <a href=\"file:///home/itrushkin/.virtualenvs/openfl_research/lib/python3.8/site-packages/openfl/component/aggregator/aggregator.py\"><span style=\"color: #7f7f7f\">aggregator.py</span></a><span style=\"color: #7f7f7f\">:428</span>\n",
       "</pre>\n"
      ],
      "text/plain": [
       "<rich.jupyter.JupyterRenderable at 0x7f740bf76820>"
      ]
     },
     "metadata": {},
     "output_type": "display_data"
    },
    {
     "data": {
      "text/html": [
       "<pre style=\"white-space:pre;overflow-x:auto;line-height:normal;font-family:Menlo,'DejaVu Sans Mono',consolas,'Courier New',monospace\"><span style=\"color: #7fbfbf\">[17:47:56] </span><span style=\"color: #000080\">INFO</span>     Sending metric for task locally_tuned_model_validation, round number <span style=\"color: #000080; font-weight: bold\">3</span>: dice_coef       <span style=\"color: #000080; font-weight: bold\">0.3892689275164758</span>               <a href=\"file:///home/itrushkin/.virtualenvs/openfl_research/lib/python3.8/site-packages/openfl/component/collaborator/collaborator.py\"><span style=\"color: #7f7f7f\">collaborator.py</span></a><span style=\"color: #7f7f7f\">:365</span>\n",
       "</pre>\n"
      ],
      "text/plain": [
       "<rich.jupyter.JupyterRenderable at 0x7f740be80340>"
      ]
     },
     "metadata": {},
     "output_type": "display_data"
    },
    {
     "data": {
      "text/html": [
       "<pre style=\"white-space:pre;overflow-x:auto;line-height:normal;font-family:Menlo,'DejaVu Sans Mono',consolas,'Courier New',monospace\"><span style=\"color: #7fbfbf\">           </span><span style=\"color: #000080\">INFO</span>     Collaborator two is sending task results for locally_tuned_model_validation, round <span style=\"color: #000080; font-weight: bold\">3</span>                                       <a href=\"file:///home/itrushkin/.virtualenvs/openfl_research/lib/python3.8/site-packages/openfl/component/aggregator/aggregator.py\"><span style=\"color: #7f7f7f\">aggregator.py</span></a><span style=\"color: #7f7f7f\">:428</span>\n",
       "</pre>\n"
      ],
      "text/plain": [
       "<rich.jupyter.JupyterRenderable at 0x7f740be80190>"
      ]
     },
     "metadata": {},
     "output_type": "display_data"
    },
    {
     "data": {
      "text/html": [
       "<pre style=\"white-space:pre;overflow-x:auto;line-height:normal;font-family:Menlo,'DejaVu Sans Mono',consolas,'Courier New',monospace\"><span style=\"color: #7fbfbf\">           </span><span style=\"color: #000080\">INFO</span>     train task metrics<span style=\"color: #808000\">...</span>                                                                                                      <a href=\"file:///home/itrushkin/.virtualenvs/openfl_research/lib/python3.8/site-packages/openfl/component/aggregator/aggregator.py\"><span style=\"color: #7f7f7f\">aggregator.py</span></a><span style=\"color: #7f7f7f\">:694</span>\n",
       "</pre>\n"
      ],
      "text/plain": [
       "<rich.jupyter.JupyterRenderable at 0x7f740be800d0>"
      ]
     },
     "metadata": {},
     "output_type": "display_data"
    },
    {
     "data": {
      "text/html": [
       "<pre style=\"white-space:pre;overflow-x:auto;line-height:normal;font-family:Menlo,'DejaVu Sans Mono',consolas,'Courier New',monospace\"><span style=\"color: #7fbfbf\">           </span><span style=\"color: #000080\">INFO</span>     soft_dice_loss: <span style=\"color: #000080; font-weight: bold\">0.5785</span>                                                                                                     <a href=\"file:///home/itrushkin/.virtualenvs/openfl_research/lib/python3.8/site-packages/openfl/component/aggregator/aggregator.py\"><span style=\"color: #7f7f7f\">aggregator.py</span></a><span style=\"color: #7f7f7f\">:742</span>\n",
       "</pre>\n"
      ],
      "text/plain": [
       "<rich.jupyter.JupyterRenderable at 0x7f740be801c0>"
      ]
     },
     "metadata": {},
     "output_type": "display_data"
    },
    {
     "data": {
      "text/html": [
       "<pre style=\"white-space:pre;overflow-x:auto;line-height:normal;font-family:Menlo,'DejaVu Sans Mono',consolas,'Courier New',monospace\"><span style=\"color: #7fbfbf\">[17:48:02] </span><span style=\"color: #000080\">INFO</span>     locally_tuned_model_validation task metrics<span style=\"color: #808000\">...</span>                                                                             <a href=\"file:///home/itrushkin/.virtualenvs/openfl_research/lib/python3.8/site-packages/openfl/component/aggregator/aggregator.py\"><span style=\"color: #7f7f7f\">aggregator.py</span></a><span style=\"color: #7f7f7f\">:694</span>\n",
       "</pre>\n"
      ],
      "text/plain": [
       "<rich.jupyter.JupyterRenderable at 0x7f740bfff7f0>"
      ]
     },
     "metadata": {},
     "output_type": "display_data"
    },
    {
     "data": {
      "text/html": [
       "<pre style=\"white-space:pre;overflow-x:auto;line-height:normal;font-family:Menlo,'DejaVu Sans Mono',consolas,'Courier New',monospace\"><span style=\"color: #7fbfbf\">           </span><span style=\"color: #000080\">INFO</span>     dice_coef:      <span style=\"color: #000080; font-weight: bold\">0.4227</span>                                                                                                     <a href=\"file:///home/itrushkin/.virtualenvs/openfl_research/lib/python3.8/site-packages/openfl/component/aggregator/aggregator.py\"><span style=\"color: #7f7f7f\">aggregator.py</span></a><span style=\"color: #7f7f7f\">:742</span>\n",
       "</pre>\n"
      ],
      "text/plain": [
       "<rich.jupyter.JupyterRenderable at 0x7f740bfff730>"
      ]
     },
     "metadata": {},
     "output_type": "display_data"
    },
    {
     "data": {
      "text/html": [
       "<pre style=\"white-space:pre;overflow-x:auto;line-height:normal;font-family:Menlo,'DejaVu Sans Mono',consolas,'Courier New',monospace\"><span style=\"color: #7fbfbf\">           </span><span style=\"color: #000080\">INFO</span>     aggregated_model_validation task metrics<span style=\"color: #808000\">...</span>                                                                                <a href=\"file:///home/itrushkin/.virtualenvs/openfl_research/lib/python3.8/site-packages/openfl/component/aggregator/aggregator.py\"><span style=\"color: #7f7f7f\">aggregator.py</span></a><span style=\"color: #7f7f7f\">:694</span>\n",
       "</pre>\n"
      ],
      "text/plain": [
       "<rich.jupyter.JupyterRenderable at 0x7f740bf2d340>"
      ]
     },
     "metadata": {},
     "output_type": "display_data"
    },
    {
     "data": {
      "text/html": [
       "<pre style=\"white-space:pre;overflow-x:auto;line-height:normal;font-family:Menlo,'DejaVu Sans Mono',consolas,'Courier New',monospace\"><span style=\"color: #7fbfbf\">           </span><span style=\"color: #000080\">INFO</span>     dice_coef:      <span style=\"color: #000080; font-weight: bold\">0.4002</span>                                                                                                     <a href=\"file:///home/itrushkin/.virtualenvs/openfl_research/lib/python3.8/site-packages/openfl/component/aggregator/aggregator.py\"><span style=\"color: #7f7f7f\">aggregator.py</span></a><span style=\"color: #7f7f7f\">:742</span>\n",
       "</pre>\n"
      ],
      "text/plain": [
       "<rich.jupyter.JupyterRenderable at 0x7f740bf2d6d0>"
      ]
     },
     "metadata": {},
     "output_type": "display_data"
    },
    {
     "data": {
      "text/html": [
       "<pre style=\"white-space:pre;overflow-x:auto;line-height:normal;font-family:Menlo,'DejaVu Sans Mono',consolas,'Courier New',monospace\"><span style=\"color: #7fbfbf\">           </span><span style=\"color: #000080\">INFO</span>     Saved the best model with score <span style=\"color: #000080; font-weight: bold\">0.400187</span>                                                                                   <a href=\"file:///home/itrushkin/.virtualenvs/openfl_research/lib/python3.8/site-packages/openfl/component/aggregator/aggregator.py\"><span style=\"color: #7f7f7f\">aggregator.py</span></a><span style=\"color: #7f7f7f\">:749</span>\n",
       "</pre>\n"
      ],
      "text/plain": [
       "<rich.jupyter.JupyterRenderable at 0x7f740bfff0a0>"
      ]
     },
     "metadata": {},
     "output_type": "display_data"
    },
    {
     "data": {
      "text/html": [
       "<pre style=\"white-space:pre;overflow-x:auto;line-height:normal;font-family:Menlo,'DejaVu Sans Mono',consolas,'Courier New',monospace\"><span style=\"color: #7fbfbf\">           </span><span style=\"color: #000080\">INFO</span>     Saving round <span style=\"color: #000080; font-weight: bold\">4</span> model<span style=\"color: #808000\">...</span>                                                                                                    <a href=\"file:///home/itrushkin/.virtualenvs/openfl_research/lib/python3.8/site-packages/openfl/component/aggregator/aggregator.py\"><span style=\"color: #7f7f7f\">aggregator.py</span></a><span style=\"color: #7f7f7f\">:783</span>\n",
       "</pre>\n"
      ],
      "text/plain": [
       "<rich.jupyter.JupyterRenderable at 0x7f7420029640>"
      ]
     },
     "metadata": {},
     "output_type": "display_data"
    },
    {
     "data": {
      "text/html": [
       "<pre style=\"white-space:pre;overflow-x:auto;line-height:normal;font-family:Menlo,'DejaVu Sans Mono',consolas,'Courier New',monospace\"><span style=\"color: #7fbfbf\">[17:48:03] </span><span style=\"color: #000080\">INFO</span>     Starting round <span style=\"color: #000080; font-weight: bold\">4</span><span style=\"color: #808000\">...</span>                                                                                                        <a href=\"file:///home/itrushkin/.virtualenvs/openfl_research/lib/python3.8/site-packages/openfl/component/aggregator/aggregator.py\"><span style=\"color: #7f7f7f\">aggregator.py</span></a><span style=\"color: #7f7f7f\">:791</span>\n",
       "</pre>\n"
      ],
      "text/plain": [
       "<rich.jupyter.JupyterRenderable at 0x7f740be80580>"
      ]
     },
     "metadata": {},
     "output_type": "display_data"
    },
    {
     "data": {
      "text/html": [
       "<pre style=\"white-space:pre;overflow-x:auto;line-height:normal;font-family:Menlo,'DejaVu Sans Mono',consolas,'Courier New',monospace\"><span style=\"color: #7fbfbf\">           </span><span style=\"color: #000080\">INFO</span>     All tasks completed on two for round <span style=\"color: #000080; font-weight: bold\">3</span><span style=\"color: #808000\">...</span>                                                                                <a href=\"file:///home/itrushkin/.virtualenvs/openfl_research/lib/python3.8/site-packages/openfl/component/collaborator/collaborator.py\"><span style=\"color: #7f7f7f\">collaborator.py</span></a><span style=\"color: #7f7f7f\">:148</span>\n",
       "</pre>\n"
      ],
      "text/plain": [
       "<rich.jupyter.JupyterRenderable at 0x7f740bf060d0>"
      ]
     },
     "metadata": {},
     "output_type": "display_data"
    },
    {
     "data": {
      "text/html": [
       "<pre style=\"white-space:pre;overflow-x:auto;line-height:normal;font-family:Menlo,'DejaVu Sans Mono',consolas,'Courier New',monospace\"><span style=\"color: #7fbfbf\">           </span><span style=\"color: #000080\">INFO</span>     Waiting for tasks<span style=\"color: #808000\">...</span>                                                                                                     <a href=\"file:///home/itrushkin/.virtualenvs/openfl_research/lib/python3.8/site-packages/openfl/component/collaborator/collaborator.py\"><span style=\"color: #7f7f7f\">collaborator.py</span></a><span style=\"color: #7f7f7f\">:156</span>\n",
       "</pre>\n"
      ],
      "text/plain": [
       "<rich.jupyter.JupyterRenderable at 0x7f7490c9e9a0>"
      ]
     },
     "metadata": {},
     "output_type": "display_data"
    },
    {
     "data": {
      "text/html": [
       "<pre style=\"white-space:pre;overflow-x:auto;line-height:normal;font-family:Menlo,'DejaVu Sans Mono',consolas,'Courier New',monospace\"><span style=\"color: #7fbfbf\">           </span><span style=\"color: #000080\">INFO</span>     Sending tasks to collaborator one for round <span style=\"color: #000080; font-weight: bold\">4</span>                                                                              <a href=\"file:///home/itrushkin/.virtualenvs/openfl_research/lib/python3.8/site-packages/openfl/component/aggregator/aggregator.py\"><span style=\"color: #7f7f7f\">aggregator.py</span></a><span style=\"color: #7f7f7f\">:276</span>\n",
       "</pre>\n"
      ],
      "text/plain": [
       "<rich.jupyter.JupyterRenderable at 0x7f740bf060d0>"
      ]
     },
     "metadata": {},
     "output_type": "display_data"
    },
    {
     "data": {
      "text/html": [
       "<pre style=\"white-space:pre;overflow-x:auto;line-height:normal;font-family:Menlo,'DejaVu Sans Mono',consolas,'Courier New',monospace\"><span style=\"color: #7fbfbf\">           </span><span style=\"color: #000080\">INFO</span>     Received the following tasks: <span style=\"font-weight: bold\">[</span><span style=\"color: #008000\">'aggregated_model_validation'</span>, <span style=\"color: #008000\">'train'</span>, <span style=\"color: #008000\">'locally_tuned_model_validation'</span><span style=\"font-weight: bold\">]</span>                 <a href=\"file:///home/itrushkin/.virtualenvs/openfl_research/lib/python3.8/site-packages/openfl/component/collaborator/collaborator.py\"><span style=\"color: #7f7f7f\">collaborator.py</span></a><span style=\"color: #7f7f7f\">:144</span>\n",
       "</pre>\n"
      ],
      "text/plain": [
       "<rich.jupyter.JupyterRenderable at 0x7f7490c9e9a0>"
      ]
     },
     "metadata": {},
     "output_type": "display_data"
    },
    {
     "data": {
      "text/html": [
       "<pre style=\"white-space:pre;overflow-x:auto;line-height:normal;font-family:Menlo,'DejaVu Sans Mono',consolas,'Courier New',monospace\"><span style=\"color: #7fbfbf\">[17:48:05] </span><span style=\"color: #000080\">INFO</span>     Sending metric for task aggregated_model_validation, round number <span style=\"color: #000080; font-weight: bold\">4</span>: dice_coef  <span style=\"color: #000080; font-weight: bold\">0.4355728107113992</span>                       <a href=\"file:///home/itrushkin/.virtualenvs/openfl_research/lib/python3.8/site-packages/openfl/component/collaborator/collaborator.py\"><span style=\"color: #7f7f7f\">collaborator.py</span></a><span style=\"color: #7f7f7f\">:365</span>\n",
       "</pre>\n"
      ],
      "text/plain": [
       "<rich.jupyter.JupyterRenderable at 0x7f742003fa00>"
      ]
     },
     "metadata": {},
     "output_type": "display_data"
    },
    {
     "data": {
      "text/html": [
       "<pre style=\"white-space:pre;overflow-x:auto;line-height:normal;font-family:Menlo,'DejaVu Sans Mono',consolas,'Courier New',monospace\"><span style=\"color: #7fbfbf\">           </span><span style=\"color: #000080\">INFO</span>     Collaborator one is sending task results for aggregated_model_validation, round <span style=\"color: #000080; font-weight: bold\">4</span>                                          <a href=\"file:///home/itrushkin/.virtualenvs/openfl_research/lib/python3.8/site-packages/openfl/component/aggregator/aggregator.py\"><span style=\"color: #7f7f7f\">aggregator.py</span></a><span style=\"color: #7f7f7f\">:428</span>\n",
       "</pre>\n"
      ],
      "text/plain": [
       "<rich.jupyter.JupyterRenderable at 0x7f742003f730>"
      ]
     },
     "metadata": {},
     "output_type": "display_data"
    },
    {
     "data": {
      "text/html": [
       "<pre style=\"white-space:pre;overflow-x:auto;line-height:normal;font-family:Menlo,'DejaVu Sans Mono',consolas,'Courier New',monospace\"><span style=\"color: #7fbfbf\">[17:48:26] </span><span style=\"color: #000080\">INFO</span>     Sending metric for task train, round number <span style=\"color: #000080; font-weight: bold\">4</span>: soft_dice_loss   <span style=\"color: #000080; font-weight: bold\">0.5637962222099304</span>                                       <a href=\"file:///home/itrushkin/.virtualenvs/openfl_research/lib/python3.8/site-packages/openfl/component/collaborator/collaborator.py\"><span style=\"color: #7f7f7f\">collaborator.py</span></a><span style=\"color: #7f7f7f\">:365</span>\n",
       "</pre>\n"
      ],
      "text/plain": [
       "<rich.jupyter.JupyterRenderable at 0x7f740bf76a60>"
      ]
     },
     "metadata": {},
     "output_type": "display_data"
    },
    {
     "data": {
      "text/html": [
       "<pre style=\"white-space:pre;overflow-x:auto;line-height:normal;font-family:Menlo,'DejaVu Sans Mono',consolas,'Courier New',monospace\"><span style=\"color: #7fbfbf\">           </span><span style=\"color: #000080\">INFO</span>     Collaborator one is sending task results for train, round <span style=\"color: #000080; font-weight: bold\">4</span>                                                                <a href=\"file:///home/itrushkin/.virtualenvs/openfl_research/lib/python3.8/site-packages/openfl/component/aggregator/aggregator.py\"><span style=\"color: #7f7f7f\">aggregator.py</span></a><span style=\"color: #7f7f7f\">:428</span>\n",
       "</pre>\n"
      ],
      "text/plain": [
       "<rich.jupyter.JupyterRenderable at 0x7f740bdb93a0>"
      ]
     },
     "metadata": {},
     "output_type": "display_data"
    },
    {
     "data": {
      "text/html": [
       "<pre style=\"white-space:pre;overflow-x:auto;line-height:normal;font-family:Menlo,'DejaVu Sans Mono',consolas,'Courier New',monospace\"><span style=\"color: #7fbfbf\">[17:48:29] </span><span style=\"color: #000080\">INFO</span>     Sending metric for task locally_tuned_model_validation, round number <span style=\"color: #000080; font-weight: bold\">4</span>: dice_coef       <span style=\"color: #000080; font-weight: bold\">0.46870911505914503</span>              <a href=\"file:///home/itrushkin/.virtualenvs/openfl_research/lib/python3.8/site-packages/openfl/component/collaborator/collaborator.py\"><span style=\"color: #7f7f7f\">collaborator.py</span></a><span style=\"color: #7f7f7f\">:365</span>\n",
       "</pre>\n"
      ],
      "text/plain": [
       "<rich.jupyter.JupyterRenderable at 0x7f740bf06730>"
      ]
     },
     "metadata": {},
     "output_type": "display_data"
    },
    {
     "data": {
      "text/html": [
       "<pre style=\"white-space:pre;overflow-x:auto;line-height:normal;font-family:Menlo,'DejaVu Sans Mono',consolas,'Courier New',monospace\"><span style=\"color: #7fbfbf\">           </span><span style=\"color: #000080\">INFO</span>     Collaborator one is sending task results for locally_tuned_model_validation, round <span style=\"color: #000080; font-weight: bold\">4</span>                                       <a href=\"file:///home/itrushkin/.virtualenvs/openfl_research/lib/python3.8/site-packages/openfl/component/aggregator/aggregator.py\"><span style=\"color: #7f7f7f\">aggregator.py</span></a><span style=\"color: #7f7f7f\">:428</span>\n",
       "</pre>\n"
      ],
      "text/plain": [
       "<rich.jupyter.JupyterRenderable at 0x7f7420015730>"
      ]
     },
     "metadata": {},
     "output_type": "display_data"
    },
    {
     "data": {
      "text/html": [
       "<pre style=\"white-space:pre;overflow-x:auto;line-height:normal;font-family:Menlo,'DejaVu Sans Mono',consolas,'Courier New',monospace\"><span style=\"color: #7fbfbf\">           </span><span style=\"color: #000080\">INFO</span>     All tasks completed on one for round <span style=\"color: #000080; font-weight: bold\">4</span><span style=\"color: #808000\">...</span>                                                                                <a href=\"file:///home/itrushkin/.virtualenvs/openfl_research/lib/python3.8/site-packages/openfl/component/collaborator/collaborator.py\"><span style=\"color: #7f7f7f\">collaborator.py</span></a><span style=\"color: #7f7f7f\">:148</span>\n",
       "</pre>\n"
      ],
      "text/plain": [
       "<rich.jupyter.JupyterRenderable at 0x7f740bf06730>"
      ]
     },
     "metadata": {},
     "output_type": "display_data"
    },
    {
     "data": {
      "text/html": [
       "<pre style=\"white-space:pre;overflow-x:auto;line-height:normal;font-family:Menlo,'DejaVu Sans Mono',consolas,'Courier New',monospace\"><span style=\"color: #7fbfbf\">           </span><span style=\"color: #000080\">INFO</span>     Waiting for tasks<span style=\"color: #808000\">...</span>                                                                                                     <a href=\"file:///home/itrushkin/.virtualenvs/openfl_research/lib/python3.8/site-packages/openfl/component/collaborator/collaborator.py\"><span style=\"color: #7f7f7f\">collaborator.py</span></a><span style=\"color: #7f7f7f\">:156</span>\n",
       "</pre>\n"
      ],
      "text/plain": [
       "<rich.jupyter.JupyterRenderable at 0x7f740bf15f70>"
      ]
     },
     "metadata": {},
     "output_type": "display_data"
    },
    {
     "data": {
      "text/html": [
       "<pre style=\"white-space:pre;overflow-x:auto;line-height:normal;font-family:Menlo,'DejaVu Sans Mono',consolas,'Courier New',monospace\"><span style=\"color: #7fbfbf\">           </span><span style=\"color: #000080\">INFO</span>     Sending tasks to collaborator two for round <span style=\"color: #000080; font-weight: bold\">4</span>                                                                              <a href=\"file:///home/itrushkin/.virtualenvs/openfl_research/lib/python3.8/site-packages/openfl/component/aggregator/aggregator.py\"><span style=\"color: #7f7f7f\">aggregator.py</span></a><span style=\"color: #7f7f7f\">:276</span>\n",
       "</pre>\n"
      ],
      "text/plain": [
       "<rich.jupyter.JupyterRenderable at 0x7f740bfffc70>"
      ]
     },
     "metadata": {},
     "output_type": "display_data"
    },
    {
     "data": {
      "text/html": [
       "<pre style=\"white-space:pre;overflow-x:auto;line-height:normal;font-family:Menlo,'DejaVu Sans Mono',consolas,'Courier New',monospace\"><span style=\"color: #7fbfbf\">           </span><span style=\"color: #000080\">INFO</span>     Received the following tasks: <span style=\"font-weight: bold\">[</span><span style=\"color: #008000\">'aggregated_model_validation'</span>, <span style=\"color: #008000\">'train'</span>, <span style=\"color: #008000\">'locally_tuned_model_validation'</span><span style=\"font-weight: bold\">]</span>                 <a href=\"file:///home/itrushkin/.virtualenvs/openfl_research/lib/python3.8/site-packages/openfl/component/collaborator/collaborator.py\"><span style=\"color: #7f7f7f\">collaborator.py</span></a><span style=\"color: #7f7f7f\">:144</span>\n",
       "</pre>\n"
      ],
      "text/plain": [
       "<rich.jupyter.JupyterRenderable at 0x7f740bf154f0>"
      ]
     },
     "metadata": {},
     "output_type": "display_data"
    },
    {
     "data": {
      "text/html": [
       "<pre style=\"white-space:pre;overflow-x:auto;line-height:normal;font-family:Menlo,'DejaVu Sans Mono',consolas,'Courier New',monospace\"><span style=\"color: #7fbfbf\">[17:48:31] </span><span style=\"color: #000080\">INFO</span>     Sending metric for task aggregated_model_validation, round number <span style=\"color: #000080; font-weight: bold\">4</span>: dice_coef  <span style=\"color: #000080; font-weight: bold\">0.37851148987970046</span>                      <a href=\"file:///home/itrushkin/.virtualenvs/openfl_research/lib/python3.8/site-packages/openfl/component/collaborator/collaborator.py\"><span style=\"color: #7f7f7f\">collaborator.py</span></a><span style=\"color: #7f7f7f\">:365</span>\n",
       "</pre>\n"
      ],
      "text/plain": [
       "<rich.jupyter.JupyterRenderable at 0x7f740be2fb50>"
      ]
     },
     "metadata": {},
     "output_type": "display_data"
    },
    {
     "data": {
      "text/html": [
       "<pre style=\"white-space:pre;overflow-x:auto;line-height:normal;font-family:Menlo,'DejaVu Sans Mono',consolas,'Courier New',monospace\"><span style=\"color: #7fbfbf\">           </span><span style=\"color: #000080\">INFO</span>     Collaborator two is sending task results for aggregated_model_validation, round <span style=\"color: #000080; font-weight: bold\">4</span>                                          <a href=\"file:///home/itrushkin/.virtualenvs/openfl_research/lib/python3.8/site-packages/openfl/component/aggregator/aggregator.py\"><span style=\"color: #7f7f7f\">aggregator.py</span></a><span style=\"color: #7f7f7f\">:428</span>\n",
       "</pre>\n"
      ],
      "text/plain": [
       "<rich.jupyter.JupyterRenderable at 0x7f740be2fbb0>"
      ]
     },
     "metadata": {},
     "output_type": "display_data"
    },
    {
     "data": {
      "text/html": [
       "<pre style=\"white-space:pre;overflow-x:auto;line-height:normal;font-family:Menlo,'DejaVu Sans Mono',consolas,'Courier New',monospace\"><span style=\"color: #7fbfbf\">[17:48:52] </span><span style=\"color: #000080\">INFO</span>     Sending metric for task train, round number <span style=\"color: #000080; font-weight: bold\">4</span>: soft_dice_loss   <span style=\"color: #000080; font-weight: bold\">0.5667974948883057</span>                                       <a href=\"file:///home/itrushkin/.virtualenvs/openfl_research/lib/python3.8/site-packages/openfl/component/collaborator/collaborator.py\"><span style=\"color: #7f7f7f\">collaborator.py</span></a><span style=\"color: #7f7f7f\">:365</span>\n",
       "</pre>\n"
      ],
      "text/plain": [
       "<rich.jupyter.JupyterRenderable at 0x7f742002cd60>"
      ]
     },
     "metadata": {},
     "output_type": "display_data"
    },
    {
     "data": {
      "text/html": [
       "<pre style=\"white-space:pre;overflow-x:auto;line-height:normal;font-family:Menlo,'DejaVu Sans Mono',consolas,'Courier New',monospace\"><span style=\"color: #7fbfbf\">           </span><span style=\"color: #000080\">INFO</span>     Collaborator two is sending task results for train, round <span style=\"color: #000080; font-weight: bold\">4</span>                                                                <a href=\"file:///home/itrushkin/.virtualenvs/openfl_research/lib/python3.8/site-packages/openfl/component/aggregator/aggregator.py\"><span style=\"color: #7f7f7f\">aggregator.py</span></a><span style=\"color: #7f7f7f\">:428</span>\n",
       "</pre>\n"
      ],
      "text/plain": [
       "<rich.jupyter.JupyterRenderable at 0x7f740bdb93a0>"
      ]
     },
     "metadata": {},
     "output_type": "display_data"
    },
    {
     "data": {
      "text/html": [
       "<pre style=\"white-space:pre;overflow-x:auto;line-height:normal;font-family:Menlo,'DejaVu Sans Mono',consolas,'Courier New',monospace\"><span style=\"color: #7fbfbf\">[17:48:55] </span><span style=\"color: #000080\">INFO</span>     Sending metric for task locally_tuned_model_validation, round number <span style=\"color: #000080; font-weight: bold\">4</span>: dice_coef       <span style=\"color: #000080; font-weight: bold\">0.3846700369350372</span>               <a href=\"file:///home/itrushkin/.virtualenvs/openfl_research/lib/python3.8/site-packages/openfl/component/collaborator/collaborator.py\"><span style=\"color: #7f7f7f\">collaborator.py</span></a><span style=\"color: #7f7f7f\">:365</span>\n",
       "</pre>\n"
      ],
      "text/plain": [
       "<rich.jupyter.JupyterRenderable at 0x7f740be2f4f0>"
      ]
     },
     "metadata": {},
     "output_type": "display_data"
    },
    {
     "data": {
      "text/html": [
       "<pre style=\"white-space:pre;overflow-x:auto;line-height:normal;font-family:Menlo,'DejaVu Sans Mono',consolas,'Courier New',monospace\"><span style=\"color: #7fbfbf\">           </span><span style=\"color: #000080\">INFO</span>     Collaborator two is sending task results for locally_tuned_model_validation, round <span style=\"color: #000080; font-weight: bold\">4</span>                                       <a href=\"file:///home/itrushkin/.virtualenvs/openfl_research/lib/python3.8/site-packages/openfl/component/aggregator/aggregator.py\"><span style=\"color: #7f7f7f\">aggregator.py</span></a><span style=\"color: #7f7f7f\">:428</span>\n",
       "</pre>\n"
      ],
      "text/plain": [
       "<rich.jupyter.JupyterRenderable at 0x7f740bf624c0>"
      ]
     },
     "metadata": {},
     "output_type": "display_data"
    },
    {
     "data": {
      "text/html": [
       "<pre style=\"white-space:pre;overflow-x:auto;line-height:normal;font-family:Menlo,'DejaVu Sans Mono',consolas,'Courier New',monospace\"><span style=\"color: #7fbfbf\">           </span><span style=\"color: #000080\">INFO</span>     train task metrics<span style=\"color: #808000\">...</span>                                                                                                      <a href=\"file:///home/itrushkin/.virtualenvs/openfl_research/lib/python3.8/site-packages/openfl/component/aggregator/aggregator.py\"><span style=\"color: #7f7f7f\">aggregator.py</span></a><span style=\"color: #7f7f7f\">:694</span>\n",
       "</pre>\n"
      ],
      "text/plain": [
       "<rich.jupyter.JupyterRenderable at 0x7f740bfe3190>"
      ]
     },
     "metadata": {},
     "output_type": "display_data"
    },
    {
     "data": {
      "text/html": [
       "<pre style=\"white-space:pre;overflow-x:auto;line-height:normal;font-family:Menlo,'DejaVu Sans Mono',consolas,'Courier New',monospace\"><span style=\"color: #7fbfbf\">           </span><span style=\"color: #000080\">INFO</span>     soft_dice_loss: <span style=\"color: #000080; font-weight: bold\">0.5653</span>                                                                                                     <a href=\"file:///home/itrushkin/.virtualenvs/openfl_research/lib/python3.8/site-packages/openfl/component/aggregator/aggregator.py\"><span style=\"color: #7f7f7f\">aggregator.py</span></a><span style=\"color: #7f7f7f\">:742</span>\n",
       "</pre>\n"
      ],
      "text/plain": [
       "<rich.jupyter.JupyterRenderable at 0x7f742003f400>"
      ]
     },
     "metadata": {},
     "output_type": "display_data"
    },
    {
     "data": {
      "text/html": [
       "<pre style=\"white-space:pre;overflow-x:auto;line-height:normal;font-family:Menlo,'DejaVu Sans Mono',consolas,'Courier New',monospace\"><span style=\"color: #7fbfbf\">[17:49:01] </span><span style=\"color: #000080\">INFO</span>     locally_tuned_model_validation task metrics<span style=\"color: #808000\">...</span>                                                                             <a href=\"file:///home/itrushkin/.virtualenvs/openfl_research/lib/python3.8/site-packages/openfl/component/aggregator/aggregator.py\"><span style=\"color: #7f7f7f\">aggregator.py</span></a><span style=\"color: #7f7f7f\">:694</span>\n",
       "</pre>\n"
      ],
      "text/plain": [
       "<rich.jupyter.JupyterRenderable at 0x7f740bd5c610>"
      ]
     },
     "metadata": {},
     "output_type": "display_data"
    },
    {
     "data": {
      "text/html": [
       "<pre style=\"white-space:pre;overflow-x:auto;line-height:normal;font-family:Menlo,'DejaVu Sans Mono',consolas,'Courier New',monospace\"><span style=\"color: #7fbfbf\">           </span><span style=\"color: #000080\">INFO</span>     dice_coef:      <span style=\"color: #000080; font-weight: bold\">0.4267</span>                                                                                                     <a href=\"file:///home/itrushkin/.virtualenvs/openfl_research/lib/python3.8/site-packages/openfl/component/aggregator/aggregator.py\"><span style=\"color: #7f7f7f\">aggregator.py</span></a><span style=\"color: #7f7f7f\">:742</span>\n",
       "</pre>\n"
      ],
      "text/plain": [
       "<rich.jupyter.JupyterRenderable at 0x7f740bf14970>"
      ]
     },
     "metadata": {},
     "output_type": "display_data"
    },
    {
     "data": {
      "text/html": [
       "<pre style=\"white-space:pre;overflow-x:auto;line-height:normal;font-family:Menlo,'DejaVu Sans Mono',consolas,'Courier New',monospace\"><span style=\"color: #7fbfbf\">           </span><span style=\"color: #000080\">INFO</span>     aggregated_model_validation task metrics<span style=\"color: #808000\">...</span>                                                                                <a href=\"file:///home/itrushkin/.virtualenvs/openfl_research/lib/python3.8/site-packages/openfl/component/aggregator/aggregator.py\"><span style=\"color: #7f7f7f\">aggregator.py</span></a><span style=\"color: #7f7f7f\">:694</span>\n",
       "</pre>\n"
      ],
      "text/plain": [
       "<rich.jupyter.JupyterRenderable at 0x7f740bf144f0>"
      ]
     },
     "metadata": {},
     "output_type": "display_data"
    },
    {
     "data": {
      "text/html": [
       "<pre style=\"white-space:pre;overflow-x:auto;line-height:normal;font-family:Menlo,'DejaVu Sans Mono',consolas,'Courier New',monospace\"><span style=\"color: #7fbfbf\">           </span><span style=\"color: #000080\">INFO</span>     dice_coef:      <span style=\"color: #000080; font-weight: bold\">0.4070</span>                                                                                                     <a href=\"file:///home/itrushkin/.virtualenvs/openfl_research/lib/python3.8/site-packages/openfl/component/aggregator/aggregator.py\"><span style=\"color: #7f7f7f\">aggregator.py</span></a><span style=\"color: #7f7f7f\">:742</span>\n",
       "</pre>\n"
      ],
      "text/plain": [
       "<rich.jupyter.JupyterRenderable at 0x7f740bd2e190>"
      ]
     },
     "metadata": {},
     "output_type": "display_data"
    },
    {
     "data": {
      "text/html": [
       "<pre style=\"white-space:pre;overflow-x:auto;line-height:normal;font-family:Menlo,'DejaVu Sans Mono',consolas,'Courier New',monospace\"><span style=\"color: #7fbfbf\">           </span><span style=\"color: #000080\">INFO</span>     Saved the best model with score <span style=\"color: #000080; font-weight: bold\">0.407042</span>                                                                                   <a href=\"file:///home/itrushkin/.virtualenvs/openfl_research/lib/python3.8/site-packages/openfl/component/aggregator/aggregator.py\"><span style=\"color: #7f7f7f\">aggregator.py</span></a><span style=\"color: #7f7f7f\">:749</span>\n",
       "</pre>\n"
      ],
      "text/plain": [
       "<rich.jupyter.JupyterRenderable at 0x7f740bf2ad00>"
      ]
     },
     "metadata": {},
     "output_type": "display_data"
    },
    {
     "data": {
      "text/html": [
       "<pre style=\"white-space:pre;overflow-x:auto;line-height:normal;font-family:Menlo,'DejaVu Sans Mono',consolas,'Courier New',monospace\"><span style=\"color: #7fbfbf\">           </span><span style=\"color: #000080\">INFO</span>     Saving round <span style=\"color: #000080; font-weight: bold\">5</span> model<span style=\"color: #808000\">...</span>                                                                                                    <a href=\"file:///home/itrushkin/.virtualenvs/openfl_research/lib/python3.8/site-packages/openfl/component/aggregator/aggregator.py\"><span style=\"color: #7f7f7f\">aggregator.py</span></a><span style=\"color: #7f7f7f\">:783</span>\n",
       "</pre>\n"
      ],
      "text/plain": [
       "<rich.jupyter.JupyterRenderable at 0x7f740bd94970>"
      ]
     },
     "metadata": {},
     "output_type": "display_data"
    },
    {
     "data": {
      "text/html": [
       "<pre style=\"white-space:pre;overflow-x:auto;line-height:normal;font-family:Menlo,'DejaVu Sans Mono',consolas,'Courier New',monospace\"><span style=\"color: #7fbfbf\">[17:49:02] </span><span style=\"color: #000080\">INFO</span>     Starting round <span style=\"color: #000080; font-weight: bold\">5</span><span style=\"color: #808000\">...</span>                                                                                                        <a href=\"file:///home/itrushkin/.virtualenvs/openfl_research/lib/python3.8/site-packages/openfl/component/aggregator/aggregator.py\"><span style=\"color: #7f7f7f\">aggregator.py</span></a><span style=\"color: #7f7f7f\">:791</span>\n",
       "</pre>\n"
      ],
      "text/plain": [
       "<rich.jupyter.JupyterRenderable at 0x7f740bf15640>"
      ]
     },
     "metadata": {},
     "output_type": "display_data"
    },
    {
     "data": {
      "text/html": [
       "<pre style=\"white-space:pre;overflow-x:auto;line-height:normal;font-family:Menlo,'DejaVu Sans Mono',consolas,'Courier New',monospace\"><span style=\"color: #7fbfbf\">           </span><span style=\"color: #000080\">INFO</span>     All tasks completed on two for round <span style=\"color: #000080; font-weight: bold\">4</span><span style=\"color: #808000\">...</span>                                                                                <a href=\"file:///home/itrushkin/.virtualenvs/openfl_research/lib/python3.8/site-packages/openfl/component/collaborator/collaborator.py\"><span style=\"color: #7f7f7f\">collaborator.py</span></a><span style=\"color: #7f7f7f\">:148</span>\n",
       "</pre>\n"
      ],
      "text/plain": [
       "<rich.jupyter.JupyterRenderable at 0x7f740bd9e640>"
      ]
     },
     "metadata": {},
     "output_type": "display_data"
    },
    {
     "data": {
      "text/html": [
       "<pre style=\"white-space:pre;overflow-x:auto;line-height:normal;font-family:Menlo,'DejaVu Sans Mono',consolas,'Courier New',monospace\"><span style=\"color: #7fbfbf\">           </span><span style=\"color: #000080\">INFO</span>     Waiting for tasks<span style=\"color: #808000\">...</span>                                                                                                     <a href=\"file:///home/itrushkin/.virtualenvs/openfl_research/lib/python3.8/site-packages/openfl/component/collaborator/collaborator.py\"><span style=\"color: #7f7f7f\">collaborator.py</span></a><span style=\"color: #7f7f7f\">:156</span>\n",
       "</pre>\n"
      ],
      "text/plain": [
       "<rich.jupyter.JupyterRenderable at 0x7f7490d3fc70>"
      ]
     },
     "metadata": {},
     "output_type": "display_data"
    },
    {
     "data": {
      "text/html": [
       "<pre style=\"white-space:pre;overflow-x:auto;line-height:normal;font-family:Menlo,'DejaVu Sans Mono',consolas,'Courier New',monospace\"><span style=\"color: #7fbfbf\">           </span><span style=\"color: #000080\">INFO</span>     Sending tasks to collaborator one for round <span style=\"color: #000080; font-weight: bold\">5</span>                                                                              <a href=\"file:///home/itrushkin/.virtualenvs/openfl_research/lib/python3.8/site-packages/openfl/component/aggregator/aggregator.py\"><span style=\"color: #7f7f7f\">aggregator.py</span></a><span style=\"color: #7f7f7f\">:276</span>\n",
       "</pre>\n"
      ],
      "text/plain": [
       "<rich.jupyter.JupyterRenderable at 0x7f740bd9e640>"
      ]
     },
     "metadata": {},
     "output_type": "display_data"
    },
    {
     "data": {
      "text/html": [
       "<pre style=\"white-space:pre;overflow-x:auto;line-height:normal;font-family:Menlo,'DejaVu Sans Mono',consolas,'Courier New',monospace\"><span style=\"color: #7fbfbf\">           </span><span style=\"color: #000080\">INFO</span>     Received the following tasks: <span style=\"font-weight: bold\">[</span><span style=\"color: #008000\">'aggregated_model_validation'</span>, <span style=\"color: #008000\">'train'</span>, <span style=\"color: #008000\">'locally_tuned_model_validation'</span><span style=\"font-weight: bold\">]</span>                 <a href=\"file:///home/itrushkin/.virtualenvs/openfl_research/lib/python3.8/site-packages/openfl/component/collaborator/collaborator.py\"><span style=\"color: #7f7f7f\">collaborator.py</span></a><span style=\"color: #7f7f7f\">:144</span>\n",
       "</pre>\n"
      ],
      "text/plain": [
       "<rich.jupyter.JupyterRenderable at 0x7f742002c6d0>"
      ]
     },
     "metadata": {},
     "output_type": "display_data"
    },
    {
     "data": {
      "text/html": [
       "<pre style=\"white-space:pre;overflow-x:auto;line-height:normal;font-family:Menlo,'DejaVu Sans Mono',consolas,'Courier New',monospace\"><span style=\"color: #7fbfbf\">[17:49:04] </span><span style=\"color: #000080\">INFO</span>     Sending metric for task aggregated_model_validation, round number <span style=\"color: #000080; font-weight: bold\">5</span>: dice_coef  <span style=\"color: #000080; font-weight: bold\">0.4695041198884287</span>                       <a href=\"file:///home/itrushkin/.virtualenvs/openfl_research/lib/python3.8/site-packages/openfl/component/collaborator/collaborator.py\"><span style=\"color: #7f7f7f\">collaborator.py</span></a><span style=\"color: #7f7f7f\">:365</span>\n",
       "</pre>\n"
      ],
      "text/plain": [
       "<rich.jupyter.JupyterRenderable at 0x7f740bf1ab20>"
      ]
     },
     "metadata": {},
     "output_type": "display_data"
    },
    {
     "data": {
      "text/html": [
       "<pre style=\"white-space:pre;overflow-x:auto;line-height:normal;font-family:Menlo,'DejaVu Sans Mono',consolas,'Courier New',monospace\"><span style=\"color: #7fbfbf\">           </span><span style=\"color: #000080\">INFO</span>     Collaborator one is sending task results for aggregated_model_validation, round <span style=\"color: #000080; font-weight: bold\">5</span>                                          <a href=\"file:///home/itrushkin/.virtualenvs/openfl_research/lib/python3.8/site-packages/openfl/component/aggregator/aggregator.py\"><span style=\"color: #7f7f7f\">aggregator.py</span></a><span style=\"color: #7f7f7f\">:428</span>\n",
       "</pre>\n"
      ],
      "text/plain": [
       "<rich.jupyter.JupyterRenderable at 0x7f748dc86040>"
      ]
     },
     "metadata": {},
     "output_type": "display_data"
    },
    {
     "data": {
      "text/html": [
       "<pre style=\"white-space:pre;overflow-x:auto;line-height:normal;font-family:Menlo,'DejaVu Sans Mono',consolas,'Courier New',monospace\"><span style=\"color: #7fbfbf\">[17:49:25] </span><span style=\"color: #000080\">INFO</span>     Sending metric for task train, round number <span style=\"color: #000080; font-weight: bold\">5</span>: soft_dice_loss   <span style=\"color: #000080; font-weight: bold\">0.5579285025596619</span>                                       <a href=\"file:///home/itrushkin/.virtualenvs/openfl_research/lib/python3.8/site-packages/openfl/component/collaborator/collaborator.py\"><span style=\"color: #7f7f7f\">collaborator.py</span></a><span style=\"color: #7f7f7f\">:365</span>\n",
       "</pre>\n"
      ],
      "text/plain": [
       "<rich.jupyter.JupyterRenderable at 0x7f740be8ebb0>"
      ]
     },
     "metadata": {},
     "output_type": "display_data"
    },
    {
     "data": {
      "text/html": [
       "<pre style=\"white-space:pre;overflow-x:auto;line-height:normal;font-family:Menlo,'DejaVu Sans Mono',consolas,'Courier New',monospace\"><span style=\"color: #7fbfbf\">           </span><span style=\"color: #000080\">INFO</span>     Collaborator one is sending task results for train, round <span style=\"color: #000080; font-weight: bold\">5</span>                                                                <a href=\"file:///home/itrushkin/.virtualenvs/openfl_research/lib/python3.8/site-packages/openfl/component/aggregator/aggregator.py\"><span style=\"color: #7f7f7f\">aggregator.py</span></a><span style=\"color: #7f7f7f\">:428</span>\n",
       "</pre>\n"
      ],
      "text/plain": [
       "<rich.jupyter.JupyterRenderable at 0x7f740be8ebb0>"
      ]
     },
     "metadata": {},
     "output_type": "display_data"
    },
    {
     "data": {
      "text/html": [
       "<pre style=\"white-space:pre;overflow-x:auto;line-height:normal;font-family:Menlo,'DejaVu Sans Mono',consolas,'Courier New',monospace\"><span style=\"color: #7fbfbf\">[17:49:28] </span><span style=\"color: #000080\">INFO</span>     Sending metric for task locally_tuned_model_validation, round number <span style=\"color: #000080; font-weight: bold\">5</span>: dice_coef       <span style=\"color: #000080; font-weight: bold\">0.477940563232668</span>                <a href=\"file:///home/itrushkin/.virtualenvs/openfl_research/lib/python3.8/site-packages/openfl/component/collaborator/collaborator.py\"><span style=\"color: #7f7f7f\">collaborator.py</span></a><span style=\"color: #7f7f7f\">:365</span>\n",
       "</pre>\n"
      ],
      "text/plain": [
       "<rich.jupyter.JupyterRenderable at 0x7f740be8e310>"
      ]
     },
     "metadata": {},
     "output_type": "display_data"
    },
    {
     "data": {
      "text/html": [
       "<pre style=\"white-space:pre;overflow-x:auto;line-height:normal;font-family:Menlo,'DejaVu Sans Mono',consolas,'Courier New',monospace\"><span style=\"color: #7fbfbf\">           </span><span style=\"color: #000080\">INFO</span>     Collaborator one is sending task results for locally_tuned_model_validation, round <span style=\"color: #000080; font-weight: bold\">5</span>                                       <a href=\"file:///home/itrushkin/.virtualenvs/openfl_research/lib/python3.8/site-packages/openfl/component/aggregator/aggregator.py\"><span style=\"color: #7f7f7f\">aggregator.py</span></a><span style=\"color: #7f7f7f\">:428</span>\n",
       "</pre>\n"
      ],
      "text/plain": [
       "<rich.jupyter.JupyterRenderable at 0x7f740bf15910>"
      ]
     },
     "metadata": {},
     "output_type": "display_data"
    },
    {
     "data": {
      "text/html": [
       "<pre style=\"white-space:pre;overflow-x:auto;line-height:normal;font-family:Menlo,'DejaVu Sans Mono',consolas,'Courier New',monospace\"><span style=\"color: #7fbfbf\">           </span><span style=\"color: #000080\">INFO</span>     All tasks completed on one for round <span style=\"color: #000080; font-weight: bold\">5</span><span style=\"color: #808000\">...</span>                                                                                <a href=\"file:///home/itrushkin/.virtualenvs/openfl_research/lib/python3.8/site-packages/openfl/component/collaborator/collaborator.py\"><span style=\"color: #7f7f7f\">collaborator.py</span></a><span style=\"color: #7f7f7f\">:148</span>\n",
       "</pre>\n"
      ],
      "text/plain": [
       "<rich.jupyter.JupyterRenderable at 0x7f740be8e280>"
      ]
     },
     "metadata": {},
     "output_type": "display_data"
    },
    {
     "data": {
      "text/html": [
       "<pre style=\"white-space:pre;overflow-x:auto;line-height:normal;font-family:Menlo,'DejaVu Sans Mono',consolas,'Courier New',monospace\"><span style=\"color: #7fbfbf\">           </span><span style=\"color: #000080\">INFO</span>     Waiting for tasks<span style=\"color: #808000\">...</span>                                                                                                     <a href=\"file:///home/itrushkin/.virtualenvs/openfl_research/lib/python3.8/site-packages/openfl/component/collaborator/collaborator.py\"><span style=\"color: #7f7f7f\">collaborator.py</span></a><span style=\"color: #7f7f7f\">:156</span>\n",
       "</pre>\n"
      ],
      "text/plain": [
       "<rich.jupyter.JupyterRenderable at 0x7f740be2f8b0>"
      ]
     },
     "metadata": {},
     "output_type": "display_data"
    },
    {
     "data": {
      "text/html": [
       "<pre style=\"white-space:pre;overflow-x:auto;line-height:normal;font-family:Menlo,'DejaVu Sans Mono',consolas,'Courier New',monospace\"><span style=\"color: #7fbfbf\">           </span><span style=\"color: #000080\">INFO</span>     Sending tasks to collaborator two for round <span style=\"color: #000080; font-weight: bold\">5</span>                                                                              <a href=\"file:///home/itrushkin/.virtualenvs/openfl_research/lib/python3.8/site-packages/openfl/component/aggregator/aggregator.py\"><span style=\"color: #7f7f7f\">aggregator.py</span></a><span style=\"color: #7f7f7f\">:276</span>\n",
       "</pre>\n"
      ],
      "text/plain": [
       "<rich.jupyter.JupyterRenderable at 0x7f740bf154f0>"
      ]
     },
     "metadata": {},
     "output_type": "display_data"
    },
    {
     "data": {
      "text/html": [
       "<pre style=\"white-space:pre;overflow-x:auto;line-height:normal;font-family:Menlo,'DejaVu Sans Mono',consolas,'Courier New',monospace\"><span style=\"color: #7fbfbf\">           </span><span style=\"color: #000080\">INFO</span>     Received the following tasks: <span style=\"font-weight: bold\">[</span><span style=\"color: #008000\">'aggregated_model_validation'</span>, <span style=\"color: #008000\">'train'</span>, <span style=\"color: #008000\">'locally_tuned_model_validation'</span><span style=\"font-weight: bold\">]</span>                 <a href=\"file:///home/itrushkin/.virtualenvs/openfl_research/lib/python3.8/site-packages/openfl/component/collaborator/collaborator.py\"><span style=\"color: #7f7f7f\">collaborator.py</span></a><span style=\"color: #7f7f7f\">:144</span>\n",
       "</pre>\n"
      ],
      "text/plain": [
       "<rich.jupyter.JupyterRenderable at 0x7f740be8e310>"
      ]
     },
     "metadata": {},
     "output_type": "display_data"
    },
    {
     "data": {
      "text/html": [
       "<pre style=\"white-space:pre;overflow-x:auto;line-height:normal;font-family:Menlo,'DejaVu Sans Mono',consolas,'Courier New',monospace\"><span style=\"color: #7fbfbf\">[17:49:30] </span><span style=\"color: #000080\">INFO</span>     Sending metric for task aggregated_model_validation, round number <span style=\"color: #000080; font-weight: bold\">5</span>: dice_coef  <span style=\"color: #000080; font-weight: bold\">0.3998434495541357</span>                       <a href=\"file:///home/itrushkin/.virtualenvs/openfl_research/lib/python3.8/site-packages/openfl/component/collaborator/collaborator.py\"><span style=\"color: #7f7f7f\">collaborator.py</span></a><span style=\"color: #7f7f7f\">:365</span>\n",
       "</pre>\n"
      ],
      "text/plain": [
       "<rich.jupyter.JupyterRenderable at 0x7f740be8e280>"
      ]
     },
     "metadata": {},
     "output_type": "display_data"
    },
    {
     "data": {
      "text/html": [
       "<pre style=\"white-space:pre;overflow-x:auto;line-height:normal;font-family:Menlo,'DejaVu Sans Mono',consolas,'Courier New',monospace\"><span style=\"color: #7fbfbf\">           </span><span style=\"color: #000080\">INFO</span>     Collaborator two is sending task results for aggregated_model_validation, round <span style=\"color: #000080; font-weight: bold\">5</span>                                          <a href=\"file:///home/itrushkin/.virtualenvs/openfl_research/lib/python3.8/site-packages/openfl/component/aggregator/aggregator.py\"><span style=\"color: #7f7f7f\">aggregator.py</span></a><span style=\"color: #7f7f7f\">:428</span>\n",
       "</pre>\n"
      ],
      "text/plain": [
       "<rich.jupyter.JupyterRenderable at 0x7f7420029be0>"
      ]
     },
     "metadata": {},
     "output_type": "display_data"
    },
    {
     "data": {
      "text/html": [
       "<pre style=\"white-space:pre;overflow-x:auto;line-height:normal;font-family:Menlo,'DejaVu Sans Mono',consolas,'Courier New',monospace\"><span style=\"color: #7fbfbf\">[17:49:52] </span><span style=\"color: #000080\">INFO</span>     Sending metric for task train, round number <span style=\"color: #000080; font-weight: bold\">5</span>: soft_dice_loss   <span style=\"color: #000080; font-weight: bold\">0.5507904291152954</span>                                       <a href=\"file:///home/itrushkin/.virtualenvs/openfl_research/lib/python3.8/site-packages/openfl/component/collaborator/collaborator.py\"><span style=\"color: #7f7f7f\">collaborator.py</span></a><span style=\"color: #7f7f7f\">:365</span>\n",
       "</pre>\n"
      ],
      "text/plain": [
       "<rich.jupyter.JupyterRenderable at 0x7f742003f9a0>"
      ]
     },
     "metadata": {},
     "output_type": "display_data"
    },
    {
     "data": {
      "text/html": [
       "<pre style=\"white-space:pre;overflow-x:auto;line-height:normal;font-family:Menlo,'DejaVu Sans Mono',consolas,'Courier New',monospace\"><span style=\"color: #7fbfbf\">           </span><span style=\"color: #000080\">INFO</span>     Collaborator two is sending task results for train, round <span style=\"color: #000080; font-weight: bold\">5</span>                                                                <a href=\"file:///home/itrushkin/.virtualenvs/openfl_research/lib/python3.8/site-packages/openfl/component/aggregator/aggregator.py\"><span style=\"color: #7f7f7f\">aggregator.py</span></a><span style=\"color: #7f7f7f\">:428</span>\n",
       "</pre>\n"
      ],
      "text/plain": [
       "<rich.jupyter.JupyterRenderable at 0x7f740be2fd00>"
      ]
     },
     "metadata": {},
     "output_type": "display_data"
    },
    {
     "data": {
      "text/html": [
       "<pre style=\"white-space:pre;overflow-x:auto;line-height:normal;font-family:Menlo,'DejaVu Sans Mono',consolas,'Courier New',monospace\"><span style=\"color: #7fbfbf\">[17:49:54] </span><span style=\"color: #000080\">INFO</span>     Sending metric for task locally_tuned_model_validation, round number <span style=\"color: #000080; font-weight: bold\">5</span>: dice_coef       <span style=\"color: #000080; font-weight: bold\">0.4104092457602101</span>               <a href=\"file:///home/itrushkin/.virtualenvs/openfl_research/lib/python3.8/site-packages/openfl/component/collaborator/collaborator.py\"><span style=\"color: #7f7f7f\">collaborator.py</span></a><span style=\"color: #7f7f7f\">:365</span>\n",
       "</pre>\n"
      ],
      "text/plain": [
       "<rich.jupyter.JupyterRenderable at 0x7f740bd5ef40>"
      ]
     },
     "metadata": {},
     "output_type": "display_data"
    },
    {
     "data": {
      "text/html": [
       "<pre style=\"white-space:pre;overflow-x:auto;line-height:normal;font-family:Menlo,'DejaVu Sans Mono',consolas,'Courier New',monospace\"><span style=\"color: #7fbfbf\">           </span><span style=\"color: #000080\">INFO</span>     Collaborator two is sending task results for locally_tuned_model_validation, round <span style=\"color: #000080; font-weight: bold\">5</span>                                       <a href=\"file:///home/itrushkin/.virtualenvs/openfl_research/lib/python3.8/site-packages/openfl/component/aggregator/aggregator.py\"><span style=\"color: #7f7f7f\">aggregator.py</span></a><span style=\"color: #7f7f7f\">:428</span>\n",
       "</pre>\n"
      ],
      "text/plain": [
       "<rich.jupyter.JupyterRenderable at 0x7f740be1ce20>"
      ]
     },
     "metadata": {},
     "output_type": "display_data"
    },
    {
     "data": {
      "text/html": [
       "<pre style=\"white-space:pre;overflow-x:auto;line-height:normal;font-family:Menlo,'DejaVu Sans Mono',consolas,'Courier New',monospace\"><span style=\"color: #7fbfbf\">           </span><span style=\"color: #000080\">INFO</span>     train task metrics<span style=\"color: #808000\">...</span>                                                                                                      <a href=\"file:///home/itrushkin/.virtualenvs/openfl_research/lib/python3.8/site-packages/openfl/component/aggregator/aggregator.py\"><span style=\"color: #7f7f7f\">aggregator.py</span></a><span style=\"color: #7f7f7f\">:694</span>\n",
       "</pre>\n"
      ],
      "text/plain": [
       "<rich.jupyter.JupyterRenderable at 0x7f740bfe8ca0>"
      ]
     },
     "metadata": {},
     "output_type": "display_data"
    },
    {
     "data": {
      "text/html": [
       "<pre style=\"white-space:pre;overflow-x:auto;line-height:normal;font-family:Menlo,'DejaVu Sans Mono',consolas,'Courier New',monospace\"><span style=\"color: #7fbfbf\">           </span><span style=\"color: #000080\">INFO</span>     soft_dice_loss: <span style=\"color: #000080; font-weight: bold\">0.5544</span>                                                                                                     <a href=\"file:///home/itrushkin/.virtualenvs/openfl_research/lib/python3.8/site-packages/openfl/component/aggregator/aggregator.py\"><span style=\"color: #7f7f7f\">aggregator.py</span></a><span style=\"color: #7f7f7f\">:742</span>\n",
       "</pre>\n"
      ],
      "text/plain": [
       "<rich.jupyter.JupyterRenderable at 0x7f7420015b20>"
      ]
     },
     "metadata": {},
     "output_type": "display_data"
    },
    {
     "data": {
      "text/html": [
       "<pre style=\"white-space:pre;overflow-x:auto;line-height:normal;font-family:Menlo,'DejaVu Sans Mono',consolas,'Courier New',monospace\"><span style=\"color: #7fbfbf\">[17:50:00] </span><span style=\"color: #000080\">INFO</span>     locally_tuned_model_validation task metrics<span style=\"color: #808000\">...</span>                                                                             <a href=\"file:///home/itrushkin/.virtualenvs/openfl_research/lib/python3.8/site-packages/openfl/component/aggregator/aggregator.py\"><span style=\"color: #7f7f7f\">aggregator.py</span></a><span style=\"color: #7f7f7f\">:694</span>\n",
       "</pre>\n"
      ],
      "text/plain": [
       "<rich.jupyter.JupyterRenderable at 0x7f740be36b20>"
      ]
     },
     "metadata": {},
     "output_type": "display_data"
    },
    {
     "data": {
      "text/html": [
       "<pre style=\"white-space:pre;overflow-x:auto;line-height:normal;font-family:Menlo,'DejaVu Sans Mono',consolas,'Courier New',monospace\"><span style=\"color: #7fbfbf\">           </span><span style=\"color: #000080\">INFO</span>     dice_coef:      <span style=\"color: #000080; font-weight: bold\">0.4442</span>                                                                                                     <a href=\"file:///home/itrushkin/.virtualenvs/openfl_research/lib/python3.8/site-packages/openfl/component/aggregator/aggregator.py\"><span style=\"color: #7f7f7f\">aggregator.py</span></a><span style=\"color: #7f7f7f\">:742</span>\n",
       "</pre>\n"
      ],
      "text/plain": [
       "<rich.jupyter.JupyterRenderable at 0x7f740bcf59a0>"
      ]
     },
     "metadata": {},
     "output_type": "display_data"
    },
    {
     "data": {
      "text/html": [
       "<pre style=\"white-space:pre;overflow-x:auto;line-height:normal;font-family:Menlo,'DejaVu Sans Mono',consolas,'Courier New',monospace\"><span style=\"color: #7fbfbf\">           </span><span style=\"color: #000080\">INFO</span>     aggregated_model_validation task metrics<span style=\"color: #808000\">...</span>                                                                                <a href=\"file:///home/itrushkin/.virtualenvs/openfl_research/lib/python3.8/site-packages/openfl/component/aggregator/aggregator.py\"><span style=\"color: #7f7f7f\">aggregator.py</span></a><span style=\"color: #7f7f7f\">:694</span>\n",
       "</pre>\n"
      ],
      "text/plain": [
       "<rich.jupyter.JupyterRenderable at 0x7f740bcf59a0>"
      ]
     },
     "metadata": {},
     "output_type": "display_data"
    },
    {
     "data": {
      "text/html": [
       "<pre style=\"white-space:pre;overflow-x:auto;line-height:normal;font-family:Menlo,'DejaVu Sans Mono',consolas,'Courier New',monospace\"><span style=\"color: #7fbfbf\">           </span><span style=\"color: #000080\">INFO</span>     dice_coef:      <span style=\"color: #000080; font-weight: bold\">0.4347</span>                                                                                                     <a href=\"file:///home/itrushkin/.virtualenvs/openfl_research/lib/python3.8/site-packages/openfl/component/aggregator/aggregator.py\"><span style=\"color: #7f7f7f\">aggregator.py</span></a><span style=\"color: #7f7f7f\">:742</span>\n",
       "</pre>\n"
      ],
      "text/plain": [
       "<rich.jupyter.JupyterRenderable at 0x7f740bcf5dc0>"
      ]
     },
     "metadata": {},
     "output_type": "display_data"
    },
    {
     "data": {
      "text/html": [
       "<pre style=\"white-space:pre;overflow-x:auto;line-height:normal;font-family:Menlo,'DejaVu Sans Mono',consolas,'Courier New',monospace\"><span style=\"color: #7fbfbf\">           </span><span style=\"color: #000080\">INFO</span>     Saved the best model with score <span style=\"color: #000080; font-weight: bold\">0.434674</span>                                                                                   <a href=\"file:///home/itrushkin/.virtualenvs/openfl_research/lib/python3.8/site-packages/openfl/component/aggregator/aggregator.py\"><span style=\"color: #7f7f7f\">aggregator.py</span></a><span style=\"color: #7f7f7f\">:749</span>\n",
       "</pre>\n"
      ],
      "text/plain": [
       "<rich.jupyter.JupyterRenderable at 0x7f740be369a0>"
      ]
     },
     "metadata": {},
     "output_type": "display_data"
    },
    {
     "data": {
      "text/html": [
       "<pre style=\"white-space:pre;overflow-x:auto;line-height:normal;font-family:Menlo,'DejaVu Sans Mono',consolas,'Courier New',monospace\"><span style=\"color: #7fbfbf\">[17:50:01] </span><span style=\"color: #000080\">INFO</span>     Saving round <span style=\"color: #000080; font-weight: bold\">6</span> model<span style=\"color: #808000\">...</span>                                                                                                    <a href=\"file:///home/itrushkin/.virtualenvs/openfl_research/lib/python3.8/site-packages/openfl/component/aggregator/aggregator.py\"><span style=\"color: #7f7f7f\">aggregator.py</span></a><span style=\"color: #7f7f7f\">:783</span>\n",
       "</pre>\n"
      ],
      "text/plain": [
       "<rich.jupyter.JupyterRenderable at 0x7f740bcf59a0>"
      ]
     },
     "metadata": {},
     "output_type": "display_data"
    },
    {
     "data": {
      "text/html": [
       "<pre style=\"white-space:pre;overflow-x:auto;line-height:normal;font-family:Menlo,'DejaVu Sans Mono',consolas,'Courier New',monospace\"><span style=\"color: #7fbfbf\">           </span><span style=\"color: #000080\">INFO</span>     Starting round <span style=\"color: #000080; font-weight: bold\">6</span><span style=\"color: #808000\">...</span>                                                                                                        <a href=\"file:///home/itrushkin/.virtualenvs/openfl_research/lib/python3.8/site-packages/openfl/component/aggregator/aggregator.py\"><span style=\"color: #7f7f7f\">aggregator.py</span></a><span style=\"color: #7f7f7f\">:791</span>\n",
       "</pre>\n"
      ],
      "text/plain": [
       "<rich.jupyter.JupyterRenderable at 0x7f740bd94be0>"
      ]
     },
     "metadata": {},
     "output_type": "display_data"
    },
    {
     "data": {
      "text/html": [
       "<pre style=\"white-space:pre;overflow-x:auto;line-height:normal;font-family:Menlo,'DejaVu Sans Mono',consolas,'Courier New',monospace\"><span style=\"color: #7fbfbf\">           </span><span style=\"color: #000080\">INFO</span>     All tasks completed on two for round <span style=\"color: #000080; font-weight: bold\">5</span><span style=\"color: #808000\">...</span>                                                                                <a href=\"file:///home/itrushkin/.virtualenvs/openfl_research/lib/python3.8/site-packages/openfl/component/collaborator/collaborator.py\"><span style=\"color: #7f7f7f\">collaborator.py</span></a><span style=\"color: #7f7f7f\">:148</span>\n",
       "</pre>\n"
      ],
      "text/plain": [
       "<rich.jupyter.JupyterRenderable at 0x7f740bfff3a0>"
      ]
     },
     "metadata": {},
     "output_type": "display_data"
    },
    {
     "data": {
      "text/html": [
       "<pre style=\"white-space:pre;overflow-x:auto;line-height:normal;font-family:Menlo,'DejaVu Sans Mono',consolas,'Courier New',monospace\"><span style=\"color: #7fbfbf\">           </span><span style=\"color: #000080\">INFO</span>     Waiting for tasks<span style=\"color: #808000\">...</span>                                                                                                     <a href=\"file:///home/itrushkin/.virtualenvs/openfl_research/lib/python3.8/site-packages/openfl/component/collaborator/collaborator.py\"><span style=\"color: #7f7f7f\">collaborator.py</span></a><span style=\"color: #7f7f7f\">:156</span>\n",
       "</pre>\n"
      ],
      "text/plain": [
       "<rich.jupyter.JupyterRenderable at 0x7f748dc865b0>"
      ]
     },
     "metadata": {},
     "output_type": "display_data"
    },
    {
     "data": {
      "text/html": [
       "<pre style=\"white-space:pre;overflow-x:auto;line-height:normal;font-family:Menlo,'DejaVu Sans Mono',consolas,'Courier New',monospace\"><span style=\"color: #7fbfbf\">           </span><span style=\"color: #000080\">INFO</span>     Sending tasks to collaborator one for round <span style=\"color: #000080; font-weight: bold\">6</span>                                                                              <a href=\"file:///home/itrushkin/.virtualenvs/openfl_research/lib/python3.8/site-packages/openfl/component/aggregator/aggregator.py\"><span style=\"color: #7f7f7f\">aggregator.py</span></a><span style=\"color: #7f7f7f\">:276</span>\n",
       "</pre>\n"
      ],
      "text/plain": [
       "<rich.jupyter.JupyterRenderable at 0x7f740bfff3a0>"
      ]
     },
     "metadata": {},
     "output_type": "display_data"
    },
    {
     "data": {
      "text/html": [
       "<pre style=\"white-space:pre;overflow-x:auto;line-height:normal;font-family:Menlo,'DejaVu Sans Mono',consolas,'Courier New',monospace\"><span style=\"color: #7fbfbf\">           </span><span style=\"color: #000080\">INFO</span>     Received the following tasks: <span style=\"font-weight: bold\">[</span><span style=\"color: #008000\">'aggregated_model_validation'</span>, <span style=\"color: #008000\">'train'</span>, <span style=\"color: #008000\">'locally_tuned_model_validation'</span><span style=\"font-weight: bold\">]</span>                 <a href=\"file:///home/itrushkin/.virtualenvs/openfl_research/lib/python3.8/site-packages/openfl/component/collaborator/collaborator.py\"><span style=\"color: #7f7f7f\">collaborator.py</span></a><span style=\"color: #7f7f7f\">:144</span>\n",
       "</pre>\n"
      ],
      "text/plain": [
       "<rich.jupyter.JupyterRenderable at 0x7f740bfff3a0>"
      ]
     },
     "metadata": {},
     "output_type": "display_data"
    },
    {
     "data": {
      "text/html": [
       "<pre style=\"white-space:pre;overflow-x:auto;line-height:normal;font-family:Menlo,'DejaVu Sans Mono',consolas,'Courier New',monospace\"><span style=\"color: #7fbfbf\">[17:50:04] </span><span style=\"color: #000080\">INFO</span>     Sending metric for task aggregated_model_validation, round number <span style=\"color: #000080; font-weight: bold\">6</span>: dice_coef  <span style=\"color: #000080; font-weight: bold\">0.4847551199697679</span>                       <a href=\"file:///home/itrushkin/.virtualenvs/openfl_research/lib/python3.8/site-packages/openfl/component/collaborator/collaborator.py\"><span style=\"color: #7f7f7f\">collaborator.py</span></a><span style=\"color: #7f7f7f\">:365</span>\n",
       "</pre>\n"
      ],
      "text/plain": [
       "<rich.jupyter.JupyterRenderable at 0x7f742002cf40>"
      ]
     },
     "metadata": {},
     "output_type": "display_data"
    },
    {
     "data": {
      "text/html": [
       "<pre style=\"white-space:pre;overflow-x:auto;line-height:normal;font-family:Menlo,'DejaVu Sans Mono',consolas,'Courier New',monospace\"><span style=\"color: #7fbfbf\">           </span><span style=\"color: #000080\">INFO</span>     Collaborator one is sending task results for aggregated_model_validation, round <span style=\"color: #000080; font-weight: bold\">6</span>                                          <a href=\"file:///home/itrushkin/.virtualenvs/openfl_research/lib/python3.8/site-packages/openfl/component/aggregator/aggregator.py\"><span style=\"color: #7f7f7f\">aggregator.py</span></a><span style=\"color: #7f7f7f\">:428</span>\n",
       "</pre>\n"
      ],
      "text/plain": [
       "<rich.jupyter.JupyterRenderable at 0x7f742002c160>"
      ]
     },
     "metadata": {},
     "output_type": "display_data"
    },
    {
     "data": {
      "text/html": [
       "<pre style=\"white-space:pre;overflow-x:auto;line-height:normal;font-family:Menlo,'DejaVu Sans Mono',consolas,'Courier New',monospace\"><span style=\"color: #7fbfbf\">[17:50:25] </span><span style=\"color: #000080\">INFO</span>     Sending metric for task train, round number <span style=\"color: #000080; font-weight: bold\">6</span>: soft_dice_loss   <span style=\"color: #000080; font-weight: bold\">0.549356997013092</span>                                        <a href=\"file:///home/itrushkin/.virtualenvs/openfl_research/lib/python3.8/site-packages/openfl/component/collaborator/collaborator.py\"><span style=\"color: #7f7f7f\">collaborator.py</span></a><span style=\"color: #7f7f7f\">:365</span>\n",
       "</pre>\n"
      ],
      "text/plain": [
       "<rich.jupyter.JupyterRenderable at 0x7f740bcf5d60>"
      ]
     },
     "metadata": {},
     "output_type": "display_data"
    },
    {
     "data": {
      "text/html": [
       "<pre style=\"white-space:pre;overflow-x:auto;line-height:normal;font-family:Menlo,'DejaVu Sans Mono',consolas,'Courier New',monospace\"><span style=\"color: #7fbfbf\">           </span><span style=\"color: #000080\">INFO</span>     Collaborator one is sending task results for train, round <span style=\"color: #000080; font-weight: bold\">6</span>                                                                <a href=\"file:///home/itrushkin/.virtualenvs/openfl_research/lib/python3.8/site-packages/openfl/component/aggregator/aggregator.py\"><span style=\"color: #7f7f7f\">aggregator.py</span></a><span style=\"color: #7f7f7f\">:428</span>\n",
       "</pre>\n"
      ],
      "text/plain": [
       "<rich.jupyter.JupyterRenderable at 0x7f740bcf5220>"
      ]
     },
     "metadata": {},
     "output_type": "display_data"
    },
    {
     "data": {
      "text/html": [
       "<pre style=\"white-space:pre;overflow-x:auto;line-height:normal;font-family:Menlo,'DejaVu Sans Mono',consolas,'Courier New',monospace\"><span style=\"color: #7fbfbf\">[17:50:28] </span><span style=\"color: #000080\">INFO</span>     Sending metric for task locally_tuned_model_validation, round number <span style=\"color: #000080; font-weight: bold\">6</span>: dice_coef       <span style=\"color: #000080; font-weight: bold\">0.49405526922595117</span>              <a href=\"file:///home/itrushkin/.virtualenvs/openfl_research/lib/python3.8/site-packages/openfl/component/collaborator/collaborator.py\"><span style=\"color: #7f7f7f\">collaborator.py</span></a><span style=\"color: #7f7f7f\">:365</span>\n",
       "</pre>\n"
      ],
      "text/plain": [
       "<rich.jupyter.JupyterRenderable at 0x7f740bfe3250>"
      ]
     },
     "metadata": {},
     "output_type": "display_data"
    },
    {
     "data": {
      "text/html": [
       "<pre style=\"white-space:pre;overflow-x:auto;line-height:normal;font-family:Menlo,'DejaVu Sans Mono',consolas,'Courier New',monospace\"><span style=\"color: #7fbfbf\">           </span><span style=\"color: #000080\">INFO</span>     Collaborator one is sending task results for locally_tuned_model_validation, round <span style=\"color: #000080; font-weight: bold\">6</span>                                       <a href=\"file:///home/itrushkin/.virtualenvs/openfl_research/lib/python3.8/site-packages/openfl/component/aggregator/aggregator.py\"><span style=\"color: #7f7f7f\">aggregator.py</span></a><span style=\"color: #7f7f7f\">:428</span>\n",
       "</pre>\n"
      ],
      "text/plain": [
       "<rich.jupyter.JupyterRenderable at 0x7f740bfe3670>"
      ]
     },
     "metadata": {},
     "output_type": "display_data"
    },
    {
     "data": {
      "text/html": [
       "<pre style=\"white-space:pre;overflow-x:auto;line-height:normal;font-family:Menlo,'DejaVu Sans Mono',consolas,'Courier New',monospace\"><span style=\"color: #7fbfbf\">           </span><span style=\"color: #000080\">INFO</span>     All tasks completed on one for round <span style=\"color: #000080; font-weight: bold\">6</span><span style=\"color: #808000\">...</span>                                                                                <a href=\"file:///home/itrushkin/.virtualenvs/openfl_research/lib/python3.8/site-packages/openfl/component/collaborator/collaborator.py\"><span style=\"color: #7f7f7f\">collaborator.py</span></a><span style=\"color: #7f7f7f\">:148</span>\n",
       "</pre>\n"
      ],
      "text/plain": [
       "<rich.jupyter.JupyterRenderable at 0x7f740bfe3b50>"
      ]
     },
     "metadata": {},
     "output_type": "display_data"
    },
    {
     "data": {
      "text/html": [
       "<pre style=\"white-space:pre;overflow-x:auto;line-height:normal;font-family:Menlo,'DejaVu Sans Mono',consolas,'Courier New',monospace\"><span style=\"color: #7fbfbf\">           </span><span style=\"color: #000080\">INFO</span>     Waiting for tasks<span style=\"color: #808000\">...</span>                                                                                                     <a href=\"file:///home/itrushkin/.virtualenvs/openfl_research/lib/python3.8/site-packages/openfl/component/collaborator/collaborator.py\"><span style=\"color: #7f7f7f\">collaborator.py</span></a><span style=\"color: #7f7f7f\">:156</span>\n",
       "</pre>\n"
      ],
      "text/plain": [
       "<rich.jupyter.JupyterRenderable at 0x7f740bfe3820>"
      ]
     },
     "metadata": {},
     "output_type": "display_data"
    },
    {
     "data": {
      "text/html": [
       "<pre style=\"white-space:pre;overflow-x:auto;line-height:normal;font-family:Menlo,'DejaVu Sans Mono',consolas,'Courier New',monospace\"><span style=\"color: #7fbfbf\">           </span><span style=\"color: #000080\">INFO</span>     Sending tasks to collaborator two for round <span style=\"color: #000080; font-weight: bold\">6</span>                                                                              <a href=\"file:///home/itrushkin/.virtualenvs/openfl_research/lib/python3.8/site-packages/openfl/component/aggregator/aggregator.py\"><span style=\"color: #7f7f7f\">aggregator.py</span></a><span style=\"color: #7f7f7f\">:276</span>\n",
       "</pre>\n"
      ],
      "text/plain": [
       "<rich.jupyter.JupyterRenderable at 0x7f740bfe3310>"
      ]
     },
     "metadata": {},
     "output_type": "display_data"
    },
    {
     "data": {
      "text/html": [
       "<pre style=\"white-space:pre;overflow-x:auto;line-height:normal;font-family:Menlo,'DejaVu Sans Mono',consolas,'Courier New',monospace\"><span style=\"color: #7fbfbf\">           </span><span style=\"color: #000080\">INFO</span>     Received the following tasks: <span style=\"font-weight: bold\">[</span><span style=\"color: #008000\">'aggregated_model_validation'</span>, <span style=\"color: #008000\">'train'</span>, <span style=\"color: #008000\">'locally_tuned_model_validation'</span><span style=\"font-weight: bold\">]</span>                 <a href=\"file:///home/itrushkin/.virtualenvs/openfl_research/lib/python3.8/site-packages/openfl/component/collaborator/collaborator.py\"><span style=\"color: #7f7f7f\">collaborator.py</span></a><span style=\"color: #7f7f7f\">:144</span>\n",
       "</pre>\n"
      ],
      "text/plain": [
       "<rich.jupyter.JupyterRenderable at 0x7f740bfe3580>"
      ]
     },
     "metadata": {},
     "output_type": "display_data"
    },
    {
     "data": {
      "text/html": [
       "<pre style=\"white-space:pre;overflow-x:auto;line-height:normal;font-family:Menlo,'DejaVu Sans Mono',consolas,'Courier New',monospace\"><span style=\"color: #7fbfbf\">[17:50:30] </span><span style=\"color: #000080\">INFO</span>     Sending metric for task aggregated_model_validation, round number <span style=\"color: #000080; font-weight: bold\">6</span>: dice_coef  <span style=\"color: #000080; font-weight: bold\">0.4081264974609498</span>                       <a href=\"file:///home/itrushkin/.virtualenvs/openfl_research/lib/python3.8/site-packages/openfl/component/collaborator/collaborator.py\"><span style=\"color: #7f7f7f\">collaborator.py</span></a><span style=\"color: #7f7f7f\">:365</span>\n",
       "</pre>\n"
      ],
      "text/plain": [
       "<rich.jupyter.JupyterRenderable at 0x7f740bea51c0>"
      ]
     },
     "metadata": {},
     "output_type": "display_data"
    },
    {
     "data": {
      "text/html": [
       "<pre style=\"white-space:pre;overflow-x:auto;line-height:normal;font-family:Menlo,'DejaVu Sans Mono',consolas,'Courier New',monospace\"><span style=\"color: #7fbfbf\">           </span><span style=\"color: #000080\">INFO</span>     Collaborator two is sending task results for aggregated_model_validation, round <span style=\"color: #000080; font-weight: bold\">6</span>                                          <a href=\"file:///home/itrushkin/.virtualenvs/openfl_research/lib/python3.8/site-packages/openfl/component/aggregator/aggregator.py\"><span style=\"color: #7f7f7f\">aggregator.py</span></a><span style=\"color: #7f7f7f\">:428</span>\n",
       "</pre>\n"
      ],
      "text/plain": [
       "<rich.jupyter.JupyterRenderable at 0x7f740bea5730>"
      ]
     },
     "metadata": {},
     "output_type": "display_data"
    },
    {
     "data": {
      "text/html": [
       "<pre style=\"white-space:pre;overflow-x:auto;line-height:normal;font-family:Menlo,'DejaVu Sans Mono',consolas,'Courier New',monospace\"><span style=\"color: #7fbfbf\">[17:50:52] </span><span style=\"color: #000080\">INFO</span>     Sending metric for task train, round number <span style=\"color: #000080; font-weight: bold\">6</span>: soft_dice_loss   <span style=\"color: #000080; font-weight: bold\">0.5499082803726196</span>                                       <a href=\"file:///home/itrushkin/.virtualenvs/openfl_research/lib/python3.8/site-packages/openfl/component/collaborator/collaborator.py\"><span style=\"color: #7f7f7f\">collaborator.py</span></a><span style=\"color: #7f7f7f\">:365</span>\n",
       "</pre>\n"
      ],
      "text/plain": [
       "<rich.jupyter.JupyterRenderable at 0x7f73fb224880>"
      ]
     },
     "metadata": {},
     "output_type": "display_data"
    },
    {
     "data": {
      "text/html": [
       "<pre style=\"white-space:pre;overflow-x:auto;line-height:normal;font-family:Menlo,'DejaVu Sans Mono',consolas,'Courier New',monospace\"><span style=\"color: #7fbfbf\">           </span><span style=\"color: #000080\">INFO</span>     Collaborator two is sending task results for train, round <span style=\"color: #000080; font-weight: bold\">6</span>                                                                <a href=\"file:///home/itrushkin/.virtualenvs/openfl_research/lib/python3.8/site-packages/openfl/component/aggregator/aggregator.py\"><span style=\"color: #7f7f7f\">aggregator.py</span></a><span style=\"color: #7f7f7f\">:428</span>\n",
       "</pre>\n"
      ],
      "text/plain": [
       "<rich.jupyter.JupyterRenderable at 0x7f73fb224790>"
      ]
     },
     "metadata": {},
     "output_type": "display_data"
    },
    {
     "data": {
      "text/html": [
       "<pre style=\"white-space:pre;overflow-x:auto;line-height:normal;font-family:Menlo,'DejaVu Sans Mono',consolas,'Courier New',monospace\"><span style=\"color: #7fbfbf\">[17:50:55] </span><span style=\"color: #000080\">INFO</span>     Sending metric for task locally_tuned_model_validation, round number <span style=\"color: #000080; font-weight: bold\">6</span>: dice_coef       <span style=\"color: #000080; font-weight: bold\">0.4086666549405744</span>               <a href=\"file:///home/itrushkin/.virtualenvs/openfl_research/lib/python3.8/site-packages/openfl/component/collaborator/collaborator.py\"><span style=\"color: #7f7f7f\">collaborator.py</span></a><span style=\"color: #7f7f7f\">:365</span>\n",
       "</pre>\n"
      ],
      "text/plain": [
       "<rich.jupyter.JupyterRenderable at 0x7f740bf06ca0>"
      ]
     },
     "metadata": {},
     "output_type": "display_data"
    },
    {
     "data": {
      "text/html": [
       "<pre style=\"white-space:pre;overflow-x:auto;line-height:normal;font-family:Menlo,'DejaVu Sans Mono',consolas,'Courier New',monospace\"><span style=\"color: #7fbfbf\">           </span><span style=\"color: #000080\">INFO</span>     Collaborator two is sending task results for locally_tuned_model_validation, round <span style=\"color: #000080; font-weight: bold\">6</span>                                       <a href=\"file:///home/itrushkin/.virtualenvs/openfl_research/lib/python3.8/site-packages/openfl/component/aggregator/aggregator.py\"><span style=\"color: #7f7f7f\">aggregator.py</span></a><span style=\"color: #7f7f7f\">:428</span>\n",
       "</pre>\n"
      ],
      "text/plain": [
       "<rich.jupyter.JupyterRenderable at 0x7f740bf2f070>"
      ]
     },
     "metadata": {},
     "output_type": "display_data"
    },
    {
     "data": {
      "text/html": [
       "<pre style=\"white-space:pre;overflow-x:auto;line-height:normal;font-family:Menlo,'DejaVu Sans Mono',consolas,'Courier New',monospace\"><span style=\"color: #7fbfbf\">           </span><span style=\"color: #000080\">INFO</span>     train task metrics<span style=\"color: #808000\">...</span>                                                                                                      <a href=\"file:///home/itrushkin/.virtualenvs/openfl_research/lib/python3.8/site-packages/openfl/component/aggregator/aggregator.py\"><span style=\"color: #7f7f7f\">aggregator.py</span></a><span style=\"color: #7f7f7f\">:694</span>\n",
       "</pre>\n"
      ],
      "text/plain": [
       "<rich.jupyter.JupyterRenderable at 0x7f73fb224d90>"
      ]
     },
     "metadata": {},
     "output_type": "display_data"
    },
    {
     "data": {
      "text/html": [
       "<pre style=\"white-space:pre;overflow-x:auto;line-height:normal;font-family:Menlo,'DejaVu Sans Mono',consolas,'Courier New',monospace\"><span style=\"color: #7fbfbf\">           </span><span style=\"color: #000080\">INFO</span>     soft_dice_loss: <span style=\"color: #000080; font-weight: bold\">0.5496</span>                                                                                                     <a href=\"file:///home/itrushkin/.virtualenvs/openfl_research/lib/python3.8/site-packages/openfl/component/aggregator/aggregator.py\"><span style=\"color: #7f7f7f\">aggregator.py</span></a><span style=\"color: #7f7f7f\">:742</span>\n",
       "</pre>\n"
      ],
      "text/plain": [
       "<rich.jupyter.JupyterRenderable at 0x7f740bf621c0>"
      ]
     },
     "metadata": {},
     "output_type": "display_data"
    },
    {
     "data": {
      "text/html": [
       "<pre style=\"white-space:pre;overflow-x:auto;line-height:normal;font-family:Menlo,'DejaVu Sans Mono',consolas,'Courier New',monospace\"><span style=\"color: #7fbfbf\">[17:51:00] </span><span style=\"color: #000080\">INFO</span>     locally_tuned_model_validation task metrics<span style=\"color: #808000\">...</span>                                                                             <a href=\"file:///home/itrushkin/.virtualenvs/openfl_research/lib/python3.8/site-packages/openfl/component/aggregator/aggregator.py\"><span style=\"color: #7f7f7f\">aggregator.py</span></a><span style=\"color: #7f7f7f\">:694</span>\n",
       "</pre>\n"
      ],
      "text/plain": [
       "<rich.jupyter.JupyterRenderable at 0x7f740be872b0>"
      ]
     },
     "metadata": {},
     "output_type": "display_data"
    },
    {
     "data": {
      "text/html": [
       "<pre style=\"white-space:pre;overflow-x:auto;line-height:normal;font-family:Menlo,'DejaVu Sans Mono',consolas,'Courier New',monospace\"><span style=\"color: #7fbfbf\">           </span><span style=\"color: #000080\">INFO</span>     dice_coef:      <span style=\"color: #000080; font-weight: bold\">0.4514</span>                                                                                                     <a href=\"file:///home/itrushkin/.virtualenvs/openfl_research/lib/python3.8/site-packages/openfl/component/aggregator/aggregator.py\"><span style=\"color: #7f7f7f\">aggregator.py</span></a><span style=\"color: #7f7f7f\">:742</span>\n",
       "</pre>\n"
      ],
      "text/plain": [
       "<rich.jupyter.JupyterRenderable at 0x7f740be361c0>"
      ]
     },
     "metadata": {},
     "output_type": "display_data"
    },
    {
     "data": {
      "text/html": [
       "<pre style=\"white-space:pre;overflow-x:auto;line-height:normal;font-family:Menlo,'DejaVu Sans Mono',consolas,'Courier New',monospace\"><span style=\"color: #7fbfbf\">           </span><span style=\"color: #000080\">INFO</span>     aggregated_model_validation task metrics<span style=\"color: #808000\">...</span>                                                                                <a href=\"file:///home/itrushkin/.virtualenvs/openfl_research/lib/python3.8/site-packages/openfl/component/aggregator/aggregator.py\"><span style=\"color: #7f7f7f\">aggregator.py</span></a><span style=\"color: #7f7f7f\">:694</span>\n",
       "</pre>\n"
      ],
      "text/plain": [
       "<rich.jupyter.JupyterRenderable at 0x7f740bea5220>"
      ]
     },
     "metadata": {},
     "output_type": "display_data"
    },
    {
     "data": {
      "text/html": [
       "<pre style=\"white-space:pre;overflow-x:auto;line-height:normal;font-family:Menlo,'DejaVu Sans Mono',consolas,'Courier New',monospace\"><span style=\"color: #7fbfbf\">           </span><span style=\"color: #000080\">INFO</span>     dice_coef:      <span style=\"color: #000080; font-weight: bold\">0.4464</span>                                                                                                     <a href=\"file:///home/itrushkin/.virtualenvs/openfl_research/lib/python3.8/site-packages/openfl/component/aggregator/aggregator.py\"><span style=\"color: #7f7f7f\">aggregator.py</span></a><span style=\"color: #7f7f7f\">:742</span>\n",
       "</pre>\n"
      ],
      "text/plain": [
       "<rich.jupyter.JupyterRenderable at 0x7f740ac917c0>"
      ]
     },
     "metadata": {},
     "output_type": "display_data"
    },
    {
     "data": {
      "text/html": [
       "<pre style=\"white-space:pre;overflow-x:auto;line-height:normal;font-family:Menlo,'DejaVu Sans Mono',consolas,'Courier New',monospace\"><span style=\"color: #7fbfbf\">           </span><span style=\"color: #000080\">INFO</span>     Saved the best model with score <span style=\"color: #000080; font-weight: bold\">0.446441</span>                                                                                   <a href=\"file:///home/itrushkin/.virtualenvs/openfl_research/lib/python3.8/site-packages/openfl/component/aggregator/aggregator.py\"><span style=\"color: #7f7f7f\">aggregator.py</span></a><span style=\"color: #7f7f7f\">:749</span>\n",
       "</pre>\n"
      ],
      "text/plain": [
       "<rich.jupyter.JupyterRenderable at 0x7f740bea5220>"
      ]
     },
     "metadata": {},
     "output_type": "display_data"
    },
    {
     "data": {
      "text/html": [
       "<pre style=\"white-space:pre;overflow-x:auto;line-height:normal;font-family:Menlo,'DejaVu Sans Mono',consolas,'Courier New',monospace\"><span style=\"color: #7fbfbf\">[17:51:01] </span><span style=\"color: #000080\">INFO</span>     Saving round <span style=\"color: #000080; font-weight: bold\">7</span> model<span style=\"color: #808000\">...</span>                                                                                                    <a href=\"file:///home/itrushkin/.virtualenvs/openfl_research/lib/python3.8/site-packages/openfl/component/aggregator/aggregator.py\"><span style=\"color: #7f7f7f\">aggregator.py</span></a><span style=\"color: #7f7f7f\">:783</span>\n",
       "</pre>\n"
      ],
      "text/plain": [
       "<rich.jupyter.JupyterRenderable at 0x7f740be872b0>"
      ]
     },
     "metadata": {},
     "output_type": "display_data"
    },
    {
     "data": {
      "text/html": [
       "<pre style=\"white-space:pre;overflow-x:auto;line-height:normal;font-family:Menlo,'DejaVu Sans Mono',consolas,'Courier New',monospace\"><span style=\"color: #7fbfbf\">           </span><span style=\"color: #000080\">INFO</span>     Starting round <span style=\"color: #000080; font-weight: bold\">7</span><span style=\"color: #808000\">...</span>                                                                                                        <a href=\"file:///home/itrushkin/.virtualenvs/openfl_research/lib/python3.8/site-packages/openfl/component/aggregator/aggregator.py\"><span style=\"color: #7f7f7f\">aggregator.py</span></a><span style=\"color: #7f7f7f\">:791</span>\n",
       "</pre>\n"
      ],
      "text/plain": [
       "<rich.jupyter.JupyterRenderable at 0x7f740bf62970>"
      ]
     },
     "metadata": {},
     "output_type": "display_data"
    },
    {
     "data": {
      "text/html": [
       "<pre style=\"white-space:pre;overflow-x:auto;line-height:normal;font-family:Menlo,'DejaVu Sans Mono',consolas,'Courier New',monospace\"><span style=\"color: #7fbfbf\">           </span><span style=\"color: #000080\">INFO</span>     All tasks completed on two for round <span style=\"color: #000080; font-weight: bold\">6</span><span style=\"color: #808000\">...</span>                                                                                <a href=\"file:///home/itrushkin/.virtualenvs/openfl_research/lib/python3.8/site-packages/openfl/component/collaborator/collaborator.py\"><span style=\"color: #7f7f7f\">collaborator.py</span></a><span style=\"color: #7f7f7f\">:148</span>\n",
       "</pre>\n"
      ],
      "text/plain": [
       "<rich.jupyter.JupyterRenderable at 0x7f740bea9f70>"
      ]
     },
     "metadata": {},
     "output_type": "display_data"
    },
    {
     "data": {
      "text/html": [
       "<pre style=\"white-space:pre;overflow-x:auto;line-height:normal;font-family:Menlo,'DejaVu Sans Mono',consolas,'Courier New',monospace\"><span style=\"color: #7fbfbf\">[17:51:02] </span><span style=\"color: #000080\">INFO</span>     Waiting for tasks<span style=\"color: #808000\">...</span>                                                                                                     <a href=\"file:///home/itrushkin/.virtualenvs/openfl_research/lib/python3.8/site-packages/openfl/component/collaborator/collaborator.py\"><span style=\"color: #7f7f7f\">collaborator.py</span></a><span style=\"color: #7f7f7f\">:156</span>\n",
       "</pre>\n"
      ],
      "text/plain": [
       "<rich.jupyter.JupyterRenderable at 0x7f740bfe3520>"
      ]
     },
     "metadata": {},
     "output_type": "display_data"
    },
    {
     "data": {
      "text/html": [
       "<pre style=\"white-space:pre;overflow-x:auto;line-height:normal;font-family:Menlo,'DejaVu Sans Mono',consolas,'Courier New',monospace\"><span style=\"color: #7fbfbf\">           </span><span style=\"color: #000080\">INFO</span>     Sending tasks to collaborator one for round <span style=\"color: #000080; font-weight: bold\">7</span>                                                                              <a href=\"file:///home/itrushkin/.virtualenvs/openfl_research/lib/python3.8/site-packages/openfl/component/aggregator/aggregator.py\"><span style=\"color: #7f7f7f\">aggregator.py</span></a><span style=\"color: #7f7f7f\">:276</span>\n",
       "</pre>\n"
      ],
      "text/plain": [
       "<rich.jupyter.JupyterRenderable at 0x7f740bffcc10>"
      ]
     },
     "metadata": {},
     "output_type": "display_data"
    },
    {
     "data": {
      "text/html": [
       "<pre style=\"white-space:pre;overflow-x:auto;line-height:normal;font-family:Menlo,'DejaVu Sans Mono',consolas,'Courier New',monospace\"><span style=\"color: #7fbfbf\">           </span><span style=\"color: #000080\">INFO</span>     Received the following tasks: <span style=\"font-weight: bold\">[</span><span style=\"color: #008000\">'aggregated_model_validation'</span>, <span style=\"color: #008000\">'train'</span>, <span style=\"color: #008000\">'locally_tuned_model_validation'</span><span style=\"font-weight: bold\">]</span>                 <a href=\"file:///home/itrushkin/.virtualenvs/openfl_research/lib/python3.8/site-packages/openfl/component/collaborator/collaborator.py\"><span style=\"color: #7f7f7f\">collaborator.py</span></a><span style=\"color: #7f7f7f\">:144</span>\n",
       "</pre>\n"
      ],
      "text/plain": [
       "<rich.jupyter.JupyterRenderable at 0x7f740bfe3d90>"
      ]
     },
     "metadata": {},
     "output_type": "display_data"
    },
    {
     "data": {
      "text/html": [
       "<pre style=\"white-space:pre;overflow-x:auto;line-height:normal;font-family:Menlo,'DejaVu Sans Mono',consolas,'Courier New',monospace\"><span style=\"color: #7fbfbf\">[17:51:04] </span><span style=\"color: #000080\">INFO</span>     Sending metric for task aggregated_model_validation, round number <span style=\"color: #000080; font-weight: bold\">7</span>: dice_coef  <span style=\"color: #000080; font-weight: bold\">0.48679458902728173</span>                      <a href=\"file:///home/itrushkin/.virtualenvs/openfl_research/lib/python3.8/site-packages/openfl/component/collaborator/collaborator.py\"><span style=\"color: #7f7f7f\">collaborator.py</span></a><span style=\"color: #7f7f7f\">:365</span>\n",
       "</pre>\n"
      ],
      "text/plain": [
       "<rich.jupyter.JupyterRenderable at 0x7f7420032a00>"
      ]
     },
     "metadata": {},
     "output_type": "display_data"
    },
    {
     "data": {
      "text/html": [
       "<pre style=\"white-space:pre;overflow-x:auto;line-height:normal;font-family:Menlo,'DejaVu Sans Mono',consolas,'Courier New',monospace\"><span style=\"color: #7fbfbf\">           </span><span style=\"color: #000080\">INFO</span>     Collaborator one is sending task results for aggregated_model_validation, round <span style=\"color: #000080; font-weight: bold\">7</span>                                          <a href=\"file:///home/itrushkin/.virtualenvs/openfl_research/lib/python3.8/site-packages/openfl/component/aggregator/aggregator.py\"><span style=\"color: #7f7f7f\">aggregator.py</span></a><span style=\"color: #7f7f7f\">:428</span>\n",
       "</pre>\n"
      ],
      "text/plain": [
       "<rich.jupyter.JupyterRenderable at 0x7f740be36b20>"
      ]
     },
     "metadata": {},
     "output_type": "display_data"
    },
    {
     "data": {
      "text/html": [
       "<pre style=\"white-space:pre;overflow-x:auto;line-height:normal;font-family:Menlo,'DejaVu Sans Mono',consolas,'Courier New',monospace\"><span style=\"color: #7fbfbf\">[17:51:25] </span><span style=\"color: #000080\">INFO</span>     Sending metric for task train, round number <span style=\"color: #000080; font-weight: bold\">7</span>: soft_dice_loss   <span style=\"color: #000080; font-weight: bold\">0.5552520751953125</span>                                       <a href=\"file:///home/itrushkin/.virtualenvs/openfl_research/lib/python3.8/site-packages/openfl/component/collaborator/collaborator.py\"><span style=\"color: #7f7f7f\">collaborator.py</span></a><span style=\"color: #7f7f7f\">:365</span>\n",
       "</pre>\n"
      ],
      "text/plain": [
       "<rich.jupyter.JupyterRenderable at 0x7f7490c9e5b0>"
      ]
     },
     "metadata": {},
     "output_type": "display_data"
    },
    {
     "data": {
      "text/html": [
       "<pre style=\"white-space:pre;overflow-x:auto;line-height:normal;font-family:Menlo,'DejaVu Sans Mono',consolas,'Courier New',monospace\"><span style=\"color: #7fbfbf\">           </span><span style=\"color: #000080\">INFO</span>     Collaborator one is sending task results for train, round <span style=\"color: #000080; font-weight: bold\">7</span>                                                                <a href=\"file:///home/itrushkin/.virtualenvs/openfl_research/lib/python3.8/site-packages/openfl/component/aggregator/aggregator.py\"><span style=\"color: #7f7f7f\">aggregator.py</span></a><span style=\"color: #7f7f7f\">:428</span>\n",
       "</pre>\n"
      ],
      "text/plain": [
       "<rich.jupyter.JupyterRenderable at 0x7f748dc86d30>"
      ]
     },
     "metadata": {},
     "output_type": "display_data"
    },
    {
     "data": {
      "text/html": [
       "<pre style=\"white-space:pre;overflow-x:auto;line-height:normal;font-family:Menlo,'DejaVu Sans Mono',consolas,'Courier New',monospace\"><span style=\"color: #7fbfbf\">[17:51:28] </span><span style=\"color: #000080\">INFO</span>     Sending metric for task locally_tuned_model_validation, round number <span style=\"color: #000080; font-weight: bold\">7</span>: dice_coef       <span style=\"color: #000080; font-weight: bold\">0.4828214414658085</span>               <a href=\"file:///home/itrushkin/.virtualenvs/openfl_research/lib/python3.8/site-packages/openfl/component/collaborator/collaborator.py\"><span style=\"color: #7f7f7f\">collaborator.py</span></a><span style=\"color: #7f7f7f\">:365</span>\n",
       "</pre>\n"
      ],
      "text/plain": [
       "<rich.jupyter.JupyterRenderable at 0x7f740be83160>"
      ]
     },
     "metadata": {},
     "output_type": "display_data"
    },
    {
     "data": {
      "text/html": [
       "<pre style=\"white-space:pre;overflow-x:auto;line-height:normal;font-family:Menlo,'DejaVu Sans Mono',consolas,'Courier New',monospace\"><span style=\"color: #7fbfbf\">           </span><span style=\"color: #000080\">INFO</span>     Collaborator one is sending task results for locally_tuned_model_validation, round <span style=\"color: #000080; font-weight: bold\">7</span>                                       <a href=\"file:///home/itrushkin/.virtualenvs/openfl_research/lib/python3.8/site-packages/openfl/component/aggregator/aggregator.py\"><span style=\"color: #7f7f7f\">aggregator.py</span></a><span style=\"color: #7f7f7f\">:428</span>\n",
       "</pre>\n"
      ],
      "text/plain": [
       "<rich.jupyter.JupyterRenderable at 0x7f742000e160>"
      ]
     },
     "metadata": {},
     "output_type": "display_data"
    },
    {
     "data": {
      "text/html": [
       "<pre style=\"white-space:pre;overflow-x:auto;line-height:normal;font-family:Menlo,'DejaVu Sans Mono',consolas,'Courier New',monospace\"><span style=\"color: #7fbfbf\">           </span><span style=\"color: #000080\">INFO</span>     All tasks completed on one for round <span style=\"color: #000080; font-weight: bold\">7</span><span style=\"color: #808000\">...</span>                                                                                <a href=\"file:///home/itrushkin/.virtualenvs/openfl_research/lib/python3.8/site-packages/openfl/component/collaborator/collaborator.py\"><span style=\"color: #7f7f7f\">collaborator.py</span></a><span style=\"color: #7f7f7f\">:148</span>\n",
       "</pre>\n"
      ],
      "text/plain": [
       "<rich.jupyter.JupyterRenderable at 0x7f742000ee80>"
      ]
     },
     "metadata": {},
     "output_type": "display_data"
    },
    {
     "data": {
      "text/html": [
       "<pre style=\"white-space:pre;overflow-x:auto;line-height:normal;font-family:Menlo,'DejaVu Sans Mono',consolas,'Courier New',monospace\"><span style=\"color: #7fbfbf\">           </span><span style=\"color: #000080\">INFO</span>     Waiting for tasks<span style=\"color: #808000\">...</span>                                                                                                     <a href=\"file:///home/itrushkin/.virtualenvs/openfl_research/lib/python3.8/site-packages/openfl/component/collaborator/collaborator.py\"><span style=\"color: #7f7f7f\">collaborator.py</span></a><span style=\"color: #7f7f7f\">:156</span>\n",
       "</pre>\n"
      ],
      "text/plain": [
       "<rich.jupyter.JupyterRenderable at 0x7f742000eeb0>"
      ]
     },
     "metadata": {},
     "output_type": "display_data"
    },
    {
     "data": {
      "text/html": [
       "<pre style=\"white-space:pre;overflow-x:auto;line-height:normal;font-family:Menlo,'DejaVu Sans Mono',consolas,'Courier New',monospace\"><span style=\"color: #7fbfbf\">           </span><span style=\"color: #000080\">INFO</span>     Sending tasks to collaborator two for round <span style=\"color: #000080; font-weight: bold\">7</span>                                                                              <a href=\"file:///home/itrushkin/.virtualenvs/openfl_research/lib/python3.8/site-packages/openfl/component/aggregator/aggregator.py\"><span style=\"color: #7f7f7f\">aggregator.py</span></a><span style=\"color: #7f7f7f\">:276</span>\n",
       "</pre>\n"
      ],
      "text/plain": [
       "<rich.jupyter.JupyterRenderable at 0x7f748dc854f0>"
      ]
     },
     "metadata": {},
     "output_type": "display_data"
    },
    {
     "data": {
      "text/html": [
       "<pre style=\"white-space:pre;overflow-x:auto;line-height:normal;font-family:Menlo,'DejaVu Sans Mono',consolas,'Courier New',monospace\"><span style=\"color: #7fbfbf\">           </span><span style=\"color: #000080\">INFO</span>     Received the following tasks: <span style=\"font-weight: bold\">[</span><span style=\"color: #008000\">'aggregated_model_validation'</span>, <span style=\"color: #008000\">'train'</span>, <span style=\"color: #008000\">'locally_tuned_model_validation'</span><span style=\"font-weight: bold\">]</span>                 <a href=\"file:///home/itrushkin/.virtualenvs/openfl_research/lib/python3.8/site-packages/openfl/component/collaborator/collaborator.py\"><span style=\"color: #7f7f7f\">collaborator.py</span></a><span style=\"color: #7f7f7f\">:144</span>\n",
       "</pre>\n"
      ],
      "text/plain": [
       "<rich.jupyter.JupyterRenderable at 0x7f742000e280>"
      ]
     },
     "metadata": {},
     "output_type": "display_data"
    },
    {
     "data": {
      "text/html": [
       "<pre style=\"white-space:pre;overflow-x:auto;line-height:normal;font-family:Menlo,'DejaVu Sans Mono',consolas,'Courier New',monospace\"><span style=\"color: #7fbfbf\">[17:51:31] </span><span style=\"color: #000080\">INFO</span>     Sending metric for task aggregated_model_validation, round number <span style=\"color: #000080; font-weight: bold\">7</span>: dice_coef  <span style=\"color: #000080; font-weight: bold\">0.41096355165204695</span>                      <a href=\"file:///home/itrushkin/.virtualenvs/openfl_research/lib/python3.8/site-packages/openfl/component/collaborator/collaborator.py\"><span style=\"color: #7f7f7f\">collaborator.py</span></a><span style=\"color: #7f7f7f\">:365</span>\n",
       "</pre>\n"
      ],
      "text/plain": [
       "<rich.jupyter.JupyterRenderable at 0x7f740be8e730>"
      ]
     },
     "metadata": {},
     "output_type": "display_data"
    },
    {
     "data": {
      "text/html": [
       "<pre style=\"white-space:pre;overflow-x:auto;line-height:normal;font-family:Menlo,'DejaVu Sans Mono',consolas,'Courier New',monospace\"><span style=\"color: #7fbfbf\">           </span><span style=\"color: #000080\">INFO</span>     Collaborator two is sending task results for aggregated_model_validation, round <span style=\"color: #000080; font-weight: bold\">7</span>                                          <a href=\"file:///home/itrushkin/.virtualenvs/openfl_research/lib/python3.8/site-packages/openfl/component/aggregator/aggregator.py\"><span style=\"color: #7f7f7f\">aggregator.py</span></a><span style=\"color: #7f7f7f\">:428</span>\n",
       "</pre>\n"
      ],
      "text/plain": [
       "<rich.jupyter.JupyterRenderable at 0x7f740be8e730>"
      ]
     },
     "metadata": {},
     "output_type": "display_data"
    },
    {
     "data": {
      "text/html": [
       "<pre style=\"white-space:pre;overflow-x:auto;line-height:normal;font-family:Menlo,'DejaVu Sans Mono',consolas,'Courier New',monospace\"><span style=\"color: #7fbfbf\">[17:51:52] </span><span style=\"color: #000080\">INFO</span>     Sending metric for task train, round number <span style=\"color: #000080; font-weight: bold\">7</span>: soft_dice_loss   <span style=\"color: #000080; font-weight: bold\">0.5383422374725342</span>                                       <a href=\"file:///home/itrushkin/.virtualenvs/openfl_research/lib/python3.8/site-packages/openfl/component/collaborator/collaborator.py\"><span style=\"color: #7f7f7f\">collaborator.py</span></a><span style=\"color: #7f7f7f\">:365</span>\n",
       "</pre>\n"
      ],
      "text/plain": [
       "<rich.jupyter.JupyterRenderable at 0x7f740bfffbb0>"
      ]
     },
     "metadata": {},
     "output_type": "display_data"
    },
    {
     "data": {
      "text/html": [
       "<pre style=\"white-space:pre;overflow-x:auto;line-height:normal;font-family:Menlo,'DejaVu Sans Mono',consolas,'Courier New',monospace\"><span style=\"color: #7fbfbf\">           </span><span style=\"color: #000080\">INFO</span>     Collaborator two is sending task results for train, round <span style=\"color: #000080; font-weight: bold\">7</span>                                                                <a href=\"file:///home/itrushkin/.virtualenvs/openfl_research/lib/python3.8/site-packages/openfl/component/aggregator/aggregator.py\"><span style=\"color: #7f7f7f\">aggregator.py</span></a><span style=\"color: #7f7f7f\">:428</span>\n",
       "</pre>\n"
      ],
      "text/plain": [
       "<rich.jupyter.JupyterRenderable at 0x7f740bd941c0>"
      ]
     },
     "metadata": {},
     "output_type": "display_data"
    },
    {
     "data": {
      "text/html": [
       "<pre style=\"white-space:pre;overflow-x:auto;line-height:normal;font-family:Menlo,'DejaVu Sans Mono',consolas,'Courier New',monospace\"><span style=\"color: #7fbfbf\">[17:51:55] </span><span style=\"color: #000080\">INFO</span>     Sending metric for task locally_tuned_model_validation, round number <span style=\"color: #000080; font-weight: bold\">7</span>: dice_coef       <span style=\"color: #000080; font-weight: bold\">0.4175524327062791</span>               <a href=\"file:///home/itrushkin/.virtualenvs/openfl_research/lib/python3.8/site-packages/openfl/component/collaborator/collaborator.py\"><span style=\"color: #7f7f7f\">collaborator.py</span></a><span style=\"color: #7f7f7f\">:365</span>\n",
       "</pre>\n"
      ],
      "text/plain": [
       "<rich.jupyter.JupyterRenderable at 0x7f740be87dc0>"
      ]
     },
     "metadata": {},
     "output_type": "display_data"
    },
    {
     "data": {
      "text/html": [
       "<pre style=\"white-space:pre;overflow-x:auto;line-height:normal;font-family:Menlo,'DejaVu Sans Mono',consolas,'Courier New',monospace\"><span style=\"color: #7fbfbf\">           </span><span style=\"color: #000080\">INFO</span>     Collaborator two is sending task results for locally_tuned_model_validation, round <span style=\"color: #000080; font-weight: bold\">7</span>                                       <a href=\"file:///home/itrushkin/.virtualenvs/openfl_research/lib/python3.8/site-packages/openfl/component/aggregator/aggregator.py\"><span style=\"color: #7f7f7f\">aggregator.py</span></a><span style=\"color: #7f7f7f\">:428</span>\n",
       "</pre>\n"
      ],
      "text/plain": [
       "<rich.jupyter.JupyterRenderable at 0x7f740be87dc0>"
      ]
     },
     "metadata": {},
     "output_type": "display_data"
    },
    {
     "data": {
      "text/html": [
       "<pre style=\"white-space:pre;overflow-x:auto;line-height:normal;font-family:Menlo,'DejaVu Sans Mono',consolas,'Courier New',monospace\"><span style=\"color: #7fbfbf\">           </span><span style=\"color: #000080\">INFO</span>     train task metrics<span style=\"color: #808000\">...</span>                                                                                                      <a href=\"file:///home/itrushkin/.virtualenvs/openfl_research/lib/python3.8/site-packages/openfl/component/aggregator/aggregator.py\"><span style=\"color: #7f7f7f\">aggregator.py</span></a><span style=\"color: #7f7f7f\">:694</span>\n",
       "</pre>\n"
      ],
      "text/plain": [
       "<rich.jupyter.JupyterRenderable at 0x7f740bea5ca0>"
      ]
     },
     "metadata": {},
     "output_type": "display_data"
    },
    {
     "data": {
      "text/html": [
       "<pre style=\"white-space:pre;overflow-x:auto;line-height:normal;font-family:Menlo,'DejaVu Sans Mono',consolas,'Courier New',monospace\"><span style=\"color: #7fbfbf\">           </span><span style=\"color: #000080\">INFO</span>     soft_dice_loss: <span style=\"color: #000080; font-weight: bold\">0.5468</span>                                                                                                     <a href=\"file:///home/itrushkin/.virtualenvs/openfl_research/lib/python3.8/site-packages/openfl/component/aggregator/aggregator.py\"><span style=\"color: #7f7f7f\">aggregator.py</span></a><span style=\"color: #7f7f7f\">:742</span>\n",
       "</pre>\n"
      ],
      "text/plain": [
       "<rich.jupyter.JupyterRenderable at 0x7f740bf06d30>"
      ]
     },
     "metadata": {},
     "output_type": "display_data"
    },
    {
     "data": {
      "text/html": [
       "<pre style=\"white-space:pre;overflow-x:auto;line-height:normal;font-family:Menlo,'DejaVu Sans Mono',consolas,'Courier New',monospace\"><span style=\"color: #7fbfbf\">[17:52:01] </span><span style=\"color: #000080\">INFO</span>     locally_tuned_model_validation task metrics<span style=\"color: #808000\">...</span>                                                                             <a href=\"file:///home/itrushkin/.virtualenvs/openfl_research/lib/python3.8/site-packages/openfl/component/aggregator/aggregator.py\"><span style=\"color: #7f7f7f\">aggregator.py</span></a><span style=\"color: #7f7f7f\">:694</span>\n",
       "</pre>\n"
      ],
      "text/plain": [
       "<rich.jupyter.JupyterRenderable at 0x7f7490cc0be0>"
      ]
     },
     "metadata": {},
     "output_type": "display_data"
    },
    {
     "data": {
      "text/html": [
       "<pre style=\"white-space:pre;overflow-x:auto;line-height:normal;font-family:Menlo,'DejaVu Sans Mono',consolas,'Courier New',monospace\"><span style=\"color: #7fbfbf\">           </span><span style=\"color: #000080\">INFO</span>     dice_coef:      <span style=\"color: #000080; font-weight: bold\">0.4502</span>                                                                                                     <a href=\"file:///home/itrushkin/.virtualenvs/openfl_research/lib/python3.8/site-packages/openfl/component/aggregator/aggregator.py\"><span style=\"color: #7f7f7f\">aggregator.py</span></a><span style=\"color: #7f7f7f\">:742</span>\n",
       "</pre>\n"
      ],
      "text/plain": [
       "<rich.jupyter.JupyterRenderable at 0x7f7490cc0be0>"
      ]
     },
     "metadata": {},
     "output_type": "display_data"
    },
    {
     "data": {
      "text/html": [
       "<pre style=\"white-space:pre;overflow-x:auto;line-height:normal;font-family:Menlo,'DejaVu Sans Mono',consolas,'Courier New',monospace\"><span style=\"color: #7fbfbf\">           </span><span style=\"color: #000080\">INFO</span>     aggregated_model_validation task metrics<span style=\"color: #808000\">...</span>                                                                                <a href=\"file:///home/itrushkin/.virtualenvs/openfl_research/lib/python3.8/site-packages/openfl/component/aggregator/aggregator.py\"><span style=\"color: #7f7f7f\">aggregator.py</span></a><span style=\"color: #7f7f7f\">:694</span>\n",
       "</pre>\n"
      ],
      "text/plain": [
       "<rich.jupyter.JupyterRenderable at 0x7f740bcdcca0>"
      ]
     },
     "metadata": {},
     "output_type": "display_data"
    },
    {
     "data": {
      "text/html": [
       "<pre style=\"white-space:pre;overflow-x:auto;line-height:normal;font-family:Menlo,'DejaVu Sans Mono',consolas,'Courier New',monospace\"><span style=\"color: #7fbfbf\">           </span><span style=\"color: #000080\">INFO</span>     dice_coef:      <span style=\"color: #000080; font-weight: bold\">0.4489</span>                                                                                                     <a href=\"file:///home/itrushkin/.virtualenvs/openfl_research/lib/python3.8/site-packages/openfl/component/aggregator/aggregator.py\"><span style=\"color: #7f7f7f\">aggregator.py</span></a><span style=\"color: #7f7f7f\">:742</span>\n",
       "</pre>\n"
      ],
      "text/plain": [
       "<rich.jupyter.JupyterRenderable at 0x7f740bcdcdc0>"
      ]
     },
     "metadata": {},
     "output_type": "display_data"
    },
    {
     "data": {
      "text/html": [
       "<pre style=\"white-space:pre;overflow-x:auto;line-height:normal;font-family:Menlo,'DejaVu Sans Mono',consolas,'Courier New',monospace\"><span style=\"color: #7fbfbf\">           </span><span style=\"color: #000080\">INFO</span>     Saved the best model with score <span style=\"color: #000080; font-weight: bold\">0.448879</span>                                                                                   <a href=\"file:///home/itrushkin/.virtualenvs/openfl_research/lib/python3.8/site-packages/openfl/component/aggregator/aggregator.py\"><span style=\"color: #7f7f7f\">aggregator.py</span></a><span style=\"color: #7f7f7f\">:749</span>\n",
       "</pre>\n"
      ],
      "text/plain": [
       "<rich.jupyter.JupyterRenderable at 0x7f748dc85d30>"
      ]
     },
     "metadata": {},
     "output_type": "display_data"
    },
    {
     "data": {
      "text/html": [
       "<pre style=\"white-space:pre;overflow-x:auto;line-height:normal;font-family:Menlo,'DejaVu Sans Mono',consolas,'Courier New',monospace\"><span style=\"color: #7fbfbf\">[17:52:02] </span><span style=\"color: #000080\">INFO</span>     Saving round <span style=\"color: #000080; font-weight: bold\">8</span> model<span style=\"color: #808000\">...</span>                                                                                                    <a href=\"file:///home/itrushkin/.virtualenvs/openfl_research/lib/python3.8/site-packages/openfl/component/aggregator/aggregator.py\"><span style=\"color: #7f7f7f\">aggregator.py</span></a><span style=\"color: #7f7f7f\">:783</span>\n",
       "</pre>\n"
      ],
      "text/plain": [
       "<rich.jupyter.JupyterRenderable at 0x7f740bfd5580>"
      ]
     },
     "metadata": {},
     "output_type": "display_data"
    },
    {
     "data": {
      "text/html": [
       "<pre style=\"white-space:pre;overflow-x:auto;line-height:normal;font-family:Menlo,'DejaVu Sans Mono',consolas,'Courier New',monospace\"><span style=\"color: #7fbfbf\">           </span><span style=\"color: #000080\">INFO</span>     Starting round <span style=\"color: #000080; font-weight: bold\">8</span><span style=\"color: #808000\">...</span>                                                                                                        <a href=\"file:///home/itrushkin/.virtualenvs/openfl_research/lib/python3.8/site-packages/openfl/component/aggregator/aggregator.py\"><span style=\"color: #7f7f7f\">aggregator.py</span></a><span style=\"color: #7f7f7f\">:791</span>\n",
       "</pre>\n"
      ],
      "text/plain": [
       "<rich.jupyter.JupyterRenderable at 0x7f740be8e730>"
      ]
     },
     "metadata": {},
     "output_type": "display_data"
    },
    {
     "data": {
      "text/html": [
       "<pre style=\"white-space:pre;overflow-x:auto;line-height:normal;font-family:Menlo,'DejaVu Sans Mono',consolas,'Courier New',monospace\"><span style=\"color: #7fbfbf\">           </span><span style=\"color: #000080\">INFO</span>     All tasks completed on two for round <span style=\"color: #000080; font-weight: bold\">7</span><span style=\"color: #808000\">...</span>                                                                                <a href=\"file:///home/itrushkin/.virtualenvs/openfl_research/lib/python3.8/site-packages/openfl/component/collaborator/collaborator.py\"><span style=\"color: #7f7f7f\">collaborator.py</span></a><span style=\"color: #7f7f7f\">:148</span>\n",
       "</pre>\n"
      ],
      "text/plain": [
       "<rich.jupyter.JupyterRenderable at 0x7f73fb224580>"
      ]
     },
     "metadata": {},
     "output_type": "display_data"
    },
    {
     "data": {
      "text/html": [
       "<pre style=\"white-space:pre;overflow-x:auto;line-height:normal;font-family:Menlo,'DejaVu Sans Mono',consolas,'Courier New',monospace\"><span style=\"color: #7fbfbf\">           </span><span style=\"color: #000080\">INFO</span>     Waiting for tasks<span style=\"color: #808000\">...</span>                                                                                                     <a href=\"file:///home/itrushkin/.virtualenvs/openfl_research/lib/python3.8/site-packages/openfl/component/collaborator/collaborator.py\"><span style=\"color: #7f7f7f\">collaborator.py</span></a><span style=\"color: #7f7f7f\">:156</span>\n",
       "</pre>\n"
      ],
      "text/plain": [
       "<rich.jupyter.JupyterRenderable at 0x7f7490d3f3d0>"
      ]
     },
     "metadata": {},
     "output_type": "display_data"
    },
    {
     "data": {
      "text/html": [
       "<pre style=\"white-space:pre;overflow-x:auto;line-height:normal;font-family:Menlo,'DejaVu Sans Mono',consolas,'Courier New',monospace\"><span style=\"color: #7fbfbf\">           </span><span style=\"color: #000080\">INFO</span>     Sending tasks to collaborator one for round <span style=\"color: #000080; font-weight: bold\">8</span>                                                                              <a href=\"file:///home/itrushkin/.virtualenvs/openfl_research/lib/python3.8/site-packages/openfl/component/aggregator/aggregator.py\"><span style=\"color: #7f7f7f\">aggregator.py</span></a><span style=\"color: #7f7f7f\">:276</span>\n",
       "</pre>\n"
      ],
      "text/plain": [
       "<rich.jupyter.JupyterRenderable at 0x7f740bd5c340>"
      ]
     },
     "metadata": {},
     "output_type": "display_data"
    },
    {
     "data": {
      "text/html": [
       "<pre style=\"white-space:pre;overflow-x:auto;line-height:normal;font-family:Menlo,'DejaVu Sans Mono',consolas,'Courier New',monospace\"><span style=\"color: #7fbfbf\">           </span><span style=\"color: #000080\">INFO</span>     Received the following tasks: <span style=\"font-weight: bold\">[</span><span style=\"color: #008000\">'aggregated_model_validation'</span>, <span style=\"color: #008000\">'train'</span>, <span style=\"color: #008000\">'locally_tuned_model_validation'</span><span style=\"font-weight: bold\">]</span>                 <a href=\"file:///home/itrushkin/.virtualenvs/openfl_research/lib/python3.8/site-packages/openfl/component/collaborator/collaborator.py\"><span style=\"color: #7f7f7f\">collaborator.py</span></a><span style=\"color: #7f7f7f\">:144</span>\n",
       "</pre>\n"
      ],
      "text/plain": [
       "<rich.jupyter.JupyterRenderable at 0x7f73fb224580>"
      ]
     },
     "metadata": {},
     "output_type": "display_data"
    },
    {
     "data": {
      "text/html": [
       "<pre style=\"white-space:pre;overflow-x:auto;line-height:normal;font-family:Menlo,'DejaVu Sans Mono',consolas,'Courier New',monospace\"><span style=\"color: #7fbfbf\">[17:52:05] </span><span style=\"color: #000080\">INFO</span>     Sending metric for task aggregated_model_validation, round number <span style=\"color: #000080; font-weight: bold\">8</span>: dice_coef  <span style=\"color: #000080; font-weight: bold\">0.49110506234630463</span>                      <a href=\"file:///home/itrushkin/.virtualenvs/openfl_research/lib/python3.8/site-packages/openfl/component/collaborator/collaborator.py\"><span style=\"color: #7f7f7f\">collaborator.py</span></a><span style=\"color: #7f7f7f\">:365</span>\n",
       "</pre>\n"
      ],
      "text/plain": [
       "<rich.jupyter.JupyterRenderable at 0x7f740bd5c340>"
      ]
     },
     "metadata": {},
     "output_type": "display_data"
    },
    {
     "data": {
      "text/html": [
       "<pre style=\"white-space:pre;overflow-x:auto;line-height:normal;font-family:Menlo,'DejaVu Sans Mono',consolas,'Courier New',monospace\"><span style=\"color: #7fbfbf\">           </span><span style=\"color: #000080\">INFO</span>     Collaborator one is sending task results for aggregated_model_validation, round <span style=\"color: #000080; font-weight: bold\">8</span>                                          <a href=\"file:///home/itrushkin/.virtualenvs/openfl_research/lib/python3.8/site-packages/openfl/component/aggregator/aggregator.py\"><span style=\"color: #7f7f7f\">aggregator.py</span></a><span style=\"color: #7f7f7f\">:428</span>\n",
       "</pre>\n"
      ],
      "text/plain": [
       "<rich.jupyter.JupyterRenderable at 0x7f740be36490>"
      ]
     },
     "metadata": {},
     "output_type": "display_data"
    },
    {
     "data": {
      "text/html": [
       "<pre style=\"white-space:pre;overflow-x:auto;line-height:normal;font-family:Menlo,'DejaVu Sans Mono',consolas,'Courier New',monospace\"><span style=\"color: #7fbfbf\">[17:52:26] </span><span style=\"color: #000080\">INFO</span>     Sending metric for task train, round number <span style=\"color: #000080; font-weight: bold\">8</span>: soft_dice_loss   <span style=\"color: #000080; font-weight: bold\">0.5618945360183716</span>                                       <a href=\"file:///home/itrushkin/.virtualenvs/openfl_research/lib/python3.8/site-packages/openfl/component/collaborator/collaborator.py\"><span style=\"color: #7f7f7f\">collaborator.py</span></a><span style=\"color: #7f7f7f\">:365</span>\n",
       "</pre>\n"
      ],
      "text/plain": [
       "<rich.jupyter.JupyterRenderable at 0x7f740b4ba550>"
      ]
     },
     "metadata": {},
     "output_type": "display_data"
    },
    {
     "data": {
      "text/html": [
       "<pre style=\"white-space:pre;overflow-x:auto;line-height:normal;font-family:Menlo,'DejaVu Sans Mono',consolas,'Courier New',monospace\"><span style=\"color: #7fbfbf\">           </span><span style=\"color: #000080\">INFO</span>     Collaborator one is sending task results for train, round <span style=\"color: #000080; font-weight: bold\">8</span>                                                                <a href=\"file:///home/itrushkin/.virtualenvs/openfl_research/lib/python3.8/site-packages/openfl/component/aggregator/aggregator.py\"><span style=\"color: #7f7f7f\">aggregator.py</span></a><span style=\"color: #7f7f7f\">:428</span>\n",
       "</pre>\n"
      ],
      "text/plain": [
       "<rich.jupyter.JupyterRenderable at 0x7f740b4ba220>"
      ]
     },
     "metadata": {},
     "output_type": "display_data"
    },
    {
     "data": {
      "text/html": [
       "<pre style=\"white-space:pre;overflow-x:auto;line-height:normal;font-family:Menlo,'DejaVu Sans Mono',consolas,'Courier New',monospace\"><span style=\"color: #7fbfbf\">[17:52:29] </span><span style=\"color: #000080\">INFO</span>     Sending metric for task locally_tuned_model_validation, round number <span style=\"color: #000080; font-weight: bold\">8</span>: dice_coef       <span style=\"color: #000080; font-weight: bold\">0.46602303943326395</span>              <a href=\"file:///home/itrushkin/.virtualenvs/openfl_research/lib/python3.8/site-packages/openfl/component/collaborator/collaborator.py\"><span style=\"color: #7f7f7f\">collaborator.py</span></a><span style=\"color: #7f7f7f\">:365</span>\n",
       "</pre>\n"
      ],
      "text/plain": [
       "<rich.jupyter.JupyterRenderable at 0x7f740bd9e130>"
      ]
     },
     "metadata": {},
     "output_type": "display_data"
    },
    {
     "data": {
      "text/html": [
       "<pre style=\"white-space:pre;overflow-x:auto;line-height:normal;font-family:Menlo,'DejaVu Sans Mono',consolas,'Courier New',monospace\"><span style=\"color: #7fbfbf\">           </span><span style=\"color: #000080\">INFO</span>     Collaborator one is sending task results for locally_tuned_model_validation, round <span style=\"color: #000080; font-weight: bold\">8</span>                                       <a href=\"file:///home/itrushkin/.virtualenvs/openfl_research/lib/python3.8/site-packages/openfl/component/aggregator/aggregator.py\"><span style=\"color: #7f7f7f\">aggregator.py</span></a><span style=\"color: #7f7f7f\">:428</span>\n",
       "</pre>\n"
      ],
      "text/plain": [
       "<rich.jupyter.JupyterRenderable at 0x7f740bd9e070>"
      ]
     },
     "metadata": {},
     "output_type": "display_data"
    },
    {
     "data": {
      "text/html": [
       "<pre style=\"white-space:pre;overflow-x:auto;line-height:normal;font-family:Menlo,'DejaVu Sans Mono',consolas,'Courier New',monospace\"><span style=\"color: #7fbfbf\">           </span><span style=\"color: #000080\">INFO</span>     All tasks completed on one for round <span style=\"color: #000080; font-weight: bold\">8</span><span style=\"color: #808000\">...</span>                                                                                <a href=\"file:///home/itrushkin/.virtualenvs/openfl_research/lib/python3.8/site-packages/openfl/component/collaborator/collaborator.py\"><span style=\"color: #7f7f7f\">collaborator.py</span></a><span style=\"color: #7f7f7f\">:148</span>\n",
       "</pre>\n"
      ],
      "text/plain": [
       "<rich.jupyter.JupyterRenderable at 0x7f740bd9ef70>"
      ]
     },
     "metadata": {},
     "output_type": "display_data"
    },
    {
     "data": {
      "text/html": [
       "<pre style=\"white-space:pre;overflow-x:auto;line-height:normal;font-family:Menlo,'DejaVu Sans Mono',consolas,'Courier New',monospace\"><span style=\"color: #7fbfbf\">           </span><span style=\"color: #000080\">INFO</span>     Waiting for tasks<span style=\"color: #808000\">...</span>                                                                                                     <a href=\"file:///home/itrushkin/.virtualenvs/openfl_research/lib/python3.8/site-packages/openfl/component/collaborator/collaborator.py\"><span style=\"color: #7f7f7f\">collaborator.py</span></a><span style=\"color: #7f7f7f\">:156</span>\n",
       "</pre>\n"
      ],
      "text/plain": [
       "<rich.jupyter.JupyterRenderable at 0x7f740bd9eee0>"
      ]
     },
     "metadata": {},
     "output_type": "display_data"
    },
    {
     "data": {
      "text/html": [
       "<pre style=\"white-space:pre;overflow-x:auto;line-height:normal;font-family:Menlo,'DejaVu Sans Mono',consolas,'Courier New',monospace\"><span style=\"color: #7fbfbf\">           </span><span style=\"color: #000080\">INFO</span>     Sending tasks to collaborator two for round <span style=\"color: #000080; font-weight: bold\">8</span>                                                                              <a href=\"file:///home/itrushkin/.virtualenvs/openfl_research/lib/python3.8/site-packages/openfl/component/aggregator/aggregator.py\"><span style=\"color: #7f7f7f\">aggregator.py</span></a><span style=\"color: #7f7f7f\">:276</span>\n",
       "</pre>\n"
      ],
      "text/plain": [
       "<rich.jupyter.JupyterRenderable at 0x7f740bd9e6a0>"
      ]
     },
     "metadata": {},
     "output_type": "display_data"
    },
    {
     "data": {
      "text/html": [
       "<pre style=\"white-space:pre;overflow-x:auto;line-height:normal;font-family:Menlo,'DejaVu Sans Mono',consolas,'Courier New',monospace\"><span style=\"color: #7fbfbf\">           </span><span style=\"color: #000080\">INFO</span>     Received the following tasks: <span style=\"font-weight: bold\">[</span><span style=\"color: #008000\">'aggregated_model_validation'</span>, <span style=\"color: #008000\">'train'</span>, <span style=\"color: #008000\">'locally_tuned_model_validation'</span><span style=\"font-weight: bold\">]</span>                 <a href=\"file:///home/itrushkin/.virtualenvs/openfl_research/lib/python3.8/site-packages/openfl/component/collaborator/collaborator.py\"><span style=\"color: #7f7f7f\">collaborator.py</span></a><span style=\"color: #7f7f7f\">:144</span>\n",
       "</pre>\n"
      ],
      "text/plain": [
       "<rich.jupyter.JupyterRenderable at 0x7f740bd9ef70>"
      ]
     },
     "metadata": {},
     "output_type": "display_data"
    },
    {
     "data": {
      "text/html": [
       "<pre style=\"white-space:pre;overflow-x:auto;line-height:normal;font-family:Menlo,'DejaVu Sans Mono',consolas,'Courier New',monospace\"><span style=\"color: #7fbfbf\">[17:52:32] </span><span style=\"color: #000080\">INFO</span>     Sending metric for task aggregated_model_validation, round number <span style=\"color: #000080; font-weight: bold\">8</span>: dice_coef  <span style=\"color: #000080; font-weight: bold\">0.41813477200846516</span>                      <a href=\"file:///home/itrushkin/.virtualenvs/openfl_research/lib/python3.8/site-packages/openfl/component/collaborator/collaborator.py\"><span style=\"color: #7f7f7f\">collaborator.py</span></a><span style=\"color: #7f7f7f\">:365</span>\n",
       "</pre>\n"
      ],
      "text/plain": [
       "<rich.jupyter.JupyterRenderable at 0x7f740bf2fee0>"
      ]
     },
     "metadata": {},
     "output_type": "display_data"
    },
    {
     "data": {
      "text/html": [
       "<pre style=\"white-space:pre;overflow-x:auto;line-height:normal;font-family:Menlo,'DejaVu Sans Mono',consolas,'Courier New',monospace\"><span style=\"color: #7fbfbf\">           </span><span style=\"color: #000080\">INFO</span>     Collaborator two is sending task results for aggregated_model_validation, round <span style=\"color: #000080; font-weight: bold\">8</span>                                          <a href=\"file:///home/itrushkin/.virtualenvs/openfl_research/lib/python3.8/site-packages/openfl/component/aggregator/aggregator.py\"><span style=\"color: #7f7f7f\">aggregator.py</span></a><span style=\"color: #7f7f7f\">:428</span>\n",
       "</pre>\n"
      ],
      "text/plain": [
       "<rich.jupyter.JupyterRenderable at 0x7f740bf2fd30>"
      ]
     },
     "metadata": {},
     "output_type": "display_data"
    },
    {
     "data": {
      "text/html": [
       "<pre style=\"white-space:pre;overflow-x:auto;line-height:normal;font-family:Menlo,'DejaVu Sans Mono',consolas,'Courier New',monospace\"><span style=\"color: #7fbfbf\">[17:52:54] </span><span style=\"color: #000080\">INFO</span>     Sending metric for task train, round number <span style=\"color: #000080; font-weight: bold\">8</span>: soft_dice_loss   <span style=\"color: #000080; font-weight: bold\">0.534250020980835</span>                                        <a href=\"file:///home/itrushkin/.virtualenvs/openfl_research/lib/python3.8/site-packages/openfl/component/collaborator/collaborator.py\"><span style=\"color: #7f7f7f\">collaborator.py</span></a><span style=\"color: #7f7f7f\">:365</span>\n",
       "</pre>\n"
      ],
      "text/plain": [
       "<rich.jupyter.JupyterRenderable at 0x7f7490c9ecd0>"
      ]
     },
     "metadata": {},
     "output_type": "display_data"
    },
    {
     "data": {
      "text/html": [
       "<pre style=\"white-space:pre;overflow-x:auto;line-height:normal;font-family:Menlo,'DejaVu Sans Mono',consolas,'Courier New',monospace\"><span style=\"color: #7fbfbf\">           </span><span style=\"color: #000080\">INFO</span>     Collaborator two is sending task results for train, round <span style=\"color: #000080; font-weight: bold\">8</span>                                                                <a href=\"file:///home/itrushkin/.virtualenvs/openfl_research/lib/python3.8/site-packages/openfl/component/aggregator/aggregator.py\"><span style=\"color: #7f7f7f\">aggregator.py</span></a><span style=\"color: #7f7f7f\">:428</span>\n",
       "</pre>\n"
      ],
      "text/plain": [
       "<rich.jupyter.JupyterRenderable at 0x7f740bf06070>"
      ]
     },
     "metadata": {},
     "output_type": "display_data"
    },
    {
     "data": {
      "text/html": [
       "<pre style=\"white-space:pre;overflow-x:auto;line-height:normal;font-family:Menlo,'DejaVu Sans Mono',consolas,'Courier New',monospace\"><span style=\"color: #7fbfbf\">[17:52:56] </span><span style=\"color: #000080\">INFO</span>     Sending metric for task locally_tuned_model_validation, round number <span style=\"color: #000080; font-weight: bold\">8</span>: dice_coef       <span style=\"color: #000080; font-weight: bold\">0.41231230381996403</span>              <a href=\"file:///home/itrushkin/.virtualenvs/openfl_research/lib/python3.8/site-packages/openfl/component/collaborator/collaborator.py\"><span style=\"color: #7f7f7f\">collaborator.py</span></a><span style=\"color: #7f7f7f\">:365</span>\n",
       "</pre>\n"
      ],
      "text/plain": [
       "<rich.jupyter.JupyterRenderable at 0x7f740bf62520>"
      ]
     },
     "metadata": {},
     "output_type": "display_data"
    },
    {
     "data": {
      "text/html": [
       "<pre style=\"white-space:pre;overflow-x:auto;line-height:normal;font-family:Menlo,'DejaVu Sans Mono',consolas,'Courier New',monospace\"><span style=\"color: #7fbfbf\">           </span><span style=\"color: #000080\">INFO</span>     Collaborator two is sending task results for locally_tuned_model_validation, round <span style=\"color: #000080; font-weight: bold\">8</span>                                       <a href=\"file:///home/itrushkin/.virtualenvs/openfl_research/lib/python3.8/site-packages/openfl/component/aggregator/aggregator.py\"><span style=\"color: #7f7f7f\">aggregator.py</span></a><span style=\"color: #7f7f7f\">:428</span>\n",
       "</pre>\n"
      ],
      "text/plain": [
       "<rich.jupyter.JupyterRenderable at 0x7f740bf62a00>"
      ]
     },
     "metadata": {},
     "output_type": "display_data"
    },
    {
     "data": {
      "text/html": [
       "<pre style=\"white-space:pre;overflow-x:auto;line-height:normal;font-family:Menlo,'DejaVu Sans Mono',consolas,'Courier New',monospace\"><span style=\"color: #7fbfbf\">           </span><span style=\"color: #000080\">INFO</span>     train task metrics<span style=\"color: #808000\">...</span>                                                                                                      <a href=\"file:///home/itrushkin/.virtualenvs/openfl_research/lib/python3.8/site-packages/openfl/component/aggregator/aggregator.py\"><span style=\"color: #7f7f7f\">aggregator.py</span></a><span style=\"color: #7f7f7f\">:694</span>\n",
       "</pre>\n"
      ],
      "text/plain": [
       "<rich.jupyter.JupyterRenderable at 0x7f740bf62070>"
      ]
     },
     "metadata": {},
     "output_type": "display_data"
    },
    {
     "data": {
      "text/html": [
       "<pre style=\"white-space:pre;overflow-x:auto;line-height:normal;font-family:Menlo,'DejaVu Sans Mono',consolas,'Courier New',monospace\"><span style=\"color: #7fbfbf\">           </span><span style=\"color: #000080\">INFO</span>     soft_dice_loss: <span style=\"color: #000080; font-weight: bold\">0.5481</span>                                                                                                     <a href=\"file:///home/itrushkin/.virtualenvs/openfl_research/lib/python3.8/site-packages/openfl/component/aggregator/aggregator.py\"><span style=\"color: #7f7f7f\">aggregator.py</span></a><span style=\"color: #7f7f7f\">:742</span>\n",
       "</pre>\n"
      ],
      "text/plain": [
       "<rich.jupyter.JupyterRenderable at 0x7f740bf62520>"
      ]
     },
     "metadata": {},
     "output_type": "display_data"
    },
    {
     "data": {
      "text/html": [
       "<pre style=\"white-space:pre;overflow-x:auto;line-height:normal;font-family:Menlo,'DejaVu Sans Mono',consolas,'Courier New',monospace\"><span style=\"color: #7fbfbf\">[17:53:02] </span><span style=\"color: #000080\">INFO</span>     locally_tuned_model_validation task metrics<span style=\"color: #808000\">...</span>                                                                             <a href=\"file:///home/itrushkin/.virtualenvs/openfl_research/lib/python3.8/site-packages/openfl/component/aggregator/aggregator.py\"><span style=\"color: #7f7f7f\">aggregator.py</span></a><span style=\"color: #7f7f7f\">:694</span>\n",
       "</pre>\n"
      ],
      "text/plain": [
       "<rich.jupyter.JupyterRenderable at 0x7f740bef3ee0>"
      ]
     },
     "metadata": {},
     "output_type": "display_data"
    },
    {
     "data": {
      "text/html": [
       "<pre style=\"white-space:pre;overflow-x:auto;line-height:normal;font-family:Menlo,'DejaVu Sans Mono',consolas,'Courier New',monospace\"><span style=\"color: #7fbfbf\">           </span><span style=\"color: #000080\">INFO</span>     dice_coef:      <span style=\"color: #000080; font-weight: bold\">0.4392</span>                                                                                                     <a href=\"file:///home/itrushkin/.virtualenvs/openfl_research/lib/python3.8/site-packages/openfl/component/aggregator/aggregator.py\"><span style=\"color: #7f7f7f\">aggregator.py</span></a><span style=\"color: #7f7f7f\">:742</span>\n",
       "</pre>\n"
      ],
      "text/plain": [
       "<rich.jupyter.JupyterRenderable at 0x7f740bee4c10>"
      ]
     },
     "metadata": {},
     "output_type": "display_data"
    },
    {
     "data": {
      "text/html": [
       "<pre style=\"white-space:pre;overflow-x:auto;line-height:normal;font-family:Menlo,'DejaVu Sans Mono',consolas,'Courier New',monospace\"><span style=\"color: #7fbfbf\">           </span><span style=\"color: #000080\">INFO</span>     aggregated_model_validation task metrics<span style=\"color: #808000\">...</span>                                                                                <a href=\"file:///home/itrushkin/.virtualenvs/openfl_research/lib/python3.8/site-packages/openfl/component/aggregator/aggregator.py\"><span style=\"color: #7f7f7f\">aggregator.py</span></a><span style=\"color: #7f7f7f\">:694</span>\n",
       "</pre>\n"
      ],
      "text/plain": [
       "<rich.jupyter.JupyterRenderable at 0x7f740bef3550>"
      ]
     },
     "metadata": {},
     "output_type": "display_data"
    },
    {
     "data": {
      "text/html": [
       "<pre style=\"white-space:pre;overflow-x:auto;line-height:normal;font-family:Menlo,'DejaVu Sans Mono',consolas,'Courier New',monospace\"><span style=\"color: #7fbfbf\">           </span><span style=\"color: #000080\">INFO</span>     dice_coef:      <span style=\"color: #000080; font-weight: bold\">0.4546</span>                                                                                                     <a href=\"file:///home/itrushkin/.virtualenvs/openfl_research/lib/python3.8/site-packages/openfl/component/aggregator/aggregator.py\"><span style=\"color: #7f7f7f\">aggregator.py</span></a><span style=\"color: #7f7f7f\">:742</span>\n",
       "</pre>\n"
      ],
      "text/plain": [
       "<rich.jupyter.JupyterRenderable at 0x7f740be87610>"
      ]
     },
     "metadata": {},
     "output_type": "display_data"
    },
    {
     "data": {
      "text/html": [
       "<pre style=\"white-space:pre;overflow-x:auto;line-height:normal;font-family:Menlo,'DejaVu Sans Mono',consolas,'Courier New',monospace\"><span style=\"color: #7fbfbf\">           </span><span style=\"color: #000080\">INFO</span>     Saved the best model with score <span style=\"color: #000080; font-weight: bold\">0.454620</span>                                                                                   <a href=\"file:///home/itrushkin/.virtualenvs/openfl_research/lib/python3.8/site-packages/openfl/component/aggregator/aggregator.py\"><span style=\"color: #7f7f7f\">aggregator.py</span></a><span style=\"color: #7f7f7f\">:749</span>\n",
       "</pre>\n"
      ],
      "text/plain": [
       "<rich.jupyter.JupyterRenderable at 0x7f740bef3b20>"
      ]
     },
     "metadata": {},
     "output_type": "display_data"
    },
    {
     "data": {
      "text/html": [
       "<pre style=\"white-space:pre;overflow-x:auto;line-height:normal;font-family:Menlo,'DejaVu Sans Mono',consolas,'Courier New',monospace\"><span style=\"color: #7fbfbf\">[17:53:03] </span><span style=\"color: #000080\">INFO</span>     Saving round <span style=\"color: #000080; font-weight: bold\">9</span> model<span style=\"color: #808000\">...</span>                                                                                                    <a href=\"file:///home/itrushkin/.virtualenvs/openfl_research/lib/python3.8/site-packages/openfl/component/aggregator/aggregator.py\"><span style=\"color: #7f7f7f\">aggregator.py</span></a><span style=\"color: #7f7f7f\">:783</span>\n",
       "</pre>\n"
      ],
      "text/plain": [
       "<rich.jupyter.JupyterRenderable at 0x7f740bee4c10>"
      ]
     },
     "metadata": {},
     "output_type": "display_data"
    },
    {
     "data": {
      "text/html": [
       "<pre style=\"white-space:pre;overflow-x:auto;line-height:normal;font-family:Menlo,'DejaVu Sans Mono',consolas,'Courier New',monospace\"><span style=\"color: #7fbfbf\">           </span><span style=\"color: #000080\">INFO</span>     Starting round <span style=\"color: #000080; font-weight: bold\">9</span><span style=\"color: #808000\">...</span>                                                                                                        <a href=\"file:///home/itrushkin/.virtualenvs/openfl_research/lib/python3.8/site-packages/openfl/component/aggregator/aggregator.py\"><span style=\"color: #7f7f7f\">aggregator.py</span></a><span style=\"color: #7f7f7f\">:791</span>\n",
       "</pre>\n"
      ],
      "text/plain": [
       "<rich.jupyter.JupyterRenderable at 0x7f740ad616a0>"
      ]
     },
     "metadata": {},
     "output_type": "display_data"
    },
    {
     "data": {
      "text/html": [
       "<pre style=\"white-space:pre;overflow-x:auto;line-height:normal;font-family:Menlo,'DejaVu Sans Mono',consolas,'Courier New',monospace\"><span style=\"color: #7fbfbf\">           </span><span style=\"color: #000080\">INFO</span>     All tasks completed on two for round <span style=\"color: #000080; font-weight: bold\">8</span><span style=\"color: #808000\">...</span>                                                                                <a href=\"file:///home/itrushkin/.virtualenvs/openfl_research/lib/python3.8/site-packages/openfl/component/collaborator/collaborator.py\"><span style=\"color: #7f7f7f\">collaborator.py</span></a><span style=\"color: #7f7f7f\">:148</span>\n",
       "</pre>\n"
      ],
      "text/plain": [
       "<rich.jupyter.JupyterRenderable at 0x7f742003f400>"
      ]
     },
     "metadata": {},
     "output_type": "display_data"
    },
    {
     "data": {
      "text/html": [
       "<pre style=\"white-space:pre;overflow-x:auto;line-height:normal;font-family:Menlo,'DejaVu Sans Mono',consolas,'Courier New',monospace\"><span style=\"color: #7fbfbf\">           </span><span style=\"color: #000080\">INFO</span>     Waiting for tasks<span style=\"color: #808000\">...</span>                                                                                                     <a href=\"file:///home/itrushkin/.virtualenvs/openfl_research/lib/python3.8/site-packages/openfl/component/collaborator/collaborator.py\"><span style=\"color: #7f7f7f\">collaborator.py</span></a><span style=\"color: #7f7f7f\">:156</span>\n",
       "</pre>\n"
      ],
      "text/plain": [
       "<rich.jupyter.JupyterRenderable at 0x7f740bdb9fd0>"
      ]
     },
     "metadata": {},
     "output_type": "display_data"
    },
    {
     "data": {
      "text/html": [
       "<pre style=\"white-space:pre;overflow-x:auto;line-height:normal;font-family:Menlo,'DejaVu Sans Mono',consolas,'Courier New',monospace\"><span style=\"color: #7fbfbf\">           </span><span style=\"color: #000080\">INFO</span>     Sending tasks to collaborator one for round <span style=\"color: #000080; font-weight: bold\">9</span>                                                                              <a href=\"file:///home/itrushkin/.virtualenvs/openfl_research/lib/python3.8/site-packages/openfl/component/aggregator/aggregator.py\"><span style=\"color: #7f7f7f\">aggregator.py</span></a><span style=\"color: #7f7f7f\">:276</span>\n",
       "</pre>\n"
      ],
      "text/plain": [
       "<rich.jupyter.JupyterRenderable at 0x7f748dc85e20>"
      ]
     },
     "metadata": {},
     "output_type": "display_data"
    },
    {
     "data": {
      "text/html": [
       "<pre style=\"white-space:pre;overflow-x:auto;line-height:normal;font-family:Menlo,'DejaVu Sans Mono',consolas,'Courier New',monospace\"><span style=\"color: #7fbfbf\">           </span><span style=\"color: #000080\">INFO</span>     Received the following tasks: <span style=\"font-weight: bold\">[</span><span style=\"color: #008000\">'aggregated_model_validation'</span>, <span style=\"color: #008000\">'train'</span>, <span style=\"color: #008000\">'locally_tuned_model_validation'</span><span style=\"font-weight: bold\">]</span>                 <a href=\"file:///home/itrushkin/.virtualenvs/openfl_research/lib/python3.8/site-packages/openfl/component/collaborator/collaborator.py\"><span style=\"color: #7f7f7f\">collaborator.py</span></a><span style=\"color: #7f7f7f\">:144</span>\n",
       "</pre>\n"
      ],
      "text/plain": [
       "<rich.jupyter.JupyterRenderable at 0x7f740bf14280>"
      ]
     },
     "metadata": {},
     "output_type": "display_data"
    },
    {
     "data": {
      "text/html": [
       "<pre style=\"white-space:pre;overflow-x:auto;line-height:normal;font-family:Menlo,'DejaVu Sans Mono',consolas,'Courier New',monospace\"><span style=\"color: #7fbfbf\">[17:53:06] </span><span style=\"color: #000080\">INFO</span>     Sending metric for task aggregated_model_validation, round number <span style=\"color: #000080; font-weight: bold\">9</span>: dice_coef  <span style=\"color: #000080; font-weight: bold\">0.47473019169222924</span>                      <a href=\"file:///home/itrushkin/.virtualenvs/openfl_research/lib/python3.8/site-packages/openfl/component/collaborator/collaborator.py\"><span style=\"color: #7f7f7f\">collaborator.py</span></a><span style=\"color: #7f7f7f\">:365</span>\n",
       "</pre>\n"
      ],
      "text/plain": [
       "<rich.jupyter.JupyterRenderable at 0x7f73fb224e20>"
      ]
     },
     "metadata": {},
     "output_type": "display_data"
    },
    {
     "data": {
      "text/html": [
       "<pre style=\"white-space:pre;overflow-x:auto;line-height:normal;font-family:Menlo,'DejaVu Sans Mono',consolas,'Courier New',monospace\"><span style=\"color: #7fbfbf\">           </span><span style=\"color: #000080\">INFO</span>     Collaborator one is sending task results for aggregated_model_validation, round <span style=\"color: #000080; font-weight: bold\">9</span>                                          <a href=\"file:///home/itrushkin/.virtualenvs/openfl_research/lib/python3.8/site-packages/openfl/component/aggregator/aggregator.py\"><span style=\"color: #7f7f7f\">aggregator.py</span></a><span style=\"color: #7f7f7f\">:428</span>\n",
       "</pre>\n"
      ],
      "text/plain": [
       "<rich.jupyter.JupyterRenderable at 0x7f740be5b160>"
      ]
     },
     "metadata": {},
     "output_type": "display_data"
    },
    {
     "data": {
      "text/html": [
       "<pre style=\"white-space:pre;overflow-x:auto;line-height:normal;font-family:Menlo,'DejaVu Sans Mono',consolas,'Courier New',monospace\"><span style=\"color: #7fbfbf\">[17:53:28] </span><span style=\"color: #000080\">INFO</span>     Sending metric for task train, round number <span style=\"color: #000080; font-weight: bold\">9</span>: soft_dice_loss   <span style=\"color: #000080; font-weight: bold\">0.5441964268684387</span>                                       <a href=\"file:///home/itrushkin/.virtualenvs/openfl_research/lib/python3.8/site-packages/openfl/component/collaborator/collaborator.py\"><span style=\"color: #7f7f7f\">collaborator.py</span></a><span style=\"color: #7f7f7f\">:365</span>\n",
       "</pre>\n"
      ],
      "text/plain": [
       "<rich.jupyter.JupyterRenderable at 0x7f740bf15280>"
      ]
     },
     "metadata": {},
     "output_type": "display_data"
    },
    {
     "data": {
      "text/html": [
       "<pre style=\"white-space:pre;overflow-x:auto;line-height:normal;font-family:Menlo,'DejaVu Sans Mono',consolas,'Courier New',monospace\"><span style=\"color: #7fbfbf\">           </span><span style=\"color: #000080\">INFO</span>     Collaborator one is sending task results for train, round <span style=\"color: #000080; font-weight: bold\">9</span>                                                                <a href=\"file:///home/itrushkin/.virtualenvs/openfl_research/lib/python3.8/site-packages/openfl/component/aggregator/aggregator.py\"><span style=\"color: #7f7f7f\">aggregator.py</span></a><span style=\"color: #7f7f7f\">:428</span>\n",
       "</pre>\n"
      ],
      "text/plain": [
       "<rich.jupyter.JupyterRenderable at 0x7f740bd5c940>"
      ]
     },
     "metadata": {},
     "output_type": "display_data"
    },
    {
     "data": {
      "text/html": [
       "<pre style=\"white-space:pre;overflow-x:auto;line-height:normal;font-family:Menlo,'DejaVu Sans Mono',consolas,'Courier New',monospace\"><span style=\"color: #7fbfbf\">[17:53:30] </span><span style=\"color: #000080\">INFO</span>     Sending metric for task locally_tuned_model_validation, round number <span style=\"color: #000080; font-weight: bold\">9</span>: dice_coef       <span style=\"color: #000080; font-weight: bold\">0.49820235467726187</span>              <a href=\"file:///home/itrushkin/.virtualenvs/openfl_research/lib/python3.8/site-packages/openfl/component/collaborator/collaborator.py\"><span style=\"color: #7f7f7f\">collaborator.py</span></a><span style=\"color: #7f7f7f\">:365</span>\n",
       "</pre>\n"
      ],
      "text/plain": [
       "<rich.jupyter.JupyterRenderable at 0x7f740bf76cd0>"
      ]
     },
     "metadata": {},
     "output_type": "display_data"
    },
    {
     "data": {
      "text/html": [
       "<pre style=\"white-space:pre;overflow-x:auto;line-height:normal;font-family:Menlo,'DejaVu Sans Mono',consolas,'Courier New',monospace\"><span style=\"color: #7fbfbf\">           </span><span style=\"color: #000080\">INFO</span>     Collaborator one is sending task results for locally_tuned_model_validation, round <span style=\"color: #000080; font-weight: bold\">9</span>                                       <a href=\"file:///home/itrushkin/.virtualenvs/openfl_research/lib/python3.8/site-packages/openfl/component/aggregator/aggregator.py\"><span style=\"color: #7f7f7f\">aggregator.py</span></a><span style=\"color: #7f7f7f\">:428</span>\n",
       "</pre>\n"
      ],
      "text/plain": [
       "<rich.jupyter.JupyterRenderable at 0x7f740bdac8b0>"
      ]
     },
     "metadata": {},
     "output_type": "display_data"
    },
    {
     "data": {
      "text/html": [
       "<pre style=\"white-space:pre;overflow-x:auto;line-height:normal;font-family:Menlo,'DejaVu Sans Mono',consolas,'Courier New',monospace\"><span style=\"color: #7fbfbf\">           </span><span style=\"color: #000080\">INFO</span>     All tasks completed on one for round <span style=\"color: #000080; font-weight: bold\">9</span><span style=\"color: #808000\">...</span>                                                                                <a href=\"file:///home/itrushkin/.virtualenvs/openfl_research/lib/python3.8/site-packages/openfl/component/collaborator/collaborator.py\"><span style=\"color: #7f7f7f\">collaborator.py</span></a><span style=\"color: #7f7f7f\">:148</span>\n",
       "</pre>\n"
      ],
      "text/plain": [
       "<rich.jupyter.JupyterRenderable at 0x7f740b5375b0>"
      ]
     },
     "metadata": {},
     "output_type": "display_data"
    },
    {
     "data": {
      "text/html": [
       "<pre style=\"white-space:pre;overflow-x:auto;line-height:normal;font-family:Menlo,'DejaVu Sans Mono',consolas,'Courier New',monospace\"><span style=\"color: #7fbfbf\">           </span><span style=\"color: #000080\">INFO</span>     Waiting for tasks<span style=\"color: #808000\">...</span>                                                                                                     <a href=\"file:///home/itrushkin/.virtualenvs/openfl_research/lib/python3.8/site-packages/openfl/component/collaborator/collaborator.py\"><span style=\"color: #7f7f7f\">collaborator.py</span></a><span style=\"color: #7f7f7f\">:156</span>\n",
       "</pre>\n"
      ],
      "text/plain": [
       "<rich.jupyter.JupyterRenderable at 0x7f740bcbb130>"
      ]
     },
     "metadata": {},
     "output_type": "display_data"
    },
    {
     "data": {
      "text/html": [
       "<pre style=\"white-space:pre;overflow-x:auto;line-height:normal;font-family:Menlo,'DejaVu Sans Mono',consolas,'Courier New',monospace\"><span style=\"color: #7fbfbf\">           </span><span style=\"color: #000080\">INFO</span>     Sending tasks to collaborator two for round <span style=\"color: #000080; font-weight: bold\">9</span>                                                                              <a href=\"file:///home/itrushkin/.virtualenvs/openfl_research/lib/python3.8/site-packages/openfl/component/aggregator/aggregator.py\"><span style=\"color: #7f7f7f\">aggregator.py</span></a><span style=\"color: #7f7f7f\">:276</span>\n",
       "</pre>\n"
      ],
      "text/plain": [
       "<rich.jupyter.JupyterRenderable at 0x7f740bcbb730>"
      ]
     },
     "metadata": {},
     "output_type": "display_data"
    },
    {
     "data": {
      "text/html": [
       "<pre style=\"white-space:pre;overflow-x:auto;line-height:normal;font-family:Menlo,'DejaVu Sans Mono',consolas,'Courier New',monospace\"><span style=\"color: #7fbfbf\">           </span><span style=\"color: #000080\">INFO</span>     Received the following tasks: <span style=\"font-weight: bold\">[</span><span style=\"color: #008000\">'aggregated_model_validation'</span>, <span style=\"color: #008000\">'train'</span>, <span style=\"color: #008000\">'locally_tuned_model_validation'</span><span style=\"font-weight: bold\">]</span>                 <a href=\"file:///home/itrushkin/.virtualenvs/openfl_research/lib/python3.8/site-packages/openfl/component/collaborator/collaborator.py\"><span style=\"color: #7f7f7f\">collaborator.py</span></a><span style=\"color: #7f7f7f\">:144</span>\n",
       "</pre>\n"
      ],
      "text/plain": [
       "<rich.jupyter.JupyterRenderable at 0x7f740bcbb730>"
      ]
     },
     "metadata": {},
     "output_type": "display_data"
    },
    {
     "data": {
      "text/html": [
       "<pre style=\"white-space:pre;overflow-x:auto;line-height:normal;font-family:Menlo,'DejaVu Sans Mono',consolas,'Courier New',monospace\"><span style=\"color: #7fbfbf\">[17:53:33] </span><span style=\"color: #000080\">INFO</span>     Sending metric for task aggregated_model_validation, round number <span style=\"color: #000080; font-weight: bold\">9</span>: dice_coef  <span style=\"color: #000080; font-weight: bold\">0.3963722812552606</span>                       <a href=\"file:///home/itrushkin/.virtualenvs/openfl_research/lib/python3.8/site-packages/openfl/component/collaborator/collaborator.py\"><span style=\"color: #7f7f7f\">collaborator.py</span></a><span style=\"color: #7f7f7f\">:365</span>\n",
       "</pre>\n"
      ],
      "text/plain": [
       "<rich.jupyter.JupyterRenderable at 0x7f740bea5670>"
      ]
     },
     "metadata": {},
     "output_type": "display_data"
    },
    {
     "data": {
      "text/html": [
       "<pre style=\"white-space:pre;overflow-x:auto;line-height:normal;font-family:Menlo,'DejaVu Sans Mono',consolas,'Courier New',monospace\"><span style=\"color: #7fbfbf\">           </span><span style=\"color: #000080\">INFO</span>     Collaborator two is sending task results for aggregated_model_validation, round <span style=\"color: #000080; font-weight: bold\">9</span>                                          <a href=\"file:///home/itrushkin/.virtualenvs/openfl_research/lib/python3.8/site-packages/openfl/component/aggregator/aggregator.py\"><span style=\"color: #7f7f7f\">aggregator.py</span></a><span style=\"color: #7f7f7f\">:428</span>\n",
       "</pre>\n"
      ],
      "text/plain": [
       "<rich.jupyter.JupyterRenderable at 0x7f740b4bddc0>"
      ]
     },
     "metadata": {},
     "output_type": "display_data"
    },
    {
     "data": {
      "text/html": [
       "<pre style=\"white-space:pre;overflow-x:auto;line-height:normal;font-family:Menlo,'DejaVu Sans Mono',consolas,'Courier New',monospace\"><span style=\"color: #7fbfbf\">[17:53:55] </span><span style=\"color: #000080\">INFO</span>     Sending metric for task train, round number <span style=\"color: #000080; font-weight: bold\">9</span>: soft_dice_loss   <span style=\"color: #000080; font-weight: bold\">0.5431901216506958</span>                                       <a href=\"file:///home/itrushkin/.virtualenvs/openfl_research/lib/python3.8/site-packages/openfl/component/collaborator/collaborator.py\"><span style=\"color: #7f7f7f\">collaborator.py</span></a><span style=\"color: #7f7f7f\">:365</span>\n",
       "</pre>\n"
      ],
      "text/plain": [
       "<rich.jupyter.JupyterRenderable at 0x7f740bf14c10>"
      ]
     },
     "metadata": {},
     "output_type": "display_data"
    },
    {
     "data": {
      "text/html": [
       "<pre style=\"white-space:pre;overflow-x:auto;line-height:normal;font-family:Menlo,'DejaVu Sans Mono',consolas,'Courier New',monospace\"><span style=\"color: #7fbfbf\">           </span><span style=\"color: #000080\">INFO</span>     Collaborator two is sending task results for train, round <span style=\"color: #000080; font-weight: bold\">9</span>                                                                <a href=\"file:///home/itrushkin/.virtualenvs/openfl_research/lib/python3.8/site-packages/openfl/component/aggregator/aggregator.py\"><span style=\"color: #7f7f7f\">aggregator.py</span></a><span style=\"color: #7f7f7f\">:428</span>\n",
       "</pre>\n"
      ],
      "text/plain": [
       "<rich.jupyter.JupyterRenderable at 0x7f748dc85100>"
      ]
     },
     "metadata": {},
     "output_type": "display_data"
    },
    {
     "data": {
      "text/html": [
       "<pre style=\"white-space:pre;overflow-x:auto;line-height:normal;font-family:Menlo,'DejaVu Sans Mono',consolas,'Courier New',monospace\"><span style=\"color: #7fbfbf\">[17:53:58] </span><span style=\"color: #000080\">INFO</span>     Sending metric for task locally_tuned_model_validation, round number <span style=\"color: #000080; font-weight: bold\">9</span>: dice_coef       <span style=\"color: #000080; font-weight: bold\">0.4178659223741101</span>               <a href=\"file:///home/itrushkin/.virtualenvs/openfl_research/lib/python3.8/site-packages/openfl/component/collaborator/collaborator.py\"><span style=\"color: #7f7f7f\">collaborator.py</span></a><span style=\"color: #7f7f7f\">:365</span>\n",
       "</pre>\n"
      ],
      "text/plain": [
       "<rich.jupyter.JupyterRenderable at 0x7f740ad61d30>"
      ]
     },
     "metadata": {},
     "output_type": "display_data"
    },
    {
     "data": {
      "text/html": [
       "<pre style=\"white-space:pre;overflow-x:auto;line-height:normal;font-family:Menlo,'DejaVu Sans Mono',consolas,'Courier New',monospace\"><span style=\"color: #7fbfbf\">           </span><span style=\"color: #000080\">INFO</span>     Collaborator two is sending task results for locally_tuned_model_validation, round <span style=\"color: #000080; font-weight: bold\">9</span>                                       <a href=\"file:///home/itrushkin/.virtualenvs/openfl_research/lib/python3.8/site-packages/openfl/component/aggregator/aggregator.py\"><span style=\"color: #7f7f7f\">aggregator.py</span></a><span style=\"color: #7f7f7f\">:428</span>\n",
       "</pre>\n"
      ],
      "text/plain": [
       "<rich.jupyter.JupyterRenderable at 0x7f740bee4a30>"
      ]
     },
     "metadata": {},
     "output_type": "display_data"
    },
    {
     "data": {
      "text/html": [
       "<pre style=\"white-space:pre;overflow-x:auto;line-height:normal;font-family:Menlo,'DejaVu Sans Mono',consolas,'Courier New',monospace\"><span style=\"color: #7fbfbf\">           </span><span style=\"color: #000080\">INFO</span>     train task metrics<span style=\"color: #808000\">...</span>                                                                                                      <a href=\"file:///home/itrushkin/.virtualenvs/openfl_research/lib/python3.8/site-packages/openfl/component/aggregator/aggregator.py\"><span style=\"color: #7f7f7f\">aggregator.py</span></a><span style=\"color: #7f7f7f\">:694</span>\n",
       "</pre>\n"
      ],
      "text/plain": [
       "<rich.jupyter.JupyterRenderable at 0x7f740bdc6040>"
      ]
     },
     "metadata": {},
     "output_type": "display_data"
    },
    {
     "data": {
      "text/html": [
       "<pre style=\"white-space:pre;overflow-x:auto;line-height:normal;font-family:Menlo,'DejaVu Sans Mono',consolas,'Courier New',monospace\"><span style=\"color: #7fbfbf\">           </span><span style=\"color: #000080\">INFO</span>     soft_dice_loss: <span style=\"color: #000080; font-weight: bold\">0.5437</span>                                                                                                     <a href=\"file:///home/itrushkin/.virtualenvs/openfl_research/lib/python3.8/site-packages/openfl/component/aggregator/aggregator.py\"><span style=\"color: #7f7f7f\">aggregator.py</span></a><span style=\"color: #7f7f7f\">:742</span>\n",
       "</pre>\n"
      ],
      "text/plain": [
       "<rich.jupyter.JupyterRenderable at 0x7f740ad61550>"
      ]
     },
     "metadata": {},
     "output_type": "display_data"
    },
    {
     "data": {
      "text/html": [
       "<pre style=\"white-space:pre;overflow-x:auto;line-height:normal;font-family:Menlo,'DejaVu Sans Mono',consolas,'Courier New',monospace\"><span style=\"color: #7fbfbf\">[17:54:04] </span><span style=\"color: #000080\">INFO</span>     locally_tuned_model_validation task metrics<span style=\"color: #808000\">...</span>                                                                             <a href=\"file:///home/itrushkin/.virtualenvs/openfl_research/lib/python3.8/site-packages/openfl/component/aggregator/aggregator.py\"><span style=\"color: #7f7f7f\">aggregator.py</span></a><span style=\"color: #7f7f7f\">:694</span>\n",
       "</pre>\n"
      ],
      "text/plain": [
       "<rich.jupyter.JupyterRenderable at 0x7f740acbfe20>"
      ]
     },
     "metadata": {},
     "output_type": "display_data"
    },
    {
     "data": {
      "text/html": [
       "<pre style=\"white-space:pre;overflow-x:auto;line-height:normal;font-family:Menlo,'DejaVu Sans Mono',consolas,'Courier New',monospace\"><span style=\"color: #7fbfbf\">           </span><span style=\"color: #000080\">INFO</span>     dice_coef:      <span style=\"color: #000080; font-weight: bold\">0.4580</span>                                                                                                     <a href=\"file:///home/itrushkin/.virtualenvs/openfl_research/lib/python3.8/site-packages/openfl/component/aggregator/aggregator.py\"><span style=\"color: #7f7f7f\">aggregator.py</span></a><span style=\"color: #7f7f7f\">:742</span>\n",
       "</pre>\n"
      ],
      "text/plain": [
       "<rich.jupyter.JupyterRenderable at 0x7f740bef3eb0>"
      ]
     },
     "metadata": {},
     "output_type": "display_data"
    },
    {
     "data": {
      "text/html": [
       "<pre style=\"white-space:pre;overflow-x:auto;line-height:normal;font-family:Menlo,'DejaVu Sans Mono',consolas,'Courier New',monospace\"><span style=\"color: #7fbfbf\">           </span><span style=\"color: #000080\">INFO</span>     aggregated_model_validation task metrics<span style=\"color: #808000\">...</span>                                                                                <a href=\"file:///home/itrushkin/.virtualenvs/openfl_research/lib/python3.8/site-packages/openfl/component/aggregator/aggregator.py\"><span style=\"color: #7f7f7f\">aggregator.py</span></a><span style=\"color: #7f7f7f\">:694</span>\n",
       "</pre>\n"
      ],
      "text/plain": [
       "<rich.jupyter.JupyterRenderable at 0x7f740b501040>"
      ]
     },
     "metadata": {},
     "output_type": "display_data"
    },
    {
     "data": {
      "text/html": [
       "<pre style=\"white-space:pre;overflow-x:auto;line-height:normal;font-family:Menlo,'DejaVu Sans Mono',consolas,'Courier New',monospace\"><span style=\"color: #7fbfbf\">           </span><span style=\"color: #000080\">INFO</span>     dice_coef:      <span style=\"color: #000080; font-weight: bold\">0.4356</span>                                                                                                     <a href=\"file:///home/itrushkin/.virtualenvs/openfl_research/lib/python3.8/site-packages/openfl/component/aggregator/aggregator.py\"><span style=\"color: #7f7f7f\">aggregator.py</span></a><span style=\"color: #7f7f7f\">:742</span>\n",
       "</pre>\n"
      ],
      "text/plain": [
       "<rich.jupyter.JupyterRenderable at 0x7f740bef3a30>"
      ]
     },
     "metadata": {},
     "output_type": "display_data"
    },
    {
     "data": {
      "text/html": [
       "<pre style=\"white-space:pre;overflow-x:auto;line-height:normal;font-family:Menlo,'DejaVu Sans Mono',consolas,'Courier New',monospace\"><span style=\"color: #7fbfbf\">           </span><span style=\"color: #000080\">INFO</span>     Saving round <span style=\"color: #000080; font-weight: bold\">10</span> model<span style=\"color: #808000\">...</span>                                                                                                   <a href=\"file:///home/itrushkin/.virtualenvs/openfl_research/lib/python3.8/site-packages/openfl/component/aggregator/aggregator.py\"><span style=\"color: #7f7f7f\">aggregator.py</span></a><span style=\"color: #7f7f7f\">:783</span>\n",
       "</pre>\n"
      ],
      "text/plain": [
       "<rich.jupyter.JupyterRenderable at 0x7f740bef3c70>"
      ]
     },
     "metadata": {},
     "output_type": "display_data"
    },
    {
     "data": {
      "text/html": [
       "<pre style=\"white-space:pre;overflow-x:auto;line-height:normal;font-family:Menlo,'DejaVu Sans Mono',consolas,'Courier New',monospace\"><span style=\"color: #7fbfbf\">           </span><span style=\"color: #000080\">INFO</span>     Starting round <span style=\"color: #000080; font-weight: bold\">10</span><span style=\"color: #808000\">...</span>                                                                                                       <a href=\"file:///home/itrushkin/.virtualenvs/openfl_research/lib/python3.8/site-packages/openfl/component/aggregator/aggregator.py\"><span style=\"color: #7f7f7f\">aggregator.py</span></a><span style=\"color: #7f7f7f\">:791</span>\n",
       "</pre>\n"
      ],
      "text/plain": [
       "<rich.jupyter.JupyterRenderable at 0x7f740bea5670>"
      ]
     },
     "metadata": {},
     "output_type": "display_data"
    },
    {
     "data": {
      "text/html": [
       "<pre style=\"white-space:pre;overflow-x:auto;line-height:normal;font-family:Menlo,'DejaVu Sans Mono',consolas,'Courier New',monospace\"><span style=\"color: #7fbfbf\">           </span><span style=\"color: #000080\">INFO</span>     All tasks completed on two for round <span style=\"color: #000080; font-weight: bold\">9</span><span style=\"color: #808000\">...</span>                                                                                <a href=\"file:///home/itrushkin/.virtualenvs/openfl_research/lib/python3.8/site-packages/openfl/component/collaborator/collaborator.py\"><span style=\"color: #7f7f7f\">collaborator.py</span></a><span style=\"color: #7f7f7f\">:148</span>\n",
       "</pre>\n"
      ],
      "text/plain": [
       "<rich.jupyter.JupyterRenderable at 0x7f740bea26d0>"
      ]
     },
     "metadata": {},
     "output_type": "display_data"
    },
    {
     "data": {
      "text/html": [
       "<pre style=\"white-space:pre;overflow-x:auto;line-height:normal;font-family:Menlo,'DejaVu Sans Mono',consolas,'Courier New',monospace\"><span style=\"color: #7fbfbf\">           </span><span style=\"color: #000080\">INFO</span>     Waiting for tasks<span style=\"color: #808000\">...</span>                                                                                                     <a href=\"file:///home/itrushkin/.virtualenvs/openfl_research/lib/python3.8/site-packages/openfl/component/collaborator/collaborator.py\"><span style=\"color: #7f7f7f\">collaborator.py</span></a><span style=\"color: #7f7f7f\">:156</span>\n",
       "</pre>\n"
      ],
      "text/plain": [
       "<rich.jupyter.JupyterRenderable at 0x7f740bea26d0>"
      ]
     },
     "metadata": {},
     "output_type": "display_data"
    },
    {
     "data": {
      "text/html": [
       "<pre style=\"white-space:pre;overflow-x:auto;line-height:normal;font-family:Menlo,'DejaVu Sans Mono',consolas,'Courier New',monospace\"><span style=\"color: #7fbfbf\">           </span><span style=\"color: #000080\">INFO</span>     Sending tasks to collaborator one for round <span style=\"color: #000080; font-weight: bold\">10</span>                                                                             <a href=\"file:///home/itrushkin/.virtualenvs/openfl_research/lib/python3.8/site-packages/openfl/component/aggregator/aggregator.py\"><span style=\"color: #7f7f7f\">aggregator.py</span></a><span style=\"color: #7f7f7f\">:276</span>\n",
       "</pre>\n"
      ],
      "text/plain": [
       "<rich.jupyter.JupyterRenderable at 0x7f740be4c4c0>"
      ]
     },
     "metadata": {},
     "output_type": "display_data"
    },
    {
     "data": {
      "text/html": [
       "<pre style=\"white-space:pre;overflow-x:auto;line-height:normal;font-family:Menlo,'DejaVu Sans Mono',consolas,'Courier New',monospace\"><span style=\"color: #7fbfbf\">           </span><span style=\"color: #000080\">INFO</span>     Received the following tasks: <span style=\"font-weight: bold\">[</span><span style=\"color: #008000\">'aggregated_model_validation'</span>, <span style=\"color: #008000\">'train'</span>, <span style=\"color: #008000\">'locally_tuned_model_validation'</span><span style=\"font-weight: bold\">]</span>                 <a href=\"file:///home/itrushkin/.virtualenvs/openfl_research/lib/python3.8/site-packages/openfl/component/collaborator/collaborator.py\"><span style=\"color: #7f7f7f\">collaborator.py</span></a><span style=\"color: #7f7f7f\">:144</span>\n",
       "</pre>\n"
      ],
      "text/plain": [
       "<rich.jupyter.JupyterRenderable at 0x7f740bf14c10>"
      ]
     },
     "metadata": {},
     "output_type": "display_data"
    },
    {
     "data": {
      "text/html": [
       "<pre style=\"white-space:pre;overflow-x:auto;line-height:normal;font-family:Menlo,'DejaVu Sans Mono',consolas,'Courier New',monospace\"><span style=\"color: #7fbfbf\">[17:54:07] </span><span style=\"color: #000080\">INFO</span>     Sending metric for task aggregated_model_validation, round number <span style=\"color: #000080; font-weight: bold\">10</span>: dice_coef <span style=\"color: #000080; font-weight: bold\">0.49992890127243533</span>                      <a href=\"file:///home/itrushkin/.virtualenvs/openfl_research/lib/python3.8/site-packages/openfl/component/collaborator/collaborator.py\"><span style=\"color: #7f7f7f\">collaborator.py</span></a><span style=\"color: #7f7f7f\">:365</span>\n",
       "</pre>\n"
      ],
      "text/plain": [
       "<rich.jupyter.JupyterRenderable at 0x7f740bcbbbb0>"
      ]
     },
     "metadata": {},
     "output_type": "display_data"
    },
    {
     "data": {
      "text/html": [
       "<pre style=\"white-space:pre;overflow-x:auto;line-height:normal;font-family:Menlo,'DejaVu Sans Mono',consolas,'Courier New',monospace\"><span style=\"color: #7fbfbf\">           </span><span style=\"color: #000080\">INFO</span>     Collaborator one is sending task results for aggregated_model_validation, round <span style=\"color: #000080; font-weight: bold\">10</span>                                         <a href=\"file:///home/itrushkin/.virtualenvs/openfl_research/lib/python3.8/site-packages/openfl/component/aggregator/aggregator.py\"><span style=\"color: #7f7f7f\">aggregator.py</span></a><span style=\"color: #7f7f7f\">:428</span>\n",
       "</pre>\n"
      ],
      "text/plain": [
       "<rich.jupyter.JupyterRenderable at 0x7f740be87730>"
      ]
     },
     "metadata": {},
     "output_type": "display_data"
    },
    {
     "data": {
      "text/html": [
       "<pre style=\"white-space:pre;overflow-x:auto;line-height:normal;font-family:Menlo,'DejaVu Sans Mono',consolas,'Courier New',monospace\"><span style=\"color: #7fbfbf\">[17:54:29] </span><span style=\"color: #000080\">INFO</span>     Sending metric for task train, round number <span style=\"color: #000080; font-weight: bold\">10</span>: soft_dice_loss  <span style=\"color: #000080; font-weight: bold\">0.5380003452301025</span>                                       <a href=\"file:///home/itrushkin/.virtualenvs/openfl_research/lib/python3.8/site-packages/openfl/component/collaborator/collaborator.py\"><span style=\"color: #7f7f7f\">collaborator.py</span></a><span style=\"color: #7f7f7f\">:365</span>\n",
       "</pre>\n"
      ],
      "text/plain": [
       "<rich.jupyter.JupyterRenderable at 0x7f740be87d30>"
      ]
     },
     "metadata": {},
     "output_type": "display_data"
    },
    {
     "data": {
      "text/html": [
       "<pre style=\"white-space:pre;overflow-x:auto;line-height:normal;font-family:Menlo,'DejaVu Sans Mono',consolas,'Courier New',monospace\"><span style=\"color: #7fbfbf\">           </span><span style=\"color: #000080\">INFO</span>     Collaborator one is sending task results for train, round <span style=\"color: #000080; font-weight: bold\">10</span>                                                               <a href=\"file:///home/itrushkin/.virtualenvs/openfl_research/lib/python3.8/site-packages/openfl/component/aggregator/aggregator.py\"><span style=\"color: #7f7f7f\">aggregator.py</span></a><span style=\"color: #7f7f7f\">:428</span>\n",
       "</pre>\n"
      ],
      "text/plain": [
       "<rich.jupyter.JupyterRenderable at 0x7f740bea9bb0>"
      ]
     },
     "metadata": {},
     "output_type": "display_data"
    },
    {
     "data": {
      "text/html": [
       "<pre style=\"white-space:pre;overflow-x:auto;line-height:normal;font-family:Menlo,'DejaVu Sans Mono',consolas,'Courier New',monospace\"><span style=\"color: #7fbfbf\">[17:54:32] </span><span style=\"color: #000080\">INFO</span>     Sending metric for task locally_tuned_model_validation, round number <span style=\"color: #000080; font-weight: bold\">10</span>: dice_coef      <span style=\"color: #000080; font-weight: bold\">0.46978584989424677</span>              <a href=\"file:///home/itrushkin/.virtualenvs/openfl_research/lib/python3.8/site-packages/openfl/component/collaborator/collaborator.py\"><span style=\"color: #7f7f7f\">collaborator.py</span></a><span style=\"color: #7f7f7f\">:365</span>\n",
       "</pre>\n"
      ],
      "text/plain": [
       "<rich.jupyter.JupyterRenderable at 0x7f740bf62070>"
      ]
     },
     "metadata": {},
     "output_type": "display_data"
    },
    {
     "data": {
      "text/html": [
       "<pre style=\"white-space:pre;overflow-x:auto;line-height:normal;font-family:Menlo,'DejaVu Sans Mono',consolas,'Courier New',monospace\"><span style=\"color: #7fbfbf\">           </span><span style=\"color: #000080\">INFO</span>     Collaborator one is sending task results for locally_tuned_model_validation, round <span style=\"color: #000080; font-weight: bold\">10</span>                                      <a href=\"file:///home/itrushkin/.virtualenvs/openfl_research/lib/python3.8/site-packages/openfl/component/aggregator/aggregator.py\"><span style=\"color: #7f7f7f\">aggregator.py</span></a><span style=\"color: #7f7f7f\">:428</span>\n",
       "</pre>\n"
      ],
      "text/plain": [
       "<rich.jupyter.JupyterRenderable at 0x7f740bee4ee0>"
      ]
     },
     "metadata": {},
     "output_type": "display_data"
    },
    {
     "data": {
      "text/html": [
       "<pre style=\"white-space:pre;overflow-x:auto;line-height:normal;font-family:Menlo,'DejaVu Sans Mono',consolas,'Courier New',monospace\"><span style=\"color: #7fbfbf\">           </span><span style=\"color: #000080\">INFO</span>     All tasks completed on one for round <span style=\"color: #000080; font-weight: bold\">10</span><span style=\"color: #808000\">...</span>                                                                               <a href=\"file:///home/itrushkin/.virtualenvs/openfl_research/lib/python3.8/site-packages/openfl/component/collaborator/collaborator.py\"><span style=\"color: #7f7f7f\">collaborator.py</span></a><span style=\"color: #7f7f7f\">:148</span>\n",
       "</pre>\n"
      ],
      "text/plain": [
       "<rich.jupyter.JupyterRenderable at 0x7f740bee4250>"
      ]
     },
     "metadata": {},
     "output_type": "display_data"
    },
    {
     "data": {
      "text/html": [
       "<pre style=\"white-space:pre;overflow-x:auto;line-height:normal;font-family:Menlo,'DejaVu Sans Mono',consolas,'Courier New',monospace\"><span style=\"color: #7fbfbf\">           </span><span style=\"color: #000080\">INFO</span>     Waiting for tasks<span style=\"color: #808000\">...</span>                                                                                                     <a href=\"file:///home/itrushkin/.virtualenvs/openfl_research/lib/python3.8/site-packages/openfl/component/collaborator/collaborator.py\"><span style=\"color: #7f7f7f\">collaborator.py</span></a><span style=\"color: #7f7f7f\">:156</span>\n",
       "</pre>\n"
      ],
      "text/plain": [
       "<rich.jupyter.JupyterRenderable at 0x7f740bee4580>"
      ]
     },
     "metadata": {},
     "output_type": "display_data"
    },
    {
     "data": {
      "text/html": [
       "<pre style=\"white-space:pre;overflow-x:auto;line-height:normal;font-family:Menlo,'DejaVu Sans Mono',consolas,'Courier New',monospace\"><span style=\"color: #7fbfbf\">           </span><span style=\"color: #000080\">INFO</span>     Sending tasks to collaborator two for round <span style=\"color: #000080; font-weight: bold\">10</span>                                                                             <a href=\"file:///home/itrushkin/.virtualenvs/openfl_research/lib/python3.8/site-packages/openfl/component/aggregator/aggregator.py\"><span style=\"color: #7f7f7f\">aggregator.py</span></a><span style=\"color: #7f7f7f\">:276</span>\n",
       "</pre>\n"
      ],
      "text/plain": [
       "<rich.jupyter.JupyterRenderable at 0x7f740bee4a30>"
      ]
     },
     "metadata": {},
     "output_type": "display_data"
    },
    {
     "data": {
      "text/html": [
       "<pre style=\"white-space:pre;overflow-x:auto;line-height:normal;font-family:Menlo,'DejaVu Sans Mono',consolas,'Courier New',monospace\"><span style=\"color: #7fbfbf\">           </span><span style=\"color: #000080\">INFO</span>     Received the following tasks: <span style=\"font-weight: bold\">[</span><span style=\"color: #008000\">'aggregated_model_validation'</span>, <span style=\"color: #008000\">'train'</span>, <span style=\"color: #008000\">'locally_tuned_model_validation'</span><span style=\"font-weight: bold\">]</span>                 <a href=\"file:///home/itrushkin/.virtualenvs/openfl_research/lib/python3.8/site-packages/openfl/component/collaborator/collaborator.py\"><span style=\"color: #7f7f7f\">collaborator.py</span></a><span style=\"color: #7f7f7f\">:144</span>\n",
       "</pre>\n"
      ],
      "text/plain": [
       "<rich.jupyter.JupyterRenderable at 0x7f740bf62490>"
      ]
     },
     "metadata": {},
     "output_type": "display_data"
    },
    {
     "data": {
      "text/html": [
       "<pre style=\"white-space:pre;overflow-x:auto;line-height:normal;font-family:Menlo,'DejaVu Sans Mono',consolas,'Courier New',monospace\"><span style=\"color: #7fbfbf\">[17:54:35] </span><span style=\"color: #000080\">INFO</span>     Sending metric for task aggregated_model_validation, round number <span style=\"color: #000080; font-weight: bold\">10</span>: dice_coef <span style=\"color: #000080; font-weight: bold\">0.42785738312428995</span>                      <a href=\"file:///home/itrushkin/.virtualenvs/openfl_research/lib/python3.8/site-packages/openfl/component/collaborator/collaborator.py\"><span style=\"color: #7f7f7f\">collaborator.py</span></a><span style=\"color: #7f7f7f\">:365</span>\n",
       "</pre>\n"
      ],
      "text/plain": [
       "<rich.jupyter.JupyterRenderable at 0x7f740bf76340>"
      ]
     },
     "metadata": {},
     "output_type": "display_data"
    },
    {
     "data": {
      "text/html": [
       "<pre style=\"white-space:pre;overflow-x:auto;line-height:normal;font-family:Menlo,'DejaVu Sans Mono',consolas,'Courier New',monospace\"><span style=\"color: #7fbfbf\">           </span><span style=\"color: #000080\">INFO</span>     Collaborator two is sending task results for aggregated_model_validation, round <span style=\"color: #000080; font-weight: bold\">10</span>                                         <a href=\"file:///home/itrushkin/.virtualenvs/openfl_research/lib/python3.8/site-packages/openfl/component/aggregator/aggregator.py\"><span style=\"color: #7f7f7f\">aggregator.py</span></a><span style=\"color: #7f7f7f\">:428</span>\n",
       "</pre>\n"
      ],
      "text/plain": [
       "<rich.jupyter.JupyterRenderable at 0x7f740acbffd0>"
      ]
     },
     "metadata": {},
     "output_type": "display_data"
    },
    {
     "ename": "KeyboardInterrupt",
     "evalue": "",
     "output_type": "error",
     "traceback": [
      "\u001b[0;31m---------------------------------------------------------------------------\u001b[0m",
      "\u001b[0;31mKeyboardInterrupt\u001b[0m                         Traceback (most recent call last)",
      "\u001b[0;32m<ipython-input-13-92562d71b5a6>\u001b[0m in \u001b[0;36m<module>\u001b[0;34m\u001b[0m\n\u001b[1;32m      1\u001b[0m \u001b[0;31m# Run experiment, return trained FederatedModel\u001b[0m\u001b[0;34m\u001b[0m\u001b[0;34m\u001b[0m\u001b[0;34m\u001b[0m\u001b[0m\n\u001b[0;32m----> 2\u001b[0;31m final_fl_model = fx.run_experiment(\n\u001b[0m\u001b[1;32m      3\u001b[0m     collaborators, override_config={'aggregator.settings.rounds_to_train': 30})\n",
      "\u001b[0;32m~/.virtualenvs/openfl_research/lib/python3.8/site-packages/openfl/native/native.py\u001b[0m in \u001b[0;36mrun_experiment\u001b[0;34m(collaborator_dict, override_config)\u001b[0m\n\u001b[1;32m    262\u001b[0m             \u001b[0mcollaborator\u001b[0m \u001b[0;34m=\u001b[0m \u001b[0mcollaborators\u001b[0m\u001b[0;34m[\u001b[0m\u001b[0mcol\u001b[0m\u001b[0;34m]\u001b[0m\u001b[0;34m\u001b[0m\u001b[0;34m\u001b[0m\u001b[0m\n\u001b[1;32m    263\u001b[0m \u001b[0;34m\u001b[0m\u001b[0m\n\u001b[0;32m--> 264\u001b[0;31m             \u001b[0mcollaborator\u001b[0m\u001b[0;34m.\u001b[0m\u001b[0mrun_simulation\u001b[0m\u001b[0;34m(\u001b[0m\u001b[0;34m)\u001b[0m\u001b[0;34m\u001b[0m\u001b[0;34m\u001b[0m\u001b[0m\n\u001b[0m\u001b[1;32m    265\u001b[0m             \u001b[0mmodel_states\u001b[0m\u001b[0;34m[\u001b[0m\u001b[0mcol\u001b[0m\u001b[0;34m]\u001b[0m \u001b[0;34m=\u001b[0m \u001b[0mcollaborator\u001b[0m\u001b[0;34m.\u001b[0m\u001b[0mtask_runner\u001b[0m\u001b[0;34m.\u001b[0m\u001b[0mget_tensor_dict\u001b[0m\u001b[0;34m(\u001b[0m\u001b[0mwith_opt_vars\u001b[0m\u001b[0;34m=\u001b[0m\u001b[0;32mTrue\u001b[0m\u001b[0;34m)\u001b[0m\u001b[0;34m\u001b[0m\u001b[0;34m\u001b[0m\u001b[0m\n\u001b[1;32m    266\u001b[0m \u001b[0;34m\u001b[0m\u001b[0m\n",
      "\u001b[0;32m~/.virtualenvs/openfl_research/lib/python3.8/site-packages/openfl/component/collaborator/collaborator.py\u001b[0m in \u001b[0;36mrun_simulation\u001b[0;34m(self)\u001b[0m\n\u001b[1;32m    145\u001b[0m                     'Received the following tasks: {}'.format(tasks))\n\u001b[1;32m    146\u001b[0m                 \u001b[0;32mfor\u001b[0m \u001b[0mtask\u001b[0m \u001b[0;32min\u001b[0m \u001b[0mtasks\u001b[0m\u001b[0;34m:\u001b[0m\u001b[0;34m\u001b[0m\u001b[0;34m\u001b[0m\u001b[0m\n\u001b[0;32m--> 147\u001b[0;31m                     \u001b[0mself\u001b[0m\u001b[0;34m.\u001b[0m\u001b[0mdo_task\u001b[0m\u001b[0;34m(\u001b[0m\u001b[0mtask\u001b[0m\u001b[0;34m,\u001b[0m \u001b[0mround_number\u001b[0m\u001b[0;34m)\u001b[0m\u001b[0;34m\u001b[0m\u001b[0;34m\u001b[0m\u001b[0m\n\u001b[0m\u001b[1;32m    148\u001b[0m                 self.logger.info(\n\u001b[1;32m    149\u001b[0m                     'All tasks completed on {} for round {}...'.format(\n",
      "\u001b[0;32m~/.virtualenvs/openfl_research/lib/python3.8/site-packages/openfl/component/collaborator/collaborator.py\u001b[0m in \u001b[0;36mdo_task\u001b[0;34m(self, task, round_number)\u001b[0m\n\u001b[1;32m    196\u001b[0m         \u001b[0;31m# now we have whatever the model needs to do the task\u001b[0m\u001b[0;34m\u001b[0m\u001b[0;34m\u001b[0m\u001b[0;34m\u001b[0m\u001b[0m\n\u001b[1;32m    197\u001b[0m         \u001b[0mfunc\u001b[0m \u001b[0;34m=\u001b[0m \u001b[0mgetattr\u001b[0m\u001b[0;34m(\u001b[0m\u001b[0mself\u001b[0m\u001b[0;34m.\u001b[0m\u001b[0mtask_runner\u001b[0m\u001b[0;34m,\u001b[0m \u001b[0mfunc_name\u001b[0m\u001b[0;34m)\u001b[0m\u001b[0;34m\u001b[0m\u001b[0;34m\u001b[0m\u001b[0m\n\u001b[0;32m--> 198\u001b[0;31m         global_output_tensor_dict, local_output_tensor_dict = func(\n\u001b[0m\u001b[1;32m    199\u001b[0m             \u001b[0mcol_name\u001b[0m\u001b[0;34m=\u001b[0m\u001b[0mself\u001b[0m\u001b[0;34m.\u001b[0m\u001b[0mcollaborator_name\u001b[0m\u001b[0;34m,\u001b[0m\u001b[0;34m\u001b[0m\u001b[0;34m\u001b[0m\u001b[0m\n\u001b[1;32m    200\u001b[0m             \u001b[0mround_num\u001b[0m\u001b[0;34m=\u001b[0m\u001b[0mround_number\u001b[0m\u001b[0;34m,\u001b[0m\u001b[0;34m\u001b[0m\u001b[0;34m\u001b[0m\u001b[0m\n",
      "\u001b[0;32m~/.virtualenvs/openfl_research/lib/python3.8/site-packages/openfl/federated/task/runner_pt.py\u001b[0m in \u001b[0;36mtrain_batches\u001b[0;34m(self, col_name, round_num, input_tensor_dict, num_batches, use_tqdm, **kwargs)\u001b[0m\n\u001b[1;32m    159\u001b[0m             \u001b[0mloss\u001b[0m\u001b[0;34m.\u001b[0m\u001b[0mbackward\u001b[0m\u001b[0;34m(\u001b[0m\u001b[0;34m)\u001b[0m\u001b[0;34m\u001b[0m\u001b[0;34m\u001b[0m\u001b[0m\n\u001b[1;32m    160\u001b[0m             \u001b[0mself\u001b[0m\u001b[0;34m.\u001b[0m\u001b[0moptimizer\u001b[0m\u001b[0;34m.\u001b[0m\u001b[0mstep\u001b[0m\u001b[0;34m(\u001b[0m\u001b[0;34m)\u001b[0m\u001b[0;34m\u001b[0m\u001b[0;34m\u001b[0m\u001b[0m\n\u001b[0;32m--> 161\u001b[0;31m             \u001b[0mlosses\u001b[0m\u001b[0;34m.\u001b[0m\u001b[0mappend\u001b[0m\u001b[0;34m(\u001b[0m\u001b[0mloss\u001b[0m\u001b[0;34m.\u001b[0m\u001b[0mdetach\u001b[0m\u001b[0;34m(\u001b[0m\u001b[0;34m)\u001b[0m\u001b[0;34m.\u001b[0m\u001b[0mcpu\u001b[0m\u001b[0;34m(\u001b[0m\u001b[0;34m)\u001b[0m\u001b[0;34m.\u001b[0m\u001b[0mnumpy\u001b[0m\u001b[0;34m(\u001b[0m\u001b[0;34m)\u001b[0m\u001b[0;34m)\u001b[0m\u001b[0;34m\u001b[0m\u001b[0;34m\u001b[0m\u001b[0m\n\u001b[0m\u001b[1;32m    162\u001b[0m \u001b[0;34m\u001b[0m\u001b[0m\n\u001b[1;32m    163\u001b[0m         \u001b[0;31m# Output metric tensors (scalar)\u001b[0m\u001b[0;34m\u001b[0m\u001b[0;34m\u001b[0m\u001b[0;34m\u001b[0m\u001b[0m\n",
      "\u001b[0;31mKeyboardInterrupt\u001b[0m: "
     ]
    }
   ],
   "source": [
    "# Run experiment, return trained FederatedModel\n",
    "final_fl_model = fx.run_experiment(\n",
    "    collaborators, override_config={'aggregator.settings.rounds_to_train': 30})"
   ]
  },
  {
   "cell_type": "code",
   "execution_count": null,
   "metadata": {},
   "outputs": [],
   "source": [
    "# Save final model\n",
    "final_fl_model.save_native('final_pytorch_model')"
   ]
  },
  {
   "cell_type": "markdown",
   "metadata": {},
   "source": [
    "Let's visually evaluate the results"
   ]
  },
  {
   "cell_type": "code",
   "execution_count": null,
   "metadata": {
    "scrolled": false
   },
   "outputs": [],
   "source": [
    "collaborator = collaborator_models[0]\n",
    "loader = collaborator.runner.data_loader.get_valid_loader()\n",
    "model = final_fl_model.model\n",
    "model.eval()\n",
    "device = final_fl_model.runner.device\n",
    "model.to(device)\n",
    "with torch.no_grad():\n",
    "    for batch, _ in zip(loader, range(5)):\n",
    "        preds = model(batch[0].to(device))\n",
    "        for image, pred, target in zip(batch[0], preds, batch[1]):\n",
    "            plt.figure(figsize=(10, 10))\n",
    "            plt.subplot(131)\n",
    "            plt.imshow(image.permute(1, 2, 0).data.cpu().numpy() * 0.5 + 0.5)\n",
    "            plt.title(\"img\")\n",
    "            plt.subplot(132)\n",
    "            plt.imshow(pred[0].data.cpu().numpy())\n",
    "            plt.title(\"pred\")\n",
    "            plt.subplot(133)\n",
    "            plt.imshow(target[0].data.cpu().numpy())\n",
    "            plt.title(\"targ\")\n",
    "            plt.show()"
   ]
  },
  {
   "cell_type": "code",
   "execution_count": null,
   "metadata": {},
   "outputs": [],
   "source": []
  }
 ],
 "metadata": {
  "kernelspec": {
   "display_name": "Python 3",
   "language": "python",
   "name": "python3"
  },
  "language_info": {
   "codemirror_mode": {
    "name": "ipython",
    "version": 3
   },
   "file_extension": ".py",
   "mimetype": "text/x-python",
   "name": "python",
   "nbconvert_exporter": "python",
   "pygments_lexer": "ipython3",
   "version": "3.6.9"
  }
 },
 "nbformat": 4,
 "nbformat_minor": 4
}
